{
  "cells": [
    {
      "cell_type": "code",
      "execution_count": 1,
      "metadata": {
        "id": "H9tOk7Iwq0GA",
        "outputId": "bcbbdf00-b4d8-403c-a6c8-bdaef262b65f",
        "colab": {
          "base_uri": "https://localhost:8080/"
        }
      },
      "outputs": [
        {
          "output_type": "stream",
          "name": "stdout",
          "text": [
            "\u001b[?25l   \u001b[90m━━━━━━━━━━━━━━━━━━━━━━━━━━━━━━━━━━━━━━━━\u001b[0m \u001b[32m0.0/142.3 kB\u001b[0m \u001b[31m?\u001b[0m eta \u001b[36m-:--:--\u001b[0m\r\u001b[2K   \u001b[90m━━━━━━━━━━━━━━━━━━━━━━━━━━━━━━━━━━━━━━━━\u001b[0m \u001b[32m142.3/142.3 kB\u001b[0m \u001b[31m4.1 MB/s\u001b[0m eta \u001b[36m0:00:00\u001b[0m\n",
            "\u001b[?25h\u001b[?25l   \u001b[90m━━━━━━━━━━━━━━━━━━━━━━━━━━━━━━━━━━━━━━━━\u001b[0m \u001b[32m0.0/119.4 kB\u001b[0m \u001b[31m?\u001b[0m eta \u001b[36m-:--:--\u001b[0m\r\u001b[2K   \u001b[90m━━━━━━━━━━━━━━━━━━━━━━━━━━━━━━━━━━━━━━━━\u001b[0m \u001b[32m119.4/119.4 kB\u001b[0m \u001b[31m6.9 MB/s\u001b[0m eta \u001b[36m0:00:00\u001b[0m\n",
            "\u001b[2K   \u001b[90m━━━━━━━━━━━━━━━━━━━━━━━━━━━━━━━━━━━━━━━━\u001b[0m \u001b[32m100.2/100.2 kB\u001b[0m \u001b[31m5.1 MB/s\u001b[0m eta \u001b[36m0:00:00\u001b[0m\n",
            "\u001b[2K   \u001b[90m━━━━━━━━━━━━━━━━━━━━━━━━━━━━━━━━━━━━━━━━\u001b[0m \u001b[32m139.8/139.8 kB\u001b[0m \u001b[31m9.0 MB/s\u001b[0m eta \u001b[36m0:00:00\u001b[0m\n",
            "\u001b[2K   \u001b[90m━━━━━━━━━━━━━━━━━━━━━━━━━━━━━━━━━━━━━━━━\u001b[0m \u001b[32m154.2/154.2 kB\u001b[0m \u001b[31m9.1 MB/s\u001b[0m eta \u001b[36m0:00:00\u001b[0m\n",
            "\u001b[2K   \u001b[90m━━━━━━━━━━━━━━━━━━━━━━━━━━━━━━━━━━━━━━━━\u001b[0m \u001b[32m115.4/115.4 kB\u001b[0m \u001b[31m4.6 MB/s\u001b[0m eta \u001b[36m0:00:00\u001b[0m\n",
            "\u001b[2K   \u001b[90m━━━━━━━━━━━━━━━━━━━━━━━━━━━━━━━━━━━━━━━━\u001b[0m \u001b[32m1.6/1.6 MB\u001b[0m \u001b[31m14.7 MB/s\u001b[0m eta \u001b[36m0:00:00\u001b[0m\n",
            "\u001b[2K   \u001b[90m━━━━━━━━━━━━━━━━━━━━━━━━━━━━━━━━━━━━━━━━\u001b[0m \u001b[32m2.3/2.3 MB\u001b[0m \u001b[31m10.6 MB/s\u001b[0m eta \u001b[36m0:00:00\u001b[0m\n",
            "\u001b[2K   \u001b[90m━━━━━━━━━━━━━━━━━━━━━━━━━━━━━━━━━━━━━━━━\u001b[0m \u001b[32m45.2/45.2 MB\u001b[0m \u001b[31m8.8 MB/s\u001b[0m eta \u001b[36m0:00:00\u001b[0m\n",
            "\u001b[?25h"
          ]
        }
      ],
      "source": [
        "# Enable widgets\n",
        "from google.colab import output\n",
        "output.enable_custom_widget_manager()\n",
        "import ipywidgets as widgets\n",
        "\n",
        "# Install otter-grader\n",
        "%pip install -q otter-grader==6.1.0\n",
        "\n",
        "# Download the tests directory from the course website (this will be used by otter-grader)\n",
        "!wget -q https://dtrb.github.io/machinelearning1/assignments/Winter2025/ass7/tests.zip -O tests.zip\n",
        "\n",
        "# Unzip the tests directory, forcing overwriting of existing files\n",
        "!unzip -qo tests.zip -d ."
      ]
    },
    {
      "cell_type": "code",
      "execution_count": 2,
      "metadata": {
        "deletable": false,
        "editable": false,
        "id": "tyI7FB_eq0GB"
      },
      "outputs": [],
      "source": [
        "# Initialize Otter\n",
        "import otter\n",
        "grader = otter.Notebook()"
      ]
    },
    {
      "cell_type": "markdown",
      "metadata": {
        "id": "VeHUWX99q0GB"
      },
      "source": [
        "# CMPUT 267 - Machine Learning I\n",
        "# Assignment 7 - Classification"
      ]
    },
    {
      "cell_type": "markdown",
      "metadata": {
        "id": "GY6MjGYnq0GB"
      },
      "source": [
        "## Assignment Instructions and Information\n",
        "For this assignment, we will be using Google Colab. If you are new to Google Colab, you can find a brief introduction at the following link: [Google Colab Introduction](https://colab.research.google.com/notebooks/intro.ipynb).\n",
        "\n",
        "**Important:** Before you start working on this notebook, make sure to save a copy to your own Google Drive. To do this, go to `File` -> `Save a copy in Drive`.\n",
        "\n",
        "If you do not save a copy, you will not be able to save any changes you make.\n"
      ]
    },
    {
      "cell_type": "markdown",
      "metadata": {
        "id": "zDC4Nqk9q0GC"
      },
      "source": [
        "### Submitting your assignment\n",
        "Once you have completed the assignment, please submit your work as a `.ipynb` file on eClass in the \"Assignment 7\" section. To download your Colab notebook in the required format, follow these steps:\n",
        "\n",
        "1. Save your notebook to ensure all changes are preserved.\n",
        "2. Navigate to `File` -> `Download` -> `Download .ipynb`.\n",
        "\n",
        "Make sure to save your notebook before downloading it!"
      ]
    },
    {
      "cell_type": "markdown",
      "metadata": {
        "id": "iCUcgGKTq0GC"
      },
      "source": [
        "### Questions and Autograding\n",
        "\n",
        "Each section contains questions for you to solve, marked with the subsection heading \"Question X.Y\" (ex: the first problem is \"Question 2.1\").\n",
        "\n",
        "For each question your solution must go within the following designated code block:\n",
        "\n",
        "```python\n",
        "### YOUR CODE HERE ###\n",
        "\n",
        "######################\n",
        "```\n",
        "\n",
        "All questions will be autograded using [Otter-Grader](https://otter-grader.readthedocs.io/en/latest/).\n",
        "The first two code cells in this notebook install the Otter-Grader package and download the test cases.\n",
        "You should run these cells, otherwise the autograder will not work.\n",
        "\n",
        "At the end of each question there is code that runs the autograder. For example, in Question 2.1 the code `grader.check(\"q2_1\")` runs the autograder.\n",
        "If you pass all the test cases for a question (ex: Question 2.1), you will see the following output:\n",
        "\n",
        "**q2_1** passed!\n",
        "\n",
        "If you do not pass all the test cases for a question, you will see which test cases you did not pass along with their corresponding error messages.\n",
        "\n",
        "There are both public and private test cases. You only have access to the public test cases. This means that if you pass all the test cases in this notebook, you have passed all the public test cases.\n",
        "\n",
        "After you submit the assignment, we will also run the private test cases. The public test cases account for 50% of the total mark, while the private test cases make up the remaining 50%. Therefore, if you pass all the test cases in the notebook, you are guaranteed a mark of at least 50%.\n",
        "\n",
        "After each question description, the number of points (marks) the question is worth is indicated.\n",
        "This is the total number of points for both the public and private test cases.\n",
        "For each question, the public test cases are worth 50% of the points.\n"
      ]
    },
    {
      "cell_type": "markdown",
      "metadata": {
        "id": "TJxfAxCDq0GC"
      },
      "source": [
        "### Math Rendering Issues\n",
        "If you're encountering issues with math rendering in your notebook, particularly small squares replacing math symbols, this is a common problem, especially for users of Google Chrome. Fortunately, there's an easy fix.\n",
        "\n",
        "Hold down `Ctrl` on your keyboard and click on the small square. Then select: Math Settings -> Math Renderer -> Common HTML."
      ]
    },
    {
      "cell_type": "markdown",
      "metadata": {
        "id": "YVc0uzbqq0GC"
      },
      "source": [
        "## Introduction\n",
        "\n",
        "Welcome to Assignment 7! In this assignment, you will work on a binary and multiclass classification problem.\n",
        "We will be focusing on the methods discussed in Chapter 9 of the [course notes](https://vladtkachuk4.github.io/machinelearning1/notes.pdf).\n",
        "\n",
        "This assignment will guide you through the following sections:\n",
        "\n",
        "1. [Understanding the Dataset](#part-1-understanding-the-dataset)\n",
        "1. [Binary Classification](#part-2-binary-classification)\n",
        "1. [Multiclass Classification](#part-3-multiclass-classification)\n",
        "\n",
        "You can quickly navigate to each section by opening the table of contents on the left side of the screen.\n",
        "\n",
        "Let's get started!"
      ]
    },
    {
      "cell_type": "markdown",
      "metadata": {
        "id": "JHDLkSPsq0GC"
      },
      "source": [
        "### !!! A Note on Plotting Inefficiency !!!\n",
        "If your implementations are correct but inefficient (i.e. you are using for loops instead of matrix operations), the plots may take a long time to generate (minutes or even hours)."
      ]
    },
    {
      "cell_type": "markdown",
      "metadata": {
        "id": "5m1sDZiyq0GC"
      },
      "source": [
        "# Part 1: Understanding the Dataset\n",
        "\n",
        "In this assignment, we will use the **UCI Wine dataset**, which is a classic dataset often used for classification tasks.\n",
        "It contains information about various chemical properties of wines derived from three different cultivars in the same region in Italy.\n",
        "The features include alcohol content, malic acid, ash, alcalinity of ash, magnesium, total phenols, flavanoids, nonflavanoid phenols, proanthocyanins, color intensity, hue, OD280/OD315 of diluted wines, and proline,\n",
        "with the labels being the cultivar of the wine (Barolo (0), Grignolino (1), Barbera (2)).\n",
        "The dataset contains 178 data points.\n",
        "\n",
        "The dataset was introduced by Forina et al. (1991) in their paper on chemical analysis.\n",
        "\n",
        "Let's begin by loading the dataset and taking a closer look at what it contains."
      ]
    },
    {
      "cell_type": "markdown",
      "metadata": {
        "id": "RVV4CRBPq0GC"
      },
      "source": [
        "### Load the Dataset\n",
        "\n",
        "First, lets import all the necessary libraries for this assignment."
      ]
    },
    {
      "cell_type": "code",
      "execution_count": 3,
      "metadata": {
        "id": "qafaYSsAq0GC"
      },
      "outputs": [],
      "source": [
        "# Import necessary libraries\n",
        "import numpy as np\n",
        "import pandas as pd\n",
        "import matplotlib.pyplot as plt\n",
        "from ipywidgets import interactive_output\n",
        "import ipywidgets as widgets\n",
        "from IPython.display import display, clear_output\n",
        "from sklearn.preprocessing import PolynomialFeatures\n",
        "from sklearn.datasets import load_wine\n",
        "from sklearn.model_selection import train_test_split\n",
        "\n",
        "# Set a fixed random seed for reproducibility\n",
        "random_seed = 42"
      ]
    },
    {
      "cell_type": "markdown",
      "metadata": {
        "id": "rxrSxKmOq0GD"
      },
      "source": [
        "We will use `load_wine` from the `sklearn.datasets` module to load the dataset.\n",
        "Let's load the dataset and examine the features for the first few datapoints.\n",
        "You should see that the dataset contains 13 features and a label (class)."
      ]
    },
    {
      "cell_type": "code",
      "execution_count": 4,
      "metadata": {
        "id": "Zf1y9ihLq0GD",
        "outputId": "7db19fb2-9ffe-4b84-c96c-398b6fad489c",
        "colab": {
          "base_uri": "https://localhost:8080/",
          "height": 226
        }
      },
      "outputs": [
        {
          "output_type": "execute_result",
          "data": {
            "text/plain": [
              "     alcohol  malic_acid   ash  alcalinity_of_ash  magnesium  total_phenols  \\\n",
              "19     13.64        3.10  2.56               15.2      116.0           2.70   \n",
              "45     14.21        4.04  2.44               18.9      111.0           2.85   \n",
              "140    12.93        2.81  2.70               21.0       96.0           1.54   \n",
              "30     13.73        1.50  2.70               22.5      101.0           3.00   \n",
              "67     12.37        1.17  1.92               19.6       78.0           2.11   \n",
              "\n",
              "     flavanoids  nonflavanoid_phenols  proanthocyanins  color_intensity   hue  \\\n",
              "19         3.03                  0.17             1.66             5.10  0.96   \n",
              "45         2.65                  0.30             1.25             5.24  0.87   \n",
              "140        0.50                  0.53             0.75             4.60  0.77   \n",
              "30         3.25                  0.29             2.38             5.70  1.19   \n",
              "67         2.00                  0.27             1.04             4.68  1.12   \n",
              "\n",
              "     od280/od315_of_diluted_wines  proline  Class  \n",
              "19                           3.36    845.0      0  \n",
              "45                           3.33   1080.0      0  \n",
              "140                          2.31    600.0      2  \n",
              "30                           2.71   1285.0      0  \n",
              "67                           3.48    510.0      1  "
            ],
            "text/html": [
              "\n",
              "  <div id=\"df-a25d9d1d-4860-4ec0-9ae4-daf044d3eca3\" class=\"colab-df-container\">\n",
              "    <div>\n",
              "<style scoped>\n",
              "    .dataframe tbody tr th:only-of-type {\n",
              "        vertical-align: middle;\n",
              "    }\n",
              "\n",
              "    .dataframe tbody tr th {\n",
              "        vertical-align: top;\n",
              "    }\n",
              "\n",
              "    .dataframe thead th {\n",
              "        text-align: right;\n",
              "    }\n",
              "</style>\n",
              "<table border=\"1\" class=\"dataframe\">\n",
              "  <thead>\n",
              "    <tr style=\"text-align: right;\">\n",
              "      <th></th>\n",
              "      <th>alcohol</th>\n",
              "      <th>malic_acid</th>\n",
              "      <th>ash</th>\n",
              "      <th>alcalinity_of_ash</th>\n",
              "      <th>magnesium</th>\n",
              "      <th>total_phenols</th>\n",
              "      <th>flavanoids</th>\n",
              "      <th>nonflavanoid_phenols</th>\n",
              "      <th>proanthocyanins</th>\n",
              "      <th>color_intensity</th>\n",
              "      <th>hue</th>\n",
              "      <th>od280/od315_of_diluted_wines</th>\n",
              "      <th>proline</th>\n",
              "      <th>Class</th>\n",
              "    </tr>\n",
              "  </thead>\n",
              "  <tbody>\n",
              "    <tr>\n",
              "      <th>19</th>\n",
              "      <td>13.64</td>\n",
              "      <td>3.10</td>\n",
              "      <td>2.56</td>\n",
              "      <td>15.2</td>\n",
              "      <td>116.0</td>\n",
              "      <td>2.70</td>\n",
              "      <td>3.03</td>\n",
              "      <td>0.17</td>\n",
              "      <td>1.66</td>\n",
              "      <td>5.10</td>\n",
              "      <td>0.96</td>\n",
              "      <td>3.36</td>\n",
              "      <td>845.0</td>\n",
              "      <td>0</td>\n",
              "    </tr>\n",
              "    <tr>\n",
              "      <th>45</th>\n",
              "      <td>14.21</td>\n",
              "      <td>4.04</td>\n",
              "      <td>2.44</td>\n",
              "      <td>18.9</td>\n",
              "      <td>111.0</td>\n",
              "      <td>2.85</td>\n",
              "      <td>2.65</td>\n",
              "      <td>0.30</td>\n",
              "      <td>1.25</td>\n",
              "      <td>5.24</td>\n",
              "      <td>0.87</td>\n",
              "      <td>3.33</td>\n",
              "      <td>1080.0</td>\n",
              "      <td>0</td>\n",
              "    </tr>\n",
              "    <tr>\n",
              "      <th>140</th>\n",
              "      <td>12.93</td>\n",
              "      <td>2.81</td>\n",
              "      <td>2.70</td>\n",
              "      <td>21.0</td>\n",
              "      <td>96.0</td>\n",
              "      <td>1.54</td>\n",
              "      <td>0.50</td>\n",
              "      <td>0.53</td>\n",
              "      <td>0.75</td>\n",
              "      <td>4.60</td>\n",
              "      <td>0.77</td>\n",
              "      <td>2.31</td>\n",
              "      <td>600.0</td>\n",
              "      <td>2</td>\n",
              "    </tr>\n",
              "    <tr>\n",
              "      <th>30</th>\n",
              "      <td>13.73</td>\n",
              "      <td>1.50</td>\n",
              "      <td>2.70</td>\n",
              "      <td>22.5</td>\n",
              "      <td>101.0</td>\n",
              "      <td>3.00</td>\n",
              "      <td>3.25</td>\n",
              "      <td>0.29</td>\n",
              "      <td>2.38</td>\n",
              "      <td>5.70</td>\n",
              "      <td>1.19</td>\n",
              "      <td>2.71</td>\n",
              "      <td>1285.0</td>\n",
              "      <td>0</td>\n",
              "    </tr>\n",
              "    <tr>\n",
              "      <th>67</th>\n",
              "      <td>12.37</td>\n",
              "      <td>1.17</td>\n",
              "      <td>1.92</td>\n",
              "      <td>19.6</td>\n",
              "      <td>78.0</td>\n",
              "      <td>2.11</td>\n",
              "      <td>2.00</td>\n",
              "      <td>0.27</td>\n",
              "      <td>1.04</td>\n",
              "      <td>4.68</td>\n",
              "      <td>1.12</td>\n",
              "      <td>3.48</td>\n",
              "      <td>510.0</td>\n",
              "      <td>1</td>\n",
              "    </tr>\n",
              "  </tbody>\n",
              "</table>\n",
              "</div>\n",
              "    <div class=\"colab-df-buttons\">\n",
              "\n",
              "  <div class=\"colab-df-container\">\n",
              "    <button class=\"colab-df-convert\" onclick=\"convertToInteractive('df-a25d9d1d-4860-4ec0-9ae4-daf044d3eca3')\"\n",
              "            title=\"Convert this dataframe to an interactive table.\"\n",
              "            style=\"display:none;\">\n",
              "\n",
              "  <svg xmlns=\"http://www.w3.org/2000/svg\" height=\"24px\" viewBox=\"0 -960 960 960\">\n",
              "    <path d=\"M120-120v-720h720v720H120Zm60-500h600v-160H180v160Zm220 220h160v-160H400v160Zm0 220h160v-160H400v160ZM180-400h160v-160H180v160Zm440 0h160v-160H620v160ZM180-180h160v-160H180v160Zm440 0h160v-160H620v160Z\"/>\n",
              "  </svg>\n",
              "    </button>\n",
              "\n",
              "  <style>\n",
              "    .colab-df-container {\n",
              "      display:flex;\n",
              "      gap: 12px;\n",
              "    }\n",
              "\n",
              "    .colab-df-convert {\n",
              "      background-color: #E8F0FE;\n",
              "      border: none;\n",
              "      border-radius: 50%;\n",
              "      cursor: pointer;\n",
              "      display: none;\n",
              "      fill: #1967D2;\n",
              "      height: 32px;\n",
              "      padding: 0 0 0 0;\n",
              "      width: 32px;\n",
              "    }\n",
              "\n",
              "    .colab-df-convert:hover {\n",
              "      background-color: #E2EBFA;\n",
              "      box-shadow: 0px 1px 2px rgba(60, 64, 67, 0.3), 0px 1px 3px 1px rgba(60, 64, 67, 0.15);\n",
              "      fill: #174EA6;\n",
              "    }\n",
              "\n",
              "    .colab-df-buttons div {\n",
              "      margin-bottom: 4px;\n",
              "    }\n",
              "\n",
              "    [theme=dark] .colab-df-convert {\n",
              "      background-color: #3B4455;\n",
              "      fill: #D2E3FC;\n",
              "    }\n",
              "\n",
              "    [theme=dark] .colab-df-convert:hover {\n",
              "      background-color: #434B5C;\n",
              "      box-shadow: 0px 1px 3px 1px rgba(0, 0, 0, 0.15);\n",
              "      filter: drop-shadow(0px 1px 2px rgba(0, 0, 0, 0.3));\n",
              "      fill: #FFFFFF;\n",
              "    }\n",
              "  </style>\n",
              "\n",
              "    <script>\n",
              "      const buttonEl =\n",
              "        document.querySelector('#df-a25d9d1d-4860-4ec0-9ae4-daf044d3eca3 button.colab-df-convert');\n",
              "      buttonEl.style.display =\n",
              "        google.colab.kernel.accessAllowed ? 'block' : 'none';\n",
              "\n",
              "      async function convertToInteractive(key) {\n",
              "        const element = document.querySelector('#df-a25d9d1d-4860-4ec0-9ae4-daf044d3eca3');\n",
              "        const dataTable =\n",
              "          await google.colab.kernel.invokeFunction('convertToInteractive',\n",
              "                                                    [key], {});\n",
              "        if (!dataTable) return;\n",
              "\n",
              "        const docLinkHtml = 'Like what you see? Visit the ' +\n",
              "          '<a target=\"_blank\" href=https://colab.research.google.com/notebooks/data_table.ipynb>data table notebook</a>'\n",
              "          + ' to learn more about interactive tables.';\n",
              "        element.innerHTML = '';\n",
              "        dataTable['output_type'] = 'display_data';\n",
              "        await google.colab.output.renderOutput(dataTable, element);\n",
              "        const docLink = document.createElement('div');\n",
              "        docLink.innerHTML = docLinkHtml;\n",
              "        element.appendChild(docLink);\n",
              "      }\n",
              "    </script>\n",
              "  </div>\n",
              "\n",
              "\n",
              "<div id=\"df-d962700c-ae5c-4ae1-8e6c-2d10426a7f7c\">\n",
              "  <button class=\"colab-df-quickchart\" onclick=\"quickchart('df-d962700c-ae5c-4ae1-8e6c-2d10426a7f7c')\"\n",
              "            title=\"Suggest charts\"\n",
              "            style=\"display:none;\">\n",
              "\n",
              "<svg xmlns=\"http://www.w3.org/2000/svg\" height=\"24px\"viewBox=\"0 0 24 24\"\n",
              "     width=\"24px\">\n",
              "    <g>\n",
              "        <path d=\"M19 3H5c-1.1 0-2 .9-2 2v14c0 1.1.9 2 2 2h14c1.1 0 2-.9 2-2V5c0-1.1-.9-2-2-2zM9 17H7v-7h2v7zm4 0h-2V7h2v10zm4 0h-2v-4h2v4z\"/>\n",
              "    </g>\n",
              "</svg>\n",
              "  </button>\n",
              "\n",
              "<style>\n",
              "  .colab-df-quickchart {\n",
              "      --bg-color: #E8F0FE;\n",
              "      --fill-color: #1967D2;\n",
              "      --hover-bg-color: #E2EBFA;\n",
              "      --hover-fill-color: #174EA6;\n",
              "      --disabled-fill-color: #AAA;\n",
              "      --disabled-bg-color: #DDD;\n",
              "  }\n",
              "\n",
              "  [theme=dark] .colab-df-quickchart {\n",
              "      --bg-color: #3B4455;\n",
              "      --fill-color: #D2E3FC;\n",
              "      --hover-bg-color: #434B5C;\n",
              "      --hover-fill-color: #FFFFFF;\n",
              "      --disabled-bg-color: #3B4455;\n",
              "      --disabled-fill-color: #666;\n",
              "  }\n",
              "\n",
              "  .colab-df-quickchart {\n",
              "    background-color: var(--bg-color);\n",
              "    border: none;\n",
              "    border-radius: 50%;\n",
              "    cursor: pointer;\n",
              "    display: none;\n",
              "    fill: var(--fill-color);\n",
              "    height: 32px;\n",
              "    padding: 0;\n",
              "    width: 32px;\n",
              "  }\n",
              "\n",
              "  .colab-df-quickchart:hover {\n",
              "    background-color: var(--hover-bg-color);\n",
              "    box-shadow: 0 1px 2px rgba(60, 64, 67, 0.3), 0 1px 3px 1px rgba(60, 64, 67, 0.15);\n",
              "    fill: var(--button-hover-fill-color);\n",
              "  }\n",
              "\n",
              "  .colab-df-quickchart-complete:disabled,\n",
              "  .colab-df-quickchart-complete:disabled:hover {\n",
              "    background-color: var(--disabled-bg-color);\n",
              "    fill: var(--disabled-fill-color);\n",
              "    box-shadow: none;\n",
              "  }\n",
              "\n",
              "  .colab-df-spinner {\n",
              "    border: 2px solid var(--fill-color);\n",
              "    border-color: transparent;\n",
              "    border-bottom-color: var(--fill-color);\n",
              "    animation:\n",
              "      spin 1s steps(1) infinite;\n",
              "  }\n",
              "\n",
              "  @keyframes spin {\n",
              "    0% {\n",
              "      border-color: transparent;\n",
              "      border-bottom-color: var(--fill-color);\n",
              "      border-left-color: var(--fill-color);\n",
              "    }\n",
              "    20% {\n",
              "      border-color: transparent;\n",
              "      border-left-color: var(--fill-color);\n",
              "      border-top-color: var(--fill-color);\n",
              "    }\n",
              "    30% {\n",
              "      border-color: transparent;\n",
              "      border-left-color: var(--fill-color);\n",
              "      border-top-color: var(--fill-color);\n",
              "      border-right-color: var(--fill-color);\n",
              "    }\n",
              "    40% {\n",
              "      border-color: transparent;\n",
              "      border-right-color: var(--fill-color);\n",
              "      border-top-color: var(--fill-color);\n",
              "    }\n",
              "    60% {\n",
              "      border-color: transparent;\n",
              "      border-right-color: var(--fill-color);\n",
              "    }\n",
              "    80% {\n",
              "      border-color: transparent;\n",
              "      border-right-color: var(--fill-color);\n",
              "      border-bottom-color: var(--fill-color);\n",
              "    }\n",
              "    90% {\n",
              "      border-color: transparent;\n",
              "      border-bottom-color: var(--fill-color);\n",
              "    }\n",
              "  }\n",
              "</style>\n",
              "\n",
              "  <script>\n",
              "    async function quickchart(key) {\n",
              "      const quickchartButtonEl =\n",
              "        document.querySelector('#' + key + ' button');\n",
              "      quickchartButtonEl.disabled = true;  // To prevent multiple clicks.\n",
              "      quickchartButtonEl.classList.add('colab-df-spinner');\n",
              "      try {\n",
              "        const charts = await google.colab.kernel.invokeFunction(\n",
              "            'suggestCharts', [key], {});\n",
              "      } catch (error) {\n",
              "        console.error('Error during call to suggestCharts:', error);\n",
              "      }\n",
              "      quickchartButtonEl.classList.remove('colab-df-spinner');\n",
              "      quickchartButtonEl.classList.add('colab-df-quickchart-complete');\n",
              "    }\n",
              "    (() => {\n",
              "      let quickchartButtonEl =\n",
              "        document.querySelector('#df-d962700c-ae5c-4ae1-8e6c-2d10426a7f7c button');\n",
              "      quickchartButtonEl.style.display =\n",
              "        google.colab.kernel.accessAllowed ? 'block' : 'none';\n",
              "    })();\n",
              "  </script>\n",
              "</div>\n",
              "\n",
              "    </div>\n",
              "  </div>\n"
            ],
            "application/vnd.google.colaboratory.intrinsic+json": {
              "type": "dataframe",
              "summary": "{\n  \"name\": \"df\",\n  \"rows\": 5,\n  \"fields\": [\n    {\n      \"column\": \"alcohol\",\n      \"properties\": {\n        \"dtype\": \"number\",\n        \"std\": 0.7248310147889651,\n        \"min\": 12.37,\n        \"max\": 14.21,\n        \"num_unique_values\": 5,\n        \"samples\": [\n          14.21,\n          12.37,\n          12.93\n        ],\n        \"semantic_type\": \"\",\n        \"description\": \"\"\n      }\n    },\n    {\n      \"column\": \"malic_acid\",\n      \"properties\": {\n        \"dtype\": \"number\",\n        \"std\": 1.1825523244237441,\n        \"min\": 1.17,\n        \"max\": 4.04,\n        \"num_unique_values\": 5,\n        \"samples\": [\n          4.04,\n          1.17,\n          2.81\n        ],\n        \"semantic_type\": \"\",\n        \"description\": \"\"\n      }\n    },\n    {\n      \"column\": \"ash\",\n      \"properties\": {\n        \"dtype\": \"number\",\n        \"std\": 0.3229241396984748,\n        \"min\": 1.92,\n        \"max\": 2.7,\n        \"num_unique_values\": 4,\n        \"samples\": [\n          2.44,\n          1.92,\n          2.56\n        ],\n        \"semantic_type\": \"\",\n        \"description\": \"\"\n      }\n    },\n    {\n      \"column\": \"alcalinity_of_ash\",\n      \"properties\": {\n        \"dtype\": \"number\",\n        \"std\": 2.7428087793355194,\n        \"min\": 15.2,\n        \"max\": 22.5,\n        \"num_unique_values\": 5,\n        \"samples\": [\n          18.9,\n          19.6,\n          21.0\n        ],\n        \"semantic_type\": \"\",\n        \"description\": \"\"\n      }\n    },\n    {\n      \"column\": \"magnesium\",\n      \"properties\": {\n        \"dtype\": \"number\",\n        \"std\": 14.808781178746615,\n        \"min\": 78.0,\n        \"max\": 116.0,\n        \"num_unique_values\": 5,\n        \"samples\": [\n          111.0,\n          78.0,\n          96.0\n        ],\n        \"semantic_type\": \"\",\n        \"description\": \"\"\n      }\n    },\n    {\n      \"column\": \"total_phenols\",\n      \"properties\": {\n        \"dtype\": \"number\",\n        \"std\": 0.6058465152165192,\n        \"min\": 1.54,\n        \"max\": 3.0,\n        \"num_unique_values\": 5,\n        \"samples\": [\n          2.85,\n          2.11,\n          1.54\n        ],\n        \"semantic_type\": \"\",\n        \"description\": \"\"\n      }\n    },\n    {\n      \"column\": \"flavanoids\",\n      \"properties\": {\n        \"dtype\": \"number\",\n        \"std\": 1.1053189584911678,\n        \"min\": 0.5,\n        \"max\": 3.25,\n        \"num_unique_values\": 5,\n        \"samples\": [\n          2.65,\n          2.0,\n          0.5\n        ],\n        \"semantic_type\": \"\",\n        \"description\": \"\"\n      }\n    },\n    {\n      \"column\": \"nonflavanoid_phenols\",\n      \"properties\": {\n        \"dtype\": \"number\",\n        \"std\": 0.1323631368621944,\n        \"min\": 0.17,\n        \"max\": 0.53,\n        \"num_unique_values\": 5,\n        \"samples\": [\n          0.3,\n          0.27,\n          0.53\n        ],\n        \"semantic_type\": \"\",\n        \"description\": \"\"\n      }\n    },\n    {\n      \"column\": \"proanthocyanins\",\n      \"properties\": {\n        \"dtype\": \"number\",\n        \"std\": 0.6327163661546933,\n        \"min\": 0.75,\n        \"max\": 2.38,\n        \"num_unique_values\": 5,\n        \"samples\": [\n          1.25,\n          1.04,\n          0.75\n        ],\n        \"semantic_type\": \"\",\n        \"description\": \"\"\n      }\n    },\n    {\n      \"column\": \"color_intensity\",\n      \"properties\": {\n        \"dtype\": \"number\",\n        \"std\": 0.4470794112906567,\n        \"min\": 4.6,\n        \"max\": 5.7,\n        \"num_unique_values\": 5,\n        \"samples\": [\n          5.24,\n          4.68,\n          4.6\n        ],\n        \"semantic_type\": \"\",\n        \"description\": \"\"\n      }\n    },\n    {\n      \"column\": \"hue\",\n      \"properties\": {\n        \"dtype\": \"number\",\n        \"std\": 0.17340703561274554,\n        \"min\": 0.77,\n        \"max\": 1.19,\n        \"num_unique_values\": 5,\n        \"samples\": [\n          0.87,\n          1.12,\n          0.77\n        ],\n        \"semantic_type\": \"\",\n        \"description\": \"\"\n      }\n    },\n    {\n      \"column\": \"od280/od315_of_diluted_wines\",\n      \"properties\": {\n        \"dtype\": \"number\",\n        \"std\": 0.5054404020257977,\n        \"min\": 2.31,\n        \"max\": 3.48,\n        \"num_unique_values\": 5,\n        \"samples\": [\n          3.33,\n          3.48,\n          2.31\n        ],\n        \"semantic_type\": \"\",\n        \"description\": \"\"\n      }\n    },\n    {\n      \"column\": \"proline\",\n      \"properties\": {\n        \"dtype\": \"number\",\n        \"std\": 323.75530883678186,\n        \"min\": 510.0,\n        \"max\": 1285.0,\n        \"num_unique_values\": 5,\n        \"samples\": [\n          1080.0,\n          510.0,\n          600.0\n        ],\n        \"semantic_type\": \"\",\n        \"description\": \"\"\n      }\n    },\n    {\n      \"column\": \"Class\",\n      \"properties\": {\n        \"dtype\": \"number\",\n        \"std\": 0,\n        \"min\": 0,\n        \"max\": 2,\n        \"num_unique_values\": 3,\n        \"samples\": [\n          0,\n          2,\n          1\n        ],\n        \"semantic_type\": \"\",\n        \"description\": \"\"\n      }\n    }\n  ]\n}"
            }
          },
          "metadata": {},
          "execution_count": 4
        }
      ],
      "source": [
        "# Load the Wine dataset\n",
        "wine = load_wine()\n",
        "\n",
        "# Convert to a DataFrame\n",
        "df = pd.DataFrame(wine.data, columns=wine.feature_names)\n",
        "df['Class'] = wine.target\n",
        "\n",
        "# Display some random rows of the dataset\n",
        "df.sample(n=5, random_state=random_seed)"
      ]
    },
    {
      "cell_type": "markdown",
      "metadata": {
        "id": "ngjFQTU1q0GD"
      },
      "source": [
        "Now that we have loaded the dataset, we need to prepare it for use in our classification learners.\n",
        "\n",
        "For better visualization of decision boundaries, we will only use 2 features in this assignment: alcohol and malic acid. We will store these features in a matrix $\\mathbf{X}$ where each row represents a data point and each column represents a feature.\n",
        "Additionally, we will store the labels (class) in a vector $\\mathbf{Y}$.\n",
        "\n",
        "For multiclass classification, we will use all the labels.\n",
        "However, for binary classification, we will treat the first class as representing Barolo and group the other two classes together to represent Non-Barolo. We will call these labels $\\mathbf{Y}_{\\text{bin}}$."
      ]
    },
    {
      "cell_type": "code",
      "execution_count": 5,
      "metadata": {
        "id": "6ug6725Mq0GD"
      },
      "outputs": [],
      "source": [
        "# Select only the alcohol and malic acid features for simplicity\n",
        "X = df[['alcohol', 'malic_acid']].values\n",
        "Y = df['Class'].values\n",
        "\n",
        "# For binary classification, select class 0 (Barolo) and group the other two classes together to represent 1 (Not-Barolo)\n",
        "binary_mask = Y == 0\n",
        "Y_bin = np.where(binary_mask, 0, 1)"
      ]
    },
    {
      "cell_type": "markdown",
      "metadata": {
        "id": "4n5UU7irq0GD"
      },
      "source": [
        "Next, we will split the data into training and testing sets. We will use 65% of the data for training and 35% for testing."
      ]
    },
    {
      "cell_type": "code",
      "execution_count": 6,
      "metadata": {
        "id": "PUH46fHBq0GD"
      },
      "outputs": [],
      "source": [
        "# Split the data into training and testing sets\n",
        "test_size = 0.35\n",
        "X_train_bin, X_test_bin, Y_train_bin, Y_test_bin = train_test_split(X, Y_bin, test_size=test_size, random_state=random_seed)\n",
        "X_train_mul, X_test_mul, Y_train_mul, Y_test_mul = train_test_split(X, Y, test_size=test_size, random_state=random_seed)"
      ]
    },
    {
      "cell_type": "markdown",
      "metadata": {
        "id": "BJYeCfyRq0GD"
      },
      "source": [
        "For the final step of preprocessing, we will normalize the data and add a column of ones to the feature matrix to account for the bias term. For an explanation of the normalization step see Assignment 4."
      ]
    },
    {
      "cell_type": "code",
      "execution_count": 7,
      "metadata": {
        "id": "kf31LViuq0GD"
      },
      "outputs": [],
      "source": [
        "# Normalize the features\n",
        "X_mean_bin = X_train_bin.mean(axis=0)\n",
        "X_std_bin = X_train_bin.std(axis=0) + 1e-8\n",
        "X_train_norm_bin = (X_train_bin - X_mean_bin) / X_std_bin\n",
        "X_test_norm_bin = (X_test_bin - X_mean_bin) / X_std_bin\n",
        "\n",
        "X_mean_mul = X_train_mul.mean(axis=0)\n",
        "X_std_mul = X_train_mul.std(axis=0) + 1e-8\n",
        "X_train_norm_mul = (X_train_mul - X_mean_mul) / X_std_mul\n",
        "X_test_norm_mul = (X_test_bin - X_mean_mul) / X_std_mul\n",
        "\n",
        "# Append a column of 1s to the features for the bias term\n",
        "X_train_norm_bin = np.hstack([np.ones((X_train_norm_bin.shape[0], 1)), X_train_norm_bin])\n",
        "X_test_norm_bin = np.hstack([np.ones((X_test_norm_bin.shape[0], 1)), X_test_norm_bin])\n",
        "X_train_norm_mul = np.hstack([np.ones((X_train_norm_mul.shape[0], 1)), X_train_norm_mul])\n",
        "X_test_norm_mul = np.hstack([np.ones((X_test_norm_mul.shape[0], 1)), X_test_norm_mul])"
      ]
    },
    {
      "cell_type": "markdown",
      "metadata": {
        "id": "jWjwNsBdq0GD"
      },
      "source": [
        "### Plotting the Binary Dataset\n",
        "\n",
        "The plot below visualizes the training and test sets for the binary classification dataset, which uses the Barolo and Not-Barolo classes.\n",
        "\n",
        "In both plots, you should see two distinct clusters of points representing the two classes. Each cluster corresponds to one of the classes (Barolo or Not-Barolo), and the separation between the clusters indicates the differences in the features of the two classes."
      ]
    },
    {
      "cell_type": "code",
      "execution_count": null,
      "metadata": {
        "id": "j5DTlDyCq0GD",
        "cellView": "form"
      },
      "outputs": [],
      "source": [
        "# @title Plot\n",
        "\n",
        "# Function to plot the binary dataset without jitter\n",
        "def plot_binary_dataset(show_plot):\n",
        "    if show_plot:\n",
        "        fig, axes = plt.subplots(1, 2, figsize=(15, 6))\n",
        "\n",
        "        # Plot training data\n",
        "        axes[0].scatter(X_train_norm_bin[Y_train_bin == 0][:, 1], X_train_norm_bin[Y_train_bin == 0][:, 2], color='red', label='Barolo', s=50)\n",
        "        axes[0].scatter(X_train_norm_bin[Y_train_bin == 1][:, 1], X_train_norm_bin[Y_train_bin == 1][:, 2], color='blue', label='Not-Barolo', s=50)\n",
        "        axes[0].set_xlabel('Alcohol (normalized)')\n",
        "        axes[0].set_ylabel('Malic Acid (normalized)')\n",
        "        axes[0].set_title('Training Set')\n",
        "        axes[0].set_ylim(-2.2, 3.8)\n",
        "        axes[0].set_xlim(-2.8, 2.8)\n",
        "        axes[0].legend()\n",
        "\n",
        "        # Plot testing data\n",
        "        axes[1].scatter(X_test_norm_bin[Y_test_bin == 0][:, 1], X_test_norm_bin[Y_test_bin == 0][:, 2], color='red', label='Barolo', s=50)\n",
        "        axes[1].scatter(X_test_norm_bin[Y_test_bin == 1][:, 1], X_test_norm_bin[Y_test_bin == 1][:, 2], color='blue', label='Not-Barolo', s=50)\n",
        "        axes[1].set_xlabel('Alcohol (normalized)')\n",
        "        axes[1].set_ylabel('Malic Acid (normalized)')\n",
        "        axes[1].set_title('Test Set')\n",
        "        axes[1].set_ylim(-2.2, 3.8)\n",
        "        axes[1].set_xlim(-2.8, 2.8)\n",
        "        axes[1].legend()\n",
        "\n",
        "        plt.show()\n",
        "    else:\n",
        "        clear_output()\n",
        "\n",
        "# Create a checkbox widget\n",
        "show_plot_checkbox_binary_dataset = widgets.Checkbox(value=False, description='Show Plot')\n",
        "\n",
        "# Use interactive_output to link the function with the checkbox\n",
        "interactive_plot_binary_dataset = interactive_output(plot_binary_dataset, {'show_plot': show_plot_checkbox_binary_dataset})\n",
        "\n",
        "# Display the checkbox and the plot\n",
        "display(show_plot_checkbox_binary_dataset, interactive_plot_binary_dataset)\n"
      ]
    },
    {
      "cell_type": "markdown",
      "metadata": {
        "id": "GeO5SbB6q0GD"
      },
      "source": [
        "### Plotting the Multiclass Dataset\n",
        "\n",
        "The plot below visualizes the training and test sets for the multiclass classification dataset, which includes the Barolo, Grignolino, and Barbera classes.\n",
        "\n",
        "In both plots you should see three distinct clusters of points representing the three classes."
      ]
    },
    {
      "cell_type": "code",
      "execution_count": null,
      "metadata": {
        "id": "6_y7nlV0q0GD",
        "cellView": "form"
      },
      "outputs": [],
      "source": [
        "# @title Plot\n",
        "\n",
        "# Function to plot the training and testing sets for multiclass classification\n",
        "def plot_multiclass_train_test(show_plot):\n",
        "    if show_plot:\n",
        "        fig, axes = plt.subplots(1, 2, figsize=(15, 6))\n",
        "\n",
        "        # Plot training data\n",
        "        axes[0].scatter(X_train_norm_mul[Y_train_mul == 0][:, 1], X_train_norm_mul[Y_train_mul == 0][:, 2], color='red', label='Barolo', s=50)\n",
        "        axes[0].scatter(X_train_norm_mul[Y_train_mul == 1][:, 1], X_train_norm_mul[Y_train_mul == 1][:, 2], color='blue', label='Grignolino', s=50)\n",
        "        axes[0].scatter(X_train_norm_mul[Y_train_mul == 2][:, 1], X_train_norm_mul[Y_train_mul == 2][:, 2], color='green', label='Barbera', s=50)\n",
        "        axes[0].set_xlabel('Alcohol (normalized)')\n",
        "        axes[0].set_ylabel('Malic Acid (normalized)')\n",
        "        axes[0].set_title('Training Set')\n",
        "        axes[0].set_ylim(-2.2, 3.8)\n",
        "        axes[0].set_xlim(-2.8, 2.8)\n",
        "        axes[0].legend()\n",
        "\n",
        "        # Plot testing data\n",
        "        axes[1].scatter(X_test_norm_mul[Y_test_mul == 0][:, 1], X_test_norm_mul[Y_test_mul == 0][:, 2], color='red', label='Barolo', s=50)\n",
        "        axes[1].scatter(X_test_norm_mul[Y_test_mul == 1][:, 1], X_test_norm_mul[Y_test_mul == 1][:, 2], color='blue', label='Grignolino', s=50)\n",
        "        axes[1].scatter(X_test_norm_mul[Y_test_mul == 2][:, 1], X_test_norm_mul[Y_test_mul == 2][:, 2], color='green', label='Barbera', s=50)\n",
        "        axes[1].set_xlabel('Alcohol (normalized)')\n",
        "        axes[1].set_ylabel('Malic Acid (normalized)')\n",
        "        axes[1].set_title('Test Set')\n",
        "        axes[1].set_ylim(-2.2, 3.8)\n",
        "        axes[1].set_xlim(-2.8, 2.8)\n",
        "        axes[1].legend()\n",
        "\n",
        "        plt.show()\n",
        "    else:\n",
        "        clear_output()\n",
        "\n",
        "# Create a checkbox widget\n",
        "show_plot_checkbox_multiclass_train_test = widgets.Checkbox(value=False, description='Show Plot')\n",
        "\n",
        "# Use interactive_output to link the function with the checkbox\n",
        "interactive_plot_multiclass_train_test = interactive_output(plot_multiclass_train_test, {'show_plot': show_plot_checkbox_multiclass_train_test})\n",
        "\n",
        "# Display the checkbox and the plot\n",
        "display(show_plot_checkbox_multiclass_train_test, interactive_plot_multiclass_train_test)"
      ]
    },
    {
      "cell_type": "markdown",
      "metadata": {
        "id": "0-KKcmJbq0GD"
      },
      "source": [
        "# Part 2: Binary Classification\n",
        "\n",
        "In this section we are interested in defining a learner for the binary classification problem.\n",
        "As discussed in [Part 1](#part-1-understanding-the-dataset), we will treat the first class as Barolo (represented as the label $0$) and group the other two classes together to represent Non-Barolo (represented as the label $1$).\n",
        "Thus, the set of labels is $\\mathcal{Y} = \\{0, 1\\}$.\n",
        "Our goal will be to implement the binary classification learner we learned in class.\n",
        "\n",
        "We will first need to implement a logistic regression learner that uses batch gradient descent to optimize the weights.\n",
        "To do this, lets implement the sigmoid (or logistic) function used as the predictor function by the logistic regression learner"
      ]
    },
    {
      "cell_type": "markdown",
      "metadata": {
        "deletable": false,
        "editable": false,
        "id": "Bh-9F63sq0GD"
      },
      "source": [
        "### Question 2.1\n",
        "\n",
        "In class we learned that the sigmoid function is defined as:\n",
        "$$\\sigma(z) = \\frac{1}{1 + e^{-z}}$$\n",
        "However, if $z$ is a large negative number, $e^{-z}$ will be a very large positive number and can cause an overflow error.\n",
        "To avoid this, we can rewrite the sigmoid function as:\n",
        "$$\\sigma(z) = \\frac{1}{1 + e^{-z}} = \\frac{1}{1 + e^{-z}} \\cdot \\frac{e^z}{e^z} = \\frac{e^z}{e^z + 1}$$\n",
        "Notice that this form of the sigmoid function will not overflow for large negative values of $z$; however, it may overflow for large positive values of $z$.\n",
        "\n",
        "Thus, the solution is to check if the value of $z$ is negative or positive and use the appropriate form of the sigmoid function.\n",
        "In particular, if $z$ is positive you should use the first form of the sigmoid function, and if $z$ is negative you should use the second form of the sigmoid function.\n",
        "\n",
        "For your implementation of the sigmoid function you should assume the input is a vector represented as a numpy arrary.\n",
        "You should then return a vector of the same shape where each element is the sigmoid function applied to the corresponding element of the input vector.\n",
        "Using vectors as input and output is often preferred in practice since it allows for a more efficient implementation.\n",
        "In particular, you can avoid for loops in your implementation by noting that `numpy` will apply its functions elementwise to numpy arrays (ex: `np.exp(Z)` will apply the exponential function to each element of the array `Z`).\n",
        "Similarly, arithmetic operations are also applied elementwise (ex: `1 + Z` will add 1 to each element of the array `Z`).\n",
        "It turns out that this is much faster than using for loops in Python.\n",
        "\n",
        "We have already started the implementation by initializing the output array `result` to an array (vector) of the same shape as the input `Z`.\n",
        "\n",
        "Complete the implemention of `sigmoid`.\n",
        "\n",
        "_Points:_ 8"
      ]
    },
    {
      "cell_type": "code",
      "execution_count": 16,
      "metadata": {
        "tags": [
          "otter_answer_cell"
        ],
        "id": "6IkmxhyUq0GE"
      },
      "outputs": [],
      "source": [
        "def sigmoid(Z):\n",
        "    '''\n",
        "    Compute the sigmoid function for the input array Z.\n",
        "    This implementation uses conditional logic to avoid overflow issues for large positive and negative values of Z.\n",
        "\n",
        "    Parameters:\n",
        "    Z (numpy array): Input array of shape (n,) for which to compute the sigmoid function.\n",
        "\n",
        "    Returns:\n",
        "    result (numpy array): An array with the same shape as Z, containing the sigmoid function values for each element of Z.\n",
        "    '''\n",
        "\n",
        "    ### YOUR CODE HERE ###\n",
        "\n",
        "    result = np.zeros(Z.shape) # this is a placeholder, replace it with the correct value\n",
        "\n",
        "    positive = Z >= 0\n",
        "    negative = Z < 0\n",
        "    result[positive] = 1 / (1 + np.exp(-Z[positive]))\n",
        "    result[negative] = np.exp(Z[negative]) / (1 + np.exp(Z[negative]))\n",
        "\n",
        "    ######################\n",
        "\n",
        "    return result"
      ]
    },
    {
      "cell_type": "code",
      "execution_count": 17,
      "metadata": {
        "deletable": false,
        "editable": false,
        "id": "j05sfJbpq0GE",
        "outputId": "e719ff21-0d49-4277-d76d-6c239a7a3f0d",
        "colab": {
          "base_uri": "https://localhost:8080/",
          "height": 47
        }
      },
      "outputs": [
        {
          "output_type": "execute_result",
          "data": {
            "text/plain": [
              "q2_1 results: All test cases passed!"
            ],
            "text/html": [
              "<p><strong><pre style='display: inline;'>q2_1</pre></strong> passed! 🌟</p>"
            ]
          },
          "metadata": {},
          "execution_count": 17
        }
      ],
      "source": [
        "grader.check(\"q2_1\")"
      ]
    },
    {
      "cell_type": "markdown",
      "metadata": {
        "deletable": false,
        "editable": false,
        "id": "HiC4AR7dq0GE"
      },
      "source": [
        "### Question 2.2\n",
        "\n",
        "Now we are ready to implement the logistic regression learner using batch gradient descent.\n",
        "That is, you need to finish the implementation of the `bgd_logistic_regression_learner` function by adding the batch gradient descent update rule with a constant step size $\\eta^{(t)} = \\eta$.\n",
        "Recall that the update rule for batch gradient descent is:\n",
        "$$\\mathbf{w}^{(t+1)} = \\mathbf{w}^{(t)} - \\eta^{(t)} \\nabla \\hat L(\\mathbf{w}^{(t)}) \\quad \\text{where} \\quad \\hat L(\\mathbf{w}) = \\frac{1}{n} \\sum_{i=1}^{n} \\ell(\\sigma(\\mathbf{x}_i^\\top \\mathbf{w}), y_i),$$\n",
        "and $\\ell$ is the binary cross-entropy loss function:\n",
        "$$\\ell(\\hat y, y) = -y \\log(\\hat y) - (1 - y) \\log(1 - \\hat y).$$\n",
        "\n",
        "Complete the implementation of `bgd_logistic_regression_learner`.\n",
        "\n",
        "_Points:_ 8"
      ]
    },
    {
      "cell_type": "code",
      "execution_count": 19,
      "metadata": {
        "tags": [
          "otter_answer_cell"
        ],
        "id": "wu64KBMwq0GE"
      },
      "outputs": [],
      "source": [
        "def bgd_logistic_regression_learner(X, Y, step_size=0.01, epochs=10, random_seed=42):\n",
        "    '''\n",
        "    Solves logistic regression using batch gradient descent.\n",
        "\n",
        "    Parameters:\n",
        "    X (numpy array): Feature matrix of size (n, d+1), where n is the number of samples\n",
        "                     and d is the number of features. The first column should be all 1s.\n",
        "    Y (numpy array): Target vector of size (n,).\n",
        "    step_size (float): The step size for gradient descent.\n",
        "    epochs (int): The number of iterations to run gradient descent.\n",
        "    random_seed (int, optional): The seed for the random number generator.\n",
        "\n",
        "    Returns:\n",
        "    predictor (function): A function that takes a feature vector or matrix and returns a predicted value.\n",
        "    w (numpy array): The final weights after applying gradient descent for the specified epochs.\n",
        "    '''\n",
        "    n, d = X[:,1:].shape\n",
        "    np.random.seed(random_seed)\n",
        "    w = np.random.randn(d+1) # initialize the weights randomly\n",
        "\n",
        "    ### YOUR CODE HERE ###\n",
        "    for epoch in range(epochs):\n",
        "      z = X @ w\n",
        "      y_hat = sigmoid(z)\n",
        "      gradient = (1/n) * X.T @ (y_hat - Y)\n",
        "      w = w - step_size * gradient\n",
        "\n",
        "    ######################\n",
        "\n",
        "    def predictor(x):\n",
        "        return sigmoid(x @ w)\n",
        "\n",
        "    return predictor, w\n"
      ]
    },
    {
      "cell_type": "code",
      "execution_count": 20,
      "metadata": {
        "deletable": false,
        "editable": false,
        "id": "66-ezXnRq0GE",
        "outputId": "8e903d1a-d6f9-48d7-ac87-c267ca3e40c3",
        "colab": {
          "base_uri": "https://localhost:8080/",
          "height": 47
        }
      },
      "outputs": [
        {
          "output_type": "execute_result",
          "data": {
            "text/plain": [
              "q2_2 results: All test cases passed!"
            ],
            "text/html": [
              "<p><strong><pre style='display: inline;'>q2_2</pre></strong> passed! 🌈</p>"
            ]
          },
          "metadata": {},
          "execution_count": 20
        }
      ],
      "source": [
        "grader.check(\"q2_2\")"
      ]
    },
    {
      "cell_type": "markdown",
      "metadata": {
        "deletable": false,
        "editable": false,
        "id": "0_6a_Knqq0GE"
      },
      "source": [
        "### Question 2.3\n",
        "\n",
        "To make sure the implementation of `bgd_logistic_regression_learner` is correct we would like to plot the estimated loss of the predictor output by the learner as a function of the number of epochs.\n",
        "To do this you will need to implement the `estimated_loss`.\n",
        "The estimated loss of a predictor $f$, and loss function $\\ell$ is defined as:\n",
        "$$\\hat L(f) = \\frac{1}{n} \\sum_{i=1}^{n} \\ell(f(\\mathbf{x}_i), y_i).$$\n",
        "\n",
        "You can assume that the predictor `f` and loss function `loss_function` are implemented as functions that take a vector of inputs and return a vector of outputs.\n",
        "You may find the function `np.mean` useful for this implementation.\n",
        "\n",
        "Complete the implemention of `estimated_loss`.\n",
        "\n",
        "_Points:_ 4"
      ]
    },
    {
      "cell_type": "code",
      "execution_count": 21,
      "metadata": {
        "tags": [
          "otter_answer_cell"
        ],
        "id": "ojVPZHibq0GE"
      },
      "outputs": [],
      "source": [
        "def estimated_loss(f, X, Y, loss_function):\n",
        "    \"\"\"\n",
        "    Compute the estimated loss using the input loss function for a given predictor over a dataset.\n",
        "\n",
        "    Parameters:\n",
        "    f (function): A function that takes a feature vector or matrix and returns a predicted value.\n",
        "    X (numpy array): Feature matrix of size (n, d+1), where n is the number of samples\n",
        "                     and d is the number of features. The first column should be all 1s.\n",
        "    Y (numpy array): Target vector of size (n,).\n",
        "    loss_function (function): A function that takes true labels and predicted values and returns the loss.\n",
        "\n",
        "    Returns:\n",
        "    loss (float): The estimated loss.\n",
        "    \"\"\"\n",
        "\n",
        "    ### YOUR CODE HERE ###\n",
        "\n",
        "    loss = np.mean(loss_function(f(X),Y)) # this is a placeholder, replace it with the correct value\n",
        "\n",
        "    ######################\n",
        "\n",
        "    return loss\n"
      ]
    },
    {
      "cell_type": "code",
      "execution_count": 22,
      "metadata": {
        "deletable": false,
        "editable": false,
        "id": "IYfoYEZSq0GE",
        "outputId": "cd59a1b7-6091-47c3-b64e-3a798b0d8359",
        "colab": {
          "base_uri": "https://localhost:8080/",
          "height": 47
        }
      },
      "outputs": [
        {
          "output_type": "execute_result",
          "data": {
            "text/plain": [
              "q2_3 results: All test cases passed!"
            ],
            "text/html": [
              "<p><strong><pre style='display: inline;'>q2_3</pre></strong> passed! ✨</p>"
            ]
          },
          "metadata": {},
          "execution_count": 22
        }
      ],
      "source": [
        "grader.check(\"q2_3\")"
      ]
    },
    {
      "cell_type": "markdown",
      "metadata": {
        "deletable": false,
        "editable": false,
        "id": "AX-r3bvdq0GE"
      },
      "source": [
        "### Question 2.4\n",
        "\n",
        "To plot the `estimated_loss` you implemented in [Question 2.3](#question-2.3), we need to pick a specific loss function.\n",
        "We mentioned in [Question 2.2](#question-2.2) that the `bgd_logistic_regression_learner` is using the binary cross-entropy loss function.\n",
        "Thus, you should implement the binary cross-entropy loss function, which is defined as:\n",
        "$$\\ell(\\hat y, y) = -y \\log(\\hat y) - (1 - y) \\log(1 - \\hat y).$$\n",
        "\n",
        "Similar to the `sigmoid` function, you should assume the input is a vector represented as a numpy arrary.\n",
        "You should then return a vector of the same shape where each element is the binary cross-entropy loss applied to the corresponding elements of the input vectors.\n",
        "You may find the function `np.log` useful for this implementation.\n",
        "\n",
        "Complete the implemention of `binary_cross_entropy_loss`.\n",
        "\n",
        "_Points:_ 4"
      ]
    },
    {
      "cell_type": "code",
      "execution_count": 23,
      "metadata": {
        "tags": [
          "otter_answer_cell"
        ],
        "id": "kq_xC5qJq0GE"
      },
      "outputs": [],
      "source": [
        "def binary_cross_entropy_loss(Y_pred, Y):\n",
        "    \"\"\"\n",
        "    Compute the cross-entropy loss for binary classification.\n",
        "\n",
        "    Parameters:\n",
        "    Y_pred (numpy array): Predicted probabilities of shape (n,).\n",
        "    Y (numpy array): True labels (0 or 1) of shape (n,).\n",
        "\n",
        "    Returns:\n",
        "    loss (numpy array): Cross-entropy loss of shape (n,).\n",
        "    \"\"\"\n",
        "\n",
        "    # Clip predictions to avoid log(0)\n",
        "    Y_pred = np.clip(Y_pred, 1e-15, 1 - 1e-15)\n",
        "\n",
        "    ### YOUR CODE HERE ###\n",
        "\n",
        "    loss = -Y * np.log(Y_pred) - (1 - Y) * np.log(1 - Y_pred) # this is a placeholder, replace it with the correct value\n",
        "\n",
        "    ######################\n",
        "\n",
        "    return loss"
      ]
    },
    {
      "cell_type": "code",
      "execution_count": 24,
      "metadata": {
        "deletable": false,
        "editable": false,
        "id": "_63PC615q0GE",
        "outputId": "eeb28e82-d20e-4064-c3a8-4c654307248e",
        "colab": {
          "base_uri": "https://localhost:8080/",
          "height": 47
        }
      },
      "outputs": [
        {
          "output_type": "execute_result",
          "data": {
            "text/plain": [
              "q2_4 results: All test cases passed!"
            ],
            "text/html": [
              "<p><strong><pre style='display: inline;'>q2_4</pre></strong> passed! 🍀</p>"
            ]
          },
          "metadata": {},
          "execution_count": 24
        }
      ],
      "source": [
        "grader.check(\"q2_4\")"
      ]
    },
    {
      "cell_type": "markdown",
      "metadata": {
        "id": "tJpYTpIDq0GE"
      },
      "source": [
        "### Plotting the Estimated Cross-Entropy Loss\n",
        "\n",
        "Below is a plot of the estimated loss (using the cross-entropy loss function) for the predictor output by the `bgd_logistic_regression_learner` as a function of the number of epochs.\n",
        "If your implementation of `bgd_logistic_regression_learner` is correct, you should see the loss decrease as the number of epochs increases."
      ]
    },
    {
      "cell_type": "code",
      "execution_count": null,
      "metadata": {
        "id": "4pVpCfF2q0GE",
        "cellView": "form"
      },
      "outputs": [],
      "source": [
        "# @title Plot\n",
        "\n",
        "# Function to plot the loss values\n",
        "def plot_ce_loss_binary(show_plot):\n",
        "    # Define the number of epochs\n",
        "    epochs = 200\n",
        "\n",
        "    # Initialize lists to store the loss values\n",
        "    loss_values = []\n",
        "\n",
        "    # Train the model and compute the loss for each epoch\n",
        "    for epoch in range(1, epochs + 1):\n",
        "        predictor, w = bgd_logistic_regression_learner(X_train_norm_bin, Y_train_bin, step_size=0.2, epochs=epoch, random_seed=random_seed)\n",
        "        loss = estimated_loss(predictor, X_train_norm_bin, Y_train_bin, binary_cross_entropy_loss)\n",
        "        loss_values.append(loss)\n",
        "    if show_plot:\n",
        "        plt.figure(figsize=(10, 6))\n",
        "        plt.plot(range(1, epochs + 1), loss_values, linewidth=3)  # Set linewidth to 2\n",
        "        plt.xlabel('Epochs')\n",
        "        plt.ylabel('Estimated Cross-Entropy Loss')\n",
        "        plt.grid(True)\n",
        "        plt.show()\n",
        "    else:\n",
        "        clear_output()\n",
        "\n",
        "# Create a checkbox widget\n",
        "show_plot_checkbox_ce_loss_binary = widgets.Checkbox(value=False, description='Show Plot')\n",
        "\n",
        "# Use interactive_output to link the function with the checkbox\n",
        "interactive_plot_ce_loss_binary = interactive_output(plot_ce_loss_binary, {'show_plot': show_plot_checkbox_ce_loss_binary})\n",
        "\n",
        "# Display the checkbox and the plot\n",
        "display(show_plot_checkbox_ce_loss_binary, interactive_plot_ce_loss_binary)"
      ]
    },
    {
      "cell_type": "markdown",
      "metadata": {
        "id": "GznoGqc7q0GE"
      },
      "source": [
        "### Binary Classification Learner\n",
        "\n",
        "Recall that our objective in binary classification is to predict the class of a data point as either Barolo (0) or Not-Barolo (1).\n",
        "So far we have implemented the logistic regression learner, which returns a predictor that outputs a proability of the data point being Not-Barolo.\n",
        "To make a prediction, we need to convert this probability to a class label.\n",
        "We can do this by thresholding the probability at 0.5, such that if the probability is greater than 0.5 we predict Not-Barolo, otherwise we predict Barolo.\n",
        "This is implemented for you as `binary_classification_learner` below."
      ]
    },
    {
      "cell_type": "code",
      "execution_count": 25,
      "metadata": {
        "id": "p654Jod5q0GF"
      },
      "outputs": [],
      "source": [
        "def binary_classification_learner(X, Y, step_size=0.01, epochs=10, random_seed=42):\n",
        "    \"\"\"\n",
        "    Trains a binary classification model using batch gradient descent and returns a predictor function.\n",
        "\n",
        "    Parameters:\n",
        "    X (numpy array): Feature matrix of size (n, d+1), where n is the number of samples\n",
        "                     and d is the number of features. The first column should be all 1s.\n",
        "    Y (numpy array): Target vector of size (n,).\n",
        "    step_size (float): The step size for gradient descent.\n",
        "    epochs (int): The number of iterations to run gradient descent.\n",
        "    decision_boundary (float): The decision boundary for classification.\n",
        "    random_seed (int, optional): The seed for the random number generator.\n",
        "\n",
        "    Returns:\n",
        "    predictor (function): A function that takes a feature vector or matrix and returns a predicted class (0 or 1).\n",
        "    w (numpy array): The final weights after applying gradient descent for the specified epochs.\n",
        "    \"\"\"\n",
        "    # Use the bgd_logistic_regression_learner to train the model\n",
        "    predictor, w = bgd_logistic_regression_learner(X, Y, step_size, epochs, random_seed)\n",
        "\n",
        "    # Define a new predictor function that uses the decision boundary\n",
        "    def binary_predictor(x):\n",
        "        return (predictor(x) >= 0.5).astype(int)\n",
        "\n",
        "    return binary_predictor, w"
      ]
    },
    {
      "cell_type": "markdown",
      "metadata": {
        "deletable": false,
        "editable": false,
        "id": "DE74LqWiq0GF"
      },
      "source": [
        "### Question 2.5\n",
        "\n",
        "To evaluate the performance of the binary classification learner, we should use the zero-one loss function, since it measures the number of misclassifications.\n",
        "This is in contrast to the cross-entropy loss function, which measures the difference between the predicted probability and the true label.\n",
        "Since our objective is to predict class labels correctly, the zero-one loss is more appropriate for evaluating the performance of a binary classification learner.\n",
        "\n",
        "Recall however that the `binary_classification_learner` makes use of the `bgd_logistic_regression_learner`, which is actually minimizing the cross-entropy loss instead of the zero-one loss.\n",
        "Intuitively, we might expect that if we predict the probability of a data point being Not-Barolo correctly, we should also predict the class label correctly.\n",
        "To confirm this intuition, we would like to plot the estimated loss of the predictor output by the `binary_classification_learner` as a function of the number of epochs using the zero-one loss function.\n",
        "\n",
        "To do this you first need to implement the zero-one loss function, which is defined as:\n",
        "$$\\ell(\\hat y, y) = \\begin{cases} 0 & \\text{if } \\hat y = y \\\\ 1 & \\text{if } \\hat y \\neq y \\end{cases}$$\n",
        "\n",
        "As before, you should assume the inputs are vectors represented as numpy arrarys.\n",
        "\n",
        "Complete the implemention of `zero_one_loss`.\n",
        "\n",
        "\n",
        "_Points:_ 4"
      ]
    },
    {
      "cell_type": "code",
      "execution_count": 26,
      "metadata": {
        "tags": [
          "otter_answer_cell"
        ],
        "id": "NWM9ZI7nq0GF"
      },
      "outputs": [],
      "source": [
        "def zero_one_loss(Y_pred, Y):\n",
        "    \"\"\"\n",
        "    Compute the 0-1 loss for binary classification.\n",
        "\n",
        "    Parameters:\n",
        "    Y_pred (numpy array): Predicted labels of shape (n,).\n",
        "    Y (numpy array): True labels of shape (n,).\n",
        "\n",
        "    Returns:\n",
        "    loss (numpy array): 0-1 loss of shape (n,).\n",
        "    \"\"\"\n",
        "\n",
        "    ### YOUR CODE HERE ###\n",
        "\n",
        "    loss = ((Y_pred >= 0.5).astype(int) != Y).astype(int) # this is a placeholder, replace it with the correct value\n",
        "\n",
        "    ######################\n",
        "\n",
        "    return loss"
      ]
    },
    {
      "cell_type": "code",
      "execution_count": 27,
      "metadata": {
        "deletable": false,
        "editable": false,
        "id": "ooDl-bdIq0GF",
        "outputId": "db713804-fff2-4831-d44c-d45bbab399f4",
        "colab": {
          "base_uri": "https://localhost:8080/",
          "height": 47
        }
      },
      "outputs": [
        {
          "output_type": "execute_result",
          "data": {
            "text/plain": [
              "q2_5 results: All test cases passed!"
            ],
            "text/html": [
              "<p><strong><pre style='display: inline;'>q2_5</pre></strong> passed! 🎉</p>"
            ]
          },
          "metadata": {},
          "execution_count": 27
        }
      ],
      "source": [
        "grader.check(\"q2_5\")"
      ]
    },
    {
      "cell_type": "markdown",
      "metadata": {
        "id": "6-ag6yS1q0GF"
      },
      "source": [
        "### Plotting the Estimated Zero-One Loss\n",
        "\n",
        "Below is a plot of the estimated loss (using the zero-one loss function) for the predictor output by the `binary_classification_learner` as a function of the number of epochs.\n",
        "We also plot the estimated loss using the cross-entropy loss function for comparison.\n",
        "\n",
        "If your implementation of `zero_one_loss` is correct, you should see the zero-one loss decrease as the number of epochs increases.\n",
        "However, it likely will not decrease as smoothly as the cross-entropy loss, since the `bgd_logistic_regression_learner` is not directly minimizing the zero-one loss."
      ]
    },
    {
      "cell_type": "code",
      "execution_count": null,
      "metadata": {
        "id": "FZhHkGzXq0GF",
        "cellView": "form"
      },
      "outputs": [],
      "source": [
        "# @title Plot\n",
        "\n",
        "# Function to plot the loss values\n",
        "def plot_ce_zo_loss_bin(show_plot):\n",
        "    # Define the number of epochs\n",
        "    epochs = 200\n",
        "\n",
        "    # Initialize lists to store the loss values\n",
        "    binary_cross_entropy_loss_values = []\n",
        "    zero_one_loss_values = []\n",
        "\n",
        "    # Train the model and compute the loss for each epoch\n",
        "    for epoch in range(1, epochs + 1):\n",
        "        predictor_log, w = bgd_logistic_regression_learner(X_train_norm_bin, Y_train_bin, step_size=0.2, epochs=epoch, random_seed=random_seed)\n",
        "        predictor_bin, w = binary_classification_learner(X_train_norm_bin, Y_train_bin, step_size=0.2, epochs=epoch, random_seed=random_seed)\n",
        "        binary_cross_entropy_loss_value = estimated_loss(predictor_log, X_train_norm_bin, Y_train_bin, binary_cross_entropy_loss)\n",
        "        zero_one_loss_value = estimated_loss(predictor_bin, X_train_norm_bin, Y_train_bin, zero_one_loss)\n",
        "        binary_cross_entropy_loss_values.append(binary_cross_entropy_loss_value)\n",
        "        zero_one_loss_values.append(zero_one_loss_value)\n",
        "\n",
        "    if show_plot:\n",
        "        plt.figure(figsize=(10, 6))\n",
        "        plt.plot(range(1, epochs + 1), binary_cross_entropy_loss_values, label='Cross-Entropy Loss', linewidth=3)\n",
        "        plt.plot(range(1, epochs + 1), zero_one_loss_values, label='Zero-One Loss', linewidth=3)\n",
        "        plt.xlabel('Epochs')\n",
        "        plt.ylabel('Estimated Loss')\n",
        "        plt.legend()\n",
        "        plt.grid(True)\n",
        "        plt.show()\n",
        "    else:\n",
        "        clear_output()\n",
        "\n",
        "# Create a checkbox widget\n",
        "show_plot_checkbox_ce_zo_loss_binary = widgets.Checkbox(value=False, description='Show Plot')\n",
        "\n",
        "# Use interactive_output to link the function with the checkbox\n",
        "interactive_plot_loss_ce_zo_loss_binary = interactive_output(plot_ce_zo_loss_bin, {'show_plot': show_plot_checkbox_ce_zo_loss_binary})\n",
        "\n",
        "# Display the checkbox and the plot\n",
        "display(show_plot_checkbox_ce_zo_loss_binary, interactive_plot_loss_ce_zo_loss_binary)"
      ]
    },
    {
      "cell_type": "markdown",
      "metadata": {
        "id": "xVO71reGq0GF"
      },
      "source": [
        "### Plotting a Linear Decision Boundary\n",
        "\n",
        "The binary classification predictor outputs the class 1 if the logistic regression predictor outputs a probability greater than 0.5.\n",
        "Since the logistic regression predictor is given by $\\sigma(\\mathbf{x}^\\top \\mathbf{w})$, it implies that $\\mathbf{x}^\\top \\mathbf{w} \\ge 0$ when $\\sigma(\\mathbf{x}^\\top \\mathbf{w}) \\ge 0.5$.\n",
        "Thus, to visualize when the binary classification predictor decides to output the class 0, or 1, we can plot the line $\\mathbf{x}^\\top \\mathbf{w} = 0$, which is called the *decision boundary*.\n",
        "\n",
        "The decision boundary is learned based on the training dataset shown on the left.\n",
        "We plot the same decision boundary on the right to show how well it does on the test set."
      ]
    },
    {
      "cell_type": "code",
      "execution_count": null,
      "metadata": {
        "id": "OHrt0RRhq0GF",
        "cellView": "form"
      },
      "outputs": [],
      "source": [
        "# @title Plot\n",
        "\n",
        "# Function to show/hide the plot\n",
        "def plot_db_binary(show_plot):\n",
        "    # Define the decision boundary function\n",
        "    def plot_decision_boundary(X, Y, f, title, ax):\n",
        "        # Create a mesh grid\n",
        "        x_min, x_max = -2.8, 2.8  # Hardcoded x-limits\n",
        "        y_min, y_max = -2.2, 3.8  # Hardcoded y-limits\n",
        "        xx, yy = np.meshgrid(np.arange(x_min, x_max, 0.01),\n",
        "                            np.arange(y_min, y_max, 0.01))\n",
        "\n",
        "        # Compute the decision boundary\n",
        "        Z = f(np.c_[np.ones((xx.ravel().shape[0], 1)), xx.ravel(), yy.ravel()])\n",
        "        Z = Z.reshape(xx.shape)\n",
        "\n",
        "        # Plot the decision boundary\n",
        "        ax.contourf(xx, yy, Z, alpha=0.8, levels=[0, 0.5, 1], colors=['#FFAAAA', '#AAAAFF'])\n",
        "        ax.scatter(X[Y == 0][:, 1], X[Y == 0][:, 2], color='red', label='Barolo', s=50)\n",
        "        ax.scatter(X[Y == 1][:, 1], X[Y == 1][:, 2], color='blue', label='Not-Barolo', s=50)\n",
        "        ax.set_xlabel('Alcohol (normalized)')\n",
        "        ax.set_ylabel('Malic Acid (normalized)')\n",
        "        ax.set_title(title)\n",
        "\n",
        "        # Hardcoded limits to ensure consistency across both plots\n",
        "        ax.set_xlim(x_min, x_max)\n",
        "        ax.set_ylim(y_min, y_max)\n",
        "        ax.legend()\n",
        "\n",
        "    epochs = 10000\n",
        "\n",
        "    if show_plot:\n",
        "        # Create subplots\n",
        "        fig, axes = plt.subplots(1, 2, figsize=(15, 6))\n",
        "\n",
        "        predictor, w = binary_classification_learner(X_train_norm_bin, Y_train_bin, step_size=0.2, epochs=epochs, random_seed=random_seed)\n",
        "        # Plot the decision boundary on the training set\n",
        "        plot_decision_boundary(X_train_norm_bin, Y_train_bin, predictor, 'Training Set', axes[0])\n",
        "\n",
        "        # Plot the decision boundary on the test set\n",
        "        plot_decision_boundary(X_test_norm_bin, Y_test_bin, predictor, 'Test Set', axes[1])\n",
        "\n",
        "        plt.show()\n",
        "    else:\n",
        "        clear_output()\n",
        "\n",
        "# Create a checkbox widget\n",
        "show_plot_checkbox_db_binary = widgets.Checkbox(value=False, description='Show Plot')\n",
        "\n",
        "# Use interactive_output to link the function with the checkbox\n",
        "interactive_plot_db_binary = interactive_output(plot_db_binary, {'show_plot': show_plot_checkbox_db_binary})\n",
        "\n",
        "# Display the checkbox and the plot\n",
        "display(show_plot_checkbox_db_binary, interactive_plot_db_binary)"
      ]
    },
    {
      "cell_type": "markdown",
      "metadata": {
        "id": "AUUUjIniq0GF"
      },
      "source": [
        "From the above plot we might notice that if the decision boundary did not have to be a straight line, we could have achieved a better separation between the two classes.\n",
        "To achieve this, we can change the function class used by the logistic regression learner.\n",
        "So far the logistic regression learner has been using the following logistic function class:\n",
        "$$\\bar{\\mathcal{F}}_1 = \\{ f | f: \\mathbb{R}^{d+1} \\to \\{0, 1\\}, \\text{ where } f(\\mathbf{x}) = \\sigma(\\mathbf{x}^\\top \\mathbf{w}), \\text { and } \\mathbf{w} \\in \\mathbb{R}^{d+1}\\}.$$\n",
        "The reason the decision boundary was a straight line is because the input to the sigmoid function was a linear function of the features.\n",
        "To allow for more complex decision boundaries, we can change the features to be polynomial features of the original features.\n",
        "For a degree $p$, the polynomial logistic function class is defined as:\n",
        "$$\\bar{\\mathcal{F}_p} = \\{ f | f: \\mathbb{R}^{d+1} \\to \\{0, 1\\}, \\text{ where } f(\\mathbf{x}) = \\sigma(\\phi_p(\\mathbf{x})^\\top \\mathbf{w}), \\text { and } \\mathbf{w} \\in \\mathbb{R}^{\\bar{p}+1}\\}.$$\n",
        "where $\\phi_p$ is the polynomial feature function that takes a feature vector $\\mathbf{x}$ and a degree $p$ and returns a feature vector of all polynomial features up to degree $p$.\n",
        "\n",
        "The function `phi_p` below is an implementation of the polynomial feature function $\\phi_p$ for a feature matrix `X` and a degree `p`.\n"
      ]
    },
    {
      "cell_type": "code",
      "execution_count": 28,
      "metadata": {
        "id": "pxayyWIiq0GF"
      },
      "outputs": [],
      "source": [
        "def phi_p(X, p):\n",
        "    \"\"\"\n",
        "    Transforms the input feature matrix X into polynomial features of degree p and normalizes them.\n",
        "\n",
        "    Parameters:\n",
        "    X (numpy.ndarray): Input feature matrix where each row is a feature vector.\n",
        "    p (int): Degree of the polynomial features.\n",
        "\n",
        "    Returns:\n",
        "    poly_features (numpy.ndarray): Transformed and normalized polynomial features.\n",
        "    mean (numpy.ndarray): Mean of the polynomial features used for normalization.\n",
        "    std (numpy.ndarray): Standard deviation of the polynomial features used for normalization.\n",
        "    \"\"\"\n",
        "    # Create PolynomialFeatures instance with the desired degree\n",
        "    poly = PolynomialFeatures(degree=p, include_bias=False)\n",
        "\n",
        "    # Transform the feature matrix to polynomial features\n",
        "    poly_features = poly.fit_transform(X)\n",
        "\n",
        "    return poly_features"
      ]
    },
    {
      "cell_type": "markdown",
      "metadata": {
        "id": "ZLKUgpbWq0GF"
      },
      "source": [
        "### Plotting Polynomial Decision Boundaries\n",
        "\n",
        "Below is a plot of the decision boundary for different polynomial degrees $p$.\n",
        "You should see that as $p$ increases the decision boundary becomes more complex and can better separate the two classes in the training set.\n",
        "However, as $p$ increases the decision boundary may become too complex and overfit the training data, leading to poor performance on the test set."
      ]
    },
    {
      "cell_type": "code",
      "execution_count": null,
      "metadata": {
        "id": "TX9RBnmzq0GG",
        "cellView": "form"
      },
      "outputs": [],
      "source": [
        "# @title Plot\n",
        "\n",
        "# Function to show/hide the plot and update the polynomial degree\n",
        "def update_plot_db_binary_poly(show_plot, degree):\n",
        "\n",
        "    # Define the number of epochs and polynomial degree\n",
        "    epochs = 10000\n",
        "\n",
        "    # Define the decision boundary function for polynomial features\n",
        "    def plot_decision_boundary_poly(X, Y, f, degree, title, X_poly_mean=None, X_poly_std=None, ax=None):\n",
        "        # Create a mesh grid\n",
        "        x_min, x_max = -2.8, 2.8  # Hardcoded x-limits\n",
        "        y_min, y_max = -2.2, 3.8  # Hardcoded y-limits\n",
        "        xx, yy = np.meshgrid(np.arange(x_min, x_max, 0.01),\n",
        "                            np.arange(y_min, y_max, 0.01))\n",
        "\n",
        "        # Transform the mesh grid to polynomial features\n",
        "        poly_features = phi_p(np.c_[xx.ravel(), yy.ravel()], degree)\n",
        "\n",
        "        # Normalize the polynomial features using the same mean and std as the training set\n",
        "        poly_features = (poly_features - X_poly_mean) / X_poly_std\n",
        "\n",
        "        # Append a column of 1s to the features for the bias term\n",
        "        poly_features = np.hstack([np.ones((poly_features.shape[0], 1)), poly_features])\n",
        "\n",
        "        # Compute the decision boundary\n",
        "        Z = f(poly_features)\n",
        "        Z = Z.reshape(xx.shape)\n",
        "\n",
        "        # Plot the decision boundary\n",
        "        ax.contourf(xx, yy, Z, alpha=0.8, levels=[0, 0.5, 1], colors=['#FFAAAA', '#AAAAFF'])\n",
        "        ax.scatter(X[Y == 0][:, 1], X[Y == 0][:, 2], color='red', label='Barolo', s=50)\n",
        "        ax.scatter(X[Y == 1][:, 1], X[Y == 1][:, 2], color='blue', label='Not-Barolo', s=50)\n",
        "        ax.set_xlabel('Alcohol (normalized)')\n",
        "        ax.set_ylabel('Malic Acid (normalized)')\n",
        "        ax.set_ylim(y_min, y_max)\n",
        "        ax.set_xlim(x_min, x_max)\n",
        "        ax.set_title(title)\n",
        "        ax.legend()\n",
        "\n",
        "    if show_plot:\n",
        "        # Transform the input features to polynomial features of the selected degree\n",
        "        X_poly_train = phi_p(X_train_norm_bin[:, 1:], degree)\n",
        "        X_poly_test = phi_p(X_test_norm_bin[:, 1:], degree)\n",
        "\n",
        "        # Normalize the polynomial features\n",
        "        X_poly_mean = X_poly_train.mean(axis=0)\n",
        "        X_poly_std = X_poly_train.std(axis=0) + 1e-8\n",
        "        X_poly_train = (X_poly_train - X_poly_mean) / X_poly_std\n",
        "        X_poly_test = (X_poly_test - X_poly_mean) / X_poly_std\n",
        "\n",
        "        # Append a column of 1s to the features for the bias term\n",
        "        X_poly_train = np.hstack([np.ones((X_poly_train.shape[0], 1)), X_poly_train])\n",
        "        X_poly_test = np.hstack([np.ones((X_poly_test.shape[0], 1)), X_poly_test])\n",
        "\n",
        "        # Train the model using polynomial features\n",
        "        predictor_poly, w_poly = binary_classification_learner(X_poly_train, Y_train_bin, step_size=0.2, epochs=epochs, random_seed=random_seed)\n",
        "\n",
        "        # Create subplots\n",
        "        fig, axes = plt.subplots(1, 2, figsize=(15, 6))\n",
        "\n",
        "        # Plot the decision boundary on the training set\n",
        "        plot_decision_boundary_poly(X_poly_train, Y_train_bin, predictor_poly, degree, f'Training Set (Polynomial Degree {degree})', X_poly_mean, X_poly_std, ax=axes[0])\n",
        "\n",
        "        # Plot the decision boundary on the test set\n",
        "        plot_decision_boundary_poly(X_poly_test, Y_test_bin, predictor_poly, degree, f'Test Set (Polynomial Degree {degree})', X_poly_mean, X_poly_std, ax=axes[1])\n",
        "\n",
        "        plt.show()\n",
        "    else:\n",
        "        clear_output()\n",
        "\n",
        "# Create a checkbox widget\n",
        "show_plot_checkbox_db_binary_poly = widgets.Checkbox(value=False, description='Show Plot')\n",
        "\n",
        "# Create a slider widget for selecting the polynomial degree\n",
        "degree_slider_db_binary_poly = widgets.IntSlider(value=1, min=1, max=10, step=0.5, description='Degree')\n",
        "\n",
        "# Use interactive_output to link the function with the checkbox and slider\n",
        "interactive_plot_db_binary_poly = interactive_output(update_plot_db_binary_poly, {'show_plot': show_plot_checkbox_db_binary_poly, 'degree': degree_slider_db_binary_poly})\n",
        "\n",
        "# Display the checkbox, slider, and the plot\n",
        "display(show_plot_checkbox_db_binary_poly, degree_slider_db_binary_poly, interactive_plot_db_binary_poly)"
      ]
    },
    {
      "cell_type": "markdown",
      "metadata": {
        "id": "NX4q0aWTq0GG"
      },
      "source": [
        "To see which polynomial degree $p$ performs best on the test set, we will plot the estimated zero-one loss of the predictor output by the `binary_classification_learner` as a function of the polynomial degree $p$.\n",
        "We also plot the estimated zero-one loss on the training set for comparison.\n",
        "\n",
        "You should see that on the training set the zero-one loss decreases as $p$ increases, since the decision boundary can better separate the two classes.\n",
        "You should also see that on the test set the zero-one loss decreases as $p$ increases up to a certain point, after which the zero-one loss increases.\n",
        "If we were trying to select the best predictor, we would select the predictor with the lowest zero-one loss on the test set, which should be at $p=4$ in the plot below."
      ]
    },
    {
      "cell_type": "code",
      "execution_count": null,
      "metadata": {
        "id": "Jc-vdsEEq0GG",
        "cellView": "form"
      },
      "outputs": [],
      "source": [
        "# @title Plot\n",
        "\n",
        "# Function to show/hide the plot\n",
        "def plot_loss_vs_deg_bin(show_plot):\n",
        "    epochs = 10000\n",
        "    # Define the range of polynomial degrees\n",
        "    degrees_binary = range(1, 11)\n",
        "\n",
        "    # Initialize lists to store the loss values\n",
        "    train_zero_one_loss_values_by_degree = []\n",
        "    test_zero_one_loss_values_by_degree = []\n",
        "\n",
        "    # Train the model and compute the loss for each polynomial degree\n",
        "    for degree in degrees_binary:\n",
        "        # Transform the input features to polynomial features of the selected degree\n",
        "        X_poly_train = phi_p(X_train_norm_bin[:, 1:], degree)\n",
        "        X_poly_test = phi_p(X_test_norm_bin[:, 1:], degree)\n",
        "\n",
        "        # Normalize the polynomial features\n",
        "        X_poly_mean = X_poly_train.mean(axis=0)\n",
        "        X_poly_std = X_poly_train.std(axis=0) + 1e-8\n",
        "        X_poly_train = (X_poly_train - X_poly_mean) / X_poly_std\n",
        "        X_poly_test = (X_poly_test - X_poly_mean) / X_poly_std\n",
        "\n",
        "        # Append a column of 1s to the features for the bias term\n",
        "        X_poly_train = np.hstack([np.ones((X_poly_train.shape[0], 1)), X_poly_train])\n",
        "        X_poly_test = np.hstack([np.ones((X_poly_test.shape[0], 1)), X_poly_test])\n",
        "\n",
        "        # Train the model using polynomial features\n",
        "        predictor_poly, w_poly = binary_classification_learner(X_poly_train, Y_train_bin, step_size=0.2, epochs=epochs, random_seed=random_seed)\n",
        "\n",
        "        # Compute the train and test 0-1 loss\n",
        "        train_zero_one_loss_value = estimated_loss(predictor_poly, X_poly_train, Y_train_bin, zero_one_loss)\n",
        "        test_zero_one_loss_value = estimated_loss(predictor_poly, X_poly_test, Y_test_bin, zero_one_loss)\n",
        "\n",
        "        # Store the loss values\n",
        "        train_zero_one_loss_values_by_degree.append(train_zero_one_loss_value)\n",
        "        test_zero_one_loss_values_by_degree.append(test_zero_one_loss_value)\n",
        "\n",
        "    if show_plot:\n",
        "        plt.figure(figsize=(10, 6))\n",
        "        plt.plot(degrees_binary, train_zero_one_loss_values_by_degree, label='Train Zero-One Loss', linewidth=3)\n",
        "        plt.plot(degrees_binary, test_zero_one_loss_values_by_degree, label='Test Zero-One Loss', linewidth=3)\n",
        "        plt.xlabel('Polynomial Degree')\n",
        "        plt.legend()\n",
        "        plt.grid(True)\n",
        "        plt.show()\n",
        "    else:\n",
        "        clear_output()\n",
        "\n",
        "# Create a checkbox widget\n",
        "show_plot_checkbox_loss_vs_deg_bin = widgets.Checkbox(value=False, description='Show Plot')\n",
        "\n",
        "# Use interactive_output to link the function with the checkbox\n",
        "interactive_plot_loss_vs_deg_bin = interactive_output(plot_loss_vs_deg_bin, {'show_plot': show_plot_checkbox_loss_vs_deg_bin})\n",
        "\n",
        "# Display the checkbox and the plot\n",
        "display(show_plot_checkbox_loss_vs_deg_bin, interactive_plot_loss_vs_deg_bin)"
      ]
    },
    {
      "cell_type": "markdown",
      "metadata": {
        "id": "Lj5QOPgyq0GG"
      },
      "source": [
        "# Part 3: Multiclass Classification\n",
        "\n",
        "In multiclass classification, the set of labels $\\mathcal{Y}$ contains more than 2 classes.\n",
        "In our particular case, the set of labels $\\mathcal{Y} = \\{0, 1, 2\\}$ represents the cultivar of the wine (Barolo, Grignolino, Barbera).\n",
        "Thus, we will be using all the labels in our dataset from now on, represented as the matrix `Y`.\n",
        "\n",
        "In this section our goal is to implement the multiclass classification learner we learned in class."
      ]
    },
    {
      "cell_type": "markdown",
      "metadata": {
        "deletable": false,
        "editable": false,
        "id": "IXqRdrEMq0GG"
      },
      "source": [
        "### Question 3.1\n",
        "\n",
        "We will first need to implement the `softmax` function, which is used as the predictor function by the softmax regression learner.\n",
        "In class we learned that the softmax function is defined as:\n",
        "$$\\sigma_y(\\mathbf{z}) = \\sigma_y(z_0, \\dots, z_{\\mathrm{K-1}}) = \\frac{e^{z_y}}{\\sum_{q=0}^{\\mathrm{K}-1} e^{z_q}}$$\n",
        "where $\\mathbf{z} \\in \\mathbb{R}^{\\mathrm{K}}$, $\\mathrm{K}$ is the number of classes and $y \\in \\cal{Y}$.\n",
        "\n",
        "If for some $y$, $z_y$ is large, then $e^{z_y}$ will be very large and can cause an overflow error.\n",
        "To avoid this, we can rewrite the softmax function as:\n",
        "$$\\sigma_y(\\mathbf{z}) = \\sigma_y(z_0, \\dots, z_{\\mathrm{K}-1}) = \\frac{e^{z_y}}{\\sum_{q=0}^{\\mathrm{K}-1} e^{z_q}} = \\frac{e^{z_y}}{\\sum_{q=0}^{\\mathrm{K}-1} e^{z_q}} \\cdot \\frac{e^{-\\max_{l} z_l}}{e^{-\\max_{l} z_l}} = \\frac{e^{z_y - \\max_{l} z_l}}{\\sum_{q=0}^{\\mathrm{K}-1} e^{z_q - \\max_{l} z_l}}.$$\n",
        "This way the exponential function will never take as input a number larger than 0, which will prevent overflow errors.\n",
        "\n",
        "For similar reasons as we have discussed in [Question 2.1](#question-2.1), it is often preferred to use vectors or matrices as input and output for the softmax function.\n",
        "In particular, we can store all $\\mathrm{K}$ different softmax outputs into a single vector and define a vector softmax function as:\n",
        "$$\\sigma(\\mathbf{z}) = (\\sigma_0(\\mathbf{z}), \\dots, \\sigma_{\\mathrm{K}-1}(\\mathbf{z}))^\\top \\in [0, 1]^{\\mathrm{K}}.$$\n",
        "We would also like to compute the softmax function for multiple data points at once.\n",
        "That means the input to the `softmax` function will be a matrix `Z` with $n$ rows and $\\mathrm{K}$ columns, where each row represents a data point and each column represents a class.\n",
        "\n",
        "In your implementation of the softmax function you should assume the input is a matrix represented as a numpy arrary.\n",
        "You should then return a matrix of the same shape where each row is the vector softmax function $\\sigma$ applied to the corresponding row of the input matrix.\n",
        "\n",
        "You may find the functions: `np.exp`, `np.sum`, and `np.max` useful for this implementation.\n",
        "\n",
        "Complete the implementation of `softmax`.\n",
        "\n",
        "_Points:_ 8"
      ]
    },
    {
      "cell_type": "code",
      "execution_count": 29,
      "metadata": {
        "tags": [
          "otter_answer_cell"
        ],
        "id": "YdyHyxZ9q0GG"
      },
      "outputs": [],
      "source": [
        "def softmax(Z):\n",
        "    \"\"\"\n",
        "    Compute the softmax of each row of the input array.\n",
        "\n",
        "    Parameters:\n",
        "    z (numpy array): Input array of shape (n, K) where n is the number of samples and K is the number of classes.\n",
        "\n",
        "    Returns:\n",
        "    result (numpy array): Softmax probabilities of shape (n, K).\n",
        "    \"\"\"\n",
        "\n",
        "    ### YOUR CODE HERE ###\n",
        "\n",
        "    Z_max = np.max(Z, axis=1, keepdims=True)\n",
        "    exp_Z = np.exp(Z - Z_max)\n",
        "    sum_exp_Z = np.sum (exp_Z, axis=1, keepdims=True)\n",
        "    result = exp_Z / sum_exp_Z # this is a placeholder, replace it with the correct value\n",
        "\n",
        "    ######################\n",
        "\n",
        "    return result"
      ]
    },
    {
      "cell_type": "code",
      "execution_count": 30,
      "metadata": {
        "deletable": false,
        "editable": false,
        "id": "J5oEBzpZq0GG",
        "outputId": "0fba0291-213f-4915-dfa0-02b11e37bdfe",
        "colab": {
          "base_uri": "https://localhost:8080/",
          "height": 47
        }
      },
      "outputs": [
        {
          "output_type": "execute_result",
          "data": {
            "text/plain": [
              "q3_1 results: All test cases passed!"
            ],
            "text/html": [
              "<p><strong><pre style='display: inline;'>q3_1</pre></strong> passed! 🌈</p>"
            ]
          },
          "metadata": {},
          "execution_count": 30
        }
      ],
      "source": [
        "grader.check(\"q3_1\")"
      ]
    },
    {
      "cell_type": "markdown",
      "metadata": {
        "deletable": false,
        "editable": false,
        "id": "rUaVcjiVq0GG"
      },
      "source": [
        "### Question 3.2\n",
        "\n",
        "Now we are ready to implement the softmax regression learner using batch gradient descent.\n",
        "That is, you need to finish the implementation of the `bgd_softmax_regression_learner` function by adding the batch gradient descent update rule with a constant step size $\\eta^{(t)} = \\eta$.\n",
        "Recall that the update rule (for class $y \\in \\cal{Y} = \\{0, \\dots, \\mathrm{K} - 1\\}$) for batch gradient descent is:\n",
        "$$\\mathbf{w}_y^{(t+1)} = \\mathbf{w}_y^{(t)} - \\eta^{(t)} \\nabla_{\\mathbf{w}_y} \\hat L(\\mathbf{w}_0^{(t)}, \\cdots, \\mathbf{w}_{K-1}^{(t)}) \\quad \\text{where} \\quad \\nabla_{\\mathbf{w}_y} \\hat L(\\mathbf{w}_0^{(t)}, \\cdots, \\mathbf{w}_{K-1}^{(t)}) = \\left(\\frac{\\partial \\hat L}{\\partial \\mathbf{w}_{y0}}, \\dots, \\frac{\\partial \\hat L}{\\partial \\mathbf{w}_{yd}}\\right)^\\top,$$\n",
        "$$\\hat L(\\mathbf{w}_0^{(t)}, \\cdots, \\mathbf{w}_{K-1}^{(t)}) = \\frac{1}{n} \\sum_{i=1}^{n} \\ell(\\sigma(\\mathbf{x}_i^\\top \\mathbf{w}_0, \\dots, \\mathbf{x}_i^\\top \\mathbf{w}_{K-1}), y_i),$$\n",
        "and $\\ell$ is now the multiclass cross-entropy loss function:\n",
        "$$\\ell(\\hat{\\mathbf{y}}, y) = -\\sum_{q=0}^{\\mathrm{K}-1} \\textbf{I}_{\\{q\\}}(y) \\log(\\hat y_q) \\quad \\text{where} \\quad \\hat{\\mathbf{y}} \\in [0, 1]^{\\mathrm{K}}, y \\in \\cal{Y}.$$\n",
        "The function $\\textbf{I}_{\\{q\\}}(y)$ is the indicator function that is 1 if $y = q$ and 0 otherwise, and $\\hat y_q$ is the $q$-th element of the vector $\\hat{\\mathbf{y}}$.\n",
        "\n",
        "Notice that $\\hat{\\mathbf{y}} \\in [0, 1]^{\\mathrm{K}}$ is a vector, while $y \\in \\cal{Y}$ is not.\n",
        "In your implementation of `bgd_softmax_regression_learner` you should assume that `Y` is a vector of labels from the set $\\cal{Y}$.\n",
        "To make the gradient calculation simpler, you may find it useful to convert `Y` into a matrix with $n$ rows and $\\mathrm{K}$ columns by using the \"one-hot\" function which takes an element $y \\in \\cal{Y}$ and maps it to an element $\\bar{\\mathbf{y}} \\in [0, 1]^\\mathrm{K}$ by setting the $y$-th element of $\\bar{\\mathbf{y}}$ to 1 and the rest to 0.\n",
        "For example, for $y \\in \\{0, 1, 2\\}$:\n",
        "$$\\text{one-hot}(y) = \\begin{cases} (1, 0, 0)^\\top & \\text{if } y = 0 \\\\ (0, 1, 0)^\\top & \\text{if } y = 1 \\\\ (0, 0, 1)^\\top & \\text{if } y = 2 \\end{cases}.$$\n",
        "\n",
        "Since there are $\\mathrm{K}$ weight vectors $\\mathbf{w}_0, \\dots, \\mathbf{w}_{\\mathrm{K}-1}$, we will store them in a matrix $\\mathbf{W}$ with $d+1$ rows and $\\mathrm{K}$ columns, where each column represents the weights for a class.\n",
        "\n",
        "Complete the implementation of `bgd_softmax_regression_learner`.\n",
        "\n",
        "_Points:_ 12"
      ]
    },
    {
      "cell_type": "code",
      "execution_count": 34,
      "metadata": {
        "tags": [
          "otter_answer_cell"
        ],
        "id": "bIfG_iYvq0GG"
      },
      "outputs": [],
      "source": [
        "def bgd_softmax_regression_learner(X, Y, step_size=0.01, epochs=10, random_seed=42):\n",
        "    \"\"\"\n",
        "    Trains a softmax regression model using batch gradient descent.\n",
        "\n",
        "    Parameters:\n",
        "    X (numpy array): Feature matrix of size (n, d+1), where n is the number of samples\n",
        "                     and d is the number of features. The first column should be all 1s.\n",
        "    Y (numpy array): Target vector of size (n,) with class labels.\n",
        "    step_size (float): The step size for gradient descent.\n",
        "    epochs (int): The number of iterations to run gradient descent.\n",
        "    random_seed (int, optional): The seed for the random number generator.\n",
        "\n",
        "    Returns:\n",
        "    predictor (function): A function that takes a feature vector or matrix and returns predicted probabilities.\n",
        "    W (numpy array): The final weights after applying gradient descent for the specified epochs.\n",
        "    \"\"\"\n",
        "    np.random.seed(random_seed)\n",
        "    n, d = X[:, 1:].shape\n",
        "    K = len(np.unique(Y))  # Number of classes\n",
        "    W = np.random.randn(d+1, K)  # Initialize the weights randomly\n",
        "\n",
        "    ### YOUR CODE HERE ###\n",
        "    for epoch in range(epochs):\n",
        "      Z = X @ W\n",
        "      P = softmax(Z)\n",
        "      Y_one_hot = np.zeros_like(P)\n",
        "      Y_one_hot [np.arange(n), Y] = 1\n",
        "      gradient = (1/n) * X.T @ (P - Y_one_hot)\n",
        "      W = W - step_size * gradient\n",
        "\n",
        "\n",
        "    ######################\n",
        "\n",
        "    def predictor(x):\n",
        "        return softmax(x @ W)\n",
        "\n",
        "    return predictor, W"
      ]
    },
    {
      "cell_type": "code",
      "execution_count": 35,
      "metadata": {
        "deletable": false,
        "editable": false,
        "id": "L6E_2nwMq0GG",
        "outputId": "e55f623e-5ef9-4691-c3cf-b74feb43325e",
        "colab": {
          "base_uri": "https://localhost:8080/",
          "height": 47
        }
      },
      "outputs": [
        {
          "output_type": "execute_result",
          "data": {
            "text/plain": [
              "q3_2 results: All test cases passed!"
            ],
            "text/html": [
              "<p><strong><pre style='display: inline;'>q3_2</pre></strong> passed! ✨</p>"
            ]
          },
          "metadata": {},
          "execution_count": 35
        }
      ],
      "source": [
        "grader.check(\"q3_2\")"
      ]
    },
    {
      "cell_type": "markdown",
      "metadata": {
        "deletable": false,
        "editable": false,
        "id": "T2XJ8Ftdq0GG"
      },
      "source": [
        "### Question 3.3\n",
        "\n",
        "We would like to plot the estimated loss of the predictor output by the `bgd_softmax_regression_learner` as a function of the number of epochs.\n",
        "To do this we need to implement the multiclass cross-entropy loss function, which we will use in the `estimated_loss` function.\n",
        "\n",
        "As discussed in [Question 3.2](#question-3.2), the multiclass cross-entropy loss function is defined as:\n",
        "$$\\ell(\\hat{\\mathbf{y}}, y) = -\\sum_{q=0}^{\\mathrm{K}-1} \\textbf{I}_{\\{q\\}}(y) \\log(\\hat y_q) \\quad \\text{where} \\quad \\hat{\\mathbf{y}} \\in [0, 1]^{\\mathrm{K}}, y \\in \\cal{Y}.$$\n",
        "\n",
        "Similar to the previous question you should assume that `Y` contains labels from the set $\\cal{Y}$.\n",
        "However, since `Y_hat` contains outputs of the softmax function, the rows of `Y_hat` will be elements of the set $[0, 1]^K$.\n",
        "You may again find it useful to convert `Y` into a matrix of labels before using it in the loss calculation.\n",
        "The reason for this is that the loss function can be written as:\n",
        "$$\\ell(\\hat{\\mathbf{y}}, \\bar{\\mathbf{y}}) = -\\sum_{q=0}^{\\mathrm{K}-1} \\bar{y}_q \\log(\\hat y_q),$$\n",
        "if both $\\hat{\\mathbf{y}}$ and $\\bar{\\mathbf{y}}$ are elements of $[0, 1]^K$.\n",
        "This can be efficiently implemented for each data point (rows of the matrices) by using `np.sum` and `np.log`.\n",
        "\n",
        "Complete the implementation of `multiclass_cross_entropy_loss`.\n",
        "\n",
        "_Points:_ 8"
      ]
    },
    {
      "cell_type": "code",
      "execution_count": 37,
      "metadata": {
        "tags": [
          "otter_answer_cell"
        ],
        "id": "MQ9jXRagq0GG"
      },
      "outputs": [],
      "source": [
        "def multiclass_cross_entropy_loss(Y_pred, Y):\n",
        "    \"\"\"\n",
        "    Compute the cross-entropy loss for multiclass classification.\n",
        "\n",
        "    Parameters:\n",
        "    Y_pred (numpy array): Predicted probabilities of shape (n, K) where n is the number of samples and K is the number of classes.\n",
        "    Y (numpy array): True labels (0, 1, 2) of shape (n,).\n",
        "\n",
        "    Returns:\n",
        "    loss (numpy array): Cross-entropy loss of shape (n,).\n",
        "    \"\"\"\n",
        "    # Clip predictions to avoid log(0)\n",
        "    Y_pred = np.clip(Y_pred, 1e-15, 1 - 1e-15)\n",
        "\n",
        "    ### YOUR CODE HERE ###\n",
        "\n",
        "    Y_one_hot = np.zeros_like(Y_pred)\n",
        "    Y_one_hot[np.arange(len(Y)), Y] = 1\n",
        "    loss = -np.sum(Y_one_hot * np.log(Y_pred), axis=1)\n",
        "\n",
        "    ######################\n",
        "\n",
        "    return loss"
      ]
    },
    {
      "cell_type": "code",
      "execution_count": 38,
      "metadata": {
        "deletable": false,
        "editable": false,
        "id": "6f6buZxIq0GG",
        "outputId": "9eb33e98-ba0b-44e0-d3c0-87804f5b7b36",
        "colab": {
          "base_uri": "https://localhost:8080/",
          "height": 47
        }
      },
      "outputs": [
        {
          "output_type": "execute_result",
          "data": {
            "text/plain": [
              "q3_3 results: All test cases passed!"
            ],
            "text/html": [
              "<p><strong><pre style='display: inline;'>q3_3</pre></strong> passed! ✨</p>"
            ]
          },
          "metadata": {},
          "execution_count": 38
        }
      ],
      "source": [
        "grader.check(\"q3_3\")"
      ]
    },
    {
      "cell_type": "markdown",
      "metadata": {
        "id": "ECBr3_Hfq0GH"
      },
      "source": [
        "### Plotting the Estimated Multiclass Cross-Entropy Loss\n",
        "\n",
        "Below is a plot of the estimated loss (using the multiclass cross-entropy loss function) for the predictor output by the `bgd_softmax_regression_learner` as a function of the number of epochs.\n",
        "\n",
        "If your implementation of `bgd_softmax_regression_learner` is correct, you should see the loss decrease as the number of epochs increases."
      ]
    },
    {
      "cell_type": "code",
      "execution_count": null,
      "metadata": {
        "id": "e4-t1Keeq0GH",
        "cellView": "form"
      },
      "outputs": [],
      "source": [
        "# @title Plot\n",
        "\n",
        "# Function to show/hide the plot\n",
        "def plot_ce_loss_multiclass(show_plot):\n",
        "    # Define the number of epochs\n",
        "    epochs = 200\n",
        "\n",
        "    # Initialize lists to store the loss values\n",
        "    cross_entropy_loss_values = []\n",
        "\n",
        "    # Train the model and compute the loss for each epoch\n",
        "    for epoch in range(1, epochs + 1):\n",
        "        predictor, W = bgd_softmax_regression_learner(X_train_norm_mul, Y_train_mul, step_size=0.1, epochs=epoch, random_seed=random_seed)\n",
        "        loss = estimated_loss(predictor, X_train_norm_mul, Y_train_mul, multiclass_cross_entropy_loss)\n",
        "        cross_entropy_loss_values.append(loss)\n",
        "\n",
        "    if show_plot:\n",
        "        # Plot the loss values\n",
        "        plt.figure(figsize=(10, 6))\n",
        "        plt.plot(range(1, epochs + 1), cross_entropy_loss_values, linewidth=3)\n",
        "        plt.xlabel('Epochs')\n",
        "        plt.ylabel('Estimated Cross-Entropy Loss')\n",
        "        plt.grid(True)\n",
        "        plt.show()\n",
        "    else:\n",
        "        clear_output()\n",
        "\n",
        "# Create a checkbox widget\n",
        "show_plot_checkbox_ce_loss_multiclass = widgets.Checkbox(value=False, description='Show Plot')\n",
        "\n",
        "# Use interactive_output to link the function with the checkbox\n",
        "interactive_plot_ce_loss_multiclass = interactive_output(plot_ce_loss_multiclass, {'show_plot': show_plot_checkbox_ce_loss_multiclass})\n",
        "\n",
        "# Display the checkbox and the plot\n",
        "display(show_plot_checkbox_ce_loss_multiclass, interactive_plot_ce_loss_multiclass)"
      ]
    },
    {
      "cell_type": "markdown",
      "metadata": {
        "id": "TIBgyL8zq0GH"
      },
      "source": [
        "### Multiclass Classification Learner\n",
        "\n",
        "Recall that our objective in multiclass classification is to predict the class of a data point as one of the three cultivars.\n",
        "So far we have implemented the softmax regression learner, which returns a predictor that outputs a proability of the data point being in each of the three classes.\n",
        "To make a prediction, we need to convert this probability to a class label.\n",
        "We can do this by selecting the class with the highest probability.\n",
        "This is implemented for you as `multiclass_classification_learner` below."
      ]
    },
    {
      "cell_type": "code",
      "execution_count": 39,
      "metadata": {
        "id": "EJE0UG-Fq0GH"
      },
      "outputs": [],
      "source": [
        "def multiclass_classification_learner(X, Y, step_size=0.01, epochs=10, random_seed=42):\n",
        "    \"\"\"\n",
        "    Trains a multiclass classification model using batch gradient descent and returns a predictor function.\n",
        "\n",
        "    Parameters:\n",
        "    X (numpy array): Feature matrix of size (n, d+1), where n is the number of samples\n",
        "                     and d is the number of features. The first column should be all 1s.\n",
        "    Y (numpy array): Target vector of size (n,) with class labels.\n",
        "    step_size (float): The step size for gradient descent.\n",
        "    epochs (int): The number of iterations to run gradient descent.\n",
        "    random_seed (int, optional): The seed for the random number generator.\n",
        "\n",
        "    Returns:\n",
        "    predictor (function): A function that takes a feature vector or matrix and returns predicted class.\n",
        "    W (numpy array): The final weights after applying gradient descent for the specified epochs.\n",
        "    \"\"\"\n",
        "    # Use the bgd_softmax_regression_learner to train the model\n",
        "    predictor, W = bgd_softmax_regression_learner(X, Y, step_size, epochs, random_seed)\n",
        "\n",
        "    # Define a new predictor function that returns the class with the highest probability\n",
        "    def multiclass_predictor(x):\n",
        "        probabilities = predictor(x)\n",
        "        return np.argmax(probabilities, axis=1)\n",
        "\n",
        "    return multiclass_predictor, W"
      ]
    },
    {
      "cell_type": "markdown",
      "metadata": {
        "id": "uD1fgBzuq0GH"
      },
      "source": [
        "### Plotting the Estimated Zero-One Loss\n",
        "\n",
        "Similar to the binary classification problem, we would like to evaluate the performance of the multiclass classification learner using the zero-one loss function.\n",
        "\n",
        "If your implementation of `multiclass_cross_entropy_loss` is correct, you should see the zero-one loss decrease as the number of epochs increases in the plot below.\n",
        "However, it likely will not decrease as smoothly as the cross-entropy loss, since the `bgd_softmax_regression_learner` is not directly minimizing the zero-one loss."
      ]
    },
    {
      "cell_type": "code",
      "execution_count": null,
      "metadata": {
        "id": "x_3VLeHgq0GH",
        "cellView": "form"
      },
      "outputs": [],
      "source": [
        "# @title Plot\n",
        "\n",
        "# Function to show/hide the plot\n",
        "def plot_ce_zo_loss_multi(show_plot):\n",
        "    # Define the number of epochs\n",
        "    epochs = 200\n",
        "\n",
        "    # Initialize lists to store the loss values\n",
        "    cross_entropy_loss_values = []\n",
        "    zero_one_loss_values = []\n",
        "\n",
        "    # Train the model and compute the loss for each epoch\n",
        "    for epoch in range(1, epochs + 1):\n",
        "        predictor, W = bgd_softmax_regression_learner(X_train_norm_mul, Y_train_mul, step_size=0.1, epochs=epoch, random_seed=random_seed)\n",
        "        loss = estimated_loss(predictor, X_train_norm_mul, Y_train_mul, multiclass_cross_entropy_loss)\n",
        "        cross_entropy_loss_values.append(loss)\n",
        "\n",
        "        # Compute 0-1 loss\n",
        "        predictor_class, W = multiclass_classification_learner(X_train_norm_mul, Y_train_mul, step_size=0.1, epochs=epoch, random_seed=random_seed)\n",
        "        zero_one_loss_value = estimated_loss(predictor_class, X_train_norm_mul, Y_train_mul, zero_one_loss)\n",
        "        zero_one_loss_values.append(zero_one_loss_value)\n",
        "\n",
        "    if show_plot:\n",
        "        # Plot the loss values\n",
        "        plt.figure(figsize=(10, 6))\n",
        "        plt.plot(range(1, epochs + 1), cross_entropy_loss_values, label='Cross-Entropy Loss', linewidth=3)\n",
        "        plt.plot(range(1, epochs + 1), zero_one_loss_values, label='Zero-One Loss', linewidth=3)\n",
        "        plt.xlabel('Epochs')\n",
        "        plt.ylabel('Estimated Loss')\n",
        "        plt.legend()\n",
        "        plt.grid(True)\n",
        "        plt.show()\n",
        "    else:\n",
        "        clear_output()\n",
        "\n",
        "# Create a checkbox widget\n",
        "show_plot_checkbox_ce_zo_loss_multi = widgets.Checkbox(value=False, description='Show Plot')\n",
        "\n",
        "# Use interactive_output to link the function with the checkbox\n",
        "interactive_plot_ce_zo_loss_multi = interactive_output(plot_ce_zo_loss_multi, {'show_plot': show_plot_checkbox_ce_zo_loss_multi})\n",
        "\n",
        "# Display the checkbox and the plot\n",
        "display(show_plot_checkbox_ce_zo_loss_multi, interactive_plot_ce_zo_loss_multi)"
      ]
    },
    {
      "cell_type": "markdown",
      "metadata": {
        "id": "jpRthMPSq0GH"
      },
      "source": [
        "### Plotting a Linear Decision Boundary\n",
        "\n",
        "The multiclass classification predictor outputs the class with the highest probability.\n",
        "Since the probability of a class $y \\in \\cal{Y}$ is given by $\\sigma_y(\\mathbf{x}^\\top \\mathbf{w}_y)$, it implies that the class with the highest probability is the class with the highest value of $\\mathbf{x}^\\top \\mathbf{w}_y$.\n",
        "If we have two different classes $y, y' \\in \\cal{Y}$, the decision boundary between these two classes is given by the line $\\mathbf{x}^\\top (\\mathbf{w}_y - \\mathbf{w}_{y'}) = 0$.\n",
        "This line represents when the predicted probability of class $y$ is equal to the predicted probability of class $y'$.\n",
        "Thus, anything to one side of the line will be predicted as class $y$ and anything to the other side will be predicted as class $y'$.\n",
        "\n",
        "Below we plot this decision boundary for all possible pairs of classes."
      ]
    },
    {
      "cell_type": "code",
      "execution_count": null,
      "metadata": {
        "id": "afm8pdMAq0GH",
        "cellView": "form"
      },
      "outputs": [],
      "source": [
        "# @title Plot\n",
        "\n",
        "# Function to show/hide the plot\n",
        "def plot_db_multi(show_plot):\n",
        "    # Function to plot the multiclass decision boundary\n",
        "    def plot_multiclass_decision_boundary(X, Y, f, title, ax):\n",
        "        # Create a mesh grid\n",
        "        x_min, x_max = -2.8, 2.8  # Hardcoded x-limits\n",
        "        y_min, y_max = -2.2, 3.8  # Hardcoded y-limits\n",
        "        xx, yy = np.meshgrid(np.arange(x_min, x_max, 0.01),\n",
        "                            np.arange(y_min, y_max, 0.01))\n",
        "\n",
        "        # Compute the decision boundary\n",
        "        Z = f(np.c_[np.ones((xx.ravel().shape[0], 1)), xx.ravel(), yy.ravel()])\n",
        "        Z = Z.reshape(xx.shape)\n",
        "\n",
        "        # Plot the decision boundary\n",
        "        ax.contourf(xx, yy, Z, alpha=0.8, levels=[-1, 0, 1, 2], colors=['#FFAAAA', '#AAAAFF', '#AAFFAA'])\n",
        "        ax.scatter(X[Y == 0][:, 1], X[Y == 0][:, 2], color='red', label='Barolo', s=50)\n",
        "        ax.scatter(X[Y == 1][:, 1], X[Y == 1][:, 2], color='blue', label='Grignolino', s=50)\n",
        "        ax.scatter(X[Y == 2][:, 1], X[Y == 2][:, 2], color='green', label='Barbera', s=50)\n",
        "        ax.set_xlabel('Alcohol (normalized)')\n",
        "        ax.set_ylabel('Malic Acid (normalized)')\n",
        "        ax.set_title(title)\n",
        "\n",
        "        # Hardcoded limits to ensure consistency across both plots\n",
        "        ax.set_xlim(x_min, x_max)\n",
        "        ax.set_ylim(y_min, y_max)\n",
        "        ax.legend()\n",
        "\n",
        "    epochs = 10000\n",
        "\n",
        "    if show_plot:\n",
        "        fig, axes = plt.subplots(1, 2, figsize=(15, 6))\n",
        "\n",
        "        predictor, W = multiclass_classification_learner(X_train_norm_mul, Y_train_mul, step_size=0.1, epochs=epochs, random_seed=random_seed)\n",
        "        # Plot the decision boundary on the training set\n",
        "        plot_multiclass_decision_boundary(X_train_norm_mul, Y_train_mul, predictor, 'Training Set', axes[0])\n",
        "\n",
        "        # Plot the decision boundary on the test set\n",
        "        plot_multiclass_decision_boundary(X_test_norm_mul, Y_test_mul, predictor, 'Test Set', axes[1])\n",
        "\n",
        "        plt.show()\n",
        "    else:\n",
        "        clear_output()\n",
        "\n",
        "# Create a checkbox widget\n",
        "show_plot_checkbox_db_multi = widgets.Checkbox(value=False, description='Show Plot')\n",
        "\n",
        "# Use interactive_output to link the function with the checkbox\n",
        "interactive_plot_db_multi = interactive_output(plot_db_multi, {'show_plot': show_plot_checkbox_db_multi})\n",
        "\n",
        "# Display the checkbox and the plot\n",
        "display(show_plot_checkbox_db_multi, interactive_plot_db_multi)"
      ]
    },
    {
      "cell_type": "markdown",
      "metadata": {
        "id": "5kd5HkNIq0GH"
      },
      "source": [
        "### Plotting Polynomial Decision Boundaries\n",
        "\n",
        "Similar to the binary classification problem, we can use polynomial features to allow for more complex decision boundaries in the multiclass classification problem.\n",
        "Below is a plot of the decision boundary for different polynomial degrees $p$.\n",
        "You should see that as $p$ increases the decision boundary becomes more complex and can better separate the three classes in the training set.\n",
        "However, if $p$ is too large, then the decision boundary may become too complex and overfit the training data, leading to poor performance on the test set."
      ]
    },
    {
      "cell_type": "code",
      "execution_count": null,
      "metadata": {
        "id": "4gitVCqeq0GH",
        "cellView": "form"
      },
      "outputs": [],
      "source": [
        "# @title Plot\n",
        "\n",
        "# Function to show/hide the plots and update the polynomial degree\n",
        "def plot_db_multi_poly(show_plot, degree):\n",
        "    # Define the decision boundary function for polynomial features\n",
        "    def plot_multiclass_decision_boundary_poly(X, Y, f, degree, title, X_poly_mean=None, X_poly_std=None, ax=None):\n",
        "        # Create a mesh grid\n",
        "        x_min, x_max = -2.8, 2.8  # Hardcoded x-limits\n",
        "        y_min, y_max = -2.2, 3.8  # Hardcoded y-limits\n",
        "        xx, yy = np.meshgrid(np.arange(x_min, x_max, 0.01),\n",
        "                            np.arange(y_min, y_max, 0.01))\n",
        "\n",
        "        # Transform the mesh grid to polynomial features\n",
        "        poly_features = phi_p(np.c_[xx.ravel(), yy.ravel()], degree)\n",
        "\n",
        "        # Normalize the polynomial features using the same mean and std as the training set\n",
        "        poly_features = (poly_features - X_poly_mean) / X_poly_std\n",
        "\n",
        "        # Append a column of 1s to the features for the bias term\n",
        "        poly_features = np.hstack([np.ones((poly_features.shape[0], 1)), poly_features])\n",
        "\n",
        "        # Compute the decision boundary\n",
        "        # Z = poly_features.dot(W)\n",
        "        # Z = np.argmax(Z, axis=1)\n",
        "        Z = f(poly_features)\n",
        "        Z = Z.reshape(xx.shape)\n",
        "\n",
        "        # Plot the decision boundary\n",
        "        ax.contourf(xx, yy, Z, alpha=0.8, levels=[-1, 0, 1, 2], colors=['#FFAAAA', '#AAAAFF', '#AAFFAA'])\n",
        "        ax.scatter(X[Y == 0][:, 1], X[Y == 0][:, 2], color='red', label='Barolo', s=50)\n",
        "        ax.scatter(X[Y == 1][:, 1], X[Y == 1][:, 2], color='blue', label='Grignolino', s=50)\n",
        "        ax.scatter(X[Y == 2][:, 1], X[Y == 2][:, 2], color='green', label='Barbera', s=50)\n",
        "        ax.set_xlabel('Alcohol (normalized)')\n",
        "        ax.set_ylabel('Malic Acid (normalized)')\n",
        "        ax.set_ylim(y_min, y_max)\n",
        "        ax.set_xlim(x_min, x_max)\n",
        "        ax.set_title(title)\n",
        "        ax.legend()\n",
        "\n",
        "    epochs = 10000\n",
        "\n",
        "    if show_plot:\n",
        "        # Transform the input features to polynomial features of the selected degree\n",
        "        X_poly_train = phi_p(X_train_norm_mul[:, 1:], degree)\n",
        "        X_poly_test = phi_p(X_test_norm_mul[:, 1:], degree)\n",
        "\n",
        "        # Normalize the polynomial features\n",
        "        X_poly_mean = X_poly_train.mean(axis=0)\n",
        "        X_poly_std = X_poly_train.std(axis=0) + 1e-8\n",
        "        X_poly_train = (X_poly_train - X_poly_mean) / X_poly_std\n",
        "        X_poly_test = (X_poly_test - X_poly_mean) / X_poly_std\n",
        "\n",
        "        # Append a column of 1s to the features for the bias term\n",
        "        X_poly_train = np.hstack([np.ones((X_poly_train.shape[0], 1)), X_poly_train])\n",
        "        X_poly_test = np.hstack([np.ones((X_poly_test.shape[0], 1)), X_poly_test])\n",
        "\n",
        "        # Train the model using polynomial features\n",
        "        predictor_poly, w_poly = multiclass_classification_learner(X_poly_train, Y_train_mul, step_size=0.1, epochs=epochs, random_seed=random_seed)\n",
        "\n",
        "        fig, axes = plt.subplots(1, 2, figsize=(15, 6))\n",
        "\n",
        "        # Plot the decision boundary on the training set\n",
        "        plot_multiclass_decision_boundary_poly(X_poly_train, Y_train_mul, predictor_poly, degree, f'Training Set (Polynomial Degree {degree})', X_poly_mean, X_poly_std, axes[0])\n",
        "\n",
        "        # Plot the decision boundary on the test set\n",
        "        plot_multiclass_decision_boundary_poly(X_poly_test, Y_test_mul, predictor_poly, degree, f'Test Set (Polynomial Degree {degree})', X_poly_mean, X_poly_std, axes[1])\n",
        "\n",
        "        plt.show()\n",
        "    else:\n",
        "        clear_output()\n",
        "\n",
        "# Create a checkbox widget\n",
        "show_plot_checkbox_db_multi_poly = widgets.Checkbox(value=False, description='Show Plot')\n",
        "\n",
        "# Create a slider widget for selecting the polynomial degree\n",
        "degree_slider_db_multi_poly = widgets.IntSlider(value=1, min=1, max=10, step=0.5, description='Degree')\n",
        "\n",
        "# Use interactive_output to link the function with the checkbox and slider\n",
        "interactive_plot_db_multi_poly = interactive_output(plot_db_multi_poly, {'show_plot': show_plot_checkbox_db_multi_poly, 'degree': degree_slider_db_multi_poly})\n",
        "\n",
        "# Display the checkbox, slider, and the plot\n",
        "display(show_plot_checkbox_db_multi_poly, degree_slider_db_multi_poly, interactive_plot_db_multi_poly)"
      ]
    },
    {
      "cell_type": "markdown",
      "metadata": {
        "id": "548oOINSq0GH"
      },
      "source": [
        "To select the best predictor we should plot the estimated zero-one loss on the test set as a function of the polynomial degree $p$.\n",
        "The value of $p$ with the lowest zero-one loss on the test set is the best predictor.\n",
        "\n",
        "In the plot below you should see that values of $p=7, 8$ have the lowest estimated zero-one loss on the test set."
      ]
    },
    {
      "cell_type": "code",
      "execution_count": null,
      "metadata": {
        "id": "ja0cr5X0q0GH",
        "cellView": "form"
      },
      "outputs": [],
      "source": [
        "# @title Plot\n",
        "\n",
        "# Function to show/hide the plot\n",
        "def plot_loss_vs_deg_multi(show_plot):\n",
        "    epochs = 10000\n",
        "    # Define the range of polynomial degrees\n",
        "    degrees = range(1, 11)\n",
        "\n",
        "    # Initialize lists to store the loss values\n",
        "    train_zero_one_loss_values_by_degree = []\n",
        "    test_zero_one_loss_values_by_degree = []\n",
        "\n",
        "    # Train the model and compute the loss for each polynomial degree\n",
        "    for degree in degrees:\n",
        "        # Transform the input features to polynomial features of the selected degree\n",
        "        X_poly_train = phi_p(X_train_norm_mul[:, 1:], degree)\n",
        "        X_poly_test = phi_p(X_test_norm_mul[:, 1:], degree)\n",
        "\n",
        "        # Normalize the polynomial features\n",
        "        X_poly_mean = X_poly_train.mean(axis=0)\n",
        "        X_poly_std = X_poly_train.std(axis=0) + 1e-8\n",
        "        X_poly_train = (X_poly_train - X_poly_mean) / X_poly_std\n",
        "        X_poly_test = (X_poly_test - X_poly_mean) / X_poly_std\n",
        "\n",
        "        # Append a column of 1s to the features for the bias term\n",
        "        X_poly_train = np.hstack([np.ones((X_poly_train.shape[0], 1)), X_poly_train])\n",
        "        X_poly_test = np.hstack([np.ones((X_poly_test.shape[0], 1)), X_poly_test])\n",
        "\n",
        "        # Train the model using polynomial features\n",
        "        predictor_poly, w_poly = multiclass_classification_learner(X_poly_train, Y_train_mul, step_size=0.1, epochs=epochs, random_seed=random_seed)\n",
        "\n",
        "        # Compute the train and test 0-1 loss\n",
        "        train_zero_one_loss_value = estimated_loss(predictor_poly, X_poly_train, Y_train_mul, zero_one_loss)\n",
        "        test_zero_one_loss_value = estimated_loss(predictor_poly, X_poly_test, Y_test_mul, zero_one_loss)\n",
        "\n",
        "        # Store the loss values\n",
        "        train_zero_one_loss_values_by_degree.append(train_zero_one_loss_value)\n",
        "        test_zero_one_loss_values_by_degree.append(test_zero_one_loss_value)\n",
        "\n",
        "    if show_plot:\n",
        "        plt.figure(figsize=(10, 6))\n",
        "        plt.plot(degrees, train_zero_one_loss_values_by_degree, label='Train Zero-One Loss', linewidth=3)\n",
        "        plt.plot(degrees, test_zero_one_loss_values_by_degree, label='Test Zero-One Loss', linewidth=3)\n",
        "        plt.xlabel('Polynomial Degree')\n",
        "        plt.legend()\n",
        "        plt.grid(True)\n",
        "        plt.show()\n",
        "    else:\n",
        "        clear_output()\n",
        "\n",
        "# Create a checkbox widget\n",
        "show_plot_checkbox_loss_vs_deg_multi = widgets.Checkbox(value=False, description='Show Plot')\n",
        "\n",
        "# Use interactive_output to link the function with the checkbox\n",
        "interactive_plot_loss_vs_deg_multi = interactive_output(plot_loss_vs_deg_multi, {'show_plot': show_plot_checkbox_loss_vs_deg_multi})\n",
        "\n",
        "# Display the checkbox and the plot\n",
        "display(show_plot_checkbox_loss_vs_deg_multi, interactive_plot_loss_vs_deg_multi)"
      ]
    },
    {
      "cell_type": "markdown",
      "metadata": {
        "id": "PTdqMiN5q0GH"
      },
      "source": [
        "# The End :)"
      ]
    },
    {
      "cell_type": "markdown",
      "metadata": {
        "deletable": false,
        "editable": false,
        "id": "uC56I8VWq0GH"
      },
      "source": [
        "---\n",
        "\n",
        "To double-check your work, the cell below will rerun all of the autograder tests."
      ]
    },
    {
      "cell_type": "code",
      "execution_count": 40,
      "metadata": {
        "deletable": false,
        "editable": false,
        "id": "rD3ohKe1q0GH",
        "outputId": "95e51233-d4db-40a2-bd9d-1974adfc5e01",
        "colab": {
          "base_uri": "https://localhost:8080/"
        }
      },
      "outputs": [
        {
          "output_type": "execute_result",
          "data": {
            "text/plain": [
              "q2_1 results: All test cases passed!\n",
              "\n",
              "q2_2 results: All test cases passed!\n",
              "\n",
              "q2_3 results: All test cases passed!\n",
              "\n",
              "q2_4 results: All test cases passed!\n",
              "\n",
              "q2_5 results: All test cases passed!\n",
              "\n",
              "q3_1 results: All test cases passed!\n",
              "\n",
              "q3_2 results: All test cases passed!\n",
              "\n",
              "q3_3 results: All test cases passed!"
            ]
          },
          "metadata": {},
          "execution_count": 40
        }
      ],
      "source": [
        "grader.check_all()"
      ]
    }
  ],
  "metadata": {
    "kernelspec": {
      "display_name": "otter_env",
      "language": "python",
      "name": "python3"
    },
    "language_info": {
      "codemirror_mode": {
        "name": "ipython",
        "version": 3
      },
      "file_extension": ".py",
      "mimetype": "text/x-python",
      "name": "python",
      "nbconvert_exporter": "python",
      "pygments_lexer": "ipython3",
      "version": "3.12.9"
    },
    "colab": {
      "provenance": []
    }
  },
  "nbformat": 4,
  "nbformat_minor": 0
}