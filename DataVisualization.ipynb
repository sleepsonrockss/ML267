{
  "cells": [
    {
      "cell_type": "code",
      "execution_count": 3,
      "metadata": {
        "id": "2zRroQ0Svp6k",
        "colab": {
          "base_uri": "https://localhost:8080/"
        },
        "outputId": "6975fb6c-62b6-412a-e4e4-cf56d79b9d36"
      },
      "outputs": [
        {
          "output_type": "stream",
          "name": "stdout",
          "text": [
            "\u001b[?25l   \u001b[90m━━━━━━━━━━━━━━━━━━━━━━━━━━━━━━━━━━━━━━━━\u001b[0m \u001b[32m0.0/142.3 kB\u001b[0m \u001b[31m?\u001b[0m eta \u001b[36m-:--:--\u001b[0m\r\u001b[2K   \u001b[90m━━━━━━━━━━━━━━━━━━━━━━━━━━━━━━━━━━━━━━━━\u001b[0m \u001b[32m142.3/142.3 kB\u001b[0m \u001b[31m4.0 MB/s\u001b[0m eta \u001b[36m0:00:00\u001b[0m\n",
            "\u001b[2K   \u001b[90m━━━━━━━━━━━━━━━━━━━━━━━━━━━━━━━━━━━━━━━━\u001b[0m \u001b[32m119.4/119.4 kB\u001b[0m \u001b[31m5.2 MB/s\u001b[0m eta \u001b[36m0:00:00\u001b[0m\n",
            "\u001b[2K   \u001b[90m━━━━━━━━━━━━━━━━━━━━━━━━━━━━━━━━━━━━━━━━\u001b[0m \u001b[32m100.2/100.2 kB\u001b[0m \u001b[31m4.6 MB/s\u001b[0m eta \u001b[36m0:00:00\u001b[0m\n",
            "\u001b[2K   \u001b[90m━━━━━━━━━━━━━━━━━━━━━━━━━━━━━━━━━━━━━━━━\u001b[0m \u001b[32m139.8/139.8 kB\u001b[0m \u001b[31m5.4 MB/s\u001b[0m eta \u001b[36m0:00:00\u001b[0m\n",
            "\u001b[2K   \u001b[90m━━━━━━━━━━━━━━━━━━━━━━━━━━━━━━━━━━━━━━━━\u001b[0m \u001b[32m154.2/154.2 kB\u001b[0m \u001b[31m4.6 MB/s\u001b[0m eta \u001b[36m0:00:00\u001b[0m\n",
            "\u001b[2K   \u001b[90m━━━━━━━━━━━━━━━━━━━━━━━━━━━━━━━━━━━━━━━━\u001b[0m \u001b[32m115.0/115.0 kB\u001b[0m \u001b[31m5.8 MB/s\u001b[0m eta \u001b[36m0:00:00\u001b[0m\n",
            "\u001b[2K   \u001b[90m━━━━━━━━━━━━━━━━━━━━━━━━━━━━━━━━━━━━━━━━\u001b[0m \u001b[32m1.6/1.6 MB\u001b[0m \u001b[31m20.4 MB/s\u001b[0m eta \u001b[36m0:00:00\u001b[0m\n",
            "\u001b[2K   \u001b[90m━━━━━━━━━━━━━━━━━━━━━━━━━━━━━━━━━━━━━━━━\u001b[0m \u001b[32m2.3/2.3 MB\u001b[0m \u001b[31m20.7 MB/s\u001b[0m eta \u001b[36m0:00:00\u001b[0m\n",
            "\u001b[2K   \u001b[90m━━━━━━━━━━━━━━━━━━━━━━━━━━━━━━━━━━━━━━━━\u001b[0m \u001b[32m45.1/45.1 MB\u001b[0m \u001b[31m19.1 MB/s\u001b[0m eta \u001b[36m0:00:00\u001b[0m\n",
            "\u001b[?25h"
          ]
        }
      ],
      "source": [
        "# Enable widgets\n",
        "from google.colab import output\n",
        "output.enable_custom_widget_manager()\n",
        "import ipywidgets as widgets\n",
        "\n",
        "# Install otter-grader\n",
        "%pip install -q otter-grader==6.1.0\n",
        "\n",
        "# Download the tests directory from the course website (this will be used by otter-grader)\n",
        "!wget -q https://dtrb.github.io/machinelearning1/assignments/Winter2025/ass4/tests.zip -O tests.zip\n",
        "\n",
        "# Unzip the tests directory, forcing overwriting of existing files\n",
        "!unzip -qo tests.zip -d ."
      ]
    },
    {
      "cell_type": "code",
      "execution_count": 4,
      "metadata": {
        "deletable": false,
        "editable": false,
        "id": "BEM0DUOqvp6l"
      },
      "outputs": [],
      "source": [
        "# Initialize Otter\n",
        "import otter\n",
        "grader = otter.Notebook()"
      ]
    },
    {
      "cell_type": "markdown",
      "metadata": {
        "id": "hqTs_zC9vp6m"
      },
      "source": [
        "# CMPUT 267 - Machine Learning I\n",
        "# Assignment 4 - Optimization for Regression"
      ]
    },
    {
      "cell_type": "markdown",
      "metadata": {
        "id": "U4hg0-PCvp6n"
      },
      "source": [
        "## Assignment Instructions and Information\n",
        "For this assignment, we will be using Google Colab. If you are new to Google Colab, you can find a brief introduction at the following link: [Google Colab Introduction](https://colab.research.google.com/notebooks/intro.ipynb).\n",
        "\n",
        "**Important:** Before you start working on this notebook, make sure to save a copy to your own Google Drive. To do this, go to `File` -> `Save a copy in Drive`.\n",
        "\n",
        "If you do not save a copy, you will not be able to save any changes you make.\n"
      ]
    },
    {
      "cell_type": "markdown",
      "metadata": {
        "id": "71M9vwHkvp6n"
      },
      "source": [
        "### Submitting your assignment\n",
        "Once you have completed the assignment, please submit your work as a `.ipynb` file on eClass in the \"Assignment 4\" section. To download your Colab notebook in the required format, follow these steps:\n",
        "\n",
        "1. Save your notebook to ensure all changes are preserved.\n",
        "2. Navigate to `File` -> `Download` -> `Download .ipynb`.\n",
        "\n",
        "Make sure to save your notebook before downloading it!"
      ]
    },
    {
      "cell_type": "markdown",
      "metadata": {
        "id": "0FO1nwcnvp6n"
      },
      "source": [
        "### Questions and Autograding\n",
        "\n",
        "Each section contains questions for you to solve, marked with the subsection heading \"Question X.Y\" (ex: the first problem is \"Question 2.1\").\n",
        "\n",
        "For each question your solution must go within the following designated code block:\n",
        "\n",
        "```python\n",
        "### YOUR CODE HERE ###\n",
        "\n",
        "######################\n",
        "```\n",
        "\n",
        "All questions will be autograded using [Otter-Grader](https://otter-grader.readthedocs.io/en/latest/).\n",
        "The first two code cells in this notebook install the Otter-Grader package and download the test cases.\n",
        "You should run these cells, otherwise the autograder will not work.\n",
        "\n",
        "At the end of each question there is code that runs the autograder. For example, in Question 2.1 the code `grader.check(\"q2_1\")` runs the autograder.\n",
        "If you pass all the test cases for a question (ex: Question 2.1), you will see the following output:\n",
        "\n",
        "**q2_1** passed!\n",
        "\n",
        "If you do not pass all the test cases for a question, you will see which test cases you did not pass along with their corresponding error messages.\n",
        "\n",
        "There are both public and private test cases. You only have access to the public test cases. This means that if you pass all the test cases in this notebook, you have passed all the public test cases.\n",
        "\n",
        "After you submit the assignment, we will also run the private test cases. The public test cases account for 50% of the total mark, while the private test cases make up the remaining 50%. Therefore, if you pass all the test cases in the notebook, you are guaranteed a mark of at least 50%.\n",
        "\n",
        "After each question description, the number of points (marks) the question is worth is indicated.\n",
        "This is the total number of points for both the public and private test cases.\n",
        "For each question, the public test cases are worth 50% of the points.\n"
      ]
    },
    {
      "cell_type": "markdown",
      "source": [
        "### Math Rendering Issues\n",
        "If you're encountering issues with math rendering in your notebook, particularly small squares replacing math symbols, this is a common problem, especially for users of Google Chrome. Fortunately, there's an easy fix.\n",
        "\n",
        "Hold down `Ctrl` on your keyboard and click on the small square. Then select: Math Settings -> Math Renderer -> Common HTML."
      ],
      "metadata": {
        "id": "9M_p90rl7zz3"
      }
    },
    {
      "cell_type": "markdown",
      "metadata": {
        "id": "0iI98xrFvp6n"
      },
      "source": [
        "## Introduction\n",
        "\n",
        "Welcome to Assignment 4! In this assignment, you will explore optimization techniques in the context of linear regression.\n",
        "You will be implementing various optimization algorithms as described in Chapter 6 of the [course notes](https://vladtkachuk4.github.io/machinelearning1/notes.pdf).\n",
        "\n",
        "This assignment will guide you through the following sections:\n",
        "\n",
        "1. [Understanding the Dataset](#part-1-understanding-the-dataset)\n",
        "2. [Closed Form Solution](#part-2-closed-form-solution)\n",
        "3. [Batch Gradient Descent](#part-3-batch-gradient-descent)\n",
        "6. [Polynomial Regression](#part-4-polynomial-regression)\n",
        "5. [Mini-Batch Gradient Descent](#part-5-mini-batch-gradient-descent)\n",
        "4. [Step Sizes](#part-6-step-sizes)\n",
        "\n",
        "You can quickly navigate to each section by opening the table of contents on the left side of the screen.\n",
        "\n",
        "In class we learned that Empirical Risk Minimization (ERM) is a Learner that has two steps:\n",
        "1. Estimation: $\\hat L(f)$ is an estimate of the true loss $L(f)$ for each $f \\in \\mathcal{F}$.\n",
        "2. Optimization: Find $f \\in \\mathcal{F}$ that minimizes $\\hat L(f)$.\n",
        "\n",
        "In this assignment, we will focus on implementing the ERM learner using various optimization techniques.\n",
        "\n",
        "We will **not** discuss how to evaluate the learner.\n",
        "In particular, recall that our objective in supervised learning was to minimize the expected loss $L(f)$, which captures how well the learner generalizes to unseen data.\n",
        "In this assignment we will assume that $\\hat L(f)$ is a good estimate of $L(f)$, and we will focus on the optimization step.\n",
        "How well the `predictor` $\\hat f$ output by our learner does at predicting unseen data will be the focus of the next coding assignment.\n",
        "\n",
        "Let's get started!\n"
      ]
    },
    {
      "cell_type": "markdown",
      "metadata": {
        "id": "9rdhFBvhvp6o"
      },
      "source": [
        "# Part 1: Understanding the Dataset\n",
        "\n",
        "In this assignment, we will use the **California Housing Prices dataset**, which is a classic dataset often used for linear regression tasks. It contains information about various features of houses in California, such as median income (in tens of thousands of dollars), average number of rooms, and the location of the houses, among others, with the targets (labels) being the median house price.\n",
        "\n",
        "The dataset is from the **1990 California census**.\n",
        "\n",
        "Let's begin by loading the dataset and taking a closer look at what it contains."
      ]
    },
    {
      "cell_type": "markdown",
      "metadata": {
        "id": "9Kg3SPUIvp6o"
      },
      "source": [
        "### Load the Dataset\n",
        "\n",
        "First, lets import all the necessary libraries for this assignment."
      ]
    },
    {
      "cell_type": "code",
      "execution_count": 10,
      "metadata": {
        "id": "bY-pYvw3vp6o"
      },
      "outputs": [],
      "source": [
        "# Import necessary libraries\n",
        "import numpy as np\n",
        "import pandas as pd\n",
        "import matplotlib.pyplot as plt\n",
        "from sklearn.datasets import fetch_california_housing\n",
        "from mpl_toolkits.mplot3d import Axes3D\n",
        "from ipywidgets import interactive_output\n",
        "import ipywidgets as widgets\n",
        "from IPython.display import display, clear_output\n",
        "\n",
        "# Set a fixed random seed for reproducibility\n",
        "random_seed = 42"
      ]
    },
    {
      "cell_type": "markdown",
      "metadata": {
        "id": "SKIiLS-Cvp6o"
      },
      "source": [
        "We will use the `fetch_california_housing` dataset from the `sklearn.datasets` module.\n",
        "Let's load the dataset and examine the features for the first few datapoints.\n",
        "You should see that the dataset contains 8 features and a target value (price)."
      ]
    },
    {
      "cell_type": "code",
      "execution_count": 11,
      "metadata": {
        "id": "7oXOeKy4vp6o",
        "colab": {
          "base_uri": "https://localhost:8080/",
          "height": 206
        },
        "outputId": "55ea1cd3-2523-4442-def2-29ff33bead15"
      },
      "outputs": [
        {
          "output_type": "execute_result",
          "data": {
            "text/plain": [
              "   MedInc  HouseAge  AveRooms  AveBedrms  Population  AveOccup  Latitude  \\\n",
              "0  8.3252      41.0  6.984127   1.023810       322.0  2.555556     37.88   \n",
              "1  8.3014      21.0  6.238137   0.971880      2401.0  2.109842     37.86   \n",
              "2  7.2574      52.0  8.288136   1.073446       496.0  2.802260     37.85   \n",
              "3  5.6431      52.0  5.817352   1.073059       558.0  2.547945     37.85   \n",
              "4  3.8462      52.0  6.281853   1.081081       565.0  2.181467     37.85   \n",
              "\n",
              "   Longitude  Price  \n",
              "0    -122.23  4.526  \n",
              "1    -122.22  3.585  \n",
              "2    -122.24  3.521  \n",
              "3    -122.25  3.413  \n",
              "4    -122.25  3.422  "
            ],
            "text/html": [
              "\n",
              "  <div id=\"df-ea2fae33-32e9-4d66-8087-2f8381d3d836\" class=\"colab-df-container\">\n",
              "    <div>\n",
              "<style scoped>\n",
              "    .dataframe tbody tr th:only-of-type {\n",
              "        vertical-align: middle;\n",
              "    }\n",
              "\n",
              "    .dataframe tbody tr th {\n",
              "        vertical-align: top;\n",
              "    }\n",
              "\n",
              "    .dataframe thead th {\n",
              "        text-align: right;\n",
              "    }\n",
              "</style>\n",
              "<table border=\"1\" class=\"dataframe\">\n",
              "  <thead>\n",
              "    <tr style=\"text-align: right;\">\n",
              "      <th></th>\n",
              "      <th>MedInc</th>\n",
              "      <th>HouseAge</th>\n",
              "      <th>AveRooms</th>\n",
              "      <th>AveBedrms</th>\n",
              "      <th>Population</th>\n",
              "      <th>AveOccup</th>\n",
              "      <th>Latitude</th>\n",
              "      <th>Longitude</th>\n",
              "      <th>Price</th>\n",
              "    </tr>\n",
              "  </thead>\n",
              "  <tbody>\n",
              "    <tr>\n",
              "      <th>0</th>\n",
              "      <td>8.3252</td>\n",
              "      <td>41.0</td>\n",
              "      <td>6.984127</td>\n",
              "      <td>1.023810</td>\n",
              "      <td>322.0</td>\n",
              "      <td>2.555556</td>\n",
              "      <td>37.88</td>\n",
              "      <td>-122.23</td>\n",
              "      <td>4.526</td>\n",
              "    </tr>\n",
              "    <tr>\n",
              "      <th>1</th>\n",
              "      <td>8.3014</td>\n",
              "      <td>21.0</td>\n",
              "      <td>6.238137</td>\n",
              "      <td>0.971880</td>\n",
              "      <td>2401.0</td>\n",
              "      <td>2.109842</td>\n",
              "      <td>37.86</td>\n",
              "      <td>-122.22</td>\n",
              "      <td>3.585</td>\n",
              "    </tr>\n",
              "    <tr>\n",
              "      <th>2</th>\n",
              "      <td>7.2574</td>\n",
              "      <td>52.0</td>\n",
              "      <td>8.288136</td>\n",
              "      <td>1.073446</td>\n",
              "      <td>496.0</td>\n",
              "      <td>2.802260</td>\n",
              "      <td>37.85</td>\n",
              "      <td>-122.24</td>\n",
              "      <td>3.521</td>\n",
              "    </tr>\n",
              "    <tr>\n",
              "      <th>3</th>\n",
              "      <td>5.6431</td>\n",
              "      <td>52.0</td>\n",
              "      <td>5.817352</td>\n",
              "      <td>1.073059</td>\n",
              "      <td>558.0</td>\n",
              "      <td>2.547945</td>\n",
              "      <td>37.85</td>\n",
              "      <td>-122.25</td>\n",
              "      <td>3.413</td>\n",
              "    </tr>\n",
              "    <tr>\n",
              "      <th>4</th>\n",
              "      <td>3.8462</td>\n",
              "      <td>52.0</td>\n",
              "      <td>6.281853</td>\n",
              "      <td>1.081081</td>\n",
              "      <td>565.0</td>\n",
              "      <td>2.181467</td>\n",
              "      <td>37.85</td>\n",
              "      <td>-122.25</td>\n",
              "      <td>3.422</td>\n",
              "    </tr>\n",
              "  </tbody>\n",
              "</table>\n",
              "</div>\n",
              "    <div class=\"colab-df-buttons\">\n",
              "\n",
              "  <div class=\"colab-df-container\">\n",
              "    <button class=\"colab-df-convert\" onclick=\"convertToInteractive('df-ea2fae33-32e9-4d66-8087-2f8381d3d836')\"\n",
              "            title=\"Convert this dataframe to an interactive table.\"\n",
              "            style=\"display:none;\">\n",
              "\n",
              "  <svg xmlns=\"http://www.w3.org/2000/svg\" height=\"24px\" viewBox=\"0 -960 960 960\">\n",
              "    <path d=\"M120-120v-720h720v720H120Zm60-500h600v-160H180v160Zm220 220h160v-160H400v160Zm0 220h160v-160H400v160ZM180-400h160v-160H180v160Zm440 0h160v-160H620v160ZM180-180h160v-160H180v160Zm440 0h160v-160H620v160Z\"/>\n",
              "  </svg>\n",
              "    </button>\n",
              "\n",
              "  <style>\n",
              "    .colab-df-container {\n",
              "      display:flex;\n",
              "      gap: 12px;\n",
              "    }\n",
              "\n",
              "    .colab-df-convert {\n",
              "      background-color: #E8F0FE;\n",
              "      border: none;\n",
              "      border-radius: 50%;\n",
              "      cursor: pointer;\n",
              "      display: none;\n",
              "      fill: #1967D2;\n",
              "      height: 32px;\n",
              "      padding: 0 0 0 0;\n",
              "      width: 32px;\n",
              "    }\n",
              "\n",
              "    .colab-df-convert:hover {\n",
              "      background-color: #E2EBFA;\n",
              "      box-shadow: 0px 1px 2px rgba(60, 64, 67, 0.3), 0px 1px 3px 1px rgba(60, 64, 67, 0.15);\n",
              "      fill: #174EA6;\n",
              "    }\n",
              "\n",
              "    .colab-df-buttons div {\n",
              "      margin-bottom: 4px;\n",
              "    }\n",
              "\n",
              "    [theme=dark] .colab-df-convert {\n",
              "      background-color: #3B4455;\n",
              "      fill: #D2E3FC;\n",
              "    }\n",
              "\n",
              "    [theme=dark] .colab-df-convert:hover {\n",
              "      background-color: #434B5C;\n",
              "      box-shadow: 0px 1px 3px 1px rgba(0, 0, 0, 0.15);\n",
              "      filter: drop-shadow(0px 1px 2px rgba(0, 0, 0, 0.3));\n",
              "      fill: #FFFFFF;\n",
              "    }\n",
              "  </style>\n",
              "\n",
              "    <script>\n",
              "      const buttonEl =\n",
              "        document.querySelector('#df-ea2fae33-32e9-4d66-8087-2f8381d3d836 button.colab-df-convert');\n",
              "      buttonEl.style.display =\n",
              "        google.colab.kernel.accessAllowed ? 'block' : 'none';\n",
              "\n",
              "      async function convertToInteractive(key) {\n",
              "        const element = document.querySelector('#df-ea2fae33-32e9-4d66-8087-2f8381d3d836');\n",
              "        const dataTable =\n",
              "          await google.colab.kernel.invokeFunction('convertToInteractive',\n",
              "                                                    [key], {});\n",
              "        if (!dataTable) return;\n",
              "\n",
              "        const docLinkHtml = 'Like what you see? Visit the ' +\n",
              "          '<a target=\"_blank\" href=https://colab.research.google.com/notebooks/data_table.ipynb>data table notebook</a>'\n",
              "          + ' to learn more about interactive tables.';\n",
              "        element.innerHTML = '';\n",
              "        dataTable['output_type'] = 'display_data';\n",
              "        await google.colab.output.renderOutput(dataTable, element);\n",
              "        const docLink = document.createElement('div');\n",
              "        docLink.innerHTML = docLinkHtml;\n",
              "        element.appendChild(docLink);\n",
              "      }\n",
              "    </script>\n",
              "  </div>\n",
              "\n",
              "\n",
              "<div id=\"df-7e6c05d9-f6ae-44cc-905c-ccd80928a254\">\n",
              "  <button class=\"colab-df-quickchart\" onclick=\"quickchart('df-7e6c05d9-f6ae-44cc-905c-ccd80928a254')\"\n",
              "            title=\"Suggest charts\"\n",
              "            style=\"display:none;\">\n",
              "\n",
              "<svg xmlns=\"http://www.w3.org/2000/svg\" height=\"24px\"viewBox=\"0 0 24 24\"\n",
              "     width=\"24px\">\n",
              "    <g>\n",
              "        <path d=\"M19 3H5c-1.1 0-2 .9-2 2v14c0 1.1.9 2 2 2h14c1.1 0 2-.9 2-2V5c0-1.1-.9-2-2-2zM9 17H7v-7h2v7zm4 0h-2V7h2v10zm4 0h-2v-4h2v4z\"/>\n",
              "    </g>\n",
              "</svg>\n",
              "  </button>\n",
              "\n",
              "<style>\n",
              "  .colab-df-quickchart {\n",
              "      --bg-color: #E8F0FE;\n",
              "      --fill-color: #1967D2;\n",
              "      --hover-bg-color: #E2EBFA;\n",
              "      --hover-fill-color: #174EA6;\n",
              "      --disabled-fill-color: #AAA;\n",
              "      --disabled-bg-color: #DDD;\n",
              "  }\n",
              "\n",
              "  [theme=dark] .colab-df-quickchart {\n",
              "      --bg-color: #3B4455;\n",
              "      --fill-color: #D2E3FC;\n",
              "      --hover-bg-color: #434B5C;\n",
              "      --hover-fill-color: #FFFFFF;\n",
              "      --disabled-bg-color: #3B4455;\n",
              "      --disabled-fill-color: #666;\n",
              "  }\n",
              "\n",
              "  .colab-df-quickchart {\n",
              "    background-color: var(--bg-color);\n",
              "    border: none;\n",
              "    border-radius: 50%;\n",
              "    cursor: pointer;\n",
              "    display: none;\n",
              "    fill: var(--fill-color);\n",
              "    height: 32px;\n",
              "    padding: 0;\n",
              "    width: 32px;\n",
              "  }\n",
              "\n",
              "  .colab-df-quickchart:hover {\n",
              "    background-color: var(--hover-bg-color);\n",
              "    box-shadow: 0 1px 2px rgba(60, 64, 67, 0.3), 0 1px 3px 1px rgba(60, 64, 67, 0.15);\n",
              "    fill: var(--button-hover-fill-color);\n",
              "  }\n",
              "\n",
              "  .colab-df-quickchart-complete:disabled,\n",
              "  .colab-df-quickchart-complete:disabled:hover {\n",
              "    background-color: var(--disabled-bg-color);\n",
              "    fill: var(--disabled-fill-color);\n",
              "    box-shadow: none;\n",
              "  }\n",
              "\n",
              "  .colab-df-spinner {\n",
              "    border: 2px solid var(--fill-color);\n",
              "    border-color: transparent;\n",
              "    border-bottom-color: var(--fill-color);\n",
              "    animation:\n",
              "      spin 1s steps(1) infinite;\n",
              "  }\n",
              "\n",
              "  @keyframes spin {\n",
              "    0% {\n",
              "      border-color: transparent;\n",
              "      border-bottom-color: var(--fill-color);\n",
              "      border-left-color: var(--fill-color);\n",
              "    }\n",
              "    20% {\n",
              "      border-color: transparent;\n",
              "      border-left-color: var(--fill-color);\n",
              "      border-top-color: var(--fill-color);\n",
              "    }\n",
              "    30% {\n",
              "      border-color: transparent;\n",
              "      border-left-color: var(--fill-color);\n",
              "      border-top-color: var(--fill-color);\n",
              "      border-right-color: var(--fill-color);\n",
              "    }\n",
              "    40% {\n",
              "      border-color: transparent;\n",
              "      border-right-color: var(--fill-color);\n",
              "      border-top-color: var(--fill-color);\n",
              "    }\n",
              "    60% {\n",
              "      border-color: transparent;\n",
              "      border-right-color: var(--fill-color);\n",
              "    }\n",
              "    80% {\n",
              "      border-color: transparent;\n",
              "      border-right-color: var(--fill-color);\n",
              "      border-bottom-color: var(--fill-color);\n",
              "    }\n",
              "    90% {\n",
              "      border-color: transparent;\n",
              "      border-bottom-color: var(--fill-color);\n",
              "    }\n",
              "  }\n",
              "</style>\n",
              "\n",
              "  <script>\n",
              "    async function quickchart(key) {\n",
              "      const quickchartButtonEl =\n",
              "        document.querySelector('#' + key + ' button');\n",
              "      quickchartButtonEl.disabled = true;  // To prevent multiple clicks.\n",
              "      quickchartButtonEl.classList.add('colab-df-spinner');\n",
              "      try {\n",
              "        const charts = await google.colab.kernel.invokeFunction(\n",
              "            'suggestCharts', [key], {});\n",
              "      } catch (error) {\n",
              "        console.error('Error during call to suggestCharts:', error);\n",
              "      }\n",
              "      quickchartButtonEl.classList.remove('colab-df-spinner');\n",
              "      quickchartButtonEl.classList.add('colab-df-quickchart-complete');\n",
              "    }\n",
              "    (() => {\n",
              "      let quickchartButtonEl =\n",
              "        document.querySelector('#df-7e6c05d9-f6ae-44cc-905c-ccd80928a254 button');\n",
              "      quickchartButtonEl.style.display =\n",
              "        google.colab.kernel.accessAllowed ? 'block' : 'none';\n",
              "    })();\n",
              "  </script>\n",
              "</div>\n",
              "\n",
              "    </div>\n",
              "  </div>\n"
            ],
            "application/vnd.google.colaboratory.intrinsic+json": {
              "type": "dataframe",
              "variable_name": "df",
              "summary": "{\n  \"name\": \"df\",\n  \"rows\": 20640,\n  \"fields\": [\n    {\n      \"column\": \"MedInc\",\n      \"properties\": {\n        \"dtype\": \"number\",\n        \"std\": 1.8998217179452732,\n        \"min\": 0.4999,\n        \"max\": 15.0001,\n        \"num_unique_values\": 12928,\n        \"samples\": [\n          5.0286,\n          2.0433,\n          6.1228\n        ],\n        \"semantic_type\": \"\",\n        \"description\": \"\"\n      }\n    },\n    {\n      \"column\": \"HouseAge\",\n      \"properties\": {\n        \"dtype\": \"number\",\n        \"std\": 12.585557612111637,\n        \"min\": 1.0,\n        \"max\": 52.0,\n        \"num_unique_values\": 52,\n        \"samples\": [\n          35.0,\n          25.0,\n          7.0\n        ],\n        \"semantic_type\": \"\",\n        \"description\": \"\"\n      }\n    },\n    {\n      \"column\": \"AveRooms\",\n      \"properties\": {\n        \"dtype\": \"number\",\n        \"std\": 2.4741731394243205,\n        \"min\": 0.8461538461538461,\n        \"max\": 141.9090909090909,\n        \"num_unique_values\": 19392,\n        \"samples\": [\n          6.111269614835948,\n          5.912820512820513,\n          5.7924528301886795\n        ],\n        \"semantic_type\": \"\",\n        \"description\": \"\"\n      }\n    },\n    {\n      \"column\": \"AveBedrms\",\n      \"properties\": {\n        \"dtype\": \"number\",\n        \"std\": 0.47391085679546435,\n        \"min\": 0.3333333333333333,\n        \"max\": 34.06666666666667,\n        \"num_unique_values\": 14233,\n        \"samples\": [\n          0.9906542056074766,\n          1.112099644128114,\n          1.0398230088495575\n        ],\n        \"semantic_type\": \"\",\n        \"description\": \"\"\n      }\n    },\n    {\n      \"column\": \"Population\",\n      \"properties\": {\n        \"dtype\": \"number\",\n        \"std\": 1132.4621217653375,\n        \"min\": 3.0,\n        \"max\": 35682.0,\n        \"num_unique_values\": 3888,\n        \"samples\": [\n          4169.0,\n          636.0,\n          3367.0\n        ],\n        \"semantic_type\": \"\",\n        \"description\": \"\"\n      }\n    },\n    {\n      \"column\": \"AveOccup\",\n      \"properties\": {\n        \"dtype\": \"number\",\n        \"std\": 10.386049562213591,\n        \"min\": 0.6923076923076923,\n        \"max\": 1243.3333333333333,\n        \"num_unique_values\": 18841,\n        \"samples\": [\n          2.6939799331103678,\n          3.559375,\n          3.297082228116711\n        ],\n        \"semantic_type\": \"\",\n        \"description\": \"\"\n      }\n    },\n    {\n      \"column\": \"Latitude\",\n      \"properties\": {\n        \"dtype\": \"number\",\n        \"std\": 2.1359523974571117,\n        \"min\": 32.54,\n        \"max\": 41.95,\n        \"num_unique_values\": 862,\n        \"samples\": [\n          33.7,\n          34.41,\n          38.24\n        ],\n        \"semantic_type\": \"\",\n        \"description\": \"\"\n      }\n    },\n    {\n      \"column\": \"Longitude\",\n      \"properties\": {\n        \"dtype\": \"number\",\n        \"std\": 2.003531723502581,\n        \"min\": -124.35,\n        \"max\": -114.31,\n        \"num_unique_values\": 844,\n        \"samples\": [\n          -118.63,\n          -119.86,\n          -121.26\n        ],\n        \"semantic_type\": \"\",\n        \"description\": \"\"\n      }\n    },\n    {\n      \"column\": \"Price\",\n      \"properties\": {\n        \"dtype\": \"number\",\n        \"std\": 1.1539561587441483,\n        \"min\": 0.14999,\n        \"max\": 5.00001,\n        \"num_unique_values\": 3842,\n        \"samples\": [\n          1.943,\n          3.79,\n          2.301\n        ],\n        \"semantic_type\": \"\",\n        \"description\": \"\"\n      }\n    }\n  ]\n}"
            }
          },
          "metadata": {},
          "execution_count": 11
        }
      ],
      "source": [
        "# Load the California housing dataset\n",
        "data = fetch_california_housing()\n",
        "\n",
        "# Convert to a DataFrame\n",
        "df = pd.DataFrame(data.data, columns=data.feature_names)\n",
        "df['Price'] = data.target\n",
        "\n",
        "# Display the first few rows of the dataset\n",
        "df.head()"
      ]
    },
    {
      "cell_type": "markdown",
      "metadata": {
        "id": "dqiFFt4lvp6o"
      },
      "source": [
        "### Data Preprocessing\n",
        "\n",
        "In the California Housing Prices dataset, houses with prices over \\$500,000 were capped at \\$500,000. This capping can cause some undesirable behaviors when learning a good predictor because it introduces a ceiling effect, where the true variability of house prices above \\$500,000 is not captured. As a result, the model might not learn the true relationship between the features and the target variable for high-priced houses.\n",
        "\n",
        "To address this issue, we will remove any datapoints from our dataset that have a price of exactly \\$500,000. This will help ensure that our model learns a more accurate relationship between the features and the target variable.\n",
        "\n",
        "Additionally, to make it easier to visualize and work with the data, we will only use the first 500 datapoints in this assignment. This will allow us to create more manageable plots and computations.\n",
        "\n",
        "Here is the code to preprocess the dataset:\n"
      ]
    },
    {
      "cell_type": "code",
      "execution_count": 12,
      "metadata": {
        "id": "QV6-Tj24vp6o"
      },
      "outputs": [],
      "source": [
        "# Filter out houses with prices of $500k and above\n",
        "df = df[df['Price'] < 5]\n",
        "\n",
        "# Select the first 500 data points\n",
        "df_small = df.iloc[:500]"
      ]
    },
    {
      "cell_type": "markdown",
      "metadata": {
        "id": "PFhmD1GLvp6o"
      },
      "source": [
        "Now that we have loaded and filtered the dataset, we need to prepare it for use in our linear regression models.\n",
        "We will store all the features in a matrix $\\mathbf{X}$ where each row represents a data point and each column represents a feature.\n",
        "Additionally, we will append a column of 1s as the first column of $\\mathbf{X}$, which will be used to multiply the bias term in the weights.\n",
        "We will also store the target values (house prices) in a vector $\\mathbf{Y}$.\n",
        "\n",
        "For implementation reasons, it is usually preferred to store all the features in a matrix $\\mathbf{X}$ with each row being a data point and each column being a feature. This allows for efficient matrix operations and simplifies the implementation of algorithms.\n",
        "\n",
        "We will also *normalize* the features.\n",
        "Normalization is the process of scaling the features so that they have a mean of 0 and a standard deviation of 1. This is important because it ensures that all features contribute equally to the model and prevents features with larger scales from dominating the learning process. In machine learning, normalization is commonly done to improve the convergence of gradient-based optimization algorithms and to ensure that the model's performance is not biased towards features with larger numerical ranges.\n",
        "\n",
        "For example, consider two features: Population and HouseAge. The Population feature might have values ranging from hundreds to thousands, while HouseAge might have values ranging from 0 to 100. Without normalization, the Population feature could dominate the learning process because of its larger numerical range. Normalization ensures that both features contribute equally to the model, regardless of their original scales.\n",
        "\n",
        "Below, we preprocess the data in this way."
      ]
    },
    {
      "cell_type": "code",
      "execution_count": 13,
      "metadata": {
        "id": "JQjmnQjnvp6p"
      },
      "outputs": [],
      "source": [
        "# Extract features and target\n",
        "X = df_small.drop(columns=['Price']).values\n",
        "Y = df_small['Price'].values\n",
        "\n",
        "# Append a column of 1s to X for the bias term\n",
        "X = np.hstack([np.ones((X.shape[0], 1)), X])\n",
        "\n",
        "# Normalize the features in X, excluding the first column\n",
        "X_mean = X[:, 1:].mean(axis=0)\n",
        "X_std = X[:, 1:].std(axis=0)\n",
        "X = np.hstack([X[:, :1], (X[:, 1:] - X_mean) / X_std])"
      ]
    },
    {
      "cell_type": "markdown",
      "metadata": {
        "id": "eAsO1kw3vp6p"
      },
      "source": [
        "### Visualizing the Data\n",
        "\n",
        "To start understanding our dataset better, let's visualize the relationship between the **median income** feature (`MedInc`) and the **house price** (`Price`). This can help us get an initial sense of how one of the key features relates to the target variable.\n",
        "\n",
        "You should notice a positive correlation between the median income and the house price, which is expected since houses in areas with higher median incomes tend to be more expensive.\n",
        "It also looks like a line might be a good fit for this data.\n",
        "\n",
        "To view this and all future plots you must click the \"Show plot\" checkbox."
      ]
    },
    {
      "cell_type": "code",
      "execution_count": 14,
      "metadata": {
        "id": "wQAQd4Aavp6p",
        "cellView": "form",
        "colab": {
          "base_uri": "https://localhost:8080/",
          "height": 49,
          "referenced_widgets": [
            "8ef178662aea4632b02bc40b999c7f8a",
            "ea4e82cef482454e8e07878748dd0fe9",
            "67142b25a5e742c089513692e5e48542"
          ]
        },
        "outputId": "c6eaf3ad-eaa6-43dd-ff8d-e6c953b42f5e"
      },
      "outputs": [
        {
          "output_type": "display_data",
          "data": {
            "text/plain": [
              "Checkbox(value=False, description='Show Plot')"
            ],
            "application/vnd.jupyter.widget-view+json": {
              "version_major": 2,
              "version_minor": 0,
              "model_id": "8ef178662aea4632b02bc40b999c7f8a"
            }
          },
          "metadata": {
            "application/vnd.jupyter.widget-view+json": {
              "colab": {
                "custom_widget_manager": {
                  "url": "https://ssl.gstatic.com/colaboratory-static/widgets/colab-cdn-widget-manager/2b70e893a8ba7c0f/manager.min.js"
                }
              }
            }
          }
        }
      ],
      "source": [
        "# @title Plot\n",
        "\n",
        "# Create a checkbox widget\n",
        "show_plot_checkbox_medinc = widgets.Checkbox(\n",
        "    value=False,\n",
        "    description='Show Plot',\n",
        "    disabled=False\n",
        ")\n",
        "\n",
        "# Function to plot the data\n",
        "def plot_data_medinc(change):\n",
        "    clear_output(wait=True)  # Clear the output before plotting or closing the plot\n",
        "    display(show_plot_checkbox_medinc)  # Re-display the checkbox after clearing\n",
        "\n",
        "    if show_plot_checkbox_medinc.value:\n",
        "        plt.figure(figsize=(10, 5))\n",
        "        plt.scatter(df_small['MedInc'], df_small['Price'], alpha=0.3)\n",
        "        plt.xlabel('Median Income (in tens of thousands)')\n",
        "        plt.ylabel('Median House Price (in hundreds of thousands)')\n",
        "        plt.title('Median Income vs House Price')\n",
        "        plt.xlim(0, 12)\n",
        "        plt.show()\n",
        "\n",
        "# Attach the function to the checkbox\n",
        "show_plot_checkbox_medinc.observe(plot_data_medinc, names='value')\n",
        "\n",
        "# Display the checkbox\n",
        "display(show_plot_checkbox_medinc)"
      ]
    },
    {
      "cell_type": "markdown",
      "metadata": {
        "id": "43VLJj2vvp6p"
      },
      "source": [
        "Now lets visualize the relationship between the number of rooms (`AveRooms`) and the house price (`Price`).\n",
        "\n",
        "For this plot you should notice a weaker relationship between the number of rooms and the house price compared to the median income.\n",
        "The relationship is not as clear, and in the [Polynomial Regression](#part-4-polynomial-regression) section, we will see that a quadratic function might be a better fit for this data."
      ]
    },
    {
      "cell_type": "code",
      "execution_count": 15,
      "metadata": {
        "id": "TFSMoEzSvp6p",
        "colab": {
          "base_uri": "https://localhost:8080/",
          "height": 49,
          "referenced_widgets": [
            "63b16502bb8643488f6eeaba5953288f",
            "c1b4ab117a4d4f9b8e1a34754d75c82b",
            "33576586be144443b0734ff38d866c44"
          ]
        },
        "outputId": "f49a1b4b-1082-4ef6-a913-34483613087a"
      },
      "outputs": [
        {
          "output_type": "display_data",
          "data": {
            "text/plain": [
              "Checkbox(value=False, description='Show Plot')"
            ],
            "application/vnd.jupyter.widget-view+json": {
              "version_major": 2,
              "version_minor": 0,
              "model_id": "63b16502bb8643488f6eeaba5953288f"
            }
          },
          "metadata": {
            "application/vnd.jupyter.widget-view+json": {
              "colab": {
                "custom_widget_manager": {
                  "url": "https://ssl.gstatic.com/colaboratory-static/widgets/colab-cdn-widget-manager/2b70e893a8ba7c0f/manager.min.js"
                }
              }
            }
          }
        }
      ],
      "source": [
        "# @title Plot\n",
        "\n",
        "# Create a checkbox widget\n",
        "show_plot_checkbox_rooms = widgets.Checkbox(\n",
        "    value=False,\n",
        "    description='Show Plot',\n",
        "    disabled=False\n",
        ")\n",
        "\n",
        "# Function to plot the data\n",
        "def plot_data_rooms(change):\n",
        "    clear_output(wait=True)  # Clear the output before plotting or closing the plot\n",
        "    display(show_plot_checkbox_rooms)  # Re-display the checkbox after clearing\n",
        "\n",
        "    if show_plot_checkbox_rooms.value:\n",
        "        plt.figure(figsize=(10, 5))\n",
        "        plt.scatter(df_small['AveRooms'], df_small['Price'], alpha=0.3)\n",
        "        plt.xlabel('Average Number of Rooms')\n",
        "        plt.ylabel('Median House Price (in hundreds of thousands)')\n",
        "        plt.title('Average Number of Rooms vs House Price')\n",
        "        plt.xlim(1, 10)\n",
        "        plt.show()\n",
        "\n",
        "# Attach the function to the checkbox\n",
        "show_plot_checkbox_rooms.observe(plot_data_rooms, names='value')\n",
        "\n",
        "# Display the checkbox\n",
        "display(show_plot_checkbox_rooms)"
      ]
    },
    {
      "cell_type": "markdown",
      "metadata": {
        "id": "5erAI7Udvp6p"
      },
      "source": [
        "Lets plot one more feature, the longitude (`Longitude`) against the house price (`Price`).\n",
        "\n",
        "In this plot you should see that there is no clear relationship between the longitude and the house price."
      ]
    },
    {
      "cell_type": "code",
      "execution_count": 9,
      "metadata": {
        "id": "NCRxVa4dvp6p",
        "cellView": "form",
        "colab": {
          "base_uri": "https://localhost:8080/",
          "height": 519,
          "referenced_widgets": [
            "b943e1b3a2bd44159955fb1ed6eb0787",
            "d88c96f1f2df4d1da1f968e22cc67377",
            "5bc3170d12e64dd68ed38f6a385acbe8"
          ]
        },
        "outputId": "f6aef8e2-dedc-4d8f-e075-cd1f4997a615"
      },
      "outputs": [
        {
          "output_type": "display_data",
          "data": {
            "text/plain": [
              "Checkbox(value=True, description='Show Plot')"
            ],
            "application/vnd.jupyter.widget-view+json": {
              "version_major": 2,
              "version_minor": 0,
              "model_id": "b943e1b3a2bd44159955fb1ed6eb0787"
            }
          },
          "metadata": {
            "application/vnd.jupyter.widget-view+json": {
              "colab": {
                "custom_widget_manager": {
                  "url": "https://ssl.gstatic.com/colaboratory-static/widgets/colab-cdn-widget-manager/2b70e893a8ba7c0f/manager.min.js"
                }
              }
            }
          }
        },
        {
          "output_type": "display_data",
          "data": {
            "text/plain": [
              "<Figure size 1000x500 with 1 Axes>"
            ],
            "image/png": "[encoded data removed]"
          },
          "metadata": {}
        }
      ],
      "source": [
        "# @title Plot\n",
        "\n",
        "# Create a checkbox widget\n",
        "show_plot_checkbox_longitude = widgets.Checkbox(\n",
        "    value=False,\n",
        "    description='Show Plot',\n",
        "    disabled=False\n",
        ")\n",
        "\n",
        "# Function to plot the data\n",
        "def plot_data_longitude(change):\n",
        "    clear_output(wait=True)  # Clear the output before plotting or closing the plot\n",
        "    display(show_plot_checkbox_longitude)  # Re-display the checkbox after clearing\n",
        "\n",
        "    if show_plot_checkbox_longitude.value:\n",
        "        plt.figure(figsize=(10, 5))\n",
        "        plt.scatter(df_small['Longitude'], df_small['Price'], alpha=0.3)\n",
        "        plt.xlabel('Longitude')\n",
        "        plt.ylabel('Median House Price (in hundreds of thousands)')\n",
        "        plt.title('Longitude vs House Price')\n",
        "        plt.xlim(-122.35, -122.1)\n",
        "        plt.show()\n",
        "\n",
        "# Attach the function to the checkbox\n",
        "show_plot_checkbox_longitude.observe(plot_data_longitude, names='value')\n",
        "\n",
        "# Display the checkbox\n",
        "display(show_plot_checkbox_longitude)"
      ]
    },
    {
      "cell_type": "markdown",
      "metadata": {
        "id": "yOdXDtAgvp6p"
      },
      "source": [
        "What we wanted to highlight with these plots is that not all features will have a strong linear relationship with the target variable, and in some cases, a linear model might not be the best fit for the data.\n",
        "\n",
        "Now that we have a better understanding of the dataset, we can move on to implementing some learning algorithms, beginning with the closed-form solution."
      ]
    },
    {
      "cell_type": "markdown",
      "metadata": {
        "id": "caU4jjd3vp6p"
      },
      "source": [
        "\n",
        "# Part 2: Closed Form Solution\n",
        "\n",
        "In this section, you will implement the closed form solution for linear regression.\n",
        "\n",
        "In class we learned that the closed form linear regression learner is defined as:\n",
        "\n",
        "\n",
        "$$\\mathcal{A}(\\mathcal{D}) = \\hat f \\quad \\text{where} \\quad \\hat f = \\mathbf{x}^\\top \\hat{\\mathbf{w}}$$\n",
        "\n",
        "and\n",
        "\n",
        "$$\\hat{\\mathbf{w}} = \\mathbf{A}^{-1} \\mathbf{b}, \\quad \\text{where} \\quad \\mathbf{A} = \\sum_{i=1}^n \\mathbf{x}_i \\mathbf{x}_i^\\top, \\quad \\mathbf{b} = \\sum_{i=1}^n \\mathbf{x}_i y_i$$\n",
        "\n",
        "In Question 2.1 your goal is to define the learner $\\mathcal{A}$ as a function `closed_form_learner` that takes as input `X` and `Y` (which is our dataset $\\mathcal{D}$) and returns the function `predictor`, which represents $\\hat f$.\n",
        "\n",
        "Note that `closed_form_learner` also returns `w_hat` because we will use it for plotting purposes later."
      ]
    },
    {
      "cell_type": "markdown",
      "metadata": {
        "id": "KpRS8Ljbvp6p"
      },
      "source": [
        "**A note on implementation:**\n",
        "Some helpful functions and syntax for this question are:\n",
        "- `*` for scalar multiplication (e.g. `2 * x` is the scalar product of `x` with 2).\n",
        "- `@` for matrix multiplication (e.g. `A @ B` is the matrix product of `A` and `B`, and `A @ x` is the matrix-vector product of `A` and `x`).\n",
        "- `.T` for the transpose of a matrix (e.g. `A.T` is the transpose of `A`).\n",
        "- `.shape` to get the shape of a matrix (e.g. if `A` is a matrix, `A.shape` is a tuple containing the number of rows and columns of `A`).\n",
        "- `np.outer` for the outer product of two vectors (e.g. `np.outer(x, x)` is the outer product of `x` with itself).\n",
        "- `np.linalg.pinv` for the inverse of a matrix (e.g. `np.linalg.pinv(A)` is the inverse of `A`).\n",
        "\n",
        "You can implement the above sums using a for loop; however, it is much more common to use matrix operations to compute these sums.\n",
        "This is because matrix operations are much faster and more efficient than using for loops.\n",
        "\n",
        "To see how this can be done, notice that $\\mathbf{X}, \\mathbf{X}^\\top$ and $\\mathbf{Y}$ can be visualized as follows:\n",
        "$$\n",
        "\\mathbf{X} = \\begin{bmatrix}\n",
        "\\mathbf{x}_1^\\top \\\\\n",
        "\\mathbf{x}_2^\\top \\\\\n",
        "\\vdots \\\\\n",
        "\\mathbf{x}_n^\\top \\\\\n",
        "\\end{bmatrix}, \\quad\n",
        "\\mathbf{X}^\\top = \\begin{bmatrix}\n",
        "\\mathbf{x}_1 & \\mathbf{x}_2 & \\cdots & \\mathbf{x}_n\n",
        "\\end{bmatrix}, \\quad\n",
        "\\mathbf{Y} = \\begin{bmatrix}\n",
        "y_1 \\\\\n",
        "y_2 \\\\\n",
        "\\vdots \\\\\n",
        "y_n \\\\\n",
        "\\end{bmatrix}\n",
        "$$\n",
        "Now, if we calculate $\\mathbf{X}^\\top \\mathbf{Y}$ we would get:\n",
        "$$\n",
        "\\mathbf{X}^\\top \\mathbf{Y} = \\begin{bmatrix}\n",
        "\\mathbf{x}_1 & \\mathbf{x}_2 & \\cdots & \\mathbf{x}_n\n",
        "\\end{bmatrix}\n",
        "\\begin{bmatrix}\n",
        "y_1 \\\\\n",
        "y_2 \\\\\n",
        "\\vdots \\\\\n",
        "y_n \\\\\n",
        "\\end{bmatrix}\n",
        "= \\mathbf{x}_1 y_1 + \\mathbf{x}_2 y_2 + \\cdots + \\mathbf{x}_n y_n\n",
        "= \\sum_{i=1}^n \\mathbf{x}_i y_i\n",
        "$$\n",
        "Notice how this is exactly equal to $\\mathbf{b}$.\n",
        "On a similar note, if we calculate $\\mathbf{X}^\\top \\mathbf{X}$ we would get (I don't expect you to know why the last equality holds):\n",
        "$$\n",
        "\\mathbf{X}^\\top \\mathbf{X} = \\begin{bmatrix}\n",
        "\\mathbf{x}_1 & \\mathbf{x}_2 & \\cdots & \\mathbf{x}_n\n",
        "\\end{bmatrix}\n",
        "\\begin{bmatrix}\n",
        "\\mathbf{x}_1^\\top \\\\\n",
        "\\mathbf{x}_2^\\top \\\\\n",
        "\\vdots \\\\\n",
        "\\mathbf{x}_n^\\top \\\\\n",
        "\\end{bmatrix}\n",
        "= \\sum_{i=1}^n \\mathbf{x}_i \\mathbf{x}_i^\\top\n",
        "$$\n",
        "\n",
        "Notice how this is exactly equal to $\\mathbf{A}$.\n",
        "\n",
        "\n",
        "\n",
        "\n",
        "\n",
        "\n"
      ]
    },
    {
      "cell_type": "markdown",
      "metadata": {
        "deletable": false,
        "editable": false,
        "id": "P5B4s_DOvp6p"
      },
      "source": [
        "### Question 2.1\n",
        "Implement `closed_form_learner`.\n",
        "In particular your code should set `w_hat` as $\\hat{\\mathbf{w}}$ is defined above.\n",
        "\n",
        "_Points:_ 8"
      ]
    },
    {
      "cell_type": "code",
      "execution_count": 16,
      "metadata": {
        "tags": [
          "otter_answer_cell"
        ],
        "id": "2-CdpI0Zvp6q"
      },
      "outputs": [],
      "source": [
        "def closed_form_learner(X, Y):\n",
        "    '''\n",
        "    Solves linear regression using the closed form solution.\n",
        "\n",
        "    Parameters:\n",
        "    X (numpy array): Feature matrix of size (n, d+1), where n is the number of samples\n",
        "                     and d is the number of features. The first column should be all 1s.\n",
        "    Y (numpy array): Target vector of size (n, 1).\n",
        "\n",
        "    Returns:\n",
        "    predictor (function): A function that takes a feature vector and returns a predicted value.\n",
        "    w_hat (numpy array): The weights calculated using the closed form solution.\n",
        "    '''\n",
        "    ### YOUR CODE HERE ###\n",
        "    w_hat = np.linalg.pinv(X.T @ X) @ (X.T @ Y)\n",
        "\n",
        "    ######################\n",
        "\n",
        "    def predictor(x):\n",
        "        return x @ w_hat\n",
        "\n",
        "    return predictor, w_hat\n"
      ]
    },
    {
      "cell_type": "code",
      "execution_count": 17,
      "metadata": {
        "deletable": false,
        "editable": false,
        "id": "QwnFsYwdvp6q",
        "colab": {
          "base_uri": "https://localhost:8080/",
          "height": 47
        },
        "outputId": "e55d34ec-9eaa-438c-e3c1-67fce2f95700"
      },
      "outputs": [
        {
          "output_type": "execute_result",
          "data": {
            "text/plain": [
              "q2_1 results: All test cases passed!"
            ],
            "text/html": [
              "<p><strong><pre style='display: inline;'>q2_1</pre></strong> passed! 🍀</p>"
            ]
          },
          "metadata": {},
          "execution_count": 17
        }
      ],
      "source": [
        "grader.check(\"q2_1\")"
      ]
    },
    {
      "cell_type": "markdown",
      "metadata": {
        "id": "A0-qe0iKvp6q"
      },
      "source": [
        "## Visualizing the Predictor"
      ]
    },
    {
      "cell_type": "markdown",
      "metadata": {
        "id": "-4R6_-uNvp6q"
      },
      "source": [
        "To get an sense of the quality of the predictor our learner outputs, we will plot the predicted house prices against the true house prices.\n",
        "To help us visualize things we will only use one feature, the median income, to make the plot.\n",
        "First lets define a new matrix `X_MedInc` that only contains two columns, the first columns contains all 1s and the second column contains the median income feature."
      ]
    },
    {
      "cell_type": "code",
      "execution_count": 18,
      "metadata": {
        "id": "B3jxRDBDvp6q"
      },
      "outputs": [],
      "source": [
        "X_MedInc = np.hstack([np.ones((X.shape[0], 1)), X[:, 1].reshape(-1, 1)])"
      ]
    },
    {
      "cell_type": "markdown",
      "metadata": {
        "id": "isrfrUKTvp6q"
      },
      "source": [
        "Now we can pass `X_MedInc` and `Y` to the `closed_form_learner` to get the predictor and plot it against the true house prices.\n",
        "\n",
        "You should see the predictor is a line that fits the data well."
      ]
    },
    {
      "cell_type": "code",
      "execution_count": 29,
      "metadata": {
        "id": "aLfbYHquvp6q",
        "cellView": "form",
        "colab": {
          "base_uri": "https://localhost:8080/",
          "height": 497,
          "referenced_widgets": [
            "ba86021fae5343e795bf53ef6cb42824",
            "c9f8df48530d446fb5c0b7c46ee6653b",
            "f3e553cbfaf74a7b9764e5ec876ccd00"
          ]
        },
        "outputId": "bdd9822b-b7bf-45cb-f2a7-bae2fd2c3e82"
      },
      "outputs": [
        {
          "output_type": "display_data",
          "data": {
            "text/plain": [
              "Checkbox(value=True, description='Show Plot')"
            ],
            "application/vnd.jupyter.widget-view+json": {
              "version_major": 2,
              "version_minor": 0,
              "model_id": "ba86021fae5343e795bf53ef6cb42824"
            }
          },
          "metadata": {
            "application/vnd.jupyter.widget-view+json": {
              "colab": {
                "custom_widget_manager": {
                  "url": "https://ssl.gstatic.com/colaboratory-static/widgets/colab-cdn-widget-manager/2b70e893a8ba7c0f/manager.min.js"
                }
              }
            }
          }
        },
        {
          "output_type": "display_data",
          "data": {
            "text/plain": [
              "<Figure size 1000x500 with 1 Axes>"
            ],
            "image/png": "[encoded data removed]"
          },
          "metadata": {}
        }
      ],
      "source": [
        "# @title Plot\n",
        "\n",
        "# Create a checkbox widget\n",
        "show_plot_checkbox_cf = widgets.Checkbox(\n",
        "    value=False,\n",
        "    description='Show Plot',\n",
        "    disabled=False\n",
        ")\n",
        "\n",
        "# Function to plot the data\n",
        "def plot_data_cf(change):\n",
        "    clear_output(wait=True)  # Clear the output before plotting or closing the plot\n",
        "    display(show_plot_checkbox_cf)  # Re-display the checkbox after clearing\n",
        "\n",
        "    # Step 1: Call the closed_form_learner to get the predictor function and weights trained on X_MedInc.\n",
        "    predictor_cf, w_hat_cf = closed_form_learner(X_MedInc, Y)\n",
        "\n",
        "    # Step 2: Generate predicted values using the predictor function.\n",
        "    Y_pred_cf = predictor_cf(X_MedInc)\n",
        "\n",
        "    if show_plot_checkbox_cf.value:\n",
        "       # Step 4: Plot the original data points and the predicted line, with the desired style.\n",
        "        plt.figure(figsize=(10, 5))  # Set figure size as in the previous plot.\n",
        "        plt.scatter(X_MedInc[:, 1:], Y, alpha=0.3)  # Plot actual data with 30% opacity.\n",
        "        plt.plot(X_MedInc[:, 1:], Y_pred_cf, color='red', label='Closed Form Predictor')  # Plot the predicted line.\n",
        "        plt.xlabel('Median Income (in tens of thousands)')  # Change the x-axis label.\n",
        "        plt.ylabel('Median House Price (in hundreds of thousands)')  # Change the y-axis label.\n",
        "        plt.legend()  # Show the legend.\n",
        "\n",
        "        # Show the plot.\n",
        "        plt.show()\n",
        "\n",
        "# Attach the function to the checkbox\n",
        "show_plot_checkbox_cf.observe(plot_data_cf, names='value')\n",
        "\n",
        "# Display the checkbox\n",
        "display(show_plot_checkbox_cf)\n"
      ]
    },
    {
      "cell_type": "markdown",
      "metadata": {
        "id": "GAVQotoPvp6q"
      },
      "source": [
        "# Part 3: Batch Gradient Descent"
      ]
    },
    {
      "cell_type": "markdown",
      "metadata": {
        "id": "YPLp7uUdvp6q"
      },
      "source": [
        "Lets now implement the batch gradient descent learner for linear regression.\n",
        "In class we learned that the batch gradient descent learner is defined as:\n",
        "\n",
        "$$\\mathcal{A}(\\mathcal{D}) = \\hat f \\quad \\text{where} \\quad \\hat f = \\mathbf{x}^\\top \\mathbf{w}^{(T)}, \\quad T \\in \\mathbb{N}$$\n",
        "\n",
        "and\n",
        "\n",
        "$$\\mathbf{w}^{(t+1)} = \\mathbf{w}^{(t)} - \\eta^{(t)} \\frac{2}{n} \\sum_{i=1}^n (\\mathbf{x}_i^\\top \\mathbf{w}^{(t)} - y_i) \\mathbf{x}_i$$\n",
        "\n",
        "In Question 3.1 your goal is to define the learner $\\mathcal{A}$ as a function `batch_gradient_descent_learner` that takes as input:\n",
        "- `X` and `Y` (which is the dataset $\\mathcal{D}$),\n",
        "- `step_size` which is a constant learning rate, representing $\\eta^{(t)} = \\eta$,\n",
        "- `epochs` which is the number of steps to take, representing $T$,\n",
        "- `random_seed` which is the random seed used for reproducibility when initializing the weights randomly,\n",
        "\n",
        "and returns the function `predictor`, which represents $\\hat f$.\n",
        "Note that we are assuming a constant learning rate $\\eta^{(t)} = \\eta$ for this implementation.\n",
        "\n",
        "**A note on implementation:**\n",
        "Similar to the closed form solution, you can implement the above sum using a for loop; however, it is much more common to use matrix operations to compute these sums.\n",
        "To see how this can be done, first notice that\n",
        "$$\n",
        "\\sum_{i=1}^n (\\mathbf{x}_i^\\top \\mathbf{w}^{(t)} - y_i) \\mathbf{x}_i\n",
        "= \\sum_{i=1}^n \\mathbf{x}_i (\\mathbf{x}_i^\\top \\mathbf{w}^{(t)} - y_i)\n",
        "= \\sum_{i=1}^n \\mathbf{x}_i (\\mathbf{x}_i^\\top \\mathbf{w}^{(t)}) - \\sum_{i=1}^n \\mathbf{x}_i y_i\n",
        "$$\n",
        "We already learned in the previous section that $\\mathbf{X}^\\top \\mathbf{Y} = \\sum_{i=1}^n \\mathbf{x}_i y_i$.\n",
        "For the first sum, notice that if we calculate $\\mathbf{X}^\\top \\mathbf{X} \\mathbf{w}$ we get:\n",
        "$$\n",
        "\\mathbf{X}^\\top \\mathbf{X} \\mathbf{w} = \\left( \\sum_{i=1}^n \\mathbf{x}_i \\mathbf{x}_i^\\top \\right) \\mathbf{w}\n",
        "= \\sum_{i=1}^n \\mathbf{x}_i (\\mathbf{x}_i^\\top \\mathbf{w})\n",
        "$$\n"
      ]
    },
    {
      "cell_type": "markdown",
      "metadata": {
        "deletable": false,
        "editable": false,
        "id": "dY_4-v4svp6q"
      },
      "source": [
        "### Question 3.1\n",
        "Implement `batch_gradient_descent_learner`.\n",
        "In particular your code should set `w` as $\\mathbf{w}^{(t+1)}$ is defined above.\n",
        "\n",
        "_Points:_ 8"
      ]
    },
    {
      "cell_type": "code",
      "execution_count": 19,
      "metadata": {
        "tags": [
          "otter_answer_cell"
        ],
        "id": "7WSFhSBDvp6q"
      },
      "outputs": [],
      "source": [
        "def batch_gradient_descent_learner(X, Y, step_size=0.01, epochs=10, random_seed=42):\n",
        "    '''\n",
        "    Solves linear regression using batch gradient descent.\n",
        "\n",
        "    Parameters:\n",
        "    X (numpy array): Feature matrix of size (n, d+1), where n is the number of samples\n",
        "                     and d is the number of features. The first column should be all 1s.\n",
        "    Y (numpy array): Target vector of size (n, 1).\n",
        "    step_size (float): The step size for gradient descent.\n",
        "    epochs (int): The number of iterations to run gradient descent.\n",
        "    random_seed (int, optional): The seed for the random number generator.\n",
        "\n",
        "    Returns:\n",
        "    predictor (function): A function that takes a feature vector and returns a predicted value.\n",
        "    w (numpy array): The final weights after applying gradient descent for the specified epochs.\n",
        "    '''\n",
        "    n, d = X[:,1:].shape\n",
        "    np.random.seed(random_seed)\n",
        "    w = np.random.randn(d+1) # initialize the weights randomly\n",
        "\n",
        "    ### YOUR CODE HERE ###\n",
        "    for _ in range(epochs):\n",
        "        w = w - step_size * (2/n) * (X.T @ (X @ w - Y))\n",
        "\n",
        "    ######################\n",
        "\n",
        "    def predictor(x):\n",
        "        return x @ w\n",
        "\n",
        "    return predictor, w\n"
      ]
    },
    {
      "cell_type": "code",
      "execution_count": 20,
      "metadata": {
        "deletable": false,
        "editable": false,
        "id": "WTpnvmJCvp6q",
        "colab": {
          "base_uri": "https://localhost:8080/",
          "height": 47
        },
        "outputId": "7fd00a4d-4f1c-45e0-810a-808b9444e56d"
      },
      "outputs": [
        {
          "output_type": "execute_result",
          "data": {
            "text/plain": [
              "q3_1 results: All test cases passed!"
            ],
            "text/html": [
              "<p><strong><pre style='display: inline;'>q3_1</pre></strong> passed! 🌟</p>"
            ]
          },
          "metadata": {},
          "execution_count": 20
        }
      ],
      "source": [
        "grader.check(\"q3_1\")"
      ]
    },
    {
      "cell_type": "markdown",
      "metadata": {
        "id": "X0l8KfDIvp6r"
      },
      "source": [
        "## Visualizing the Predictor"
      ]
    },
    {
      "cell_type": "markdown",
      "metadata": {
        "id": "3BGUmt-4vp6r"
      },
      "source": [
        "Similar to the previous section, we will plot the predicted house prices against the true house prices using the median income feature.\n",
        "\n",
        "You should notice that as the number of epochs increases, the predictor gets closer to the closed form predictor.\n",
        "This makes sense, because the $\\hat{\\textbf{w}}$ used by the closed form predictor is\n",
        "$$\\hat{\\textbf{w}} = \\text{arg} \\min_{\\textbf{w}} \\hat L(\\textbf{w})$$\n",
        "and the $\\textbf{w}$ used by the batch gradient descent learner approaches this $\\hat{\\textbf{w}}$ as the number of epochs increases.\n",
        "\n",
        "You can use the slider to change the number of `epochs` that the `batch_gradient_descent_learner` runs for."
      ]
    },
    {
      "cell_type": "code",
      "execution_count": 21,
      "metadata": {
        "id": "av3j6zyPvp6r",
        "cellView": "form",
        "colab": {
          "base_uri": "https://localhost:8080/",
          "height": 527,
          "referenced_widgets": [
            "04302c85d23b44d493ee03c9f390f4c8",
            "3db54fdf6dfe43128f0e467616ca6e3e",
            "448dd3ad03994902aff10e4c1fb5df82",
            "6774f2eae761466a82f82914f13f1f36",
            "9a9e34a0ed964d9c949880399ccb41ca",
            "3502f49d6fda4d3a9342ba8afe4447ad",
            "529956696b99423fa4c8fa5ad902f568",
            "f0abdeae9cf44a1eafff58212e7148c8"
          ]
        },
        "outputId": "d95cb0e0-82ed-4923-d148-1812b7c18e8b"
      },
      "outputs": [
        {
          "output_type": "display_data",
          "data": {
            "text/plain": [
              "IntSlider(value=3, description='Epochs:', max=300, min=1)"
            ],
            "application/vnd.jupyter.widget-view+json": {
              "version_major": 2,
              "version_minor": 0,
              "model_id": "04302c85d23b44d493ee03c9f390f4c8"
            }
          },
          "metadata": {
            "application/vnd.jupyter.widget-view+json": {
              "colab": {
                "custom_widget_manager": {
                  "url": "https://ssl.gstatic.com/colaboratory-static/widgets/colab-cdn-widget-manager/2b70e893a8ba7c0f/manager.min.js"
                }
              }
            }
          }
        },
        {
          "output_type": "display_data",
          "data": {
            "text/plain": [
              "Checkbox(value=False, description='Show Plot')"
            ],
            "application/vnd.jupyter.widget-view+json": {
              "version_major": 2,
              "version_minor": 0,
              "model_id": "6774f2eae761466a82f82914f13f1f36"
            }
          },
          "metadata": {
            "application/vnd.jupyter.widget-view+json": {
              "colab": {
                "custom_widget_manager": {
                  "url": "https://ssl.gstatic.com/colaboratory-static/widgets/colab-cdn-widget-manager/2b70e893a8ba7c0f/manager.min.js"
                }
              }
            }
          }
        },
        {
          "output_type": "display_data",
          "data": {
            "text/plain": [
              "Output()"
            ],
            "application/vnd.jupyter.widget-view+json": {
              "version_major": 2,
              "version_minor": 0,
              "model_id": "529956696b99423fa4c8fa5ad902f568"
            }
          },
          "metadata": {
            "application/vnd.jupyter.widget-view+json": {
              "colab": {
                "custom_widget_manager": {
                  "url": "https://ssl.gstatic.com/colaboratory-static/widgets/colab-cdn-widget-manager/2b70e893a8ba7c0f/manager.min.js"
                }
              }
            }
          }
        }
      ],
      "source": [
        "# @title Plot\n",
        "# Create a slider widget for selecting the number of epochs\n",
        "epochs_slider = widgets.IntSlider(\n",
        "    value=3,\n",
        "    min=1,\n",
        "    max=300,\n",
        "    step=1,\n",
        "    description='Epochs:',\n",
        "    continuous_update=True  # Enable continuous updates for smoother interaction\n",
        ")\n",
        "\n",
        "# Create a checkbox widget\n",
        "show_plot_checkbox_bgd = widgets.Checkbox(\n",
        "    value=False,\n",
        "    description='Show Plot',\n",
        "    disabled=False\n",
        ")\n",
        "\n",
        "# Step 1: Call the closed_form_learner to get the predictor function and weights trained on X_MedInc.\n",
        "predictor_cf, w_hat_cf = closed_form_learner(X_MedInc, Y)\n",
        "\n",
        "# Step 2: Generate predicted values using the predictor function.\n",
        "Y_pred_cf = predictor_cf(X_MedInc)\n",
        "\n",
        "# Function to update the plot based on the selected number of epochs\n",
        "def update_plot_scatter_bgd(epochs, show_plot):\n",
        "    if show_plot:\n",
        "        # Step 1: Call the batch_gradient_descent_learner to get the predictor function and weights trained on X_MedInc.\n",
        "        bgd_predictor, bgd_weights = batch_gradient_descent_learner(X_MedInc, Y, step_size=0.01, epochs=epochs)\n",
        "\n",
        "        # Step 2: Generate predicted values using the BGD predictor function.\n",
        "        Y_pred_bgd = bgd_predictor(X_MedInc)\n",
        "\n",
        "        # Step 3: Plot the original data points, the closed form predictor line, and the BGD predictor line.\n",
        "        plt.figure(figsize=(10, 5))  # Set figure size as in the previous plot.\n",
        "        plt.scatter(X_MedInc[:, 1:], Y, alpha=0.3, label='Actual Data')  # Plot actual data with 30% opacity.\n",
        "        plt.plot(X_MedInc[:, 1:], Y_pred_cf, color='red', label='Closed Form Predictor')  # Plot the closed form predicted line.\n",
        "        plt.plot(X_MedInc[:, 1:], Y_pred_bgd, color='blue', label=f'BGD Predictor ({epochs} epochs)')  # Plot the BGD predicted line.\n",
        "        plt.xlabel('Median Income (in tens of thousands)')  # Change the x-axis label.\n",
        "        plt.ylabel('Median House Price (in hundreds of thousands)')  # Change the y-axis label.\n",
        "        plt.ylim(0.4, 5.4)\n",
        "        plt.legend()  # Show the legend.\n",
        "\n",
        "        # Show the plot.\n",
        "        plt.show()\n",
        "    else:\n",
        "        # Clear the output to hide the plot when \"Show Plot\" is unchecked\n",
        "        clear_output()\n",
        "\n",
        "# Use interactive_output to update the plot interactively\n",
        "interactive_plot_scatter_bgd = interactive_output(update_plot_scatter_bgd, {'epochs': epochs_slider, 'show_plot': show_plot_checkbox_bgd})\n",
        "\n",
        "# Display the slider, checkbox, and interactive plot\n",
        "display(epochs_slider, show_plot_checkbox_bgd, interactive_plot_scatter_bgd)\n"
      ]
    },
    {
      "cell_type": "markdown",
      "metadata": {
        "id": "uVf_OYOHvp6r"
      },
      "source": [
        "We can also visualize the estimated loss $\\hat L(\\mathbf{w})$ over the epochs.\n",
        "Lets define a function `calculate_loss` that takes in `X`, `Y`, and `w` and returns the estimated loss $\\hat L(\\mathbf{w})$."
      ]
    },
    {
      "cell_type": "code",
      "execution_count": 22,
      "metadata": {
        "id": "-VQqsJgEvp6r"
      },
      "outputs": [],
      "source": [
        "def calculate_loss(X, Y, w):\n",
        "    return np.mean((X @ w - Y) ** 2)"
      ]
    },
    {
      "cell_type": "markdown",
      "metadata": {
        "id": "JBnU7PAdvp6r"
      },
      "source": [
        "Since we are only using one feature, the weight vector $\\mathbf{w}$ is a 2-dimensional vector, where the first element is the bias term and the second element is the weight for the median income feature.\n",
        "Thus we can plot the estimated loss as a function of the 2-dimensional weight vector $\\mathbf{w}$.\n",
        "\n",
        "In the plot you should see that the $\\hat{\\textbf{w}}$ used by the closed form solution is the minimizer of the estimated loss.\n",
        "You should also see that the estimated loss for batch gradient descent weight vector $\\textbf{w}$ approaches $\\hat{\\textbf{w}}$ as the number of epochs increases.\n",
        "\n",
        "You can use the sliders to change the viewing angle of the plot."
      ]
    },
    {
      "cell_type": "code",
      "execution_count": 23,
      "metadata": {
        "id": "RDO41oo5vp6r",
        "cellView": "form",
        "colab": {
          "base_uri": "https://localhost:8080/",
          "height": 767,
          "referenced_widgets": [
            "46efe08a39544199b1a758ff52b9edec",
            "5ecdf6c8de4a4c3d81bb1fbd554cb5fe",
            "d60cca1ad6c74592b28bf0a9d5d86317",
            "3163770434244fc8be2e2492ab08aeb5",
            "f37048a07df7490cac2d97ed92f075ac",
            "7649cae62bcd40f6b759c8f1d7e9d722",
            "3ee9f617177945f9a414adfb04831b91",
            "92bac18117ca4d2d9dccca5a650df999",
            "7d85b897a45f466a8aabed0be091098a",
            "de28da13e56d4734be41e8ea2d87183c",
            "a181557db5634b0cae0d0b8cc4869e53"
          ]
        },
        "outputId": "80f05b59-5453-4c00-87f8-6b0a4fed75bf"
      },
      "outputs": [
        {
          "output_type": "display_data",
          "data": {
            "text/plain": [
              "IntSlider(value=15, description='Elev:', max=90)"
            ],
            "application/vnd.jupyter.widget-view+json": {
              "version_major": 2,
              "version_minor": 0,
              "model_id": "46efe08a39544199b1a758ff52b9edec"
            }
          },
          "metadata": {
            "application/vnd.jupyter.widget-view+json": {
              "colab": {
                "custom_widget_manager": {
                  "url": "https://ssl.gstatic.com/colaboratory-static/widgets/colab-cdn-widget-manager/2b70e893a8ba7c0f/manager.min.js"
                }
              }
            }
          }
        },
        {
          "output_type": "display_data",
          "data": {
            "text/plain": [
              "IntSlider(value=70, description='Azim:', max=360)"
            ],
            "application/vnd.jupyter.widget-view+json": {
              "version_major": 2,
              "version_minor": 0,
              "model_id": "3163770434244fc8be2e2492ab08aeb5"
            }
          },
          "metadata": {
            "application/vnd.jupyter.widget-view+json": {
              "colab": {
                "custom_widget_manager": {
                  "url": "https://ssl.gstatic.com/colaboratory-static/widgets/colab-cdn-widget-manager/2b70e893a8ba7c0f/manager.min.js"
                }
              }
            }
          }
        },
        {
          "output_type": "display_data",
          "data": {
            "text/plain": [
              "Checkbox(value=False, description='Show Plot')"
            ],
            "application/vnd.jupyter.widget-view+json": {
              "version_major": 2,
              "version_minor": 0,
              "model_id": "3ee9f617177945f9a414adfb04831b91"
            }
          },
          "metadata": {
            "application/vnd.jupyter.widget-view+json": {
              "colab": {
                "custom_widget_manager": {
                  "url": "https://ssl.gstatic.com/colaboratory-static/widgets/colab-cdn-widget-manager/2b70e893a8ba7c0f/manager.min.js"
                }
              }
            }
          }
        },
        {
          "output_type": "display_data",
          "data": {
            "text/plain": [
              "Output()"
            ],
            "application/vnd.jupyter.widget-view+json": {
              "version_major": 2,
              "version_minor": 0,
              "model_id": "de28da13e56d4734be41e8ea2d87183c"
            }
          },
          "metadata": {
            "application/vnd.jupyter.widget-view+json": {
              "colab": {
                "custom_widget_manager": {
                  "url": "https://ssl.gstatic.com/colaboratory-static/widgets/colab-cdn-widget-manager/2b70e893a8ba7c0f/manager.min.js"
                }
              }
            }
          }
        }
      ],
      "source": [
        "# @title Plot\n",
        "# Create sliders for elev and azim\n",
        "elev_slider = widgets.IntSlider(\n",
        "    value=15,\n",
        "    min=0,\n",
        "    max=90,\n",
        "    step=1,\n",
        "    description='Elev:',\n",
        "    continuous_update=True  # Enable continuous updates for smoother interaction\n",
        ")\n",
        "\n",
        "azim_slider = widgets.IntSlider(\n",
        "    value=70,\n",
        "    min=0,\n",
        "    max=360,\n",
        "    step=1,\n",
        "    description='Azim:',\n",
        "    continuous_update=True  # Enable continuous updates for smoother interaction\n",
        ")\n",
        "\n",
        "# Create a checkbox widget\n",
        "show_plot_checkbox_mesh = widgets.Checkbox(\n",
        "    value=False,\n",
        "    description='Show Plot',\n",
        "    disabled=False\n",
        ")\n",
        "\n",
        "# Run batch gradient descent for different epochs\n",
        "bgd_predictor_1, bgd_weights_1 = batch_gradient_descent_learner(X_MedInc, Y, step_size=0.01, epochs=1)\n",
        "bgd_predictor_10, bgd_weights_10 = batch_gradient_descent_learner(X_MedInc, Y, step_size=0.01, epochs=10)\n",
        "bgd_predictor_50, bgd_weights_50 = batch_gradient_descent_learner(X_MedInc, Y, step_size=0.01, epochs=50)\n",
        "\n",
        "# Compute the loss values for each set of weights\n",
        "bgd_loss_1 = calculate_loss(X_MedInc, Y, bgd_weights_1)\n",
        "bgd_loss_10 = calculate_loss(X_MedInc, Y, bgd_weights_10)\n",
        "bgd_loss_50 = calculate_loss(X_MedInc, Y, bgd_weights_50)\n",
        "\n",
        "# Get the closed form solution weights and loss\n",
        "closed_form_predictor, closed_form_weights = closed_form_learner(X_MedInc, Y)\n",
        "closed_form_loss = calculate_loss(X_MedInc, Y, closed_form_weights)\n",
        "\n",
        "# Create a grid of weight values for plotting the loss surface\n",
        "W0, W1 = np.meshgrid(np.linspace(-0.2, 2.5, 100), np.linspace(-0.5, 1.2, 100))\n",
        "loss_values = np.zeros_like(W0)\n",
        "\n",
        "# Compute the loss for each combination of weights\n",
        "for i in range(W0.shape[0]):\n",
        "    for j in range(W0.shape[1]):\n",
        "        w = np.array([W0[i, j], W1[i, j]])\n",
        "        loss_values[i, j] = calculate_loss(X_MedInc, Y, w)\n",
        "\n",
        "# Function to update the plot based on the slider values\n",
        "def update_plot_mesh(elev, azim, show_plot):\n",
        "    if show_plot:\n",
        "        # Create a new figure and 3D plot\n",
        "        fig = plt.figure(figsize=(12, 8))\n",
        "        ax = fig.add_subplot(111, projection='3d')\n",
        "        ax.plot_surface(W0, W1, loss_values, cmap='viridis', alpha=0.6)\n",
        "        ax.scatter(bgd_weights_1[0], bgd_weights_1[1], bgd_loss_1, color='blue', label='BGD Predictor (1 epoch)', s=100)\n",
        "        ax.scatter(bgd_weights_10[0], bgd_weights_10[1], bgd_loss_10, color='orange', label='BGD Predictor (10 epochs)', s=100)\n",
        "        ax.scatter(bgd_weights_50[0], bgd_weights_50[1], bgd_loss_50, color='red', label='BGD Predictor (50 epochs)', s=100)\n",
        "        ax.scatter(closed_form_weights[0], closed_form_weights[1], closed_form_loss, color='green', label='Closed Form Predictor', s=100)\n",
        "        ax.set_xlabel('Weight w0')\n",
        "        ax.set_ylabel('Weight w1')\n",
        "        ax.set_zlabel('Estimated Loss')\n",
        "        ax.view_init(elev=elev, azim=azim)\n",
        "        ax.set_title('Estimated Loss as a Function of Weight')\n",
        "        ax.legend()\n",
        "\n",
        "        # Display the updated plot\n",
        "        plt.show()\n",
        "    else:\n",
        "        # Clear the output to hide the plot when \"Show Plot\" is unchecked\n",
        "        clear_output()\n",
        "\n",
        "# Use interactive_output to update the plot interactively\n",
        "interactive_plot_mesh = interactive_output(update_plot_mesh, {'elev': elev_slider, 'azim': azim_slider, 'show_plot': show_plot_checkbox_mesh})\n",
        "\n",
        "# Display the sliders, checkbox, and interactive plot\n",
        "display(elev_slider, azim_slider, show_plot_checkbox_mesh, interactive_plot_mesh)\n"
      ]
    },
    {
      "cell_type": "markdown",
      "metadata": {
        "id": "P6QeSGNuvp6r"
      },
      "source": [
        "We can also visualize the estimated loss $\\hat L(\\mathbf{w})$ over the epochs in a 2D plot.\n",
        "Here we use a heatmap to represent the estimated loss value.\n",
        "The darkest blue represents the minimum estimated loss.\n",
        "You should see that the $\\hat{\\textbf{w}}$ used by the closed form solution is at the darkest blue region.\n",
        "You should also see that the estimated loss for the batch gradient descent weight vector $\\textbf{w}$ gets closer to $\\hat{\\textbf{w}}$ after each gradient descent step.\n",
        "The gradient steps are indicated by the red arrows."
      ]
    },
    {
      "cell_type": "code",
      "execution_count": 25,
      "metadata": {
        "id": "HR2BRE7Wvp6s",
        "cellView": "form",
        "colab": {
          "base_uri": "https://localhost:8080/",
          "height": 49,
          "referenced_widgets": [
            "c34f77cb3f684294a949af4d09374086",
            "035626715246403eb1232688969ef551",
            "8649684267ca426c883611f4ad74045e"
          ]
        },
        "outputId": "ed4ce031-3d09-4edb-9513-53c384045ce6"
      },
      "outputs": [
        {
          "output_type": "display_data",
          "data": {
            "text/plain": [
              "Checkbox(value=False, description='Show Plot')"
            ],
            "application/vnd.jupyter.widget-view+json": {
              "version_major": 2,
              "version_minor": 0,
              "model_id": "c34f77cb3f684294a949af4d09374086"
            }
          },
          "metadata": {
            "application/vnd.jupyter.widget-view+json": {
              "colab": {
                "custom_widget_manager": {
                  "url": "https://ssl.gstatic.com/colaboratory-static/widgets/colab-cdn-widget-manager/2b70e893a8ba7c0f/manager.min.js"
                }
              }
            }
          }
        }
      ],
      "source": [
        "# @title Plot\n",
        "# Create a checkbox widget\n",
        "show_plot_checkbox_loss = widgets.Checkbox(\n",
        "    value=False,\n",
        "    description='Show Plot',\n",
        "    disabled=False\n",
        ")\n",
        "\n",
        "# Function to plot the data\n",
        "def plot_data_loss(change):\n",
        "    clear_output(wait=True)  # Clear the output before plotting or closing the plot\n",
        "    display(show_plot_checkbox_loss)  # Re-display the checkbox after clearing\n",
        "\n",
        "    if show_plot_checkbox_loss.value:\n",
        "        # Get the closed form solution weights and loss\n",
        "        closed_form_predictor, closed_form_weights = closed_form_learner(X_MedInc, Y)\n",
        "        closed_form_loss = calculate_loss(X_MedInc, Y, closed_form_weights)\n",
        "\n",
        "        # Define the range of weight values to evaluate\n",
        "        w0_values = np.linspace(-0.2, 2.5, 100)\n",
        "        w1_values = np.linspace(-0.5, 1.2, 100)\n",
        "\n",
        "        # Create a meshgrid for the weight values\n",
        "        W0, W1 = np.meshgrid(w0_values, w1_values)\n",
        "\n",
        "        # Calculate the estimated loss for each pair of weight values\n",
        "        loss_values = np.zeros_like(W0)\n",
        "        for i in range(W0.shape[0]):\n",
        "            for j in range(W0.shape[1]):\n",
        "                w = np.array([W0[i, j], W1[i, j]])\n",
        "                loss = calculate_loss(X_MedInc, Y, w)\n",
        "                loss_values[i, j] = loss\n",
        "\n",
        "        # Get the weight values from the BGD predictor for different epochs\n",
        "        bgd_weights = []\n",
        "        _, bgd_weight = batch_gradient_descent_learner(X_MedInc, Y, step_size=0.01, epochs=1)\n",
        "        bgd_weights.append(bgd_weight)\n",
        "        for epoch in range(5, 100, 5):\n",
        "            _, bgd_weight = batch_gradient_descent_learner(X_MedInc, Y, step_size=0.01, epochs=epoch)\n",
        "            bgd_weights.append(bgd_weight)\n",
        "\n",
        "        bgd_weights = np.array(bgd_weights)\n",
        "\n",
        "        # Get the weight values from the closed form predictor\n",
        "        _, closed_form_weight = closed_form_learner(X_MedInc, Y)\n",
        "\n",
        "        # Plot the estimated loss as a function of the weight vector in 2D\n",
        "        plt.figure(figsize=(12, 8))\n",
        "        plt.contourf(W0, W1, loss_values, levels=50, cmap='viridis')\n",
        "        plt.colorbar(label='Estimated Loss')\n",
        "        plt.scatter(closed_form_weight[0], closed_form_weight[1], color='green', s=100, label='Closed Form Predictor')\n",
        "        plt.plot(bgd_weights[:, 0], bgd_weights[:, 1], marker='o', color='red', label='BGD Path')\n",
        "        for i in range(len(bgd_weights) - 1):\n",
        "            plt.arrow(bgd_weights[i, 0], bgd_weights[i, 1],\n",
        "                      bgd_weights[i+1, 0] - bgd_weights[i, 0],\n",
        "                      bgd_weights[i+1, 1] - bgd_weights[i, 1],\n",
        "                      head_width=0.045, head_length=0.045, fc='red', ec='red')  # Arrows in red\n",
        "        plt.xlabel('Weight w0')\n",
        "        plt.ylabel('Weight w1')\n",
        "        plt.title('Estimated Loss as a Function of Weight with Gradient Descent Path')\n",
        "        plt.legend()\n",
        "        plt.show()\n",
        "\n",
        "# Attach the function to the checkbox\n",
        "show_plot_checkbox_loss.observe(plot_data_loss, names='value')\n",
        "\n",
        "# Display the checkbox\n",
        "display(show_plot_checkbox_loss)\n"
      ]
    },
    {
      "cell_type": "markdown",
      "metadata": {
        "id": "RNEJ156tvp6s"
      },
      "source": [
        "One last way we can visualize the estimated loss is by plotting the estimated loss as a function of the number of epochs.\n",
        "This is sometimes called a learning curve, or a loss curve, and is perhaps the most commonly used way to visualize the performance of a learner in machine learning.\n",
        "\n",
        "For this kind of plot we are not limited to visualizing a predictor that only uses a single feature.\n",
        "In particular, now we can use all of the features in the dataset `X` instead of just the median income feature data `X_MedInc` to learn a predictor.\n",
        "We plot the estimated loss as a function of the number of epochs for the predictor output by the batch gradient descent learner using only the median income feature data `X_MedInc`, and all the features in the dataset `X`.\n",
        "\n",
        "What you should see is that the estimated loss decreases as the number of epochs increases for both cases.\n",
        "You should also find that the estimated loss for the predictor output by the learner using all the features in the dataset `X` reached a lower value compared to the predictor output by the learner using only the matrix containing the median income feature `X_MedInc`.\n",
        "This makes sense, since the learner has access to more information (features) and thus should be able to learn a predictor that better fits the data."
      ]
    },
    {
      "cell_type": "code",
      "execution_count": 26,
      "metadata": {
        "id": "5smAW8wUvp6s",
        "cellView": "form",
        "colab": {
          "base_uri": "https://localhost:8080/",
          "height": 49,
          "referenced_widgets": [
            "9181ac98780a443fb6d98f276052ddfb",
            "a07f84da8d5b40d39652685a7c464b8b",
            "6e05cfc1479741adaf1713a0db6f059e"
          ]
        },
        "outputId": "e8c932d5-afec-467f-dbdc-3559652acc27"
      },
      "outputs": [
        {
          "output_type": "display_data",
          "data": {
            "text/plain": [
              "Checkbox(value=False, description='Show Plot')"
            ],
            "application/vnd.jupyter.widget-view+json": {
              "version_major": 2,
              "version_minor": 0,
              "model_id": "9181ac98780a443fb6d98f276052ddfb"
            }
          },
          "metadata": {
            "application/vnd.jupyter.widget-view+json": {
              "colab": {
                "custom_widget_manager": {
                  "url": "https://ssl.gstatic.com/colaboratory-static/widgets/colab-cdn-widget-manager/2b70e893a8ba7c0f/manager.min.js"
                }
              }
            }
          }
        }
      ],
      "source": [
        "# @title Plot\n",
        "\n",
        "# Create a checkbox widget\n",
        "show_plot_checkbox_loss_curve = widgets.Checkbox(\n",
        "    value=False,\n",
        "    description='Show Plot',\n",
        "    disabled=False\n",
        ")\n",
        "\n",
        "# Function to plot the data\n",
        "def plot_data_loss_curve(change):\n",
        "    clear_output(wait=True)  # Clear the output before plotting or closing the plot\n",
        "    display(show_plot_checkbox_loss_curve)  # Re-display the checkbox after clearing\n",
        "\n",
        "    if show_plot_checkbox_loss_curve.value:\n",
        "        # Define the number of epochs to evaluate\n",
        "        epochs = range(1, 501)\n",
        "\n",
        "        # Initialize empty lists to store the loss values for each dataset\n",
        "        loss_values_X_MedInc = []\n",
        "        loss_values_X = []\n",
        "\n",
        "        # Train the model for each number of epochs and calculate the loss for each dataset\n",
        "        for epoch in epochs:\n",
        "            # For X_MedInc\n",
        "            _, w_X_MedInc = batch_gradient_descent_learner(X_MedInc, Y, step_size=0.01, epochs=epoch)\n",
        "            loss_X_MedInc = calculate_loss(X_MedInc, Y, w_X_MedInc)\n",
        "            loss_values_X_MedInc.append(loss_X_MedInc)\n",
        "\n",
        "            # For all features X\n",
        "            _, w_X = batch_gradient_descent_learner(X, Y, step_size=0.01, epochs=epoch)\n",
        "            loss_X = calculate_loss(X, Y, w_X)\n",
        "            loss_values_X.append(loss_X)\n",
        "\n",
        "        # Plot the loss as a function of the number of epochs for each dataset\n",
        "        plt.figure(figsize=(10, 5))\n",
        "        plt.plot(epochs, loss_values_X_MedInc, label='X_MedInc')\n",
        "        plt.plot(epochs, loss_values_X, label='All Features X')\n",
        "        plt.xlabel('Number of Epochs')\n",
        "        plt.ylabel('Loss')\n",
        "        plt.title('Loss as a Function of Number of Epochs for Different Feature Sets')\n",
        "        plt.yscale('log')\n",
        "        plt.legend()\n",
        "        plt.show()\n",
        "\n",
        "# Attach the function to the checkbox\n",
        "show_plot_checkbox_loss_curve.observe(plot_data_loss_curve, names='value')\n",
        "\n",
        "# Display the checkbox\n",
        "display(show_plot_checkbox_loss_curve)\n"
      ]
    },
    {
      "cell_type": "markdown",
      "metadata": {
        "id": "-tOh5_bHvp6s"
      },
      "source": [
        "# Part 4: Polynomial Regression\n",
        "\n",
        "Now we would like to explore how polynomial regression can be used to fit our data.\n",
        "To do this you will need to implement a polynomial feature map.\n",
        "We will keep things simply and only ask you to implement a degree 2 polynomial feature map.\n",
        "\n",
        "In Question 4.1 your goal is to implement `phi_2` (representing $\\phi_2$ from the course notes) which takes in a feature vector `x` and returns a new feature vector `poly_features` where `poly_features` is the degree 2 polynomial feature map of `x`.\n",
        "The input `x` is of dimension $d+1$, since the first element is always 1 (to account for the bias term in the weights).\n",
        "You should use the implementation of $\\phi_2$ from the course notes as a reference."
      ]
    },
    {
      "cell_type": "markdown",
      "metadata": {
        "deletable": false,
        "editable": false,
        "id": "vl05wOj_vp6s"
      },
      "source": [
        "### Question 4.1\n",
        "\n",
        "Implement `phi_2`.\n",
        "\n",
        "_Points:_ 8"
      ]
    },
    {
      "cell_type": "code",
      "execution_count": 27,
      "metadata": {
        "tags": [
          "otter_answer_cell"
        ],
        "id": "rdIQHJFVvp6s"
      },
      "outputs": [],
      "source": [
        "def phi_2(x):\n",
        "    \"\"\"\n",
        "    Transforms a single feature vector into a polynomial of degree 2 feature vector.\n",
        "\n",
        "    Parameters:\n",
        "    x (numpy array): A single feature vector of size d+1.\n",
        "\n",
        "    Returns:\n",
        "    poly_features (numpy array): A transformed feature vector of size (d+1)*(d+2)/2.\n",
        "    \"\"\"\n",
        "    # Calculate the size of the transformed feature vector\n",
        "    d = len(x) - 1\n",
        "    size = (d+1) * (d+2) // 2\n",
        "\n",
        "    ### YOUR CODE HERE ###\n",
        "\n",
        "    poly_features = np.zeros(size)\n",
        "\n",
        "    srt_index = 0\n",
        "\n",
        "    for i in range(d+1):\n",
        "      for j in range(i, d+1):\n",
        "        poly_features[srt_index] = x[i] * x[j]\n",
        "        srt_index += 1\n",
        "\n",
        "    ######################\n",
        "\n",
        "    return poly_features\n"
      ]
    },
    {
      "cell_type": "code",
      "execution_count": 28,
      "metadata": {
        "deletable": false,
        "editable": false,
        "id": "KsEOBv7Cvp6s",
        "colab": {
          "base_uri": "https://localhost:8080/",
          "height": 47
        },
        "outputId": "bc14fb2c-08a1-4de1-a4df-33a0971ac01c"
      },
      "outputs": [
        {
          "output_type": "execute_result",
          "data": {
            "text/plain": [
              "q4_1 results: All test cases passed!"
            ],
            "text/html": [
              "<p><strong><pre style='display: inline;'>q4_1</pre></strong> passed! 🍀</p>"
            ]
          },
          "metadata": {},
          "execution_count": 28
        }
      ],
      "source": [
        "grader.check(\"q4_1\")"
      ]
    },
    {
      "cell_type": "markdown",
      "metadata": {
        "id": "INBhSNBVvp6s"
      },
      "source": [
        "### Visualizing and Comparing the Polynomial Predictor\n",
        "\n",
        "We would like to use the polynomial feature map to transform the features of all the data points, however `phi_2` is only defined for a single feature vector `x`.\n",
        "To apply the polynomial feature map to a matrix of features `X` we have implemented the function `transform_and_normalize`.\n",
        "This function also normalizes the features after applying the polynomial feature map, which is important step as we discussed in [Understanding the Dataset](#part-1-understanding-the-dataset).\n"
      ]
    },
    {
      "cell_type": "code",
      "execution_count": 29,
      "metadata": {
        "id": "2Bxxfz0Lvp6s"
      },
      "outputs": [],
      "source": [
        "def transform_and_normalize(X):\n",
        "    \"\"\"\n",
        "    Transforms the feature matrix X using the given polynomial feature map function phi\n",
        "    and normalizes the polynomial features.\n",
        "\n",
        "    Parameters:\n",
        "    X (numpy array): The feature matrix of size (n, d+1).\n",
        "    phi (function): The polynomial feature map function to apply to each row of X.\n",
        "\n",
        "    Returns:\n",
        "    X_poly (numpy array): The transformed and normalized feature matrix.\n",
        "    \"\"\"\n",
        "    # Apply the phi function to each row of X\n",
        "    X_poly = np.array([phi_2(x) for x in X])\n",
        "\n",
        "    # Normalize the polynomial features, excluding the first column\n",
        "    X_poly_mean = X_poly[:, 1:].mean(axis=0)\n",
        "    X_poly_std = X_poly[:, 1:].std(axis=0)\n",
        "    X_poly[:, 1:] = (X_poly[:, 1:] - X_poly_mean) / X_poly_std\n",
        "\n",
        "    return X_poly"
      ]
    },
    {
      "cell_type": "markdown",
      "metadata": {
        "id": "v8RjFwrdvp6s"
      },
      "source": [
        "So that we can visualize the polynomial predictor, we will again only use a single feature.\n",
        "However, now we will use the feature describing the median number of rooms instead of the median income as we did in the previous sections.\n",
        "This is because, as we will see in the plot, a quadratic function might be a better fit for this data.\n",
        "\n",
        "Below we define the matrix `X_AveRooms` that only contains two columns, the first columns contains all 1s and the second column contains the average number of rooms feature.\n",
        "We also define the matrix `X_AveRooms_poly` which is the polynomial feature map of `X_AveRooms`."
      ]
    },
    {
      "cell_type": "code",
      "execution_count": 30,
      "metadata": {
        "id": "p4v_whd1vp6s"
      },
      "outputs": [],
      "source": [
        "X_AveRooms = np.hstack([np.ones((X.shape[0], 1)), X[:, 3].reshape(-1, 1)])\n",
        "X_AveRooms_poly = transform_and_normalize(X_AveRooms)"
      ]
    },
    {
      "cell_type": "markdown",
      "metadata": {
        "id": "jVAt6piYvp6s"
      },
      "source": [
        "Now we can pass `X_AveRooms_poly` and `Y` to the `closed_form_learner` to get the polynomial predictor and plot it against the true house prices.\n",
        "We also include the linear predictor (produced by passing `X_AveRooms` to `Y` to the `closed_form_learner`) for comparison.\n",
        "\n",
        "You should see two functions plotted, one that is a line (linear predictor) and one that is a quadratic (polynomial predictor).\n",
        "The quadratic function should fit the data slightly better than the line."
      ]
    },
    {
      "cell_type": "code",
      "execution_count": 31,
      "metadata": {
        "id": "MjCEQjjtvp6t",
        "cellView": "form",
        "colab": {
          "base_uri": "https://localhost:8080/",
          "height": 49,
          "referenced_widgets": [
            "0d78ff8ed3ab419a82ecdc51bfb394a6",
            "e0591a6934c94ccc9a0c8ecca03af470",
            "1f5ea77ff69848a486109b8f8e9a4401"
          ]
        },
        "outputId": "23909fdf-4c94-493a-bcd6-b1b43d6289db"
      },
      "outputs": [
        {
          "output_type": "display_data",
          "data": {
            "text/plain": [
              "Checkbox(value=False, description='Show Plot')"
            ],
            "application/vnd.jupyter.widget-view+json": {
              "version_major": 2,
              "version_minor": 0,
              "model_id": "0d78ff8ed3ab419a82ecdc51bfb394a6"
            }
          },
          "metadata": {
            "application/vnd.jupyter.widget-view+json": {
              "colab": {
                "custom_widget_manager": {
                  "url": "https://ssl.gstatic.com/colaboratory-static/widgets/colab-cdn-widget-manager/2b70e893a8ba7c0f/manager.min.js"
                }
              }
            }
          }
        }
      ],
      "source": [
        "# @title Plot\n",
        "\n",
        "# Create a checkbox to control the display of the plot\n",
        "show_plot_checkbox_scatter_poly = widgets.Checkbox(value=False, description='Show Plot')\n",
        "\n",
        "# Function to update the plot based on the checkbox value\n",
        "def plot_scatter_poly(change):\n",
        "    clear_output(wait=True)\n",
        "    display(show_plot_checkbox_scatter_poly)\n",
        "\n",
        "    if show_plot_checkbox_scatter_poly.value:\n",
        "        X_AveRooms_plot = X_AveRooms[:, 1]\n",
        "\n",
        "        # Sort the x-axis and the Y predictions using the same indices\n",
        "        sorted_indices = np.argsort(X_AveRooms_plot)\n",
        "        X_AveRooms_plot_sorted = X_AveRooms_plot[sorted_indices]\n",
        "\n",
        "        # Scatter plot of X_AveRooms vs Y\n",
        "        plt.figure(figsize=(10, 5))\n",
        "        plt.scatter(X_AveRooms_plot, Y, alpha=0.3, label='Actual Data')\n",
        "\n",
        "        # Closed form predictor for X_AveRooms\n",
        "        closed_form_predictor_AveRooms, closed_form_weights_AveRooms = closed_form_learner(X_AveRooms, Y)\n",
        "        Y_pred_AveRooms = closed_form_predictor_AveRooms(X_AveRooms)\n",
        "        Y_pred_AveRooms_sorted = Y_pred_AveRooms[sorted_indices]\n",
        "        plt.plot(X_AveRooms_plot_sorted, Y_pred_AveRooms_sorted, color='red', label='Closed Form Predictor (X_AveRooms)')\n",
        "\n",
        "        # Closed form predictor for X_AveRooms_poly\n",
        "        closed_form_predictor_AveRooms_poly, closed_form_weights_AveRooms_poly = closed_form_learner(X_AveRooms_poly, Y)\n",
        "        Y_pred_AveRooms_poly = closed_form_predictor_AveRooms_poly(X_AveRooms_poly)\n",
        "        Y_pred_AveRooms_poly_sorted = Y_pred_AveRooms_poly[sorted_indices]\n",
        "        plt.plot(X_AveRooms_plot_sorted, Y_pred_AveRooms_poly_sorted, color='blue', label='Closed Form Predictor (X_AveRooms_poly)')\n",
        "\n",
        "        # Labels and legend\n",
        "        plt.xlabel('Average Rooms')\n",
        "        plt.ylabel('Median House Price')\n",
        "        plt.legend()\n",
        "        plt.show()\n",
        "\n",
        "# Attach the function to the checkbox\n",
        "show_plot_checkbox_scatter_poly.observe(plot_scatter_poly, names='value')\n",
        "\n",
        "# Initial display\n",
        "display(show_plot_checkbox_scatter_poly)"
      ]
    },
    {
      "cell_type": "markdown",
      "metadata": {
        "id": "s-_tFrB0vp6t"
      },
      "source": [
        "If you were not convinced by the previous plots that a quadratic function might be a better fit for the data, we can compute the estimated loss $\\hat L(\\hat{\\mathbf{w}})$ of the linear and polynomial predictors.\n",
        "This gives us a single number that quantifies how well the predictor fits the data.\n",
        "Intuitively, this number tells us on average how far off the predictor is from the true house prices (in terms of a the squared distance).\n",
        "\n",
        "Below you should see a bar plot containing two bars, one for the linear predictor and one for the polynomial predictor.\n",
        "You should also see that the estimated loss for the polynomial predictor is lower than the estimated loss for the linear predictor.\n",
        "This makes sense, since the polynomial features contain all the linear features, but also include all the quadratic features, which means the polynomial predictor always has at least as much information as the linear predictor."
      ]
    },
    {
      "cell_type": "code",
      "execution_count": 32,
      "metadata": {
        "id": "uxb_H2v8vp6t",
        "cellView": "form",
        "colab": {
          "base_uri": "https://localhost:8080/",
          "height": 49,
          "referenced_widgets": [
            "d92987fe3dfe494dbe2e2857315517cc",
            "fac6c8e2ab8147f8bd0c83ef31613198",
            "41d6b39a7c2445528efb67ec18b70ff8"
          ]
        },
        "outputId": "b94c5d65-d17a-4cb1-9136-21424d1b3519"
      },
      "outputs": [
        {
          "output_type": "display_data",
          "data": {
            "text/plain": [
              "Checkbox(value=False, description='Show Plot')"
            ],
            "application/vnd.jupyter.widget-view+json": {
              "version_major": 2,
              "version_minor": 0,
              "model_id": "d92987fe3dfe494dbe2e2857315517cc"
            }
          },
          "metadata": {
            "application/vnd.jupyter.widget-view+json": {
              "colab": {
                "custom_widget_manager": {
                  "url": "https://ssl.gstatic.com/colaboratory-static/widgets/colab-cdn-widget-manager/2b70e893a8ba7c0f/manager.min.js"
                }
              }
            }
          }
        }
      ],
      "source": [
        "# @title Plot\n",
        "\n",
        "# Create a checkbox to control the display of the plot\n",
        "show_plot_checkbox_loss_comparison_poly = widgets.Checkbox(value=False, description='Show Plot')\n",
        "\n",
        "\n",
        "# Function to update the plot based on the checkbox value\n",
        "def plot_loss_comparison_poly(change):\n",
        "    clear_output(wait=True)\n",
        "    display(show_plot_checkbox_loss_comparison_poly)\n",
        "\n",
        "    # Define closed_form_weights_AveRooms and closed_form_weights_AveRooms_poly\n",
        "    closed_form_predictor_AveRooms, closed_form_weights_AveRooms = closed_form_learner(X_AveRooms, Y)\n",
        "    closed_form_predictor_AveRooms_poly, closed_form_weights_AveRooms_poly = closed_form_learner(X_AveRooms_poly, Y)\n",
        "\n",
        "    if show_plot_checkbox_loss_comparison_poly.value:\n",
        "        # Calculate the loss for the closed form predictor using X_AveRooms\n",
        "        loss_AveRooms = calculate_loss(X_AveRooms, Y, closed_form_weights_AveRooms)\n",
        "\n",
        "        # Calculate the loss for the closed form predictor using X_AveRooms_poly\n",
        "        loss_AveRooms_poly = calculate_loss(X_AveRooms_poly, Y, closed_form_weights_AveRooms_poly)\n",
        "\n",
        "        # Create a bar plot of the loss for the two predictors with softer colors\n",
        "        plt.figure(figsize=(8, 5))\n",
        "        plt.bar(['X_AveRooms', 'X_AveRooms_poly'], [loss_AveRooms, loss_AveRooms_poly], color=['#87CEEB', '#FFB6C1'])\n",
        "        plt.xlabel('Features')\n",
        "        plt.ylabel('Loss')\n",
        "        plt.title('Loss for Closed Form Predictors')\n",
        "        plt.show()\n",
        "\n",
        "# Attach the function to the checkbox\n",
        "show_plot_checkbox_loss_comparison_poly.observe(plot_loss_comparison_poly, names='value')\n",
        "\n",
        "# Initial display\n",
        "display(show_plot_checkbox_loss_comparison_poly)"
      ]
    },
    {
      "cell_type": "markdown",
      "metadata": {
        "id": "P8RCIW2Svp6t"
      },
      "source": [
        "We can also use the bar plot to compare the estimated loss of the linear and polynomial predictors obtained when `closed_form_learner` uses the matrix of all the features in the dataset `X` instead of the matrix containing just the average number of rooms feature `X_AveRooms`.\n",
        "\n",
        "In the next code cell we transform the features in `X` into polynomial features `X_poly`."
      ]
    },
    {
      "cell_type": "code",
      "execution_count": 33,
      "metadata": {
        "id": "c7-kjwO7vp6t"
      },
      "outputs": [],
      "source": [
        "X_poly = transform_and_normalize(X)"
      ]
    },
    {
      "cell_type": "markdown",
      "metadata": {
        "id": "Yb0snClFvp6t"
      },
      "source": [
        "In the plotting section of [Batch Gradient Descent](#part-3-batch-gradient-descent), we discussed how if the learner has access to more features, it should be able to learn a predictor that better fits the data.\n",
        "We verify this by using a bar plot, but now include the estimated loss for the linear and polynomial predictors obtained when `closed_form_learner` is trained on all the features in the dataset `X` or `X_poly` instead of just the average number of rooms feature `X_AveRooms`.\n",
        "\n",
        "You shold see that when all the features `X` or `X_poly` are used, the estimated loss for the predictors is lower than when only the average number of rooms feature `X_AveRooms` or `X_AveRooms_poly` is used.\n",
        "You should also see that the predictor trained of `X_poly` has a lower estimated loss than the predictor trained on `X`."
      ]
    },
    {
      "cell_type": "code",
      "execution_count": 34,
      "metadata": {
        "id": "DyqImGubvp6t",
        "cellView": "form",
        "colab": {
          "base_uri": "https://localhost:8080/",
          "height": 519,
          "referenced_widgets": [
            "5c8599553e9749ff80e85de49fc08de6",
            "d39dba9a775d464f87e159b910e07493",
            "9e54d736c2894804915c0a3771b8a9ab"
          ]
        },
        "outputId": "a4c24ae4-e8d5-4a38-e997-2c245e3eed22"
      },
      "outputs": [
        {
          "output_type": "display_data",
          "data": {
            "text/plain": [
              "Checkbox(value=True, description='Show Plot')"
            ],
            "application/vnd.jupyter.widget-view+json": {
              "version_major": 2,
              "version_minor": 0,
              "model_id": "5c8599553e9749ff80e85de49fc08de6"
            }
          },
          "metadata": {
            "application/vnd.jupyter.widget-view+json": {
              "colab": {
                "custom_widget_manager": {
                  "url": "https://ssl.gstatic.com/colaboratory-static/widgets/colab-cdn-widget-manager/2b70e893a8ba7c0f/manager.min.js"
                }
              }
            }
          }
        },
        {
          "output_type": "display_data",
          "data": {
            "text/plain": [
              "<Figure size 1000x500 with 1 Axes>"
            ],
            "image/png": "[encoded data removed]"
          },
          "metadata": {}
        }
      ],
      "source": [
        "# @title Plot\n",
        "\n",
        "# Create a checkbox to control the display of the plot\n",
        "show_plot_checkbox_loss_comparison_poly_full = widgets.Checkbox(value=False, description='Show Plot')\n",
        "\n",
        "# Function to update the plot based on the checkbox value\n",
        "def plot_loss_comparison_poly_full(change):\n",
        "    clear_output(wait=True)\n",
        "    display(show_plot_checkbox_loss_comparison_poly_full)\n",
        "\n",
        "    # Define closed_form_weights_AveRooms and closed_form_weights_AveRooms_poly\n",
        "    closed_form_predictor_AveRooms, closed_form_weights_AveRooms = closed_form_learner(X_AveRooms, Y)\n",
        "    closed_form_predictor_AveRooms_poly, closed_form_weights_AveRooms_poly = closed_form_learner(X_AveRooms_poly, Y)\n",
        "    closed_form_predictor_X, closed_form_weights_X = closed_form_learner(X, Y)\n",
        "    closed_form_predictor_X_poly, closed_form_weights_X_poly = closed_form_learner(X_poly, Y)\n",
        "\n",
        "    if show_plot_checkbox_loss_comparison_poly_full.value:\n",
        "        # Calculate the loss for the closed form predictor using X_AveRooms\n",
        "        loss_AveRooms = calculate_loss(X_AveRooms, Y, closed_form_weights_AveRooms)\n",
        "\n",
        "        # Calculate the loss for the closed form predictor using X_AveRooms_poly\n",
        "        loss_AveRooms_poly = calculate_loss(X_AveRooms_poly, Y, closed_form_weights_AveRooms_poly)\n",
        "\n",
        "        # Calculate the loss for the closed form predictor using X\n",
        "        loss_X = calculate_loss(X, Y, closed_form_weights_X)\n",
        "\n",
        "        # Calculate the loss for the closed form predictor using X_poly\n",
        "        loss_X_poly = calculate_loss(X_poly, Y, closed_form_weights_X_poly)\n",
        "\n",
        "        # Create a bar plot of the loss for the four predictors with softer colors\n",
        "        plt.figure(figsize=(10, 5))\n",
        "        plt.bar(['X_AveRooms', 'X_AveRooms_poly', 'X', 'X_poly'],\n",
        "                [loss_AveRooms, loss_AveRooms_poly, loss_X, loss_X_poly],\n",
        "                color=['#87CEEB', '#FFB6C1', '#90EE90', '#FFD700'])\n",
        "        plt.xlabel('Features')\n",
        "        plt.ylabel('Loss')\n",
        "        plt.title('Loss for Closed Form Predictors')\n",
        "        plt.show()\n",
        "\n",
        "# Attach the function to the checkbox\n",
        "show_plot_checkbox_loss_comparison_poly_full.observe(plot_loss_comparison_poly_full, names='value')\n",
        "\n",
        "# Initial display\n",
        "display(show_plot_checkbox_loss_comparison_poly_full)"
      ]
    },
    {
      "cell_type": "markdown",
      "metadata": {
        "id": "lJpzuSb4vp6t"
      },
      "source": [
        "# Part 5: Mini-Batch Gradient Descent\n",
        "\n",
        "Lets now implement the mini-batch gradient descent learner for linear regression.\n",
        "In Question 5.1 your goal is to implement `minibatch_gradient_descent_learner` which takes all the same inputs as `batch_gradient_descent_learner` but also takes an additional parameter `batch_size` which is the size of the mini-batches.\n",
        "You should use a constant step size `step_size` for this implementation.\n",
        "Your implementation should be based on the MBGD Linear Regression learner from the course notes.\n",
        "\n",
        "**A note on implementation:**\n",
        "Make sure you always shuffle the initial dataset `X` and `Y` before each epoch (i.e. Do not override `X` and `Y` with the shuffled dataset).\n",
        "We follow this approach to maintain consistency during grading, even though both shuffling methods are valid.\n",
        "You should use `np.random.permutation` to help you shuffle the dataset `X` and `Y`.\n",
        "This function returns a random permutation of the integers from 0 to `n` - 1, where `n` is the number of data points in the dataset.\n",
        "For example, `np.random.permutation(5)` might return `[2, 0, 4, 1, 3]`.\n",
        "You can use this permutation to shuffle the dataset by indexing the dataset with the permutation (e.g. `X[permutation]` will return a shuffled version of `X`)."
      ]
    },
    {
      "cell_type": "markdown",
      "metadata": {
        "deletable": false,
        "editable": false,
        "id": "hRXMqWB-vp6t"
      },
      "source": [
        "### Question 5.1\n",
        "\n",
        "Implement `minibatch_gradient_descent_learner`.\n",
        "\n",
        "_Points:_ 8"
      ]
    },
    {
      "cell_type": "code",
      "execution_count": 36,
      "metadata": {
        "tags": [
          "otter_answer_cell"
        ],
        "id": "0v2m4Fasvp6t"
      },
      "outputs": [],
      "source": [
        "def minibatch_gradient_descent_learner(X, Y, step_size=0.01, epochs=10, batch_size=32, random_seed=42):\n",
        "    '''\n",
        "    Solves linear regression using mini-batch gradient descent with a fixed step size.\n",
        "\n",
        "    Parameters:\n",
        "    X (numpy array): Feature matrix of size (n, d+1), where n is the number of samples\n",
        "                     and d is the number of features. The first column should be all 1s.\n",
        "    Y (numpy array): Target vector of size (n, 1).\n",
        "    step_size (float): The step size for gradient descent.\n",
        "    epochs (int): The number of iterations to run gradient descent.\n",
        "    batch_size (int): The size of each mini-batch.\n",
        "    random_seed (int): The seed for the random number generator.\n",
        "\n",
        "    Returns:\n",
        "    predictor (function): A function that takes a feature vector and returns a predicted value.\n",
        "    w (numpy array): The final weights after applying gradient descent for the specified epochs.\n",
        "    '''\n",
        "    np.random.seed(random_seed)  # Set the random seed for reproducibility\n",
        "    n, d = X[:, 1:].shape\n",
        "    w = np.random.randn(d+1) # initialize the weights randomly\n",
        "    M = np.floor(n / batch_size).astype(int)  # Number of mini-batches\n",
        "\n",
        "    ### YOUR CODE HERE ###\n",
        "\n",
        "    for e in range(epochs):\n",
        "        permutation = np.random.permutation(n)\n",
        "        X_shuffled = X[permutation]\n",
        "        Y_shuffled = Y[permutation]\n",
        "\n",
        "        for i in range(M):\n",
        "            start = i * batch_size\n",
        "            end = start + batch_size\n",
        "            X_batch = X_shuffled[start:end]\n",
        "            Y_batch = Y_shuffled[start:end]\n",
        "\n",
        "            predictions = X_batch @ w\n",
        "            gradient = (2 / batch_size) * X_batch.T @ (predictions - Y_batch)\n",
        "\n",
        "            w = w - step_size * gradient\n",
        "\n",
        "\n",
        "    ######################\n",
        "\n",
        "    def predictor(x):\n",
        "        return x @ w\n",
        "\n",
        "    return predictor, w\n"
      ]
    },
    {
      "cell_type": "code",
      "execution_count": 37,
      "metadata": {
        "deletable": false,
        "editable": false,
        "id": "E5tgw29Bvp6t",
        "colab": {
          "base_uri": "https://localhost:8080/",
          "height": 47
        },
        "outputId": "095a6ff9-2cdb-4124-c883-5c0df08b5e1a"
      },
      "outputs": [
        {
          "output_type": "execute_result",
          "data": {
            "text/plain": [
              "q5_1 results: All test cases passed!"
            ],
            "text/html": [
              "<p><strong><pre style='display: inline;'>q5_1</pre></strong> passed! 🎉</p>"
            ]
          },
          "metadata": {},
          "execution_count": 37
        }
      ],
      "source": [
        "grader.check(\"q5_1\")"
      ]
    },
    {
      "cell_type": "markdown",
      "metadata": {
        "id": "rZYUkORHvp6t"
      },
      "source": [
        "## Comparing Different Batch Sizes\n",
        "\n",
        "Lets continue with the example from the [Polynomial Regression](#part-4-polynomial-regression) section where we used the matrix `X_poly` containing all the features in the dataset `X` transformed into polynomial features.\n",
        "Recall that the `closed_form_learner` outputs the predictor that exactly minimizes the estimated loss $\\hat L(\\mathbf{w})$.\n",
        "Thus, a good way to evaluate the performance of the `minibatch_gradient_descent_learner` is to compare the estimated loss of the predictor it outputs to the estimated loss of the predictor output by the `closed_form_learner`.\n",
        "We will do this for different batch sizes: $1, 32$ and $n$ (which is the full batch and is equivalent to the batch gradient descent learner).\n",
        "We also run the `minibatch_gradient_descent_learner` for 1000 epochs, which should be more than enough epochs for the predictor to converge to a good solution.\n",
        "\n",
        "We show a bar plot of the results. You should see that the estimated loss for the closed form predictor has the smallest value, and that the estimated loss for the mini-batch gradient descent predictor approaches the estimated loss for the closed form predictor as the batch size decreases.\n",
        "This gives us some practical verification that indeed using a smaller batch size can be a good idea.\n",
        "In particular for this dataset, using a batch size of 1 seems to be the best."
      ]
    },
    {
      "cell_type": "code",
      "execution_count": 38,
      "metadata": {
        "id": "RwAhiukbvp6t",
        "cellView": "form",
        "colab": {
          "base_uri": "https://localhost:8080/",
          "height": 596,
          "referenced_widgets": [
            "5cf1244893374fcdb123df33c0ae8610",
            "d118f3dfed054dbb8ccdd112e6e4ea82",
            "35701b07e2be4dd1991946a31a4d1a7f"
          ]
        },
        "outputId": "c65696f5-6a04-47e1-9dcd-6c79a6eeb81c"
      },
      "outputs": [
        {
          "output_type": "display_data",
          "data": {
            "text/plain": [
              "Checkbox(value=True, description='Show Plot')"
            ],
            "application/vnd.jupyter.widget-view+json": {
              "version_major": 2,
              "version_minor": 0,
              "model_id": "5cf1244893374fcdb123df33c0ae8610"
            }
          },
          "metadata": {
            "application/vnd.jupyter.widget-view+json": {
              "colab": {
                "custom_widget_manager": {
                  "url": "https://ssl.gstatic.com/colaboratory-static/widgets/colab-cdn-widget-manager/2b70e893a8ba7c0f/manager.min.js"
                }
              }
            }
          }
        },
        {
          "output_type": "display_data",
          "data": {
            "text/plain": [
              "<Figure size 1200x600 with 1 Axes>"
            ],
            "image/png": "[encoded data removed]"
          },
          "metadata": {}
        }
      ],
      "source": [
        "# @title Plot\n",
        "\n",
        "# Create a checkbox to control the display of the plot\n",
        "show_plot_checkbox_minibatch = widgets.Checkbox(value=False, description='Show Plot')\n",
        "\n",
        "# Function to update the plot based on the checkbox value\n",
        "def plot_minibatch(change):\n",
        "    clear_output(wait=True)\n",
        "    display(show_plot_checkbox_minibatch)\n",
        "\n",
        "    # Define the number of epochs\n",
        "    epochs = 1000\n",
        "\n",
        "    # Closed form predictors\n",
        "    closed_form_predictor_X_poly, closed_form_weights_X_poly = closed_form_learner(X_poly, Y)\n",
        "\n",
        "    # Calculate the loss for the closed form predictors\n",
        "    loss_X_poly = calculate_loss(X_poly, Y, closed_form_weights_X_poly)\n",
        "\n",
        "    # Minibatch gradient descent with batch size 32\n",
        "    _, w_mb_32_poly = minibatch_gradient_descent_learner(X_poly, Y, step_size=0.001, epochs=epochs, batch_size=32)\n",
        "    loss_mb_32_poly = calculate_loss(X_poly, Y, w_mb_32_poly)\n",
        "\n",
        "    # Minibatch gradient descent with batch size 1\n",
        "    _, w_mb_1_poly = minibatch_gradient_descent_learner(X_poly, Y, step_size=0.0001, epochs=epochs, batch_size=1)\n",
        "    loss_mb_1_poly = calculate_loss(X_poly, Y, w_mb_1_poly)\n",
        "\n",
        "    # Batch gradient descent (batch size = n)\n",
        "    _, w_bgd_poly = batch_gradient_descent_learner(X_poly, Y, step_size=0.01, epochs=epochs)\n",
        "    loss_bgd_poly = calculate_loss(X_poly, Y, w_bgd_poly)\n",
        "\n",
        "    # Create a bar plot of the losses\n",
        "    labels = ['Closed Form (X_poly)', 'MBGD (Batch 1, X_poly)', 'MBGD (Batch 32, X_poly)', 'BGD (X_poly)']\n",
        "    losses = [loss_X_poly, loss_mb_1_poly, loss_mb_32_poly, loss_bgd_poly]\n",
        "\n",
        "    # Define a more visually appealing color palette\n",
        "    colors = ['#4E79A7', '#F28E2B', '#E15759', '#76B7B2']\n",
        "\n",
        "    if show_plot_checkbox_minibatch.value:\n",
        "        plt.figure(figsize=(12, 6))\n",
        "        plt.bar(labels, losses, color=colors)\n",
        "        plt.xlabel('Predictors')\n",
        "        plt.ylabel('Loss')\n",
        "        plt.title('Loss for Different Predictors (Gradient Descent run for 1000 epochs)')\n",
        "        plt.xticks(rotation=0)\n",
        "        plt.show()\n",
        "\n",
        "# Attach the function to the checkbox\n",
        "show_plot_checkbox_minibatch.observe(plot_minibatch, names='value')\n",
        "\n",
        "# Initial display\n",
        "display(show_plot_checkbox_minibatch)\n"
      ]
    },
    {
      "cell_type": "markdown",
      "metadata": {
        "id": "YTkTKyMgvp6u"
      },
      "source": [
        "# Part 6: Step Sizes\n",
        "\n",
        "So far we have been using a constant step size $\\eta^{(t)} = \\eta$.\n",
        "However, in class we learned that the step size can be chosen in a variety of ways.\n",
        "In this section we will explore how different step sizes can affect the performance of the batch gradient descent learner.\n",
        "\n",
        "To do this, you will need to implement the different step size functions described in class.\n",
        "To keep the inputs consistent for all the step size functions, we will assume the input is a dictionary `state` that contains the following keys:\n",
        "- `eta` which is the initial step size,\n",
        "- `lambda_` which is the decay rate,\n",
        "- `epoch` which is the current epoch,\n",
        "- `gradient` which is the gradient at the current epoch,\n",
        "- `eps` which is a small constant to prevent division by zero.\n",
        "\n",
        "You can access the values of the dictionary using the keys, for example `state['eta']` will return the initial step size.\n",
        "As an example, we implement the constant step size function `constant_step_size` below, which is defined as $\\eta^{(t)} = \\eta$."
      ]
    },
    {
      "cell_type": "code",
      "execution_count": 39,
      "metadata": {
        "id": "2UX6Mvdgvp6u"
      },
      "outputs": [],
      "source": [
        "def constant_step_size(state):\n",
        "    \"\"\"\n",
        "    Returns a constant step size.\n",
        "\n",
        "    Parameters:\n",
        "    state (dict): A dictionary containing the state variables, including 'eta'.\n",
        "\n",
        "    Returns:\n",
        "    float: The constant step size.\n",
        "    \"\"\"\n",
        "    step_size = state['eta']\n",
        "    return step_size"
      ]
    },
    {
      "cell_type": "markdown",
      "metadata": {
        "deletable": false,
        "editable": false,
        "id": "KPfY1wQAvp6u"
      },
      "source": [
        "### Question 6.1\n",
        "\n",
        "Implement `inverse_decaying_step_size` which is defined as\n",
        "$$\\eta^{(t)} = \\frac{\\eta}{1 + \\lambda t}$$\n",
        "\n",
        "_Points:_ 4"
      ]
    },
    {
      "cell_type": "code",
      "execution_count": 40,
      "metadata": {
        "tags": [
          "otter_answer_cell"
        ],
        "id": "MoDYVvA0vp6u"
      },
      "outputs": [],
      "source": [
        "def inverse_decaying_step_size(state):\n",
        "    \"\"\"\n",
        "    Returns an inverse decaying step size.\n",
        "\n",
        "    Parameters:\n",
        "    state (dict): A dictionary containing the state variables, including 'eta', 'lambda_', and 'epoch'.\n",
        "\n",
        "    Returns:\n",
        "    step_size (float): The step size for the given epoch.\n",
        "    \"\"\"\n",
        "    ### YOUR CODE HERE ###\n",
        "\n",
        "    eta = state['eta']\n",
        "    lambda_ = state['lambda_']\n",
        "    epoch = state['epoch']\n",
        "    step_size = eta / (1 + lambda_ * epoch)\n",
        "\n",
        "    ######################\n",
        "    return step_size"
      ]
    },
    {
      "cell_type": "code",
      "execution_count": 41,
      "metadata": {
        "deletable": false,
        "editable": false,
        "id": "E8UCZ_Lmvp6u",
        "colab": {
          "base_uri": "https://localhost:8080/",
          "height": 47
        },
        "outputId": "e9343504-1762-4f96-a1bb-34a596ad70b0"
      },
      "outputs": [
        {
          "output_type": "execute_result",
          "data": {
            "text/plain": [
              "q6_1 results: All test cases passed!"
            ],
            "text/html": [
              "<p><strong><pre style='display: inline;'>q6_1</pre></strong> passed! 🙌</p>"
            ]
          },
          "metadata": {},
          "execution_count": 41
        }
      ],
      "source": [
        "grader.check(\"q6_1\")"
      ]
    },
    {
      "cell_type": "markdown",
      "metadata": {
        "deletable": false,
        "editable": false,
        "id": "YhWtHEnovp6u"
      },
      "source": [
        "### Question 6.2\n",
        "\n",
        "Implement `exponential_decaying_step_size` which is defined as\n",
        "$$\\eta^{(t)} = \\eta \\exp(-\\lambda t).$$\n",
        "You can use `np.exp` to implement the exponential function.\n",
        "\n",
        "_Points:_ 4"
      ]
    },
    {
      "cell_type": "code",
      "execution_count": 43,
      "metadata": {
        "tags": [
          "otter_answer_cell"
        ],
        "id": "DCDvs7oVvp6u"
      },
      "outputs": [],
      "source": [
        "def exponential_decaying_step_size(state):\n",
        "    \"\"\"\n",
        "    Returns an exponentially decaying step size.\n",
        "\n",
        "    Parameters:\n",
        "    state (dict): A dictionary containing the state variables, including 'eta', 'lambda_', and 'epoch'.\n",
        "\n",
        "    Returns:\n",
        "    step_size (float): The step size for the given epoch.\n",
        "    \"\"\"\n",
        "    ### YOUR CODE HERE ###\n",
        "\n",
        "    eta = state['eta']\n",
        "    lambda_ = state['lambda_']\n",
        "    epoch = state['epoch']\n",
        "    step_size = eta * np.exp(-lambda_ * epoch)\n",
        "\n",
        "    ######################\n",
        "    return step_size"
      ]
    },
    {
      "cell_type": "code",
      "execution_count": 44,
      "metadata": {
        "deletable": false,
        "editable": false,
        "id": "CF2Mp9jPvp6u",
        "colab": {
          "base_uri": "https://localhost:8080/",
          "height": 47
        },
        "outputId": "916defa6-a4cf-45f6-9144-3658923b52cf"
      },
      "outputs": [
        {
          "output_type": "execute_result",
          "data": {
            "text/plain": [
              "q6_2 results: All test cases passed!"
            ],
            "text/html": [
              "<p><strong><pre style='display: inline;'>q6_2</pre></strong> passed! 🙌</p>"
            ]
          },
          "metadata": {},
          "execution_count": 44
        }
      ],
      "source": [
        "grader.check(\"q6_2\")"
      ]
    },
    {
      "cell_type": "markdown",
      "metadata": {
        "deletable": false,
        "editable": false,
        "id": "gPRfquMAvp6u"
      },
      "source": [
        "### Question 6.3\n",
        "\n",
        "Implement `normalized_gradient_step_size` which is defined as\n",
        "$$\\eta^{(t)} = \\frac{\\eta}{\\epsilon + \\| \\text{gradient} \\|}.$$\n",
        "You can use `np.linalg.norm` to calculate the 2-norm of the gradient\n",
        "\n",
        "_Points:_ 4"
      ]
    },
    {
      "cell_type": "code",
      "execution_count": 45,
      "metadata": {
        "tags": [
          "otter_answer_cell"
        ],
        "id": "OR_AT5aEvp6u"
      },
      "outputs": [],
      "source": [
        "def normalized_gradient_step_size(state):\n",
        "    \"\"\"\n",
        "    Returns a normalized step size based on the gradient.\n",
        "\n",
        "    Parameters:\n",
        "    state (dict): A dictionary containing the state variables, including 'eta', 'gradient', and 'eps'.\n",
        "\n",
        "    Returns:\n",
        "    step_size (float): The normalized step size.\n",
        "    \"\"\"\n",
        "\n",
        "    ### YOUR CODE HERE ###\n",
        "\n",
        "    eta = state['eta']\n",
        "    gradient = state['gradient']\n",
        "    eps = state['eps']\n",
        "    step_size = eta / (eps + np.linalg.norm(gradient))\n",
        "\n",
        "    ######################\n",
        "    return step_size"
      ]
    },
    {
      "cell_type": "code",
      "execution_count": 46,
      "metadata": {
        "deletable": false,
        "editable": false,
        "id": "UrehAtQjvp6u",
        "colab": {
          "base_uri": "https://localhost:8080/",
          "height": 47
        },
        "outputId": "43825aa2-5dae-4a29-d735-754dae2ae763"
      },
      "outputs": [
        {
          "output_type": "execute_result",
          "data": {
            "text/plain": [
              "q6_3 results: All test cases passed!"
            ],
            "text/html": [
              "<p><strong><pre style='display: inline;'>q6_3</pre></strong> passed! ✨</p>"
            ]
          },
          "metadata": {},
          "execution_count": 46
        }
      ],
      "source": [
        "grader.check(\"q6_3\")"
      ]
    },
    {
      "cell_type": "markdown",
      "metadata": {
        "deletable": false,
        "editable": false,
        "id": "cklgHFunvp6u"
      },
      "source": [
        "### Question 6.4\n",
        "\n",
        "Now that you have implemented the different step size functions, you have to modify the `batch_gradient_descent_learner` to accept a `step_size_func` parameter.\n",
        "We will call this new learner `batch_gradient_descent_learner_ss` (ss stands for step size).\n",
        "Compared to the previous `batch_gradient_descent_learner`, the new learner takes as input the additional parameters:\n",
        "- `step_size_func` which is the step size function to use,\n",
        "- `eta` which is the initial step size (previously we called this `step_size`),\n",
        "- `lambda_` which is the decay rate\n",
        "- `eps` which is a small constant to prevent division by zero.\n",
        "\n",
        "We have already started the implementation for you by defining the `state` dictionary.\n",
        "Your implementation of `batch_gradient_descent_learner_ss` should look similar to your implementation of `batch_gradient_descent_learner`, but with the step size being calculated using the `step_size_func` function.\n",
        "Also, make sure to update the `epoch` and `gradient` values in the `state` dictionary before calling the `step_size_func`.\n",
        "\n",
        "_Points:_ 4"
      ]
    },
    {
      "cell_type": "code",
      "execution_count": 47,
      "metadata": {
        "tags": [
          "otter_answer_cell"
        ],
        "id": "RWKHiyEyvp6u"
      },
      "outputs": [],
      "source": [
        "def batch_gradient_descent_learner_ss(X, Y, step_size_func, eta=0.01, lambda_=0.01, epochs=10, eps=1e-8, random_seed=42):\n",
        "    '''\n",
        "    Solves linear regression using batch gradient descent with a custom step size function.\n",
        "\n",
        "    Parameters:\n",
        "    X (numpy array): Feature matrix of size (n, d+1), where n is the number of samples\n",
        "                     and d is the number of features. The first column should be all 1s.\n",
        "    Y (numpy array): Target vector of size (n, 1).\n",
        "    step_size_func (function): A function that takes a state dictionary and returns the step size.\n",
        "    eta (float): The initial step size for gradient descent.\n",
        "    lambda_ (float): The decay rate for the step size functions that require it.\n",
        "    epochs (int): The number of iterations to run gradient descent.\n",
        "    eps (float): A small value to prevent division by zero in the normalized gradient step size function.\n",
        "    random_seed (int, optional): A random seed for initializing the weights.\n",
        "\n",
        "    Returns:\n",
        "    predictor (function): A function that takes a feature vector and returns a predicted value.\n",
        "    w (numpy array): The final weights after applying gradient descent for the specified epochs.\n",
        "    '''\n",
        "    n, d = X[:, 1:].shape\n",
        "    np.random.seed(random_seed)\n",
        "    w = np.random.randn(d+1) # initialize the weights randomly\n",
        "\n",
        "    # Initialize the state dictionary\n",
        "    state = {\n",
        "        'eta': eta,\n",
        "        'lambda_': lambda_,\n",
        "        'epoch': 0,\n",
        "        'gradient': np.zeros(d+1),\n",
        "        'eps': eps\n",
        "    }\n",
        "\n",
        "    ### YOUR CODE HERE ###\n",
        "    for epoch in range(epochs):\n",
        "        predictions = X @ w\n",
        "\n",
        "        gradient = (2/n) * X.T @ (predictions - Y)\n",
        "\n",
        "        state['epoch'] = epoch\n",
        "        state['gradient'] = gradient\n",
        "\n",
        "        step_size = step_size_func(state)\n",
        "\n",
        "        w -= step_size * gradient\n",
        "\n",
        "    ######################\n",
        "\n",
        "    def predictor(x):\n",
        "        return x @ w\n",
        "\n",
        "    return predictor, w"
      ]
    },
    {
      "cell_type": "code",
      "execution_count": 48,
      "metadata": {
        "deletable": false,
        "editable": false,
        "id": "Tot4-J9Tvp6v",
        "colab": {
          "base_uri": "https://localhost:8080/",
          "height": 47
        },
        "outputId": "2cbc2787-28f8-4745-dab0-a21749324805"
      },
      "outputs": [
        {
          "output_type": "execute_result",
          "data": {
            "text/plain": [
              "q6_4 results: All test cases passed!"
            ],
            "text/html": [
              "<p><strong><pre style='display: inline;'>q6_4</pre></strong> passed! 🍀</p>"
            ]
          },
          "metadata": {},
          "execution_count": 48
        }
      ],
      "source": [
        "grader.check(\"q6_4\")"
      ]
    },
    {
      "cell_type": "markdown",
      "metadata": {
        "id": "rbENG_P-vp6v"
      },
      "source": [
        "### Learning Curves for Different Step Sizes\n",
        "\n",
        "We can once again continue with using `X_poly` and `Y` as the dataset.\n",
        "We will compare the performance of the different step size functions by plotting the estimated loss $\\hat L(\\mathbf{w})$ as a function of the number of epochs for each step size function.\n",
        "\n",
        "You can use the sliders to change the different parameters of the step size functions.\n",
        "\n",
        "You should see that when you make `eta` too large the estimated loss can actually increase.\n",
        "This is the case we saw in class where the step size is too large and the learner overshoots the minimum more and more after each step, causing for gradient descent to diverge."
      ]
    },
    {
      "cell_type": "code",
      "execution_count": 49,
      "metadata": {
        "id": "oJVv9EsIvp6v",
        "cellView": "form",
        "colab": {
          "base_uri": "https://localhost:8080/",
          "height": 583,
          "referenced_widgets": [
            "7961943c105b463b804e714f6060e4d2",
            "36cb64c3d937483c93163a49f21930b9",
            "62c642aab67942d3856c2ec003e8a99b",
            "14aa94fb975446fbbf66a786a6987c72",
            "a42e50e92a78412697af70b49d8914bf",
            "fca2f383139b45d58a04ac5d18f915cc",
            "6da70a6f9cb749dda8b08645c325bdf6",
            "55439a92a9364372b14ed05b9b7730f0",
            "65391aa63a1a488fb781ef0435ca9029",
            "4ad41f29c0544b17ac813d10838116f5",
            "5b1844cc11d84daeba4daa7ed653f627",
            "cec919e52a35482d987669d33c75a52a",
            "e42cbc4873b5480381a17c9dbffe0c89",
            "413245e058084e5d9f7cfe9ded57d19f",
            "ddea0a671d0e49f19b3a06ea91f8f0eb",
            "82e7ba39026649f3a5a233385ad615f6",
            "b57490e517de4b4da84c1609cf1dc6f5",
            "5fea2c4c701046ac8e2051867b77726b",
            "6bb78205343f4155bd5498aeea8c858d",
            "f1046c833a874800b1dce60579f879b8",
            "baaaa56ad2a14bceb3ce99a0a6c116e4",
            "e52fd6b667664a319373340f3a9acec3",
            "64d3ba634deb4966a4ebc127d3aeac47",
            "788384ce1c604c09a84d4c04cc04cf93",
            "15aa63d4d5324f1998ec0a23e0366547",
            "431d0c6e6ea6494685e6a69342022856",
            "795ad0768b1843269bbc11535291fc69",
            "62ca4aa05d644936a7de9478c6ca8510",
            "d5c89afb836e430195c6464281ac2b0b",
            "8b85940761df4302a343f4121f6e7595",
            "1e9f4d2a10f54f11b51e13b5daab84bb",
            "89ac40528c9a4dfba0f7dfc890808a2d",
            "3ca6fef7997a4aed86584df3a3419169"
          ]
        },
        "outputId": "157958fb-c8e3-4469-809e-9ebc7f146be2"
      },
      "outputs": [
        {
          "output_type": "display_data",
          "data": {
            "text/plain": [
              "HBox(children=(VBox(children=(FloatSlider(value=0.2, description='Eta (Const):', max=0.4, step=0.01),)), VBox(…"
            ],
            "application/vnd.jupyter.widget-view+json": {
              "version_major": 2,
              "version_minor": 0,
              "model_id": "7961943c105b463b804e714f6060e4d2"
            }
          },
          "metadata": {
            "application/vnd.jupyter.widget-view+json": {
              "colab": {
                "custom_widget_manager": {
                  "url": "https://ssl.gstatic.com/colaboratory-static/widgets/colab-cdn-widget-manager/2b70e893a8ba7c0f/manager.min.js"
                }
              }
            }
          }
        },
        {
          "output_type": "display_data",
          "data": {
            "text/plain": [
              "Checkbox(value=False, description='Show Plot')"
            ],
            "application/vnd.jupyter.widget-view+json": {
              "version_major": 2,
              "version_minor": 0,
              "model_id": "d5c89afb836e430195c6464281ac2b0b"
            }
          },
          "metadata": {
            "application/vnd.jupyter.widget-view+json": {
              "colab": {
                "custom_widget_manager": {
                  "url": "https://ssl.gstatic.com/colaboratory-static/widgets/colab-cdn-widget-manager/2b70e893a8ba7c0f/manager.min.js"
                }
              }
            }
          }
        },
        {
          "output_type": "display_data",
          "data": {
            "text/plain": [
              "Output()"
            ],
            "application/vnd.jupyter.widget-view+json": {
              "version_major": 2,
              "version_minor": 0,
              "model_id": "89ac40528c9a4dfba0f7dfc890808a2d"
            }
          },
          "metadata": {
            "application/vnd.jupyter.widget-view+json": {
              "colab": {
                "custom_widget_manager": {
                  "url": "https://ssl.gstatic.com/colaboratory-static/widgets/colab-cdn-widget-manager/2b70e893a8ba7c0f/manager.min.js"
                }
              }
            }
          }
        }
      ],
      "source": [
        "# @title Plot\n",
        "\n",
        "# Define the number of epochs to evaluate\n",
        "epochs_lr = range(0, 50)\n",
        "\n",
        "# Create sliders for each step size function\n",
        "eta_slider_constant = widgets.FloatSlider(value=0.2, min=0.00, max=0.4, step=0.01, description='Eta (Const):')\n",
        "eta_slider_inverse = widgets.FloatSlider(value=0.10, min=0.000, max=0.4, step=0.001, description='Eta (Inv):')\n",
        "lambda_slider_inverse = widgets.FloatSlider(value=0.01, min=0.000, max=1.0, step=0.001, description='Lambda (Inv):')\n",
        "eta_slider_exponential = widgets.FloatSlider(value=0.25, min=0.000, max=0.4, step=0.001, description='Eta (Exp):')\n",
        "lambda_slider_exponential = widgets.FloatSlider(value=0.01, min=0.000, max=1.0, step=0.001, description='Lambda (Exp):')\n",
        "eta_slider_normalized = widgets.FloatSlider(value=0.30, min=0.000, max=1.0, step=0.001, description='Eta (Norm):')\n",
        "\n",
        "# Create a checkbox to control the display of the plot\n",
        "show_plot_checkbox_lr = widgets.Checkbox(value=False, description='Show Plot')\n",
        "\n",
        "# Arrange sliders in 4 columns\n",
        "column1 = widgets.VBox([eta_slider_constant])\n",
        "column2 = widgets.VBox([eta_slider_inverse, lambda_slider_inverse])\n",
        "column3 = widgets.VBox([eta_slider_exponential, lambda_slider_exponential])\n",
        "column4 = widgets.VBox([eta_slider_normalized])\n",
        "slider_layout = widgets.HBox([column1, column2, column3, column4])\n",
        "\n",
        "# Function to update the plot based on the slider values\n",
        "def update_plot_lr(eta_constant, eta_inverse, lambda_inverse, eta_exponential, lambda_exponential, eta_normalized, show_plot):\n",
        "    # # Clear the output before plotting or closing the plot\n",
        "    # clear_output(wait=True)\n",
        "\n",
        "    # # Re-display the sliders and checkbox\n",
        "    # display(slider_layout, show_plot_checkbox_lr)\n",
        "\n",
        "    # Initialize empty lists to store the loss values for each step size function\n",
        "    loss_values_constant = []\n",
        "    loss_values_inverse = []\n",
        "    loss_values_exponential = []\n",
        "    loss_values_normalized = []\n",
        "\n",
        "    # Train the model for each number of epochs and calculate the loss for each step size function\n",
        "    for epoch in epochs_lr:\n",
        "        # Constant step size\n",
        "        _, w_constant = batch_gradient_descent_learner_ss(X_poly, Y, step_size_func=constant_step_size, eta=eta_constant, epochs=epoch)\n",
        "        loss_constant = calculate_loss(X_poly, Y, w_constant)\n",
        "        loss_values_constant.append(loss_constant)\n",
        "\n",
        "        # Inverse decaying step size\n",
        "        _, w_inverse = batch_gradient_descent_learner_ss(X_poly, Y, step_size_func=inverse_decaying_step_size, eta=eta_inverse, lambda_=lambda_inverse, epochs=epoch)\n",
        "        loss_inverse = calculate_loss(X_poly, Y, w_inverse)\n",
        "        loss_values_inverse.append(loss_inverse)\n",
        "\n",
        "        # Exponential decaying step size\n",
        "        _, w_exponential = batch_gradient_descent_learner_ss(X_poly, Y, step_size_func=exponential_decaying_step_size, eta=eta_exponential, lambda_=lambda_exponential, epochs=epoch)\n",
        "        loss_exponential = calculate_loss(X_poly, Y, w_exponential)\n",
        "        loss_values_exponential.append(loss_exponential)\n",
        "\n",
        "        # Normalized gradient step size\n",
        "        _, w_normalized = batch_gradient_descent_learner_ss(X_poly, Y, step_size_func=normalized_gradient_step_size, eta=eta_normalized, epochs=epoch)\n",
        "        loss_normalized = calculate_loss(X_poly, Y, w_normalized)\n",
        "        loss_values_normalized.append(loss_normalized)\n",
        "\n",
        "    # Plot the loss as a function of the number of epochs for each step size function if the checkbox is checked\n",
        "    if show_plot:\n",
        "        plt.figure(figsize=(10, 5))\n",
        "        plt.plot(epochs_lr, loss_values_constant, label='Constant Step Size')\n",
        "        plt.plot(epochs_lr, loss_values_inverse, label='Inverse Decaying Step Size')\n",
        "        plt.plot(epochs_lr, loss_values_exponential, label='Exponential Decaying Step Size')\n",
        "        plt.plot(epochs_lr, loss_values_normalized, label='Normalized Gradient Step Size')\n",
        "        plt.xlabel('Number of Epochs')\n",
        "        plt.ylabel('Loss')\n",
        "        plt.title('Loss as a Function of Number of Epochs for Different Step Size Functions')\n",
        "        plt.yscale('log')\n",
        "        plt.legend()\n",
        "        plt.show()\n",
        "    else:\n",
        "        # Clear the output to hide the plot when \"Show Plot\" is unchecked\n",
        "        clear_output()\n",
        "\n",
        "\n",
        "# Use interactive_output to link the sliders and checkbox to the update_plot_lr function\n",
        "interactive_plot_lr = interactive_output(update_plot_lr, {\n",
        "    'eta_constant': eta_slider_constant,\n",
        "    'eta_inverse': eta_slider_inverse,\n",
        "    'lambda_inverse': lambda_slider_inverse,\n",
        "    'eta_exponential': eta_slider_exponential,\n",
        "    'lambda_exponential': lambda_slider_exponential,\n",
        "    'eta_normalized': eta_slider_normalized,\n",
        "    'show_plot': show_plot_checkbox_lr\n",
        "})\n",
        "\n",
        "# Initial display\n",
        "display(slider_layout, show_plot_checkbox_lr, interactive_plot_lr)\n"
      ]
    },
    {
      "cell_type": "markdown",
      "metadata": {
        "id": "EghufVuBvp6v"
      },
      "source": [
        "# The End, I hope you had fun :)"
      ]
    },
    {
      "cell_type": "markdown",
      "metadata": {
        "deletable": false,
        "editable": false,
        "id": "awwxTy2yvp6v"
      },
      "source": [
        "---\n",
        "\n",
        "To double-check your work, the cell below will rerun all of the autograder tests."
      ]
    },
    {
      "cell_type": "code",
      "execution_count": 50,
      "metadata": {
        "deletable": false,
        "editable": false,
        "id": "13pLw3SYvp6v",
        "colab": {
          "base_uri": "https://localhost:8080/"
        },
        "outputId": "b768cb33-d3e0-461c-ec1c-c5285f4f518a"
      },
      "outputs": [
        {
          "output_type": "execute_result",
          "data": {
            "text/plain": [
              "q2_1 results: All test cases passed!\n",
              "\n",
              "q3_1 results: All test cases passed!\n",
              "\n",
              "q4_1 results: All test cases passed!\n",
              "\n",
              "q5_1 results: All test cases passed!\n",
              "\n",
              "q6_1 results: All test cases passed!\n",
              "\n",
              "q6_2 results: All test cases passed!\n",
              "\n",
              "q6_3 results: All test cases passed!\n",
              "\n",
              "q6_4 results: All test cases passed!"
            ]
          },
          "metadata": {},
          "execution_count": 50
        }
      ],
      "source": [
        "grader.check_all()"
      ]
    }
  ],
  "metadata": {
    "kernelspec": {
      "display_name": "ml1_req",
      "language": "python",
      "name": "python3"
    },
    "language_info": {
      "codemirror_mode": {
        "name": "ipython",
        "version": 3
      },
      "file_extension": ".py",
      "mimetype": "text/x-python",
      "name": "python",
      "nbconvert_exporter": "python",
      "pygments_lexer": "ipython3",
      "version": "3.12.7"
    },
    "colab": {
      "provenance": []
    },
    "widgets": {
      "application/vnd.jupyter.widget-state+json": {
        "8ef178662aea4632b02bc40b999c7f8a": {
          "model_module": "@jupyter-widgets/controls",
          "model_name": "CheckboxModel",
          "model_module_version": "1.5.0",
          "state": {
            "_dom_classes": [],
            "_model_module": "@jupyter-widgets/controls",
            "_model_module_version": "1.5.0",
            "_model_name": "CheckboxModel",
            "_view_count": null,
            "_view_module": "@jupyter-widgets/controls",
            "_view_module_version": "1.5.0",
            "_view_name": "CheckboxView",
            "description": "Show Plot",
            "description_tooltip": null,
            "disabled": false,
            "indent": true,
            "layout": "IPY_MODEL_ea4e82cef482454e8e07878748dd0fe9",
            "style": "IPY_MODEL_67142b25a5e742c089513692e5e48542",
            "value": false
          }
        },
        "ea4e82cef482454e8e07878748dd0fe9": {
          "model_module": "@jupyter-widgets/base",
          "model_name": "LayoutModel",
          "model_module_version": "1.2.0",
          "state": {
            "_model_module": "@jupyter-widgets/base",
            "_model_module_version": "1.2.0",
            "_model_name": "LayoutModel",
            "_view_count": null,
            "_view_module": "@jupyter-widgets/base",
            "_view_module_version": "1.2.0",
            "_view_name": "LayoutView",
            "align_content": null,
            "align_items": null,
            "align_self": null,
            "border": null,
            "bottom": null,
            "display": null,
            "flex": null,
            "flex_flow": null,
            "grid_area": null,
            "grid_auto_columns": null,
            "grid_auto_flow": null,
            "grid_auto_rows": null,
            "grid_column": null,
            "grid_gap": null,
            "grid_row": null,
            "grid_template_areas": null,
            "grid_template_columns": null,
            "grid_template_rows": null,
            "height": null,
            "justify_content": null,
            "justify_items": null,
            "left": null,
            "margin": null,
            "max_height": null,
            "max_width": null,
            "min_height": null,
            "min_width": null,
            "object_fit": null,
            "object_position": null,
            "order": null,
            "overflow": null,
            "overflow_x": null,
            "overflow_y": null,
            "padding": null,
            "right": null,
            "top": null,
            "visibility": null,
            "width": null
          }
        },
        "67142b25a5e742c089513692e5e48542": {
          "model_module": "@jupyter-widgets/controls",
          "model_name": "DescriptionStyleModel",
          "model_module_version": "1.5.0",
          "state": {
            "_model_module": "@jupyter-widgets/controls",
            "_model_module_version": "1.5.0",
            "_model_name": "DescriptionStyleModel",
            "_view_count": null,
            "_view_module": "@jupyter-widgets/base",
            "_view_module_version": "1.2.0",
            "_view_name": "StyleView",
            "description_width": ""
          }
        },
        "63b16502bb8643488f6eeaba5953288f": {
          "model_module": "@jupyter-widgets/controls",
          "model_name": "CheckboxModel",
          "model_module_version": "1.5.0",
          "state": {
            "_dom_classes": [],
            "_model_module": "@jupyter-widgets/controls",
            "_model_module_version": "1.5.0",
            "_model_name": "CheckboxModel",
            "_view_count": null,
            "_view_module": "@jupyter-widgets/controls",
            "_view_module_version": "1.5.0",
            "_view_name": "CheckboxView",
            "description": "Show Plot",
            "description_tooltip": null,
            "disabled": false,
            "indent": true,
            "layout": "IPY_MODEL_c1b4ab117a4d4f9b8e1a34754d75c82b",
            "style": "IPY_MODEL_33576586be144443b0734ff38d866c44",
            "value": false
          }
        },
        "c1b4ab117a4d4f9b8e1a34754d75c82b": {
          "model_module": "@jupyter-widgets/base",
          "model_name": "LayoutModel",
          "model_module_version": "1.2.0",
          "state": {
            "_model_module": "@jupyter-widgets/base",
            "_model_module_version": "1.2.0",
            "_model_name": "LayoutModel",
            "_view_count": null,
            "_view_module": "@jupyter-widgets/base",
            "_view_module_version": "1.2.0",
            "_view_name": "LayoutView",
            "align_content": null,
            "align_items": null,
            "align_self": null,
            "border": null,
            "bottom": null,
            "display": null,
            "flex": null,
            "flex_flow": null,
            "grid_area": null,
            "grid_auto_columns": null,
            "grid_auto_flow": null,
            "grid_auto_rows": null,
            "grid_column": null,
            "grid_gap": null,
            "grid_row": null,
            "grid_template_areas": null,
            "grid_template_columns": null,
            "grid_template_rows": null,
            "height": null,
            "justify_content": null,
            "justify_items": null,
            "left": null,
            "margin": null,
            "max_height": null,
            "max_width": null,
            "min_height": null,
            "min_width": null,
            "object_fit": null,
            "object_position": null,
            "order": null,
            "overflow": null,
            "overflow_x": null,
            "overflow_y": null,
            "padding": null,
            "right": null,
            "top": null,
            "visibility": null,
            "width": null
          }
        },
        "33576586be144443b0734ff38d866c44": {
          "model_module": "@jupyter-widgets/controls",
          "model_name": "DescriptionStyleModel",
          "model_module_version": "1.5.0",
          "state": {
            "_model_module": "@jupyter-widgets/controls",
            "_model_module_version": "1.5.0",
            "_model_name": "DescriptionStyleModel",
            "_view_count": null,
            "_view_module": "@jupyter-widgets/base",
            "_view_module_version": "1.2.0",
            "_view_name": "StyleView",
            "description_width": ""
          }
        },
        "b943e1b3a2bd44159955fb1ed6eb0787": {
          "model_module": "@jupyter-widgets/controls",
          "model_name": "CheckboxModel",
          "model_module_version": "1.5.0",
          "state": {
            "_dom_classes": [],
            "_model_module": "@jupyter-widgets/controls",
            "_model_module_version": "1.5.0",
            "_model_name": "CheckboxModel",
            "_view_count": null,
            "_view_module": "@jupyter-widgets/controls",
            "_view_module_version": "1.5.0",
            "_view_name": "CheckboxView",
            "description": "Show Plot",
            "description_tooltip": null,
            "disabled": false,
            "indent": true,
            "layout": "IPY_MODEL_d88c96f1f2df4d1da1f968e22cc67377",
            "style": "IPY_MODEL_5bc3170d12e64dd68ed38f6a385acbe8",
            "value": true
          }
        },
        "d88c96f1f2df4d1da1f968e22cc67377": {
          "model_module": "@jupyter-widgets/base",
          "model_name": "LayoutModel",
          "model_module_version": "1.2.0",
          "state": {
            "_model_module": "@jupyter-widgets/base",
            "_model_module_version": "1.2.0",
            "_model_name": "LayoutModel",
            "_view_count": null,
            "_view_module": "@jupyter-widgets/base",
            "_view_module_version": "1.2.0",
            "_view_name": "LayoutView",
            "align_content": null,
            "align_items": null,
            "align_self": null,
            "border": null,
            "bottom": null,
            "display": null,
            "flex": null,
            "flex_flow": null,
            "grid_area": null,
            "grid_auto_columns": null,
            "grid_auto_flow": null,
            "grid_auto_rows": null,
            "grid_column": null,
            "grid_gap": null,
            "grid_row": null,
            "grid_template_areas": null,
            "grid_template_columns": null,
            "grid_template_rows": null,
            "height": null,
            "justify_content": null,
            "justify_items": null,
            "left": null,
            "margin": null,
            "max_height": null,
            "max_width": null,
            "min_height": null,
            "min_width": null,
            "object_fit": null,
            "object_position": null,
            "order": null,
            "overflow": null,
            "overflow_x": null,
            "overflow_y": null,
            "padding": null,
            "right": null,
            "top": null,
            "visibility": null,
            "width": null
          }
        },
        "5bc3170d12e64dd68ed38f6a385acbe8": {
          "model_module": "@jupyter-widgets/controls",
          "model_name": "DescriptionStyleModel",
          "model_module_version": "1.5.0",
          "state": {
            "_model_module": "@jupyter-widgets/controls",
            "_model_module_version": "1.5.0",
            "_model_name": "DescriptionStyleModel",
            "_view_count": null,
            "_view_module": "@jupyter-widgets/base",
            "_view_module_version": "1.2.0",
            "_view_name": "StyleView",
            "description_width": ""
          }
        },
        "ba86021fae5343e795bf53ef6cb42824": {
          "model_module": "@jupyter-widgets/controls",
          "model_name": "CheckboxModel",
          "model_module_version": "1.5.0",
          "state": {
            "_dom_classes": [],
            "_model_module": "@jupyter-widgets/controls",
            "_model_module_version": "1.5.0",
            "_model_name": "CheckboxModel",
            "_view_count": null,
            "_view_module": "@jupyter-widgets/controls",
            "_view_module_version": "1.5.0",
            "_view_name": "CheckboxView",
            "description": "Show Plot",
            "description_tooltip": null,
            "disabled": false,
            "indent": true,
            "layout": "IPY_MODEL_c9f8df48530d446fb5c0b7c46ee6653b",
            "style": "IPY_MODEL_f3e553cbfaf74a7b9764e5ec876ccd00",
            "value": true
          }
        },
        "c9f8df48530d446fb5c0b7c46ee6653b": {
          "model_module": "@jupyter-widgets/base",
          "model_name": "LayoutModel",
          "model_module_version": "1.2.0",
          "state": {
            "_model_module": "@jupyter-widgets/base",
            "_model_module_version": "1.2.0",
            "_model_name": "LayoutModel",
            "_view_count": null,
            "_view_module": "@jupyter-widgets/base",
            "_view_module_version": "1.2.0",
            "_view_name": "LayoutView",
            "align_content": null,
            "align_items": null,
            "align_self": null,
            "border": null,
            "bottom": null,
            "display": null,
            "flex": null,
            "flex_flow": null,
            "grid_area": null,
            "grid_auto_columns": null,
            "grid_auto_flow": null,
            "grid_auto_rows": null,
            "grid_column": null,
            "grid_gap": null,
            "grid_row": null,
            "grid_template_areas": null,
            "grid_template_columns": null,
            "grid_template_rows": null,
            "height": null,
            "justify_content": null,
            "justify_items": null,
            "left": null,
            "margin": null,
            "max_height": null,
            "max_width": null,
            "min_height": null,
            "min_width": null,
            "object_fit": null,
            "object_position": null,
            "order": null,
            "overflow": null,
            "overflow_x": null,
            "overflow_y": null,
            "padding": null,
            "right": null,
            "top": null,
            "visibility": null,
            "width": null
          }
        },
        "f3e553cbfaf74a7b9764e5ec876ccd00": {
          "model_module": "@jupyter-widgets/controls",
          "model_name": "DescriptionStyleModel",
          "model_module_version": "1.5.0",
          "state": {
            "_model_module": "@jupyter-widgets/controls",
            "_model_module_version": "1.5.0",
            "_model_name": "DescriptionStyleModel",
            "_view_count": null,
            "_view_module": "@jupyter-widgets/base",
            "_view_module_version": "1.2.0",
            "_view_name": "StyleView",
            "description_width": ""
          }
        },
        "04302c85d23b44d493ee03c9f390f4c8": {
          "model_module": "@jupyter-widgets/controls",
          "model_name": "IntSliderModel",
          "model_module_version": "1.5.0",
          "state": {
            "_dom_classes": [],
            "_model_module": "@jupyter-widgets/controls",
            "_model_module_version": "1.5.0",
            "_model_name": "IntSliderModel",
            "_view_count": null,
            "_view_module": "@jupyter-widgets/controls",
            "_view_module_version": "1.5.0",
            "_view_name": "IntSliderView",
            "continuous_update": true,
            "description": "Epochs:",
            "description_tooltip": null,
            "disabled": false,
            "layout": "IPY_MODEL_3db54fdf6dfe43128f0e467616ca6e3e",
            "max": 300,
            "min": 1,
            "orientation": "horizontal",
            "readout": true,
            "readout_format": "d",
            "step": 1,
            "style": "IPY_MODEL_448dd3ad03994902aff10e4c1fb5df82",
            "value": 51
          }
        },
        "3db54fdf6dfe43128f0e467616ca6e3e": {
          "model_module": "@jupyter-widgets/base",
          "model_name": "LayoutModel",
          "model_module_version": "1.2.0",
          "state": {
            "_model_module": "@jupyter-widgets/base",
            "_model_module_version": "1.2.0",
            "_model_name": "LayoutModel",
            "_view_count": null,
            "_view_module": "@jupyter-widgets/base",
            "_view_module_version": "1.2.0",
            "_view_name": "LayoutView",
            "align_content": null,
            "align_items": null,
            "align_self": null,
            "border": null,
            "bottom": null,
            "display": null,
            "flex": null,
            "flex_flow": null,
            "grid_area": null,
            "grid_auto_columns": null,
            "grid_auto_flow": null,
            "grid_auto_rows": null,
            "grid_column": null,
            "grid_gap": null,
            "grid_row": null,
            "grid_template_areas": null,
            "grid_template_columns": null,
            "grid_template_rows": null,
            "height": null,
            "justify_content": null,
            "justify_items": null,
            "left": null,
            "margin": null,
            "max_height": null,
            "max_width": null,
            "min_height": null,
            "min_width": null,
            "object_fit": null,
            "object_position": null,
            "order": null,
            "overflow": null,
            "overflow_x": null,
            "overflow_y": null,
            "padding": null,
            "right": null,
            "top": null,
            "visibility": null,
            "width": null
          }
        },
        "448dd3ad03994902aff10e4c1fb5df82": {
          "model_module": "@jupyter-widgets/controls",
          "model_name": "SliderStyleModel",
          "model_module_version": "1.5.0",
          "state": {
            "_model_module": "@jupyter-widgets/controls",
            "_model_module_version": "1.5.0",
            "_model_name": "SliderStyleModel",
            "_view_count": null,
            "_view_module": "@jupyter-widgets/base",
            "_view_module_version": "1.2.0",
            "_view_name": "StyleView",
            "description_width": "",
            "handle_color": null
          }
        },
        "6774f2eae761466a82f82914f13f1f36": {
          "model_module": "@jupyter-widgets/controls",
          "model_name": "CheckboxModel",
          "model_module_version": "1.5.0",
          "state": {
            "_dom_classes": [],
            "_model_module": "@jupyter-widgets/controls",
            "_model_module_version": "1.5.0",
            "_model_name": "CheckboxModel",
            "_view_count": null,
            "_view_module": "@jupyter-widgets/controls",
            "_view_module_version": "1.5.0",
            "_view_name": "CheckboxView",
            "description": "Show Plot",
            "description_tooltip": null,
            "disabled": false,
            "indent": true,
            "layout": "IPY_MODEL_9a9e34a0ed964d9c949880399ccb41ca",
            "style": "IPY_MODEL_3502f49d6fda4d3a9342ba8afe4447ad",
            "value": true
          }
        },
        "9a9e34a0ed964d9c949880399ccb41ca": {
          "model_module": "@jupyter-widgets/base",
          "model_name": "LayoutModel",
          "model_module_version": "1.2.0",
          "state": {
            "_model_module": "@jupyter-widgets/base",
            "_model_module_version": "1.2.0",
            "_model_name": "LayoutModel",
            "_view_count": null,
            "_view_module": "@jupyter-widgets/base",
            "_view_module_version": "1.2.0",
            "_view_name": "LayoutView",
            "align_content": null,
            "align_items": null,
            "align_self": null,
            "border": null,
            "bottom": null,
            "display": null,
            "flex": null,
            "flex_flow": null,
            "grid_area": null,
            "grid_auto_columns": null,
            "grid_auto_flow": null,
            "grid_auto_rows": null,
            "grid_column": null,
            "grid_gap": null,
            "grid_row": null,
            "grid_template_areas": null,
            "grid_template_columns": null,
            "grid_template_rows": null,
            "height": null,
            "justify_content": null,
            "justify_items": null,
            "left": null,
            "margin": null,
            "max_height": null,
            "max_width": null,
            "min_height": null,
            "min_width": null,
            "object_fit": null,
            "object_position": null,
            "order": null,
            "overflow": null,
            "overflow_x": null,
            "overflow_y": null,
            "padding": null,
            "right": null,
            "top": null,
            "visibility": null,
            "width": null
          }
        },
        "3502f49d6fda4d3a9342ba8afe4447ad": {
          "model_module": "@jupyter-widgets/controls",
          "model_name": "DescriptionStyleModel",
          "model_module_version": "1.5.0",
          "state": {
            "_model_module": "@jupyter-widgets/controls",
            "_model_module_version": "1.5.0",
            "_model_name": "DescriptionStyleModel",
            "_view_count": null,
            "_view_module": "@jupyter-widgets/base",
            "_view_module_version": "1.2.0",
            "_view_name": "StyleView",
            "description_width": ""
          }
        },
        "529956696b99423fa4c8fa5ad902f568": {
          "model_module": "@jupyter-widgets/output",
          "model_name": "OutputModel",
          "model_module_version": "1.0.0",
          "state": {
            "_dom_classes": [],
            "_model_module": "@jupyter-widgets/output",
            "_model_module_version": "1.0.0",
            "_model_name": "OutputModel",
            "_view_count": null,
            "_view_module": "@jupyter-widgets/output",
            "_view_module_version": "1.0.0",
            "_view_name": "OutputView",
            "layout": "IPY_MODEL_f0abdeae9cf44a1eafff58212e7148c8",
            "msg_id": "",
            "outputs": [
              {
                "output_type": "display_data",
                "data": {
                  "text/plain": "<Figure size 1000x500 with 1 Axes>",
                  "image/png": "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\n"
                },
                "metadata": {}
              }
            ]
          }
        },
        "f0abdeae9cf44a1eafff58212e7148c8": {
          "model_module": "@jupyter-widgets/base",
          "model_name": "LayoutModel",
          "model_module_version": "1.2.0",
          "state": {
            "_model_module": "@jupyter-widgets/base",
            "_model_module_version": "1.2.0",
            "_model_name": "LayoutModel",
            "_view_count": null,
            "_view_module": "@jupyter-widgets/base",
            "_view_module_version": "1.2.0",
            "_view_name": "LayoutView",
            "align_content": null,
            "align_items": null,
            "align_self": null,
            "border": null,
            "bottom": null,
            "display": null,
            "flex": null,
            "flex_flow": null,
            "grid_area": null,
            "grid_auto_columns": null,
            "grid_auto_flow": null,
            "grid_auto_rows": null,
            "grid_column": null,
            "grid_gap": null,
            "grid_row": null,
            "grid_template_areas": null,
            "grid_template_columns": null,
            "grid_template_rows": null,
            "height": null,
            "justify_content": null,
            "justify_items": null,
            "left": null,
            "margin": null,
            "max_height": null,
            "max_width": null,
            "min_height": null,
            "min_width": null,
            "object_fit": null,
            "object_position": null,
            "order": null,
            "overflow": null,
            "overflow_x": null,
            "overflow_y": null,
            "padding": null,
            "right": null,
            "top": null,
            "visibility": null,
            "width": null
          }
        },
        "46efe08a39544199b1a758ff52b9edec": {
          "model_module": "@jupyter-widgets/controls",
          "model_name": "IntSliderModel",
          "model_module_version": "1.5.0",
          "state": {
            "_dom_classes": [],
            "_model_module": "@jupyter-widgets/controls",
            "_model_module_version": "1.5.0",
            "_model_name": "IntSliderModel",
            "_view_count": null,
            "_view_module": "@jupyter-widgets/controls",
            "_view_module_version": "1.5.0",
            "_view_name": "IntSliderView",
            "continuous_update": true,
            "description": "Elev:",
            "description_tooltip": null,
            "disabled": false,
            "layout": "IPY_MODEL_5ecdf6c8de4a4c3d81bb1fbd554cb5fe",
            "max": 90,
            "min": 0,
            "orientation": "horizontal",
            "readout": true,
            "readout_format": "d",
            "step": 1,
            "style": "IPY_MODEL_d60cca1ad6c74592b28bf0a9d5d86317",
            "value": 24
          }
        },
        "5ecdf6c8de4a4c3d81bb1fbd554cb5fe": {
          "model_module": "@jupyter-widgets/base",
          "model_name": "LayoutModel",
          "model_module_version": "1.2.0",
          "state": {
            "_model_module": "@jupyter-widgets/base",
            "_model_module_version": "1.2.0",
            "_model_name": "LayoutModel",
            "_view_count": null,
            "_view_module": "@jupyter-widgets/base",
            "_view_module_version": "1.2.0",
            "_view_name": "LayoutView",
            "align_content": null,
            "align_items": null,
            "align_self": null,
            "border": null,
            "bottom": null,
            "display": null,
            "flex": null,
            "flex_flow": null,
            "grid_area": null,
            "grid_auto_columns": null,
            "grid_auto_flow": null,
            "grid_auto_rows": null,
            "grid_column": null,
            "grid_gap": null,
            "grid_row": null,
            "grid_template_areas": null,
            "grid_template_columns": null,
            "grid_template_rows": null,
            "height": null,
            "justify_content": null,
            "justify_items": null,
            "left": null,
            "margin": null,
            "max_height": null,
            "max_width": null,
            "min_height": null,
            "min_width": null,
            "object_fit": null,
            "object_position": null,
            "order": null,
            "overflow": null,
            "overflow_x": null,
            "overflow_y": null,
            "padding": null,
            "right": null,
            "top": null,
            "visibility": null,
            "width": null
          }
        },
        "d60cca1ad6c74592b28bf0a9d5d86317": {
          "model_module": "@jupyter-widgets/controls",
          "model_name": "SliderStyleModel",
          "model_module_version": "1.5.0",
          "state": {
            "_model_module": "@jupyter-widgets/controls",
            "_model_module_version": "1.5.0",
            "_model_name": "SliderStyleModel",
            "_view_count": null,
            "_view_module": "@jupyter-widgets/base",
            "_view_module_version": "1.2.0",
            "_view_name": "StyleView",
            "description_width": "",
            "handle_color": null
          }
        },
        "3163770434244fc8be2e2492ab08aeb5": {
          "model_module": "@jupyter-widgets/controls",
          "model_name": "IntSliderModel",
          "model_module_version": "1.5.0",
          "state": {
            "_dom_classes": [],
            "_model_module": "@jupyter-widgets/controls",
            "_model_module_version": "1.5.0",
            "_model_name": "IntSliderModel",
            "_view_count": null,
            "_view_module": "@jupyter-widgets/controls",
            "_view_module_version": "1.5.0",
            "_view_name": "IntSliderView",
            "continuous_update": true,
            "description": "Azim:",
            "description_tooltip": null,
            "disabled": false,
            "layout": "IPY_MODEL_f37048a07df7490cac2d97ed92f075ac",
            "max": 360,
            "min": 0,
            "orientation": "horizontal",
            "readout": true,
            "readout_format": "d",
            "step": 1,
            "style": "IPY_MODEL_7649cae62bcd40f6b759c8f1d7e9d722",
            "value": 233
          }
        },
        "f37048a07df7490cac2d97ed92f075ac": {
          "model_module": "@jupyter-widgets/base",
          "model_name": "LayoutModel",
          "model_module_version": "1.2.0",
          "state": {
            "_model_module": "@jupyter-widgets/base",
            "_model_module_version": "1.2.0",
            "_model_name": "LayoutModel",
            "_view_count": null,
            "_view_module": "@jupyter-widgets/base",
            "_view_module_version": "1.2.0",
            "_view_name": "LayoutView",
            "align_content": null,
            "align_items": null,
            "align_self": null,
            "border": null,
            "bottom": null,
            "display": null,
            "flex": null,
            "flex_flow": null,
            "grid_area": null,
            "grid_auto_columns": null,
            "grid_auto_flow": null,
            "grid_auto_rows": null,
            "grid_column": null,
            "grid_gap": null,
            "grid_row": null,
            "grid_template_areas": null,
            "grid_template_columns": null,
            "grid_template_rows": null,
            "height": null,
            "justify_content": null,
            "justify_items": null,
            "left": null,
            "margin": null,
            "max_height": null,
            "max_width": null,
            "min_height": null,
            "min_width": null,
            "object_fit": null,
            "object_position": null,
            "order": null,
            "overflow": null,
            "overflow_x": null,
            "overflow_y": null,
            "padding": null,
            "right": null,
            "top": null,
            "visibility": null,
            "width": null
          }
        },
        "7649cae62bcd40f6b759c8f1d7e9d722": {
          "model_module": "@jupyter-widgets/controls",
          "model_name": "SliderStyleModel",
          "model_module_version": "1.5.0",
          "state": {
            "_model_module": "@jupyter-widgets/controls",
            "_model_module_version": "1.5.0",
            "_model_name": "SliderStyleModel",
            "_view_count": null,
            "_view_module": "@jupyter-widgets/base",
            "_view_module_version": "1.2.0",
            "_view_name": "StyleView",
            "description_width": "",
            "handle_color": null
          }
        },
        "3ee9f617177945f9a414adfb04831b91": {
          "model_module": "@jupyter-widgets/controls",
          "model_name": "CheckboxModel",
          "model_module_version": "1.5.0",
          "state": {
            "_dom_classes": [],
            "_model_module": "@jupyter-widgets/controls",
            "_model_module_version": "1.5.0",
            "_model_name": "CheckboxModel",
            "_view_count": null,
            "_view_module": "@jupyter-widgets/controls",
            "_view_module_version": "1.5.0",
            "_view_name": "CheckboxView",
            "description": "Show Plot",
            "description_tooltip": null,
            "disabled": false,
            "indent": true,
            "layout": "IPY_MODEL_92bac18117ca4d2d9dccca5a650df999",
            "style": "IPY_MODEL_7d85b897a45f466a8aabed0be091098a",
            "value": true
          }
        },
        "92bac18117ca4d2d9dccca5a650df999": {
          "model_module": "@jupyter-widgets/base",
          "model_name": "LayoutModel",
          "model_module_version": "1.2.0",
          "state": {
            "_model_module": "@jupyter-widgets/base",
            "_model_module_version": "1.2.0",
            "_model_name": "LayoutModel",
            "_view_count": null,
            "_view_module": "@jupyter-widgets/base",
            "_view_module_version": "1.2.0",
            "_view_name": "LayoutView",
            "align_content": null,
            "align_items": null,
            "align_self": null,
            "border": null,
            "bottom": null,
            "display": null,
            "flex": null,
            "flex_flow": null,
            "grid_area": null,
            "grid_auto_columns": null,
            "grid_auto_flow": null,
            "grid_auto_rows": null,
            "grid_column": null,
            "grid_gap": null,
            "grid_row": null,
            "grid_template_areas": null,
            "grid_template_columns": null,
            "grid_template_rows": null,
            "height": null,
            "justify_content": null,
            "justify_items": null,
            "left": null,
            "margin": null,
            "max_height": null,
            "max_width": null,
            "min_height": null,
            "min_width": null,
            "object_fit": null,
            "object_position": null,
            "order": null,
            "overflow": null,
            "overflow_x": null,
            "overflow_y": null,
            "padding": null,
            "right": null,
            "top": null,
            "visibility": null,
            "width": null
          }
        },
        "7d85b897a45f466a8aabed0be091098a": {
          "model_module": "@jupyter-widgets/controls",
          "model_name": "DescriptionStyleModel",
          "model_module_version": "1.5.0",
          "state": {
            "_model_module": "@jupyter-widgets/controls",
            "_model_module_version": "1.5.0",
            "_model_name": "DescriptionStyleModel",
            "_view_count": null,
            "_view_module": "@jupyter-widgets/base",
            "_view_module_version": "1.2.0",
            "_view_name": "StyleView",
            "description_width": ""
          }
        },
        "de28da13e56d4734be41e8ea2d87183c": {
          "model_module": "@jupyter-widgets/output",
          "model_name": "OutputModel",
          "model_module_version": "1.0.0",
          "state": {
            "_dom_classes": [],
            "_model_module": "@jupyter-widgets/output",
            "_model_module_version": "1.0.0",
            "_model_name": "OutputModel",
            "_view_count": null,
            "_view_module": "@jupyter-widgets/output",
            "_view_module_version": "1.0.0",
            "_view_name": "OutputView",
            "layout": "IPY_MODEL_a181557db5634b0cae0d0b8cc4869e53",
            "msg_id": "",
            "outputs": [
              {
                "output_type": "display_data",
                "data": {
                  "text/plain": "<Figure size 1200x800 with 1 Axes>",
                  "image/png": "iVBORw0KGgoAAAANSUhEUgAAAnwAAAKSCAYAAABIowakAAAAOnRFWHRTb2Z0d2FyZQBNYXRwbG90bGliIHZlcnNpb24zLjEwLjAsIGh0dHBzOi8vbWF0cGxvdGxpYi5vcmcvlHJYcgAAAAlwSFlzAAAPYQAAD2EBqD+naQABAABJREFUeJzsnXl8U1X6/z9ZmjZN0jZJ9y1bF9pSCiK7O2gBRUQEUUcWEXGUzVFH+TmyuQ2jjrjCiArq6KgsKoqAwJe1gCBYthbokpYCLYXu6d7k/P7o3DtJm7RJm+Qm6Xm/Xn0pdzvnLrn55HnO8zk8QggBhUKhUCgUCsVn4XPdAQqFQqFQKBSKa6GCj0KhUCgUCsXHoYKPQqFQKBQKxcehgo9CoVAoFArFx6GCj0KhUCgUCsXHoYKPQqFQKBQKxcehgo9CoVAoFArFx6GCj0KhUCgUCsXHoYKPQqFQKBQKxcehgo/ik9x222247bbbuO6GUykqKgKPx8P69eu57grFQ5k5cybUajXX3egSg8GAxx9/HJGRkeDxeFi0aBGn/enN54rZ96233nJ+xygUJ0MFH8WtrF+/Hjwez+bfkSNH7D5WTk4Oli1bhqKiItd1uAd89NFHnIqyvXv3gsfjYePGjZz1wRdQq9U2n9OmpibO+nXlyhUsW7YM2dnZnPWhN7z++utYv349/vznP+PLL7/Eo48+anW71NRUZGRkdFr+/fffg8fj4dZbb+207rPPPgOPx8Ovv/7q9H73ll9++QXLli3juhuUPoyQ6w5Q+iYrVqyARqPptDwhIcHuY+Tk5GD58uW47bbbOkU1uHzhf/TRRwgNDcXMmTM56wPFOQwcOBDPPvtsp+UikYiD3rRz5coVLF++HGq1GgMHDrRYt3btWphMJm46Zif/93//h+HDh2Pp0qVdbnfTTTfh008/RU1NDYKDg9nlWVlZEAqFOHbsGFpbW+Hn52exTiAQYMSIEXb3R6VSobGx0eI4ruCXX37Bhx9+SEUfhTOo4KNwwrhx43DjjTe67PhcfiFTfIeYmBj86U9/4robduNq0eIMysvLkZqa2u12N910E9auXYtDhw5h3Lhx7PKsrCxMnToVX3/9NY4fP47hw4ez6w4ePIgBAwZAJpPZ3R8ej4eAgADHToJC8UJoSpfisXzzzTcYPHgwZDIZgoKCkJ6ejnfffRdAe2p4ypQpAIDbb7+dTbXt3bsXQOcxfEya87vvvsPy5csRExMDmUyGBx54ADU1NWhubsaiRYsQHh4OqVSKWbNmobm52aI/69atwx133IHw8HD4+/sjNTUVq1evtthGrVbj7Nmz2LdvH9sn835UV1dj0aJFiIuLg7+/PxISErBy5cpOUZnq6mrMnDkTwcHBCAkJwYwZM1BdXe2cC/tfCgsLMWXKFCgUCgQGBmL48OHYunVrp+3ef/99pKWlITAwEHK5HDfeeCO+/vprdn1dXR0WLVoEtVoNf39/hIeH484778SJEye6bL+4uBhPPfUUkpOTIRaLoVQqMWXKlE4p+tbWVixfvhyJiYkICAiAUqnETTfdhJ07d3Z5/MrKSjz33HNIT0+HVCpFUFAQxo0bh5MnT9p/kbpg2bJl4PF4nZYzwxbMz0OtVuOee+7BwYMHMXToUAQEBECr1eKLL77otH91dTWeeeYZ9nrGxsZi+vTpuH79Ovbu3YshQ4YAAGbNmsU+Y8wQAmtj+Orr6/Hss8+yz1xycjLeeustEEIstuPxeJg3bx5++OEH9O/fH/7+/khLS8P27dvtuh7l5eWYPXs2IiIiEBAQgIyMDHz++efseuYzqNfrsXXrVrbvtoZk3HTTTQDaBR5DU1MTTpw4gfvvvx9ardZi3bVr13DhwgV2PwC4fPkyHnvsMURERLDn89lnn1m0Y2sM34YNG5CamoqAgAD0798f33//fZdjJD/++GPodDr4+/tjyJAhOHbsGLtu5syZ+PDDDwHAYmgAheJOaISPwgk1NTW4fv26xTIejwelUgkA2LlzJx566CGMHj0aK1euBADk5uYiKysLCxcuxC233IIFCxbgvffew//7f/8PKSkpAMD+1xZvvPEGxGIxXnzxReTn5+P999+Hn58f+Hw+qqqqsGzZMhw5cgTr16+HRqPBkiVL2H1Xr16NtLQ03HvvvRAKhfjpp5/w1FNPwWQy4emnnwYArFq1CvPnz4dUKsVLL70EAIiIiAAANDQ04NZbb8Xly5cxd+5cxMfH49ChQ1i8eDFKS0uxatUqAAAhBBMnTsTBgwfx5JNPIiUlBd9//z1mzJjRy6v+P65evYqRI0eioaEBCxYsgFKpxOeff457770XGzduxKRJkwC0pwgXLFiABx54AAsXLkRTUxNOnTqF3377DQ8//DAA4Mknn8TGjRsxb948pKamoqKiAgcPHkRubi5uuOEGm304duwYDh06hGnTpiE2NhZFRUVYvXo1brvtNuTk5CAwMBBAu7B644038Pjjj2Po0KGora3F77//jhMnTuDOO++0efzCwkL88MMPmDJlCjQaDa5evYp//etfuPXWW5GTk4Po6Ohur1Nra2un5zQwMJDtmyPk5+fjgQcewOzZszFjxgx89tlnmDlzJgYPHoy0tDQA7QUNN998M3Jzc/HYY4/hhhtuwPXr17FlyxZcunQJKSkpWLFiBZYsWYInnngCN998MwBg5MiRVtskhODee+/Fnj17MHv2bAwcOBA7duzA888/j8uXL+Odd96x2P7gwYPYvHkznnrqKchkMrz33nuYPHkyLl68yH42rdHY2IjbbrsN+fn5mDdvHjQaDTZs2ICZM2eiuroaCxcuREpKCr788ks888wziI2NZVPlYWFhVo+p1WoRHR2NgwcPssuOHTuGlpYWjBw5EiNHjkRWVhZ7nEOHDgH4n1C8evUqhg8fzgrZsLAwbNu2DbNnz0ZtbW2XxSJbt27Fgw8+iPT0dLzxxhuoqqrC7NmzERMTY3X7r7/+GnV1dZg7dy54PB7+8Y9/4P7770dhYSH8/Pwwd+5cXLlyBTt37sSXX35ps10KxaUQCsWNrFu3jgCw+ufv789ut3DhQhIUFETa2tpsHmvDhg0EANmzZ0+ndbfeeiu59dZb2X/v2bOHACD9+/cnLS0t7PKHHnqI8Hg8Mm7cOIv9R4wYQVQqlcWyhoaGTu1kZmYSrVZrsSwtLc2ibYZXXnmFSCQScuHCBYvlL774IhEIBOTixYuEEEJ++OEHAoD84x//YLdpa2sjN998MwFA1q1b1+nY5jDnumHDBpvbLFq0iAAgBw4cYJfV1dURjUZD1Go1MRqNhBBCJk6cSNLS0rpsLzg4mDz99NNdbmMNa9fz8OHDBAD54osv2GUZGRnk7rvvdvj4TU1N7Hkw6PV64u/vT1asWNHt/iqVyupzunTpUkIIIUuXLiXWXqHMM67X6zsda//+/eyy8vJy4u/vT5599ll22ZIlSwgAsnnz5k7HNZlMhBBCjh07ZvM5mDFjhsVzyzxLr776qsV2DzzwAOHxeCQ/P59dBoCIRCKLZSdPniQAyPvvv2/9Iv2XVatWEQDk3//+N7uspaWFjBgxgkilUlJbW2txLey9n1OmTCFisZj9zL7xxhtEo9EQQgj56KOPSHh4OLvtc889RwCQy5cvE0IImT17NomKiiLXr1+3OOa0adNIcHAw+/zp9fpO1zM9PZ3ExsaSuro6dtnevXsJAIvry+yrVCpJZWUlu/zHH38kAMhPP/3ELnv66aetPi8UirugKV0KJ3z44YfYuXOnxd+2bdvY9SEhIaivr+82beco06dPtxjnNGzYMBBC8Nhjj1lsN2zYMJSUlKCtrY1dJhaL2f9nIpS33norCgsLUVNT023bGzZswM033wy5XI7r16+zf2PGjIHRaMT+/fsBtA/uFgqF+POf/8zuKxAIMH/+/B6fd0d++eUXDB061CL9JZVK8cQTT6CoqAg5OTkA2u/DpUuXLNJTHQkJCcFvv/2GK1euONQH8+vZ2tqKiooKJCQkICQkxCIdHBISgrNnzyIvL8+h4/v7+4PPb3/FGY1GVFRUQCqVIjk5udt0M8OwYcM6PafTp093qB8MqampbEQOaI9sJScno7CwkF22adMmZGRksBFWc3qSAvzll18gEAiwYMECi+XPPvssCCEWnzkAGDNmDHQ6HfvvAQMGICgoyKKPttqJjIzEQw89xC7z8/PDggULYDAYsG/fPof7DrRH6xobG3H8+HEA7eldJpo5atQolJeXs89FVlYWNBoNoqOjQQjBpk2bMGHCBBBCLD5vmZmZqKmpsfkMXLlyBadPn8b06dMhlUrZ5bfeeivS09Ot7vPggw9CLpez/2buc3fXjUJxJzSlS+GEoUOHdlm08dRTT+G7777DuHHjEBMTg7vuugtTp07F2LFje9VufHy8xb+Z6r+4uLhOy00mE2pqathUVlZWFpYuXYrDhw+joaHBYvuOlYTWyMvLw6lTp2ymsMrLywG0j22Lioqy+LIBgOTk5G7Ozn6Ki4sxbNiwTsuZlHhxcTH69++PF154Abt27cLQoUORkJCAu+66Cw8//DBGjRrF7vOPf/wDM2bMQFxcHAYPHozx48dj+vTp0Gq1XfahsbERb7zxBtatW4fLly9bjCkzF9ArVqzAxIkTkZSUhP79+2Ps2LF49NFHMWDAgC6PbzKZ8O677+Kjjz6CXq+H0Whk13WVnjQnNDQUY8aMsWvb7uj47AGAXC5HVVUV+++CggJMnjzZKe0B7fcxOjq6UxGD+X12tI+22klMTGQFdnft2Iv5OL5hw4bh0KFDePXVVwEA/fv3R1BQELKyshAXF4fjx4/jwQcfBNA+nq+6uhoff/wxPv74Y6vHZj5v1s4FsO4YkJCQYFUodrxujPjr7rpRKO6ECj6KRxIeHo7s7Gzs2LED27Ztw7Zt27Bu3TpMnz7dYiC4owgEAoeWMyKkoKAAo0ePRr9+/fDPf/4TcXFxEIlE+OWXX/DOO+/YZYVhMplw55134q9//avV9UlJSXaehftISUnB+fPn8fPPP2P79u3YtGkTPvroIyxZsgTLly8HAEydOhU333wzvv/+e/z666948803sXLlSmzevNmiurIj8+fPx7p167Bo0SKMGDECwcHB4PF4mDZtmsX1vOWWW1BQUIAff/wRv/76Kz755BO88847WLNmDR5//HGbx3/99dfx8ssv47HHHsMrr7wChUIBPp+PRYsWOcW6xFbEzVxYmtPdM+YJeFofMzIyIJPJcPDgQYwfPx6VlZVshI/P52PYsGE4ePAgdDodWlpaWIHI3N8//elPNse+dveDwRE87bpRKNaggo/isYhEIkyYMAETJkyAyWTCU089hX/96194+eWXkZCQ4NYqt59++gnNzc3YsmWLxa/5PXv2dNrWVr90Oh0MBkO3ESOVSoXdu3fDYDBYRPnOnz/fw95bb8Pa8c6dO8euZ5BIJHjwwQfx4IMPoqWlBffffz9ee+01LF68mLWziIqKwlNPPYWnnnoK5eXluOGGG/Daa691Kfg2btyIGTNm4O2332aXNTU1Wa1GVigUmDVrFmbNmgWDwYBbbrkFy5Yt61Lwbdy4Ebfffjs+/fRTi+XV1dUIDQ21uZ+9MFGc6upqhISEsMt7Gs0C2p+RM2fOdLmNI8+9SqXCrl27UFdXZxHls3afe4NKpcKpU6dgMpksony9bUcgEGD48OHIysrCwYMH2Wp9hpEjR+Lbb79lo3GM4AsLC4NMJoPRaHQ4Qsv0NT8/v9M6a8vshVblUriGjuGjeCQVFRUW/+bz+ewvcsYuRSKRAIDT7UqswfyC75h2XLduXadtJRKJ1T5NnToVhw8fxo4dOzqtq66uZscLjh8/Hm1tbRaWL0ajEe+//35vT4Nl/PjxOHr0KA4fPswuq6+vx8cffwy1Ws36pHW8DyKRCKmpqSCEoLW1FUajsdP4xfDwcERHR3eytemIQCDoFAF5//33O0XIOvZBKpUiISGhR8ffsGEDLl++3OV+9sKMdWPGXgLt17A3EejJkyfj5MmT+P777zutY87Fked+/PjxMBqN+OCDDyyWv/POO+DxeF0KckcYP348ysrK8O2337LL2tra8P7770MqlVqdFcNebrrpJly7dg3r1q3DsGHDLATlyJEjcf78efz4449QKpVsClkgEGDy5MnYtGmTVQF97do1m+1FR0ejf//++OKLL2AwGNjl+/btw+nTp3t8Hu58X1Eo1qARPgonbNu2jf31b87IkSOh1Wrx+OOPo7KyEnfccQdiY2NRXFyM999/HwMHDmRf6gMHDoRAIMDKlStRU1MDf39/1ifP2dx1111sxHHu3LkwGAxYu3YtwsPDUVpaarHt4MGDsXr1arz66qtISEhAeHg47rjjDjz//PPYsmUL7rnnHtaOo76+HqdPn8bGjRtRVFSE0NBQTJgwAaNGjcKLL76IoqIipKamYvPmzXYVhpizadMmq9d4xowZePHFF/Gf//wH48aNw4IFC6BQKPD5559Dr9dj06ZN7JfqXXfdhcjISIwaNQoRERHIzc3FBx98gLvvvhsymQzV1dWIjY3FAw88gIyMDEilUuzatQvHjh2ziNxZ45577sGXX36J4OBgpKam4vDhw9i1a1en8XWpqam47bbbMHjwYCgUCvz++++sDUx3x1+xYgVmzZqFkSNH4vTp0/jqq6+6HVtoL3fddRfi4+Mxe/ZsPP/88xAIBPjss88QFhaGixcv9uiYzz//PDZu3IgpU6bgsccew+DBg1FZWYktW7ZgzZo1yMjIgE6nQ0hICNasWQOZTAaJRIJhw4ZZnblmwoQJuP322/HSSy+hqKgIGRkZ+PXXX/Hjjz9i0aJFFgUaveGJJ57Av/71L8ycORPHjx+HWq3Gxo0bkZWVhVWrVjlkhNwRJmp3+PDhTrNUMLYrR44cwYQJEyyiaH//+9+xZ88eDBs2DHPmzEFqaioqKytx4sQJ7Nq1C5WVlTbbfP311zFx4kSMGjUKs2bNQlVVFT744AP079/fQgQ6wuDBgwEACxYsQGZmJgQCAaZNm9ajY1EoPYKL0mBK36UrWxaYWSNs3LiR3HXXXSQ8PJyIRCISHx9P5s6dS0pLSy2Ot3btWqLVaolAILCwaLFly9LRqoTpz7FjxyyWM5Yb165dY5dt2bKFDBgwgAQEBBC1Wk1WrlxJPvvss04WHGVlZeTuu+8mMpmMALDoR11dHVm8eDFJSEggIpGIhIaGkpEjR5K33nrLwi6moqKCPProoyQoKIgEBweTRx99lPzxxx8O2bLY+mOsWAoKCsgDDzxAQkJCSEBAABk6dCj5+eefLY71r3/9i9xyyy1EqVQSf39/otPpyPPPP09qamoIIYQ0NzeT559/nmRkZBCZTEYkEgnJyMggH330UZd9JISQqqoqMmvWLBIaGkqkUinJzMwk586dIyqVisyYMYPd7tVXXyVDhw4lISEhRCwWk379+pHXXnvN4npZo6mpiTz77LMkKiqKiMViMmrUKHL48OFOz4Yt7LEPOX78OBk2bBj7jP7zn/+0acti7VjW+lJRUUHmzZtHYmJiiEgkIrGxsWTGjBkW9iI//vgjSU1NJUKh0OKZ6GjLQkj7M/fMM8+Q6Oho4ufnRxITE8mbb77J2rwwALBqr9Pxftji6tWr7P0UiUQkPT3d6rPqiC0LIYTU19ez5/nrr792Wj9gwAACgKxcudJqn55++mkSFxdH/Pz8SGRkJBk9ejT5+OOP2W2s2bIQQsg333xD+vXrR/z9/Un//v3Jli1byOTJk0m/fv067fvmm292ahtmFj6EtFsrzZ8/n4SFhREej0ctWihuh0cIHVVKoVAoFEp3DBw4EGFhYU63i6JQ3AEdw0ehUCgUihmtra0WHpxA+9RwJ0+etJgqkULxJmiEj0KhUCgUM4qKijBmzBj86U9/QnR0NM6dO4c1a9YgODgYZ86csdvHkULxJGjRBoVCoVAoZsjlcgwePBiffPIJrl27BolEgrvvvht///vfqdijeC00wkehUCgUCoXi49AxfBQKhUKhUCg+DhV8FAqFQqFQKD4OFXwUCoVCoVAoPg4VfBQKhUKhUCg+DhV8FAqFQqFQKD4OFXwUCoVCoVAoPg4VfBQKhUKhUCg+DhV8FAqFQqFQKD4OFXwUCoVCoVAoPg6dWo1CoVAoMBqNaG1t5bobFArFDD8/PwgEAqcciwo+CoVC6cMQQlBWVobq6mquu0KhUKwQEhKCyMhI8Hi8Xh2HCj4KhULpwzBiLzw8HIGBgb3+UqFQKM6BEIKGhgaUl5cDAKKionp1PCr4KBQKpY9iNBpZsadUKrnuDoVC6YBYLAYAlJeXIzw8vFfpXVq0QaFQKH0UZsxeYGAgxz2hUCi2YD6fvR1jSwUfhUKh9HFoGpdC8Vyc9fmkKV0KhUKh9ApCgIoKwGAApFJAqQSohqRQPAsa4aNQKBRKj6iuBt59F0hMBMLCAI2m/b+Jie3LaeGvc1m/fj1CQkLYfy9btgwDBw7krD/WOH/+PCIjI1FXV8d1V3rNzJkzcd9993W5zfDhw7Fp0yb3dKiXUMFHoVAoFIfZsQOIjQWeeQYoLLRcV1jYvjw2tn07ZzNz5kzweDz2T6lUYuzYsTh16pTFdoQQrF27FiNGjEBQUBCkUinS0tKwcOFC5Ofns9stW7aMPZZQKERoaChuueUWrFq1Cs3NzV32Zf369ey+fD4fsbGxmDVrFltZ6Uqee+457N692+7teTwefvjhB9d1CMDixYsxf/58yGQyAEBTUxNmzpyJ9PR0CIXCbgWUt/G3v/0NL774IkwmE9dd6RYq+CgUCoXiEDt2AHffDTQ2tqdzCbFczyxrbGzfzhWib+zYsSgtLUVpaSl2794NoVCIe+65x6wPBA8//DAWLFiA8ePH49dff0VOTg4+/fRTBAQE4NVXX7U4XlpaGkpLS3Hx4kXs2bMHU6ZMwRtvvIGRI0d2G60KCgpCaWkpLl26hLVr12Lbtm149NFHrW5rNBqdJg6kUikn1dW2igcuXryIn3/+GTNnzmSXGY1GiMViLFiwAGPGjHFTD93HuHHjUFdXh23btnHdlW6hgo9CoVAodlNdDUye3C7outMtJlP7dpMnOz+96+/vj8jISERGRmLgwIF48cUXUVJSgmvXrgEAvv32W3zzzTf49ttv8fLLL2P48OGIj4/H8OHDsXLlSqxbt87ieEKhEJGRkYiOjkZ6ejrmz5+Pffv24cyZM1i5cmWXfeHxeOy+48aNw4IFC7Br1y40NjayadgtW7YgNTUV/v7+uHjxIpqbm/Hcc88hJiYGEokEw4YNw969ey2Ou379esTHxyMwMBCTJk1CRUWFxXprKd3PPvsMaWlp8Pf3R1RUFObNmwcAUKvVAIBJkyaBx+Ox/waA1atXQ6fTQSQSITk5GV9++WWn81u9ejXuvfdeSCQSvPbaa1avw3fffYeMjAzExMSwyyQSCVavXo05c+YgMjKyy+toTklJCaZOnYqQkBAoFApMnDgRRUVF7Hom3bp8+XKEhYUhKCgITz75JFpaWthtmpubsWDBAoSHhyMgIAA33XQTjh07ZtHO2bNncc899yAoKAgymQw333wzCgoKLLZ56623EBUVBaVSiaefftpC8AoEAowfPx7ffPON3efGFVTwUSgUCsVuPv8caGjoXuwxmEzt23/xhev6ZDAY8O9//xsJCQlsxOs///kPkpOTce+991rdx57Kx379+mHcuHHYvHmzQ/0Ri8UwmUxoa2sDADQ0NGDlypX45JNPcPbsWYSHh2PevHk4fPgwvvnmG5w6dQpTpkzB2LFjkZeXBwD47bffMHv2bMybNw/Z2dm4/fbbO0UlO7J69Wo8/fTTeOKJJ3D69Gls2bIFCQkJAMAKnXXr1qG0tJT99/fff4+FCxfi2WefxZkzZzB37lzMmjULe/bssTj2smXLMGnSJJw+fRqPPfaY1fYPHDiAG2+80aFrZY3W1lZkZmZCJpPhwIEDyMrKglQqxdixYy0E3e7du5Gbm4u9e/fiP//5DzZv3ozly5ez6//6179i06ZN+Pzzz3HixAkkJCQgMzMTlZWVAIDLly/jlltugb+/P/7v//4Px48fx2OPPcbeNwDYs2cPCgoKsGfPHnz++edYv3491q9fb9HfoUOH4sCBA70+b5dDKBQKhdInaWxsJDk5OaSxsdGu7U0mQnQ6Qng8Jmlr3x+P176fyeScfs+YMYMIBAIikUiIRCIhAEhUVBQ5fvw4u02/fv3Ivffea7HfwoUL2X1iYmLY5UuXLiUZGRlW23rhhReIWCy22Zd169aR4OBg9t8XLlwgSUlJ5MYbb2TXAyDZ2dnsNsXFxUQgEJDLly9bHGv06NFk8eLFhBBCHnroITJ+/HiL9Q8++KBFWx37HR0dTV566SWbfQVAvv/+e4tlI0eOJHPmzLFYNmXKFIu2AZBFixbZPC5DRkYGWbFihc31M2bMIBMnTuz2OF9++SVJTk4mJrMHprm5mYjFYrJjxw72WAqFgtTX17PbrF69mkilUmI0GonBYCB+fn7kq6++Yte3tLSQ6Oho8o9//IMQQsjixYuJRqMhLS0tNvurUqlIW1sbu2zKlCnkwQcftNjuxx9/JHw+nxiNxm7PrSc4+jm1BY3wUSgUCsUuKiqAgoLOY/a6g5D2/f4bWHEKt99+O7Kzs5GdnY2jR48iMzMT48aNQ3Fxsc19XnrpJWRnZ2PJkiUwGAx2tUMI6TYaWFNTA6lUisDAQCQnJyMiIgJfffUVu14kEmHAgAHsv0+fPg2j0YikpCRIpVL2b9++fWw6MTc3F8OGDbNoZ8SIETb7UF5ejitXrmD06NF2nRdDbm4uRo0aZbFs1KhRyM3NtVhmT+SusbERAQEBDrVvjZMnTyI/Px8ymYy9NgqFAk1NTRbp1oyMDAvT8BEjRsBgMKCkpAQFBQVobW21ODc/Pz8MHTqUPbfs7GzcfPPN8PPzs9mXtLQ0i9ktoqKiOhXkMBHd7gp8uIb68FEoFArFLuzUSDapq2v36HMGEomETVcCwCeffILg4GCsXbsWr776KhITE3H+/HmLfcLCwhAWFobw8HC728nNzYVGo+lyG5lMhhMnToDP5yMqKoqdDotBLBZbiEaDwQCBQIDjx493mipLKpXa3beObbgSiUTS7TahoaGoqqrqdVsGgwGDBw+2EM0MYWFhvT4+gz3XrKMY5PF4nYpuKisrIZFIXH4PeguN8FEoFArFLnqoRVj+69ThEhhblMbGRgDAQw89hPPnz+PHH3/s8THPnTuH7du3Y/LkyV1ux+fzkZCQAK1Wa9eX/qBBg2A0GlFeXo6EhASLP6awISUlBb/99pvFfkeOHLF5TJlMBrVa3aVNi5+fH4xGo8WylJQUZGVlWSzLyspCampqt+fRkUGDBiEnJ8fh/Tpyww03IC8vD+Hh4Z2uT3BwMLvdyZMn2fsNtF8fqVSKuLg4tgjF/NxaW1tx7Ngx9twGDBiAAwcO9HrKsjNnzmDQoEG9OoY7oIKPQqFQKHahVAI6neOzaPB47fspFM7rS3NzM8rKylBWVobc3FzMnz8fBoMBEyZMAABMmzYNDzzwAKZNm4YVK1bgt99+Q1FREfbt24dvv/22U2Stra0NZWVluHLlCk6fPo33338ft956KwYOHIjnn3/eeR0HkJSUhEceeQTTp0/H5s2bodfrcfToUbzxxhvYunUrAGDBggXYvn073nrrLeTl5eGDDz7A9u3buzzusmXL8Pbbb+O9995DXl4eTpw4gffff59dzwjCsrIyNhL3/PPPY/369Vi9ejXy8vLwz3/+E5s3b8Zzzz3n8HllZmbi8OHDnURlTk4OsrOzUVlZiZqaGjYVb4tHHnkEoaGhmDhxIg4cOAC9Xo+9e/diwYIFuHTpErtdS0sLZs+ejZycHPzyyy9YunQp5s2bBz6fD4lEgj//+c94/vnnsX37duTk5GDOnDloaGjA7NmzAQDz5s1DbW0tpk2bht9//x15eXn48ssvO0WGu+PAgQO46667HNqHE5wzpJBCoVAo3kZPBoOvWtWzoo1333Vev2fMmEEAsH8ymYwMGTKEbNy40WI7o9FI1qxZQ4YNG0YkEgkRiUREq9WSOXPmkJycHHa7pUuXsscSCAREoVCQm266ibzzzjukqampy750LNqwd31LSwtZsmQJUavVxM/Pj0RFRZFJkyaRU6dOsdt8+umnJDY2lojFYjJhwgTy1ltvdVm0QQgha9asIcnJyewx58+fz67bsmULSUhIIEKhkKhUKnb5Rx99RLRaLfHz8yNJSUnkiy++sDgmrBR7WKO1tZVER0eT7du3WyxXqVQW94v564rS0lIyffp0EhoaSvz9/dn7VlNTQwj5XwHIkiVLiFKpJFKplMyZM8fifjU2NpL58+ezxxg1ahQ5evSoRTsnT54kd911FwkMDCQymYzcfPPNpKCgwKINcxYuXEhuvfVW9t+XLl0ifn5+pKSkpNvr01OcVbTBI8TR4bcUCoVC8QWampqg1+uh0WjsHmxfXd0+g0Zjo33WLHw+IBYDly4BZrOCUXyUDz/8EFu2bMEOV7htmzFz5kxUV1e7fOaQ7njhhRdQVVWFjz/+2GVt9ORzag2a0qVQKBSK3YSEAJs2tadp+d18g/D57dtt3kzFXl9h7ty5uOWWW3xiLl17CA8PxyuvvMJ1N+yCCj4KhUKhOERmJrB1a3vkjsfrPKaPWSYWA7/8AnjD8CaKcxAKhXjppZfYuXR9nWeffRYRERFcd8MuqC0LhUKhUBwmM7M9TfvFF8B777X77DFotcCCBcCMGYBZUSWF4jQ6znZB6R4q+CgUCoXSI0JC2oXd/Pntpsp1de3WKwqF45W8FArFtVDBR6FQKJReweO1W7Y4y1SZQqE4HzqGj0KhUCgUCsXHoYKPQqFQKBQKxcehgo9CoVAoFArFx6Fj+CgUCoXSOwgBmiuANgMglAL+Slq1QaF4GDTCR6FQKJSe0VINnHsX+CkR2BwGbNG0//enxPblLdVc99CnWL9+PULMHKyXLVuGgQMHctYfa5w/fx6RkZF9xnhZrVZj1apVPdq3paUFarUav//+u3M7ZQMq+CgUCoXiOFd2AD/EAieeAQyFlusMhe3Lf4ht387JzJw5Ezwej/1TKpUYO3YsTp06ZbEdIQRr167FiBEjEBQUBKlUirS0NCxcuBD5+fnsdsuWLWOPJRQKERoailtuuQWrVq1Cc3Nzl31Zv349uy+fz0dsbCxmzZqF8vJyp593R5577jns3r3b7u15PJ7LpyJbvHgx5s+fzxovNzU1YebMmUhPT4dQKMR9991ndb+9e/fihhtugL+/PxISEvqEz55IJMJzzz2HF154wS3tUcFHoVAoFMe4sgPYdzfQ1giA/PfPnP8ua2ts384Fom/s2LEoLS1FaWkpdu/eDaFQiHvuued/PSAEDz/8MBYsWIDx48fj119/RU5ODj799FMEBATg1VdftTheWloaSktLcfHiRezZswdTpkzBG2+8gZEjR3YbrQoKCkJpaSkuXbqEtWvXYtu2bXj00Uetbms0GmGyZxJiO5BKpVBy4IXT2tpqdfnFixfx888/Y+bMmewyo9EIsViMBQsWYMyYMVb30+v1uPvuu3H77bcjOzsbixYtwuOPP+7y+Xg9gUceeQQHDx7E2bNnXd4WFXwUCoVCsZ+WauDg5PZxe+hOuJjatzs42enpXX9/f0RGRiIyMhIDBw7Eiy++iJKSEly7dg0A8O233+Kbb77Bt99+i5dffhnDhw9HfHw8hg8fjpUrV2LdunUWxxMKhYiMjER0dDTS09Mxf/587Nu3D2fOnMHKlSu77AuPx2P3HTduHBYsWIBdu3ahsbGRTcNu2bIFqamp8Pf3x8WLF9Hc3IznnnsOMTExkEgkGDZsGPbu3Wtx3PXr1yM+Ph6BgYGYNGkSKioqLNZbS+l+9tlnSEtLg7+/P6KiojBv3jwA7alHAJg0aRJ4PB77bwBYvXo1dDodRCIRkpOT8eWXX3Y6v9WrV+Pee++FRCLBa6+9ZvU6fPfdd8jIyEBMTAy7TCKRYPXq1ZgzZw4iIyOt7rdmzRpoNBq8/fbbSElJwbx58/DAAw/gnXfesXXJAQAHDx7EzTffDLFYjLi4OCxYsAD19fXserVajVdeeQUPPfQQJBIJYmJi8OGHH1oc4+LFi5g4cSKkUimCgoIwdepUXL161WKbn376CUOGDEFAQABCQ0MxadIki/UNDQ147LHHIJPJEB8fj48//phd19LSgnnz5iEqKgoBAQFQqVR444032PVyuRyjRo3CN9980+W5OgMq+CgUCoViP4WfA20N6F7sMZjat9d/4bIuGQwG/Pvf/0ZCQgIb8frPf/6D5ORk3HvvvVb34dlRVNKvXz+MGzcOmzdvdqg/YrEYJpMJbW1tANoFwcqVK/HJJ5/g7NmzCA8Px7x583D48GF88803OHXqFKZMmYKxY8ciLy8PAPDbb79h9uzZmDdvHrKzs3H77bd3ikp2ZPXq1Xj66afxxBNP4PTp09iyZQsSEhIAAMeOHQMArFu3DqWlpey/v//+eyxcuBDPPvsszpw5g7lz52LWrFnYs2ePxbGXLVuGSZMm4fTp03jsscestn/gwAHceOONDl0rADh8+HCn6F9mZiYOHz5sc5+CggKMHTsWkydPxqlTp/Dtt9/i4MGDrMBlePPNN5GRkYE//vgDL774IhYuXIidO3cCAEwmEyZOnIjKykrs27cPO3fuRGFhIR588EF2/61bt2LSpEkYP348/vjjD+zevRtDhw61aOPtt9/GjTfeiD/++ANPPfUU/vznP+P8+fMAgPfeew9btmzBd999h/Pnz+Orr76yENsAMHToUBw4cMDh6+YwhEKhUCh9ksbGRpKTk0MaGxvt28FkIuRHHSFf8Qj5Cg788dr3M5mc0u8ZM2YQgUBAJBIJkUgkBACJiooix48fZ7fp168fuffeey32W7hwIbtPTEwMu3zp0qUkIyPDalsvvPACEYvFNvuybt06EhwczP77woULJCkpidx4443segAkOzub3aa4uJgIBAJy+fJli2ONHj2aLF68mBBCyEMPPUTGjx9vsf7BBx+0aKtjv6Ojo8lLL71ks68AyPfff2+xbOTIkWTOnDkWy6ZMmWLRNgCyaNEim8dlyMjIICtWrLC5fsaMGWTixImdlicmJpLXX3/dYtnWrVsJANLQ0GD1WLNnzyZPPPGExbIDBw4QPp/PPs8qlYqMHTvWYpsHH3yQjBs3jhBCyK+//koEAgG5ePEiu/7s2bMEADl69CghhJARI0aQRx55xOY5qVQq8qc//Yn9t8lkIuHh4WT16tWEEELmz59P7rjjDmLq4tl/9913iVqttrne4c+pDWiEj0KhUCj20VwBGArQecxed5D2/VoqndYVZrxXdnY2jh49iszMTIwbNw7FxcU293nppZeQnZ2NJUuWwGAw2NUOIaTbaGBNTQ2kUikCAwORnJyMiIgIfPXVV+x6kUiEAQMGsP8+ffo0jEYjkpKSIJVK2b99+/ahoKAAAJCbm4thw4ZZtDNixAibfSgvL8eVK1cwevRou86LITc3F6NGjbJYNmrUKOTm5lossydy19jYiICAAIfa7yknT57E+vXrLa5fZmYmTCYT9Ho9u13HazZixAj23HJzcxEXF4e4uDh2fWpqKkJCQthtsrOzu72m5veWSe8zRTszZ85EdnY2kpOTsWDBAvz666+d9heLxWhoaHDwCjgO9eGjUCgUin202SeSbNJa1+7R5wQkEgmbrgSATz75BMHBwVi7di1effVVJCYmsmk1hrCwMISFhSE8PNzudnJzc6HRaLrcRiaT4cSJE+Dz+YiKioJYLLZYLxaLLUSjwWCAQCDA8ePHIRAILLaVSqV2961jG65EIpF0u01oaCiqqqocPnZkZGSncXNXr15FUFCQzfMyGAyYO3cuFixY0GldfHy8w32whT3X1c/Pz+LfPB6PLcy54YYboNfrsW3bNuzatQtTp07FmDFjsHHjRnb7yspKhIWFOa3PtqARPgqFQqHYh7BnYoTFT+acfliBsUVpbGwEADz00EM4f/48fvzxxx4f89y5c9i+fTsmT57c5XZ8Ph8JCQnQarV2CYRBgwbBaDSivLwcCQkJFn9MYUNKSgp+++03i/2OHDli85gymQxqtbpLmxY/Pz8YjUaLZSkpKcjKyrJYlpWVhdTU1G7PoyODBg1CTk6Ow/uNGDGiU7937tzZZUTzhhtuQE5OTqfrl5CQAJFIxG7X8ZodOXIEKSkpANrPvaSkBCUlJez6nJwcVFdXs+c/YMAAh6xvrBEUFIQHH3wQa9euxbfffotNmzahsvJ/0e4zZ85g0KBBvWrDHmiEj0KhUCj24a8EpLr/+u45ktblAVItIFI4rSvNzc0oKysDAFRVVeGDDz6AwWDAhAkTAADTpk3D5s2bMW3aNCxevBiZmZmIiIhAcXExvv32206Rtba2NpSVlcFkMqGiogJ79+7Fq6++ioEDB+L55593Wr8BICkpCY888gimT5+Ot99+G4MGDcK1a9ewe/duDBgwAHfffTcWLFiAUaNG4a233sLEiROxY8cObN++vcvjLlu2DE8++STCw8Mxbtw41NXVISsrC/PnzwcAVhCOGjUK/v7+kMvleP755zF16lQMGjQIY8aMwU8//YTNmzdj165dDp9XZmYmHn/8cRiNRovrm5OTg5aWFlRWVqKurg7Z2dkAwFYYP/nkk/jggw/w17/+FY899hj+7//+D9999x22bt1qs60XXngBw4cPx7x58/D4449DIpEgJycHO3fuxAcffMBul5WVhX/84x+47777sHPnTmzYsIE97pgxY5Ceno5HHnkEq1atQltbG5566inceuutbAp76dKlGD16NHQ6HaZNm4a2tjb88ssvdnvn/fOf/0RUVBQGDRoEPp+PDRs2IDIy0sJA+8CBA3jllVfsOl6v6NUIQAqFQqF4LT0aDJ67qmdFG+fedVq/Z8yYwZj/EQBEJpORIUOGkI0bN1psZzQayZo1a8iwYcOIRCIhIpGIaLVaMmfOHJKTk8Nut3TpUvZYAoGAKBQKctNNN5F33nmHNDU1ddmXjkUb9q5vaWkhS5YsIWq1mvj5+ZGoqCgyadIkcurUKXabTz/9lMTGxhKxWEwmTJhA3nrrrS6LNgghZM2aNSQ5OZk95vz589l1W7ZsIQkJCUQoFBKVSsUu/+ijj4hWqyV+fn4kKSmJfPHFFxbHhJViD2u0traS6Ohosn37dovlKpXK4n4xf+bs2bOHDBw4kL1H69at67a9o0ePkjvvvJNIpVIikUjIgAEDyGuvvWbR7vLly8mUKVNIYGAgiYyMJO++a/kcFhcXk3vvvZdIJBIik8nIlClTSFlZmcU2mzZtYvsWGhpK7r//fos23nnnHYvtMzIyyNKlSwkhhHz88cdk4MCBRCKRkKCgIDJ69Ghy4sQJdttDhw6RkJAQm8UphDivaINHCHF09C2FQqFQfICmpibo9XpoNBr7B9u3VLfPoNHWCPusWfiAUAzcdwkQhfS8sxSv4MMPP8SWLVs8wjRZrVZj0aJFWLRoEdddscmDDz6IjIwM/L//9/9sbtOjz6kV6Bg+CoVCodiPKAS4aRPA46H7rxB++3Y3b6Zir48wd+5c3HLLLX1mLt3e0NLSgvT0dDzzzDNuaY8KPgqFQqE4RnQmcOvW9sgdeP/9M+e/y4Ri4LZfgKi73N9HCicIhUK89NJL7Fy6FNuIRCL87W9/c3mFNQMt2qBQKBSK40Rntqdp9V8A59/7rz/ff5FqgeQFgGYGIArmro+UPk1RURHXXfAoqOCjUCgUSs8QhbQLu6T57abKrXXt1isixX9TvhQKxVOggo9CoVAovYPHa7dscZKpMoVCcT50DB+FQqFQKBSKj0MFH4VCoVAoFIqPQwUfhUKhUCgUio9Dx/BRKBQKpXcQAlRUAAYDIJUCSiUt2qBQPAwa4aNQKBRKz6iuBt59F0hMBMLCAI2m/b+Jie3Lq6u57qFPsX79eos5WJctW8bOR+spnD9/HpGRkX3GeJnH4+GHH37o0b7Xr19HeHg4Ll265NxO2YAKPgqFQqE4zo4dQGws8MwzQGGh5brCwvblsbHt2zmZmTNngsfjsX9KpRJjx47FqVOnLLYjhGDt2rUYMWIEgoKCIJVKkZaWhoULFyI/P5/dbtmyZeyxhEIhQkNDccstt2DVqlVobm7usi/r169n9+Xz+YiNjcWsWbNQXl7u9PPuyHPPPYfdu3fbvX1vxIm9LF68GPPnz2eNl4uKiizuFfN35MgRi/02bNiAfv36ISAgAOnp6fjll19c2k9PIDQ0FNOnT8fSpUvd0h4VfBQKhUJxjB07gLvvBhob29O5HadkZ5Y1NrZv5wLRN3bsWJSWlqK0tBS7d++GUCjEPffcY9YFgocffhgLFizA+PHj8euvvyInJweffvopAgIC8Oqrr1ocLy0tDaWlpbh48SL27NmDKVOm4I033sDIkSO7jVYFBQWhtLQUly5dwtq1a7Ft2zY8+uijVrc1Go0wmeyZg7h7pFIplEr3W+G0trZaXX7x4kX8/PPPmDlzZqd1u3btYu9XaWkpBg8ezK47dOgQHnroIcyePRt//PEH7rvvPtx33304c+aMq07BY5g1axa++uorVFZWur4xQqFQKJQ+SWNjI8nJySGNjY3271RVRYhEQgifz8i6rv/4/Pbtq6qc1u8ZM2aQiRMnWiw7cOAAAUDKy8sJIYT85z//IQDIjz/+aPUYJpOJ/f+lS5eSjIyMTtvk5uYSkUhEXnrpJZt9WbduHQkODrZY9tprrxE+n08aGhrY9T/++CNJSUkhAoGA6PV60tTURJ599lkSHR1NAgMDydChQ8mePXs6HTsuLo6IxWJy3333kbfeesuiLWv9/vTTT0lqaioRiUQkMjKSPP3004QQQlQqFQHA/qlUKnafjz76iGi1WuLn50eSkpLIF198YXFMAOSjjz4iEyZMIIGBgWTp0qVWr8Wbb75JbrzxRotler2eACB//PGHzWs4depUcvfdd1ssGzZsGJk7d67NfQgh5IcffiCDBg0i/v7+RKPRkGXLlpHW1tZO/R47diwJCAggGo2GbNiwweIYp06dIrfffjsJCAggCoWCzJkzh9TV1VlsY+uaMm2sXbuW3HfffUQsFpOEhASLZ66yspI8/PDDJDQ0lAQEBJCEhATy2WefWRxfo9GQTz75xOZ59uhzagUa4aNQKBSK/Xz+OdDQANgbpTKZ2rf/4guXdclgMODf//43EhIS2IjXf/7zHyQnJ+Pee++1ug/PjqKSfv36Ydy4cdi8ebND/RGLxTCZTGhrawMANDQ0YOXKlfjkk09w9uxZhIeHY968eTh8+DC++eYbnDp1ClOmTMHYsWORl5cHAPjtt98we/ZszJs3D9nZ2bj99ts7RSU7snr1ajz99NN44okncPr0aWzZsgUJCQkAgGPHjgEA1q1bh9LSUvbf33//PRYuXIhnn30WZ86cwdy5czFr1izs2bPH4tjLli3DpEmTcPr0aTz22GNW2z9w4ABuvPFGq+vuvfdehIeH46abbsKWLVss1h0+fBhjxoyxWJaZmYnDhw/bPNcDBw5g+vTpWLhwIXJycvCvf/0L69evx2uvvWax3csvv4zJkyfj5MmTeOSRRzBt2jTk5uYCAOrr65GZmQm5XI5jx45hw4YN2LVrF+bNm2fXNWVYvnw5pk6dilOnTmH8+PF45JFH2Ijdyy+/jJycHGzbtg25ublYvXo1QkNDLfYfOnQoDhw4YPNcnUav5CKFQqFQvBaHIwcmEyE6HSE8nn3RPeaPx2vfzyyq1htmzJhBBAIBkUgkRCKREAAkKiqKHD9+nN2mX79+5N5777XYb+HChew+MTEx7HJbET5CCHnhhReIWCy22ZeOEb4LFy6QpKQkNtK1bt06AoBkZ2ez2xQXFxOBQEAuX75scazRo0eTxYsXE0IIeeihh8j48eMt1j/44INdRviio6O7jEYCIN9//73FspEjR5I5c+ZYLJsyZYpF2wDIokWLbB6XISMjg6xYscJi2bVr18jbb79Njhw5Qo4ePUpeeOEFwuPxLKJgfn5+5Ouvv7bY78MPPyTh4eE22xo9ejR5/fXXLZZ9+eWXJCoqyqLfTz75pMU2w4YNI3/+858JIYR8/PHHRC6XE4PBwK7funUr4fP5pKysjBBi3zX929/+xv7bYDAQAGTbtm2EEEImTJhAZs2aZXN/Qgh55plnyG233WZzPY3wUSgUCsW9VFQABQWdx+x1ByHt+zlxnNLtt9+O7OxsZGdn4+jRo8jMzMS4ceNQXFxsc5+XXnoJ2dnZWLJkCQwGg13tEEK6jQbW1NRAKpUiMDAQycnJiIiIwFdffcWuF4lEGDBgAPvv06dPw2g0IikpCVKplP3bt28fCgoKAAC5ubkYNmyYRTsjRoyw2Yfy8nJcuXIFo0ePtuu8GHJzczFq1CiLZaNGjWKjYAy2InfmNDY2IiAgwGJZaGgo/vKXv2DYsGEYMmQI/v73v+NPf/oT3nzzTYf62ZGTJ09ixYoVFtdvzpw5KC0tRUNDA7tdx2s2YsQI9txyc3ORkZEBiUTCrh81ahRMJhPOnz9v9zU1v7cSiQRBQUFs0c6f//xnfPPNNxg4cCD++te/4tChQ532F4vFFn12FdSHj0KhUCj2YadIskldXbtHnxOQSCQWqbVPPvkEwcHBWLt2LV599VUkJibi/PnzFvuEhYUhLCwM4eHhdreTm5sLjUbT5TYymQwnTpwAn89HVFQUxGKxxXqxWGwhGg0GAwQCAY4fPw6BQGCxrVQqtbtvHdtwJeaiyBahoaGoqqrqdrthw4Zh586d7L8jIyNx9epVi22uXr2KyMhIm8cwGAxYvnw57r///k7rOorOnmLvNfXz87P4N4/HYwtzmB8hv/zyC3bu3InRo0fj6aefxltvvcVuX1lZibCwMKf0uStohI9CoVA8HEKI0yo7e0UPxQjLf606XAFji9LY2AgAeOihh3D+/Hn8+OOPPT7muXPnsH37dkyePLnL7fh8PhISEqDVau0SCYMGDYLRaER5eTkSEhIs/hiRk5KSgt9++81iv45WJubIZDKo1eoubVr8/PxgNBotlqWkpCArK8tiWVZWFlJTU7s9j44MGjQIOTk53W6XnZ2NqKgo9t8jRozo1O+dO3d2GdG84YYbcP78+U7XLyEhAXz+/6RNx2t25MgRpKSkAGg/95MnT6K+vp5dn5WVBT6fj+TkZLuuqT2EhYVhxowZ+Pe//41Vq1bh448/tlh/5swZDBo0qFdt2AON8FEoFIqHQQgBIQRtbW1oa2tDa2sreDwexGIxhEKhXQUHLkGpBHS6dp89R9K6PB6g1QIKhdO60tzcjLKyMgBAVVUVPvjgAxgMBkyYMAEAMG3aNGzevBnTpk3D4sWLkZmZiYiICBQXF+Pbb7/tFFlra2tDWVkZTCYTKioqsHfvXrz66qsYOHAgnn/+eaf1GwCSkpLwyCOPYPr06Xj77bcxaNAgXLt2Dbt378aAAQNw9913Y8GCBRg1ahTeeustTJw4ETt27MD27du7PO6yZcvw5JNPIjw8HOPGjUNdXR2ysrIwf/58AGDFy6hRo+Dv7w+5XI7nn38eU6dOxaBBgzBmzBj89NNP2Lx5M3bt2uXweWVmZuLxxx+H0Whkr+/nn38OkUjECprNmzfjs88+wyeffMLut3DhQtx66614++23cffdd+Obb77B77//3kkYmbNkyRLcc889iI+PxwMPPAA+n4+TJ0/izJkzFsUtGzZswI033oibbroJX331FY4ePYpPP/0UAPDII49g6dKlmDFjBpYtW4Zr165h/vz5ePTRRxEREWHXNe2OJUuWYPDgwUhLS0NzczN+/vlnVnAC7QU9x48fx+uvv27nVe4FvRoBSKFQKBSnYDQaSUtLC2lsbCS1tbWkqqqKVFZWkoqKCnL9+nVSUVFB6uvrSWNjI2lubiZGo7HXbfZoMPiqVT0r2nj33V73l2HGjBkWFiMymYwMGTKEbNy40WI7o9FI1qxZQ4YNG0YkEgkRiUREq9WSOXPmkJycHHa7pUuXsscSCAREoVCQm266ibzzzjukqampy75Ys2WxZ31LSwtZsmQJUavVxM/Pj0RFRZFJkyaRU6dOsdt8+umnJDY2lojFYjJhwgS7bFnWrFlDkpOT2WPOnz+fXbdlyxaSkJBAhEKhw7YsHYs9rNHa2kqio6PJ9u3b2WXr168nKSkpJDAwkAQFBZGhQ4d2skYhhJDvvvuOJCUlEZFIRNLS0sjWrVu7bW/79u1k5MiRRCwWs8f++OOPLfr94YcfkjvvvJP4+/sTtVpNvv32W4tj2GPL0tU1tXZtgoODybp16wghhLzyyiskJSWFiMViolAoyMSJE0lhYSG77ddff02Sk5O7PE9nFW3w/tthCoVCobgR8t8IntFoZCN5TNqWSU8ysxIwRreBgYEwf2ULBAIIBAJ2W0dpamqCXq+HRqOxf9xTdXX7DBqNjfZZs/D5gFgMXLoEmE0LRvFNPvzwQ2zZsgU7XGC27Sg8Hg/ff/897rvvPq67YpPhw4djwYIFePjhh21u06PPqRVoSpdCoVDcACEERqMRRqMRra2tnWZc4PP53aZrGQHIiD5GMDL79lT4OURICLBpU/sMGnx+16KPz29P527eTMVeH2Hu3Lmorq5GXV0dO70axTrXr1/H/fffj4ceesgt7VHBR6FQKC7AXOCZR/DIf20+eDweBAJBjwQas49AIGALOkpKShAQEIDQ0NAeH9duMjOBrVuByZPbTZUByzF9TNticbvYu+su1/WF4lEIhUK89NJLXHfDKwgNDcVf//pXt7VHBR+FQqE4AUZ4MQKvuroatbW1iIiIACEEfD6fHcjuTDHGiMeysjIEBwcjKCiIbYtJ97qEzMz2NO0XXwDvvdfus8eg1QILFgAzZgDBwa5pn0LpBjpizRIq+CgUCqUHdBR4THqV+ZIxGAwoLS1FdHS026pq+Xw++Hw+CCFobW1FW1sbBAIBmyp2ej9CQtqF3fz57abKdXXt1isKxf+ifBQKxSOggo9CoVDsxFzgtba2silaoHOhBRNZc7eFivk4P/PCEJeO8+Px2i1bnGSqTKFQnA8VfBQKhWIDRuCZF1owQooRdW4plLCDjumrjgUeTJEIj8eDUCjs5ENHoVB8Gyr4KBQK5b8whRZMiratra1XAs/ZY/V6sk3HAg/zdG9raysd50Sh9BGo4KNQKH0WV1bSultI2dOetXQvgE6paQqF4ntQwUehUPoMTKGFeQTPWQLPE3Ak8mg+zhCwnhK2F0IIKhorYGgxQCqSQilWeu01pFB8FRfV61MoFAr3MBG8lpYWNDQ0oLa2FrW1taivr0dzczMIIWwVKzOurS8JlY7nykT+zP+6orqpGu8eeReJ7yci7M0waN7VIOzNMCS+n4h3j7yL6qZqF/a+e3g8Hn744Yc+3wdvYO/eveDxeKiurgYArF+/HiHUrNupUMFHoVB8BiaCxwi8uro61NXVwWAwoKmpifXDEwqF8PPzYwWeL4g8JkrZG8z3ZwSfebrXnB35OxD7z1g8s+MZFFYVWqwrrCrEMzueQew/Y7Ej3zVTbJWVlWH+/PnQarXw9/dHXFwcJkyYgN27d7ukPVcxc+ZM9hk0/8vPz+e6a6wIY/4iIiIwefJkFBYWdr9zL3nwwQdx4cIFu7dXq9VYtWqV6zrkA9CULoVC8WpsVdIy2DNlGcU2zLU0T3vvyN+Bu7++u10UorMYZJY1tjbi7q/vxtaHtyIzIdNpfSoqKsKoUaMQEhKCN998E+np6WhtbcWOHTvw9NNP49y5c05ryx2MHTsW69ats1gWFhbWo2O1tLRAJBI5o1ss58+fh0wmQ15eHp544glMmDABp06d6lTpzUTUhcLeSwuxWAyxWNzr4ziKK66fp0AjfBQKxaswmUxobW1FU1MTDAYDamtrYTAY0NDQgLa2NnYcHpOm9RTbFFfjjAifNTpG/SobKjH5u8nt0T90MY8uABPao4OTv5vs1PTuU089BR6Ph6NHj2Ly5MlISkpCWloa/vKXv+DIkSM29zt9+jTuuOMOiMViKJVKPPHEEzAYDOz6vXv3YujQoZBIJAgJCcGoUaNQXFzMrv/xxx9xww03ICAgAFqtFsuXL2cLXwAgLy8Pt9xyCwICApCamoqdO3fadT7+/v6IjIy0+GPE1L59+zB06FD4+/sjKioKL774okWbt912G+bNm4dFixYhNDQUmZmZbGRux44dGDRoEMRiMe644w6Ul5dj27ZtSElJQVBQEB5++GE0MFPjdUF4eDiioqJwyy23YMmSJcjJyUF+fj7bzrZt2zB48GD4+/vj4MGDMJlMeOONN6DRaCAWi5GRkYGNGzdaHPOXX35BUlISxGIxbr/9dhQVFVmst5bS/emnnzBkyBB2CsFJkyax16C4uBjPPPNMp4j9pk2bkJaWBn9/f6jVarz99tsWx1Sr1XjllVcwffp0BAUF4Yknnuj2engrVPBRKBSPhqkmbW5uthB4jY2NaG1tZQWen5+fxwk8T+mHM/n85OdoaG3oVuwxmGBCQ2sDvjj5hVPar6ysxPbt2/H0009DIpF0Wm9r3Fd9fT0yMzMhl8tx7NgxbNiwAbt27cK8efMAAG1tbbjvvvtw66234tSpUzh8+DCeeOIJ9h4eOHAA06dPx8KFC5GTk4N//etfWL9+PV577bX28zSZcP/990MkEuG3337DmjVr8MILL/TqXC9fvozx48djyJAhOHnyJFavXo1PP/0Ur776qsV2n3/+OUQiEbKysrBmzRp2+bJly/DBBx/g0KFDKCkpwdSpU7Fq1Sp8/fXX2Lp1K3799Ve8//77DvWJibq1tLSwy1588UX8/e9/R25uLgYMGIA33ngDX3zxBdasWYOzZ8/imWeewZ/+9Cfs27cPAFBSUoL7778fEyZMQHZ2Nh5//HG8+OKLXba7detWTJo0CePHj8cff/yB3bt3Y+jQoQCAzZs3IzY2FitWrEBpaSlKS0sBAMePH8fUqVMxbdo0nD59GsuWLcPLL7+M9evXWxz7rbfeQkZGBv744w+8/PLLDl0Pb4KmdCkUikfhSqsUd+KL/naEEHx47MMe7fveb+9h/tD5vb5v+fn5IISgX79+Du339ddfo6mpCV988QUrFD/44ANMmDABK1euhJ+fH2pqanDPPfdAp9MBAFJSUtj9ly9fjhdffBEzZswAAGi1Wrzyyiv461//iqVLl2LXrl04d+4cduzYgejoaADA66+/jnHjxnXbt59//hlSqZT997hx47BhwwZ89NFHiIuLwwcffAAej4d+/frhypUreOGFF7BkyRK2yjoxMRH/+Mc/2P0ZwfPqq69i1KhRAIDZs2dj8eLFKCgogFarBQA88MAD2LNnj93CtLS0FG+99RZiYmKQnJyMQ4cOAQBWrFiBO++8EwDQ3NyM119/Hbt27cKIESPYa3Xw4EH861//wq233orVq1dDp9Ox0bbk5GScPn0aK1eutNn2a6+9hmnTpmH58uXssoyMDACAQqGAQCCATCZDZGQku/6f//wnRo8ezYq4pKQk5OTk4M0338TMmTPZ7e644w48++yzdl0Db4YKPgqFwikd56RtbW2FwWBAYWEh+vfvzwo8wDcjZs7CVSldcyoaK1BQVeDwfgQEBVUFqGyshDKwd9Ov9VRI5+bmIiMjwyIqOGrUKJhMJpw/fx633HILZs6ciczMTNx5550YM2YMpk6diqioKADAyZMnkZWVxUb0gPbZS5qamtDQ0IDc3FzExcWxYg8AK3i64/bbb8fq1avZfzN9zM3NxYgRIyzu66hRo2AwGHDp0iXEx8cDAAYPHmz1uAMGDGD/PyIiAoGBgazYY5YdPXq02/7FxsaCEIKGhgZkZGRg06ZNFuPcbrzxRvb/8/Pz0dDQwApAhpaWFgwaNIg9r2HDhlms7+5aZWdnY86cOd321Zzc3FxMnDjRYtmoUaOwatUqGI1G9r1i3n9fhgo+CoXiVjoKPGauV+aLnM/ngxCCuro6pwz+pjgPQ4uh+426oK6lrteCLzExETwezyWFGevWrcOCBQuwfft2fPvtt/jb3/6GnTt3Yvjw4TAYDFi+fDnuv//+TvsFBAT0ql2JRIKEhIRe7W8NPz8/9v95PJ7Fv5llJlP3qfkDBw4gKCgI4eHhkMlkXbbPjIncunUrYmJiLLbz9/fvti1buLKAw9b18zXoGD4KheJSGIHX2tqKxsZGC6uU5uZmmEymTlYpjOijtGNP9M4dET6pSNr9Rl0gE3UWC46iUCiQmZmJDz/8EPX19Z3WMz5uHUlJScHJkyct9snKygKfz0dycjK7bNCgQVi8eDEOHTqE/v374+uvvwYA3HDDDTh//jwSEhI6/fH5fKSkpKCkpIRNpwLosoDEHlJSUnD48GGLz0JWVhZkMhliY2N7dWxH0Gg00Ol0VsVeR1JTU+Hv74+LFy92uk5xcXEA2s+rY2Sxu2s1YMCALi13RCIRjEajxbKUlBRkZWVZLMvKykJSUlKfnEuaCj4KheJ0bFXSNjY2wmg0gsfjWZgde1KhBcU2SrESOrkOPDh2r3jgQSfXQR4gd0o/PvzwQxiNRgwdOhSbNm1CXl4ecnNz8d5779lMDT7yyCMICAjAjBkzcObMGezZswfz58/Ho48+ioiICOj1eixevBiHDx9GcXExfv31V+Tl5bHj+JYsWYIvvvgCy5cvx9mzZ5Gbm4tvvvkGf/vb3wAAY8aMQVJSEmbMmIGTJ0/iwIEDeOmll3p1nk899RRKSkowf/58nDt3Dj/++COWLl2Kv/zlLxazpHgSMpkMzz33HJ555hl8/vnnKCgowIkTJ/D+++/j888/BwA8+eSTyMvLw/PPP4/z58/j66+/7lRI0ZGlS5fiP//5D5YuXYrc3NxOY/7UajX279+Py5cv4/r16wCAZ599Frt378Yrr7yCCxcu4PPPP8cHH3yA5557zmXn78l45hNDoVC8CkJIJ4FXV1fXySrF3kpaKv4cxx0RUR6Ph3lD5vVo3/lD5wOATSNnR9BqtThx4gRuv/12PPvss+jfvz/uvPNO7N6922IsnDmBgYHYsWMHKisrMWTIEDzwwAMYPXo0PvjgA3b9uXPnWJuXJ554Ak8//TTmzp0LAMjMzMTPP/+MX3/9FUOGDMHw4cPxzjvvQKVSAWgfivD999+jsbERQ4cOxeOPP24x3q8nxMTE4JdffsHRo0eRkZGBJ598ErNnz2ZFpqfyyiuv4OWXX8Ybb7yBlJQUjB07Flu3boVGowEAxMfHY9OmTfjhhx+QkZGBNWvW4PXXX+/ymLfddhs2bNiALVu2YODAgbjjjjssooQrVqxAUVERdDod62F4ww034LvvvsM333yD/v37Y8mSJVixYoVFwUZfgkdo3oRCoTiIeSUtY3bcsZK2N1E7g8GAEydO4JZbbnFyz91HaWkpysrK2IHqPcVkMqGiogICgQARERE2r+mRI0egUqnYIgN7aG5uxqVLl6BWq+0eh1bdVI34VfFobG20y5qFz+NDLBTj4qKLCAkIsUg9d/wvhULpTFNTE/R6PTQaTa/Gi9IR0RQKpVu4sErx9t+iPe0/IQQGgwFVVVXsn0AggMlkYl/61oSfu65XSEAINkzZgAn/mQA+4Xcp+vjggwceNk7ZiJCAEACdjZzNocKPQnEdVPBRKJROWLNKMU/F8fl8apXiRBobG1FVVYXKykpUVVXBZDIhJCQECoUCOp0Ofn5+7bNcVFbi3LlzuHDhAtRqNWJiYiwGn7vrXmTqMvHTQz9hyoYpaGhtn6nBfIo1Zoyf2E+MjVM24i7dXTaPZU2o0meKQnE+VPBRKBS7rFKYFK07vox9/Qu/tbXVQuA1NTUhKCgICoUCsbGxCAoKshiU39LSAoFAALVajfj4eJSVlUGv1yMvLw/x8fHsODJ3kqnLxMVFF7H26Fp8fPJjFFYXsuu0ci3mD52P6QOmIzgguMvjWIv4mUeOKRSKc6CCj0Lpo3Ql8AC4VeBZw9tTuuYYjUbU1NSwAq+urg4SiQQKhQKJiYkICQmx23OQz+cjOjoaUVFRqKiogF6vh16vh0AgsJjuyh2EBITgyUFP4pmRz6CmpQZ1LXWQiWRQiBW9em6o8KNQnA8VfBRKH4EReOYijxDCfqmaR/EovYMQgsbGRjQ2NuKPP/5ATU0N/Pz8oFAoEBcXB7lc3isTWqA9MhYaGorQ0FDU1tbi2LFjyM3NRUVFBTQajc05ZW31t6cwz48yUNlrU2WGjlE/a4UeFEpfwVk/fqngo1B8FKbQghF33iTwPLFPXcFMO2VeaGEymSAQCBAWFobk5GSIxWKXnVdQUBACAgKgUqlgMBhw7NgxBAUFQaPRICwszGa7TFSxoaHBpTMZ9BY6zo/Sl2loaB8n23GmFEehgo9C8RG4qKTtyzQ3N1uMw2ttbUVwcDDkcjlUKhVqa2tx/fp1t86IIBKJ0K9fP+h0OpSUlODs2bMQCoVQq9WIjo7uNLsAM+H8tWvXALR70Tn6fLS0tLDeiu6ERvwovg7zQ7K8vBwhISG9nh2ECj4KxUthCi2Y8Xetra1obW3FyZMnMWDAAHaaMsA7vxQ9bQxfW1sbqqurWYFXX18PmUwGhUKBlJQUBAcHW7yQ6+rq3No/8+vl5+cHrVYLtVqNK1euoKioCHl5eVCpVIiLi7OY+J4xqWVEn6M0NjYiICDA7c8Y82PGm59xCsUeQkJCEBkZ2evjUMFHoXgJ9lbSGgwGCASCPjlXpDMxmUyora1lBV5tbS0CAgKgUCig0Wggl8t7nWJxNh1FD5/PR2xsLGJiYnD9+nXo9XoUFhYiNjYWKpWKjeiFh4dDqVSira3N4TYPHjyIwYMHuz0lXFZWhvLycqSlpbFDFIRCIS3yoPgU5j/cewsVfBSKh8KMtzOP4JlMJphM7Ua3XVmleFp0zFG4+MImhKC+vp4VeNXV1eDz+VAoFIiKikJqaqpHj3PrCh6Ph7CwMISFhaGmpgZ6vR4HDhxAREQENBoNG53syRdLa2srRCJRr4tQHIVJIYvF4k5jU+2Zvo9C6WtQwUeheBDmlbTMlGXWvsxsfZExy71d8LkLxvCYGYvHGB7L5XLodDpIJBKvEQ3mlaxdERwcjIEDB6KhoQFFRUU4evQogoODodFoEBoa2qPz5Uqgd/zBw4xjNZlM4PF4EAqFdNwqhfJfqOCjUDjEPIJnXmgBoEeVtL70xeYK0coYHjMCjzE8lsvlSE9P72R43FucdT9ccS0CAwORmpqKhIQElJSU4PTp0xCJRNBoNIiKirLrOjD94krwdYQpTGJ+JLW2tqKtrY2NXrq7sIRC8SSo4KNQ3Ih5JS0TwWMEHgA2KtHbL1Aa4WvHmYbHno69Eb6OiEQi6HQ6tsCjoKCAnbotNja2y3GKXD5nTITPGkzUz5rwo+P8KH0V33jTUSgeirutUnwlpdvT60EIQV1dHSvwXGF47EhfvAmBQIC4uDjExsaivLwcer0eBQUFiI2NhVqtRkBAgM19PSXC15GOwo+JpptH/Kjwo/QVqOCjUJxIx0paptCCWcfn811uI8F8wfUFmBktGIFXVVUFAJDL5W4xPHYn7joHHo+HiIgIREREoKqqCnq9Hvv370dkZCQ0Gg1kMhm7LZcpXUfaNRd+AFjhx3we6Tg/Sl+ACj4KpRfYa5VCU0g9w1qasjvDY5lM1ievdU9Tul0hl8shl8thMBhQVFSEw4cPs7Y0CoWC0x8WTGGGIzDbM+P8mKr3juleCsUXoYKPQnGQrgQeU2jBpcDzhQif+bVjDI8ZkccYHsvlcquGxxTnI5VK0b9/fyQmJuLixYvIzs6GWCxGfHw8AM+P8Nnat+M4PybqR8f5UXwRKvgolG4wt0rxhjlpvV3wMYbHAHDixAmvMDy2hTufCVdE+Dri7++PxMREaDQaXL58Gfn5+QCAkpISxMfHu7UApicRPmt0FH7MZ52O86P4GlTwUSgdYF76jLjzdIHXEU/tly1sGR4DQGRkpFcbHvsqQqEQKpUKERER2Lt3L8rKyqDX6xEXFweVSuW2whhnPutdjfOjRs4UX4AKPkqfx92VtO7A0yN8TU1NrMCzZngsFApx6NAhu/3gKNzcc+YzMXToUNTU1KCoqAj79u1DdHQ01Go1pFKpy9p2VoSvI9bG+bW0tLDvATrOj+KtUMFH6XMwL3HzCF5+fj6io6PZSeC9TeCZ44kpXUcNj1taWjjsrXPgUoC5C/PiJKVSCaVSibq6OhQVFeHQoUMIDQ2FRqNBSEiI0/vmjhS2rXF+1MiZ4o1QwUfxeWxZpZh/WZWVlSEqKsonTHg9QagyhseMwGMMj+Vyuc8ZHlMsnzmZTIb09HQkJiaiuLgYx48fh0QigUajQUREhFNnH3GnVY258KutrUV5eTkbjaYFHhRvgL5xKT6HucmqeYqW8cOzZpXiiVGx3uDuc7FleCyXy3tleOxL98TVuFMAmbdpi4CAACQnJ0On06GkpATnzp1jZ/CIiYnpdWV1VzNtuArmndHc3IySkhKoVCo6zo/iNVDBR/EJzCtpmbRLx0KLrsbe+JLgc8e5dGd4nJSUhMDAQPrl50Q88VraY7wsFAqh0WigUqnY4o68vDyoVCrEx8dDJBL1uH2urgnzXmHG+TFTJDJTI3rzkBCK70IFH8UrMZ8myTyKB/zPC8+RX9u+JvhcQUtLi0WhRUtLC1to4WzDY1/5svQ1WxZr2Nsmn89HdHQ0oqKiUFFRAb1ej8LCQnbqtsDAQIfaNZlMnA0LMI8umgu/jvP20nF+FE+CCj6KV2BeScu8UM0FWncRvO7wJcEHOCcVSg2PKd3RE5HJ4/EQGhqK0NBQ1NbWQq/X48CBAwgPD2cLPBw5FhdYO29rBR4dZ/DwlR8yFO+ECj6KR+JuqxQ+n+8zgq+n4pUxPGaieIzhsVwu58zw2FfuibvwpDF89hAUFISMjAwkJSWhqKgIx44dQ1BQEDQaDcLCwro8H1fZsthDV213FH5MJoIaOVO4hgo+ikdgq5KWWcdMcg645kvNlyJ89p4LY3jMRPAYw2O5XI6oqChqeNxLuCic4QJnfB7FYjFSUlKQkJCAkpISnD17lh37Fx0dbTMt6kkRvo50ZeTMiD8q/CjuhAo+Cid0FHgd56S1VknrSnxN8NnC3PC4qqoKbW1tkMvlrOGxRCLxiC8hT+iDJ+Gp18PZ4wb9/Pyg1WqhVqtx5coVtsAjPj4e8fHxFhFmLiN8jlQIWzNyZnxAqZEzxZ1QwUdxG1154TGFFlyNc+HxeGxE0RdgrmtXhsfR0dEIDg6mg8p9BK5sWVzRJp/PR2xsLGJiYnDt2rVOBR5M5NmTI3zWsGXkbD4GmYo/iquggo/iMuyxSvGU8Sy+EuFjrndpaSn0er3XGx77wj3xZVx9f3g8HsLDwxEeHo7q6mro9Xrs378fkZGR7HRnXNDb6GJH4cd8buk4P4or8Z43P8XjYV5c5obHnirwOuKtgs+a4TEhBAEBAb0yPKY4B3fbsnCBu84xJCQEgwYNQkNDA4qKilBaWoqmpiZIJBKEhoa6/Vo7IzLe1Tg/auRMcTZU8FF6jLsraV2Jtwg+W4bHISEhrOHx2bNnERsbi/DwcI5723O84ZnxRHwlpdsVgYGBSE1NRX19Pfh8Pk6fPg1/f3+o1WpERUW5ZYiCs8/b2jg/JoJJx/lRnAUVfBS7YV5EbW1taGxsZAWSNwq8jniy4LNmeBwcHAyFQgGVSgWpVGrxJedLFjPefB7O7nt3nysurhWX94dJ9w4cOBCXL19GQUEBO4NHXFycS4cuuLJgxNY4P2rkTOktVPBRbGLLKoUQgt9++w1paWmsSao3ijxzPEkkdWV43K9fP4SEhHRpeOzt94LSczx5pg1nYz69WXx8POLi4nD16lXo9XoUFBQgLi4OKpUKAQEBLmvblVAjZ4qzoYKPwmJuFGqeomWqV83H4HFZUesKuIzwMYbHjMDraHgcEhLi8HyjniJeKb4NV9O5WWubx+MhMjISkZGRqKqqYgs8oqKioFarIZPJnNq2uyJt1sb51dfXw2g0Qi6X03F+FLuhgq+P05UXHmB7yjI+n+9TNibuFHyuNjz25PS0vdAvMMfhypaFK7o6X8Zb0mAwoKioCIcPH4ZCoYBGo4FCoej1deLiWpuP8ysvL0dFRQUGDRoEHo8HoVDotcNpKO6DCr4+hrlVSm8qaX3Nt87V52PN8DgkJAQKhQJarRZSqdRpL2tfeulT4er5eLI1ilQqRf/+/ZGYmIji4mJkZ2dDLBZDo9EgIiKix1E6Lk2fgf9FGJkfd+bpXjrOj2ILKvh8HPNKWual0DGC15OUgCeNeXMGzo6KmRseV1VVobGxETKZDAqFwi2Gx750b7wVd94DcwNzd8JlShew/3z9/f2RlJQErVaLS5cu4cKFC7hw4QLUajViYmIcLvBwZ0q3q/bpOD+KI1DB52O4yyrFFyN8vfmCNhqNqKmpYdO05obHCQkJbjU8pild34D50VBZWYnKykqIxWLodDoolUqPuT6eNIbPHoRCIdRqNeLj49kCj/z8fHbqNns9K7kWuh0jjB2FHzM8hxo5U8yhgs/LsVVJy8AIPOb/nUVfj/AxhsfMF3JNTQ38/Pwgl8sRGxsLhULBmeGxLwi+vghTvMMIvNraWkgkEnbsWWNjI06ePAmxWAytVouIiAj2M83V/fbUMXzdwefzERUVhcjISFRWVkKv12Pfvn2Ijo6GWq2GVCrtcn+TyeQREb6OWCvwME/10nF+fRsq+LyMjgKvY6GFeYrWlR9sX4vwdSdgGcNjRuBZMzwODAz0iJepJ/TBWfiycDU30WaeKT6fD4VCgZiYGKSnp7M/GpqbmyESiZCQkIBLly7h3LlzyMvLg0ajQXR0NHvMvmjL0ht4PB6USiWUSiXq6uqg1+tx6NAhhIaGQqPRQC6Xu6zt3tCd4LRm5Mx4qFIj574LFXwejvlci+YRPCakz5VFSl+I8JkbHldVVaG5uZk1PI6Pj4dMJvPYwdHefm989cuoY5q2ubmZLd7RaDTdFu+YpySvXLkCvV6PvLw8qNVq952EGd6W0u0KmUyGAQMGICkpCcXFxTh+/DikUik0Gg3Cw8Mt2uJ6DJ8jRSO2jJzNHRh89fNGsYQKPg/EvJKW+XB2rKTl+heaL9qyGI1GXL9+nRV4BoMBUqkUCoUCycnJ3Roeewo0pes5EEJQXV3NCry6ujoEBgb2+pni8/mIjY1FTEwMrl69isLCQgBAUVERNBqNw76NPcVbU7pdERAQgOTkZOh0OpSUlCA3Nxfnz59nCzyYqBnXVbqOPjcdhR/zHUPH+fUdqODzAMwH2ZoXWgBwyCrFnfhCStdkMqGurg6VlZUoLy9Hc3MzKioqoFAooFare2R47Al40nPSW7xNuJqnacvKythhAEya1tljOxmz4dDQUOzatQvV1dXYt28fYmNjodFoXDLLhLU+cIGrRZdQKIRGo4FKpUJpaalFgUdbWxvnKV0/P78e7WttnJ95xM/TvmsozoMKPg7oaJViNBo7VdJyHcHrDm9M6XZleCyRSBAcHIz+/ftz3U2n4G33xpuxlab19/eHWCzGgAED3PZZvuGGG9DQ0IDCwkJ2lgkmVewKfCmlaws+n4+YmBhER0fj+vXrKCoqYu9zVFQUAgMDXd6Hjjhr/CJgOc6vpaWFLfTz9O8giuNQwecG3GWV4k68JcLX1NRkUWhhy/C4sLAQzc3NXHfXKfhKStdTPw9MZLiioqLLNK1er0djY6PbzyM4OBiDBg2CwWBgixDCwsKg1WoRHBzs1LZ8MaVrCx6Ph7CwMISFheHo0aNoa2vDgQMHEBERAY1G4/Rr2xXOrhK2Nc6PGjn7FlTwuYCOlbRXr16FTCZjf0nx+XyXWKW4E0+N8LW2trJjphwxPPYVkQR47zPlyTQ0NNisppXL5W5JndqD+b2XSqVIT09HQkICioqKcPToUYSEhECr1TplejFrbboTLqOLAoEAERERCA8PZ69tUFAQNBoNwsLCXN4vV517V0bOdJyf90MFnxPozirl7NmzGDRoEGQymc98WDylaMPc8Liqqgq1tbVstEWn00Eul9tleOxLgg/wnZQuV+dh/sOhoqLCokLbnmpad9PVdRKLxUhJSYFOp2OnFwsMDGSnF+vNefSFlG5XbTPXNiEhARcvXsTZs2fh5+cHtVqN6Ohol0XGXO0DSMf5+SZU8PWQrgQeAAurFOaD6UsfEK5SutYMj4VCoVXvMkfw1IhlT/A18eoOukrTJiUlQS6Xe0WFdleIRCIkJiZCo9Hg0qVLyM3NtfDy64mA8ATRxVXb5tfLz88POp0OGo3Gwi5HpVIhLi6uxwUWXbXvjnPvOM6PGW/OjDP3tqFIfR0q+OzE3CqFEXkdrVJs/erxlGiYM+Hz+Whra3N5O9YMjwkhkMvlTjU89iWR5CsvYFefR0fTYx6PB7lcjujoaCgUCo9J09qDI3PpdvTyKywsRH5+PtRqNWJjYx2aArAvjeGzp21zu5xr165Br9ejoKAAsbGxUKvVEIvFTmmfi5k+mLHmzPfeyZMnoVKpEBwcTMf5eQlU8NnA3OzYUYHXEV8UfK6M8LW0tFgIPCadJpfLXWZ47EuCD/CdlK4zaWtrs6imbWpqYtO0KpXKJUMuPFl8W/PyKygogEqlQnx8vN2WRJ4mutxBd8bHPB4P4eHhCA8PR3V1NfR6vUWBR1BQUK/b50pgMZmr8vJyxMTEWIzzo0bOng0VfP/FlZW0vij4nJkCbWtrQ01NDSvwuDA89paqY3vwJfHam/Mw91lk5qYVi8VQKBRITExESEiIQ9EsR3HnPXAkwtcRxssvIiICFRUVKCwshF6vR1xcHNRqdZeRTk+MsrmrbXsFV0hICAYNGoSGhgYUFRXhyJEjkMvl0Gg0UCqVPToHro2fgfbPFxPZM/eSpQUenkufFXxMoQXzkDJTlnUUeEDvf8H6ouDrjUAy/yKuqqpCTU0N/P392UiLXC53u+GxL4kkXzoXR7GVpo2KikJaWppXpWndDY/HQ2hoKEJDQ9mo1P79+xEdHQ2NRgOJRNJpH66eM/NsC1ftO9p2YGAgUlNT2QKPkydPIiAgABqNBpGRkQ5F7LiM8DEwotdagYd5ZS8d5+c59BnB110lrXmK1tkPpy8KPkcifOaGx8wfY3gcERGBlJQUp41t6Sm+JJJ85eVqz3lwkab1RJz97DJRKcbLLysry6qXH9eRJk9N6XaFSCRCQkICNBoNLl++jPz8fFy4cIEt8LAn6tyb9p1FR9FpzciZCapQI2fPwGcFH/MLsGMEjxFerhR4HfFVwdfVOXVleOyJtha+JPgA3x3Dx3Wa1tNx9meqOy8/V7RpD71JYTur/d62LRAIEB8fj7i4OFy9epUt8IiLi4NKpeo2lc5lhI/5frXVB1tGzubzwHvS+7+v4FNvRvNKWuYB61howcWvDIFA4HOCr2NKt6eGx56Cr9my+MrzZj43LfNsAYBCoaBpWjdiy8tPIpFw8rnxBMHnrPeZ+RjKqqoqFBUVdTstHtcRPvPASVd0FH7M9zMd58cNXi34zCN45oUWAByupHUlvhjhA9pFXkFBAaqqqlBXV8dGWnQ6HUJCQpzuPeVKfCnCx/Xz3luYNK3JZMLJkyfR0tLitWlad/XTXQLI3MuvpKQEBQUFIITg8uXLiIqKctuPOk8QfK6o6FYoFFAoFDAYDCgqKsKhQ4egVCqh0Wggl8vZNrmO8Nkr+BiokbNn4LWC77HHHsOf//xnJCQksMsYM0hPe3B8QfARQmAwGNgoCxNpaW5uRkxMDBQKRY8Mjz0FXxJ8gHeldAkhqK2t7ZSmBYD4+HhERUX16TStJyIUCqHRaGA0GnHt2jUUFBQgLy+vR15+PYFrwefqCJtUKkX//v2RmJiI4uJinDhxAhKJBBqNBuHh4ZwXbTgq+BisjfNraWlhiyQ98fvbl/Dat+jevXtx//33Izk52eMfEG8UfOaGx8yfyWSCXC6HUqlEaGgoLl++jNTUVK676hR8SfB5w7nYk6bdv3+/3VPjeSLOvgddvee4Kp7g8XiQSCRIT0/v5OWnUqlcFuXnWvC5K8Lm7++PpKQkaLVaXLp0CefOncP58+ctsllcYJ5J6ym2xvmZp3spzsU736RoL3Fvbm72eLEHeI/g68rwOC4uzsLwuKKiwuNFhSP40rg3T/xM9LSa1peeMV/EXHj11Muvt+1ygbsFtvnsKGVlZTh16hSOHz/OmmS7O7vCRDidcQ2sCT9zWxea7nUeXiv4xGIxGhsbue6GXXiq4DMajRaFFo4YHnvqOfUUb4iKOQLX52IrTUuraX0P8y/jjl5+hYWF3Xr59QSuBR9XRRN8Ph/R0dE4deoUUlJSUFpain379iEmJgZqtdpp17c7XJFSpuP8XI/XvnG9TfC1trZy3Q2nGh77UlUr4FuCj6tz6SpNm5qa6rDXIn252w9XKd2u2g0JCcENN9wAg8GAwsJCZGVlITw8HBqNxsLLr6ftAn0nwtexbaD9sxUTE4O6ujoLr0S1Wg25XO7SPrhyDGFX4/yEQiE1cu4FXiv4AgMDvUrwcRENI4SgoaHBotDCWYbHvpQCBXxLwLrrZWiepmWseJxdTevt98TXv5jsuT9SqRQDBgxAYmKiVS8/b5xajMsqWfPJAgBAJpNhwIABSEpKQlFREX7//XfIZDK2wMMV18ldRSP2pHsp9uO1gs/bInzuEkeM4THzRcwYHjNzNzrL8NiXBBLgWxE+wDVCiRCCuro6VFRUdErTJiQk0DQth3hihK8jHb38/vjjD0gkEmi1WoeFCdcRNq7bBzr/mAgICEC/fv2g0+lw6dIl5OTk4Pz589BoNIiOjnbqfOTurhLuSvhRI2f78dq3s1gsRlNTE9fdsAtXCj7G8JgReA0NDQgKCoJcLkdaWprLDI99LcLnS4LPmefCVGozqVoAkMvliIyM7FGaluJ7OPpF29HLLycnB3l5edBoNHZ7+Xmi4HIX3Vmi+Pn5QaPRQKVSobS0FHq9Hnl5eezUbc6Yp5yrCGdH4ZeXlwd/f3/Ex8fTAg878FrBFxgYiIaGBq67YRfOFHwmkwk1NTVsGo0rw2Ma4fNcenMubW1tbCFPZWUlGhsbERQUBIVCgfj4eLeaHnv7i9udzxNXz25v2mW8/FQqFS5fvsx6+Wk0GsTGxnYZkfIEwecpKV1b8Pl8xMTEIDo6GtevX4der0dhYSFb4BEYGNjjPnDtA8gIv/r6evB4PHbiBSbVS8f5WcdrBV9fifB1NDyurq6GUChkB+zK5XJOppZiBB/XY2mchS9FLB1NjZnPTVtTU4OAgAD2BwTXPni+IsLdgaendG3B5/MRFxeH2NhY1ssvPz+ftSGx9gPWEwQf1xE+e9vn8XgICwtDWFgYampqoNfrceDAAURERPS4gIZrwWfeD0bgMQUeJpOpU7qX0o7XCj6JRIKKigquu2EXjgo+ptrRmuFxYmIiAgMDOX+ImfaZD5y340sRPqBrodTU1MQKPPM0bW8LeSh9E2e9i8y9/MwjUta8/LgUfM4wHe5t+z0dsxYcHIyBAweioaEBxcXFOHr0KIKDg6HRaBAaGmr3MT1J8DH9sGXkzNi60HF+Xiz4fCnCxxgeM2OlujI89hSY/viKSDKfo9LbXwodxWtXadq4uDgEBQV5/Tl7Ku6cS5erCJ8r/NiYiJQtLz9PiPBxmdLt7bkHBgayBTQlJSU4ffo0RCIR1Go1oqOjuz03rnwIrfWjY187Cj+j0dhpBg9P6DsXUMHnBjoKPsbwmBF4jOGxXC7v1vDYUzCP8PkCviT4gHaRV1RU5JFpWnvxhfvg67j6Bx/j5WfuNRceHu5QNMrZeEJK11liUyQSQafTQa1W48qVK50KPGyNB/eUCB8j5KxBjZw74/lvfRt4kw8fM6hUr9dbGB7L5XKHDY89BV+L8Hn7+Zinaa9fvw5CCPz9/b0+Teut98PdcPlDxR3tMl5ziYmJ0Ov1yMnJAQBUVlZCLpe79dw9QfA5u22BQMCOo7x27Rr0ej0KCgoQFxcHlUrV6f3hKYLPnn50ZeTc18b5ea3g82QfPmuGx0ajEfX19YiIiEC/fv0gFou9+iFjfj35YoTPG+gqTRsYGIiqqiqkp6dz3c0+jbc8S73B3UJTLBYjNTUVCoUCZ86cwYkTJyCRSKDT6RAWFuaWvnCdznSlJQqPx0N4eDjCw8NRXV3NFnhERkZCo9FAJpO5vA+O4KjwtDXOr68YOXu14POklG5zczMr8DoaHkdERCA3Nxf9+/fnuptOhQo+9+FINW1ZWRmqq6u57TDFrXA5ho8LhEIh/P39MWLECJSUlODs2bOs/5y9Xn49hWux4y7BGRISgkGDBqG+vh5FRUU4fPgwa+DPpEa5pqeRRntm8PDmgIwtvFbwce3Dx0wrZcvwOCgoiB1b0NDQ4LFCojf4khefJwo+8zRtVVUVCCF2V9N60nn0FF+rnPZFuJ7hg/Hyi4+Px5UrVxzy8utt21zhbsEpkUiQlpaGhIQEXLx4ESdPngSPx4NUKuU8tdtb4dnXxvl5reBzd4SPMTxmBB5jeCyXy7s1PGbGDnD9onA2vhjh4/J8uqumtbdamwqlvgeX99sT/P/Mx6CVlZWhsLAQBQUFUKlUNr38egrXKV2uRJa/vz8SExOh1Wpx4sQJ1NTUYP/+/VCr1YiNjeWkEMxZtmBdjfMTCoU+Y+TstYLP1RE+xvCYEXiM4bFcLnfY8Jj5cPqKZx0DjfD1DleZHvvCi8lXcOe96EspXVs/nnk8HqKiohAZGYnr16+jsLAQhYWFiI+Ph0qlcopJPdcpXa4DBwKBAFKplHWW0Ov1yM/PR3x8POLj4906EYArxK896V5vxWsFnysifF0ZHickJEAikfTog+args+XInyAeyJjXaVp+/Xr16vpjszxBSFOhavnw3VK1xbmXn5VVVXQ6/WdvPxc1bar4TqNyvRBKBSyRtnm1zgqKgoajQZSqdQt/XBlAYst4eetRs5eLfh6W6XrLsNjT0gXugJfivABrjkfo9HIPl+9SdM6gi+ldH3lPHpCa2srKisrUVFRgaqqKsjlciQmJloVK309pdsVcrkccrmc9fI7ePAgIiIioNVqERQU5NK2XYGnCD7zGS4UCgUUCgUMBgOKiopw6NAhKJVKaDQal9nmmEwmt0RbOwo/bx7n57WCrycp3e4Mj4ODg10yDoF5IHxR8PnSOTlDKFlL0/r7+0OpVHY71tNZ+JLg82YcFQaEENTW1qKiogKVlZWora2FVCqFUqmEVqtFdXU1azys0+lYiwwGTxdeXLfLePklJCSgqKgIR44cgUKhgFardUiUcD2Gj2vBCdgWnVKpFP3792cLPBjbHI1Gg4iICKf2m/nucVfWrGOBBzODByP8vGGcn9cKPrFYDKPRiNbW1i7dwJkvX64Nj31NHAE0pcvQMU1rMpmgUCicnqa1F09/6diLr5xHVzQ3N7MCj5nXWKlUIiYmBunp6fD392e3i4qKQlJSEvR6PQ4fPozQ0FDodDoEBwdzOpaOq3Z7+nwEBgYiNTUVOp0OxcXFOHHiBKRSKbRarV1eflyP4fO0CJ81AgICkJSUBK1Wi0uXLuHcuXO4cOEC1Go1YmJinCLSmO8ed1+LjgUehBBcvnwZQqEQ4eHhHj3Oz6sFH9A+7o4RfIzhMRPBq6qqAo/HsxgjxZXhsS8KPl9L6dor+JhIMfMl3dDQAJlM5tI0raP40n3xJZhqf0bk1dfXQyaTQalUIj4+HjKZrNP7iUldAf8zHtZqtSgqKsLRo0chl8s5nWrMWyJ8HfH392dFibmXn1arRWRkpM3PMNcRNq7bB+wXnUKhEGq1GvHx8SgrK2OnbmOKaHoTcOFK8JnDRP2uXbvGBpM8eZyf1wo+Jmpy/vx5/P7777h06RLGjRuHtrY2BAcHQ6FQsANHPeGC+6Lg6ysRPqZimxlLVV1dzaZptVqtW9K0juBLKV1fOI/GxkZW4FVVVUEgEECpVEKlUkGhUPTo2QkICEC/fv1Y4XfhwgUAQEVFBRQKhdveed6U0rWFuZff5cuXkZeXh7y8PNZupGM0iuuUrjdE+DrC5/MRHR2NqKgoVFRUQK/XQ6/XIyYmBmq1ukdFNMx98ITvd6PRyI7nI4Sw6V5PM3L2OsFXU1ODffv2YdeuXQCAMWPGIDk5GaNHj0ZqaiqCg4M9shLWFwWfL0b4mHvEzJzC/DEV22FhYUhOTnZ7mtYRPOHF0pdhIsDV1dVoamrCpUuXEBwczP5A6Gm1vzVEIhGSkpIQFBSEs2fPIjs7m51qzB1RP29M6dpCIBAgPj4esbGxuHr1qk0vP64jbFy3D/RuhovQ0FCEhoaitrYWRUVFyMrKQlhYGDQaDUJCQuw+lqfM9gH873p0ZeTMiD8u753TBN/ly5fxwgsvYNu2bWhoaEBCQgLWrVuHG2+8sdfHzsvLwxdffIFdu3bh2LFjSEhIwJgxYxAQEIAffvgBI0eOdMIZuBZfFXy+ck5GoxEmkwmXLl3ChQsXLNK06enpCAoK8piXiz34ghDn+kvNXpihJEwUr7q6GiKRCAKBACEhIUhNTXW5Ka1QKIRIJMKIESNw8eJFnD59GgEBAdBqtU4fLG+OL0T4OsLn8216+anVajqGD84ZxxgUFIQBAwYgMTERxcXFOHbsGIKCgqDRaOwaS+lJNmdMNI/BmpGzyWTqlO51N055C1VVVWHUqFG4/fbbsW3bNoSFhSEvLw9yudwZh8fly5dRVFSEuXPn4rvvvkNcXBwAYMOGDW41eewNviSOGLw5dcikaZkIHjP3rMlkYq0EPClN6wjefF+8BWZqxYqKClRUVKC1tZX17ExKSoJYLEZeXh5bwedqzKca02q1UKlUKCkpQW5uLvLz86HVahEVFeWSLxlfE3wMHb38CgsLsW/fPoSEhHD6LvcEwefMPojFYvTr1w86nY4dS8mM/YuOjrYp6jzhOjB0JT6t+fl1TPe6C6e8iVauXIm4uDisW7eOXabRaJxxaADAbbfdhttuu63TcndPr9Yb+Hw+jEYj191wKt4mYrtL054+fRoxMTEIDQ3luqu9wlsiY/bgKcLVfBxnRUUFamtrIRaLoVQq0a9fP4SEhHR64Tu7747cV4FAwA6WZ8alMcIvOjraaV8yvpTS7Qq5XI7Bgwejrq4OZ86cQU1NDU6ePAmNRtMjL7/e4M0p3a5gCmbUajWuXLmCoqIi5OXl2Zwez5MEnz3pZXtm8HD1fXWK4NuyZQsyMzMxZcoU7Nu3DzExMXjqqacwZ84cZxzeJq6eXs2ZeJs4sgdPL9roqprWWprWl8Yk+sp5cElLSwv77FRUVLB2O5GRkUhNTWWdAjwBW/ebz+cjLi4OMTExKC0tRUFBASv8nGGP4Ysp3a6QyWTsdfPz88ORI0dYg2GFQuGWPniC0HFlH/h8PmJjYxETE4Pr169Dr9ejsLAQsbGxUKlU7PhpT7gODI6kl7sa5+fn5+fSc3KK4CssLMTq1avxl7/8Bf/v//0/HDt2DAsWLIBIJMKMGTOc0YRVAgICvCrC58niqCd4mkCylqb19/dnK7a7S9P6SirUl87DnTC+nUwUr66uzqvGcXZ1vfh8PmJiYhAdHY2ysjIUFBSgoKAAGo0GcXFxvRJ+fUnwMW0LhcJeefn1Bk8QOu7og3lKvaamBnq9HgcOHEBERAQ0Gk2ncXNc0pMCEmvj/FyNUwSfyWTCjTfeiNdffx0AMGjQIJw5cwZr1qxxqeBzxvRq7sIXBZ8nRPi6S9M64rvoCefjDLhO93gTHY2PmWmiYmNjoVQqe23M7mn3gsfjsQUJ5eXlKCgoQGFhIZv+dXS8YV+L8AGWtiyMl59Go0FJSQnOnDkDkUjUrZdfb+C6aARwvzVNcHAwBg4ciIaGBtZ/komwe0qKu7c/mtxhMeMUwRcVFYXU1FSLZSkpKdi0aZMzDm+TwMBAKvg4hIsIX8c0bX19PTs3bW+jML4SGQN8J6Xr7PMwmUzs81NRUYGGhgb2+bFlfOwNOPqlx+PxEBERgfDwcFy/fp0VfiqVyiFD3L4yhq+7tpnxZyqVysLLT6PROG1mCQaufQCZPnAhOplZUhISEnDmzBlcu3YNWVlZ0Gg0iIqK4kwIe5JFTFc4RfCNGjUK58+ft1h24cIFqFQqZxzeJjTCxy18Ph9tbW0ubaNjmrampgYikcjuNK0j+Irg85XzcBa2jI+9vRrbGTBps9DQUFRWVqKwsBBFRUWsBQkztZst+mKEr6sIm7mXHzOzRH5+vs3CA2e37y64TiuLRCKEhobCZDIhIiICBQUF7NRtsbGxbv9Me1J6uSucIvieeeYZjBw5Eq+//jqmTp2Ko0eP4uOPP8bHH3/sjMPbhEb4uMVVKVBnpmkdwVeEki+dR08wGo3s9IoVFRVoampCSEgIFAqF042PPYXeCiAejwelUgmlUslakOzfvx+xsbHQaDRd2l/1RcHXXdvmM0swXn56vR5xcXF2Cemu4FpsAZ4jOgUCAeLi4hAbG4vy8nLo9XoUFBQgNjYWarXaLbZtTNWtM66HV6R0hwwZgu+//x6LFy/GihUroNFosGrVKjzyyCPOOLxNaISPW5yV0nVlmtYRPK0Ipaf4mpjpDkII6uvrWYHHRIGVSiUSExMREhLiFi88a/3yRhgLktraWhQUFGD//v2IiYmBRqPpNMNMX4zwOZJSteXlZ+t62gPXY9acKXB6g3lUjRmiEBERgaqqKhQVFWH//v2IjIyERqOBTCZzaT8A9J0IHwDcc889uOeee5x1OLvwNh++1tZWrrvhVHoa4bOWpvXz8+M8zeYrkTHAe8VGR2ydR2trK2t8XFlZyRofh4aGujQKzCXuPp+goCAMGjQIdXV1KCwsxMGDBxEVFcVGSYG+O4avJ2LH3MuPuZ4RERHQarUOCRKuI3zMO59rwWfrOsjlcsjlctTX16OoqAiHDx9mhwC5Yp5pZ10PdzzPXjeXrjkSiQR1dXVcd8Mu+nqEzzxNW1VVBaPR6JY0rSP4iuDzlfMwhxCCuro6NopXW1uLwMBAKBQKpKSkeOwc2u7ClQJIJpMhIyMD9fX1KCwsRFZWFitUAO5SulwJjt5ea+Z6MhWnhw8fZudZtmd2Kir4/tePrvogkUiQlpaGhIQEXLx4EdnZ2RCLxVCr1U6toO6TET4uEIvFuHbtGtfdsAtfFHxdRfiYNC0zlspgMLBp2ujoaAQHB3P+wugItWXxLAghqK6uxrVr19ixnAqFAlFRUUhLS/OKaRV95V4A7V+g6enpSEhIgF6vx+HDh8Hj8Tgxv+c6peuMdxdTcarT6VBUVITjx49DJpN1O5cs1yldbxF8DP7+/khMTIRGo2ErqM0LPHo73IPphzd81r1a8NGiDW4xPydr46j8/PygUCigVqu9ohrS1yJjXH8xOIrJZEJtbS37DBkMBrS1tSEiIsIrjI9dSXf30Z33WiwWIzU1FVqtFgcPHsT58+dx7do16HQ6p82f3h1cp3Sd2ba/vz+Sk5Oh1Wrt8vLzlAgf1+8Wo9HokE+mUChkq6WvXr2KwsJCFBQUIC4uDiqVqseFNN5iyQJ4ueCjRRvcYjKZ0NzcjJycHFRWVrJp2tDQUCQlJSEwMJDzl4Ij+IrgY665Nwi+pqYmVuBVVVWxxsdxcXG4ePEiVCoVIiIiuO5mj/CFZ6krAgICIBKJkJSUhNraWvz+++8IDg6GTqdzyVgpc7gWfK74grfXy4/rzzVTtML1u6WnZsc8Hg+RkZFsgYder8e+ffsQHR0NtVoNqVTqln5Y65er8XrB501FG94u+IxGI2pqatixeAaDAXw+H2FhYUhLS/PINK0j+Jrg80S6Mj5WqVQWxseXLl3iuLfeA5fFE4zo02g0KC4uRnZ2NiQSCXQ6HUJDQ13yPHIt+FzZdkcvv8LCQuTn50OtViMuLs4jInye8J7vbT+YH5cKhQJ1dXUoKirCoUOHEBoaCo1Gg5CQELvuM43wuYnAwEBOxo/0BIFA4HWCzzxNy8xNy6RpVSoVTCYTLl26BJ1Ox3VXnYKvCD4GTzmXhoYGiyge8wx1V5Hta/fD1XBtj+Ln54eEhASo1WpcvHgRp0+fRkBAAHQ6HcLDw53aP67H8LmjbXMvv2vXrqGwsBCFhYXg8XguN7zvCl8RfObIZDKkp6cjMTERxcXFOH78OCQSCTQaDSIiIrq8386K8LkDrxZ8NMLnfFpaWixMj41GI0JCQlhPM/M07fXr173inOzF13z4uDoXxviYsUxhjI+VSiV0Op1PGh9zDZcRvo4IhUI2NVlSUoKcnBzk5eVBq9UiKirKKfee6wifOwUPj8dDeHg4wsPDUVVVhWPHjuHMmTOorq6GWq3ukZdfb/BFwccQEBCA5ORk6HQ6lJSU4Ny5c2yBh60p8miEz03QMXy9x1qaViaTQaFQdJum9RWBxECrdHtGx4Kd6upqBAQEQKFQcGp83NfgSgDZalcgEECtViM+Ph6XLl1CXl4e8vPzodVqER0d3asvSa4FH1dty+VyiEQiJCYm4vr16z328usNniL4XDmdmVAohEajgUqlYqfIy8vLY4s+zItF6Bg+N0GrdB2nuzQt80KxB18RSAy+kkJ0R4TPlvEx46vo7qiDp+LrkUx7pxljxqSVlpaioKCAFX62oibOaNdVuCulawtCCCQSCWJiYtDQ0MBa5Dji5dcbPEXwuaMf5mn1iooK6PV6FBYWslO3BQYG0gifu6ARPvvomKZta2uDXC63mqZ1BE8Rsc7C1wSsMwUfY3zMCDzG+FipVCIlJQUhISFOf+l5uwB3Z9+5nOLMXvh8PmJiYhAdHY2ysjIUFBSgoKAAGo0GcXFxDgm/vhrhAyyFTmBgIGsuXFRUhN9//x1BQUHQarUuLZjxBIHjTuHJ4/EQGhqK0NBQ1NbWQq/X4+DBgwgLC0NAQAAdw+cOaITPOr1J0zqCL6Z0feF8nBXhY34oMCKPEAK5XO5VxscU1+OoqODxeIiKikJkZCTKy8tRUFCAwsJCNv1rT/qfa8HHdZVsx3M39/JjCmb8/f2h0WicOqsE035fE3zmBAUFISMjA42NjSgqKsLFixchFApRXl7epWG2J+DVgo9G+NpxZprWEXwtIuZrgs9RGONjRuDV1dVBJpNBqVT2eeNjT4fLCF9P22UmvA8PD8f169dZ4adSqaBSqbp8Z3Et+LhO6dr6HPr5+UGn00GtVnfp5dcbPEXwcZ1KFYvFSElJAY/HQ2VlJc6ePcuO/evJGFU6hq8bxGIxWlpaXDp401kwgs9ZLwtXpWkdgUb4PBt7zqWpqYkVeB2NjxUKhUt+KFB8B2d8Xng8HsLCwhAaGorKykoUFhaiqKgI8fHxUKvVVmdA6Mtj+Oxp35qXX0FBAVt00JsiKk8RfJ5ih8Lj8RASEoJ+/frhypUrKCoqQl5eHuLj4xEfH+9RM0x5teBjBoY3NjY67I7tbpgPSE8fUnelaR2BifBx/YvXWfiK4Osqpcs8R4zIY4yPlUplJ+NjrvGV++EOuLxOznpeeDwelEollEolqqqqUFhYiP379yM2NhYajcZiCAHXET6uBA9zn+1t35aXX3x8fI+nE/MkwecJ/WAijXw+H7GxsYiJicG1a9c6FXiIxWKuu+rdgo+5gE1NTV4j+Ox9MXOVpnUE83PyFJHQG3wpYmku+hobGy2iePYaH1N6jzs/F96W0u0KuVyOwYMHo6amhhV+MTEx0Gg0CAwM5FzwcRldBOwXfAzmXn6VlZXsdGLm1aaO9MET3veeIvhMJpPFO9T8WtfU1ECv1+PAgQOIiIiARqNBUFAQZ331asHn7+8PHo/nFeP4zCN8tvCENK0jOCpiPR1fiSi1tbWBEILCwkLU1NSgubmZGh/7OFwaL7vyWQoODsagQYNQV1eHwsJCHDx4EFFRUWhra+uTKV3mPvemfWY6sdraWvaaRkZGQqPR2OXl5wlCixDiEf0Auh5LGBwcjIEDB6KhoQFFRUX47bffEBISArVa3amKmo7h6wYej+c1hRvMzTQajewy83lFPSVN6wjMOXnKWIre4q1FKEw0mIniVVdXs+uSkpIgl8t94v54G+4WYZ5uy9IbZDIZMjIyUF9fj8LCQhgMBhQXF0MikbjNcJjBGyN81ggKCmLFiCNefp4gtJjnzhPea/Z8/wUGBiI1NRUJCQkWVdRqtRpRUVFuu55eLfgA76nU5fF44PF4MBgMuH79OpteEwqFUCgUiI+P97pB8jTCxx3mxscVFRUwGo0WxsfHjh2DWq2GRCLhuqs9xpvuR1/GneJHIpEgPT0d1dXVEAgEOHz4MMLCwqDVahEcHOyWPnA5hs+Zgo+B8fLT6XQoLi7u1suPa1sa4H+BE677AThWLSwSiZCQkACNRoPLly+joKCAncFDo9H0aEylI3i94PN0Lz7zNC0hBGfPnoVcLodCoUBCQoLHpWkdwTzC5wt4ssDoyvg4NTXVqvGxp54LpWd09Z7g4l47I73YU3g8HlQqFfr37w+9Xo+jR49CLpdDp9O5fKYJrscPAq655sw8sh29/LRaLSIjIy3e91wLLVcI357SkwwXU0UdFxeH8vJy6PV6REZGUsHXHZ4W4TOZTBbVtHV1dZBKpVAoFBAKhUhPT3f5C8ldMFFLKvhcQ0tLCyvwmB8MCoXCLuNjTzuXnuCtP4S4gos5lLmCEV0BAQFISUmBTqdjZ5oIDg6GTqeDQqFwyTXhcgyfO8SWuZffpUuXcP78edbLLzo62qMEnye8I3rjB8h4UUZERLglu+f1gi8gIABNTU2ctU8IQUNDA/ulbJ6m7ehlVl5ezlk/XYWvVbZyeS7mPxYqKirYMZ1KpRIDBgyATCaz+8XiCS9CSt/AE6qDRSIRkpKSoNFoUFxcjOzsbEgkEuh0OqdPMca1LYu7rrdAIIBKpUJcXBzr5Zefn4+AgADOgxaMyPKE95w3+AAzeL3gCwwMRENDg1vbbGlpQVVVFSvyWltbERISAoVC0WUVpK/NPQt4b6GDNbgQr+bGx5WVleDz+VAqlb0e08m1eHUW3n4OzvhCam1tRXV1dZdzdnKRZuQypWvrfP38/JCQkAC1Ws2mJQMCAqDT6RAeHu6UvnJdtOFusdnRy+/MmTOoq6sDn8/vsZdfb/GkQkFPiHjai9cLPrFY7PIIX1dp2pSUFAQHB9v18Pmi4KMRPscwGo1sZXZFRQUaGxtZ42O1Wg2pVOq0LxNfuS99DUIIDAYDW5BTU1MDoVCIgoICaLVaxMbGesQXjCekdG0hFAqh1WqhUqlQUlKCnJwc5OXlQavVIioqqlefMa5tWbi694y/HDM8qba2tsdefr3Fk0QWjfC5EVcUbTiSpnUEXxR8vhThc4Xgs2V8zNgfMC9PZ+MLET5PSNf0Bkeuf1tbG/sjgKm6ZsZrpqSkgM/no66ujnXv7yj8uIw6eVKEryMCgQBqtRrx8fG4dOkS8vLykJ+fD61W26P5Th1p2xV4gukxIQQSiQT9+/fvsZdfb/EkwedJfekOrxd8zira6Gma1hF8UfD5WoTPGfenra2NfZYqKirQ0tLCPkvuqszm+kuB0jXMj8qKigpcv34dNTU1EIvFVquujUYj2traEBkZiejoaJSVlaGgoMBC+HF1DoBnCz4GPp/Pzi1bWlqKgoICVvjFxMQ4FKHh2paFa3Fh3gfGy6++vp718gsNDYVWq0VISIhb+sA1zorwUeNlO+hphM9ZaVpHEAgEPin4fOWcehoVMzc+ZlJwYrEYCoUCycnJCAkJ4STk7wtC3BfOgcFoNFp4J7a0tEAulyM8PBwpKSl2zbXJ4/EQFRWFyMhIXL16Ffn5+SgsLIRMJnNJpLgrvEnwMfD5fMTExFgI54KCAmg0GsTFxXX7OSWEcG7LwvWPOWtii4n4JSQkoLi4GMeOHevSy88ZffCENCoz44cn9MUevF7w2Rvh65imZYw7e5umdQRfSn8y+NI5OSL4Wltb2WfJ3PjYkS9vV+ILKV1foLW1FSUlJaioqEB1dTVEIhFCQ0N7/UOAx+MhMjISERERuHr1KnJycmA0GnHx4kW3jfHz5DF83WEunMvLy9mIKZP+tSWeuRS5gGdEtrrqQ0cvv1OnTkEsFkOj0Vh4+fUWo9HIufAFnOcH6K5z8XrB11WEz/xL2VVpWkfwpWgYg6+ldG2dCyEEtbW1rMCrq6uDRCLx2GnwPOFl2Fu88RyYopyOM6CEhoYiKSkJYrHYqefFCL/a2lpUV1fj4sWLVsf4uRJvivB1hPFBCw8Px/Xr11FQUAC9Xg+VSgWVSgU/P79O7QLcGf56whg+e0RnV15+MTExvb5+nhJVY77PPaEv9uD1gk8sFqOmpgZAu8VFdXU16uvr3ZamdQRfFHy+HOFrbm5mBV5lZSWA9onHo6OjoVQqObEjcARfEeKeTmNjo8VzwhTlSKVStvra1fB4PAQGBmLIkCFsqte8qtcV7z2uU7rOhMfjISwsDKGhoaisrGSFX3x8PNRqNftZ5zrC5wnTmjnSB3Mvv9LSUuj1euTn50OtViMuLq7HwxA8IdIJeNYUb/bg1YKPsS84evQoMjMz8ccff2DRokW47777EBcXB7lc7lFfyr46hs+XhIXJZEJBQQFrfBwUFMSm/R0xPuYaX0npeuI5MON/mSheQ0MDgoOD2cprJnNw5swZtz8vHVO9zBg/Vwg/rlO6rri2PB4PSqUSSqUSVVVVKCwsxP79+xEbGwuNRsO22ZerdHsitszHTl67do0dO8lEUh0dTtWb2S2cCXM/PKEv9uBUwbds2TIsX77cYllycjLOnTvntDYqKiqwa9cu7Ny5E7/++itKS0sRFBSEWbNm4ZVXXsGNN97osRefRvg8D/PoTFVVFUwmE5qbm3ttfMw1XH8p+BrNzc2swKusrGTH/2o0Gsjl8k6pP8C9gqhjWx2FX8eqXmcIP1+K8FlDLpdj8ODBqKmpYYVfZGQkAO4iOp4Q4etNdI3x8gsLC2MF9b59+xATEwONRmP32GdPuA6A84Sn147hS0tLw65du/7XgBMrx+677z789NNP6N+/P+666y58+umnyM3NxS+//IKlS5c6rR1Xwefz0dbWxnU3nIq3RfisGR8HBwezqdpTp04hNTWV6246BW+6L9bgUrQyYzavX79uEe1VKpVQqVSQyWQeJ6qt9cdc+JWXlzs94sel2HPXF35wcDAGDRqEuro65OXlAQDOnj3LRnPdiSekMp3RBx6PB4VCAYVCwXr5HThwAJGRkdBqtZBKpV3u7ylmx54yltBenC74hEIh+yvI2fz1r3/F6tWrERUVxS67cuWK042XXYUvRvg8/ZzMq7OZSklmjJVOp4NcLmd/lDAztniC9UFvoSldx2lpabEwPwbglGnu3EF318m8OMFc+NlrR9KTNl0FV+3KZDKkpKSwc6JnZWUhIiICWq3WLWbDgPemdLuio5ffoUOHuvXy8wThC3hOatlenC748vLyEB0djYCAAIwYMQJvvPEG4uPjnXLskSNHdlrmjqnVnIWni6Oe4IkpXVvGx0qlEomJiTaNj5llviL4KF1DCEFdXR0r8GprayGTyaBUKpGRkYGgoKBeX0d33gd72rIm/PR6fY+EH1efEy4rZRnBlZ6eDp1Ox5oNh4WFQavVIjg42KXte0Iq01Viy9zLr6ioCMeOHUNwcDC0Wi2USqXFs+ZJgq/PRviGDRuG9evXIzk5GaWlpVi+fDluvvlmnDlzxmW/gAIDA9HQ0OCSYzsbXxR8npDSNZ97tLKyssfGx+aCz9vxlQifs2GsmhiRZzKZ2HR+enq6RxV5uRJnCT8uBR9XbTNCIzAwEGlpaazwO3r0KBQKBbRaLeRyuUva9wSh4+ooY0BAAPr16wedToeLFy/i5MmTEIvF0Gq1iIiIYIMMniC0nNUPrxzDN27cOPb/BwwYgGHDhkGlUuG7777D7NmzndkUC43wcQtXET7zL+7KykrW7ywiIqLHxse+JPgA7z8PZ4hWZhYUZixebW0tAgMDoVQq0b9/f4/zT+wpPY229Ub4cR3h8xT/v4CAAKSkpECr1aK4uBi///47goODodPpoFAonNpPT8g+uEt0dvTyO3fuHC5cuACNRoO2tjarhVLups+ndM0JCQlBUlIS8vPzXdaGs+bSdRaNxnr488Xg8zo/BHw+n/Xt8RXcFeFjBtEzAq+2tpb1WHSW8bH5RPTeTl+O8DEpfSaK19raCoVCgcjISKSlpSEgIMAt/fCm628u/K5du2aX8ON6DB8Xwqer6Ja/vz+SkpKg0WhQXFyM7OxsSCQS6HQ6p00vxnWEj4t0ekcvv8LCQjQ2NkKhUKCtrc3tUwqa4ymRRntx6ZUyGAwoKCjAo48+6rI2ejqXrqvw54txsSkfsf4aCPmWv0BohM8xbBkfx8TEuCT95ksRPq6jAO6EKcxhBF51dTXEYjGUSiVSUlIQEhLiVb/Ce4Kznllz2wxG+DFVvdaEX1+M8Nkzy0RCQgLUajUuXryI06dPIyAgADqdDuHh4b3qN9cRPmdNJdYTzL38jhw5AoPBgH379iE+Pr5HXn7OoE9H+J577jlMmDABKpUKV65cwdKlSyEQCPDQQw85sxkLPC3Cx+fxEe2vwlnDCfSTZMBf8L9ogi8KPmdazZgb2lZWVnYyPnbGIPqu8CXBB/jOeVjDfAqz69evs4U5zDy1gYGBXHfR7Th7yrbuhB9N6XaNUCiEVquFSqVCSUkJcnJykJeXB51O1+N5ZbmO8HEp+Bh4PB5EIhGio6MhlUpRWFiIoqIixMbGQq1Wu3Ue8z49hu/SpUt46KGHUFFRgbCwMNx00004cuQIwsLCnNmMBUyEj+tfPuaI+P7QBibjj7pDSJcNgUTQXrDiq4KvN+fU0fiYMbRVqVRQKBRuHafBPD++cI98IaXb8RwaGxvZKF5VVRVEIhGUSiWSkpIgl8u9KrXibFz1/rMl/DQajct/gNmC6xk+HD1ngUAAtVqN+Ph4XLp0CRcuXEBeXh60Wi2io6MdEk9cV+l6guBj+iEQCNhZUWpqaqDX6x3y8nMGfTrC98033zjzcHbBqPmmpia3KvvukAlDoApIwNGafRgoGw65X6hPCj5HU7rmkZnKykrW+FipVEKj0UAqlXIq3H1BKAG+kdIlhKCxsRF5eXmsSTZjr5OQkGDTXseT8DRblt4cu6PwKygoACHE7eOoGNHlaWP4uoPP5yM+Ph6xsbG4cuUKCgsLkZ+fz5pg2yMcTCYTp8UKzLue689dRzuU4ODgTl5+YWFh0Gg0Nr38nAEdw+dmGJHX2NjoUYIPAKIC4lFrrMFvNXuRIRuOQL7M5wRfd0Ub1oyPmchMR+NjT8BXBB/gnSndpqYmNopXUVEBPp+P8PBwj3xW+iLmwk+v1yMvLw/79+9nizvccX+4jvA5ozgsNjYWMTExKCsrY+eVtacy2hNSunw+n3PBZ+s6OOLl5wz6dISPC8wFnyeSFNgfDcY6/FGbhTheMowm36rStRbhM6+SrKystNv42BPwFcHnLedhMpnY6uuKigrU19ezU5gRQiCTyaDVarnupsfj7iEtPB4PISEhEIlESEtL61TV60rhx2Va05nXmcfjISoqCpGRkSgvL2fnO2bSv9auIddDlzxhpg+mH109A4yXn1artenl56x+OCPi6pVj+LiAz+fD39/fYwUfj8dDumwIGo0N0Dfmos6/BSZys1XbFm+ESVMzMxaYGx8rlUqHjI89AW8RSt3hCS9lW7S0tLACr7KyEjwej52j1nzcZm5uLsc97R3Ofo487Z4ywouJ+F2/ft0two/Lz6crBI+5Jc7169dRUFAAvV4PlUoFlUplISg8JcLHNfb2QyQSsRXT5l5+PRk/aQ2j0ehVZu1eL/gAzzdfFvL8kCEbjkMt/4cywVUcrPo/DA+5BSK+587N2R3MvKOlpaWoq6vDiRMnem187Al4wswhzsJTzsPcQ7GiogJ1dXVs9XV8fDxkMpnHiRlvg6vID9Mmj8dDWFgYQkNDXS78fCXC1xHza1hZWckKv/j4eKjVavj7+3MeYfMUwedoKlUoFLKRU8bLLy8vD2q1ulfPJx3DxwHeML2aRChFivgGFJBCNBgNOFy9FzfIhkPmF8R11+zClvGxv78/AgMDMWTIEI94EfQWX4rwcXkera2tFlE8QggUCgViY2OhVCo58cyiOBdr4sea8GOqem2lKXvSLle4Q2wyEW+lUomqqioUFhZi//79iI2NRVtbG43woedCy9zLr7y8HIWFhSgsLOyxlx8dw8cBnh7hY4gQR0DRGAuTiQcD6nC0NgvpshsQLorgumtWaW5uZr+wGeNjpVJpYXxcXl6OixcvetVD3xVcTRXnbNwt+MznM2amMJNIJFAqlUhPT0dQUJDPPCOO4K5oDBciqKs2u4r49Vb4+WqE7/+z96dBkl35dSf4u29/z3f3iMgtMjKWTACZiQSqABRYxSKLUokloyRy1C11SyNpjOq2maGNmcyaZs2WaWQ9nzSSiaZP0phsJGppmax72JJIiZLYVLFYLLKwo1AoAIXCUkDuCeQam69vv/fOB18yIpGJ3CLCPaLyfAuPCH/3+duOn///f87tUKvVePbZZ2m1Wpw7d4719fURIRyH1+QkEb6HWcfGMvra2toDe/ndOi38MOvZCewZwjfpCh/0v11M5XXKVo0VdZle3ubN1ms8HpxgqfDYuJf3GePjXq9HqVSi0WjcsfS2VwjSEONWxrYKO3EDyfN8NH29urqKlJJ6vc6BAwd48sknH7q3Za8ci53COEu6n/f7rSZ+e62H715QqVT44he/yKuvvopSipdffpkDBw6wuLhIoVDYsXWM2wdwiK0inhvV1CGpfumllzhw4MDIJmwn1rFT2DOEbzcofMMT40TwOG/HGavZdTIV8qPuO3RVlyeLT2OKne0HGJrZrq2tjYyPb9dAfyfspZ432FskY6v3Q2tNr9cbEbyNwzknTpz4iYgwm1SMS+G7V/KzlcRvnJOq4yY8Qgjm5+cplUqcO3eOV155hX379rG4uEipVNr27U8CwVFKbctxGJLqbrfLhQsXRl5+i4uLVCqV2/7PVil8O4U9Q/gmdUp3I4QQ/ZNUw/OVZ3hx7VU6ucAxMs6Fp2nnbb5U/ik8c/sGHqSUrK+vj8q0G42Ph98W7+dm+kjhm0xs1X4Mz5dhhFmWZdRqNWZmZnb1cM5exE6ToAchXhuJ3+rqKqdPn75v4jduwjfOoYnh9guFAqdOnWJpaYnz58/z2muv3ZWcbAUmhfAB20a0isXiJi+/N954g2q1ysLCwme8/Cbh87gf7AnCN4xX2w0Y2pjYhsWXa8/ywtpr5MoiMB3W0mX+aO3bPF/+ClPu1sTR3Ros32q1ttT4eK+lh+wlwveg2Hi+DI2yp6ameOKJJ3bUYme3T+5u1Xk0qefjw6xLCMHU1BSNRoPV1dWR4jc/P8+RI0c+9540TtI1aVOyQRBw8uTJEfF74403qNfrLC4uUqvVtn3748BOxbvdi5ffI4VvDNgtCh9sJkgFs8CXys/w8vr36OUGgRkgyXhx/Y/5YuU5FvwHM5wd9lYN+6uGqswwWN73/S27ae21ku5e2p973Y+NcXerq6vEcUy1WmVqaorHHntsS8+X+8VeORbbjXF9Tg97XtyO+F24cOFzid9PssJ3J8LleR7Hjx9ncXGRixcv8uabb1KpVFhaWqJer2+p0fBPCuEb4nZefqdPn2ZhYeHR0MY4sBsVviGm3TpfKD/Nm623aKaakm3hmyY/bL/FWrrGF8pfvGtf3+0mJIe9Vdutyjwq6U4m7rYfw97N1dVV1tfXsW17lFH7KMJsd2IcJd2twv0Qv3ETvnESnrvtu+u6PPbYYywsLHDx4kXeeecdCoUCS0tLTE1NPfTnNimEbxxZyhu9/K5cucL58+fJsoyrV69SKBQe+J65k/uxJ+7qu1XhG2IhOEgn63EmPEs7zyiZJo7hcDW9zNraKl+pfJWitXlaaGh8PFTxlFLU63X279/PiRMndqy3ai8pYrC3CN9GbJzAXl1dJQzDUe/m0tLSffdu7gQmbT0Pgr1uy7IdqRP3Qvx+UmxZbsW9Ei7btkeq1KVLl/jRj36E53ksLS0xMzPzwPsw7pI2jN/7bmMW8re+9S1WV1e5fPnyA3v57ST2DOHbDVO6cOeet1Plo3RlwvXkKl0Z42oL00jIVMYfrv4Bz5Wep5SVNqUVFItFGo0GTz75JJVKZSwXwV5U+PbK/uR5zpUrV0ZT2MMJ7IWFBWq12pZkQD7C5GASbVke5n2HxG9tbY3Tp0+PiJ/neduyzXvBuAnP/RJOy7JYXFzkyJEjfPLJJ3zwwQecPn2apaUl9u/ff9/7MikK3yT0zQ2/ZD3zzDOEYbjJy29hYWGs5+mdsCcIX6FQYHl5edzLuCfcifAJIfip2gn+aCVG5+ukKiFNNSJdJU9z/tOnv0M9n+JU8dREpRUMFb5xf/PdKuxmhW+YhrKyssL169fJsoxut0uj0WB+fp5isbjrjtFuPRawu9d+L9iJa37ok1av11lbW+PMmTO0220syyLP8x1vPRh3SfdBCZdpmqMYscuXL/PRRx9x+vTp+86UnRTCN+41DNcBfVJ9q5ffiy++eM9efjuJPUH49oLCByA0PCXm+ObaFdajVZRMMR2TRuAys6+A7wRcN6+zWF3EMcdP9uBmaeUR4RsPhqX9ofIrhKBer1Mul3Ech+PHj497iY+wAxjH9beT18lG4nf69GkuXrzICy+8wJEjRzhy5MiOqdXjvs897PZN02Rubo7Z2VmuXLnCuXPnOHPmDIuLi8zOzt6VSI2b8MLkED4pJbDZHmajl9/58+fvycvvUQ/ffWI3E74wDEcP7PX1dSzL4lRtjvcqFp5vY1sKqTSeqYlVGzD4g9U/4Pny8xz0Do5vRwYYnqyTchE+LCad8Gmt6XQ6mwZ0hmkoTz/9NOVyGSEEZ86cGd2Qdiv2wheIvY6dPkZCCIrFIqVSiWPHjn2mx2+7id+473Nbtf2NfWjXrl3j7NmznD17loWFBQ4fPnzHkum4939S1gA3Cd/troFiscipU6c+4+W3uLi4pVPT94s9Qfh205SuEIJ2uz2aqh1aYNTr9U3N80eSBb698gOSXGCZGYk2MCgSqx624fD99pscTg7zdPmpHU/n2IiNCt9ewCQSvizLNql4SqnPZBrfikncj0fYPuyVoY17wfCBf2updyeI37gnhLdaYRNCcODAAfbv38+NGzc4e/Ys586dG02j3loyV0qNvfd3Urzvhr2En3c++L7P8ePHWVpa4tKlS7zzzjsEQcDCwsLIy28nsScI3yRP6Q7jqG5V8fbt28exY8eoVqu37UOZciv8TO0pvrv6Dklu4BgZlmFhiQroiJyMK8kVbqwu89OVL1O2y2PYu80K317AJEwdD8+ZlZWVkYoXBMF9DejsFcK3F/bhYaG1vie1djckbWwVhtvdmIV6u6nerSYn4yxpDq+F7fjMhRDs27ePmZkZVlZWOHv2LOfPn/9MyXwS1LVJWAPc37Tw53n5zc7ObvNKb2JPEL5JU/iyLBvFUa2trW0yPjZNk2KxyOLi3U2VDwdTfEme4K3Wj4lzTck2SHSGIwI8U9GVLXwKfHvtj/hi8WkWgvmxlFhg7zyYx0WU8jwfnTNDs+yhzc7Jkyfve+LrUTl0MvCgx2Fohr2yssLKygppmjI7O8vS0tJtz4VxKXzjwJ0mZXeC+I075QO215JmY/Td2traiPjNzc0xPz8/EWRrEtYwXMf9Ko238/JbX1/nueee26ZV3rL9HdnKNmPcCt+wr2qo4g0VmXq9zvHjx6lUKqMTo9fr3deN8onSQXp5zEe9S3SyhJLtEMqQVDkEZoVItrANl3e773E5ucrz1Wdxjc+W+LYLw3zgvaLw7ZQty62Rd81mc2SWffz4carV6kPf1HY7Cd8rKuW9IkmSUWbxsBIwNTXFsWPHME2Tq1ev8tJLL3H48GEWFxc/M6X/k6Lw3W27G4nf2bNnuXDhAkeOHGF+fv6hid84bVmG96Wd2P5G5XR9fX00eeq6LkEQbPv2Pw+TQvgexg9wYw/lTj479wzh2+mhjY3TkWtrayPj4wMHDnyuIvMg5OiZ6gJhnnIxvk4oU0wRkOmIjjQomnUgJFUJzXyd31v+Fl+pPM8Bb/8W7OW9YS95120nyZBSblLx0jQdRZg9/vjjW3oj3StkaTfvw93WvnEAZ2VlhW63S7lcptFosLi4OOrnzfMcKSVf+MIX6HQ6nDlzZjShOj8/P1Z7pkkkfEMMCcuwx+/ixYsPTfwmoaS709uv1Wo8++yztFotfvCDH3Du3DnSNGVhYWEs5G9SCN9W+AEKIXb0+rXGPWa+FQiCgDAMt3UbSina7faI5HU6HUqlEvV6nVOnTlEul+/pJDQM476nJ4UQ/MzU4yTLOZ9Gy2hDIQiwREYzCylYHgXTpZW3KJhFXlh/mccLR3my+CS2sf2cfhL63rYKW02Ubo0wcxyHRqPBY489Rq1W29bIu0eYPEgpWVtbG/VnSilpNBr37K1ZqVR49tlnaTabnD59mhdffJH5+fmxTGSP65q/32dWvV7n+eef3xLiNwkl3XFtv1KpUCqVqFarhGHIyy+/zIEDB0ZfTnYKkzK0Me7EjwfBniB826XwxXG8adhi6HF2+PBh6vX6AzFzwzDIsuy+/08IwZ+cPsE3r/2QlbSFZSqkdilaNl3ZI5YWJatKpFo4wuVs7wKX42v8VPU5pp2p+97e/a7tkcLXh1KKZrM5InlRFFGtVkc5tUEQ7Om4rUf4LIakf2VlhWazieu6TE1NceLEiQcu3VerVb70pS+NUiiazSaWZXHw4MEdNSMe99DG/WAriN84S7rDZ/W4o92CIODYsWP0ej3OnTvHK6+8wr59+1hcXKRUKu3IGiaBaE1K4sf9wJqED+5hsVU9fBsf1mtra4RhSLlcpl6vc+TIEUql0kNfbA/T72YKg2/MPMnvXXuHdhaCkSG1gW8WSFTIeppTdWpoIhQSieTbK3/EieJxTpVObJt9y0+6whfH8SYVbxhhtrS0RK1W2/E0ANgbJd3d+kVUa02r1SKKolH5q1KpMDU1xWOPPbalZbAhiXn11VfpdDq8+OKLLCwsMDc3t+0Po3HasjzMdjcSv7Nnz24ycL7bl/hxK3zjfl5vXEOhUODUqVMsLS1x/vx5XnvttbuaDG/1GsaJrVL4Hhkv3yeGJd0HuRhvNT62bZt6vb5teaMPO+DgmjZ/euYp/vO1t+lJjUmG1ILALKKslPW0R2D5FEyHTt6mZBZ5v/sBy+kKXyg/xbTT2MK96WOvKXx32xelFK1Wa0Tyhl8Mhjm1kxBhNu7tbxV2C2kdeiWurKywtrY2en1mZobFxcVt9S4b9gHNzc3huu5oQnVxcZHDhw9v28NxEmxZHgb1en3k4zcc7hhO9d6J+I27h2/c1/Xt9j8IAk6ePDkifm+88Qb1ep3FxUVqtdqWr2FSCN+uVPjGvYCtgO/7KKXIsuyu39DyPN+k4g2Nj4eKzLBReruwFROtRdvlz8w8xe9f/xGtTFEwDNp5QmC6lG2LTh4SS4OyXaaTdyhYBdayVb679jIL/hGeKp7EMbfuAbSXFD7DMMjz/DOvJ0myaUhnOMU2Pz9PvV4fuxnp7bBXjsmkIgzDkW1Kq9UiCAKmpqZ46qmnKJfLvP3221QqlR07N4QQzMzMMD09zY0bNzh9+jTnz59naWmJQ4cObflDctJsWR4UQ+K3vr7+GTuXW58njxS+O6/B8zyOHz/O4uIiFy5c4M0336RSqbC0tLSl6RJSyonIkd+VPXzjXsBWYFgiCcPwthfoRuPjZrOJ53nU6/XPNT7eLmyVhUnNDfj5fSf51rX36eY9AsujK2NSZRKYAalOaGYpFauG0hGmsADNx70zXE9v8MXSUxzcoknevWbLMnS0b7fbIxWv0+mMVLy5ubktKe9vJ/ZCSXfSsLHlY2VlhSRJqNVqzMzMcPz4cXzf39btf97DZSMR2Wiie+3aNc6cOcO5c+c4evQoBw4c2PKkhnFgO7Zbq9X40pe+tIn43ToJPW5blnETjHtZg+u6PP744ywsLHDp0iXefvttisUiS0tLTE1NPfTnNynK2qSs436wJwjf8EY7HNyIomhkd7DR+Hh6enrL7S/uF1tJjqbdIl+feZxvXfuQKI+xDI9UR8RSU3N8bCNjLe32S7yWIJZtCqbHetbk++23mI6neKb8NN5D+vbtlZJulmX0ej3a7TYvv/wyWmvq9fo9T1BOEiaZjN4rJoG0pmk6Iv2rq6uj/syjR49Sr9c/94a/lWt/kOM5jM3at28fV69e5cyZM5w9e3ZE/B72HNmtPXx3w63Eb6MFzk96Sfd+SOfGdIlLly7xox/9CM/zWFpaYmZm5oH3ZRKILzzq4RsbDMPANE3+zt/5O7z99ttEUcRv/MZvjExsNxofjxtbrYYd9Kv8yZnH+fa1DwGJ0B6eKVnLEiqWR9U26ciQPLNwjQKxiiibJdpZG601v3vj93m29DQLwZEHPvF2a0lXaz3KNB4aZtu2jWVZnDhx4p6tdiYVu/GYjBsbY+1WVlbodDoUi0WmpqbGpuzey3H8PDJgGAaHDh3iwIEDXL58mY8//nik+D1Mnuc4z6+dOAa3I36maY7FAgcmg+g8yBosy2JxcZEjR47wySef8MEHH3D69GmWlpbYv3//fR/LSfgchuuYFF5xr9h2wvfrv/7r/O2//bf51V/9Vf7hP/yHW/a+169f5w/+4A/4/d//ff7gD/4AKSUfffQRf+Wv/BV+8Rd/8Z6iy8aB7Sh/zhfq/ImZY/zx9TN9uxZlUDYs2nmEhUHR8kl1Sk9KimYRqXMKZkAoI2zD5vX2m1xMPuGLpaeo2vc/XbWbFL48z0fl/aEP2tAw+8knn+T69eu0Wi2q1eq4l/pQmAR1bLdgoyH2ysoKeZ5Tq9U4ePAgjUYD19255JrthGEYHD58mEOHDvHJJ5/w4Ycfjojf9PT0fT9496rCdys2Er8333yT999/n16vt+Om17tN4bsVpmkyPz/P4cOHuXz5Mh999BGnT59mcXGRgwcP3vP7Tgrhk1JOZO/252FbCd/3v/99fuM3foOnnnpqy97zBz/4Ab/yK7/CO++8wzPPPMMv/MIv8B//43/kL/yFv8A/+Af/gGeffXbLtrUd2K5+t2OlGTKleWn5DJYpiCUEZkCsYlaTjCkvwCKlmYWUrQKmYWAZCo1GIFhJ1/j9le/wWGGJJwsn7muoY5IVvqFiMyR4rVZrFGF28uRJKpXKppvHXiFKe2U/tgtJkozMj9fW1nAch6mpKZ544gmq1equ++Z+P8faMAyOHDnC7Owsn3zyCe+99x6+73Ps2DEajcZ9kYq91MN3N9RqNTzPY3Z2ltXVVV544QXm5uZYWFjYEeI3CURnK8i2aZrMzc0xOzvLlStXOHfuHGfPnmVhYYHZ2dm77uMkGS9PwjruB9tG+LrdLn/tr/01/vk//+f83b/7d7fsfWdnZ/m1X/s1vvGNbzA9PT16PQiCHY9XexCYprltatiJyj4ymfPaygUMU5KgcQ0P285YSeNBideilXfw8cilScU1scgJVUTBLPBB9yOuxNc4WXyCeX/uni7uSVP4blVshj2c99Jcv1eI0riVgK3AVh6LYYzZkOQNY8ympqY2xZhtNXbyONzvtoaKy+zsLJcuXeKHP/whxWKRY8eOUa/X7/r/40zaGGcfXblcZmFhgfX19ZGP304Qv92u8N2KjXmy165d4+zZsyPid/jw4TuSqUkgvlu5jj3Rw/c3/sbf4M/9uT/Hz//8z28p4du3bx9/9a/+1c+8vhPxaluB7Z5ofbp+iFxrfrB+CQNNlGd4lkvFsujlMT0pqNhFQhVhGAZRbmAJm7Jp0ZEdSlaJVt7i3c77nA7P8VzlC9Ttz/dSmgSFLwzDTebHwzSD+1VsJmFftgp7ZT8eFHmes76+PiJ5w7zrh0nKmVQ8zLEe9ljNzc1x4cIF3nrrLSqVCkePHv1cH7VxEZBxEp+N267Vajz33HM0m81Rj992Er9xE53hc2ur1zAcLtq/fz83btzg7NmznDt3jvn5eebm5j7jojHuz2GIRwrfAP/m3/wb3nrrLb7//e9vx9vfFp7n7QqFbycsTJ5tzJIpyTvNK1iGTZSnmIaBb3qkOmM5Spnxy2RERCqhaAZcT0KmnDKdrE3RCujkHTSab678IY8HRzlZPI5vemPbp1shpdwUYTb0UxymGfi+/8CTjXuBKO2V/bhfRFE0Injr6+ufW77fbuz05/+wJMiyLI4ePToifm+++Sb1ep2jR4/eMTnhJ43w3a6kWa1Wd4T4jZvoDM/n7VrDRjuhlZUVzp49y/nz50cpKMN+uXF/DkM8GtoAPvnkE371V3+Vb3/723je7QnCduCRwrcZX54+Qq40P2xeBsMm1xmtTFJxXSzHYDkJKVseJcuhmbUo2UVuJCENt06qe7imR6giHOHw495priTXWPTnOV587DMRbTtV0h1mkm5MRRlaZGxVhNmklacfFOMu/ewUlFK02+0RyQvDcBPxH6cF026F4zg89thjzM/Pc+7cOd544w0ajQbHjh3blJU6rtLquBW+O+3zdhO/cZd0t0vhuxVCCKanp5mamhqloAyJ3/z8/MQYHk/KOu4HW074fvCDH3Djxg2eeeaZ0WtSSl588UX+8T/+xyRJsi2s2Pf9XaPwaa135FvKV2eOIJXix53rpFrj2zatLKVo2VQsk66M6eZQcyt08w6B6dFKY0xhU3Escp2h0ZjCpCdDPuj+mNPhWb5QOrWpv2+7yqC3izCrVCrbmoqyl5Sx3b4fdzoWWZZt8sYbpp4sLCxQr9fHkl08bmwHGXAchyeeeIL5+flRVurMzAxHjx6lWCyOtYdvEkq6d8JG4rexx29+fv6hJr7HrWztFOEbYnhdNxoN1tfXOXfuHC+88AJa67FZ42zEVil8u7qH70/9qT/Fj370o02v/ff//X/PE088wd/6W39r2yRQ3/eJomhb3nsrMbxYduJmKYTga/sXUEJzurVMnGUElkcni7CFQWD3S7w34phpt4rUEYYwEAiWk5iiWUSYGa5hEcoQ27CJVMTrrTc5HZ7lyeIJDrj7tlQVS5Jk9CBfW1sbGd1uV7bxrdgrhG+v7Af0r5Vhj+YwxqxQKNBoNHj66acpl8sTq2hO6rruB8PIrKHi9+qrr7J//3601mOxpRh32sW9brtarfLss8+OiN+LL774UMRvnPs93D6Mb0L62WefpdVq8frrr/P2229z6NAhFhcXtz3h5k54pPABpVKJJ598ctNrw5vzra9vJYIg2FWEb6fq/0II/sS+RbSEH3dvEGcSx3TIyFiPM2qei2WZLCc9SpZPYGm6skfR9GnnIWUCMBRlq9TP5TULdGWPdt7hu+svM+1MUaVERZfuvpjbYFiSG5K84fTkMKe2WCzu+KTjXiBKu51oKKUIw5BOp8Prr78+ijHbt28fJ06c2NF2kd2C7T7mvu9z8uRJFhYWOHv2LFeuXKFUKnH48OEdf+hOssJ3K4bEr9VqcebMGV588UUOHz7MwsLCfRG/cU4nw02FcZz3lkqlghCCL3zhC1y9epWXXnqJAwcOjCbtdxJb8Qzf6c9yz9Q+dpvCt5N9YkII/uTBRbgq+KB1DWEKhBQElmY9TShbLjW7QCsPSZWFZwREKqZiFWjlXcpWkXaWUHfLdGWbklWkm3cpmAWuJzc4ry5QVWWmsum7TvTC5riqtbU1hBDU63Xm5ubGPj25Vwgf7L6S7vC8WFlZYW1tDeiXFY8dO0atVtt1DdJbibs9GHbyWAdBwKlTp8iyjDAMeemll5idnWVxcXFHiPi4S7oPSroqlcpDEb9JUPjGrWgN26FKpRIzMzP0ej3OnTvHK6+8wr59+1hcXNzUZ7qdeDSlewd897vf3fZt7BaFTwiBEGLHexCEEPzJAwsYCN5vXce1bDKZU7J8OnmMJQ2KVkCiE3oypygK5CqnZBbo5D0C0+NGHFN3aqQyxjcDerJHySzSER1atPkvy9/msHeIU8UT1J2bxG/ogbYxwqxUKtFoNDh8+PBEleT2CuHbDfsxjLYbDlx0Op3ReTE/Pz9SfKempsa91InHOI61ZVns37+fffv2bSIwi4uL25pOMk47mK3Y9oMSv0lR+MaJ4Xk+JFqFQoFTp06xtLQ06jOdnp5mcXHxjpPlW4VHJd0xIggCWq3WuJdxTxiHjQn0ScDPHegHgL/fvI5tm0Rpjme6JDplLU6Z9gukOqaVxZQtH02OZ7gkKsM2LDpZikZQtm1s4dCRXXzDo5N3mTFn+DS+zI10hSmzzsFsP7KZjTzQGo0Ghw4d4tSpUxMbV7VXfPgmhUDfiqEp9pDk5XlOvV6/bYzZUOXbrdjK8+he3mscx1wIQalU4otf/CLtdntEYLbTj26chA+27nO+X+I3bsI1boURGAklt34OQRBw8uTJEfF74403qNfrLC4ufq6X5INiSP4fKXxjgu/7XL9+fdzLuCeMk1QIIfgTBxcQAj5sL2NgorTGES6uLVmJI8q2R812WE07lG2fbiaoOQEpCZnOcQ2b9SzBEQ5l22NVX8fUBqvRGkZqsByvcDn+lLedHzLrH+SZJ55msbGwK74N7QZl7F4wSfsRx/GoVLu+vj6KMTt+/DjVanVXnBeP8Fncen6Vy2WeeeaZTbYk8/PzzM/Pb+lwx7gJ31afrxuJ33C443bEb9yEa9yEc7gGuPMxGA4YLS4ujrwkK5UKS0tL1Ov1Lfv87kQ87xePevgeELulpAvjU/iG6Ct9/fLuh81lpJZgCVCCim3SziLC3KLilOjkXTzDoZ0pbMOlZLk08w4ly6ed9UhjQbMjcTJNmKziuh6VoIJRM6i5VTp5hx/k73Jx/VOeKBzjoHtg7N8SPw97xYcPxht9NRzEWVlZodfrjex0jh49ShAE9xzZ9wj3hnEc6zsRr6Etyfr6OqdPn+bixYssLCxw5MiRLbHMGTfh265tVyoVnnnmmRHxe+GFFzaVyMetKE0S4bvbMXBdl8cff5yFhQUuXrzI22+/TbFYZGlpiampqYc+hsN1PFL4xoTdMrQBfcI3bh8hIQRfO7iAgcGP1q8hMwkGSCUomD6RSlhLJHWnRE5CrhWmNvik3aMgFRfTTxGxIrM1JdOnYymO7nsc28pR5EgtaWdtClaBUIY08zZ/vPYyFavMyeJxjviznzFwngRMkjL2MNjp/cjznLW1tVGpVmtNo9Fgbm6ORqPxwArPbj8WW0UOJpUgf942a7Uazz//PKurq5w+fZoLFy6MItwe5kE5LsK3U7YkdyJ+WZaNxQZniHH3EMLNvrl7PQbDoa+FhQUuXbrEu+++i+/7LC0tMTMz88DHcqsUvp3GniJ8u8F4Gcav8G3Ezxw8gmOYvLH8CWjQhiIDAsNDmpLlOMLONSoNuRyv40iDdcfgQHGaQtXEdW2ut5cpRC5tlVCSBQwjJzCgo9tEKsYxHGIZUbKKtPM232t9nw+6H3DEn+NYsIR3h8i2cWAvEb7txkZvvGazie/7TE1N8eSTT+54jNlPOiZJ4bsVjUaDer3OysoKp0+f5vz58ywuLnL48OEHIn7jVvh26ry+lfgtLy9TLpc5fPjwWGyJJkXhe5BzZmNe9KeffsoHH3zA6dOnWVpaYv/+/fd9Pk2CRc2DYM8Qvkcl3QfH8/tnsQyD7y1/Sq4FZDnLcZssSsiykMhQVIIC0+UDWL6gaHusZyG5cCHXuMKhqVtMGR7tvEvJKnA1DZl2auSiB4AhDDpZh6JdpJf3iFTC+90Peb/7IUv+AkuFBep2fcyfxN4hfLD1JGBj8snKygpRFI1izB5//PFHMWZjxk4/fO7n/NoYl7W8vDwifktLS8zOzt4XkRg34dvpbQ+J35tvvkkURZt6/HaS+E0K4XuYNViWxfz8PIcPH+by5ct89NFHnD59msXFRQ4ePHjP771VE7qPevgeELutpDtJhE8pxbzlcTU1eOnqJTKdEQQ+dmDTqB3Edyx6KkEYBrawkEpSsjxCmWBj0cstnNwjVzmOYdOTEb7pspz2KFsFDFMRGIqO7tDLQ1zTI5ExgRkQyh4f985wJb2Kb3gcDZY44s+Nrdy7VwjfVu3HMMZs6I0nhGBqaorFxcVtjzHbbd+efxJxv8dICMHMzAzT09Ncv359E/G71wfuTxrhG8KyLGZnZ2k0Gp8Z7tgJ4rcXCN8QpmkyNzfH7OwsV65c4dy5c5w9e5aFhYV7+gKyU8EJW409Q/geKXz3h+Hk5OrqKuvr65imyWKjQe2xJ3mn10RakGuJZUGuoWD6KHJCmVHARdGf1pVagxB0paYkXSqOSTvvILXs27jkIYH2WJcp026NRHeRSmIIk1CGlKwS3bxLJGNylfO91hv8qPMes/4sS/4CVbu6o5/LT7otyzDGbGVlhZWVFdrtNoVCgampKebm5iiVSjv6wNvNx2In1z4OEvQw2xRCjDz8rl69ypkzZzh37hxHjx7lwIHPH+waZw/fJEzJlsvlkQ3OThK/vUT4hjAMg9nZWQ4dOsTVq1c3Eb/PaznYjR58sIcI3yOF7/OxsRy3urpKGIajCLOFhYVNEWbT62t855OzWJZBmKX4jkUqcyzDomBaNNMeFdunk2TUPYdcxKxriSVMrkYxdbuIJsESAikUqcqwDIvrSY+yVcQxFK4h6cke7bxL0QwIZYgWGgODUIVcjq/wce9j6nado/4ih/3DOMb2J3AMlbFxuvlvFe6VcCilWF9fHyl5aZpSq9XYv38/J0+efBRj9gi3xVYQWiEEBw8eZP/+/Vy5coWPP/54RPz27dt322twnArfOB/yt+737YjfdiaeTArh2w5lbXgeHjhwgBs3bnD27FnOnTvH/Pw8c3Nzn6lkPFL4xoxHhO+zSJKEtbW1TRFmwxSDer1+x4mvY7U6rmHwrU/O4QJJ1id7iUrR2iYQHj2ZULBc2mkO2iHApp3HVO2AtSykagVoQ1I2bZp5F184GMKgKyNc7RCnKdNOlVyEhIPBjlSlBKZPpEJ6skvRLLKWrfG9dI0Peh/ScOrMe/Psd/djiO258ex2kjfE3Uq6SZJsirezLIupqSkee+yxiYkx2yvHYiew2xS+WzFUWg4ePMinn37Khx9+yNmzZzl27BjT09ObtjNOwjcJCt+tGBK/TqczMnDeDuI3boUTtl9ZE0Kwb98+ZmZmWFlZ4ezZs5w/f54jR45w5MiR0TPzUQ/fmPGopLvZ/2wYVTVU8e63HDdXqfKL5jG+efE0odRIoVC5QAkFhoGrPUBhCYNEw3omOWSVaKUdqk7Aetqj6hRoxhHTboWualMwfTp5iNQSy7C4MejxM4XEEppc5ISDad6u7NLNu/imT6QiQhWRxFe5FF/CN3wOe7Mc9g4zZU9v6UUzfK/d+g1uiFs/k40xZisrK3S7XUqlElNTU8zPz29SeCcJu7mkC3uftG71/hmGwdzcHIcOHeKTTz7hvffew/d9jh49OvJP+0kv6d4Jw8ST7SJ+k6Lw7cQaNg4Zra2tbSJ+8/Pzu/b5sGcI30+qwjdsqh8qNVpr6vX6qLn3YaKNDhRL/FcLT/B7F07TlDGB4xFmCYFjkZGjc6PvKUiMq02uhSEzXplcpZRtn1YWUjQ9rkYhU24FrXMqVoG27OEbLlIoOnlEYLqsZzFVu4RrZLSzLkWrQKh6pDrDFjaZznAMB6lzIhXxaXyZM+HH+GbAYfcwB91DTDnTD638DW/ou51oQP/muLy8PCrVSim37Nx4hMnCuGxZtgumaTI/P8/s7CyffPIJ7777LoVCgWPHjj0q6d4F20X8fpII3xDDqlij0WB9fX3ki1itVndsDVuJPUX4siwjz/NtnRzcCpim+cCE73aB84VCgUajwalTpyiXy1t6QdSDgP9q8XH+j/Mfs5xGFGyXXpbimiZSSIQ2yTKB0lB3A5bjHiXbxTEFvukQqYTAclhPQ3zTQWtF2SnRlh3KdkA7C0lUhmPYtPKYihUgtUBpE0c4pDrFNjxynROrmKJZoCe7hCqkZJboyS4fhx9zNblCrjMOuoc46M4y4+57oEnf3U744jhmZWWFGzduoLXmzJkzTE1NceLEicmMMdMakCAm+5rdDdjNJd07wbKsUQP9MDFBKUW326XRaGzrtm/FpJZ074StJn6TQPjGOSxRq9V47rnnaLVa/OhHP6Lb7fL++++zuLiI7/tjWdP9woLJOJAPi6EHWBRFlEqlMa/m83G/Ct8wxWCo5A2VmtsFzm8HSp7Hf730BL93/gzXki6WNpFCk0iN4SgKtsuNTKGlQd0t0MxCNA6J1NS8ArGKMYVJqiRCCK7HKQ2n0lcCrQId2cMWLrmWNLMeFStgOQ1xsKg4AVJHFMyAruzRlT2KZpGe6tLOO5QGSR7tvEPRCjgXneVseIaqXaFolTjgHmS/cxDfvDePuN1G+IZl/OEXgGGMWaVSodls8uUvf3nyyoo6wlAXMNRZhD6HFgfJrb8It6xz4tb9CJ/BTh0jy7JYWlpibm6O7373u3z00UcsLy9z7NgxKpXKjqxhEgjfg2x/I/HbONyxsLBwX0Rl3ArnpKyhUqlw8OBBVldXyfOcl156iQMHDrC4uEihULiv9xpLD99euLEOT9w4jncF4cvz/I6/11rT6/VGBK/VahEEAY1Gg5MnT44lxcBzHP5PS4/x++fO8kncIctzSrZLJ0nwTBMHk1gqskxSdgK6MsYyTLqpxBAOJdugmfdwhY0UilaWYgiBa0DRKtBVPYqmTyeP6MgYz3CJVUIooZdrKrZJ0ez3AnbzHoE16O2TMbZhk6mMUN4c/mjlbRIVcyX5FK01+939VKwaM85+ppwZrDsoSruB8N0pxuzIkSOjYZw4jrl48eJkXNs6A/0pQp0HeRGLFQTp6NdCf4Shvo8yn//sv07wcbgbHtmybD1s28ayLJ588knW1tZ44403RhnN5XJ5W7c97h6+hyU7pVKJL3zhCyPi99JLL3Ho0KF7VqiUUmONdoO+wjcJvXNSSjzP49SpU/R6Pc6dO8crr7zCvn37WFxcnFgOsmcIn+M4GIZBGIbjXspdIYT4jMKX5/nIGmN1dZUsy6jVaszMzHD8+PGJkIxty+LPHT3Gdy9d5KP1FbJMUrJc2llEnoOBwDUtVqKEfUFf2cu0whEWV8KYKS8g1SmB6dDNYzxh05OSTq5ouBWkTqlYAW0ZkmmJJSx6MqJiF2nnPdo5VOwqtqFQOh319mltYQgDpRVaCwwMFAqpNSb90vNyeoNmvs7p8ENMYbDfOUjVrtKwZ6jZ0yMCOKmEb+iNt7q6SrPZHH0BuFsZfzxEIEGrS6AuIfQKpj4D+mZ2tBQVrA2ED8DKv0MmZtHGwR1d625AmqYope5bPdhujOsa0VrjOA6PP/448/PznDt3jtdff53p6WmOHTtGsVjctu2OU13aKsL5oMRvEiqBk7CG4TqGxLNQKHDq1CmWlpY4f/48r732GtPT0ywuLu6Y+nyv2DONM0KIXZOnO+zhuzWL1PM8Go0GTzzxBNVqdSK+ydwKwzD4+vwCvmny1o2rSAGOstAawlhSDVyqLtyIQiq2S9kyWMt7VB2PlTim5gSgJFW7wHrWo2R5dPOYdpYB4ApByS7Sll0C00EiaWZdKnaRTt6jk8dYwiSRkort45keieoSmD6h7pHqlMIgwSPTGYHhE6keSvTbxUxhILXiSvIp69kNfqzfxcBgxjlA0SpTt6fJzXTsxthD38QhyYuiiFqtxvT0NE888cRdvwBsJK7bSfi0Vmi9glafItVlDH0F9FVgQAa0wDCKCDZ8EdMtlGhg0NzwTgor/w9k9v8VxPi/3GwVHuSzH5pfLy8vj8yvhz5hR48eve2xHxf5Grc9iuu6HD9+nIWFBc6dO8err77Kvn37OHr06JYT5HGXdLeacN4v8ZsEsjUJa4Db9xIGQcDJkydHxO+NN96gXq+zuLhIrVYb00o3Y88QPpj8SV0pJc1mc3QTX15eplar7cos0q8cniOwHV679immZWPkgoJl045TSo7DlGOynsakysQ3PWKZUXMCmllIzQ5opjENt0gr71K2A1pZSMF06MmMroSGW0GQUzAsOrpHOw8pmB6hjDGEhWkYtPOUEgGhdLGETdGo0lNNejKkZPatXUIVUTTL9FSnry4aAZHuoYF8qAAiuZp8SlEWORd9yJXqFXS7Sy2rUbUalK06FauOZxS29YafpummiWvDMGg0GiwtLVGr1e5rGGk71ql1jtIrSHUVqa6CbiH0WdAb1DpRxdDqZj+e0GQ6w8ZEcFPlU2oVzCqG7tz8V93Cyn+X3PpvQYg9E3N3L9hI8FdWVkiSZNSne/z4cZRSXL58mZdeeonDhw+zuLj4md7dn4SS7p2263keJ06cYGFhgbNnz/LKK69w4MABlpaWtuy+Ou6S7naRnXslfpNAtibFDuXzytue53H8+HEWFxe5cOECb775JpVKhaWlJer1+qZz6JEP30NgEr34oijaFGFm2za+7xMEAc8888zETxR/Hp7ev5/AtvnO+bPYSpAmkpLv0k4SHNOk6vi0sxipBZ7hooSiZgespT0qjs+1KGLaLaNUTtXuk8GK5dPKI1ppgikEhgEVu0JXdkhkf5o3VilF06crQzp5SMUqsJ510VpTs+vYhuqbOBsBoQrp5J2RzUuoQopmiZ7skOqMwAiQuosQgkjGWKJ/EXdVG1taLKefAmAIE8/w8M0CRbNKyaxSMMsUzSquETywktPr9UYqXrvdplgsPpBv4udt436hdIrUqyi1itTLSLVMrm5gkqFZ3/jmOEZ1Uz+e0k2EaCBY2/COMZIaJi0EQyIISvUQwkaQjf7SUKcx5WtI66fve927DcNezKF1zjCn+OjRo9Tr9dGDLcsyhBA89dRTLCwscPr0aV588UWOHDnCwsLC2PqqJonwDeH7Pk8++eSI+L388sscOnSIpaWlh/aimwSFbzu3PyR+3W6XM2fOfIb4TQLhk1KOvY9wuI67fRau6/L444+zsLAwmjAvFossLS2NPCV3GruXbdwGk6Dw3S7CrFKpjJSaQqHA9evXuXLlyq4me0McazQITJN/fP4CljKQmcbRJlprOnFG2fVJVNbP4BUOvTSh6gW0s5iS7bGaRhQsB7SiYge08nBE/ixhk6qca1FIzS5jmQohcnKR05URZavf29fKupTsgK4MaecxrmERK4UjTGpODUVMJGNcwyXRCd28Q8EqEMo+ASxbZXqyjUKCsBH0laVO3qZoFohVD6UluZasZzdYy64DUDRLRLKNIUx8o0TVruMID88o4ptFXFHAMwNs4Y8u7o0q7+rqKmmaUq/XOXDgAE8++eSWTVzfqRdRa43SKYo2UnXIdRupW2jdQ+rrSLWO0h3AxBYmmpstEgobCxtENtwImeriCBdIRn8n1QqWUQJ6G/53HUM0ELq5YTUZEg9rA+EDMOV3UcYse+z2BNy0zVlZWWF9fZ0gCJiamuLpp5+mXC7f9SFQKpV45plnWF9fHxG/hYWFsahP4+zhu9u+FgoFnnrqKRYXF0eWJHdSRu9nu+Pu4duJ7ReLxRHxGyp+Bw8eJMuysRO+SVL47nUdjuNw7NgxFhYWuHTpEu+++y6+77O0tMTs7OyOXrd76o7qed5YevhujakyTXOUUVuv1z9D7MaRpbudOFSt8nypzAo2iQTfNonynMARtOOEwLapWDbrWUjZ8VjphewPioQqxjMtojzDNkxuRCkzXplExiPSV7I8ujqmlUf42iHKJQ23jDLiAdEr0M1DejLGNWwSlSF1PwEk1ZJWlpNpsAwPCwvPtElUj0jGI5+/VtahbBUJVZdUxdiq/0AQQhCpBFs45DolVTGBWSRS/TJkN+8SmAGJCunJJqnqAXmfOAKeEZDpDkppZAx5zyAOezjCp1JsUFuaolKs4FgOpojocZ0kMzCEjSFMBCYCgRDGSBnTDM8bhdYSpXM0ORo5IHIpWqdksgfl97mehJg5SLWK0iG57qJ0hmcUBsSuDwMH08j7E7UASCQeBgnDfjxNhqKEoTOGQp0Wkgwfi4TRbUsIpE4xhQXcnEbP1Qq2UUHom0QQ3UEaDcxNRFBj5f8Bg198mNNy7BhmMg9tc1ZWVka2OdPT0zz22GMPXG6s1Wp86UtfYnV1lY8//hgpJVevXqVQKOy4Me1O436UriF56XQ6I4I8JH73azw+boVvpxW2YrHI008/PSJ+zWZz1GYyriHCSVAZ4cH8AC3LYnFxkbm5OT799FM++ugjpqend/Sz3FOELwiCHZnSVUptijDrdrujCLN7ianaa4QPoOZ5fPXYUX7/4iU6eYpvWkRpPjBqTvCx8bCJspS667McRQS2jW8aSCNBobENk9U0xhICoaE0sGmpWj6tPCRVOZZhspJGVKwAEwutwDdcIpWgtMDEJNU5BdNHyohYZRQtn54MWVOSQPskyqVkuZjCwNIdcpHRkxGu4ZLqhNRM8UURSYpCobFG/WSh7BKYpT7pE5pE9YmN1DmZzvDNgER2yLKMdtxGRYJENbEdB89zma5Po8wQLVZZY5U4L5Kk7dHnGBglsg3kxzWKZKo9aokzcTBFhhoQKa01vlkiUzffwxYBWrUQxau08x5CCnyzhNQtoP+QTnXaV+sG6poixdBFoDUibkr3MEQNNpRnJR0MUd/0mqKLoo654TVNitIVDFob+vkEmU6wsRAbiKCWKyijhkEbRUCOjVQZtv1f0Hr3lXaHKm6apnz44YcopUZl+kajsWUlqWEJuNFo8O1vf5urV69y9epVjh07xoEDB7adnEyywncrhspoq9XizJkzvPDCC/ddEh9nD9/wy8M4tj8kfp1OB6XUSPFbXFzc8b7zSSJ8D6o0WpbF/Pw8R44c2XYP3c9se0e3ts3YzindWxvqhRDU63Xm5uao1+v39W1xLxI+wzAIbJu/eupJfvu991lNYixTIHONIQ2koTENE6EFWkHZ8ejmCbkyEdrAc0xykZMoiUbQzXOkUkx5JRKVUHUKtLIevuEgMWhm/azeG0mIKwyqbplURbiGQ6Tivp2LVaCd9+jm0WDKt0soI8pWgVbeBaBglNCkOKaFITSGzhFC0JMdKk6VREf9yV+jSKQ7CCCSXRzDJ9UREomFj9IpSZKwHq+jQ8iNHq7r4ZZc9gVHyUX/i0iuY3yjQKr7P4eyi2cGZKr/c0+2KZhFMt1fX6K6+EaVdEACJSkWRdAtEAPyJiMsw0Pq/rmf6RBX1IH+tKwQBokKcYSHGpRo+6pgEUFrdAxz3cUxGmi9OnotU+s4ZhW9gYSmag3XqKA3/e8qhlHbVLJVtBCijtjY90eCpIxJTl859JCGR6YkAg+9YXLXMEKKBRt47r7OxXFgeH9YWVlhbW1tpOofPnyYubm5bQ98F0KMCM3HH3/MuXPneOyxx5ie3tqs6Y0Yl/cfPLiyWKlUePbZZ1lfXx8Rv/n5eebn5+/aYjPOku5wv8dJdgzDYGFhgUKhMOqP3GniNymEbytKy8PrdiexpwjfVip8Wms6nc6I5LXbbUqlEo1Gg8OHD99Tv82dYBgGUsq7/+EuwtBb0DJN/vJTp/i9Dz/mQqeJNg0Cx6WXphRck0xopII8lwSWQ6z6Sk+aCyzDpmo5rA0mdiORsJ4OSoUaSmZAR/bLvG2d0ExDipZLTya0M0mqBEXLpGyWaat2387FKtKRPZppfxq4J0NaWZeyXaAre/RUSNksspYNCWCVPG9hUUFjYWIjyeip3qBnrzOY8JXoHMKkx2q0io4AN8NzPdyGS80/MCJ1KRmOcMl1AgIynWNg9VU6AZmWCGGidT+JJFZ9j0E1UN9C2cYzC+SDUmiiu/hGjUz3iZQSEq2dfu/hoPwa6xZK3rwJaxQ5DoYWIPp/k9PFFXWUvqnMJXId16ygN6qBqosjAvTAWqX/Wg/H8G72+AlBptr9fkVu9tFKtYppVBG0QWuUCMixgOn+YAhdGJBbgwALwcjSBSgEP0LKDzDNEw9xdm4Pht6Iy8vLo4Gbqampkcr/ve99b8ujDu+EIfmanZ3l4MGDfPLJJ7z33nv4vs9jjz22bTFku43wDTEsia+trXH69GkuXrzIwsICc3NzdyR+4yzpbtV+PwyGZOvWUu9OEr9JMl5+2Ov60dDGQ+JhFb4syzZFmGmtqdfrHDp0iFOnTm2Z/LpXFb6NN6VfPPE4f/zxWd5evo6NRcly6GUppjDAVNiGRSuKmQoCYp2SyAxTONzoxTT8gEgnFEyProzxDJtuliNTybRXRqqMitkv88YywzNtIplRtjzaeUQr09TtCoYhyZQkMDxCFdPLIzyzn+DRyUMC0yNSMa1BRFtPhvRUhFY2a3lCLwVP+NiGj2MIUqnRqU07XiGJE3QqsPx+76hbcam6VWI1VOZSLMNB6hSNQmkLgdEnXjrDFQFKZ4N+t/7POf3/VUi08ED3VTAhIFMZ5i0k0DdL5IM+vIwI1yiTqybQ/+YoRYrQHsOyrdQxlqj2Cd7gZhOrJp5RQW0geJmKsAwXdH8QQwwKyCYmDK1VhETibiKQWvT/zh78ncZCG0VSZSFEg0w3UToCIrTWeEaZjcMeihApaph6HW52BJJn/wFDzCCMqS06Wx8MWutN1ilxHFOr1di/f/+WDtw8KIYPEMMwOHLkCIcOHRpNB1YqFR577LEtNYLdjQrfrajX6zz//POsrq5y+vRpLly4wOLiIocPH/4MsRhnSXf4vJikoZGNxO/cuXM7Qvz2ksI3Duwpwne/tixaa7rd7iYVb5hg8OSTT25bhNleJHy3Sw/5k48tUQsCvnX6DKWKh6NMpAlxqil7BlXXYy2KKDoOVdsZ2bWsxBF1x0coRdX2WU/7ql5PKtbTBEMY2AZU7RLNvIupwDIM2nlM1S7QynusZyFFy6MrczxhUnMrpDoiVxJTmEgtSaTENiwy8v7Qh3BIdEooUmrUUChCGWNFBp9EayRxgoGg5AeUCw3K0wGuZZHrHrmKCWWIZ3qkKkahAGukumU6xTeKJLqNABIdEphVEtUnWokOCYzK6Of+gEiFTDUBUORYIkCrDCH6fC0ZDJSogS1Kojp4Rm30PxgaiYG9QflLdBvPqCMH6mBfrQuxDRc9IHj9AZAAg5TRwIaOwaiAXmNIxqQOMUQNrVcRwkfjk2GRaAulmyidgOgTUoMCBjfPj34fYb/MzIZJYKnXMUQdMVifRoNOydL/Hdv9FYTYWVJ1a4wd8MDeiNuJ2/XTDfNnDx8+PDKCnZqa2rI0inH08G2H0rWxF3J5eZkzZ85w/vz5EfEbPgMmQeGbJMI3RLFYHE1EbzfxmxTCtxUK3zgwGXerLcK92LIMI8yGN3Ap5ehb+smTJx/aq+lesBcJ30aFbyO+MHuAqufxb959j3LZQ0tNxXLpxAkFx6Hu+qynMZnUFEyPVOXUHZ+1tE/61sOEml+kmfcoWx6tLMIzDeJc0s1SGm4Z0+hPqfZIWE971Jw+6QtVgmfYxCpjPc3JlMAzXYqWRS5CMp3h4JIj0X1dDZP+RbzcW8dqa3pZiGVZNLwqhUYBx3HwDIdcZzRlis4TSnaRMAffdBBS4Bo+iBylUxyjRKz6/nOR6lEwK8QDUtfLWxSsEslg6rcn2wRmiXT4c96mYFXIRiQwxDOqo6EOjUTjI8hulnJlG9cMyNXNnkFX1AYEb6DqyRaeWUAOSsRaKKR2MchgQMqkDjGM2oDg9ZGpDrbYByJDaQuJIFIZQh9AsQ4b0jRcowKb/Pk+OwCikeS4WNoAoTZsZw1HlDa9n9bL5NnvYNl/edsfukmSbLJO8TyPqakpTp06RaVSmdgoyjutaxhDduTIEc6ePcurr766ZabEu13h2wghBDMzM0xPT3P9+vUR8VtaWuLQoUNj7eEbPi8moaR7JwyJ39LS0qjUux3m15NAtB4pfBOA2yl8w5iioYrXbDbxfZ9Go8GJEyeoVqs7fgINydG4x/y3ErdT+IaYn6rx//ipZ/kXb7yN7Vukup/B20kTLGFSsV3aMkVrA9uw0ULTcAJWkh511+d6L2LaK4JWI7uWouUSSs16GhKYDolW1J0isY5ojdS9GA1YwhxM63r0ZEyY5pTMoF8eNUwKwmElukEraaOinFz2Bzf8oMTBehVMQEPF8gllSKJSClZAJHsIIejmIf6gbBwCvvZIVQYI0BkVewZNhmUIEgm2UQcylMiIZYItXHKSQf9eOOr3E0IQyi6+EZAP+gEj2cI3y2S6P5Wb6QhPVMh1s8/nBORKYmy4tGPVwTfq5APVDCFIlcQSNnpU7g0H07c9EDYam1gJTHEQqVNynZHrDAjxDB/JTUsXdIxjFNAb7FZi2cQzy2h9c3q4PwBSR28gkf3tVjH02s0qroBMx8Dm6UklP0AaL2NZP3sPZ+S9Y6j0D0necOp+enr6oSK6Ji0lxPM8Tp48ycLCAmfOnOHll19mdnaWpaWlBypH74WS7u0ghGD//v3s27ePq1evcubMGc6dO0epVBqbojssJ08y4Rti6IG4HcRvUpS1XdvDt5dIRxAErK2t0el0+OY3v8ns7CzQn6Ab5pBOQoTZ8ETZrd8Sboc7KXxDVAsBv/qzP8VvvPoWLRnhlAtYysC0BEmmqVge0pBEMseQFp0kZdorsJqE1Nx+mbfqeMQqp+4WWMtCyrZHO4uJZY5lmtyIY6pWgGf0FbuhulcwXZRUdPOYihX0zZrTHk4m+DS8QZIklIRNuegTVGysdguraOMFPp7hkugYLTShTHAMh1Sl9PKQktVP7ABNpiUmFpKcSMWUB2keCEEr61KwfDpZn7SZwsQWgkwLwMLWNo7lY6AxhUGCwBYlQCHQ5Fpg4vR75YQa/FwBZD+6DIVtTN0coNACIRxUvorQFQzhkCiBKWbQKDQgNaRagEhQWpKpHERCYNTJ1Doj/zzdV0UlN733Ep1hCxc97L8TmlwrLCz04P/6peIUe4Mpc/+1Fq4o9oc1Bsh0E0c0ENycDtYiI9POxvkNAGT2bRAHsMyj932OboRSamSAvby8TJ7n1Ot1ZmdnaTQa9+3Rtt242z36fshlEARbktqxVwnfEMP84v3793P16lU+/PBDAK5evcr+/ft3dN8n4Tl9vz2M20H8JuGZqbWeiHU8CCwp5cT0oTwMzp07xzvvvMPrr7/Ob/7mb1Kv1/m7f/fv8vWvf51arTZRB2evEr67lalty+Jv/OyX+Lc/+CHv3VhldqZKlGf4jkUsc2xl4Bs2YZ5RtF2WexEzQZFYZZQdl1aWULIdrvViZvwSSudUbb+fyqENLGGwnoVUnYD1KCUwLcqO249TszxWozaXO9cxY0Uz62HZJtNBFTn45l6yA9p5yJoUzKkygeGR6oSCUaAruyih0NrEECZKS9pZh5LdT+zIdY5veigl0WhaeYeKVaQnuyAEscqwhUOmU6SW2MJFDErJmciwdUC4QSELjH7Cx/D+6hn+oATbf+BZOAihBr2CgE7wTZdMDxXuiJ7yWZMp9mCowhAmVr+jcLQd3xz4/g22E8oW/oaJYIQmUxJT3CRzmhyFj9DpaGBDkaAoAu2RUKfJkQSYG3oBBZpM55jipgcgDK1eSrBRORQ9krwE2EhRINcGqQrRyb+n7v0KpnF/geRZlo2sU1ZXV7Esi6mpKZ544gmq1erEXItxmOK4FoZ5s3fsXvCg3nTNZpOPP/54lNpx5MiRe/os9koP391gGAaHDh2i0+nQbrf56KOPOHv2LMeOHWNmZmZH1jIJpcwHXcOdiN/i4uJ9q+eT8jnAePspHxTGdpG9f/JP/glPPfUU5XKZcrnMV77yFb75zW9u2fsnScIf/uEf8j/+j/8jTzzxBE888QQfffQRjUaD73znO/z4xz/mL/2lv8TU1NTE3MiH2Ej49go+r6R769/9n5/7At9YWuD8lTVMCWkqMZUgVwq0QGcaraDm+dwIQ0RuIKRJYFr0spSS7bISh+S5QTdRNOwSicxxDAvTMGilffWvl2fcaIVcvdHlwsWrhDfapFmGDiyOHjrCzMw+jIJLxesbZXfymMB0QQiWs5gwN2gmmmamCYw6gVEk1wrHcNGDfQlljGP0y2GRjAmMAuj+79p5D8/o94RKLdEYGIMewVgleMbNb7mhCgmM0oafexTM8ujnWEWDvrg+clJM4cPwoSsgU2pTKTczo0EvXB9KS7hl6CHM29ji5nb65d4cY0M5VZIBm7+R5zrq9/htfI3uoCx8E1KHaLHZEkSTom55PwZm0OCisVHUiFWDDoqWLNORbSLV7Jth64hm8r+jdMrdEIYhly5d4q233uLll1/m0qVLoxzrn/7pn+bxxx+n0Whs2z3ifsnAjcvr/Pa/eIn/8m++TxJld/8HHp54VatVvvSlL/H0009z7do1XnzxRS5dunTP1/NOYtz2JKVSia997WscPnyYDz74gNdee43l5eVtJ7/jnBAebh8ejuQMid9Xv/pVAF555RXeffdder3eXf5z8zrGTbSGn8Wk8Yp7gfHpp5/e1wd+r5idneXXf/3X+cEPfsCbb77J17/+df78n//zvP/++1vy/r/wC7/Af/ff/Xd0u11+/dd/ndXVVX7t136NI0eO8PTTT4/9pPg8DC/cvUT47lbSvRU/99gi//efeobLy2163QQLEyXB1gZFxyVOc4QUTPsBrSxBaYgSTd0pkCuFb9q0sxhLGFwLQypGEVtY+Fj0wpAL166wfnWZq+sreIaDUS5hN2aYayywr7yPHPANBy0YkEUbhSZREgsDBISyr5pFMud60iPMTZqpSTczCEQNzyhhYJErPbAsga7sUbQGE5ACEpVjiT55SlWKu4HkdWVIwbhJttp5B98obvrZ2/BzJ28PrEz6iFUP19xIAnMEN4eOBIJYhlji5mupirCN6s2/EYJI9rDEzXgfSY5m8/BSqnuYt5C5WLYw2Uz6ErWOIaqbXstUE3EL6VO6M3hNAz6aBhlVWrJKKzdoy5CYDkpkJLqLEJunSnN1g076n26bFdxqtTh79izf+973+N73vsfa2hozMzN85Stf4fnnn2dxcZFSqTT2Etmt+PE7n/Cf/9fXCTsxVy6s8Ae//QOaq927/+MAD7M/w0nVr3zlKxw/fpyLFy/y0ksvceXKlTte1+Mq6Y7TGkUIMbK9+drXvsaBAwd49913ef3111lZWdk24jcJOb6wNapWoVDg1KlTfPWrX0UIcc/ETyk19s8BGHnojnsdDwLrz/7ZP8v/9D/9T/zyL//ylr7xL/3SL236+e/9vb/HP/kn/4TXX3+dkydPPvT7/9Zv/RaNRmPTxX8vU7qTgOFNYy8RvntV+Dbi6EyDv/n1r/KP/vg1Po0S5mbqxGmGa1uUbIdumqFSRcMLaGYRgeXQjBIc08K3LXKtiGSGJeHc8nXMNKeTxUz5Pr7v4lUqeI5LonKmHJ9WGrKahJRsl3amKFsOZadAT0YIBIYwyLXEwERokFqTa40lTHIt6ckU33QIZUYvz6jaBToyxRYmRTPAMxQISS+PCcyAUIXkSGw8BDkaTU+GlKwyPdkfZmjnXYpWgUj1BophhDuwdumTsb6CmA2GOLp5iG/6o9JtL+8ncyTDZA4dERgVUt2PNOtP4OqRsfPofzZM//aHJPqkdZgDnOoQ36jdHPQAItkkMCvkGzz7YtXBNYuowfaFECSqg2MEaH1zyjaWLVyjCCJH46OwiHMFHECKJnDzZu8adZReZVRnHpSVbeGgN0z+xvn7WMZ+POOnR9Ypw4fu52VZ7xTu9eEvc8Urv/8eZ96/jOfbhN2ESq3A1Yur/Md/9So/90tPcnhpZptX28fGgYUrV66MUjtuV74cV0l3nNYoG7dtmiYLCwscPnyYixcv8sMf/pBiscixY8eo1+uf8073j72g8N2KIfEblnpfeeUV9u/fz9LS0m1LvZOirG0k/g+DsQxtPPvss+zfv39bNyKl5Ld+67fo9Xp85Stf2ZL3nJr6rAnrdkarbTX2GuG7X4VviKligf/5T/8s//Tl7/PRxRvMHaiSComQULBsQpnTChPqXkCKxDEtkjyj1e2RxCE6T4l1hu/7GAWfxcIMoc5pOD4YCgZ9bs00om4HrOch3TwlsFw6MiVPbHJsHMseGDd3SIWkIHygX94sWi5SKZRWSG32CSCyPw1s+4QyYj2PKZt+fzJYm6SGoGjXMAwJWhGYZbp5s1/qzTp9KxfZ7SuJKsERfVKnUH3FcOAVqFBIbWEMyJgWmlTrvgmzzvokUfVzgPOBj15PdiiaZfrRapCT4XLT2Pl2079SZ1hGATZM1YayRcG8aQMjhCCWXVwzQA7JnIDslonf/hCHgUkZhI1CkGtFmEtMw0KRMDJc1gJXFFAbCF+iW4NouCsjuxlFhqQwsI7RKCWJ44S1td9i9fIlTL3I1NTUtvpnbgc6zZBv//sfsHL1JomuTxdZu9E/Vmmc8Qf/7gd8+eeP86Wfu33ayHZ50x06dIgDBw7wySef8P7774/i2jamdvwkKXx3UpeGfodzc3NcvHiRt956i0qlwrFjx6hWq9u67Z3CdvoABkFwT8RvUnrnJmVS+EFg/at/9a+A7bmQfvSjH/GVr3yFOI4pFov8zu/8DidObF9E0lZGq2039hrhexCFbwjPdfkf/uRP81tvvseL5z9hulZgX71ImisKpoNnmqz0eog0o5f0CNMY0zJxfJ9ypcG07xI4Jp08IdaKwHRYSULqbsBaElNzXFxTs5r2J35bWUSuFI5hEamMkuWynsaQQdUqYckeWptUBpm73TyhYgd08h7pYOpXaokWEMkUR9ikOqMto36UW94j1hKd5yhypO5/LlWrgdQpjmGSK/BFBSUycp2itRiRukyn+MJHEY1MmwMjIFF9gpjrDAsfRnm0Cql0f5iEfjxbT3YxlDtq8Ut0iG+USdVNQpdqiclNopao3qbItj4x7Gwa4tACMqUHQxwKgYsWLlI7aHJyrch0RqYzPCPYlLeLAEEAA9LWf02Tab2ZMAKxaiMoMhzi0GiitEkeWaTpNbIs63sieh6Lx88yXfwGtrkzKthW4cJH1/ju7/6QNO7vt19wyTPJ2rU2lUaR5noPgUBpzWt/+CFJJPnKz5/AtHZO4fi81I6ftJLu3bZt2zZHjx5lbm6OCxcu8P3vf596vc7Ro0cfOuFk3L1rO+EDeDfiNymEbzcPW1p5nmOa5rYcyMcff5x33nmHVqvFb//2b/PX//pf54UXXtg20vdI4RsfHnZ/DMPgLz//FLPVCv/2B+/RCWMOVgPaWUQYRmR5Ru6aTJfLeKUyM6USkcqIVY6BYD1K8EyLgi3oyQzftFkbWLo005gSDg4eWhqULI9OHuMLG1MYdPKEiu3TykKaeQSYrKYZSZSy362ihSTKY8pWkXbepScTylZAR/aQWmELAxMTiaSZhZQtn56MSFRG0fSIdIQG1rMeZdunmfe/lFjCRmhBjoXQULLKGEJhCoHS/Vg3RT+aLdMS36gS6RagiXVE0SgT6xaCgYonApTqDfz4BLnYPMQRyg4Fs0wyIH1S55iGP4pw6/9Ni8CsIEkQmAhhkmkLQ/sooVEaEq0QmKS6PbhvpECKb5QG/XqD0q7u4RtV5EAhBMh03zxabkjs6O9jgNbZaCpZCIh1hsotWq0mURyjpML1XMr+LH4j2nDjV7TTf0PN+79hiPFaLt0LlFS8+cJHvPPq2dFr5WqBTjNED66h1mqXUjUgDFNkKilVfN7//nluXG7yC3/5SwTFmz2WOzHIcLvUDqUUvV7vgX0KHwST0MN3NziOw2OPPcaRI0c4f/483/ve90aejqVS6a7/fzuM25ZlSDh3Yg0bid+5c+dGxO/gwYNj9yKE3a3wGZZlbdsH6DgOR48e5dlnn+Xv//2/z9NPP80/+kf/aFu2BbtL4TNNc88Rvoft6cmyjKWyy587Ms361RXe/PAC7WZMvVLl8OHDHGjso1Ao0QiKrIcxhjKo2T5RnhOYfTuXNANbWxRNF9ewaCYJJdulk6XYhslKHLMe5tTNEgIDz7ARCFpZRM3pP7g6KqVouAjgetIjloJWqmklirJZITB92nlIZTCcEasc1+gPZggBXZniGn0ft66MKZqFwe8EvTzBG0zK5jrDGmxfC2jLBKVt1vOYlSzmStIjkg6rqWQthStxgpJ1erlHogo0czD0DFJX0LpKohwE0whdQ1Ajz4vksoJBA0ENgwahtDH0FErXUFQJpU2uZ+ipEl1ZoCUDrqWKriqwlitW84zVPKKlBW0Z01URsU6IdIh7y5RupDo4GwZCoE8yrVuGOGLVxrpliCPTIaZRRylFFEasr62z3lwmzgVaGVQrVQ4c2E+j3sAKcixz43vaZFpwI/7mqE9xUnDrvbW93uM//auX+eD7F/B8B8M0KFUC2mvdEdkbotsMcWyD6lSfDEqpuPbJKr/1Gy9w/fI648AwteNnf7Zvfv3OO+/w7rvv7th9d9wK3/086F3X5YknnuBrX/saruvy2muv8c4779Dt3vsgzhCToPDt9PaDIODJJ5/kZ37mZzAMgx/84AcAD/T5bSWklFui8I3jPN7RI6iUIkmSu//hA+KRwjc+PEhJV2tNr9cb9b0MbTOO7mvw//4Lf5ovHJmnncJqO8fWFiXHJU37/X1V1yPKcnpxho+N0AZl26WXpxgYLIcRhjKo2h69PKVoObTShJrjo9CsJglJLkhzg5pZxBAGa0mPqu0PLFoSipYLCLp5TMHyiFTO9Tgmzi2S3CXMoGKWcIUzInZag0aNhj0AmlmPktUnfQpNqjTmQHmLVEzBCEb2Kq28R9Esjj7TzmBIY/hzW0a4hkemJLHKWct6SG3SlgmtPGEl65Jqi2YW0xM56zImkhbNPKYpI1oypqkyYpXRkzGRSmnLLrYoIFF9hU1oUqUGXnl9pCrCFmU2cvqebOMYm0tVfYJ3c6J22C9oicItf9fCHFjG5HlOt9vl8o1zXP6kS6fTwTRNSqUylqOo1OdwPRchjMF7WiTaQ7KfUNdpSouWjGjlZ7mR/NF9nYM7iTPvXebf/8YLLF9pkiYZhiEoV3w667efTrQcE9M06K71KJRuKnq9TsR//F9e5sO3LwLjGZ4YRlA+99xzALz88st88MEH23p/h/ETvgfZtud5nDhxgp/92Z/FsixeffXV+ybJP4mEb4gh8fvCF76AEIJXX32VH/7wh2Mjfru6pLtdB/Jv/+2/zZ/5M3+Gubk5Op0Ov/mbv8l3v/tdvvWtb235tobYLVO6sPcI370qfBsTDlZWVkYpKPv27ePEiRObsoz/5i9M8b+++kNev/gpP04yDk6VqJZ82mnSjzrzXdp5iqX6fMm2DKbcAitJb5TCYWDiYuOYFoGpWU9j6k7AWhphCIHUmmtxRM0JwFTkUlMUDjGSXt4vDUcyI1US17BJVEacZ9imRSvPaGVQslykMsiEQcUsk+iERCX4ptPv3xPQSnuU7H6pN9M5geGidN+kuaN6lK0SHdntk7wsomD5hCoa9Alm2IZNpvq9XpGU2IZFrnMQEG0wde6TxB6FAUnU9K1iylaZcFDKzXU+sGqRDEu5nbxDYBVIVZ98SJ1hCo+bfYIQqg5Fs0qimsCAzOVdvE1GzZCofhKHGiVxQKwkjnBQpKA1eZax3OmRRzG5Ckf9eF7Fo+jMImkTRXG/NK1TLHEQRUaqcxIZg4iwxCD/d8NDuJm9jWM0qDnP3P9JvE1Ik4xXvvkep9/9ZPRapVagvd4jbGkqU0Vaa5sf/kHRI8tyeu0IKRVhO6I+U6U1IIeub/PKN9/jxqfrfPkbx4GdVQyG1/pWpXbcz3YnvaR7J/i+z5NPPsni4uIo2u7gwYMsLS3h+/7n/u+klHTHCcdxcByH559/nnPnzvHqq6+yb98+lpaWKBaLd3+DLcJuLulawwf1Vp9MN27c4Jd/+Ze5evUqlUqFp556im9961t84xvf2NLtbEQQBMRxPBEn592w1wifEGLkT3Qr0jQdpRusra1hWRaNRoPHHnvsc1NQDMPgr//MFzlYK/J//PA0Fy6vU6sm7KsX0aamF2dUXZcMRaJyZK5pxxFV3yeUGRXH6/fv2Q5rcYKFoOEXaKYhNcdnPY0omDZSKNbTmJrjs5ZEdFNNw/NxDYtc9clVpnJM0xpZtJgbpnV7KsUzTNbSBK01VScglWBjE5gemoxEJ/Rkgmc4xCollAklq0BPdhECWnln8HOIFppIZjhGfxhEIrFwMIQxmBSW2HqY1KFRWqGFiYHRT94QEKsUU1sj5bCddSna/fQOgFjHFI1SfzhC9DlTIlPsDdO+qYoJzDKJao3SMzoDG5hsYMOCgFTl2MJBDixTFDlKu30rmIHNS64y0hTSuEWcRGit8VyPoFyl4NUQxjCJwyTTNgbTZKpHN9c4uQF0KJolMt0bEbxcJzhGEfSGwRBgOfkOjlGnYM3f93m8ldBac+PTJu+99sPRFK5lm3i+Q2uDv15rpUu5XqTdjkBpyvUCnfXepi9QWvf7+sr1AoYhaK+FKK15/80LXL+8hjtzbybNW7lvG3FrascLL7zA4uLiPad23M92d0tJ904YkuTFxUXOnj3LSy+9xOzsLIuLi5u+8G7EuJ9p497+xjUMFb/FxcWxEL9drfD9s3/2z/iVX/mVLb+Q/uW//Jdb9l73iuG3pDiOx56XezfsNcJnGAZZ1n/obAyjX11dpdPpUCqVaDQazM/PUywW7+tc+8bJY8zXqvzzl99iba1LGGZMNwIalQLdJMWzLFxhEaucou3QilIqjgMKpgY5vGXHpZMldJIMAwstoWp5NPOYou0Q5Slrg8nelmixlmZMZQbCMChaFrGREMuMotXP5U1URsF0+tYpWiMV2MIkQ9LOYoqWTTtPaOdQtQPaWYpvukht9d8DSSxTSmaRruoO+vsiPNMlVgkShYmNiYFEkaiUwPBJBnYosUoomAGx7iIQpCojMH3iQZSbRG1K9kAIwjzBs1xS1Sd0XdWjbFaIBn58ConS5mhaGCCUXYpmlXik6kGkElzDQ+p48H85CnfgNdg/pzMSLOURRsskcUycxBiGSdmtUau6OK6LKVyE8NHaQemcTGckKkGIFFM4pGRIIUfnSqh6+MYGNRFIVRfPqA+GQPrQaK7G/4nDwf8F19jcK7hTkLnkzFvXePvqFXzf65dkhSAJU7rNz5by2mtdilUf07Y2kcGNEIZAAEnUj16LB9O9Ny43ufHDazx9cpn5xw9u5259dk23XMfVapXnn3+elZUVTp8+zcWLF1laWmJ2dnZLCMO4Cd9WbrtYLPL000/T6XQ4c+YML774InNzcywsLOC6mxNxJkHhG/ewxK2kc1zEb6sUvrH08P3u7/4uMJ4+kK3GkPDthrLuXiN8WmuiKOLHP/4xr776Km+99RbdbpdDhw7x1a9+leeee46FhYUHTjg4dnCa//nPfY2Fep0oirl0ucnZT1awlCCTEqEFMlW4hkXJcWilKUjBWjeh4RSI8oyK4xLLHEMI2mnGWpgwZRcQWlC0XIQQrCUhJdMh1xqpNVJpluMIlVvYeBhYVO1+fFpPphRNDzQkOscyLAwh+hYiMh8NbqynPap2kVhJ1vOETqZZSXKamcH1WOJTxxVlfLOEgYNL/2afqgzH8EbqWqgiCmZx5E3Xk9GmpI5QRpvi2HKRY+IxLMkqNJkUmOLm5G47725K88j0ILKNm8eok3dwNsS+aSS5FoiNMW46waBAlmV0Ol2Wl5e5dPUcYUfg2CX2TS9xcP9xgtoBTHeBriqxLi3W8ow12SPRNumgJA0gdYrQm8tcepCEYghn0+uxamGJzQMkUidcjv79yGdwJ7Fytcnv/PMXufj+Cui+AmuZAlNAnua3/Z+g6JLGOWE7wi+4n/m97Vr4gUNrrUvUS8iznFJlw+ejNd/5D2/x/T/+cEfu5XebDJ6amuLLX/4yJ06c4NKlS7z00ktcvnz5ode2lwjfEKVSiS9+8Yt8+ctfptfr8eKLL/LRRx+RpjdNxsetsI3bBxDuPCyxcbjDNM1t7/Hb1Qrfv/7X/xoYv7fNVmAoh+8WwnenEuhuQRzHozD6tbU1hBAUi0WOHz9OtVrd8nOqUvD5m3/mp/nfXnmHNy5eo9WKieKcetXn0HSFkuvS7MYUXIdpz2c5Dqm4Hqu9kLrng9LU3X7ZNrBstNYsRxEFyyHRkrpToJVHrMsMX1ikShJYNpYw6cmUiuGzEkUgoG4XMQyN1JKKHdDMeoQypWS5dPOYXCssbYzKvs00pOT4dPOInkwpWz6dPEIKzbUkpGw59GRfMfNNh1yBbRjE2sQ3a2hyhIBMS0pmhVD1kDqnlXWpOAMTZ/oErmyX6MkOCEGkI6bNKULZ97PLdIavvb6JMxoEdGWCb9xM74hVSGAOyr0MVD0Z4234m1wnuCIAHZOlmihMuBbeQGfgFFxcv0JQdfpJI3aZnmqB7JMvrTVFs0iqO6NjG6ouBaNCtqE8mxKBLNInrAMiSI6hPQyRo/XNL0yRbOGbJfIN75mpJlei32HW/8sYYvvTNpRSvPXCx7zz0sco2V+bV3CxLZvWal+VLNcLtJvhyIZQA9V6gdZab1R+z1NJqRbQGSiBxbJHEmWE3ZsDaXku6TR7VBpFskxy9aoiDhO+/8c/5tona/z8X3gOv/hZ4rhVuBfiJoRg3759zMzMcOXKFc6cOcP58+dvm9pxP9vdrT18d0O5XObZZ5+l2Wxu6oecn5+fCIVv3BzhbmsYEr+hncurr77KzMwMR48e3VLFb1f38G11BMw4YRgGnuftGsK321RVrTXtdntUqu31elQqFRqNBsVikV6vx2OPPbatazBNk7/+tWeZ//Asv/Pmj+klkpWVHq1ewsK+Go3AZzWOkcqkKBykVNQ8n7U4ou75rEcRU0GBtozxLZsoz4jyDM+yWA5j6q5PSoTSN61eipaDVIpWFlF1AtbTkLUspuYErCcJliGYcipIkRPJvklzKwuJVU7BcpBSo4Wil6X4lkskE9p5RNUOaOUhQkCoslF/XyRTSpZPT/bfo51DzS7QHpA6rXMqVpFQRtiGwXqsKDkNpM4wDEhygW/UsGQXlyKZEgRmDTXw29OAL2r9njsBINDawBbOSNfLlMBlCiUkWoMCYqkxhE+iUrpRj168ig41yozwPB+vUsRzHSp2nywOi8q9vLtpIKSfDhLiGwHZBgWuK3sUzCK5vvnNPDciHOMg6aCkDJDpGFeUYJOpsyBWMa7hI/XN6z9RK1yNX+Cg9/VtfWDe+HSdF//z2+SZ7JM9wyAoOcRhgrJvXufttR6Fik8cphiGgeN9toSrlaKz2qU81W99WFvu+x1+JiJOA1qjc7lxboVPztzg3/3TP+Ib/81zHJyf3rZ9hnsrS91rase9YNwK30486KvVKl/60pdYW1vj9OnTXLp0iXK5vC1DMPeK3UD4hvB9n5MnT24q9c7MzLC0tPTAPoi3rmPXKnzjXsBWIwiCXUP4dkNJN8/zUU7p6urqKKd0bm6ORqMxugl9+umnOzom/3PHlzgyVeef/fH3WemFZB3Jj6PrTFdL7JsqkiqJMAxUpjA1THsBy3Ff6VvphdQ8H7TGsU3Ws4hE9tW8tSRGYNBOFYVM0HD75LBounTyhGYaUncC1rOQtaRHzenn/F6NetQdn24KwoGaXSbTGWEeU7RcOjJGoUilxBEWqc5ZT3vUnAKtPOyXjwVYoj9928kjKlaBjuyTpLW0S9UJ6Mpw4PWX4Bn9fr8MyNIIxzBIBpO8hhCESqCyFN8yQUPR8gjVTYJVtgr08pvHzDdccuJRyVhrTcn2iWQPKSVxHCNjSZK2sSwLz/fwpj0a3pGBIXQfnbxHYQPBQ0As++XpfND3p9HEOsdmMLnLzf5Ab0N/oNaaXt4msEpk6qZ6l6gegVEj32Dg3LfDsTCpIzFIdEoiU5ryA4QoctD7qS08A/vI0pw3/+hD3nv9LFr1P7favjJxmHLtSoJX/6wpca8VUZ0ukcYZvdbt71W2ZyGTHITAsk1kvvleMRr+WOkilQINhZJH2O1/ljJXfOvfvsGpn1ri2Z97fMtJ0oOYPX9ease9JlGMm/Dt5Lbr9TrPP/88a2trvPvuu2RZxvnz55mbm9txwrGbCN8QtxK/1157bUuI327u4dtzhG+3WLNMMuELw3BUqm02mwRBQKPR4NSpU5TL5due7OPYn/npGv+vX/oT/LM/foOPrq8hc82NlTatTsy+6RL1ik8mBLlUdBNJw/fpZhn1DYrfWhhR8z0y0Z/09UyLG3lKybCJpETFACYag4ZVYC3v9YmeW6CZhTTTiIrj0cpi1tOIiuPTzmI6aUrd9QlTEwuDqlkiExmxTLCEiSn6wxjNNKTs9Mu7icoJjP4giEbTykOqdoF23hvYtcT4Vp/kKTSZUtjCItP9+Dapjf77aoXSmhwwGTwYBIQywTUcEt0nBa2sS8Uq0BuQykglFM2AaKCw5XnGtW4PFSdE+U3rlNn6ItKIRjestuxQsorE6ubkbiSzTfm+Com8ZSBE6RwlvE3DHv0oOWPkUwjDDN8I1/DJN6h3oWoTGFP9/GEMEpWT5CmuaSII+9FvgzVeTt7AMSpMOU9s2fl36aNrvPx7PxwNYQhDUK4GrF9vUSgHGOZnb+imZRAUPZo32piWSbES0G1t7jMsVgOiXkJv4ClqWgI36HtQAhSKHlmabxr+kLkibMdUGkWU1oSdGCkVb/zRB1y5sMyf+otf2uTl97B4mOrExuzZc+fO8cYbbzA1NcWxY8fuWnrbyyXd20EIQaPR4ODBg3Q6Ha5evcqFCxdYXFzk8OHDO0bCJoHwPSjR2mrip5Qaq9r6MNiThG83mC8bhkGe376Be6ehlKLVao1IXhRF1Go1pqameOKJJ+7qEQX9G9M4StSB7/A//MJP8zvf/5A/+vAMWhikScblq02W17vsnypTLNooU9OJMwqOg1DQ8AJW45Ca77MeR5RtF99wsE2BZ1i0kpijzhRraYRnWvSynGYiabgFtKHIpaRiebTymHaWULL6CmAnjylaDt08ZT0ZEsCITgZ1xydMMwzbwrc8hJCkZHSziMByCWVCqFJKZt+vDzTraY+K3Vf2FJpEypFdS0aOJ5z+HK/WpConMPv+d1prcjQGgyQPNAqN1DdVxKGxc2B5xLKv7K2E65gJtOI1tFa4rkepWKLh11GiT8oSUspmmWiguAnRN6cOTJ90QMgUklw7GFgo+ud5ptN+3x9dhk1smY7xjAC5sYyrUwzhIbhJaIZE0BYVNBaZ1oPSeDJQE2+uJVUxnlFC6+Ymj74L0XdwjSIla/ahzrluK+SNP3iPS6evk8b9fStUfPIkG5Vne60Q0wDHsxhwWQoVnzTORkbLMpd0W72+JctaD8MwKFZ92mubjZjTpG85VNvXV8Haa72Rmtj/cG4qsgBaKiZ5wG4AAQAASURBVIQhGPBqPj23zL/7/36Hr//Xz3Lksf0Pte83N/nwcW62bfP4449z5MiRUelt//79HD169I4uC+NW+MZFerTWFAoFnn32WW7cuMHp06c5f/48S0tLHDp0aNvXNQmE72FLqVtF/KSUd7TPmXTsScK3G+LVxj20kWXZZwYupqamWFxcpF6vf7Zf6C4Yp2JpGAZ/8adOsjRT43976R16KkVqRdhLuBCvEhQcjh5q4NnQTTMCx6ITp0x5BZpJPBrkqDo+a70YIzeoGA6tNKbmeKyn8WjIYzWJqLs+zSTBFgYNr0hCRphnBJZDmKdEMuv3/8mMTh5TMF16MmF1YPvSzCK6eU7F9mhnKYZwsLRJxSqjyMl0Ttkq0M4HRsx5RMHyCGU88AC0R9m9sUopmB6R7BOtvr+fv1m1M+rEMux75ukcX/RtYfoEULHWbpElMb0kxDAErudyoHYQ5dy0RLEMl4xo9KBvZV0qdpFopOr1J2gtw0bqflk50ym+4aN0jyHBS3T4GW+/WIUERpl04AmoNeRo0HVkLlHUiVRGpjJcw0KIeDSw0U/yCPFMn1zdVP9i1aNg1sjU+oj0aRSne7/H8eJ/g2/ev12LzCU/eu0Mb/3xj8nTHNuzKZQ9DNOgs/bZtIwskchUUmkMvfNuk6ihob3apTpTJo2z2/8NYJgClUkMo58lOiy7D2GaUKoGI8LpuBaFkkevEw8+J/j2v3uDJ545wlf+9JOY1taUBLeCfA2TKObn50eGxLOzsywtLU2UPcm41cVhlu1wEObatWucOXOGc+fOsbS0xMGDB7eNlE0K4duKNWwkfufPn79v4rerhzbGvYCtxm5S+HaSIA1jzIYkr91uUygUmJqaYm5u7oHtUoaYhCGULywc5MhUhX/xxz/g3I0m2hCoXNNpxrzTvcKhRoWpqSK9NKVoO6yGEXXfQytNww1YTUIqjseVbhedSQrKRkhB1fZoDrz1IpmzGoc0vH5ax40opmTboEwc0+5HYcmYTEtcwyJRObHM8A2bSGUDYunRzmNaWUzN9mlmEe08I5EKLTSZVgidMuVU0IbCEGBoCMy+oXLfA9DtGy6j6cmYslWgm3eBPkGs2EVWxAoA3TymavX9/gA6aQ8j1jSTddI0xbZsSl6RfaUihm0gEGRA0QyIBySqX+4tjMq9o0QPKyAZ9AVKJKZ2BobQavB/EQWzRDKY+IW+t1/BrJKqzsCLzybTJoaYIdUJsUzQAhKVECubzoDMCiFIdYIvCkhu9vMBpEr2zZ/1TSuLnuz2SZ9ujl6TpJzu/WeeKP63fdPme8TFH1/ltW++S3tAqDTgF1yibowb3Hka1is4pFGCd6e/EVCuFWjdaOMGDo5nk8abTZSDkofM1Ghq1y+4aCAO+/saFF3EsuiXeAfXcJrkpElOdaqE0orueohSmndfPcPlc8t84799nvq+Mg+KrVD4bsW9pHb8pBK+W9VFIQQHDhxg//79XLlyhbNnz3Lu3DmOHj3KgQMHtnydk+jD97DwfZ8TJ05sUvymp6c5evTo5xK/rRraeNTDtwV4NLRxE1JKms3miOSlaUq9Xmf//v2cPHlyS2XpB8nS3Q7USgV+7Rd/hn/7yru8/PElTMMgFwqZKz5dbrLS7FGteZT2Vai5Ls04oeK6tKKY6SCgmSWUbIeVJEEAnTQjyyUzxQKplgSWoJdrVuOQuhewnkb0shzPMlmNYlzTxBEurmFiGwKlFZlWGFrjGBapymlnMQXLoSdT1gfTvs0sJNGSwHD6aRpCcyMNqTkB7bz/oHcNC6XtfioGFr7hglAIocmVomxViFREpjKaaQ8fb1Dt09wIm9iJZi1eQ+YS13WZChqo2s2bl2+4pDoZlQh7sm8WPTJqlhEl82ZEm0YQyhTPcMmG6Rw6xTcCct3DEDYGFqkycMU0SudIINeS63FGwaoT6y4Mhja01pStAlrczGONjBjPmCVWN4dCIhVSMMqkuoUY0EilJRIXISRa31TOu3mHklUm1e3Ra4nucrr3uzxR/IuYt3j63Yq16y3e/uMfc/aDKzA4v4OSj9ZqRP6yJKfSKPatVQawbBOv6NBrRTi2TRpllBtF2q1+mgaA4ztYpjF6n7iXDPr6fLqDYY5KvcDachtDCMyB6h71EkzToFwrIAzB+o0WeaY2la9hcE1KicwVlmuTRv3PefVai9/+p3/EV3/hKU48v/DA9ijbhTuldszNzY1dZZu0bW+cgL5y5Qoff/zxiPjt27dvy9a7lxS+WzFUmO+V+D1S+CYIP+lDG0mSjAje+vo6lmUxNTV11xizh8UkKHxDGIbBX/nZL7AwU+W3vvchYZphWRZJLlEolm/0WGuGzM5UmaoVWEn6fn0rvZia59HWCWXTJs5zfMsCC5bDflpHnCvqnk9XpazF/RLtehaRSkY2L55p0Ukzcq0ITJuiZWAZAtAooci1Isrz/t/LjLWkH/XWyiNCmVI0HSKVoISglUaUHY9OHveHOkybTOV085Qu/RSPVtYblEJTqk5AL+thCYP1pEUxN+msNRFAEPjsKx3C812EaYBW2IaJIh+VCAuGt0klE9rEMywYUKtUQcFojHz8tBbkCiwRkGtJriRrucITdSLdA6EA1V+bVSAcTtqKgQ3LBoWw3wsYEpjBKFFEIGjnXUpmkWRDn19P9SiaVdINRDDXCY7w0dwsIQsh6MqQglnox7IBaE2qIk73XuCxwtcxxGevibAT8+Z33uejNy/0+6fKPrlSOI496sHbiGHsWbsZUa4G9DoRcSchaNxUEdurXYKyT5pKgpJLZ61HqjZfMzKXdNd7VPeVSOO8X6LV+jNkDgFaSdDGRo/sEWzXwnGsUYnYtEzKg/xe6KuCL/+XH3L2g8t8/S8+R7F89z7djdgOhe9WDFM7VldX+fjjj7l48SK1Wu3u/7hNGHcP3+dt2zAMZmdnOXjwIJ9++ikffvghZ8+e5dixY0xPTz/0cZoEwiel/EyJfytxr8RvKxS+cX1xeET4xoStInwbY8xWVlbodruUSqVRP16hUNiRk2tSFL6N+PLj8yxM1/kXf/Qmn6y1cUyDOM1wbYu4k/Fxskxpuc2+6RLYUPVc1uMYSwnaUcbRaZ9YZdjCAAPaaULJdlkJE8qWg21aoBmVfIUUeKZFLPN+z5/ShDJHCId2mqC0pmjZBLaFEP3+OcdQpEqOpn3beUxXplQsn7aM0AI6WXpzqENmlCxvMNQBzSykZhdo5T2U0lxZX8FIJa2kT46UYbCvMUNu9ZWRDqC0SZgM2h50StXx6cph32tGxQro5ENSk+MbDlKkqEHfnNYpFfvmGoD+35CN/qanI0pWid6GYYpWHlKyAuIBwdMIIpniblAItYBI9Sd8ExIYcJ2ujCmYAekG375O3qFklUYDGwCpivDNEqm6qf71X7ewxRSZloQqRaFYlxeRvMiJwp8YXSNpkvHuSx/z7iunR6kYhmFg2iYqViTxTTJ8K9Iko1oP6LZjZHb7/lyVS3zPIk/yzYMXG1CuF2gvd/GLXt+S5ZZe30KpP6U77Bt0XRPbufkwLlZ8kjCl1755fGQuaa8NsnhNg+ZK//z49OwN/u3/59v87C99gceenrvjvt0OO/XQajQafPnLX+bGjRt88MEHZFnG5cuXOXjw4I4+OMetLt4L4TIMg7m5OQ4dOsQnn3zCe++9h+/7HD16lKmpqQde/yQQvp1aw52I39LSEuVy+ZHCN0koFAp7nvBJKVlbWxspeVJK6vU6s7OzNBoNHOfzy1TbgUm1mdlXL/P//K9/jv/fC+/w/XOXsYWJVhrbMpC5JooyLn26jrvcZvZAlZlywIVwmaJpsR7GVNz+ZxlYNq0soZMllB2XdppQNV2aYYzSmn3FIonOSVSOa5p9w2bboZdn9PKUsu3SzmK6eY4hTLp5ikITmBYVxwOhyVVO0XTpyoRWHlMbJHgoAXGe41k28WAQpGIHtLMeeZ5zsXUNK1W08h6O7RB4HnO1Q1xbX8bzPLRl4ZmCRGVohpYpdt+zTwhaWUzR8oj6HjQ0sx5VuzAifZFKKVoe8VB1E9DJEwqmTzTq8UspWD6JvKl+tbMuZbtIb4NdS0+mBKZHMtiW1IpMm5hYyME0r0KRqc3WLAhNrCTOBquXoSK4Sb0DYhnhmVNorUbTvAqJJQSWUChunqfX07O4RoF5+1nef+0MZ3/0CStXmqPfl+sFom5Ca6VPKi3b3DQMAWCYBsVKQHutS9xNsF0bv+jdMlYhKDcKdFa7xL0EIUS/xLuxDOxYeL49KvH2WiG2axGUPOJeigDKjQLtle4mNT3qJchUUq4FCEMMVMHPXguWbaKlJgpjimWPbru/D0mc8Ye/9X2unF/mp77x5G2j3W7FTqv5w2GFKIq4fPnylqR23C/GWdK9X7Jpmibz8/PMzs5y6dIl3n33XYrFIkePHr1vs+vh9sdNcnaadN5K/F5//XWmp6fJsuyR8fKkYDclbdwPQYqiiNXVVVZXV1lfX+/3YE1NceLEiW2JMbtfTFJJ91aYpskvf/1ZThya5t++8h6RytEITBOyXGKYgjjM+fj8Mr7vUCvapEqxz3NpxQll12WtF+PbZj+nN0so2w7NJOl78KUxy72QsuOSSyi7LraZ081Syo5LJ0toZwlVx6eZRrSzhIrj0s6SvgKYChKdI7XGAmpeCS0UUinqdpG1rEsuFKYU2MKkG4dcarUw45yuivE8DzPwOFqcJhr0w0kMnMHlnSMxtYUtTDItR559ljDJtUQDocxxB3YvQgiaWdi3gxn0D3bzmLLd9+zrF6c1oernBaeqv81eHlG2ivRkB4EY2b4UrIBooOopNInS2IZDNvi/TGUYhoNAjYY9cnLAYWO9UpKTKwdD3LR6QRik2sIRdXL0aEimJWPKZoFY3ezdy3WOITYPlSileOfiS7z42g/JzlSBvg+eEIIszT+TgpFnkl47olwv0FrvW6pEnZj26oZItyQjzyR+cfBloeSjckl75ebfaK1pr3QoN4p0WhHFsk/YjTd56ymlaK23iaKI6kwJx3dpLW8eVhnCMAZTvKbANI3PGDUHRQ+ZSzoDz78kzqg0irTXQ0BTrhX54PvnOf/BFX7uzz/D4slDt93OxvWPi/wEQcDTTz/90Kkd94txkp4HJTuWZY36Hy9cuMDbb79NuVzm2LFj91Ue/0lS+G7FRuJ3/vx5rl+/ztmzZ3Ech3L5wQefxoE9R/j2ypTuxhizlZUVwjCkUqkwNTU18qka99TURkxiSfdWPPf4HHMzVf6X77zFhZUmpjBwTJMwyzANA1NCJ4votEKUzCgFEdONIjfCkLLr0s1S0BIPCxuDsu3QShOqjkczjWlnKSXbYS2KCUwL33AwlcGUE3Aj6dFM49HfttKEmuOznkX0ZEbJcghlRo6mmSZYhkEsM7TW1O0CnahLO+6RxjFSSMzAwaoUeLx4aDTFGuqcwqD0K5EoDc7AeDlROb7pYA6sWNLBzwrdHxLRilyZWMbQow/aWdRP5xhk/LaziKpdpDuIeFNaIpU18vUDaOchFavcz/IdIJL99Ix4kJ6R6RyhbExhIgcDFolKCUx/ELU2tHBJEKqvNmkNluEgcBEUMFHEKiNWGZocS2hco58VPOSIrbxLxSoRbyr5pv1MYNWleaPN6tUmWZbDwRXM9jzl5BAqVyilUHcouWqtyVNJfabM+vX27f9GKdJeyuxskW4zGg3C3IqoE1OpBYTdBJlJpJREcUwcRaRpimVZ1KbLtFe6tNbbeG5AwS9uuvYLFZ/lFUYGzq5n421QISuNIp21HuqWNbRWuxTLHo7nsHajvx9RL+H3f/M1jp46zM/+0hc+V+0bx/1nSDTvlNpx7NgxqtXqtm57HHhYsmNZFkePHuXIkSNcuHCBN998k1qtxrFjx+4p5eQnmfAN4Xne/5+9/wq27E6vO8Hf32y/j7kmPRJIC6BQQDmyii3aotRNqTtmFBp1T0yrexTBiQ7FxASpDj1NqPWiR4XeJ4IPmmkpFBOalrqbFKWiEcUmWZYsx/KoKnib7rpjt/u7edjnnryJTPgEMoHGF4EAcO++e++zzzZrr+9ba/Gxj32MK1eukCTJmvE7bPW+nfpohu8uVVEU3Lhx417vxpvWnQCftXbN4h2NMTt37hybm5v3tbv3/czwHa3jG0P+n3/7l/k3X/4eX3vqZUIQqNADv2XbUaQRi6rBec+LLx7w4qsHnDkxhihQ6D5bN1aKeWOw3nO8yGmDWwO5+UrlOzcduYiYtgbnPeOkQMiA957NOGe/qzjo6t7nzzTMbcco6s2bjfd46+iamlm95NW2ZSvJsIkmHW2wlRc0zpAoReckYzXE4XDBYZ3v0zR8h8GTB4nqrZmpXUepUurQmyy/9v+74EhDtMrC8EcSM/r1ARx0S8ZxyXIF+rqwMn8Wfj2/NzELxtHNZXzoPfoiGfWADOiCIRMJQtz09qtWKmAXuhWLl9DaDsI2lVvQY0MDGHKVrWPkoFf+Sh+hpMatwKcQgpmtGOiCdhXz5pzjlStXmb5UIbO2z70FokjD468y+45CTvqbdxTr29q3SRYTJ5r5wZLlrKIcFzRVh7M35+xC6FvBN24E9q9N2Tg2oqnMLctAv8xiWrNzZZ/OtDjhWEz6RJMkSdjc3qQcZMwPKkbDEdY6qnpB09akUU45GDDaLNi7PrmF0Wsb088Tbg8JcBtLeVh5mWBay3JaM9oume1X6+/iuSdfYbq34NO/9DCXPnH2tr+9V+Dntds9mtrx/PPP881vfnP9Unw3clOPbvde27LcjW1HUcTly5d56KGHeP755/nGN77B1tYWly9fflMrknsN+Jxz90Ur1XvPxYsXefTRR3n++ef5i7/4i/U5d78zfh86wPdBEW0opfDeU1XVmsWbTqfkec729jZPPPEEo9HovmLx3qg+CAzfYUkp+a9/5dM8dvYE/+pL30MGaF1gEMUY54mVputalBBUteHlKwdcvzZjYyPn9KkRU9cSSYVUgr1lQ5n0/nzHkpyZa1mYjkHUt3JzHdECk7ZhnKRMO4MAtvICvwJdm3HGfluxs5wTG8dONcNaxyBJGWQF4/EYrTSjpJ8DXNqOge5n/SoHkxDYSDKmpp9t00jyOEf7CnxELguE8HgCIXhGumRml3g8C9cw1DdFG403lCrBr0Cgw2ODIJIa4/t0jmm3ZBTnLNd/05s/t6Em0D+YpqZiGOVUrurVvIAkIRURAtkPAgZJRIrD0XlH620/76gLlm5GZzuWwjIxVd8q9vO1EKNyNaUarNM+oAeRKQmSI3N6AhauIzKa69euMdmZ9yBPgpxq0k0BQd30vnvsecT3LiHmBaazOOsYbhZUi5ZikDLbW9BWN21jFpMlaZagI0Vbd2RF0rOje3Oc8atlKpI0JioSmmVLnMb4YHn5+SvUdb127k/ShEuPnmcxqSlGGe2yZTGpkat7QKQ1o8GYzhisbNjdv061LO/4IpjmCc2iQWpJmkU09a3efqONnPmkWgPe6c6crExBCLzzqEixc+WAP/rXX+ep77/ML//NT9+i5L1XL3evB3yiKOLhhx/moYce4tlnn+XP//zP3zS14+1uF+4dM3O3AVccxzzyyCOcO3fultSJS5cu3THe7n4AfPfDPhzuh1JqzfidP3/+AwP8NNw/B/Ju1P3uw3cYY3b16lW6ruPrX/86GxsbHD9+nI997GNvKcbsfqzD8+eDdC594sJpzh3f4H/847/kqSs7eCGQQuB9QAtJVXeMspRl07GUDr8fuHJjyniYcubUGJH0zOC87RgmCbvLmnGSksiAgjXoK3VMFQyTtmEjSdnvanarhnGcsD+r2O06VNdihKNJY86Mt2l137YqVEQXLDZ4Zl1HGSUsbMvctusMX4Rg0jUMo96+xeLprKT2HmMNtmlX7GFD3y61jOMBk26JVpKpD5R6hPUGJQXOC1IR9x5/AAJUEMQqrB98xgUKOcYFDwSsh1gkuGBYGbFw0DhSPWJpe0PgOX0b2YZuPUMHMNQ5jb/Jos3sklE0ZL/bPfKzilF0a6t44apbfAEBGtdSqJwQlv2c4bzh4PqUetZB0yGinrmMYo2PAu2eQpUtkY5pFwLnJc3DV8h/fBZV9SkaAkE5TJm8zvxcszJW3jwxZO/qlDspJpq6wy4MKhW89MJVvA+kacpwOCSO4zWQaOYNG9sly3mDd6DUzWsphP762j65wWJSUaSOnd19gr11e6OtkvnBcg3mpJKMNkqm+wukEgxGBdO92z9LvWgoxzlpnjDZuykmeeHHV7jy3A4//58/wcd+9qZv3/3A8L22kiR5y6kdb3e7wD27t71X7GKSJGvQ8uyzz67j7S5evEhRFOvl7of7+v2yD6+d5fwgAT8N9+5t7b2o+3GGr+u6W1q1Sqk1e/dLv/RLbzvG7H6swwvgg3YuDcuMf/C3foHf/8aP+ePvPkdnHdYLXOcZDRJmdUsaaWIBTWNQsWI2b5nPr5OlEce3S+JhzLRtGScpk7ZhlKZMqgYp4HheUAe7jlrbrSsS57k+n3KlbRlFMTaJ0MMRDw6GHHQ1OooZxhobHEvXkSiN9wYfAktrKHTC0rZMu6YXgpiKgGBuOwrVGzo33hJxs/0xNS3jKGNqKwQw6So24oKJqXA4WlezuVrXYY11xswu1xZwuUpofYtfARopJLlS1O4m4zWOcuauT/wAMCvz5mbVEq7dSvHr+6xgOJz7G7A4AuYm3YJClhxwcMvPRnFJ5W62KOduyVDdtH8BmJuKbsewt3dtnUYhgCRN0dJhfUe3DIRO44IgTEpC2RENDlMuPMtPvMypFx+j3fFrhe5gI2c5b/FHbFKklJQbOcuDir2qZbQ1WIOpADRNy3y+AO0IDtRCc+ah03S1u2Wur1fgltTzlunukihWDMb5ei4PIMkiolU7OYQATnBi+zidb7l+ZZe9/V1OnTmx3t/D8s4z3Z2xcXyIs/6OYA/o27p7/brTIkFptW5nR7Hiq7//fX7yly/y+b/1GVR6fwK+wzqa2vHMM8/cMbXj7W4XPjwM32srTVM+/vGPr4HfV7/6VU6dOsXFixfJ8/y+AVv3wz4Ad2wtvx7wu3jx4m1zkh/N8N2luh9auocxZru7u+zt7TGbzSjLkq2trXWMWdM07Ozs3BczCXejDk/guxU7837Xf/G5j/Hxsyf5l3/yl1zdn6KEIDhIpeqhS+ifz2lQeBlYNB3OBZp2gnnBcnJ7CJuejXHGQdP07deuY2dRkUnJwWKOWNm6uEhxcjCkGQ56Y+w0Z79r2G+bdWTb0ho2k5S2DehIMNI5QXtaZ2nMKrfXdUy6mo0458BU+AC161m02nU0OMbEK1UtTEyzAnm90na/XbKZFGuQd5j1O10pcye2ZiMqmK3sWSrXUqqUyvftXh88rROkMl4Dut4XsGS2smdxoVflxjKiW83cLWzDUOcs/XKtwT2c+zsUhPTzdzWxv2kx1LeKlwyjgvqI/cvULhlGA/Znu0x350z3FjjriRqNyANKanSIqecBFWd0ncTFrhcBEwhYkiqmCx1x2oMB21munH6Swe45JP3P5gcVaZEQgqJtDMONgmbRMtu9CUD3r0+QCUx2p71wwzaMNof4Nqxf7LpFRzbI8D5gWruaC4xYHNwEd6ZzWLNkuD1gvr9ksFGwnNZ0Tb261vo8XWscpnWU44RYJTz31AtkWcZoNLrlRXK0Wfb7KVc+f0fsYJRSFKOM6ZHP0SxbEILRVgkC5vsVPgSuvbTHv/l//TGXPnUGhu//y93bZboGgwGf/vSnmUwmPP3003zxi1/k/PnzPPTQQ2/rRfvwQf9Bn+F7s8rznCeeeIILFy7w7LPP8pWvfIUzZ85grb3nYOt+8L879MR8o2fcIfA7tHP5+te/ztbWFpcuXXpLApn3sjTcu5P4vah71dI9jDE7nMczxrC5ucmpU6d4/PHHb2snHJ4w93IQ+G7WB5XhO1oPndrgf/i/fJ7/9+/9OX/x4+eQHqRUGOdRQBnFVMYgXKBMIjrnaFpDlkTcOFgg9xdcSzQbGxlXsppUBPYWC5yzbBQFNk55YHMbpTVxpFBKcKNesNfUbGUZ+23T/3easd/VNwFgW1NZyzCOWRqPFJIEyWZc4oKjsZaNuOCgq7AhIL0nlT1IWXrDaTVmsVLaHnQ1m6soNyEE++2SjSRnaurV/1dsJBkz219DB+ZW0LdwDaMoW8e9meAQQa9j4wD2uyWbcbEGfSb0tjCHNjAAs1Xe78ItELCyglkyOiL2QECNJZM3/f4EgrmpKXVG42usscz2Fjy38wph4vCRJRIJGEGINKFJmasKgevvdr4lS1KErwnCr9dpck9JQddWqEgRAoTUsHj8JcofPIQ0PTholg2j7QF5mXBwYw4ErLXUdUPTNBhjiOOY0WaJSiDTJdIppF5tSfT/dFVHFEccOz1m/9qM7jUzdtC/YDTzhtFWP0O4NmAOYLquV/M2NTqTYCSj0wNG4yE3ru5y7do1yrJkvDHus3oPhRsOZrsLBhsFTWPQUT9LPNu/Xdgh+vgW6kVLMUyZr+LevA/84M+fxamaiw9c4fzHTr+9C+1d1Du9X47HYz772c/ektpx8eJFzp49+5ZAxL1u6b7f7FZRFHziE5/gwoULPPPMM8znc1599VU2Njbe07SLN6r7gUw4vAbfyjl42C4/tHM5Cvw2Nzff6129Y2m4dyfxe1HvJ8PXtu2axdvf3yeKIra3t3n00UcZj8dveHJ+EGfe3qiOMnwf5NJa8d/86ieImwlPLzTTqibSisYaEkAaEInEGo/FM44SOutRUjBrauoqcP3ggKiDfJiwdXxAdqwgijXDuG/95iEwr1ts8BxLC7z0dNb1it3utaCvZiPJOGhrZl3HKE6YmoaZMTTOIyW0zrNoWrazEkf/MykgQ2NhZdTcp3gA7LU1m0mximQTHLQ14yRjtgJ9fepHxnwF+va7is0jmb5TUzM6AgI7b8lkhBYBG1y/zq5iHOfM18KOfhm1Shjp11PdzuqtxB6HgpAALJ0hO2rW7BzXd6Y0+zX7N+b4ABaBFYrUxdg84JUnBIMLjrhO8NnNhIzaNaQiJYgGsfKtM51h5msSozHBoLUkIHB524O+7z/EcDDAGct0Z0bX9fN4e9cPsM6RJgl5npMkMaPtIc2iYbo/QxQVkUtJ03TVGu+vk2KU4Yxj95UDRscGzPaXr3FuCYy2BiwmFQfXZygt0Ylk59o+TdMrm0ebQ7ZHWwgvEdC3rwWcPX+ag50pjam5fv0qs0nOoBwgjtxn5gdLNo4N8NxZxRunETpS6991jWGwUdDWBmstg3HOC8/u8Qf/369x7pFT/OL/4VMMN4vb1nO3692+IB9N7Xj66ad54YUXuHTp0pumdnzYW7qvV2VZ8qlPfYovfvGLdF3Hl770JR588EHOnz//vhv83w/PykPQ+XbOgyRJePTRR9et3m984xtcunSJRx999D3c0zuX/rAwTIf1Xs7whRCYz+drkLdYLBgOh2xtbb3tGLOjgO/DUIfMxQeZ4TssIQSXT4/4rz7zWf7FH36L527sEyMhCLIkojGWJFKoAAdVhegcnTckSUSDp5AZfihJVMT13Zpop6YcpuzmkjPHxlTGkEcxOMte0ws9Fq1FCst2XuBwzNq2B3pdzUFbs5Vk7LX12vdvaho674jRJFLTestOXbGZ5uytXng6o5BBoH2CtZKxLPGyf0PtnGccFSumLzA9IvoAsYqRS1m4pmf+Vq3j+Rr0VYxXkW7Qx6EVKu6VvaEXRkxNzTDKWLj6yDI3FcDQ27xsxDdBH6sUj1IVCCmJfEIqC0zrWO4Jru8ecDBbJU14KNKYNhiiSKF8oOosyQx83APPKNa0GJI6vgX02cgRuwxPTdea9ffeaU/caGxqkbL/e5FYuk9fYfdrmzTLjqZp+jm3NOXkA8fxXX8dF6Mcbx2LvQUIwdbmNsvlkkYsqfYrhsMh+SAjy5N1mgb0CtlimGGso2ssWRH38Wc7U5qmpa5rmqZBSMH2yU3KQcHm8THz/dUs3+qWI1eM3HR3ztaJMc0yZy4XTKez1b1qRFEUaN23cA92bs4mtq1dK5UH45x62VI1t7KO84MlWZ5QHhty9aWb1lcv/PQqrzx7nc/8yqN86pceQUfvHQtzN55Xh6kdx48f58qVK28pteNeA757/ZwWQvDwww+jtV63xs+dO8e5c+feN7uw+wHwvZu28lHgd89m+D5MYA/6lm5VVW++4Fssay0HBwdrkOe9Z3Nzk7Nnz7K5ufmO33I+LIzY0fogWbO8UR1+jmGR8t//l7/If/zGU/yHbz9F6x22s0hn2VssUKI3GwmpYiMasugMW0mC1GBdYO4MOZKFM8h5R1jCT6+8SpQq1Chme1SQFPFKvduzeDuLJVtZju16X7ztpPf522t6MLff1ky6lUCka+i8JVWaWCo679hvKjbTjIOuoQ2OghgXejNngM0k46CrgB4cjJOCynZESmKMZKwHOHzPRgUYqoJAb+nSORjqoo9oC4Gl7Rjrcp2p23pHofIVEycQAjoXGKgCt2L+BIJCDgnC921ToLaBTG5QuRYTPMY5Kunxi8ArO0uu7z2P7Sx2aVACgupBTpTpXh2MpuvMOpu2k4LYKHzkMJ0lSWJaOrIuRgwD3vbfo8US1RHRsF8OAAmdDsStRg0CputwzlMvlvizS4ZPHWc8HhNFEUKArV0/5yYls90FUgjkEWZ/MBjgvcfkLYt6SrVcUJYlSt06P7ac1USJZnSs4OqLN6iriqZt0UqTZRnb29vEcUw+SNGxxnb2ji9XSZ6gtWJ6Y04gsHV8jNYRXdcxm03pXM1oOMbtOw6R4vygQinJaKvoo/Z27+zbV45ymqqlvjohSTVpfvNBH6UR3/3q0/z4Wy/wV/7GE3f07rsbdTfTLoQQnDlzhlOnTr1pase9jFU73P69BDuH2x+NRvzsz/4sBwcHPP3007z44ovvaCby7VYI4Z4fA7g7beUkSe6ZUPNDZ8tyNxi+wxiz3d1dDg4OyLKMra0tPv7xjzMaje7KsTp0i/8wAKTD+rB8nqNMpXOOz1zcIg2n+Z2vPc1kUaPjmDxKEFoTaYXzHm88G0XGojPEraAVnlJqTBQoRczCdOggiBNNZSyDPcnV/QMCAV1o9suYkxtDWu3Zqyu2sh7cLYxhK8uQTmFax7G4oPGGSbuKajM1jXst6KvZTHMmYkLjHSOhiETABM9+28/wHZjeKmXates2McDCCjIdsVwpbyWSXCsqt2LBEL2xtG0Bwaxt2UoKJivmb2m6XpDhDlk8jxRQKL1eJxhGUcrSVTcNTAIMRMT+ZMJyWrOYVHSLFts0pKN+qbjQKCeQBFrXYdoepEkriBOF1x5nPUEGjAdtFCFyeO9Js4RGdMQTiU9vnqMmtjBVxGNN11ogIKRgObO0ux0iVoRMk26VMPKYccXwxyUiCLIyIYo08/0lWmvG66iyW2u8PaStWhKVUpuKa9euU5Ylg8EAKSXOWWQU2NnZZ/lsxejYkCRNGY3G6weDVKKPc9tdEEJvYzjeHjDdX6xbwaPNksW0oq06WIHr2f6CokxJfcSx05vceHWX61d7sdh4NCJJ09X6Ja6zeB/Iiph62R35BIHx1q3bapcd7bJjeC5DKsV0xTZ2jeGP/vXX+eHXn+UX/otPcuzMW4/veiv1XjBdR1M7XnrppTumdtzrLNn7DXBubGzwuc99jr29vXVr/Pz58zz44IPvCZg5vB/fDzN8H2Ss9KEDfO+E4fPer2PM9vb2qKqK8XjM1tYWDz/88F0x7rxTfVgA0mF9UNI23qystXjv+cEPfsD+/j5aa04cO8Y/+rt/jS//6Apf+eGLWKA1hlhIjACneyuXgYqYmY4iiqicRS48Tgm2st6Uue0saRyx39ZkQWPiQL4U1PMlP3h1QhHHiEKzl845szmi0YG9eiXqaBpmbQ8AhbU4CdtRgVnZt2ipiCQY7zhoKwYqYuEttTXkKiLQ+/ntdzWbSc5BV/fq3a739JuZBhcCtbVrFbDH0zjWyt9AYG46Ct3bvwghVjOBN9W9s9XM4OEMoA/+lnUCTE1D7mN2pgfUi4ZqXtMsW1IjCWVvJRIUeC3JdIKRfctRRxrRhl55vLr3ex3oWtARRInu2bpIIpVGGovpOmxniZIIEyxRo/FpDxYD0OFprwZCLKhbh4tAxRqdJMQBfOyxxqEjjdkyLD455czLD7A8qOlCh0DgrGO2t2B0bMhsBYyKUQYhMNu/aYOS65yNR8a8/PyrXL26IMkihIRgBVmacfLkEKUVWZGChHrRUY4zTOeY7Nxk3kKAyc6cYpiClL2C+Q6zeEJIrPXEqQbvSbOMNElZVkt293aJ44QzD53CW99HwAEIGG0PmE8qpJRkZcLkNesO9KBTCsF8f8Fwo2B2cDOp4+oLu/zHf/11Tj64xef+s8cpR3fHX/S9bG0e5s6ePXt2ndpxmEIB91bceD8Azjttf2tri83NTXZ3d3nmmWd44YUX1sfwboKzQ7HEvcYp94Nw5N3Uh06leyjaeLMbgzGG/f39NcgTQrC1tcX58+fZ3Nx8XyjXDxvg+yC3dA9tdA4TT6AfWD5//vwts5n/p1/Z5pOXTvOv/vi77MwCznmUEAgPVnq6zpHrCNc4tACfKrSDg0VNmUQ4BCF4hlnGvKlJO81cdqSRQjuJcKCXgdliyc7VKXlQ+FJyPU84XhZ0MeyGwHaRs9/UzDvBOE4wbUBHkKsIFSeY4Ljq5gx1P3JQud7KBW960NfWq/Zu/5CfdS3DOGFmWlzwtBYyFVGvlhdOkMpolV0bqJ0lVz2AOxR+bCQZ0xXIm5qGcXRT6NEYw3JSYeqO2XJJveyzYwciYRlWLWYEXQKljzCRAxFomkBdG6QIoMEai4oUkY9x3hBkDzC8Dnin0AiSLKatWxrrkE6ghSRoj2kNmhgvJXYCLRYT9YwgkSBtI5KN/ngdRpUZD5FRhLhnWJQWNBsVLzYvsHVwfJ38cVjTnRnjEyNCgOnukZzdAF3XUtcN9bWaKFVsjIfM9vp5xNFoRJ7l63m8etkQpzHbp8bsXp287nmrI0U1b8gHGSsYdsvvh5u9ncty0vseZmXaZ+oKyIuCIA3PPvUceZb3Vi5KQ+jnCofbZT9LeIcWr44USRYxWXn+TXdmJHlMnMZUy5Ysj5nszJjszHj2hy/zyV98hE//0iNEybu7r74fs2x3Su24V6rKw7rfGL6jJYTg2LFjbG9vs7Ozw9NPP83zzz/PxYsXeeCBB+4KSDt8rtxrwHe3GL576sP3YQN8IQS6rrtFPh5CoKqqdat2Op1SFAVbW1t88pOfZDgcvu/HoW/nuDdf8ANSHySGL4TAdDpdg7ymadjY2ODkyZNcvnyZb33rW5w7d+6O58SFM9v8w//28/wvf/J9vv6TV7AuoLSkbSxZGmGMowuBTCts43Ex5FGvmFVK0NaWIDx5HOPiwDDEzExHGkc0jcUIQ4JgmMSIIJAGFrOa+awiqgK18jyfaI6VBY32TNKI7SJnbjqaWJE63c/cdSCc49y4wIo+4CzXmont7Vv2moqt9CbTNzd9ZNvc9gpi4W+CvN5+Ra0FIi54mqOsnRDsNzW5V+xVc7rGcK3ZRS88B2aJFALnPML0KSROr/JztWVEQaU7vHU465nblrgS+NijtMSp3mRYWtm3bZ3Di7BO7VBJb6NiO0uYg9CeLE5pFxa8pPMBZKDWFuc7fPCoWJDaPh5PSQUafAzMFaFwxEmE7SwogYgi4hD6vNuVjkGcFuxyg+2njiNCf44keUKcRUyuT9c5vHs3JmvRBUCaJjxw7jTYnqU78egJrr+6w3Q6ZTFfMBqNSNKE0faA5aRi98o+5biga8yq5dxXmsW9inYFxqbtnHKc03WWrrFEsSItbhWHgKBZtAgBG8cGNE1HNQucOH6C+XzO1atXKcuS4XDIxvFRb9XiYbBZ3CLqKAYps6mhrQwcCRJoqw4pBeUgoWtv3tdMa/nW//YjXnjyVR773AUe+9yFd/zQfD/FC0dTO5588kmstTz55JPvOrXj7da9toR5q/NzQgiOHz/OsWPHuH79Os888wzPPffcWgX9bvb/XvsgHt2PDzzDd69R892sw/ZrVfXthZ/+9Kfkec7u7i5t295XMWYfMXzvb1lrb2F1oW9JXLx4kY2NjZvGuF3fdnyjh4vWmv/61z7Dpx8+w//0v32f/XlFHkUYHxBIBpFiYQxppLHOkWhNYyxt6FuDAqjajoGMCBryoDDBo1KN6hxN8ITGIVJFU3WkXoKEpIhJfKDCcWO+oBCaa2bO1bBH6iSt9mRFQhQErW8JWlItAht5xhKDUpIyikAJ0qgHb2Od4qTHhkBjLLmMmJsWGxwqCCRQ246F9SgPwTlq04sZQmsJradyHdY4QggMdUwV2vWDKu0kXeqJYw0xSAfaezpvsZ1lH8vYpcxDDyiChE4EdCtw3hMnEV1rEFYiXUDEkkhqvIXE57T7LV4IvIgwIhAM1Najck3bdBhjCbUjSQU6iwgOpBSoLEIvLS5ZeWshMJknqTUWS1IkuM722bWuzygOUX9+d40hOhU4ULucfPEMaRoz219QL2qapqbea2jahnIjR0jJ1tYmm8c3cNZRz2/OGM/3F5w6e5zioGA2nbGoZ3QuxnSGKO5FEYvJEh1phqv82+FmH53WHMn07ZerUFqydXLIdG/B/Ii58tEabg2Y7S2JEk0xTFnOGkajEWVZslzOOZj3DgSDwQApJPP9JUIJxlsDAoHZ3rIHf6+5NoZbJYtJRb1o+7bwZkm1bDGtZbRVsn99ypd+9y/53lef5uf+s8e5+MQDb/sBfi/Uqnmec/HiRWazGW3brq1JLly48L4oVO81u/V2FcpCCE6ePMmJEye4evXqLcDv1KlT7+j7O2TW7jXg+1DM8H2Yaj7vWwx/5+/8Hb7zne/w2GOP8Vu/9Vtrs8P7CZ1/2ADf/cjwHXol7u7usr+/v1Y8PvHEE+t4u9fW4c/eymd55NwJ/oe/+6v8r3/6A77101fwzqK0wgdIkEgHidZMFw15otEqou0MXgpKHdPiyYKkE6Arj1eBkAhKr+kUKA95GlM3hsRLpsuOOFGohUcoWMqOMopodM8kDtHUxuEENPMO7wPtwrIjJgxlxGw1Qxd5gVMBFSu6zpBbSR31nzeKJWrp8DIg6ZuEsZIILTHGIsPK504KVCzxxhOCQ8SgtKIRnoHIaJTt0yaUJ64lre+QUqK0JLSuxwtSIEJvxTKIchrbETyIAM46RCUIUpLlJRbfq2uNY6kOrxtPmWU0riYI8CH0iuCZw1aGKNMkWQwJKCMQ1vcqX+jnKcsIXQtctJoRUpIwUkRzSRta4jRCWI9XYJ1Am5ugz7uA23Jc89eJvq1p64ambYl0RJalDIfH0Dpi89y4z9B+nSze6e6cwWbOxokhu68eMJ/PuTG5QZ7lDIf9TJ81Fmcc4+0Bs/3FOif3aEWJJs0T9q4cUI5yjFK09U3xRZT2x+Iweq2tOsQKmC3nNcUwI81TqkXVM46LnnEsigIlFc5YutZQjDKqqlo3j4WUK0HJkc8Xen8/pRXbp0Yc3FjgVyrq6e6cP/r//TknvrrFz/7Vx3jokVNvep2tV3uP7ElCCCil+PSnP810OuWpp556x6kd72TbcG89AOHtA04hBKdPn+bkyZNcuXKFp59+mmeffZbLly9z4sSJt/V57hdm7X7Zj3da7yng+yf/5J/w27/92/zkJz8hyzJ+/ud/nn/6T/8pjzzyyF3bRgiB73//+3zhC1/gC1/4At/85jcRQnD+/Hn+8T/+x/zcz/3cfYvIP2yA735g+EIILBaLNcg7fGhtb29z+fLltyTAebsxcXGs+Tt//dN8+uHT/E9/9D32l0uklEgPVgTc0jJMYyrvUJ1DakWh+tSJVCimXUupYmwiiRy0S4dIBJENLLDEnSBPIyyBgVMsjUVliqj1WB+oG0umFMhA5Q0yQKc8RBJqQ4TES6ikYyNKWYS+NZgHiRWeNIsxzjN2iqX2QEAMYhIbaGQ/7yVCP6Dv4gjrA4d4q/EelEQ5ha8NnQyIEKhpKYkwETgDBogXEW0SkC2oJMHXBiF64AlQGctIJDSJ6a+NIKmDJvYB0zZESYRVHm0kUnj86rKedTWxE7S+xnqPjhXxRkxuMqwwiCBQkcIGi7YSKQJBBQSCrrPoRJGJCKcdXWvoXAcRJHVEh0GtfOWc97g2IkFjhGe/qrCuxasp48cLtn8wZDzubVAA0pWK9+D6FB0pyo38lvg0AKkl5bhgvr8AajaOD5FKUpYl09mUa9evMdoYcfL0MRYHFctpRZxGZKNbc3ZHW/2s3vygb+EuphVSSUabBdP9JcOtkmpW37b9EHpmcHxsgHOut4dZGci3bctsNqNzDYNyiDUWgaCtDFkZU3eaJI3Qkb4tvxd6ABonEbtXJuhYMxr3KubgfS8E2V3we//yq72w4z/9OA9cPP6m19q9AnxHZ+hGo9G7Su14J9uGe5vy8W62L6XkgQce4PTp07zyyiv85Cc/4dlnn+XSpUuv63t4p324H57jH4oZvveqvvjFL/Ibv/EbfPazn8Vayz/6R/+IX/u1X+PJJ5+kKN69K/u3vvUt/vbf/tvs7+/za7/2a/y9v/f3+J3f+R0effRRfvM3f5OPf/zjd+FTvHf1YQN89+rzeO/XXom7u7tYa9nc3OSBBx5ge3v7bbdd3g7Dd7QePX+Cf/jrn+e3//SHfPupVxBBIYJHRgoRBLGTRJEAKaicQRqBU56tOGXWdWgrsLFES4FHYASMfITxHlc5VCKpnCVyAS8CNlWMQ8QyWCrrSa1ExArbOlKn6IxFJBHChV5UIgL7NIzjhKlpMUDkwcmATjUHtiFvFHXk+99FCt0Eaukw0FuiyIDINHVn0F6ADFgJXgjiKEGYDqMABItgSTtFyDWmtdQxZJ2kSTy+s8R5TKgtqVZ43fsCzp0lbxRd6jCtwflAJwKRkRj6KDAnA1QBi8EGhw8eF8eUUQEZdJ0lOGik6/348LjgSLKYrrEo21u7iBh0pHvG0FqKoOmhaV9GgV4kWBXwSuAy6Jyhm9Uob5GZIoo0SmlMDt0vCEZPxqRxjE56u5aGvu1qjWNxUDFaWakQAsOtkmbRMDsClqY7c4pxju0sWiviIuLKS1d56kfPMBgMKcvVPF9jGG4PsZ1BKnlHha53nnre9PN6dYs1t88LZ2U/i3ZwvReYDEYFzlmqRUuSJlw6fZ5rr+xw49pObz0zHpPECdWsQStJNkhYTG9PNipHGW1jWc7639nOMt2dE2cR5XjAdG+JW7GU117a49/9j1/izPljfPavPsbpC8de9xq7Vx2EO6lk32lqx9utDzrgOywpJQ8++CBnzpxZ+x4eMn7b29tveMzuF8D3EcP3BvWHf/iHt/z/v/gX/4Ljx4/z7W9/m1/+5V9+1+u/fPky/+yf/TN+5Vd+hXTlJwXvb7zau6kPI+B7v27Ixpi1AGdvbw+t9VuOtXuzeqeADyBNYv6bv/EZfuaRM/zPf/x99pY1LgRkAKkUrXNIB7GTuFgQ28BB1TGMI4Lo5+UqFTCdAx9YSNhIYxbO4k2gEAqrA8E4rPPMlSD1ksoHGhUovMLkEu8DIiha40iiCOUCsRMEAbUzjNOEiW0xEiIncI0lTmJqYciNpIo8xji8luRBUwV7UzxRWeI8om0MkRdoAlYGWtebHEdtD/qCEDTSkVSCpIz6FmgKIxdTqb41q1KFqS2IsGb65tIxqBTkEXXTECQYH5CNp+o6nHdIKUiFJo1jvOjzXRs8yVISFxrT9S1jG0NsND7qUyzidOVrZwSua3s2L4C0iqoK5HnJsm0xin69sSftBEu/xDeBJIuJ8hgtUpIgcPrm9TstFvB44IHntl93fm66O2fj+ADnArPXMTheTioGmwX5MOPg2pTNjS3apmE6m7JcpfsUgwIhAt55pLrzg3C0VbKc1hzcmCJEP4M3myzxLiAEDLcHzPdutloBltOqF3UcH2A7x3RvQZZlZGnKsqrY2dkhTVO2Toy5cWXO5PocFUlGWzfZu9H2YK0+PlpCQF4k7F+dkOYJxTBltr8EIXqz6P0F//b/80VOn9vmZ371Y5y9dOK2z3Sv7Elej1l8J6kd72Tbh9u6F3W3t6+U4ty5c5w9e5aXXnqJ73//+xRFweXLl28zvD6s+wXwOec+AnxvtQ7tLu6WxH00GvHX//pfv+3neZ5/BPjuQb3XLd2qqm6xTimKgu3tbR566CHKsrxrN6R3A/gO65HzJ/iH/7e/yr/9kx/wF0++ROc81nsiJak7Q5ZG+MYglWIjTai9QwWoG9ObEGcxrbco69mvO0ZJzMy2WCkoRYSIFJkNNK2liTxFFFOZjrnzJJ1AZoqlcygbCCbgIomKJMqDUz2TtqWyHoCq0KtcW4eMNbVwZEZSa49znkYKShWzcB1OBYIHWTuSPMIaTxQgkgK3Akk6T4icx8he3dcZRzyziIHq2SksWSUwscc7j04U0gRwDrdqtc61I5kGdKRo2xbnPVpJcqHxWUTwoJIIt7AI7UH2gKLTgXghSEcxbdPPr5k4kMuUoCx2EYikIniB6yIQ0Ma+/+MYlp0hlQoTGpxzfWayUuQmI5S97YlOdT+baAKxkciit5QxnWFPT6lPNXwsOsd8d3mLbUs5znHWc3B9hpA9SHotM5fkMXGsma9+PtgsqZctgpQkTamqisY1NPs1TVWTJCksW0bbAxbTCud6k2kdq1vWHUJgsjsjyWKSjRTXudedKRxsFiz2lkglGW+WTPb7qLiiKBhvjlhWC1554SpSSqyzgGa6MycbpOSDlL1r09vWqWNFmidri5emammqlqxMSIqEetGtmcIrL+xy5Z9/mZNnN/mZX/0YDz588q5ck++m3swW5WhqxyuvvMKTTz7Jc889t2av3u227wcPvrsNOJVSnD9/nrNnz/Liiy/yne98h+FwyOXLl9nYuNWw+35h1pxz9ywl427U+7bn3nv+wT/4B/zCL/wCjz/++Hu6rY8YvntTd5vhCyGsDbF3d3epqmqtsn7sscduYXXvZt2tXGCtFf/Vr32Kzz7xAP/rH/2Al/fmoCBWCuUhiTSNDwjjiYWgcz0b571nvuxQql8mk1AHR5nGLNuOWdeSBUWbCoKFLCgUgs04ZW46Wjxx7YhjTRsMsQ+EztOoHnCKpcOrwB41AxmzVL0divYC3wW01ggJRbMyNxbghGOU9D59XoANAbWwiFTSeY9cmSFbFeiALI6gtn37FUGrAsnCExW93UkdBfJWUie9qbFUkihogjUYbG8roy1JDWIcoW0/Q2g8xC3YKGBaQzKICZVFh4CnbzuHIPAHgmFZYpynaQxTHNILgu4VzkJI9CDCLy3SCjoszq+8/0KgCBpdRMSrO6SNIW0EJnVYY5FKEpcRrvOwsLj4pmVKNWh5kud5xD2IWTqSFUBdHNxk/YL3vVhjo6BeCSvyMmW2N6dd3lTfzvcXRLFmsFHQtR3DjWPM9ufMFwv29vaI44TRaMh0d06SxYyPDzm4PqOpb1Xw0n+NpHnCbHdOuVEQJ/oWqxcdKfJBumYenfWYdsFgmBEESK1YzipilTIcDlksFly9epXBYMCJM8dxxrF3ZUI2SFFargFcMUwxnWMxud0QP4oj5ntL4jRiuJGvGT8poVq2/N6//CpbJ4Z8+pcf4dInzt5Thu+tbPewbXn69Gleeuklvvvd7zIcDnn44YfXqR3vZNv3qwff3SitNRcvXuTBBx/khRde4Fvf+hbj8fiWpJP7RR17vwDPd1rvG+D7jd/4DX74wx/yla985T3f1t2IV3s/6sMG+O4Gw+ecW1un7O7uEkJge3v7fTXEBu4K4Dush05t8w/+7q/wR1/7KX/67WeRSmFCAA+JEFjvEfR+cKLpJapFHtNah7eBVgVk67HSM0xijAo0zhI3QKpoG4vqBHMCeaJRRqATie4cMlKwYtCE6/N541yTVI5WeRbekDtFm8je1NgLgvXUCnSq0bWl1n3obVN3lHHKomuRoX8QxSYgIo0U4IxD254t88YSxzHaG0wIBAGGQDx3hFwRQqCOHIXTNInDO8vSWIRxBBdQWhGJmNa0jGYalSuCDXjTtyPjrp+rMw2oLMW2FhKBSyTBB6yxVLMOmQlCInHW4VRvooz2OBzdokNI8I0himSvIFYKKQUu9ABPDNXaf66JA1kXwbD/rE3VEacRrYKkVb29SwDVKVoVePrsDpde3UZYWM7unP5TzWsGmwXehVtm+Y6Wcx6pBGkWs5g1CCEZDoYUedErem/ssHl8jE4Ue68eMNgsaKruZj4wkBUpQvQGyQDz3TlKK0ZbBbP9JeU4p1m2r/Ht66upWspxTqC/Zy3rJU3ToLVmNBphRcdzTz/PoBxQluXadqYc58RZxMHOfJ1zfFhCwGhrsE7wqJct9bIlLWLSLKYzvgd/wN71GX/8P3+Tr//Rj0iPe7a3Xn/G772qtwu63ii1YzAYvK1t3y8M33tdURRx+fJlHnroofUx29zc5PLly/f8GBzWR6KNt1C/+Zu/yRe+8AW+9KUv8cADD7zn28uy7G3Hq92L+rABvnf6edq2Xc/j7e/vkyQJ29vbPP7443ctu/jt1t0EfNAfm7/xix/j0489wL/+vW/z/LUJPkikhqbtKLIUYy2NDJRRRFUb8lgzty2ZjDCpQJnAvO6QEoZRTCMsuZc0WYQ1jsRA1VqSWNN1jkXnwDlGSJQE5wKx6mUJolSMXESFowuQWWjTiK4xqCDQlt5sudBkS0etPQHBvGsZRQlT10EQ2BCIrKfToDONbwwqgJGC1joiFRFLQas8gn7baSdY0GEdLOoKvetwhUIrjVQxRRZj2g6jAp127LiW4SzGDzUq0djOIrwgk4qQCgwQEoW24Fq7ngU0GuI6EOJAlEa0dcsyOMTcQuzRsQYE2ahAGhDeY1fJHUFArQPZ1BGPNN73DE/TGqKJwCceBNilJZFJnwk8c9SZIypigvMsTcXi+KtcfGrM9taY2cFyDXykkgw2cpaTislKMDHc7mfuDlM++p8NqGf1uv0axZp8s2C+v0QpxbGT25yKT/DK81fYvzGhLEu890RJxGizZDZZMtgoejD5mtPZWcfiYMl4q6TrzDqb+GgV44y2arn60nXquqbrOsrNgjRLKMqCcpCznDWojWht5TIcDhmOhwgJ+1enDDYLrHHUK+YySiLiNLotrg1AK8Vy1iClYLRZMJ8s8f2hRmrBj776Eld/MuOzn5/zxF+5SDl6b2IvX1vvlGW7U2rHyZMnuXTp0luO7LxfY9Xeq4rjmEceeYRz587x3HPP8Rd/8ReUZXlfAL6PGL43qBACf//v/31+53d+hz/7sz/j/Pnz7+Xm1vURw3dv6q2CpBDCLVFm8/mc4XDI9vY2Fy9eJM/ze26webcB32Gd2Bzw3//dz/O17zzHH37tp8zqljLJsNYhEWQovAskSrFoOoZJQmstyvdMX5nGWAKVtWRas6w6IiCJFV3iGRFRS4+MNbm1LLyncY7IS0IksI0lrgVBQkgEselVuAsByUKQFH1SCEAuFMYHfKkZWmikJwhY4hiLhEo5vO/n/4ogaIJDFzG2MsQ20KnQmyvTJ41M2xrrHBPrSLqAKxR5meFST2klzUoAURtDmsRIaxFZhrWGmekoZ46wkZLkMaax1NaSzCXdyhfPCkGexNCuZg2BWjiYO/xiicgUWisoYmIvkYCXAWc8QUs0Gt1Z7CoFREiJHSjSClzcewqqVhKcIMwlLg40OlA7h9SCuIhJF46muan0bVLH049M8E/BKM2RWhJFmuoIiDus2e6it1wZpAghMI29jfUzncXsLRhsFqhIM9tbYBrL1tYWXdcync64du0aw+GANI8ZjDJM1d0G9qCf1WuWLQfX+5m74XZJXXWYxuKDQyWCF595ibbtiKKILMv6+DUdMT42ACmY7PbijEMrl6ZpaG3NjRs1xbwkTdNewCJgsFEgtaSat2v17tEab5VMVznEQC8KijWDzYzgA9O9JYRA1xi+8+Wf8r2vPMXHPnuOhz/1EKceendzcm9W7zba7GhqxzPPPMNXvvIVHnjgAS5cuPCmoyn3c6zae1lJkvCxj32M8+fP893vfpfJZML3vvc9Ll26dFdcPt5J3Q2G715+l+8p4PuN3/gN/tW/+lf87u/+LoPBgGvXrgG92OK9TLn4IIk2PmzRaq8HYL33TCaTNcjruo7NzU1Onz7N9vY2cRy/z3v7xvVeC1B+/tMX+NSjZ/g3f/AdfvTCDUJYHT8BrXUoBKM0ZVY3aCF7AOd9P2MXCawNLLxhlCUsnEWYPrYspIFo6aiUx3jHQGtCrEFAGiRtLmmrliRI5p1FKkERImprkQjEzJHmEbU11KEjNpJWBnys0bWnlR4v4ABLGTRtAp2xmBBIvKTRhjjVmMYQW6iE7Zmk5ZJcK6yEJIkRmWBoJY0NxGlM0xjSTvY+fUriJMRpQgrUkUJrTWMM4uqcUCqKYYH1ggZPaiRt5CEEqq4j0hK7rDHSIZVA55rYpmgkMukBtXMeHMgAXgW89XTCk+YxmfUgBXZpYRFYiIBaKpa5J84TuqZDRILYSiIFMpKY1tBUbW/0vIxo45ugr0sczz424YmdHLFjiCKNMbezadB713nr0ZGia80dlxlsFHR1h53VlONi3YaN454Z91iW9YJnf/ocw+GIPM8YbQ97tsx6dKLJynQtDDms/WsTWtMik8BiVoOTZFnGxsYGSq3UzVoyGOVMVmA1LRJ0EjGfLAkhcPzMNrP9BdWyYn9/f23lEscxQor13KLSkqbqZxelkpSj7I6MX5Ro6lmDNY7RZs7+gVrP2A42Cn70jef50Tee59iZDR7/3AUuf/JBdHT3GZi7xbLlec4nPvEJLly4wNNPP82Xv/zlN03tuNftzHu9/TRNOXHiBFEUoZTiq1/9KqdOnVqTA+9nfcTwvUH91m/9FgCf//znb/n5P//n/5xf//Vff8+2+0ESbRhz55v6B7FeK9owxtwSZSalZHt7m4cffnj1ELl/L5z3iuE7WnmW8Ot/+z/hyaev8m//9IfsHizwAXQQeAWm7aPN8jSisQ6U7CO9UORRTGcMB3XDIIqppCcSCoLAp5q0tohOYIJlMyvYbWpaIAuSKI2w3jMSEbXydMBAJyy8wXuwlUFEEiUEGEeBJJjeT7BEsXQdTgmWwpHVEoqoBzzSkxrBwtQEEag6Q2RBZJokTUEKtqKIRbC9ACOBsddUIpDkCd57srqPlTPOY7BoBFmkWCKIoxi/oRELw3R/RpqnaK2pcejKU2tHEJ7OCuJYUxJh1eq7jPpkDFE7iAU6UfjaIY1EdRAlMUEJ6nkHkUIaT6sErDwFA4GiVrShI0oihADvgcriO7NO7zCtxSaCgU9ZigapJDpSmNby3WOvcG4yxOwYilGOM26dhJGPMgSCxeSmsCPJYuJBwmLS38vyQYqQYmXS3NdsZ9b79hlP2xjG2wPmB0sGmUaFw8SMOW3bUo5KxscHTHcWzPcWBMAaQ13X1E2Ns5bx8TG+EZw8fpJ8mN9iL1MMeyb6qPq3Wba9SnirRMWK/eszCD2wybOMxXLJ/sEeg3GJvWaJdC/SOGT8EGA6t57XO1rDrYLFQXUkoWOBaQzHT2YMhiUHRxjSnVcP+NPf+TY//PpznDq3zeM/d4Hx9tublXujutvCibIs33Jqx4ddtPFWyjlHHMc8/vjjXLhwYc2Snj59mosXL75vMan3i3jkndZ73tK9F/VBAnwftpZu13W8/PLL7O7uMplMyPOc7e1tPvWpTzEYDO55q/at1vsB+A7rscuneOTCcX7vz37Mn3/3BYy3GB9QUqKVoukskZDY1lHmCbO6xXcOq2FTpzgCpdDUwrNsOmIkLpZEQdEFWFrLVpTSdgYXfM/UJYK5NyQt1LIHfaMkYWoavBTEHiIle9Nk58hX60dAToYPh0KTQFR7bBC0xlA7RyoFPouQowQpJYmBWvbt34U1lCLqLV86xwEteS2p4/7NOSSSuA4YHfASLIFFaxmkMXPTIoWEQcKg0dRdh7UGJLQqkLUSX0S9+MIJFL2Ny6HoYqWTQbaBJg7EeUYbB3xjUZ3B6D5VBNurcEuRsAj93JlA0OaCIRkL04+LKK0xOqCtRAWPW7WCgwssI8dQFMzckq7pr3Gn4PlLM84+N4Rpz2xtnBjRNeYWoHdYbd3R1h2bJ8c4597Qt2+4XZIPkh4Ehf78LYqCPM+YLxbMFlOM76imFdkwpTYV070ZzjvSNOX46WPEum+Vo8F1jvnuvAeiQqBjvfLWu337w82CalZjjWMwzvEhsJw3BODkA8epFw0H+xMOltcoioLhcIhWfZ70YlqTD1KKQcpyJfaQUlCOc2Z7tx+TONM0iw5bT0mLhCRLmK+8A/MyZefKATtXDvj+157m9PljPPbZ81x47My7Zv3eq7bqW0ntuNeA614DTrj1GBxlSZ955hm+/OUvv+X2+N3Yj/uZqHiz+uAayrxBfVBaukqpDzzgCyEwn8/Z3d3l2rVrGGNo23Ztgvx+vXnd7Xo/AR/058Lf/GuP81c++SD/y3/4Ls+8vIdAYIwh0ZLOOHSsmE1rsigiShWewMwYCqVZdIY4kpRJSmMNogks8QjroXVMcRSRBq2wwTPwkiAUxCBaQ6U807ZlECcsjemtVhwo4xCZZtI05K735usQxEpSLyu64PAhkHmJGCRIGWODJ6sEVedQBFSiiRfglUAIjQ2eXAhklmLqjgAUtcLLlQI3S5DLFqTg0MbOA2OV0pqOtu1o2g4VBFIrOu/QWYSRgrzR1HHAIejoRSzDLGFm2x4IRpLgBbqxNFWLjjVegfMQG4FZ5Ql775mFlo0ko9aW4AKmsxzQkhqBSTzeG5I0omst3gliIxBlr0C2re3b3j4mKDBNLwipdeDpCws+drDJiUnC/tUDinFOksW35N4CRGlEXqZ9NFusGazEGkcrK1OklmswmBYJKtYsV5YoOtI88NAprr+yw2w6Y2KmcEOQZSkPnD+NCJKszJjtzjH2Dm3m0LMaQkqSLF63Yft1K/Jhdouy99B6ZbhVoOOI/esTQoDhcEhZFMzmc67fuM7x09tMdh1SqnXcWz7K0LGma80dGb/RVsn169exsUOriGbZ0ixbimFKnCU01a1WNNdf3mN+UPHlf/9dLn3iLB/7mXMcP7Nx23rfSr3Xwok3Su343+sM35vtQ1mWfOpTn2I+n6+B39mzZ7lw4cJ7NiL00QzffVh5nnNwcHCvd+NN64PK8Dnnboky896ztbXFaDRCKXXfR9q9lXo/U0OO1rHtIf+P//aX+csnX+YP/uxJ9mYOvESJPr+2jGOEljjrCaJP2bDKU2YJddN79OVJRCsdpde0CnSsEa1jaSyxFT1wbDuSIDEyoFPF0PWWJCHAKE6ovKFzDusCUWWJ04hl06GWhko4KiBNIgqvsVogEMQWXCxAaBrhKZymjjyNcUSlJqo8lexZwhpPvrS4QURXG4QUFGiaOGAFiGGCMoHOdtSdwbYW7zyl1PgiQsRxn9DgQKhA6wwuONrgGNUxXQZC9sxUHTxDmbCgFyQACBGIO0mHRUqJXimUk05ikrBS8Ab225qRian1zVnbJoK0ldi4b6PGiUYoiass+qB/OEs0nQzsSk/WSeRQYzpLFEcE73lyY59pk3KalOWkQmnJaLtkurvogV6RMj9YrDNqTWswrWGwWa6BYVokfXv3yGl62GItNwpa27J37YCXX3wZ6EFeWZY0TdOLK+qGLM176lNwy3qkkgw2i377AaAFAcOtIfWyWcXUmTvauGRlgm0t870lw80C6zzLWY1UilMPnKBrO25c6yMQh8Nhb5qOQCnJ4mBJnGiGGwWLad/O7Wf8cqZ3SO8YbhQs5w3LWc8OFsMMFWmssfgA81Xe8I++8Rw/+sZznDizwcUnHuDSJ85SDt/6y+j7wXIdTe24evUqTz/9NM8999ybxo6913W/AL7XY9YGg8G6Pf7MM8/wxS9+kYceeohz587ddeD3EcN3H1aWZVy9evVe78ab1gcJ8HVdtwZ4+/v7xHHM9vY2jz32GOPxGCklL7zwAsvlnSOlPmj1fjN8r63PPHaWTzx8ij/44pP8+XdeQAaJRyBE76cXKcmyNWRJRNV14AN5EoGC2lkSqZgZg68tOliyLCYTgVoEQggM0oRF26F8wNeONlGIps+udQKUCAyjiKptcMFiK4+LBSLXbIkUG0sCq7gsL2hW7d40SIIEH4PzgXEQ1LK3dPGlZMNLlqL3q7MhkDRA2kehLbwlWUAtW4xzBDzCeJSUREmESjVeBAqrsOUqtUNB5AWpivBRjPeOmenIK4XLJKbpv8OWQOkVJheYzhJEbwaddZIm9mAhKROcdSRLR+P7NrBAMA0dRaVQQ023AoydhmHIIATqicFKD3lMJQ2pgy4Oq7+GNg4URpFoMM7jbA8eXz3V0EWecy/3CRz1vGHr5Ihq0TLdu7MnXz1vKDdyIDDZmd+S5OG9p2kagvLsPHcDbwJbJzdI45QoijnEDFvHN7HOcuWla1i7w3A4ZOvEJjqOWE4qynGO6eztSRwBFpNFP3uHuMU+5nCB0faQ+cESv8rJPWQkBxs5cRqxf2NG8GGlKu7WM4Znzp1itr9AIGhsR7Ps0IlitD3AdJbZam6xP+d60cbwMKnkyHW6nNUMNgqc9aRFghCSetmDwbxMONhb8LU//AF//h9+yJkLx7j0xANcfPwMSfrGwOD9bGsKITh9+jQnT57klVde4amnniKEwO7u7rtO7XgndT8APufcm2aij0YjfuZnfoaDgwOeeeYZvvSlL3Hu3Dkeeuiht52n/kb78RHgu8/qg9LSvZ8BXwjhliiz2WzGYDBge3ubCxcuUBTFbTfAe8WKvRd1rwEf9Oat/8e/9gn+ymcu8L/+3nd47uV9nAMVK9rGkGlNsJ4oKEIMEsGi6igTzbK1pEJQpwqlFXVtCFqQIjDWrUycI2rV5/yqAG2kUM7j6o5lsMwXFUWsaRFIHTH0CmcEKtYw7whSYCVUCgZxzLRtMTi0B0Qv1ph2HYmjj1kT0ElJKTVz17dyDZAuwGuP87ZX2dqATCJEFBGlmlgrQmPpRA+ilsoxbBQijwkhEHxAtA7VeYKSRDKmSzxuv0IOYnQc9YII6chnAjGO6FrTM0FKMOhg7juaZYuONE0mSJaSJnFoJ1Be4jzI3UCxUdDhqDvDjrNEbQAp+kSRxhAlmtZ50jrgBn06hWkNC9Ohm4CSEJcRpjEEYGe7I5SKJ3a3qPYq9q5Oeg+61+TRKiUpN3sRw+RG79uXDzO8d+zfmFDXNQ5LmqfQCkbFmCiOEF6Qjvs2bz1velXvfs/aHTt2jKapmU5nLBYLNrc3OfHAMeplS1t1t52P5UZOV5s1EFSRYrRdMp9UaK2IE71mJI9WlGoEgoNrMwbjnEBgPqmI45iz5x6grmteeb6PahuNRqRpikCQDzJmO33W72iz6O2CQkBFimKY3XFbo2PDtaikXc1upnlMMcpZzOoj85yBV569wXR/ydf+ww84fe4Ylx4/w7lHTxEnt4ODe9FWPUztAHjhhRf43ve+x2AweFepHe+k7gfA93aYtY2NDT772c+yv7/P008/zYsvvsj58+d58MEH37Vx/0eijfuwPvLhe2flvWc6na5BXtu2bGxscPLkSR5//HGSJHnDv3+vrUzez7ofAN9hbW+U/N//r7/Ed3/4Mv/hiz9hZ7YkEpJIKZZtRxxpQug98mIktev9+mbzCmk8MpVYGciVpsWTqJhF09LWjlJpvIS6qjHe0UpPkmiGMsaVGiHgmNTMTNcDGdfnzcZZgm8MwkHwgaXp2EwTmuYmUPALh04jjPRo43Ay4LxnHjoKHTGtK6x3LJ0jqYBUMxgNcKaPeZOxwGuBlxJVxgwtLLF465gHQzYBk/chuhaPpJ/D6yIJSPSxIXZS0XQ1URoTJzFuqMg7QYgV3np846kdZFbiFVAHpBKENEYvWtqUPutXSZzxRNMWlwp01LdojRYoB5EFo/uEjziJsQnoqaFNOg4HEa0SeA/xzKIK1b8gEdil5uubV3j4oCT2Cu8D050ZWZn2+ceRZjmp1kDLOUdd1+zu7NJ2LeMTI7bHG9gmoNXtt/R62TDKBpSj3kT5sHUrRH+vTNMUmcC1V64z2Z8wGo04dnqbumoxjUHHqgdfr2nfOuOY3JixcXyIEILpwe3sfp8F3Kxn+w7/XZQpSREz2Z0jvOT48eNUVW/lEicxDzx0+hbRxiGIywa9t2C1uPWFXkX9Pr42m1jQq533rk5AQDnMUVqxmNWU45zpijl84adXeeGnV1FKcvHjZzhz4RjnHz1NmvfM3702Py6Kgk984hPvOrXjndT9Avje7j5sbm7yuc99jr29vfVc5CHweycsXQh9d+TdMnwfzfDd5crz/KOkjbdY1tpbosyEEGxvb3Pp0iU2Nzff1sn9YWP47vV389r61ONneeJjp/njL/+Er37rBRpnSZQG17Me86qjSPtLelkZxKFIwYZ+9s0FlPHM6IUgzlgmtkYaB4nCI9mQCXiBTjSutVTCcyAsAxnRxhLrA+XKkFllERJIg6ATgQoospRlsOvzIHECrxQyVkTGgbW0zrKwDWkkiaIUlek+nN0HjO1No9vWQOORAqxyOMDHkrSDRvSYpVMQLwM28hRpjKkMwgcy1xtL60ijxxsY07KYLuiCIaQJc6VQLmBSgU5Tmsb0c3kG2rj/znXwqHFKWXuWXYelb8M6DVHT+/bFRc/UOQVKaQZSsfTdesYuFJqsUTTKEFb3+KAgxBFxFzDOkUQJoQnMJXzvYs1jL2YUjULHijjvW6zFSGOMYTFfUtc1xhjiOKYoCx469QDNvEUiGR7vAc/RNm8xynsBykrUIaRgtF2ymFQ468kHWW9QPa85vn2C+WK+NkMfb2xw4uwWy1l9x1m9OI+JYr1mHKNEM9gqmU8rpBC9oOMO4gsdK3SkmVyfE2cRaR4zn1Tkec7m9pj5fMGzP32BLEvXRs99u3jA1R9eYaLnFGXOYKuga/r5T+d61vCW7USKNE9ugsAAi2m1ngn0zjEc5yzmDd55lJLkg5Snvv8KT33/Fb4ov8vJs5tcfPwMbagoRu+tAvT16pBdvBupHe90+x9EwAesn2dbW1vs7OzwzDPP8MILL6xj797OOg89c+/1sXg39aEEfB8xfG9cTdOsAd7BwcHaOuWTn/wkw+HwHb+B3I8g6Z3W/cTwHS2lFH/98x/nr/zsBX73D77HD5+5jvEe13kyqbA+EJxHCUGMYuE6UqWYVg2plFTBQNdRW1CpotARbRKhA2S5xgvIhKRxHq8VQy+xLvRxXQ58rlg2Br1CMFb37UbZOhoZ6IBUSEIsaFtL4x1R65lKi1T0s3JSQ5JipUQKiQyC2YoZVB5k4/GJAg2+c8QOGgVdHTAShjJlaltAUAuIu761LPMU7z3WOaI6MBMWVsrTfHODar5kZhtUUMRxQmrAekOUabzzuERSOkntO2xnsZ3FKEkhYyrb4VeXhdH0YpHGEWcxhEBbd3QY8k7SrIhw01qsEpQqxbqOJIoxtcPUjqUKpKYHiCpRCCloO8uPLjd8erqBfNWy++o+dV3z6stXCMIz3BxSyIKizBltDVlOliwPeqbLWc90Z04xygCB973wZPEa1i34wHRnTlrEbBwfsnd1uj7PhRQMh0OKoqS1NZP5PvMfzdjYHDPaHq2Nm3vxRg8auyOtX9NapjszRscGSK2Y79/+0l1u5LRVx3y1X11t6GqD1ILNkyOW05pYJZw4cZz5fMG1a9cZjgecOH18Jdror01rHNPdOaOtEmsdSRZjjcW5/rPkZYq1jsX01n1IshipBLMjx0VKwcZW2RtDH9ln7wOTvSV/8cc/5sb1HQbjjP2ftzx46QSnzr1/ud6vZRePpnY8++yzbyu1453UBxnwHZYQguPHj3Ps2LG1Evr555/n4sWLnDlz5i2t+/DZ9tEM331WH/nw3VohBBaLBTs7O+zu7rJcLhmNRmsT5Lv1dng/MJZ3q+5XwHdYwzLj7/6f/xNefGmXf/cff8jL1w4QkaRzDq0jbPBUpkOYwGx/gRR9fJpCotIclQq07AUWG0pRtS2mtcRKU8e9lQsCaikos7gHlSKgDeRJhm0Nznpc8LTOEWWarHbU0lM5S5hahA40ncFIxYAIoxVREeGdJTVQS+i8x7rAME2YtS1Ogg+BqPF0EcR5RFN3FEHRxgIhBY2ADZWxCL1yt8OjG4doLT7uwVOlHFknqOP+O6w6Q1xk5C5h0tU0TU3IEso4JdiAZ2UxZFoiB0rR74vzzJ0njxOsMbioZ46CC3StJZ52tDHEK9XqMvYUTc8wEgQqjWl8gBBhW08r3Oqu2+9b1glaHDrWJHlMs2z5SnKFY94yvuHI0pTBYECapkSJZvzgiGbZMt2Z3fG8sJ0lKRK0ENSL9rbfCyUYbpYsDpbsvnpAksfEWbwWV0glGR0bMNtTRDJmNpvx6itXmE5mbGxtsHlySFvbO3oCqkhTjG62VZXqZ/yqeYN3gXKcMb3D38VJRJxHTK7PgcBgnONWD/gTp7fZubHH0z95jkFZHplpVBSj9EgLt0YpxXCcoxPFwc5inVt8WIONgnrR0ja3phsVg4z5pMIah5SCwTBDKolQgtlBvTZ+Xs5avv/nz/LiU9dZzBtOP7TF2YvHOHP+GFsn3vmL8pvV64GdPM954oknOH/+/FtO7Xin27/XPnx3SyxxVAl97do1nnnmGZ577jkuXbrEqVOn3hD4fcTw3af1kWijv0iPWqdY2+dtPvjgg2xtbd3VG8Jhfdhauh+Ez/LQg9v8/f/u83zn+y/y+3/2Yw4mS1rTUrct1hp8gLiIUTJB+0CeRgTRW58Y75GtZyocZZoQeY+SAhkEXa5o6o7Iw7xqSZMIWk+N72PQtMbGAm8FAyRdbfHOoRuLwaPTCKkVo3JAiycQGHlJKwIyjnBxYOwklerP/0YENrOMJa4/7iEwsIKlccRpTNUZsgqq6FB1C6XUtFLgoGf4AkStp9Wh94xrDFknaOKA1IqgJE5LTqZj9uolXdOxW7WkSpPpuAeYK+CmHES+n8tTq0g4EWnSEKhqAwS0F2AhMwJfO9I4wkiok8BARCxCh7M3GTAVBIM0ZW7blRWKwJaauLYsZ0uMdwgpiNOYvUcUyamU01dT4ijqRQcHC/Ze3QcpVlFpi55xA6IkIh9mzPfmtHUvTDi0epntL/HeM9wa0FbdLerbtupoq45ilBMXCcv95fr3URSxtbVF27bMF3P2JjvMJjPGm6N+vQdLwopRG2yWNFW7VtNC/4Cc7swoxzk60tR3EIIMNkvqRbNOEwHBYlqDgPH2AO8949EGWZoznU7x3hOkQ8Xyju1iQmD/6pR45WHYtoam6hhulkxvWz4w3how2V+ulb7eBxbTulcA7y5Ji5gkjaiaOc4FynHOZPUZX3rmOi89c518kKK14tjpDc6c2+L0Q1tsHLt7JvNvphB+O6kd76Q+DAzfa0sIwalTpzhx4gRXr169BfidPHnyjsf7cB/e7ff60QzfXa7/vTJ8xphbrFO01msD5I2Njff8ov0wtXQ/SOC1qiq2xoL/9Oc2+PpfLnj2VUOsItIoou0MuU4IgNSCxjmySLNcNiRSovOYREBte3NhGSmmVUcMpLEm1pIcqHCISFKiWBhDZQ1RE+i0ZzZvSR24VBNFEcMkpu56i5e6bcmkRiWSpjGoAFYFghTUGailo1G94GSPjgF9Pq9pLS2B3EkqZ1BKYjJBWjtaHQgCFt4SO0meRlSdwYt+lnAgItrQt+98GkgqS+cdRvZv6A0dGzpjphW2s3RdR9dWlCamo58xk1IQWUncWVzXq0MJ0OEZZTkHvqEL/RxhIDAIChOLvp2uJJO2IbIglcDL/jxyIjBtGkZRQqUNTd1SrWyMYhSFTghJz2JERcR+HmDDc+4pg70xvfmF+8B0Z0qUxgw2c0QQzPYXt7F+znomN2aMjw9RWrF3bXLLfN9h5cOUQODgygHlRoGKFPXi5kjM9qlNymXBbDJfK3pHwxGD8YByq8A5v27RHi2l5Crrd97bqQDDjRLn+xb46834pflh7m5vuSIUbGwPGIwLrl67wv7ulP2dXlxy2J3IBynOhXWrtmtMH0MY955+EEjSaK3cVVqSl+lt+b06USRZshZz1MuWetnirSNJYwQw2ihoqo62NYw2C+bTBu87ZpOaZ5+8gtKS8VbJYJxz6uwmJx7Y4Pjp8TtO+3irYOetpHa80+2/X+3rN9qHt/oZrPNcP5hzdW/Osun43KNnye6gvIb+Pn/mzBlOnTrFq6++yk9/+lOeffZZLl26xIkTJ24BZx90hS58BPjuad0NwHfUOmU6nVKWJdvb25w7d643NH0f3yY+SCDpzep+ZviOppvs7OxQVRUbGxucPn2a/+7xx3He84d//BO+9YMXaeuWtqrRaYJEkkpFWxmyOAYtCJ2nc54s0XTeYIJns0iZtR2+czjjIe5n9HzwNM4R68DcGkykKIlIN4aEAJEPdM6zNJYsjXGtoRWBebDkVR/T1rUW4foZuNZZkkhTOIl3DoTA44m7QFkkNLXpM2xbgdE9KJRFTF4bXCIIqvcCDAEGSUTlHa5zzGxH3giaKKCE7K1dFgZEIIjeJLrtDIWU6CSn9REBR912qKmnSxRCK0Ia03lPZvv2aw+WJK1pGIiIpo8HxrvAwljSKbjYY4VAaQmRhMaivcCogNC9svXK9ICsA72VoFW2vkZDgKQFnUXIVlB3lt3csv+Q4+MvJZTtzYdNlMZkg5TZ7oKsTEnyhHp+69xyMcxAiltsXKSS6xSOXjCR9Kzc6lRfHPQ5t+VGiQihNy9egbJDRW+1rDiYHuC0pa4bsjxltFWymNZrj8HBuKBtzC1+ggGYHSwYjAuyIunBnDhqoxcYbw9WjORNKbF3nsneFOMMprU8dOEs0/05B/sTZvMZD54/Q1N1N/9mVeUoo23sLfYt+SAjLRO61t4m8siHKdY4lrNbnx3DccHB5ADvDDO1PNwtNo4N+lb1MKWuOkznSLIIKQV7N2bs3ZjxwlPXgH5ZHSmOnx5z/PSY7ZMjto4PkfLN789v1wPwMLVjZ2eHp556iueff57Lly9z+vTpd/Q8uNcKZXh9wGed48bBkhsHC67tz5hWLS/dmOBD4IHtEX/rFz/+umDvaEkpOXv2LGfOnOHll1/mxz/+8ZrxO3bs2JrM+CDP78GHFPB9kFq6IYS39fYSQrjFOqWuazY3Nzlx4gSPPfbYe54l+Eb1YWL47jfA571nMpmsQd7RFv1r2dtYCP7Lv/kZ/tovf4zf/f3v8d0fv8ByMiPNMpI0JQhBohTWWITq1bEEkFojG0vVtBSRponAOY/qLJU32KZDIBFeMc5KhOhn3HTlcRG4SIHxfRScdahYsaE0S29xQpCuZtq8COADYyS18Hgl0EJDCHQr5OEcqDTCioC1nsgFrA+9IW+kkW0gOIuRvZefCIFcKro4wnSWRkDSClrVK9HjNMZ3favWphKlJC3gbSCkmrYDkoTGGMS0xhcRwQeiJKLTkDWWOuqFEEpJaufRc0cYaKztjaQbDbGReBVweGxwPbPZdoRJi0n7bOQszZC5JG1AxJJERrSthVRRS0uycD3AFEBtkInkh486LjzvedCXxGnEfH/JbMXoVdMKVkbE9aIlSjRKy9ti2KoVkBkdG6CiXl3brdq/R0tHPcM5319SjguSPOntXFgNv5/eZstvcuPqLjfmN0jShNFyRJoljI8Nes+9O8wY3imK7bAVbbo+8WSymvELoTeRrusatMd2gSROGJVjqmlDEiU8/NgFFvWS555+iSRJGI9GRHFvMD3aKpnsLY+iydX2NJMb8z4OsEiIV9F4cRoxn1T4I8sLbq7HO49ePeu1lqRFwsHOrezgxrESH1ZkcICm7ta5wAerz7xzbcqP/vJFhuOCuuoYbeY9+Ds2YOvEkM3tAXl5q/3VO2lnHhUpHE3tuHz58m3M1ZvV/dDSNdYyqzr2ljvsTpbsTpfUreGlGxMCAa0kaRrTGcsgi7l0epvPf/oiWr29/ZZS8tBDD/HAAw/w0ksv8cMf/pAsy7h8+fL69x/k+lACvg8SwwdvfkE559jf32dnZ4e9vT2gf4u7cOECm5vvn1rszerDJtq415/FOcfe3t4a3Esp10Kb0Wi0Xu4weUDKPh7t8Fw6fjzm7/36L/PiKx/nt//dt/jps1eYT2dkRY53Aa0UVWso0wjrPMI4OgmpVizaFmNaVAh0ARIdofO8H7APglb2jFcc9b58ouuBYZrF2M4ig8dLwVS2DJOYSdPSAdEqnkOkmkndkAVJowItECca1Xhq4ejozaCVFMhU03QdAoiDoMMihCROI1RlaXTP3C2CI68Eooz6KLJYUgiF0+BEP4MXYoiXljrqmSgDKENvU5Oq/nvXEbJqaUyF8wlZkRGGCfnS0raWbvWsdBqihSVKBCQK01oaGZDOI52j9gYaQRRr8s0heukJHrwDJwVLGci8otO9n6AzDu8CdQRpJ+iivnXtrccpz7OXJM1OzdmX69tbsyH0go08Qml1xxZrH5dWspwssdYx2hrQ1N1N0CdhtDlgMa2YrVix+f4CBAw2yv4+pdUaSPaK3oL5fLbOx3U7HoFguFnQrfKKAYarWb3X2ruY1hB8gqk7kiIhKMv+jSlN0xDHms0Tm/gOotERliYEilHGclrjTODs2TMY37K3u0eaZhw7cWwNHA9LaUUxym+Z46uXLV1rKAYZ9aJhMM7wPrCcN0gtSdOkB40cEqCCvExxzrOY3cqmjrYKJnvLo+l0ZHlCnPcq7nKQ0TQdtnOMtm7OE+5em7F7bUY5zqirDmc9SRaxsVVy7OSIcpixNzlgOM4xxhG9zbbwa1M7Dpmrhx9+mK2trbcE/N4vwBdCYFG1TGY102XD/rRif1ZzMKt49rkbfONFh9a6T1kZplRNxyBPiLXE+EDVGKxz/NInzvMzDz/wrvZFKcX58+c5e/YsL730Et/73vfe1If2rda9nOET4X6iMe5SXbt2jVOnTrG3t/eeiBPuVjnn+OIXv8gv/uIv3pb517btLdYpSZJw7Ngxtre3GY1G91w1daeazWZ8//vf5xd/8Rfv9a686/rRj35EURScO3fufd3uayPs0jRla2uL7e1tiqJYL/d6IO+N6odPvsJvf+FbvPzKDihJFKfEWUwQgfmiRoiAdR0hgIwjZBB4JRlmCXXwKBcgeFSisZ2lDo4ADNOEhekQQlDoPkc3hECGZOEtMkCqNc4arAsEEQiAy1TPnBiPleBFryIdSM3U9AP+AkiCwOYKZxzBeRIvaKPeTkPHitSJlfijN+hLrKdR/TZs51A+IIWgWz0r4zRCV4ZKHWFzQiAJAj/omT0hBK7paBYVnQ7EUUyap0QerDHYI89d4TySQKc8vrZIA7FUxErjYomREETPZsVtoJauj4lzHtc5RAikXtAkgTjpU0AIEDlBlGs6PK6zHB6QkyLn4nMK3fQvJMW4QACLyU0wEyUR2UrEIaRgsDmgmlWY1t5yTvS/KxFK0iyaOzJ+SBhtDVhMKvJBirX+FgVwNkixxnDt1Rs0TcNgUFKWgz4549gQFSn2r01uW22SxSgt2b3e2880TYvWmvFWH/XmLLcpjaWSDDeKtUXLocAHAcUoY29vn6ZrSJOcLM6RUpIPMpzz6/m99X4XCSEEmteIScpRvlLpStqmF33s7u6wfWIDGeJbWMDe0y9j9pr2cDnMaBqD7W4qgpWWlOP+ZUvp3juw6yxpHjM9uPXvB6OM5bLDO8/+wT5KKk49cLw3mM4TBqOMcpAy2sj7JJEyJS8S8iJG69cHhc45XnzxRZ5//vm3nNrx7W9/m2PHjq1TP95JOe+pa8OyaqmajtmiZVG1zBctxllu7C+ZLRp8CAwHKfO6wwcPATbHGT95+lkeevAsaZLgQqBqOox1DMuUedPhvSdPY/7mL3ycB0+88ed5J2Wt5Yc//CHXrl1bm16/07STKIruGVN4f1BDd7myrA/Fruv6vgZ8Rxm+EALL5XJtnbJYLBgOh2sT5KMP+/u17gdW7G7V+9nSreuanZ0ddnZ21hF2W1tbnD9/njRNb/qkrQDe0X/eTj3+2AM8/tgDfP3bz/OF3/82r17bo2s1zrs+pSOJSfMS60GHgIwVSkrmbYdCQKxoG0umAk5KBlKBD3S1IdUSKwXTpiVBYEWgTiJUF7AiMLctWvZtl8oYhITS9H8TZTHBeliBPi9gM01ZBocPAUsgM4JKSVSsaZqOzAhq7XG1x0hJGfo0kCCgA+KuNzmO85iu7nAhkFpBo/uBfhdJUq9o8YhIoGSgtY50amizfgbPAVGRkbZ9Pq87MORRwqDIaJcNQQY6Y+k6g5eKTCp8WRCNIrrGYAjkBkLSK3IR0KWSDElXdbiVgbSjV0oXS0nnA1EaIZXs97PuiL3AHd7GAuzZmuaU5hN2TDELLCe3s3mmNbh9x/jkmOD8eo7vtVWM814gs2wYbJV4528BKcPNkra5qexdZ+NuFvgQ0FqvrVEOFb3T2ZTFcsnph04y35/jXSArU6I0YrFiF1UiufLqVZq6JYo0WZYzGo1IkpRyI2e6t0BKwXCjwDvPYlb3UXLWr7cnxOrFRynyQcr8YEka5UQy6TN65ZyTZ47jnKNtbgW6o62S+UF12/1qvFUyPVje0glO8ohynIKAKFJ9+51eXIIQt4G90eZKwXxkHf2y3MIwHrZ7Z5OKLOtNrIXsgWFddet2dAiBcpRSVYYQWmaTimtXDhiOi940+sjs4nAj71X0WUSWx6RpRDlMEVKSJJoo1iRJxInjl7l+/Rp/8PtfYnNzgwsXz1OW5eq+siITVv86OKjRuiaOpzjv8b4fs3DeY4yjMw5jHW1ncc5T1R1tZ6kbg9KSnb0lbdeD7dEwY7ps1ve09f/7QKwVg2GGdYFR0XtqogT705q281gbWIaO1vTHfzzMOFglrpzcGvK3funjDPP3ZqRJa83x48ep65rRaMQ3v/lNNjc3uXTp0i3dlvu9PpQMX9d1JEnCM888w/Hjx+/17rxuee/5sz/7M06ePMlkMsEYw+bm5toZ/LWs3/1ey+WSb33rW/zKr/zKvd6Vd10//vGPSZKECxcu3PV1H/VFPCq62NraYnNz85aXlKMs3uF/v9M6VHEfbvfpZ2f85JkJ86UhLTJUHKOUwrQdJBoRPE1nSWKNEoCWIGHWtkQWOgJRopHG00lPqjRxrLDeYb3HOI9TAgUE4zCiv9UM04RZ1xJ8z951MqBTje0MsRM0K1VrrCR6ZUgsEYgQkFIQ5/3cFc7jV4cjCMjTmKrregZG9DYtgYDOD6+jgDSCq3uB69cCpvVYmyBFR5p6trdhczOgZcCLQFwkNK3BeEfiBQvtsM4QfP8dDtHUkUCrPoIurIBpHfezfyEEhBRkXlA5g+MmuBAysKgPuN5M6FwHArxypE6wlZ9gkI1I0wRcQNSWyEmMCthI9LONnSNYz2OLjAtdweIIkFCRohwXLKcVdsUM5sMcqcTNaLNxr25dvgasSCUYbg1wPuCdp5reYTRGrBi/aUWSJygtmR0s123mfJixXC65fuUGAKPhiCiOaOqGoB3WW3CKSEVkWYZaxcGVGzldY9d5tzePlWC8PVjPxR0mmQAUwxxrLG1j1tFX0LO4QQSuvnId5xzHTm6xdWwTbz1CK+avYdR0rMjylPlrjJp7xbDkpRdeIc9zirIgSSPKca9ObuqOZsWKSikphymzyWtEHxs5y0WLcze//yTVSK2plzcZTKnEii3s/z4QiBPNspqhdMzm5gYh9PGEUaqZTWqcPRS39NuZHvk+D2cNF0fEPFke40JYg1bnHD60XL9x0IPu4ZA0S0iSiMWqHX/j+g1OntnCB70+vlm2Ws/q/FJakmcx8+XhrCcMRxmT1dyoEILNjYymc2gpQfRt9s5YrPUY68jymNmy39ck1gglqFZs997OFTaPn0RIiVZyvWykNY+dO85f+5nLb3te7+3Wyy+/zLVr1/jsZz9L13U899xzvPzyy2tS5q3G3N1Lhu9DCfhCCERRxHe+8533vSX3ZmWMWc9l7e3t9TejY8c4ffo04/H4A60CqqqKr3/96/zqr/7qvd6Vd10//elP0Vpz8eLFu7K+w5ziQ7B1KLrY2tq6TXRxN0Fe27bcuHGDnZ0d9vf3KYqC48ePc/z4ccqyn8v6vd//S/70K08ymzfkgxIdRTgCChBa4gm03hFLxWRZkylNWkY434sTGufIpGTZGjyhT+9QAdd15FJDJJFaIQQs6QUOuVLU3uGcR64YCitBSIgaR616Iw8BDLKYadMzHv1cn8RFAqkE0obesqV/hqCEIJKSpTV4H/DOkTqoNbRdxIvPW8ISQsq6v+G9IDQRqmgREs6cDmyUAhX3DKBzhmrREHWOkEZ4EXDOoaOI7aKg8hZ3yMIqSakjOuFprSWKNaY1SBfQQKcDS7Pk1fkVXPB4N4csRTkN1iM6R1gZAJ89dpE0K4mTmOA9OZKlMThx6y372FzyM82ISKj1/J63t5oLH9bm6R40HFyb3vH32SBFR5rlrGawUdAs21sAWLlZYFtLs7y11ZoWCWmZEBBrNtBYy2w2pa4bxGo+EKvI0hSlFeVGgRCCpmrJBtkt2bmHlQ9T/Eqsc1jFIEUnvc/j5A7ikMFGzmJW40x/DNquYzadkhQxZTGkyHOyQb/e5awhH/R+fa9tdw83S5bzGuc8N27coCgKyrLsW8pHALaOFIONHCHlyvevNyXvxSMFk/3XtntTmsZizc3vKE50b4dzpL2sIkmWJ7zw/CskccJgMEBpSVYmzFdASkpJmsfEscZ5j5ASQT8aIaTE2p4l9z4QxZquMxjbd5S8CwxGGdNpjXWO6XSKtQ15UZJlJWrVGp4v9tBxTlkWSCHIVkbsIJBCoJRARXKVchKQQuJFwBiHcwEfPHESrcFcpCTpEXCYJD24q9v+PBuUCcvW9HPFwKBM+dFPn+HBBx9gkKVEscLYPlHnlz91gScunrrtHHgv6oUXXmB/f5/PfOYz6581TcNzzz3HK6+8wvHjx7l06RJlWb7heuI4vmcjWR9KwAcwGAz4kz/5Ex599NF7vSt90PlqLmsymVAUBdvb22xvb/Pd736XT33qUwyHw3u9m++6mqbha1/7Gr/6q796X84Yvp166qmnkFJy6dKld7yOo2Kbo6KLra2ttyS6eKd1OBpw48YNZrMZo9Fordh7vVSVtu349//+m3zlL56i6hxFkaPjiNY4pJI453GrRA1H7/EmABc8wnnQApX0CKr1jiiAV4KmNcShZwNlpIjprUnW7bhMUXcGHwJxkLSqfzjIzmEIOHqmo1SaRnpM59ZzfbXqZ95sa0hW8Wt99ckdU9Ot0xbMRPDcdQhCERCIziLogV9A4oMkLCPEwCKF4+TxmjjqiFzAr+xLQCA7hxCCVji6rsN5zzBPyYqM2jrcqt0kfY8nW92zH1JJbGMw1ZynzYvgLbIDYcAT8BkImSHDTYsW0dWce/ARCtW3WqNYY6sOHaA7MqmiIkUZNJdfEJzOBnStoX0NICs3in5sZMUAlZslzrq1lUtaJCRZfCS54v/P3p/GWHad5/3ob6215zPVXNUjmz2TFEnRtCY7iuRJhm+CvxU7yRcjEZDRAewvuUAGBAiQAYEDI4EBJ0jyzQiQ4MbxhRM7F0jiSRZFyrIkS5Rlsucme675zHtca90P65zTVc1usoeqrmaLjyAQLJ7ae59de+/17Pd9n+dxEELQmHHjJMbY91QE3ZcVtGYb9DYHaKPBM2ysdkiHGVEYMrtvhkF3SGezSxiGtFotfM/DAq25BlVR4UeBE1GMyKX0JI2pGt2N/p1CW5JGhNGGPHWG0cpTDHoZCGe70tscTGb7LIyqXzWWb6zR7XRRnsdUq0UURbTm6lSVs9so8pJ0WLi5vKlkW/zayvIKM3NTNFtNhnfMFTZnavS72Zb2sKDWCAlC3/1ttSVLS8qyojlTdy3gLd9pq2BjjLgWYAzkWcnq2ipRFDG/MIsFsuw2KUxqIdUo9WWMRitimBZUW7bXmqnRaaeMd+x5ijD26Y8rcgiaUzGb7T6bm22yLKPZbLKwNMuly1dptVrEUURruka7e/saaDQihqkjZwBJElBZN5sIEEUeRrjnALgq/NbKYKMRMhyRO2stU1MJm72U0PeIQx/Pl6R5ycWLlzl58uhots8y3Uj46c++wML0+5OrncSlS5fo9Xq8/PLL7/lvaZpy6dIlrl+//oH5xh8Rvl3AwsICv/Ebv8Err7zy2PdtraXb7U5I3nA4ZGpqivn5eWZnZyczhgCvv/46L7zwwkMPgD5JyPOc119/nc9//vMfevn6+fPnASZy/PvFnaKLMAwnJG/rm99Okrzx9TYmecPhkNnZWebn51lYWHig0YA0zfn133iNP/rGZYT08cLACQlKjZEQSElpDMoT9NKcWuzMipUx5GWFFIIo9MjykkpYgsDDeAJhLEoIcmvwpERnJbl1pDH2FFoJ7HjRkiB9hfAkRV5QjE5NYEElPsOsBGuJxmphTyKVwEs1mRpb/EIiJGUkSYcVFy4odCZBCmyA+4ypkJmB+u1HoE0FJvDw/IJnj1Z4niTWgtRz7Vk/9LFaU5MeA6Gdz2Geg7FMJwllpKhKjTLgGYunBUY6EYVR8M2b34FUIyIftv7NdYVFY2KFsK5FrbRCZQXH9j2PHLWrlKeQnsDra6qmwhombVth4fiKx4GeR2u2QTooiJLQCWx6d3ctmFpsOVHFlkzdrYgSZ13S2xzQmK6htWa4RaHamK3T7w7obHRJ05SyrIiikCRJ2HdkEel5bN5su69oNN1uj+FwwNRsi9m5uW2VQoEToPiRR9Yv3pPMIaUjn93195LA5qyrFiIEw35GVZrR8QdY2GYkPRgMyIohURITBzX8LfdHYzpBjrosaVpMCGhv2CbwYsLg9oyYlILGdI3OHYroejMmzyvK4jYJ83w3Z6gr46L5EO4FKvRd0sfW7zJdo9dNJy8rq6urzC1No2SwrS3cnB4TzfHJsCNiN5zwSSkltWY0qQiCUw9rYyakCwut6YTOlva99GBtY53hIAcBc7MzzC3O0N1yHU1NJWx20wl5bbVieoN8ImppNCIGaUE1IsJTzZjuIB8dr2WqlZCVFb6n8KQAKcjKijwviaOArNIUVYXVho2NW8ws7AcBzz2zyBc+dZLQf7wShPPnz5NlGS+++OI9PzMcDrl48SI3b95k//79HDt2bNt6D3tL+J5K0QY8fi8+rTWbm5sT6xRjDLOzsxw5coTZ2dl7WqcopZ4aocP92sx8GPAgApSx6OJu5tdbfREfVXSxFWNfvpWVFVZWVtBaMzc3x7Fjx973evsgxHHIl/7aj/PF/6fLf/tvr/G9t26SlT5xEmNGeQmeEOSZphGEYEEVFVq4LFUfQaYtURSSFyU6c/N3XuKT5q46NaRCKUnTCxhUFYUQJEiKOMBg8aw7V4UxiMBn2gpKDFIIRCmIQqeuNNYSIaikdWKPuqJhoLKGEsiNQWWaYdfHWI0MR2kiAwE1i5UKkyhUT2NrFiSI2KLKAj0MGAwlszOgI0nLCnKrqdKSQLk5xWBY4klFTSWUpqS7OcQH/Pk6VjqRSwV4maZfVGzkGwjrYeoCMo0UGjua17SBxAhQgwKThAi3JqLDgO6ww3w8Q+nZ0V9AUtUEYeEqQNGoKlgJODtbsVGHT1aOkAgpJoRw29+57tqindWuM66ermEt9EczbEEcENdCuuv9ibXKODat1oyx0tLe6HDrLTcjF23J/A2igKQR0VnpTfblRz79zpDZuVkO1Je4dvkml85dpt6o06g3EFLgBR5SSjZvdV0s3EyNqnJGyPWRuOTOLF7PlyTNZFukmxCCWismrEUMuyn50CnInUm3Yd/hRXrtId1Ol+X2Ckkc02y1mF2ccmKLLSKIqBa6yLrLm9ssUeJ64NrXd5C9qZHlylY+mtTDUQrIlvk63yOuBbTXeiilCCMfL1D4oaIsDbVaSFFqqqIibvgM+jm1mjf5fs3phM7m7fXNJYeEtLdUYKPYvVRsJXvNqYRe/zZJVEoR14JtZK855Yjb9PQccZzR7mzQ7rXJtaZer+Mpt6/Nzng+D5qthM4WMthqxbR7KYGvCIOAOHYjIM2aE6FZAe1u6hKAYkGOIc8rLJbpVsJmP3MzsaFPqSuGhWFf4PH5V47x8on97AXux3h5nG989OhRLly4wGuvvcbBgwc5evTonnrkjvHUEr7H4cV3ZzUnCALm5+d54YUXaLVa97WgP03edePv+zQUjd+P8G0VXaytrTEYDCYV3NOnT28jWzs5jzf25RvP5EkpmZ+f5/nnn2dmZmZHSXar1eTv/J2/wMrKKr/x/32dM2c3EMoniCPKXBN5TsHbTXOSKCAtCxLhIZREFiWDQY4V0IhDBmWJqiyxcoSuXmlMZcmqiiR2RLBrKhTgKUkZSOfLNjJm1kqSeB5pNla2WmIr0LHvBCbWEuDEH6UUBL4kSJ1IxArB6pUCMfQwfoAid9fnpkB4Bg/QBNiORiCw3mgYEM3medj3KUU+KOhai2cFHpApN3vl10JEXjnlYhxQa8SUVUnWHriZxWZClY88BY2l3VtDKJCVwvqSSpaIcoAIYoSWKCT4HrKfQ+BhQg1Gsl62mZ9ZoFUK8rREaIsWlr6EMAxQBvqmRPmK0FOsy4rfrdZ5rucxu5ojlKQ53yTtpgSRj/Sk8+nbUl0b+/a15pt4ocfmzQ6dLeIIrHveGalp39xk2E1pthocOLIPU1isceKK5kydfnu4zW8v7WcM+5kzZZbO6mRmdoYiL+h0OgxGil5j7IS46crQWevhBYqp+SZYu63lCU4pnA2LbWQPIEwCrIWNUWVx3K7W2r2yjOPcGo0GtVqNNB+y2bntjDC+j8Z2Lhu3Ogw6GZ6IaDZDmrN1tDauFewpdKXxA58guqNaZ0dq4DsMnWuNiLLUEyKmtUZriS3Zpvj1Q484CVhZLZmaTqjXQvzQAyGxxtBqOd9AJCDEyOjZrSfNqYTBIEfrUfVXuJZtewuxS0YCjomoY/SZzhaCOL8wxWZnkziuMxz0yfM+c/NzVNqjUQ9RSrpzoA1TjdiNeWAZDguEcVVnhGBtdH3V4oByS0t3qhnTGTqVrue52b6NfoonJc1a7O7FzDBTC/i5L/wAc1N751bxINFqtVqNl19+mV6vx4ULF/jKV77CoUOHOHr06I75+T0MPiJ8D4CxdcqY5PV6PRqNxqSykiTJA5dqnzYrE+Cp+D532rJsFV2sra1RliWzs7McOnRoV0UX45eKlZUV1tfXiaKIhYUFXnnllcfix7iwMM/f+/mf5sqVq/yv/98f8847AxQ+nlJYbYg9D2WgHrgHedpNkVISBh6RpyiNpeZ55NqQFQWRlFSeGywPkeR5RSh9piJFaQzGGoQBIp+qMkSVoNSWvi4JQp9QG4Zakwnw0xLfl1hPOqsWLcmw5LlGRYqoErTLglL6iDrIoUUnIQiLwEIGeBrlF1gERnuoPIfRmlICVbvAqynwpLM6GSlxs2h03iOPQAjMoCAzFQKBimKqoiBbbiNbCUEQkBcFmaiwZYaNQ6SRKB1gPQ+bZwgV3W7xej5kObYsQUkymVEMS0orCStJ6Vn0yDojLzQ6UswQ07UFxWi+q1Dw5r6Sgx3DsU3nLRjEPp7vMexl22bIwLU+wyR0ubfGOvFG6LN2Y500TamsI5RUgjiOmdo37bwKU4P0JDP7W+TDYluM2RhJ07W0tlbn4oaLY5ueb9EfDLl19baiN4pjwNKaazDoZdssZaJaQFyPEEKwcYfVjBBuJrC7OcRu8RPMBjlB5JP1cyyW1oxLiRkOcsIkwO/55FlMt9vl5s2bNJuOyPY2023PAN9XRLWQ9eXtgpep+QZ2ZANZb8TkmcuLiWvheyqArdm6O74tf4AJOdsyh1dvOR+/QT9DV5oiq2BK0Otm28Qeremaq9jpsXUTTE3X6PVSlJL4gTciiYKy1NSTECGcijkvnEemX1d4SmGwVKWmFgVYa4mSgH4/A2OJg5CD+xdYWd3gxvVVhBDs2z+P5weUo/Z5vRZSaGfTAk5sMchdZrT7245autaipKBeD9nsD4kCn2iUDlNWhnoYoHzJRs+R31OHZzg1W+4p2QO3BjyozVuj0eCVV16h2+1y/vx5vvrVr/KFL3xhz8ISPiJ8H4DxQj8meXmeMzMzw/79+5mdnX1ktv40VfhuZ4I+PRW+sap2bW0NIQTz8/OcOHFiV0UX4xbxysoK7XabRqPB/Pz8xI/xcc9/CCF45pnD/N2/s58LFy7w+7/3Xa7dKClKQeBJikIjfUmZlUS+jxcqjLWkpcYXkmFaoDzJdBKjrcXDUGlDpSR+bshtSVqUNMKAvNKU2uBjCaQkiEK8vAAp0JWhEJapOGJQlYyn9UINInZzSWFl0UaTDjP6ZQWVRJQKfBBJgSjc99GBh4yctQtDgUgMShWYWEFfImolCMgE1Az4ViCTEHCWFkFmKMtiYgsjA0ULRbcqkEIQhCHa91DDiqEukYEEBYoEejnG9xDGuFg7o6jU0NnIRCHWkygRoUyMyDJsFFIZQy2JKPISUUFNeZSRpCwqqqxikwrPQD0OSNHoSiOkZGVR0W1WnLzepjlynhZS0pxrkA9ylCfxAo/eRp9sWGCtpShyNjc3ybKMsO7TmmthC4En/fdce/WZGrqoWL++OTI/dmbHvc0BQRwQxsFdUz+qssILPIa9lOZUnXqjxsr1VTbbbRKdMTs3S+cuqt0wDuhuDNCVIUoCoiRwgoURAb7zd/zII4yCSVUPXDXTDzz3u2lJUg9JaiFxEqFNRafb5cz3LtBqtUhqztQ6qvkIJbfZtjgfvRrttTtm+FoxlTFYY2lNJ4C7dlWgthFAKQX1VrLdx084H7+tn3Mt95h+L2eS+SEljal4JMRwCEIPL1S0R76MWhsazZg0LV38HyCEpNGKWN9SgW00I/qDbCLy8AOPIPLYGB2DMYbWVEy3nxLFMfvCCKk012+uIKWi1WqyuDRDZ4v9y7ilawFPKZJaQFZq6kmA77vnQ1FqfCmJI5/NUTu4ngSU1tDvFyRxwE995jTTieTNNzffcy08bjxIhe9ONJtNXn31VbIs29NkrKea8GVZ9sEfvAuqqtpmnSKlnLhrT09P76h1ytNG+D7sFcuiKFhfX2d5eZnhcEi322Vubo6Pfexjuyq6GAwGk3m8fr/P9PQ0CwsLfOxjH3siZj/AmY+ePn2aQ4cOce7cOf7kTy5z47plYEFbSy0MEEqQZ86ORFcVRhj8yCdUkkFa4FmB8AUmq1xsWuhR932XRWsNnvKIQ0EvdQpYOyzQvgQsKjNoaehlGaGv8KUkL0oqLGhNaTVGWvK8JFIeRD7C90AqzMBD1nJE4Oa41LDC1gRGBYi4gL6HTdzQv03AZBFCaaQqKLQm1xWxEWS+wI98ClMijSWoBIVnMaWmi6YWu/k7Yy220Bjfw09Lhu0BMi8xAQjpIUrX7rJhgFEGKXxEJaAYuhavGRGrMEKUzp+wLCr80EdEgn6WE3dxT/DRRysJVVbQ8H1M6CFyQ9WpSIXlTxbhmS4805EIY5zqN3Qzc0VekqYpaeqya4UQtGabLBycpxxUUDqLkPpMnXzgfPDqUzWMNdv8/7DO188LPKYWmmBh2N/+0i2loDFbp7c5oDciHeN/zs5Nc/DoflZurXLl8nWX0dts4XkeSTMCxDZClw0LiryiMZOQDQqiWohqKQY9J3hoztYZdFP6d3gJNmdqDHvZxJOwGHn4NWZq5LngwMF9DNOU1eU1+oM++w8vMbxVEIcuIQXcXKK1bJvLE8JFyt1Z1WtMJeRZSdlLUZ6b14viACRUlaHejCgLZ37u+9623/cDnyD26Hdyotg9B6I4ACW2+f25imDBoD9W3TplbnuLMnc80zdu2QqcWKPduS28qDcjsqKaqHej0McLJJ2eM8j2PY8w9un1M5aW9pGmAwbDDucu9liYm6VeSwhjD20sU40YqSRpXtDrObPluBWz0R1irfPaC7eQvalWzGY/I/AUp48s8GOfOEESBZM1eK9xPzN8H4Q7BRyPG08t4UuShOHwLhYC90Capqyvr7O6ukq73SZJEubm5nj55ZdpNpu7VlV5mkQb4Ajsh63CN7bNWV1dnYguwjAkDENeeOGFyed2UnRhraXT6UxIXp7nzM7OcvjwYebm5p5o0+1arcYrr7zC4cOHOXv2LNeutrl61bCyNgBnjo+tDEKDCiTCWHSlaQQBaeni1Wr12CVulJY0zfBCn9BaKm3IhKXuexQKKm1IhHRK3ZqigWu1l9Yy0BWeMPQK18YMpSLyfZJaA2MNTQRWCEIryayg6sQIYRHSONuTtkFJgxERAo3sVlhpJ9WiQAjmwoA0Kxhb38WZgbwk8CQq8DHWUEOQC2dFMejmSAHNKKJjKreOhj5B0CJMAworMb7BSoO2CjnMkWHoenGAUHXICnRUIgkAgV+P8eMQlWqG2mUKSyUxNQ+VFkgDSknCIHAih7TEHwq0soiaj9UWW2rendb0Z32eW1d013tkWTaKNMtImjFJK2F+3yxRHNHfHDqyN4KuDJ2VLo2ZOnE9oio1g85wW6bvOKu33x5ua8PWp2uIkYAk6+cTn74JRkbOg17G5nIHXwQcfuYAaZGyubnO1EyLfscg5fbFtjmTkKXlpFU8NmROGjFh7GMsoxk793wNQp8g9rdV+8BVDb3Ao9d2Ldx86NrBBw8eoNfrsXprmTBW+JHE9xVJM3Zt2S2PuTgJQYn3VPAaU9sJoJv3i2lvDrY995tTCcNhQVYVxKPIuSB0Qge57qxWojBy3pC5phxZG4FT63bat4UiYejhBd42AUdrKqHXz9HG/U2DUau3PSaNYgv5YyTEaEbkpQFradYjosgRTastU814ZJkSkeVNNjfabKyvstkJqNcb+EHAVCtmozPEWksQKILQZ3Oklm41InppjiktjVpAEDgngEYU8NlXjvLCsaXJsT8pIsBHqfA9KXhqCd8HVfistfR6vUmrdjx4Pzc3x+nTpx8bE3+aKnzw4ZhJfD/RxalTp/B9n1u3bnH16lW63e6kqvuo83jGGDY2NiaiC2stc3NzkyDzD5vp9uzsLJ/+9Ke5dvAa8wsXKbIm77xTcOXaJpUBqyQezoTVSNClQVhB3VMUwxLPWESkEFaNRBcCpZxX37AsEbmhmTi1oqg0Rhg6GAQG3csofImnPGp+QJCEDLOCojJEVensWkIfU5QsTMONDZf4QSXQOkAmmaMqFcjKQAza+ghbIFKwdcvMgqWTOaJaKOtyMixgDKIw9LICL/DIsZBWSDme/YROmhMLiY19iqpC+YrZhQPcWL2MVD4oDysNNvGRaQWSiWKXwAcqTDGEOGLWW6TINVJAPReYkYTXZBV+EmIVyF5Jx2RYXJUyFyAMRN2SoqYIkwBdaW4N+1wPK+Z0xv6upRZFzi5qaQZdaax15PHOGdbGTA2j7bb2bJiERElIOsxI6hGDTnrXGT4BlHlFVVQkrRgvUBNrl/pMjarUdO4QXuhCMzc7i4dPv9+jok8truPLkKge4YfetuoauKSKxnSd3sZgmw1LGAfUpxJHUre0HcdEs9cekufVpGovpEu86Gz0kfi06jPcvHWLqlglqdeoqib1Vm3iT+kFnlPmbiGAST3EGLZX63xFVA/ptLeSwvdm8ebG0GglbIzO5bBXkMUFcZzQ3lLhDKMAFSj63ZTA95BSkNRdOgzWUq+FSCXdbFypSeIAsASRT1ForLXUkhClBAZIBwX+6IW91ojodBwBLnKN50k2R+1sIQTNVsza6PxLKTh0eIn1dp9et8v6+iqNZp1SV3ieR6sZMcic195UI0Z6bp5QCUESB3QGGWZY8Oz+GX7yh07TSLaPSWmtn4hn45NyHI+Cp5bw3a3Cp7Wm3W5PFnqt9aSqMjs7uye5u08b4XtSv8/WWczV1dVJjN2hQ4fek3AihGDfvn1Ya/mzP/uzydzew7RWq6raJrrwPI/5+XlefPFFpqamPvRvjFJKDh8+zNLSEpcuXcILrvPKDxzn8qWMM2duMcxKPOlmzbzAw1OKsiipLCSRTz/LacUhVoBOcyoLmYRa6DPICrqDglBYcluRlxWhEPiBTzg7jRQCbQwVzni27vtkwpLlFYERmKzESElrv+TmDQMBWM8iVYbpB5BYhLJYBfQVJBYrQkwiUJlmZrpyL4Z5gbSWJA4YGoMunX1EpCVlXmEE+ImPKTWJthSRa/FrazFZSSQlhYU6DTwvccrJMkdEIcKAiYSzmK76oCJkAZ42CONBWrK0v4XyA4Z5SSotQeATCY+uzrEjkYb0JTUvpMhLCnHbM7CoDKaT07cDCgxe6OFHAe0jAfKwzyu2Sdgu6W0hXGnP+QY6sYWlyMr3RJEBVHkJNWfNY41Tx1Zb2qe1qcSdvy1kpjuqxrXm6ihfMehm26LSAOpTIxK43kcgadRaFHlOd6OLX1fIaAbPT7aR0sZ0jTKvtqmDwbVeEYL1LckicSMirjsj7c7GcFsWbb0VUxYVvXaKEBKtNVmWEjV86vEU6TDl6uZ1kvWEhcU5wjiivdp3FdYkwA8UyldUlaYYkUhrravgpQW9reenHlEZu43sxfXQvTBs+VkYKaTv0d0yP9icrjHoZ+R9V7Gz1lJvxttm82r1kDyvyLvj6DdBo5WwvoU0NlsRgy2mz0ktQFsmbd9wVAns9DInxhoJKtoj4lxLAipraHdTlFQ8+8wBsiKn3W7Ta6/RaDUYppJKu/tnkBWUlSYMPILIZ7OfEgU+P/KJ43xsS1VvK56UCt9OtHT3OpDgqSV84wrfjRs3+M3f/E1effVV8jzH933m5uZ4/vnnn4gF90klSA+LJ6mluzXpYn19HYC5ubn7Fl0cPXqU/fv3c/78ed544w2OHj3K4cOHP/CayfN8IvZYX18nSRIWFhY4cuQIjUZjz2/63UAQBJw+fZqDBw9y9uxZFvflfOJTr3DxfJtv/8lV1jZcGxVj8YRCCoM0glYSkeYVeVEReB5IQ005Y2ZpSqq8YBNJoCStKMb4HjovKTNNjnULkoG8tKRlhQ/U45BqFNuGAVNqnj2uOH/RQ9kCIoFKSihACx8RaGQthzHvCOHwKUngS8gMuQIjBL2sILYCUwsoy4pKCAIp8YUkwzhhie/hZRUVFdXoz1yairgQ1GKfZ6cOcnH5IkYYbNYFIVHWAxTGD7FVhbA+wnMvFwebB6mEIqwEQeREE0VaUtiMUAtKBVqC0YaBLggin2kkG+mQbppO2lCe9JhBIawkED4mFKTC8pWszYFQ8myuUCM/P+UrkmZE2kupisq1ZJuS4YgEeIGi3qrR7wzpjqpQ5cigOKqFxM0IXdn3kC9wpHCS6DF6TCStGM/3XByclJPZutuwzB2Ypd6v02n3uHVlGRBMz0yxeGAe6Su6G4NtfoPKk9RGSR1bFclSSYLAY2O5N4ozcebSURIgfY9hN2U4yMnSlGGaYoUmiEJ8EeMpj2azSa1WQ6uSd9+9Rq1Wn6QkWWsoSki3HL/yJPVWDV05bz1GIwmerxik+e2EDAGt6TqdzpBJqVAIWtMJ125o6kVFEAR4viKuh3S32qvUnWCpM67A8d75vThxL1Xjlq3nSWr18Lb/3qil2+mmk927LNwhRekkyK2pmCwfK3BDfN/DWIPUEr+mkFKwOUrhmJubJ0zqrK5vsLLeYX5+mo2uuxanWglF5TJ1Xzq+jz/3ylFq8b1HWJ4Uwvc0tHSfyqSNs2fP8rf/9t/mrbfeYnNzkxMnTvCv//W/5pOf/OSeqBzfDzsR4fUk4Wtf+xqnTp1iZmZmT/ZfluWkireTSRcbGxucPXsWYwynT59mdnZ2238fDoeTVm2n03GxRKM4s1ptb+0EHjestayurnLu3DmUUpw8eZJrV/q88fo5rl7ZdFm0xqKxCAFpWhKEispW5IUTSSAEPhKtFI0kREmBxnl1FVgKowmQFEZTGUvse666NUrvCKWkChVVXuEZixWWzlBw5brE9iXCdwuXNRY0aBUiRYUUFUefqWhNg/QUXhRjjRuoBzAGTKWxxuBHAVmaY8dWMlI6I1klkKHCphWZcERQBIpAKpSF1bLLO+13ERVYrcGUEN6uHmtZInTFs4unqQcuesxaS6ShUBbrObuNsqiwlaER+gw9S57mlEWJ1ppYC2r1GIGishatBF7oIUuLrkpGgl1HBkMPlWqezyIOqpjexgCj3/sS2pxvEIQ+7bU++i5mzrUpFyU16KQgoDFVAynotwf4oYunu5OAAQSxT1SL6G0OSBoRXuCR9l3MWm0qwRrrrGRuX2GkWUpuMqrU0Gw2CcOQuBbiRz5SKYb9bFsGMLhZwiIr3/Pz5kydfndIr9tnmKZUVUmtlTA13SQMY3TlqpwWCGMfoRRpP6eqqlH+bMm+w4sIs71DVG8lbn9bzlVcc/Oa6fC2B2KtESM8gTUWKaUzoVYSKyW60ly8eJl9+5ZIajHaOJW4Me4FapyFO17Go9hlDA+3eCy2ZmqTz0gpSWrOp7DSBindMzCMPKfkFWJi2F1WhrIsuXLlCkePHaU3EoREiROcpCPrm+a4ZVtpPOWI5LgC2GhEpHlKZ7NNWebUm028MKEWh/zYp05y/PDce66jO3HlyhVWV1d59dVXP/Czu4mvfOUrvPDCC+959j8IpJR70kkc47FU+L7yla/wy7/8y3zrW9/i5s2b/OZv/iZf/OIXd2z7WmveeOMNfuu3fovf+q3f4t133+XQoUMcOXKEP/iDP+DIkSM7tq+dxkcVvkfH3UQX45STuyVdCCEeWFk7MzPDpz71Ka5du8Z3v/tdpqenOXDgwMSbbzAYMDMzw759+3jppZf21FxzryGEYGFhgbm5Oa5cucKbb77J7OwsX/obP0x7I+PLv/c2Z87dYJhWFFWOrQqGpcEISRKF+MIipMSPfIQSGOOqd0nosj91ZQiUQEQCX7sZvKIqMEo4y5aiREtBaAR+6GGkwFaGfbGk0dRstgUrN33yVCIjR/wSKuZne8w0b6LLnGqzcl5tXoINponqs1DC0I7vVUvUz6kCifR9iqxEWYvveVS+cGKG2KcuJIMsQxeaFI3FMqVjTjVO0KXHWn+NolSQDzGxR+BFTIt5GlGDaWpY7QQq4LKCpYGwsFSeQfkSrKGz0cPkBdL3iAIfggAhJBnQ8n2s70jqmOhYICoFuefSSrCWMpD8aVRwI9McxhBvEWPUWi5ubNyOVZ6iOVenzEuGvYzGTB1TWUf0mJyeiTVLc7aBtc7jbVRUA263jXub/Yl58mBURYxrIa25usst3kLQhIDmbBO/H1CkMT3t5rDDMGIpWkCUiuHGYDIbJz2JqVyLu3dH5dALFUVZcPH8uxR5jh8ExHHM/OI+rHUG0elIEOT5iuZ0zSnHLVCzFJnk4OH95EXByo01tNG0mi2aUw1qje1zeWMFb7c9vP18tNCardHt3I5RG1f6NjYGk0pfkZV4vretzRslAVJKOhvuZ0q69I1+P6eqSrxRJXPyvY37TKMZ3RZq4Gxjer2cwcARtGYrodvPJzYuSc2nqKwje8LFqbX7zijZ9xRxzZ/YsTQaEZ4nMRZmWs6CqdPPAcn+A/tZXm+z3u5wcK7gR155iaMH768o8KRU1p6U43gUPBbCNxgMePnll/kbf+Nv8DM/8zM7vv0vfOELfPe73+Uv/sW/yC/90i/xEz/xE/zqr/4qb7755hNN9sARpLIsP/iDHxI8DtHG2MZk3DbdKrg5deoUQRBMHqo7aYIMUK/XWVxc5NatW6yurlKr1Thy5Ajz8/N7+ub2JEJKyZEjR9i3bx8XLlzgjTfeYN++ffzgZ+bZd6jiO9++wfJNRWZCgsjNDkkpEMbZj+SVxteAsERIsn7uDFsbMcOqAtxAulEKr9QYren3MnyliEPFMC2wWKQUlJ4gBVSpmatrWict2kCiQrJ8A1lcB2vwhjk28FGRJC8kUdEjMwV5voZNDjBVnyatKowUGCkIEUhrYbS4DtOcuJQUo7i3Apce0vJ92kWOQJApS6B8DnkLzCfzVKaiqiooLbFQpMpQFiXr3S6+8pipJyAlUki0rlz1qtOnFEDg4fs+8VQDWxmC0lBFHkhn49IpClRu8a1AJCMD3rykihSRlIhCu2xiQBnBpqkYLvkcND7PViE6NxMSNoauNL2NPo2ZOk1PIZUku8N+JRylW3Q3+tsqamHkUWsmCCVpr/borG8XeYRRQFRzlcB0cHu2L0wC6q0Ea6G91sMY91LQbLaYnpkmK4e8e+kqtVqNZsO1WIf9nMZUwqA3dHFrzRghLd1unyzP2LzZI/B94jhmZnqaKHGzfU4MctvcuNaM3XjIFnWxVI5QDnopURRw9MQh0jRls73J+mbOMK0T+iGI0Rwh2wUcURIgPUVny2xkXAtBim2ijlozRqy4eDTP80aEsEa3k2HHitvIzdltjgmhdZm6vW46mU8czwuOyV4YjmbzRiTd9xVREtLu3Z7dC2KfjU2XWxzHPsKTpHlJLXazitaCNoZGEiI9OfndqWZCZ5hTaUOjHlIYQz/NOfbMIp//wR9G6JRz585x49pVjh8/zv79+9/3ubwTs3M7gY9m+O4TP/VTP8VP/dRP7dr2//N//s8sLS1t+2M8jmi1ncCTNPO2E9it73On6KIoCmZnZzl48OBdvRGVUjsaZzYmlwALCwu8+OKLKKU4d+6cEyuMxBh7fUM/abDWMhwO8TxHTG7cuIGUkv379/MLn/0hfN/ne9+9yhuvneXq1Q1KYwk8hbAQ4BSjZVaAAKE8Yk+6aDfhKhaDYY4UgkqA9D3CSlMCvbwkiQK0gMoYIiGQgIlDpDHu7ySBok29eAsrocRz7VKbI7SFIAThEZbO+iQdXqVrLcqvU4sCOnlOYW5HvRUSgsDHCIHISkIBuRIgJSmWVhShhSXLCmypSUtN4Dq+hEIRRAFGa2ReYFSEjiAtC9Z6A1RlUZ4klxYseHFIrBSxlWT+aETB96h8UJVBl6UTowBaCLSAKDfIyIPAwxMSsgoqS4xTaRYeVIHCKni7GHJZpLyUNJgyAdmIfAWRT9yMGXaGk4ofuFi1xnSCUMoJNTYG5MPtYgw/9IgbMe31PlYbt62GU88WeUnScO3k/I6Wa9KMEfK28GJMtjxfOdK0PiBQMQsLi3S7HW7eusnSoUU86dFZ76O1Jk1Tbt28hYoEwnoEfsAzRw6S1J0bg/QUvU56R96tImlE71EDN6YT8qya2LgMezlBoAiTmHrkxjvWVlaJk4gDh5fwlHSzg6HnIsQCjywrKbcYRremE2eiPHp2jr9jpz2kKt31GicBQsktGbojYtfLyMft1thHKTmpBjprmGR7VW/KpXPkIyVzoxVTVJqi0jTqIV7giKU1lmY9YFD3qbShyEvC0EMI2BxVKqemEnp5QZUakjhwFcU0I44CwtCjqDSJ5/GpHzzO88cWR89HZyR/8+ZNLly4wOXLlzlx4gSLi4t3fX5+NMO3c3gqRBsHDhx4z8+SJPnQEL6nqaW7kxW+sehibJ0DTnRx/Pjx98SKjX3xdiLpYjwHOFbWBkHAwsICL7/8MlNTU9v2+6lPfYrr16/z1ltv0Ww2OXXq1PfdzN6duJv9zDjzd3p6mrW1Nc6fP0+32+XUqVN87KVDfOylQ7Q3B3zl997ie392nU4nJfAUVWUR2hJGAUJCqV0sk9GWzjB1MVBK4FuLEgIbKEIhyLOc3jBH4EQcaaUpy4oQSSksKvQQeYncuEgmmwggJkP4MKhiNIJEp2jp4fkCIQxxmmKLy+jmc+QlJJ4kDH3SrEB5Ck9aAjzXgg0jrDDIgfMa00AfsMJS93yKYGR4jEVYiOVI+KEkJBFVWWK6GRUGg0EjoNI0VYBsROC5a7wyFi+vEMPSeRXiIuFUoGgKRaadCbbUliqtMHmBby2ZD0jl1MXaIJWgWUG/KCmEq26lwvJ122HKl7y6NE1L+nTWunTv8NGzWOpTNbS2DDd7ruU7W0NrQ789JIpDoppLu9jqwTeei0saMWWhwUCtFTPophhtietunu/OpA5rLUopBt2UstAEoU+tWUMImFlo0e8PuXVjhaqqUNIpbRvTdWYXZ0DLycthlWtM5FJfso0BQgriJCSIPJTnUVZ6YmQMbtYwiIJtSlshBFNzdXqdlH7XiSSSJGFh3yzr65ucP/MuURTRajWZmmlgrN2mtq01XR7usJ8Txz5SCqI4oKyMa/m2EtY3FDNzdYRwZLo15Qiw8hRlpak3IufN6EnM6AWkNZUglQAhMdow1XImyNoaqkoThh5KCoSSdEcWOVHkY5Vkc1RhrNedCfMg1UxVmqmphG4vIy9z4lEmc15W1OMApRSlNuRVRaMW0R1mDPOSV547wKdfPkIYbKcaQgj279/P0tIS165d4+233+bSpUsTi6qtz9gngfBZa5+YSuOj4KkgfHfDh6nC9zQRvkf9PmOyNU45CYKAubk5XnjhBRqNxrZW7U7GmWVZNokz29zcpF6vMz8/z9GjR6nX6/es3AkhOHjwIAsLC1y8eJE/+qM/4vDhwxw9evRD/3B4EIwroWOSp5SaVELvVMMvLS0xPz/PO++8w7e+9S0WFxc5fvw4U9M1/p+//An+4s+8yvfevMIff+0SV65sIIxBCSeYkBZ0rhEIppIYJOSVRklJURmqvEQKKLHUwwCJxVZO+WuTCI1FGkOgJFnRRkSClhlQ4VEJH7BM+31SEWGsj2cNoShJZYSoWRSagA6DYIHKWvK0IJaSUgqKXDO0Ob4VGGmpAC8MkMLi55pMWgRuti4wEMUhubCUecmg0shuSaVLMmuwOJLbUhHWWKpAYq1hWOTI/oBE+lSxh+d7lAqEtiSl8zz0PA+FoqhcvFdQSbpl7vz7BIBAGagFHkOcKbYQisyTUEGkIfNclcnzPbqe5g/LDRZ7kmeMz9xMHWMM2bCg1kpIBzn9LVUwXWm6a32SZkxrtgECqlK7NuzoM2ESjIQa/Ulbd5wDXGvEBEmA0ZZsi7hBCCewyNJim29fkZeowHUW1pY3KXWBF0DSSCjyksgP8WWIwgc13r8jdlvtZqyxjsRkFdkWS68g8qi3EvQor7bejCnyEs9XGJjM0Ukh8SNXqe21h4RBzOJiyHA4oDvYpD8c0Gw0UZ5yKuJG7MjfloZIlISsr27JHK4HlIVlc30wmT92Rsupm78EknqExZKOFbi+IqmHbK5v8c2bjidVOXBGzN1+hjEWKYSLaeul2LLE9zzixM3m5UVJFEmmphIM0GzGSAmDtGQ4yGm1YgZZSVnmNBqRa0kPUo4emuNzP3icqeb7+9mObZ0OHDgwmfdtNBqcPHmSqakp4MkgfOM1ba+P41Hx1BK+D1OFT2v9wR/8kOBhWrr3El0cPnz4PQbY4zbtTpC8rXFmvV5vYr78/PPPP7DxdhAEPPfccxw4cIAzZ87w+uuvc/LkyXu2KZ4GbK2EusH5kMXFRX7gB37gA9NplFIcO3aMAwcOTGxvjhw5wjPPPINSipdeOcJLrxxh0M/46pfP8J1vv8tmO0Ua65SESqKEJC80gZSYUiMqQxx64ClCa1ybUltiXzEY5pTGEEqJCj2KUiM3b6JMRSk8wrDEK0uGRHRFDYEllCWl79Mp6gSmxEjIZITPJlG4SF5oKgFDY1CVJvEUVSApcldZanoeubBYIbGxpCkEWVpQVJqq0tjc4leGUhi0MFRlhZSKhvKRSYjwR9m31jCNop/nhASUZUFaDPCGHjIKUYHCjyMMoIsSWVQMdTXhEZ0qw0NQj0OnGkZQlRXdvMQ3EAjIrQY0Uklk4jOjBfkwp8pKhAAt4EZkuBXlHBOSYypGjaqMSm2/DxuzdXSlJ+bKYwShR2OmBkLQXu6SZ9srhUkjQnke/fZgm0FyVA+pNSOMhs4dCmIvkJSm4MrlNcqyIAhCkiSm3qzTnK7T3egzGA5J8x5GlkxNTVNv1Giv97f5/4VJSBB626p34Pz98qxkY+X2sfqRT5yE9DpDgtCn3oiQnkT5EmMsVelyfvO8pDVdJ4gC8ryg2+1x8+ZNlg7OIcWWDN1Rfm6vm032P24nb270KEe2KLVGjDZmkqChlKLecgbJWIvFiSoGw2ISu1ZvRpTaTOxYavUQbSzt0VxmoxFhpVPsNuuRm4m1oxzeWkQQwMYmbHSGTLUS+sOcstLUkpCkHtLp5yRJQLMZUVWGfVMNPvnSMxxcmrrrfX8vKKV49tlnOXjwIO+88w7f+MY3JnGmWus9F8GNCd+H/SX+qSV8H1X49gb309J9GNHFTsWZdbvdCcnLsoyZmRkOHjzI/Pz8jsSZNZtNPvGJT3Dz5k0XO3btGqdPn95mCfNhxthjcGVlhY2NjUkl9NixYw9leRRFES+++CLtdpszZ85w/fp1Tp48ycLCghu0r0f85F/8OD/5Fz/OxTM3+aM3LnDp0gqDrMCUhmD0wlSVliAKsAJMoV28Gxav1BSFwZOSej0iLSsqY4mURXslGo/QFmjjUymPWJR4piIVIVhBnKc0PIOWEmuhTootnEWMn4RIKagq7RZJo/FTPamM5WmBGA3NWwk5biEPrKHfT9G6wtiRUCGOUYmHGGXbFmmJlxkyabEI2owsL6KArlJE9YSyLOiWBclQUhqLEU6VXEUKlZd4VpD7Ai/wEEA/L/G1a2cTeJS5a6lKY5nxA5CSYVGQFjkZAs9XRMpDlq5d7AUeutKcrzLeMRmHjGL/ao5CUJuuEUY+RV7RuyO6zGJpTNex1rJx083hKV/RGLVh3fNCjPz3tlf0GrN1iqxk/aaLahNSEMYehc4ZpEM6V/oEQUCtlhBHs3ihT2Mqod8ZOq8/IIkTkiRBy5Irl68SBBFzczPUW8lkDnDYz7eRvaQRvUfZKxQ0p1z7dkzW8qzEjzzyrCTfLLf8fojnRQy7ucshrsfMLbTIi4L1jQ26vR7TU9O0pluuHVpootjN+AVxQFFUDIc5nifxPJiarTMY5G5+UylqDZdAMxwWhIGH8gRhFJAXFWHoKnR+4FFpQ+RL4tgHAWVpkNL56CEl3ZHQol6PKCpD2ssQUtBqxXQGGYNBRhR51GouySYKPZrNmEprtLE0mxGdXkoYKD77g0c5eWThge7/O+H7PidOnODw4cNcunSJr33ta4RhyMLCo233UTEuyjxqkWGvX/6fasL3ftFqTwqeNsJ3rwrfODt2TPIel+jCGMPm5uak1ai1Zn5+nuPHjzM7O+uUbzuM8XzK/Pw8ly5d4utf/zoHDx7k6NGjH0olb5qmE5K81WPw9OnTJEmyI/uYmpriU5/6FDdu3ODMmTNcuXKF06dP02g0Jp85dnofx07voyw13/yji3zzjy9x61bXRZp5ArQBIVDSzTpVeYHyPLRwVb4i13gIwsAnS3uQgic0eRhgjUCWFakMsSIi8TKshb6ug7aEJkf7HlIJygK8Xkam3CIaeIrIUwxyDQhEZRC5wSiBijx0qfGMobCawahF6Qc+M1GNfmkw1jIsDaookEJQKEuQhFTa4BfazWYFEoRgYDSecSrKoRBgBcOiwPaH1D2fEicK8GquIhKlFVVaYBAE1rXE7bDEExAkAVXg/N86eem8/oxwUVvC5efm0mA9SR2JNlCOqmulhIu1io2pgGcqH7MxYNB2i1lcDwnikCIrCKKAbJjTv2MOz7WRoSoq0kFO0ohpzTlyl6U5zekG2TCnO0qFqKqKNE2pbIGVFltK4ihiad8S9WaCF/goTzLsZxOiB6N25mzd+fgVgoX5RbrdLtev32DezOGraNJSlVJQm3Ik0GhnWRPXAvK0pNaKybNqu6o2CVCBR38LUfQCRa0ebbNQwUBQ89lYHwCWyK8T+ppur8vNm2u0Wi2SJKHWiEBK2iPCLIQgaQQYI5xwRDgDZeGJicmy8lwlsNNJGQ4L932nEnr9DN3LXRt8KqHXy9Aj371GK6HTcwreMPQJY5/uqOLXbMVYLNoYWo0IKSuyXLhM6yRwiRtFRb0eMkgLWkHEF/7caZ4/toSUO0dmwjDkueee48iRI/zxH/8xV65cwRjDsWPHHirx6FFhRkKvj1q694F+v8+FCxcm/3758mW+853vMDMzw+HDh3dln3eLVnsS8bQRvq0VPq01m5ubkyg7+GDRxXhO5VFurKqqJvNka2trKKWYn5/nhRdeYHp6+rHdtL7vc+rUKQ4cOMDZs2d54403OHHiBPv27dvzN70PQr/fn5C8fr/P9PQ0S0tLvPjii7v2wBVCcODAARYXF7l8+TJ//Md/zL59+zh+/Pi26qvvKz7z2ZN85rMnabcHfO21c5z53g1WVjpu7baCLK9QSCLPpQFYY/GkwGjjqhpW0PQqUhsiS0MkcownSUQfgwWr0Ehm/S4ZPiUBHprQlIgwQCchifDwhCDDkAG1OMSXI9+9SmNzQz7QpBi8QCGQ1ISH9hQWwSA3+FIQxwH9okQbC56k4Sln6SIlRBKNQQ0qKskkvaMYFgRAIwqpkhBbVuTDDNFJEWGI8BQW14oVkUdsJbmuMKPh+bKosGlBaCW5sihfjTJXDZ4niFEMysIpSYEeGmUtdSRBLcAIGGQlnbzku5SEDcGhTLFUSIRwL315WmCNJUpCPG+U+Rp4JK2EtJ9NvPcABt0hvu+RjOLYrLVIT5AVKd12DzxLvVlHVQlRFE3uYaUUXuASMqrSHWsYuzQP5Su0MfTaw0kb2PM9njl+mG67z9rqOnmxQaNeZ3pmilorodce3vbEA+pTCVFNkg1LgshzKljPpUrkReXa8Mp93+Z0jX43nZC98bxdv5/R7WTILTm9vW5GLZlCyYz+oEdlc7KiRhRGzrS6GVNqPZrVGxHJcb5t5mYhm9M1BoN8Qv4arZii1JP2baMVUZaaTmeIxRG/stJkRUm9FuEHrn1rjGFmpkZeVHR6Kb6Srp3cTUnTAs8TaGvJi4pWK8YKCH2PH3vxMM+fWELt4vM0jmMajQb79u1jMBjw2muvcfjwYZ599tkd6cjcL54GhS48pqSNL3/5y/zIj/zIe37+pS99iV/7tV/blX1+97vf5XOf+xxXrlzZle3vFMYJDp/5zGf2+lB2BH/2Z3+G1hohxDbRxdzc3K6KLoqi2NZqjOOY+fl5FhYWPnCe7HHAWsvKygpnz54liiJOnz49iWR6EmCtpdfrTUhemqbMzs5O0kL2ojI5HA45d+4cm5ubHD16lEOHDr3vdXLr2iZvvHaWC+eX2dzoY4RESlfAMQKytARrUL7CDzzsxrfAZkhpGOgYYQzCWkrlESiNKTWZcLNxDTkcCUQ8pPQxzecQUhLEHlVeURQFbG7C+jpBOkQqS+oF6CBEtKZgbprKc95maEs4VuUKAdaijEF6ispYl1GLJUBMCJ7ve3iepCwrPE9hpERrQ1bkeFaApyBQpMOUPM3xhSCOYmziIZXEaIu1hrrnM6gqyi1zw0pAPQrIBBRlhfIkoZCYtESMWsWV59JCrLaUZUVsBdoTEHpY64QfXuDhV5bFHuwrFGqLeXPSivFHZNNaGPZSqtIdQ1yLCCKfXntIkeekacpwmFJVFVPzTeqNhhNOSUk2dAkcXuBRbzpF73g7AELIkW1Kuc3eJaqFJI0IC5R5RT6yRal0SVYN6XcyGvUGSeIyepO6m8vrb/EglJ4atYtTF9s3QnO6Rp67NBR/1CIe+9QZ48irsRblucpznpVobdDGUGvG9LsZ3W6PXq9PrR4xvzhHWbjnZFVVdPrrLCwccFVRKUnqzli7KCr3/PQFQeBTVe65K5UAKagqgzEW35fklSYdlq693kwYpM5cOYpc67fby1BK0mhGZHk5+h6SXq/HZrvD4WcO0Rvm1JOQT7z0DM8fX9xVorcV3/zmN1lcXOTQoUN0Oh3Onz9Pu93m2Wef5ZlnntmVLs2d6HQ6fOtb3+JHf/RHH2k7vu/vKXF8KqPVAM6fP8+LL7448U57UtFut/mzP/szfviHf3ivD+WhMVa4rq2tsbm5SRAE7N+/n9nZ2W3ih50meXe2GhuNBgsLCywsLDyx1ihaay5fvsy7777L/v37OXbs2GN9U90Kay3tdntyDsuynJDk3Wp3PwzW19c5e/Ys1lpOnjzJ3NzcBxL4K5dX+ePXL3Du7E16vRyLpdKO7AkpMNZSDm4SZpcYVD7GCGp+DtJSVhKrBJX08aVGiYqUCIElIierHUUHC3jCiV7TzQ28K1eIs5RKKkrfxwBRkWOUovQ9Sumj9u3HNhuUwuL5Hr4U6Lwix82wWSwhAhF6GOnIgpSCWElSYyhLl9QR+B4BzkJl/PC2ONNmGymMhCIvGPZTIqkIwoBS3T5fQkAzjiiFAWMxWQUjcqKEIJcGgxMheIGHBBiWZMKZSY9hhaUZhhhhGVYaL3BjGTLVeJVlAY8TSRNyTbol6gtACsHUYgsLDNp91lY3SUckL05i5pZm8P2QfLjdky+MfeKGUy4jBFWhSfs5QjqBRTrYkk/L7YSLdFhsM4BWnqQ+XZ9U6IbDIetr61grmFucRW85XCEFzek6g362jVw2WqOK2Ra/wVozdoR2y/ett2K0NgxHnxu3WYfDgiIvsdZ5FEaJz62b6/R6PaI44uDhfeRZydWrN9h/4ABJ4qqWvZGgJQw8Z27dS8GCH3nEcUBnRFKjxEf5in4/B2tpthKysiLPSwJfUW/GVJWrXEklSPOKoqxIkpA0d6TU2oJOr8dzp47y4ql9nDyyuKOt2/vB17/+dQ4dOsT+/fsnP9vY2ODcuXMMh8P7zjh/FGxsbPDd736Xz3/+84+0nY8I3y7h+vXrHDx4kM3NzSdaWdPtdnnzzTf57Gc/u9eHct/YKrpYW1uj3+/TarWYm5uj1+vheR7PPvsssPOii3GrcXV1ddJqHFeh9mK242ExGAw4e/Ys3W6X48ePc+DAgcdShdzqkbeysgIwIckzMzNPbNvCGMP169e5ePEizWaTkydP3pcQxlrLxXO3+OYbF3jn0gq9foEWFmtAVwWq+yfoyhIEmtx6GKsIVEFuA5TVCKHRVuGrisoKiiqgajznFMDCoDs9ajduIKylCAJ8q4nyjKEfoD0PLIRFDr7LBc4PPkPcbGA8gR7lmPoSFIKhdtFjuqoILGglEYFy7eFSEwjhVL840+go9ImkYmi1G6IvXYUyRDiDZsDokqooSbyQuB5jRwkceaUxYkwSPbS1lIWr7nmewtcwqMoJwRNCOHNhIclHxK8qKpQGaS0uMlgwVIYgCibXsqk0s6ngQKlIrCRMAuIkor3epdvpubm8qiKpxczvm6XebKBLQ689gC0VwtrIR67fHrB1xfJDj1oroSo0aqRqLouKPKtotBKGg2zSlgYnFqm3EvrdFF3drtJFSYgXKG7dWKXb7RInIfOL8zRaDaw17noxBl0ZlKcwxjDc4tF3uyJ4e248aYQIKelPFMeWxlSNsqzIRkRWeYpaM6Q7qhoKAXEtYLPdYWOjSxzFVKbg5KljLoIN8H1JrR7T6bpINqfoDel2MzeHGfnE9ZC8KJHSORoI6ebwwNnttLspQkKzEdNPc4yxNBoRxuJmYqXz2PNEyb4Zxf/rC3u3Pn3ta1/j2WefZWlpadvPx5nd58+fpyzL+0rteFisrq5y5syZR16nPyJ8u4SNjQ1mZ2e5efPmE1vtATcr9a1vfYvPfe5ze30o74utoou1tTXyPGd2dpbZ2dltoovl5WUuXrzIM888M7HYeFSSN65Cra6ukuc5c3Nzk6zWD6MIYgxrLWtra5w9exbP8zh9+vTEe2onobXeZp8y9shbWFh4j0fek46yLLl48eLkhe5BhTAXz93k23/8DufP3aTfzbHVBnTeAiyZ9vCUwZMVlZFYIdFCYazAaEEhfEy4gJYxlRV4QjB15i2MdPU5KoPEoJWHsAZlNZVUaOn82oSx6ChAfPwlCm1QxvkFGgEISEL3PQaZG74XWCJPUXkS3/cQLssKUxlK7bwIcfSPMA6ojCXLC4wQKF+QeD4ZljQrKMsCJCRipASWAK7953mKSCoyU4Fy1iJlUSFHbeVSCoLQw0OgswprDUHoU0kYlhprDP4oWk4UGrQlV7eXFeV7eL5iSkviWz28doquKqIoIkli5vbNIoRk0BlOyJzyFbVmPCJxls56H6NvbzOu324Db52580OfpBEx7GV4vsIPfTdXbJ2YpbPen8SNwdgKRtHb4odnsRhRsrqyge+FtFotPM+j3orc7GU3A+Ha7EkjBCFGUW+OoColEVJQVtrNIxpQnkAqRZYWuPhiZyyd59Ukt9YP1eQz7pg1/UGXXm/I9MwU09NTBEGAsdZlEgsQSlBWxokKRpW6MfFrtmJKbRimBWHoEcVOdKGkpDkVYaydJM4MUme/EwY+WVFy4sgCP/DCQXqdVTY3N3nllVfu+x7babz++uucOHHinkpda+0ktUMI8b6pHQ+L8br2Qz/0Q4+0nY8I3y4hyzLiOObSpUvMzc3t9eHcE8PhkK9//et3nXHca9xLdDE7O/se0cXWVm273ebs2bMAPPfcc0xPTz/wfjc2NiaK3nFSw7gK9SRXbB8GWmveffddLl++zNLSEsePH39k36myLCczjevr60RRNCF5T8JM46Oi3+9z7tw5ut3uxM/vQR+kV6+u8Sdfu8w7f/ptVi5+28VJSVdX0kIisQyrEIFGeZCHhxHhNF7gguvlzZtk125gBPhV6cQYSkJZAYI8DMFaGvmQUilyP0RYQ7C4RLlvATxXvYs9icaRP2vBw+L7Hv2smIgNxvN8VjmbFUqN0JpSSYQnkdJFx3lWUCooK42uNGBdugiWXLuZNT/0aUYRIOgXW9qc1hJap9AN4wAhJdpaBmlKYBWVtJOZQnBCglgpjIFCWXRlRvt0qXX1KKAwmmKQUxYFlXGZw60w4lityWE/Ju9mFOn2tm3ccNnK/U462Z6QgqQWETdCrIW0n23L2k0aEZ7v0etsJ4BxPcQP/UkMmpTCVRnr4ahq5+YPy0KjjXE5zf2cstToqqLb7WJERa1RJ1ARUrpnT1IPXXt1i0I3ro1+tqXKV2/FWGOcpQpOnNaYShgO3D7G2xJSMhhFnXm+Iox9F5mW5XQ6beqtmH4vo1ZvMDXVpN6M6fVztDZEsUcQ+Y7o4cyRjTVoY/EDNapIWizWRbN1U3zfI4o9BmlBFPkEgSKKAk4cmee5Y4tEo5ePS5cu0ev1ePnllx/k1tpRvPbaazz33HMfuI4bY7h27RoXL14kDMO7pnY8LG7cuMGVK1f49Kc//Ujb+Yjw7RLG8Tvf+973OHTo0F4fzj2R5zmvv/46P/IjP/JELMJlWU6yYzc2NvB9n/n5eWZnZx9IdGGM4cqVK1y6dImFhQVOnjz5vrNqYxPfMbn0fX/Sqv2wVaEeFmnqQsU3NjbuS6RwJ+7mkbd1pvFJuL52ElsrpEopTp06xczMzENta/Pmdd78P/8fLr75bW5t+KRliBGS0oaUwQJ+az9S+RgLpTF4Aoo3/5SyrKiXGVJYMjkSJUiBJw3CGArhkYUhVghqeYpUMEwaVM8eJZACDVhPIj2BqiyV1pSjP5MHxHFAPhr6FwJX8bOWYkQElRSoypAazbhBKXAE0cbeJKtVaoPS1mWmlgVlXuApj1qrhu95DKoS4Y0ix8oKX1usEBRYd48HajQnKLFiND+4ZenwLSghCJMQrTVZUdAf5mhjiKXC831s5OEHHkZbqlIjgDnrcTiKWQxjl4ms9bb0C3DkM667ql1ZbG3PSlqzDUdmjKUsNdmgwBhNY7qGMTDobo9Ba8wklKO5v8mxRz5xLWTYz5wQJ/RQnkT5zr9wOMxYW1snHWZMz7RoTU1vM4auNZ2dyu12rqU5lVBpM5nlU56i3owY9ItJRa82SqYYbysIPaIkpNtNybKMPM/QtsAYyfT0DFqX5OWQotDMzM7QajVQvnc7BcKTDLOSPK9c7q4U9HoZtVqACpQzKfcVXqCcRYsnyfKKQ/unefHUPg4uTb3nGXHhwgXSNOXFF198/xtoF/HlL3+Zl1566b7vba31ZO2p1+ucPHnygYsOd+LatWvcvHmTT3ziE4+0nSAI9vQ5/NQSPnDWLF/96lc5ceLEXh/KPVGWJa+99hqf+9zn9qxylWXZhGy1221qtdqkkveoooutJObEiRPbZtXuJCi1Wm1C8hqNxlNHUO4XY5GCEOIDScydwpVWqzUheQ+aFvJhxfjl4vLly8zMzHDixIkH8gccz4UuLy8z6PeZqcHmcs7163D9Vs5gUFKNzIERI7JiKviTb+GP2rZDPyCqSgSWPAgIqhJhLXngI7UmLEtKTwECaTTyhz+NVq7yMr7MDa6d6HuKIi8otcFaVy1DCrzQxxoXYi8ZdSCFy1T1Qw8rLOBmtaqyoqoqfCEphEUGPkJJyqIktALhCfplQVmWKOkReB61KKCUTqlrRp6GceDhK8WgKqkqgxQQ+z7BqGWpjQVfkeuKPC2oihLPGETgge8T1ULkKIlDZxWesRRy9D0RxGGAAaqsZNYoFqzHTOKi1aQQIASdtd62ub2oFhLGwXsUul6gqLUSiqxEKoXnSafQ1gYv8Oh3U6ri9ueTxiird0vkmPQUjVbiRB757cpjYyph0E+5dXMFrQ2tqSb7Di2gtZ2Ia4QQ+KFCj5S5AjFp81ohRnYzbobOGU6P9+lsXYZpSr8/IB0OMEAYJURhTK3ucnG7PdeqlcqwsblJWcHc3Ayzc1P0hzlVZSY5u8ZYlJJoY6mMwfMlw7zE9z3C0GOqGXP08CzHnpknDu89EnHu3DnKsuSFF1647/tpp/H7v//7vPrqq7RarQf6vbIseeedd3jnnXeYmZnh5MmT23w9HwTvvvsua2trvPrqqw/1+2N8RPh2EXNzc/yP//E/9rQc/UHQWvOHf/iHfPazn31s82jvJ7qYnZ3dlaSL8dCrUoqZmRm63S7dbpdWqzVp1+6Uie/TgK0V0rm5OU6ePEkURZO/3VaPvJmZmQlR3usIor1EnudcvHiRmzdvTry67qY0Hot/lpeXt1nQLC4u3nUu9PqVdd785mUunltmbbVPpQ02S+Gb33QGz9JDS0mkc6xwebYSV+mrhMBaQRqGSCAuMzIvIDt5GhX4+J7E+E4EYAvtjJeFRSpJHPoIa8m0hlHLNlCS0rq5P60NckR48vEA2shixQroZyVSufs38Z0wI9UVYiQWkaVGFyW9skBb42bqooDE8yisQUmJ0Y5gGmtQSCrp7FnESPxRlgWeMVQYKqHwpMuSlUrgIzCFphAGZQUK4exwFCghKUu9LQJOAH7g0VQ+zdQyowUR7pmTNGP8yEMIQTYoyNJRu9ta6tM1J464o51bbyUIJSdpGVIKwtgnqUcTUmZHMWLGmNtt5LFnnyepNWOy9LbFi5AS6RtWlteoKkur2aJWT6i34pHq1lUg41pAEPr0Ohlm1Equt2KKonL2QLgKX14WrK5ukqYpQSipNxtY4xGGAfVmgpDQ62UI4WLStHbHrTxFf9hnY2OTMA6Zn5+nKB3JC2OfYZoTBB5h5GNxLwd+oDh6aJZTRxeZbt3fs/bMmTNYa3nuuefu6/O7gd/93d/lU5/61EOTtTzPuXTpElevXmVxcfGBXwjBeQd3Oh0+/vGPP9QxjLHXhO/J8F3YJXwY0jYmarZdNl8eiy7Glbw8z5mZmeHAgQO7mnQx9nfrdDoopRgMBgwGA6anp/nMZz7zRAtq9hJSSo4cOcLS0hLnzp3j9ddfp9lsUhQFWZZNsob3yiPvSUQYhjz//PMcPHiQs2fPToa99+3bBzCJ1VteXqYoCubm5jh69Chzc3Pva0Fz4PAsBw7PAlAUFW+9eZVz3zjPrS//H9bCJkpaEKBHFUBPWLRQpMJHGYOQAl8bvKqkREFlqUc+fhSRFyUi13gCjKdQgcKrDLrUpFWOBpQS1KKAXGu6o3itQEqEsJjA3aeJtfhKUFhL7tx0iYUk8DxKYckzZ4IcAFiL9D08z0PUfSITY6uKjU6PTpqTBq4q5wuBJwUi9Eeea5YqzbCdHF25uDXleUjfI45DQqmcl6Fy5odFUVFpi5BOkGKFoF8U2Nujd05xGgbOykRXmFLTzzUDCzekM5aeV4qkNyTq3l4ooyQgqkfoykXZWeP8/CptiJOAbFhsUcc6i5IwCRl0M9bHubgCGlM1kJK0n5MOS5SSNKdrCCWcdyGCKAlJ6tGkcqaN4fCRhG63S3/YJe9maNvCD3yaUwlCSobDjHKQ44eKuBY5opeXCCCqKfqDAVeurzrC2qyz7+AsvufOu5SCyjgPPakEUzM1er2MQb8YkcSKXi+l0Ug41KizvrHJlatXqTddBrlQAi9UeIFPvRlxcHGKo4fmmJ158GetMWbPZ6aNMY+0Bm1N7bh48SJf/epXOXDgwAOldjwtxstPPeF70vN0x8kSu0H47ia6mJ2d5dixY+8rutiJOLOtytqqqrYtrnmec+bMGb75zW9y8uRJlpaWvm/bt/eCtXYSCdfpdBBC0O/3kVLysY99jMXFxb0+xCcWzWaTH/zBH+TWrVucO3eO8+fPA+66nJ+fnwxzP8xCFgQeH//Es3z8B48Q/Yf/N72LV/nT5DAXk0VuxLOsBk0QEk9qQgMKi8RQComVCiktoS+xQUhRaEAShW4uT1capV1Wai4kgTFEvoc2hiKvsMbS8H183yOrNGVeIoYlQmhKoPQkSglCoCw1pRToQuNJQez7VAIqwJSaoqgISoMWUI7mA+N6HV9asizDSIVRAZkB08+QlSbTFQZLEofUG00Cz0dXhqooydOKPtVEOVwPfcLQx4yqk9nIbgYNsXTEVgsLpSHv5c6kGEOoFEEckFn3POwYzWbRx1hLXXksJTEtozCDYlIpk0pSb7m2ZzEoMZUmiAJas05cI5SkGBkxW2sJE58oiRgOcnqjGT+pJPVmQqX1JCcX4bz2jLV02o48CiGoT8VYYZEypJ7MMswGrLfX8L2QOKo7RW8zQniSXicjy/sIaahMyfp6h6o0NFs1lpYWMUZSVQasm7fs9jOMttSbEVYI0qzC8xWt6cS1gKUg9iUogRVOYNOcajE9P0W70+HqjascODDPx184zqljS7QajzbWYYzZUz9Oa+0jE74x4jjmYx/7GEeOHOHChQsPlNqhtd4R4rvX69xHhO8JwE7Gq91NdDE3N8cLL7ywq0kXWuttcWZCCObn53nuuefe4+/meR4/8AM/MFmQb9y4wenTp7/vq3338sgbn0Nww8NvvfUWN2/e5NSpU983c3r3i63ZySsrKyNfsojBYDDJUN4Rv0YhqH7+52n+w3/Inxtc5M8NLgLQFT5/WnuG8/ESN6JpNoM6Wnn4uHg3oyRm8QC2siiEs9awFqkNiZIgpfNWG3myFXmFkeArhZROMDLMK5QQNJKICktpDL517d7KmFELWJH4CiUFg7wkGyVBBFLgK4mMApACH4gNWGvICw1aEMmIfJhRMUB5AgMo36cWJHijKl6RGVLhBAleoEg8hSfl6PhK+kUFReV8AYVEhR6e72OUdTN7xiIsCAMIiQ0kHpCVmmyQ45JGJKGnUIGPtW4G7kaec8UalC+Y8QKmPZ8w1ejNweSZFtedGKLXTidzcp4vqTUTlFKkwwIo8ANFoxVjrJt9dAppV+FTvqIqNWVRobXL1PUjn0E/o9tJAUu9ESOUxOt5lGWNQdqnO9wgimrormsTIyv6gyFFXpHUE/YfXKLRrFGVxiViCIH0XGqK8tzx5HlFqQ1h6CGMpNAa33rY0ewjEpJaCBK0tTRin4W5OgcWTzDTCnn3nctsrl5grWGoxY+WRLFTZOthMV6vdrLKWK/X+fjHPz5J7fjKV77ygakde30edgpP9Qzfpz/9af7e3/t7/MzP/MxeH8r74rXXXuPjH//4Q88o3E10MTs7y9zc3K4mXdxp/RGG4UQwcGcF8f22MfZVe+aZZ3j22Wf3vIXwOLE193d1dXWiTh575N3tHBZFwYULF7h58yZHjhzhyJEj31fn7E6MifLy8jKrq6sIISbncJydnGUZ58+fZ3V1lSNHjkw8Ih8J7TbxyZOQpoh7vLAN8PhefJCLySI3kxnWoyn6n/5zEHhgBUJJ9KiapZSirCrSvMRXCs+XVONZs7JCCzf8H4YKJRVZXmK0RkhB4HtIX2EFVJXG95Tzh7N2JAyx+IHHsCgpstLNrCn3mRLnUWeMQeiKoioorUBI6UQRWpOEIWEjdsdgrWsrewqBJStcUofE/d/znBLUANkoIcR56DnyJwSYQIESLs3BWJQUJJ7n1Mi4+cei1GSjfFwPQaAUKvTIraEsHYGVCCLfox76REhavk9deMTWnYcoDrFWMOilE+FHlLis3SwtJrN5fuAR10Oq8ray1vMUSTN0s4YjC5g48QmjkDQtqEqNVIKkEWGMZTjIGQ6HDLM+2miKwhIGETPzLRrNBsNhgdaGeiNys3l9N2cXxb6bI7TOi08p6c6DlGRFhfQEgafQuJ9NNWNmZhIWZhrsW2pRiwOMMVSVO1fjbsD58+fJsoxjx45x8ODBh3ref+c736HZbHL06NEH/t2dQFmW/N7v/R4//uM/vmuVxvtJ7fje975HEAScPHnyoffjzMv3JlVpcgxPM+H70R/9Uf7qX/2r/NzP/dxeH8r74vXXX+djH/vYfauQrLUMh8OJT91YdDE2Qg7DcMdFF2NkWTYhJ5ubmztm/dHtdnn77bcpioLTp08zPz//SMf5JONuHnmLi4ssLCw8kDq50+lw5swZiqLg1KlTzM/P73nL4HFha0V5dXUVpdTkHN6LKAMTj8iiKHbEoFX+zu8Q/uzPgrX3JH0AVkoQguF//+9cevZlLr59nZvXOqyt9eh2UrKiQkiXM1tpg+cp5EhVW1UaoQTK91BKUumKrHCmvmHoIz1JXmjKosRXbj9GClCCQEqs0VRWYAUICZHvYQUUxlCUJWVaYIrS2br4HkHgE0U+ke+7BA9jyNIUow2+56PkKJ7Ok1jpKmOBknhSUhhNWlYwqqwpBL4n8WOf3Bj30qktpqhcjoZ1MXOFchbSVanR2uALSRA44lhaVxXEWIQ2UBmsgDAKMCPCWY2fd1Lg+S7HN64gQVL3AuaaCc0ocBU/AYyqq1aAki6Xdpx764c+CBePZrQT0CS1kLKsRsTPUmtGKM8jHeZkeUFRZpRVQVGUhFFCGPoUZY42FVNT0y43W4nbil4pyUYqYM9XLsXDWqI4mFwHGksc+UzPJMxO11mYbbAw13Bk/h7QWqNHOclCCDY3NycjDSdPnnzg6/3b3/4209PTHDly5L5/ZyeR5zl/8Ad/wBe+8IVdrbB9UGrHd7/7XWq1GseOHXvofXxE+HYZf+Ev/AV+/Md/nL/1t/7WXh/K++JrX/sap0+ffl+vIGst3W53QvLGoosxydt6M+zkPN7dVKFTU1MTVehOthSttVy/fp3z588zPT39VLUs8zyfnMM7ifL9RITdC9Zabty4wfnz52k2m5w6deqpbY2Pq6HLy8usra0RBAELCwssLi4+kJn02Jn//PnzJEnCqVOn3IL8kJC/8zuEP/dzMHSzX2LLI9WOjylJyP/rf8X8+I+/5/ezrOD8mRtcOb/KzRtt1tf69HspRWWRo6qeHCUqgJtpqozF9531SF5qyrIi8D2UL7EWSq0xpUaOxCTKkyhPIkdEJq9KykrjeYIoChCej1QKC3jW5Q7nWjMmRnHoo62mNxyClIRR5IQjBipjKKyZVBpD31X+wFm3VKUjp1o75a8f+ljlZgdhNNdk3XyRNRZ86ap8lZ0oaI21xHGAVIpCa3KtJ4kWAKGSBEpRlBpbOZNp60mkkpjKUGnjzKADn5k4wkdCoYmEpBb6zqzYWAZ9FzMWRs4Tryr1qOInqDdDpKcY9HOGwxQrNHmRkaYFSgXMzk3RaNUpCk1Zamr1kP6gz/LKGr6vWNq3QJwkE4sWpCObpTEMspJ6PWRqqsbMVMzcXJ39cy0ajQcfPzDGTP4/vidWVla4ePEiURQ9kF/lt771Lebn5zl8+PADH8dOIE1T/vAP/5Cf/MmffCwvs/dK7fjOd77D1NTUJDL0YfAR4dtl/OW//Jd59dVX+YVf+IW9PpT3xde//nWOHz/O7Ozstp+PRRdra2usra1hjJlYp9xZxdhpktfpdCbVk7EqdBxnttsXbVEUnDt3jpWVlccSjL1bGA6HE5I3tqDZLY+8ra3x97Mk+bBhbMi9vLzM+vo6cRxPSF69Xn+kRaCqKi5fvsyVK1fYt28fx44de3hbm3Yb77/+V7z/8B+Qly5NfmyOHqX6e3+P6ud+Dh7ARywdFlw6d5Or76yxfLNNeyNlc3NImuYTYjYqkU0qU9JTSCVGxr5iFBHmIriMNmRpRpoXaCuoxQFx4hIe8lFLNhjZrRgx8o+z4HvOPqWqXISaNdZVBauSuBYSRC59otIVWIGtNKW1jO2RfV8RhT5KgMbN6OlKg7H4QhCEPlK675IVmqJ01UxPyUnagxWQV5qy0mAMgfIIfAUCqtK4qhZgpHBRbNZSVcYlh/g+nq8ccbaQa41mlEuG+4cnJL6U+Ahna+J5eBb3M18RBR4YJzrJ05Q8z6jKgqSW0Gw0iZIYKRRIC1aQlaNqqZSUVUVeVvTTIZ1eF+l5TE01mZ1u0WqGzEzXObR/miMHZkmSnX2u3o34Xbt2jXfeeYfp6en78qX7xje+wb59+zh48OCOHtv9ot/v88Ybb/CFL3zhse53nN194cIFwjBECMH+/ft55plnHnqbHxG+XcaXvvQlDh8+zD/4B/9grw/lffGNb3yDI0eOMD8/PxFdrK2tsb6+jud5k6SLZrO5a6KLrYKB1dXViaJxYWHhoRWNj4rNzU3efvtt4OEi2h43ngSPvF6vx5kzZ0jTlBMnTnwoFdBFUWxreddqtUm79lGqoffCcDjk/PnzbGxs8Oyzzz7aC4a1sLGB6Pex9TrMzEzIxaPCWsvNa22uXF5m5VaHtVsD1jd69LopWmuEkE4QUVUgBNoYyrIgzV2FKgh8pPLwfEeYKm3IctfKDHyFH7q5u7ysUFLgj2f8RhU2pQS+8gDLIC0Yphm6qkiigLgWIzw58qYWKCmdSXRRudk56ZSwFjuyeHHecBq2JIQ402mspRiRUHAtz3HrGGNd+1y5+cexi58vFXKkNtbGpSwZaygrTaktVlg8z8NXgip3hFNIF1MnhKAs3f68QCGlwBpLXrita6PJiwJbasIoIIojhFJo7dqzgefEMca6eDkpBVK6XNpGEjE9FTM/U2dutoZnUwa9lUmE4uPoYNxJ/MZRjteuXWNpaYkTJ07c8zi+/vWvc+jQIfbv37/rx3k3dLtdvvGNb/BjP/Zje7L/cWrHuXPniOOYF1988aHXISnlnltoPdWE7+/+3b9Ls9nkn/7Tf7rXh/K++MY3vkGtViPP822ii9nZ2W0GkTtN8qqq2hZnppTaJhh4EqpqDxrR9rgxbrWPSV6WZczNzU2qoXtxg1trJwroJEk4ffr0QwuCHhfubHk3Go1JJe9xGXKvr69z7tw5jDGcPHmSubm5DwVZNsawvtrj6qUVLl26wbXLqyyvbFIVFosHQiKVh5LS+ctZjbWugmesAakQwi1IWmuqkULY890coTYu8cN9RqCNpShdTq+Ubq43rzS+H+IHPoGvHOHDUlSGUhuUhNB3kWWVMUjhDFyqymC0a7kqKZCeI3d6FCcnhVMVKzVKrGDUBi0ryso4gUrgTebaykJjsEhPEnjKtbdLV2XzRu1mcIROSpc4onDWKNroUe6sIS/yUdKGRXkenufj++67uQ60wGpLHHnUkpCZVkJrKmZmKmFpocUzB2Zo3cPcOE1TLl68yPLyMgcPHrwvW5Cduk60du11R3JLLl26xPLyMocPH+bo0aPvOY6vfe1rPPvssywtLe368d0N7Xabb3/723ueNf+1r32NKIpYW1t76NSOjwjfLuPv//2/T57n/NIv/dJeH8o2bBVdrK2t0e12ieOY/fv377roYhxntrq6yvr6OkmSTCpQDzIH9bjxfhFtjxtbfQZXVlbQWu95NfRuqKpq4jA/Nhrd6wfOVowFQMvLy09MLNy4lXPx4kWazSYnT57clariTsEYMxGvrKysvEe8ArC22uHW9S7ry13amwPanQG99pD+ICfPKke6cPNzVggXvztS+AoEVjiCMPbKE1LgeKLAaSAs6TBnmA5BCOq1GlEcYYSlLKsRUVQulaSqsIzaxgJ8T01i4gzgKfdvY3GFEGKSkyukhFElTeKKqQJ3HMpzRKyqXDVSKoFBOMsbIVzVzo0VYkcWG1K6imSpDcLaUcZwPvKe8wnCkFYrIQ596klEoxHRakXMTtfYt9hiaWmKRv3hLX56vR7nz5+n0+nw7LPPcujQocfy7BgTv7Gpcpqmk+M4evToNgX72Lx8YWFh14/rbtjY2OBP//RP+dznPrcn+x/j9ddf5/jx40xPT3Px4sWHSu34iPDtMv7JP/kn3Lp1i1/5lV/Z60PZJrpYW1sjy7KJ6GJ5eZnZ2dlJIsBOzuPB7Vmy1dVVOp0OzWZzQvI+bAP+44i2IAh47rnnHmnY/kGwdWEdW3+MSd6dPoNPGvr9PmfPnqXX63HixAn279+/Z2T5zrnGqampCUF5kmLhxtWPa9euPXFkeXwtjm1oPM+bVEPv1w5pK3rdIWsrfTZW+7TbffrdjH4vYzjMGQ4KylKTFSVVYSiqCmNAypF/qMBlCwsJwlIWOcMsQwpFUk/wlHIGwcZg9Sg3eOw7OhJcKOnEFxaXYiGsm6VDurxZa1wEmpAgEFRGT35PKeVIoDaj6p9wB2eNM+0F1Ggm0VjAGoLAIw4DlAKjSyqTI4RmdqbBoUOLPHN4P0sLDWZmmnje7t/X6+vrE3XosWPH2Ldv32O5P++0chkT0DzPJ8+J119/fU9dE9bW1nj77bf57Gc/uyf7H+O1117jueeeY25uDrhdpb1x48Z9p3Z8RPh2Gf/yX/5L3nrrLf7Tf/pPe7L/sQnsmOTdS3TxzjvvsLy8zPHjx1laWnrkSt44K3S8sA4GA2ZmZiYE5UlaWB8GWmsuX77Mu+++u6uL8Z2q0PvxyHtSYa1lZWWFc+fOEYYhp06deuAw8ofFYDCY5NZunWtcWFh4otrzd0O/3+fcuXN0u12OHTvGgQMH9oTc32lD43nehCg/DMl7WORZSXuzT6c9ZNh3hHA4LMmzgryoKHJNmuWsra3TbneJooh6rYkBysqCsYz/pyuDtQIpBMYap2i2BoQjgGLU9mXkPyekI4JSgBqZSnu+wlcK3xdIzyOOfaIoIAo9ojggjn2SJKReC2i2EoLAvTQuLy/T6/WYmZlhaWlpzyMKx2MYFy5cwPM8Tpw44WLSdvnvOk6y2GrlsrGxMVGplmXJSy+9NCE6jxsrKytcuHCBH/qhH9qT/Y/x5S9/mZdeeuk96uZ+v8+FCxdYWVmZ+Mje65mmlNpzId1TTfj+7b/9t7z22mv85//8nx/bPsdzcXcTXWzt+W+dx5NSThbjRqPBc88998AtrXEU13jYvSxL5ubmmJ+f37NZst3GYDDgzJkz9Pv9HYtou9Mjb6wKfVCPvCcVW8nyvn37OH78+I6TrvELx5jkpWk6UXnv9cL6MLDWsra2xrlz55BSTqLZdhtjkjeu5Pm+z+Li4gPb0OwVxq3CtbU1nnnmmfdNMtjt4xiPDnS7XWZmZiZk+Um7Fo0xXL16lUuXLtFsNjlx4sRj6WLcTdF769Ytzpw5Q71e54UXXtgT0dzNmzd59913+fSnP/3Y970Vv//7v8+rr756z5fkcWpHu92emOHfea1/RPh2Gf/hP/wHfuu3fotf//Vf39X9jOfi1tbW2NzcJEmSSSXvQUQXZVly7tw5lpeX78uORGu9TVkLTBbVmZmZJ2aWbDexVaBQr9cfKqIty7IJydsqGJifn3+i57ceBcPhkLNnz9Jutzl+/DgHDx58JAKxVbyyvLxMnufMzc2xuLjI3Nzcnj/odgJbF+OxrcVOC0q01hMbmrHX4JjkfVhfONrtNufOnSNN04mh7W5/jyzLWF5enpC86enpCcl70qvK4NaCy5cvc/XqVRYWFvZE0Qtudm1paYmbN28yOzv72Gdar1+/zvXr1/nkJz/52PZ5N/zO7/wOn/70pz9QqHFnasfWucyPCN8u49d+7df4tV/7NX77t397x7c9GAwmJK/X69FsNick726iCyHEfStrNzc3eeutt1BK8dxzz217qxj7ko0rUEEQTFq1H7Y2407iQSPa7uaRt7i4uONm0k86VldXOXv2LJ7ncfr06cmg//1g7Nc4ruRVVTUheU+SeGWnsTXabic8D59GkncnrLUsLy9z4cIFlFK7UiW9UwT0YSN5d8NWRe+hQ4d49tlnd7Uqaa2l1+tx69YtlpeX0VrziU98Aikl7777LtevX2f//v07l0n9Abh69SrLy8v84A/+4K7v6/3wf/7P/+Gzn/3sfb3g3Su1w/f9jwjfbuLXf/3X+Tf/5t/wu7/7u4+8rfcTXczMzOB53ntI3qOILowxXL58mXfeeYelpSXq9fqkgliv1yck71HNZ5823Cui7V5zjY/TI+9Jxdhr6vLlyywsLHDixIl7no+xQnlM8qy12xTKT7J4ZafR7XY5e/Ysw+HwgStXWuvJLNna2tokXm8nDKWfZIxtli5fvszU1BQnT558JOHY2M7n1q1bdDqdiQhocXHxQ0vy7obdVvT2+/0JycvznPn5eZaWlpiennZZziMrl6IouHTp0mRm7ejRo7tKQN955x02Njb4gR/4gV3bxwfBGMP//b//l89//vMPRHLH3afz588jhOBjH/vYntnbjPFUE77f/u3f5p/8k3/C66+//lC/f7+iC9h5Ze3YwPfWrVv0+32EEOzbt4+jR49+X1WgHgbjiLbxTGStVmNjY2PSZtxLj7wnGVmWce7cOdbW1jh27BiHDh1ySswtptwrKysThfLi4iLT09PfVyTvTmwVw/i+/75V0vF875jk7WRqyIcNY+Jw/fp1Dhw4cFcPuHthTPKWl5dpt9u0Wi2WlpaeCkHaB2EnFb3D4XBC8obDIXNzcywtLTE3N/ceMnmnonc8n9nr9SbjR7tR0b906RLdbpePf/zjO77t+0VVVfzu7/4uP/ZjP/ZQa8bY6qnRaLC4uLgLR3j/eKoJ3+/93u/x8z//8/zJn/zJff/OWJk59qm7l+gCmAgudsIEeesM1OrqKmmaTipQc3Nzk6HxmZkZTp069VjK6R9GbPXIW15epixdQPnS0hKnTp36iOTdBzY2Nnj77bfRWlOr1eh2uxNT7sXFxe/r0YF7YZxe8M477zA/P8+JEyeIooiqqiaVvLEIaGsl7/sd/X5/Muz+fiknRVFM7unNzc3JCMbCwsL33bNwq6LX9/2Jovd+kKYpy8vLk0LC7OzsRKV8P+3GO4lft9udENDdsHy6cOECaZry4osv7tg2HxR5nvMHf/AHfOELX3ikdd7zvD0fc3mqCd8bb7zBX/2rf3USz3Uv5Hk+SZy4U3RRq9V2Nc5sc3NzQvK01pMK1Ozs7HtuwDzPJxWYnRi0f1pwp3jlzgpUp9P5UEW07RXunCWTUlJVFVNTUzz//POPLfHiw4xxlXRlZYU4jsmybGJu/hHJuzfGKSda64nRb1mW20hes9mckOXvN5J3N2ituXr1KpcvX56YhN9NVJDn+YTk7YRK2RgzsXOx1iKlZG1tbdt85vz8/I6sTefOnaMsS1544YVH3tbDYjgc8pWvfIWf/MmffKTv9BHh22V8+9vf5id+4ie4fPnye/7bYDCYkLydFl28H8aL6jjtQko5sf243/bY2traxHz4+eef/75cRMbtsZWVlW0eefcyn33SI9r2CuMK1Pg8jmfJxjY0RVFw/vx5VlZWOHLkyDYX/o9wG2M7n3ElL4qiyYJ46tQpFhcXP3o5+wBYa7l69erEA05rPSF5e5m+8qRjq6J3cXGRY8eOoZSajAS12+1dmW2808pFCMGNGze4dOkS9XqdU6dOPZAI7G44c+YM1lqee+65HTnmh0G/3+drX/saP/ETP/FI2/F9f8/HX55qwnf27FleeeWVidro+vXrkwdzlmVMT08zNzd3T9HFTsWZbQ2D39jYIIqiCcl7WD8trTWXLl3iypUrkxzEp30hvvM8PoxH3pMU0bZXGFdOxkrvWq02Icu1Wu2u56PdbnPmzBmqquLUqVN75rz/JOFOklev1yfkZNwZuHnzJufPnydJEk6dOvXYkmE+TBifx1u3brGxsUG9Xsf3fTY3N1lcXHxsliQfdvR6Pd5++206nQ4AzWaTffv27Xrb+07iNybu7777LnNzc5w4ceKhixJjt4pTp07t8FHfPzqdDt/85jf5sR/7sUfazkeEb5dx4cIFTpw4wc/+7M/y5S9/mVdeeYV/8S/+BXNzc7suukjTdEJO2u32xNttvBjsFHq9Hm+99RZlWfLcc889FkPYx4l7eeQ96nncq4i2vcLYK3LcHnuY82it5dq1a1y4cIGpqSlOnTr1fdfmHb90LC8vT8jJuHJyr3NRVRXvvPMO7777LktLSxw/fvypFxd8EO5FlreexyzLuHDhAsvLyztif/M0Yqz2vnXrFmtra9Trdaampuh2uwwGgz3J6B0resfX/YPEj92JP/3TPyWOY44fP75LR/3B2Nzc5M033+Tzn//8I23n+5Lw/ft//+/55V/+ZW7dusXLL7/Mr/7qr+6oqWK32+V//+//zf/4H/+D//W//he9Xo+f/dmf5Ytf/CI//uM/vm1mYWsF71FJ3lbbj9XVVfr9PtPT0xPbj918w9raCnka2pV3y1sdn8edfNN/XBFte4WxL9n4pWOn2mNbfejux/Pww46xYGBcWR6r7RYWFh6I8A6HQ86fP8/6+vp9Gas/bdgqYBmTkw8iy+Ce6efOnaPf70/sb76fztudGCew3Lp1i9XVVeI4ZmlpaVKhH2M8F1lV1SS283Fl9G4lfnmec+nSpUniyoN4Cb755ps0Gg2OHj26y0d9b6ytrfHWW2/x5//8n3+k7XzfEb7/9t/+G3/9r/91/uN//I986lOf4ld+5Vf47//9v3P27FkWFhYeadtvvvkm//gf/2N+7/d+j5MnT/LFL36Rn/zJn+Szn/0sb7/99mSIdCdFF9Za2u32pAK117YfWZZx5swZ2u02J0+efGwh3I+Ku3nkzc7OTvzddpu87kZE215hrMK7kyzvRlun0+lw9uxZ8jzn5MmTLCwsfGjP2524UxXabDYnbe9HfenY2Njg7NmzaK13dMD9ScSdKuUkSSYk70Eq9FvNbIUQnDx5cs/yXfcCxphJzN7KygpBELC0tDTxaL0XxmMFFy9efGBF704c81ZF7/iFp9/vc+zYsft64fn2t7/N9PQ0R44ceQxHfHesrKxw/vx5fviHf/iRthMEwZ7f54+V8H3qU5/iE5/4BP/u3/07wF0Qhw4d4hd/8Rf5R//oHz3Stt955x1+4zd+g5/+6Z/mxIkTgJs7Wlpa4sSJE/zH//gfefnll3dEWTu2bVldXZ0Yz46tW56ESsfKygpnzpyhVqs9VNTY48A4pWFM8vaaLO9ERNteYezZuLy8TL/fn9j5PA6yPF5Qxp6Hp06d+tCKiMb+buPxgd0UDIy9uS5evPihP2934k5T6Z20ojHGcO3aNS5evEir1eLEiRMfGHf1YcXYxWEcEed5HouLiywtLT1wAstWRe/jPm9aa7TWgCN+7XabCxcuTBTZ71eY+Na3vsX8/DyHDx9+LMd6N9y8eZN33nmHz3zmM4+0ne8rwlcUBUmS8Bu/8Rt88YtfnPz8S1/6Eu12m//5P//nruw3yzL++T//5/zKr/wKv/iLv8g//If/8IErHWVZsr6+/h5F6Pz8PFNTU3tepr0bqqriwoULXL9+nWeffZYjR47s+XFu9chbWVlBa70tpeFJIMsPGtG2F7hXRXQcDbcXbemyLLl06RLXrl3j0KFDHD169EMxb3U3E9/H6e+29bx9mMcKtlr6jNuMu+k3uPW87du3j2PHjj0Vc5HjrtGtW7dYWVkBmJC8u7kPPCiKouDy5ctcu3ZtIoh5HNf53RS9q6urEy/BccX2zu/3jW98g3379nHw4MFdP8Z7YafyfL+vCN94cPONN97YxpT/wT/4B/zhH/4hX//613d1/9/5znf4m3/zbzIYDPj3//7ffyBbHw+5j+d2arXahJx8mPIt2+02b7/9NtZann/++UeWyT8o7uaR96A2NHuBe0W07RXGGZfjlk6WZZOK6P2apj4O9Ho9zp49y2AweGLb43dmrj4JJr6DwYCzZ8/S7XY5duwYBw4ceGLvjTHuJHljS5+lpaV7qr13GlvnIsfGzU/aC9oHYWy6P069MMawsLAwiTbbjfOYpikXLlxgZWWFw4cPc+TIkcfyonEn8QPHDS5fvjypdG/Njv+jP/ojnnnmGfbt27frx3YvXLlyhdXVVV599dVH2s5HhI/HR/jAVb3+7b/9t/yzf/bP+Gt/7a/xz/7ZP9tW1t7Y2JikXXS7XVqt1oTkfZjViMYY3n33XS5dusS+ffs4ceLErt7cd3rkBUEwIXk78Zb6uDCOaDt//jzT09OcOnXqsdpDjNveY5JXluXkerxb/NGTAmsty8vLnDt3jjiOOX369J633e4keWNfst0WVD0oVldXOXfuHEIITp069cSp7seCgTHJG8+S7XU83ObmJufOnaMoiscqUHhYjKv0Y5JXluVkRnRmZuaxkf1xUkav15soeh/HvrcSP7gtPLxy5cokqaZWq/HGG29w7NixPY0ku3z5Mu12m1deeeWRtvN9Rfj2qqV7N1y4cIG//bf/NufPn+fnf/7nuXLlCv/3//5fDh48yC/90i9NqiZPQ4tgK4bDIW+//Tb9fp/Tp0/v6JD9nR5543SBhYWFD31OaFEUk/SE3VZXWmsn6Stb297jheBJJXl3Q1VVXL58mStXruxJuzLLssn801jAMq7kPcn3tjGGq1evcunSJaanpzl58uSevnDeTTAwbtc+Sd2OrWH1YRhy8uTJJy5VZzAYcOvWLW7dukWe55N7e25ubs8qutbaSUbvXit6x8+MmzdvcvDgQdbW1njuuef2tMNy8eJFBoMBL7300iNt50l45jx20cYnP/lJfvVXfxVwf+zDhw/zC7/wC48s2rhfVFXFV77yFX7zN3+T//Jf/gubm5ssLS3xi7/4i/z1v/7XmZmZeSzHsVcYPxTPnj1Lq9Xi9OnTD121utP2Y7e8Bp8UbG5u7kpE29bh7LEQaPy2/yS3ve8XW9uVx48f31Wz6ztVytPT05NK3pPwwH0QbLW/edw+dFtJ3urqKp7nTSp5TxLJuxu25hrPzs5y4sSJPSXMw+FwEm02HA6Zm5tjaWnpiavSjwVYFy5cIAgCTp48+djWwzHxM8aglCLLMi5evMjKygr79+/n+eef37OxlXHl+GMf+9hDb0MI8URYpT12W5YvfelL/Kf/9J/45Cc/ya/8yq/w67/+65w5c2bXS7bnzp3jX/2rf8Vv//Zv4/s+P/3TP81f+kt/iVOnTvH3//7f56tf/Sq//Mu/zF/5K3/liX6Y7RTGkVnLy8scO3bsvkv5Y0Xo6urqrtt+PInYqYi2OxdUpdS22can7Roc22qc/f+3d95xTZ3v+79YMmTPALJHABcqgmhd1Var1lq3YB0ftbXWrVU7tFqto1qLAtbaobW1MpytWq3aClVxa6sCYSMjCTOMEMg6vz/8nfMFBGSFHMLzfr36ahtO4pNjOLnO/dz3dfF46NatG3x8fOr06rQFWuQJhUJUVFQwIq8jppQ7gtp9kbQPnSo+H0qlEiUlJYxgpqdC7ezsWp0IpE5qamqQnp7OVIvc3d07rMJMV5cFAgEqKipgZWUFDofDqn7bxlAoFHj27BmysrI6fKK3vpXLjRs3oK+vD6lU2qLvqfakPeLduqTgA4CIiAjGeNnf3x/79+9HUFCQyv/cjIwMHDx4EJMmTcKgQYPqfGgoisLJkyfxwQcfoH///ti3b59ap4I6kpKSEiQlJUFHRwd+fn4vJE40NhFKb3uz4UOsDloT0UY3udOC+WX5v5qIQqFAVlYWsrKyGMuk1nyG6KpJQUEBKioqmEB4Tf1MUhSFgoICpKSkQE9PD1wut10qzHR1mTbx1dbWZkSepnwmKyoqkJKSgoqKCri7u6NHjx4qEQ30xLdAIEBZWRksLCzA4XBga2vbKSeva0/0cjicViVltAa6rUUgECA/Px8DBw5kqt1KpRJeXl4d2qP59OlT6OrqtinercsKPjZTUlKCNWvW4OTJk9i6dSsWLFjQ6bfTmkPtL2H6Tpiu5BUUFEAqldbxyGP7HWpH8rKINtp4lh5goXOUO8PWmCqRSCTg8XgoLS2Fh4dHs76EaZFX22+QruR1xi/U1lB7u5LOKW1pS0btFoKCggJoaWm1q/UHG6H71FJSUkBRFLy8vNrF8FomkzGfydLSUpiZmTEir7O1EDRGVVUVs72qyoneioqKF4ZY6g/60VYu+vr6HTbU1B7xbkTwsZjLly/j3XffhaOjIyIiIuDt7a3uJakcpVKJ/Px8pKenQyqV1tliZItHHlupH9Hm7OwMkUjEpAt0795dYwZY2puioiLweDxoa2vDx8fnhaqVWCxmvlDZ4DfIFmrnzLq6usLV1bXJ31G6akKfS1rk2dnZvZArrsnUNrw2NjaGt7d3i3O05XI5M/FdXFwMExMTpr9Rk9taysrKmKSM9qqU0jdxfD4fEokENjY2TH8j/doNWbnk5eUhMzMT5ubmrfo7bAmPHj2Cqalpm+LdtLW1WXG9IoKvEcRiMT755BN89913WLduHVauXMmKv7D2hLZYoLcYtbW1YWtrC21tbeTl5cHa2hpcLldj7lRViVQqZWwF5HI5DAwM4Ojo2OIIqa4IbRuUmZkJGxsbODo6MoKZiLymEYlE4PF4kEql8PLygp2dHfOlWFvk0Sa+tYeBuorIawiZTIasrCw8e/asWQbE9dNDunfv3qwcYE2j9kSvQqGAp6dnnc9cc6ipqWH6G8vLy5vd31hf+NHXjZycHNjZ2alsOOfBgwewsrKCi4tLq1+DCL5Owu3bt7FgwQLo6OjgwIEDbfbiUTf0FmNhYWGTHnk1NTXg8XgoLi6Gp6cnevTo0aW/IBqi/pQynbeqpaWFrKysThfRpk4qKysZR3uFQoHu3bvD1dUVtra2pIXgJdDTlampqTA0NISjoyNj0k1PfKvSxLczQxsQFxYWwsXFBS4uLsznjb4hpvsb6fQQ2li6K0NRFLMjpK+vDy8vryYnemUyGdPfWFpaCnNzc2bru6VbnQ1ZuWRkZEAgEMDJyQkeHh7tun169+5dcDgcODk5tfo1iODrREilUuzYsQO7du3Ce++9h08++aRT3dXV9shr6RZjUVERkpKSoK+vDz8/P43J+2wtEomE2c5pakq5M0S0qROKoups10okEqZPVFdXl2nQ9vHxYZ35MNugDbr5fD74fD4UCgWMjIzg4eHBVOwJTSMSiZCSkoKqqipwOBzmxlhPT48ReaQd40VqT/Sam5vDy8uL+Y6gq6ICgQBFRUXtvvVde6JXW1ubEe8ikQhubm51xHtbuH37NpycnODg4NDq1yCCrxPy9OlTLFy4EAUFBYiIiMDw4cPVvaRGaaz6ZGNj0+K7U4VCgfT0dOTk5HRJ8UIPsNDDAi3xdmNbRJs6oSe+6S1GWuTRxrO1L85KpRK5ublIT0+HpaUlvL29OzTlhO3UTmERCoVQKBRMJc/AwABpaWkoLi5WuVG4JlB7KlQgEECpVEJXVxfu7u5wcnIiIq8Z0BO9OTk5sLCwgI6ODkpKSmBgYMCIPFVVRetbuVRWViI1NRXV1dXNHghrips3b8Ld3R0cDqfVr0EEXydFoVAgIiICn376KaZNm4Zt27Z1eD5tY9SerKX9yOgorva4o6LFi0wmg5+fn8aaVNeuPtW2omltH5m6I9rUSW2RJxQKUV1dXSdd4GU3DjU1NUhLS4NAIGDu2rvSzUZt6MxV+lzK5fIm47hKSkrA4/GgUCjg7e3dLlOpmgItmOmpUAB1PAdzcnLqDAV09S3cpqgtmOksYKVSCQcHh1bbLrUUpVIJiqKYf2tpaaG0tBSpqakAAG9v7xb3GtJcv34dXC63TTfrOjo6rGhNIYKvlWRlZeHdd9/FkydP8PXXX+PNN9/s8DXUr5hUVVWp3COPzjxMS0trk/Ew26AoChUVFUwlr7q6uo4VTXvcnXVkRJs6oc8lLUxoW5/miryGEIlESE5OhlwuB5fLhbW1dZcQL7XPpUAggFwuZwSzlZXVSz8/9M1GWloaE07fVdsy6gtmuiraWKKNVCpFRkYG8vLy4OjoCHd3d4241rUH9LmsLfI4HA5j7UNn9LbnRG9zaGiit6CgAOnp6TAwMACXy21xoSIuLg69evVqU2sJEXwaAEVR+Pnnn7Fy5UqMHDkSe/bsUXliCH1nqm6PvOrqaiQnJ0MkEsHb2xv29vad7gu4sXPZFmHSHFQV0aZO6C8AWjBLpdI6wqQ9zmVt8WJmZqaxlZeGBDMtTJoj8hpCJpMhIyMDubm5XUq81L4pFggErTqX9BYh3RumqTdqzaGyspLZ+pbJZIyNSkMVZoqiUFRUhNTUVCiVylZN9LaWhoRfbm4usrKymHzq5qaH/P333+jXr1+bdvKI4NMghEIhli9fjsuXL2PHjh2YPXt2u36oaaNUWphQFMVs1VpaWqpti4t2/09OToaxsTF8fX1ZP8xCURRj+VFQUACFQsGcy470G2yviDZ10tAWY0ecS6lUivT0dOTn58PZ2Rnu7u6dfpu3/tZ3TU1Nuwtm4HnbR0pKCkQiUbv0N7EVsVjMVJ9q+7u15VzSxs0KhQJeXl7MRL6mI5FIGJHXmizglk70tif1J3pp43I6PaQ5xuVXrlxBUFBQm+LliODTQH777Te8//778PX1RXh4eJt8e+p75NU2QjY3N2fVRVomkyEtLQ35+flwd3eHi4sLq9ZXO1mgsLCQsaqgBbM619qaiDZ1UntYoKCgoMVbjO1JeXk5kpOTUV1d3aYeHXVB94rSwqSl/Y1tobCwECkpKdDS0uqwxAJVQwuT2v6NtL9be51LWrykpaXB0NAQXC633TKh2YRUKmWqomVlZbC0tGRsVForXOiJ3szMTFhYWNSZ6FU19YUfXfEWCoXMTWNjN9yXLl3CK6+80qbdBF1dXVbclBLB186UlZXhww8/xPHjx7Fx40a8//77zf6LlslkTNZqUVER9PX1mUGBzhB5JBKJ6mxVqnOYRalU1hHMdLIAGwUz8PKINnXS2EQoXclT57ms7UHXvXt3+Pj4sL5HrXYlj64+dYTIq49SqUROTg4yMjI67XBCdXU1cy7Ly8sZYaJqk265XM5E3Nna2sLT07PTD2LJZDLGRqWkpISJibOzs2vX3YfavZEdmdELvDjRSyfWiEQiplhR+3eQoihcunQJI0aMaNMaieDTcOLi4rBw4UJYWFjgwIED8PPza/A4qVTKbNWWlJR0+hgu2v08IyMDDg4O8PT07LBxdLoqSrvh6+rqMv06nUEw149o8/DwUNsof/2tb6VSyQgTdVdFG6J2jxqdB80GGwSa2p6D9LZYQ3Y06qD2FrmTkxPc3d3VvqamqF99om2SWmPi21ZqR9w5OzvDzc2N1eeuPgqFAkVFRYxXXvfu3RmRp2oBW1VVVcf02tXVtcPOXX0PP3rIpKamBl5eXnBwcIC2tjbkcjmuXLmCV199tU2fLSL4ugASiQSfffYZIiIisGrVKqxduxb6+vpITU3FpUuXMGjQoDoeeba2tqzvgWsuVVVVSEpKQmVlJXx8fFTW7yKXy1FUVMSIPLoqamtrC1NTU9aLvIYQi8VITk5GZWUlvL29weFwOuR90PYK9OAFvfXd2BQjG6msrASPx0NlZSW8vLzUOkxUX+TVtvZhoyioqKgAj8eDWCyGp6cnHBwcWPP7Uz+pwczMjLFRYUP0Y3l5OVJSUlBZWQkPDw84Ojqy9vdFqVSipKQEAoEABQUF0NfXZyZs1VHhLSsrQ0pKCsRisdomeoHnwq+4uBhpaWnQ0tKCt7c3zM3N8ffff+O1115rk2Ajgq8L8eDBA4SGhqKoqAhGRkbIy8uDv78/fvzxR/To0UNjA7cpioJAIACPx4OZmRl8fHza5a6R3nqgk0MMDQ0ZYdIZq6INQZ+7lJQUlUa01c9b7Ywirz70MBGPx4OBgQF8fHw6bIucDoOnTbrpSh5bRV596HOXkpICPT09cLlctU2R02kXAoEAxcXFMDExYVIv2HjNpCgKhYWFSE1NZQSDtbW1upcF4P8q9nSPo7a2NiPyTExM1H7NrD/R25FDMfUnerW0tMDn85GRkQEDAwOUl5djzJgxbVqLnp4eK66lRPCpCIqi8PDhQ5w6dQqnTp1CRkYG3NzckJ6ejtDQUOzatYv1vUbthVQqRWpqKoRCITw8PODs7NziX576W9/GxsaMMOlsfUctQRURbfWnvgEw55KN/Y2tpfYWuSrbC+qLvLaYdLOF2g321tbWzZpmbK8/t/YWo5GREbPF2Fl2P2qnxJiZmcHLy6tNE56thbb3oUUe3Xtrb28Pc3NztYu8hlAqlcxEr6GhIby8vDrshqN+xQ8AMjIykJOTwzgptPY7mwg+DaampgZ+fn4oKCjAhAkTMHnyZIwdOxYmJibg8XhYtGgRsrOzER4ejtGjR6t7uR1GSUkJkpKSoKOjAz8/v5dWXWpqapjtRU3d+m4ubY1oqz2pXFBQAC0trTqVPDZe/NsLsVgMHo+H8vJyeHp6tssktEQiYUReRUVFhw0LdDS1e9RcXV3h6ura7ltTSqWSacsoLCxkthjpin1npXZfqb29PTw8PDpk+5me/BYIBKipqWmzh6M6oO1TsrKyYGlpCU9PT7VM9FZWVuLRo0dwcHBAXl4ec+PY0gozEXwNEB8fj927d+P+/fvg8/k4ffo0Jk2a1Ojxp06dwjfffINHjx6hpqYGPXv2xObNmzFmzBjmmM2bN2PLli11nsflcpGcnKyqtwEAuHHjBgYMGNDgB0OpVOLQoUNYv349Jk6ciB07dmhsTFl9alddnJyc4OHhUecLRCKRMJWnsrIyplenveLhOjMtjWije3XoL1J6Upmu5GmyyKsPvWXE4/Ggq6sLHx+fFk+RNzQRSn82NUnkNURZWRl4PB6qq6vh5eXV5r7S2p/NgoIC6OrqMluMmtKWQVNVVYXU1FQUFxczxs3tLZqrq6sZkUe3ErS3JY06qD3Ra29vD3d3d5V/D9CfTT6fj8LCQpiZmaFv377McFNBQQFcXFxaNBhGBF8D/PHHH4xQmjwg7jGRAAB36UlEQVR58ksF38qVK+Hg4ICRI0fC3Nwchw8fxp49e3D79m3069cPwHPBd+LECVy5coV5nq6uLit6K3Jzc/H+++/jzp07+Oqrr/D2229r1IWuKSorK5GUlITq6mq4ubkxTdl0BjBdyWNDQzbbaCqirf4XKe3f2BVFXkPQlYPMzExwOBx4eno2+RmrL/LUORGqbui+0tTUVCamqiUedLUzVwsKCqCtrc305HXWAauWUFpaipSUFEilUnh6erZZNDc0rUx75WnaDYhYLEZ6ejqKiorg7Ozc7hO9tIk8n89nspU5HA7s7e3RvXt3KBQKAM+tXCQSCdLS0lBeXs5cf18mqrt168aKzzerBF9ttLS0Xir4GqJnz56YMWMGNm3aBOC54Dtz5gwePXrU/otsByiKQnR0NJYvX46goCB8/fXXcHBwUPeyVA7tRZaXl4eamhp069YNrq6usLe373JfpK2FjmijKAoODg4Qi8WMSTddyesMdjTqoLbhdf3EierqaqaVQN22H2xELpcjKysL2dnZLxXNtIcj3UdGURQj8rriDUht0ayvrw9vb+8W9ajVH2QxNTVltr+7ws2xSCRCamoqxGJxu0xD09vffD4fMpkMtra2TFRc/c+mQqGoI/xoKxeZTMZYuTT2eSaC7yW0RvAplUq4urpi3bp1WLp0KYDngm/37t0wMzODgYEBgoODsWPHDjg7O6to5a2jqKgIq1atwu+//45t27Zh3rx5rCgBtxe1o6MKCgogkUiY5nZTU1Okp6ejuLi4U6RNsAHaWJquliiVSnTv3h3e3t6wsrIi56+ZFBcXM+0dVlZWqKioQFlZGczNzRmR1xW+SFuDRCJBamoqioqK4ObmxiTs1B8WkMvlzBdpZ538bm9q96hZWVnBy8ur0b5k2l9UIBCgsLCQGWThcDid3uy5NdDT0GlpaaAoCp6eni2a6K2pqWG2vysqKpjYveYYnzc00VtUVIS0tDTo6OjA29sbNjY2L6yFCL6X0BrB9+WXX2Lnzp1ITk6Gra0tgOfbxJWVleByueDz+diyZQvy8vLw5MkTtUxOvYw//vgDixcvhqurKyIiIuDh4aHuJbWa2lmrBQUFkEqljE2FlZXVCyV5Om3CwMAAvr6+nbphWxU0ZCxNV/L09PSQmpraaSLa2EDtLTGRSAQAMDExadZAEeH/KCkpAY/Hg0wmg5mZGSoqKiCVSjvlsEBHU1NTg/T0dPD5/DqG4fSQFX1Dp6enV6fHkdCyiV65XI6CggLw+XyUlpbC3NycqYy2Zvu7IeGXn5+PjIwMGBsbg8vl1ukRJoLvJbRU8P36669YtGgRzp492+Tkq0gkgouLC/bu3YsFCxa002rbl4qKCnz00Uc4fPgwPvroIyxfvrxTeHgB/+f3RA9e0FmrdAzXy+6g5HI50tPTkZub2242JJ2Z2iKvsLAQ3bp1a9JYms0RbWyAtvcRCoV1DHzpG8TU1FQUFhbWqVgRGoc2lxYIBKiqqgIAdO/eHX5+fhqZMasqaNPr8vJymJiYQCwWQ0tLixF5XaHHsbXUn+j18vJC9+7dmelvujJKp4i0p49jfeFHURRycnKQnZ3N2BkZGxuzZpdAIwRfVFQU/ve//yE2Nhbjx49/6fEDBw7E6NGjsWPHjnZYqeq4efMmFixYAENDQ0RGRqJv377qXlKD1Pd1oyiqzTFc5eXlSExMhEKhgK+vb5eZYgb+z4uMruTRIs/Ozq5ZJqlsimhjA/VFnqmpKXM+G7rwl5aWIjk5GUqlElwulxUDXmyCtqSpPRFK+w5SFMVYkTg4OMDDw4P0PTYB3epCbzHKZDJoaWlBR0cHXC63w8yHNQG6Wpqfnw9DQ0NIpVLo6urC3t5e5ZXR2lYuWlpazDU4Pz8fjo6O6Nu3LysKF51e8B0/fhz/+9//EBUVhbfeeuulr1tZWQlnZ2ds3rwZy5cvb6fVqo6amhps27YNX331FT744AN89NFHrLAnacjyg56sba8+HTrcPT09HXZ2dvDy8tLYL4/aIq+wsBAGBgaMKGmtTYW6ItrYAD31LRQKUVJSwqQ0NDcjtLZ5bnMscDSdmpoaRuTRljRN+Q6KxWKkpKRAJBK9MBRDeG7VQos8iURSp48MAPLy8pCeng5jY2N4e3uTSv1LoHtGBQIB5HI59PT0UFNTo5aMXlr4aWtro6amBnw+H71792bFtZdVgq+yshJpaWkAgH79+mHv3r0YOXIkLC0t4ezsjI8++gh5eXk4evQogOfbuHPnzsW+ffswefJk5nUMDQ2Z7YS1a9fizTffhIuLC/Lz8/HZZ5/h0aNHSExMbLF5rTr577//sHDhQohEIkRGRmLIkCEdvgZ6e7GgoACFhYXQ1dVlRJ4qJ+4kEgmSk5NRVlYGLperMcKlfg6wKiLiOiqijQ3QkXtCobBOFFdbguDplBiBQKAy42G2QldG6R5Huu+pJdPKRUVFSElJAQBWRY2pg/rDAlZWVsz5bOgzJZfLkZmZiWfPnsHOzq5Vhr+ajEQiYc5nVVUVMxhE94zSE71VVVVwd3fv0HxjpVIJuVwOpVKJmzdvws/PD+7u7h3yZzcFqwTftWvXMHLkyBcenzt3Lo4cOYJ58+YhKysL165dAwCMGDECcXFxjR4PADNnzkR8fDyKi4thY2ODV155BV988UWnHIZQKBQICwvDZ599hlmzZmHr1q0qv/OjRUlBQUGd7cXGeshUBZ3xmZycDGNjY/j6+nbKtA3aVoE+n4aGhowo6d69u8rOpyoi2thAfZFnbGzMnM/2/HyUlZUhOTkZUqkUXC63wUk8TaB+ZZS2/WiL8Xntaqm5uTm8vb019qajPjKZjPFxbO2wAO37VlhYCBcXF7i4uHSanu72pr73oKWlJezt7RvNqq6dbwwAXl5eKv/dpSgKjx8/xvHjx3HixAlIpVJ8//33zdqBVDWsEnyE5pGeno53330XPB4P+/btwxtvvNGury+TyZjKU3FxsUoqT21ZW1paGvLz8+Hu7t4pGutpkUefTyMjozrnsyNpa0QbG2jofNKiRJVCgqIo5OfnIzU1FaampuByuRohXGqfz6KiIhgbGzOipD23semkgvz8fDg5OcHNzU0je0sVCgVTGaUrzfT5bEuFTiQSISUlBRKJBJ6enk36vmkSCoUChYWF4PP5dbwHORxOsyvN9Sd6vb29W5y00xT0sEZMTAyio6ORlZWFN998E6GhoRgzZgxrWpGI4OukUBSFw4cPY82aNXjttdfw5ZdfMpOGrUEqlTIX/ZKSEnTv3p2p5LHRBkAkEiExMRFaWlrw9fVt11/e9qB+5Yk+n3QlT520NKKNDdTf/jYyMlLb+axdLXV2doabm1unq7jU7xk1NDRkRImqzyc9kVpZWdlu2cbqpr4vJn0+ORxOu1aa6Z2O1NRUxvfNysqq3V6fLdA94vT5NDAwaJfzKZfLkZ2djezsbFhZWcHT07NNn/fS0lKcPn0a0dHRuHXrFkaMGIHQ0FBMnjyZlX2XRPB1cvh8PpYuXYq4uDjs2rULM2fObJEBJT1ZW1payvQ82dradortUqVSiaysLGRmZjKh1uqsGDS2vajqylNraSqijQ3Qd/a1exxrD7Kom4qKCiQnJ0MikcDb2xt2dnasFi61RQlt8aMubzd6qy0lJQW6urrgcrktSpxgA7Wj4oRCYYfmASuVSjx79gyZmZkas03eVLxZc9wJWkJNTQ0yMjKQn58PBwcHuLu7N9s6pbq6GhcvXkRUVBQuXbqEXr16ISQkBDNnzmR91ZUIPg3h1KlT+OCDD9CnTx/s27ev0SSR+rFRZmZmzOAF26s8jUFPo4rF4g63Mqjf86SqHjJVQke0AYCvr69av3gbmlamK09sEHn1qT0U0717d3C5XFYZutc38KXNujkcTrt/ibYGhULBCBfat4zN1yFalNDDAgCY86mOGEOpVIqMjAzk5eXB0dER7u7urNk+bC4NxZvZ29vDwsJC5edTLBYjLS0NxcXFTfZHKhQK3LhxA1FRUTh79izMzc0xa9YszJ49G76+vmr/PWouRPBpEKWlpVizZg1iY2OxZcsWvPvuu9DW1kZiYiLi4+PRr18/VFRUwMLCghF5bDGEbCsURYHP5yMlJQXm5ubw8fFR2URb/e3vzlYZbQi6YpCRkQFbW1t4e3t32BdH7eiooqIi6Ovrt9mSpqORy+XIyMhATk6O2r0PafNzuvJEG/iyOVu5pqYGaWlpEAgErBwqqu+Vx7aouNo2OG5ubqyr1tenLfFmqoDujzxw4AB69eqF5cuXQ09PD4mJiczwhVgsxrRp0xAaGoohQ4aw+vw2BhF8GsjVq1cxb948KJVK6OrqIj8/H4MGDcJ3333XokbXzkjtbUpPT084OTm1yxdcffPe9rD8YCMSiQQpKSkqj2hrKEGkdiWPjaKkOVRWVoLH46GiouKlgertSe3Kk1AohFKpZD6fHVEpaS/KysrA4/FQXV0NLy8vtVow1bf9oEVJcxKD1EVxcTFSUlKgUCjg5eXFKuPmhuLN7O3tYWtry4rhHYqi8Msvv2DLli2QSCQwNTWFUChkhi/eeOONTl8gIYJPQ6BHwU+cOIGTJ08iPT0dDg4OyM3NxfLly/Hpp59qtNCrT3FxMZKSkqCnpwc/P79WbbPRFgB0jyOd0NCZt7+biyoi2ugeMlrk6enptShBpLNAN9anpKRAX18fXC5XJTFj9VMa5HI5M/3d2oQbNkBvk6empsLAwEBl568hGjOYtrW17TSDOfQ0eVpaGgwNDTv0/NWHjjfj8/koKipSSbxZeyASiXD27FlERUXhxo0bcHV1RUFBAXr27Imvv/4agwYNUvcS2wUi+DSA/Px8DB8+HHw+H+PGjcOUKVMwbtw4mJiY4O7du1iwYAEoisKBAwcwYMAAdS+3w6gdMebk5AQPD4+X3pnTgyxCoRAikeilMVyaTHtEtNUXeXQPmZ2dncbng9Y+f/b29vD09GyXm67KykpGlNTU1DAxhtbW1p1W5DVE7fNHJ+2oosJC9+EKBAImX5muNnfmm2R6IjUrKwu2trbw9PTskBvV+sMsenp6ahsOaoqamhr8+eefiIqKwsWLF8HlchESEoJZs2ahR48eqKysxFdffYU9e/Zg7Nix2L59O7y9vdW97DbRZQVffHw8du/ejfv374PP5zcrxu3atWtYvXo1nj59CicnJ3z66aeYN29enWMiIyOxe/duCAQC9O3bF+Hh4QgMDFTdG8HzX7Bz585h9OjRDf5CS6VS7Nq1Czt27MCiRYuwcePGTttr1hoqKyuRmJiImpoa+Pr6vuD2T9/VFxQUQCQSwczMjKnkdTWR1xAtjWirHbtHDwrQPU+aLvIaoqqqCjweDyKRCJ6enujRo0eLz0FVVRUj8qqqqmBtba3WnqeORCKRIDU1FUVFRUx/WlvfMz0cRPeNsrXy1B5UV1cjLS0NQqFQZTZCdLWZz+dDIBAwLQX29vas6htVKpVISEhAVFQUTp8+DRMTE8ycOROzZ89Gr169GlynQCDAli1bYGhoiL1796ph1e1HlxV8f/zxB27cuIEBAwZg8uTJLxV8mZmZ6NWrFxYvXoyFCxfi6tWrWLlyJc6fP48xY8YAAKKjozFnzhwcPHgQQUFBCAsLQ2xsLHg8Xps88tqLpKQkLFy4EHw+H+Hh4Q2mmmgqFEUhNzcXaWlpsLKygqurK0QiUZ1pZSLyGudlEW30NCgt8rS1tZlKHpsu+OqksLAQPB4Purq68PHxeal3ZHV1NVMlqR3F1ViqgKZTWloKHo8HuVwOb2/vFicm1Pd209fXZ0ReZ7c0aQ7l5eVISUlBZWUlPDw82iVqjO5z5PP5kEgkL8SbsQGKopCcnIyoqCicOHECZWVlmDJlCkJDQzF06NBm3zxQFNXpr2NdVvDVRktL66WCb/369Th//jyePHnCPDZz5kyIRCJcvHgRABAUFISBAwciIiICwPMLjJOTE5YtW4YNGzao9D00F6VSicjISHz88ceYPHkytm/f3un8r1pLdXU18vLykJOTA5lMBiMjIzg5OcHOzq7TN+N2FPVNh83NzZmoOC0tLbVaVHQGatuQ2NravrBNSVeb6RsRCwsLpoeMDY3t6oY2DU9LS4OxsfFLbXDqTyxra2szIk+T+kabS+2oMS0trVblG7c03kwd0K4NsbGxiImJQVJSEsaNG4fQ0FCMGzdO43uwG4MIPjRP8A0bNgz9+/dHWFgY89jhw4excuVKlJWVQSqVwsjICCdOnKjzOnPnzmUaQtnEs2fP8N577+HRo0fYu3cvK3L+VIFEImF68srLyxlLGh0dHaSnp8PAwAC+vr6s6i1hM3R/Tk5ODgoLC0FRFKytreHq6gpzc/Mu9wXaWuhtStr/S09PjxkO0pQeMlUik8mQmZmJnJwcODg4wMPDgzlXFEWhoqKCGWahtxc5HA75jP5/6HzjjIwMmJqawsvLq0nh3FC8mb29Pes+o+Xl5Th79ixiYmIQHx+PwYMHIzQ0FNOmTesyhY2mYIcc7wQIBALY2dnVeczOzg7l5eWQSCQoLS2FQqFo8Jjk5OSOXGqzcHZ2xoULF3Ds2DEsW7YM0dHR+Oqrr2Bvb6/upbUZiUTCVElo30EHBwf4+/vXuTjZ2toiPT0dt2/fhqurK1xdXTW+H6o11K6SFBQUgKIo2NnZoV+/fqiqqkJaWhqys7NhYGDQZe+cW4quri6sra0hkUiQnp4ObW1tODg4oGfPnqSloBno6enB29sbjo6OSElJwY0bN+Dk5AQAEAqFqKmpga2tLfz8/Dr1xLKq0NbWhrOzM+zt7ZGRkYE7d+7A3t4eHh4eTMW5sXgzLpfLqh5wqVSKK1euIDo6GufPn4eHhwdCQkLw448/wtnZmQj8WhDB14XR0tLC7Nmz8frrr2PlypUICAjA9u3bMWfOnE73S1JVVcVU8ioqKmBpaQlHR0fY2to2egdKRzrZ29sjMTERAoEAvr6+sLS07ODVsw9a5NHCmaIo2Nraonfv3jA3N2e+QK2srGBnZ4eUlBQkJCSwMqKNLdBVEoFAUCdfuVevXigqKkJ6ejpkMhm8vb2J6GsmOjo6sLCwgFgsRmZmJnR0dODk5AR3d3dy89YM9PT0wOVy4eTkhNTUVFy/fh0ODg4AwLRpcDgcBAQEsGoLXKlU4s6dO4iOjsbJkydhYGCAmTNn4saNG/D392fNOtkGEXzNhMPhMPl+NEKhEKampjA0NISOjg50dHQaPIbD4XTkUluMra0tfv31V5w7dw6LFy9GbGwswsPD4ebmpu6lNQk9uSgUClFZWQlLS0v06NEDNjY2LdpmMDU1RWBgIHJycvDo0SPY2dnB29u7y/VMURSFsrIy5pwqlUrY2tqiV69eTSYKdOvWDb169WIi2vLz89Ue0cYWaqeIFBYWMnnAXl5edQYF6CnR1NRU3Lx5E25ubnBxcSHCuQHq95BZWFjA3d0d1tbWEAgESE9PZybKu8IwRntAURS6d++OsrIy5ObmMsLZw8ODNZ9BiqKQmpqK6OhoREdHo6SkBJMnT0ZMTAyGDx9OBH4zID18aP7QxoULF/D48WPmsZCQEJSUlNQZ2ggMDER4eDiA53chzs7OWLp0KWuGNl5GeXk51q9fj59//hmffvopPvjgA1b9IonFYqaSV1lZyVSYbGxs2kWgSSQSJCcno6ysDFwuV61O/x1B/YQGhULRJvNedUa0sYXa3oMFBQUtThERiURITk6GXC4Hl8uFjY1NB62cvdApDQKBACUlJTA1NWXOaf2BK6lUivT0dOTn56NHjx5wd3fvcjdvzYGON+Pz+RCLxYzVj5WVFTPYoa+vD29vb7XdvFEUBaFQiBMnTiAmJgaPHz/G2LFjERoaigkTJrBqa7kz0GUFX2VlJdLS0gAA/fr1w969ezFy5EhYWlrC2dkZH330EfLy8nD06FEA/2fL8sEHH+B///sf/vrrLyxfvvwFW5a5c+fi22+/RWBgIMLCwhATE4Pk5OQXevvYTnx8PBYtWgQTExMmX1BdiMVipuokFovbXeTVh77I8Hg8mJiYwMfHR6MuLLTIo8+pKhIaOiqijS1QFFXHe1BHR6dNBtO1bYTMzc1Z1zfVEdT3yjMyMmImbJvTK1pRUYGUlBRUVFTA09NT4z+DzaG+yXRT8WYKhYIxbraysoKXl1eHfQYrKyvx22+/ITo6GteuXcOgQYMQEhKC6dOnw9LSssv/PbaWLiv4rl271qAP3dy5c3HkyBHMmzcPWVlZuHbtWp3nrFq1ComJiejRowc2btz4gvFyREQEY7zs7++P/fv3IygoSMXvRjVUV1djy5Yt2LdvH5YvX47169d3mH0JnSZQUFCAqqoqRuRZW1t32N26TCZDamoq+Hw+3N3dO/UWGz25SG+FyeVyJqFBlZ5ZqohoYwv1+xwBtLstjVQqRVpaGvh8PlxcXODm5saqint7Q/s50oMCbU1poG1IUlJSoKOjAy6X2+V6dNsab1ZTU4P09HTw+XyVVkxlMhn++usvREVF4fz583ByckJoaChCQkLg5uZGRF470GUFH6H5PHr0CAsWLEBVVRUiIyNVkitIUVSdSp5EIoG1tTVsbW3V7u9E96ZpaWnBz89PbbmULaV21qpQKIRUKq0j8jpKOLRHRBtbqL8FTvc5cjgcWFhYqOxLqaysDDweDzU1NfD29oatra3GfAHSvaP0OQXACJL2SmZRKpXIzs5GZmYmrKys4O3trdET5aqIN6tdMXV3d0ePHj3afKOoVCpx//59REVF4eTJk9DV1cWMGTMQGhqK/v37d9obbLZCBB+hWcjlcnz11Vf4/PPPMWfOHGzevLlJ36bmQAsSupJHizy6kscWE0/g+YUpKysLmZmZcHR0hKenJ6vWR1P7nNL2FOoQeQ3R0og2tlBfOMtkMtjY2IDD4XSo5QdFUcjPz0dqaipMTEzA5XI7rX9k7XNKV5zp6qgqhXNNTQ3S0tIgEAjg4uICV1dXVv4et4aG4s1okddeFWeKolBcXIyUlBRQFAUvL68WJ55QFIX09HRER0cjJiYGQqEQb7/9NkJDQ/Hqq69qzN8HGyGCj9AiUlNTsWjRImRkZGD//v14/fXXW/T8+oKkurq6Tvg727erxGIxkpKSUFVVBR8fH1ZE5gGoI0jYfE5fFtHGJsRiMXNOJRIJI/LULZxlMhkyMjKQm5vLWJB0li/JqqoqRuSpM4qLrphWV1fDy8ur09x8NIQ64s2USiXy8vKQnp4OY2NjeHt7N9muQW+tnzx5EjExMXj48CFef/11hISE4K233mLtNUDTIIKP0GKUSiW+//57fPjhhxg/fjx27tzZZDxP7f4xemuxdiWPTYKkOdCxPSkpKTA3N4ePj49afNNqC2e6OsrhcDrFOa0d0cam3jT6y1MgEKCqqor5nNrY2LBifbWpqKhAcnIyqqqqWF0xra6uZnpHKyoqmM+pus8pffORmpoKAwMDcLncTtOuUd+aRl05y3K5HJmZmXj27BkUCgU8PT3h7u7O/FwsFuPcuXOIiYnB1atXERAQgFmzZmHGjBktrgwS2g4RfIRWk5eXhyVLliAhIQG7d+/G1KlTmV9g2pqCbmpXV/+YKpFKpUhJSUFBQQE8PT3h5OSk8gtY7T7H2oKEbVvgzaW8vBxJSUmQSqXw8fFRiwVJfUFCDwjZ2tqy/pzWFi2Ghobw8fFpc6tFeyCTyZhzKhKJYGFhwUwts61/U6FQICsrC1lZWbCzs4Onpycrja8VCgUzYcu2eDOJRIItW7bgu+++wzvvvIMRI0bg/Pnz+O2332Bvb4+QkBCEhobC09OTiDw1QgQfoU1QFIXY2FgsW7YM/fv3x6xZs/DXX3/h0qVLeOONN/Dee+9plMhriOLiYiQlJUFPTw9+fn7t/oVbX+TVtqVhuyBpDhRFIS8vD6mpqbCwsACXy1V5Q31NTQ3z5Umb99IiT91fnq2hdqVFXYMxcrm8TpKIiYkJI0g6arq/LdD5xkVFRXBzc4Ozs7Par1mNxZtxOBxW2fQolUo8evQIu3fvxoULF6BUKjFixAhs3boVgwYNIsMXLIEIPkKboCgKt2/fxs8//4yffvoJYrEYPXv2xMqVK7tUb4ZCoUBGRgaePXsGZ2fnNkc71U8RUdeWTUdSu2Kqiog2uuokFApRWloKMzMzcDgc2NradgpB0hzEYjF4PB7Ky8s7xHuOtvyonSTCRkHSEkpLS8Hj8ZiYu46eiK49tSwQCKCtrc2cUzbFm1EUhaysLMTExCA6Ohp5eXl46623MGvWLJSVleGTTz6Bubk5vvrqK7z66qvqXi4BRPARWsmDBw/wyy+/4MSJE6ioqMBbb72FadOmQalUYtmyZXByckJERAS8vLzUvdQOpaKios4WZVO9jfWRSCTMNpgqUkQ6C7QNDoA2R7TRCQ1CoZCpOtEJDWzctmsP6AZ5Ho+Hbt26wcfHp11702jLDz6fj4KCAujq6tax/GCLIGkL9ER0WloaunfvDi6Xq/KtcrFYzEzYymQy2Nrawt7eXqVTyy2FNhg/deoUoqOjce/ePYwaNQqhoaGYNGlSnanx6upqhIeHY9u2bZgwYQKOHTumxpUTACL4OpTIyEjGlLlv374IDw9HYGBgg8eOGDECcXFxLzw+btw4nD9/HgAwb948/PTTT3V+PmbMGCbqTZXs3LkTqampmDp1KkaNGlVnG6yyshKffPIJvv/+e6xfvx4rVqzoUoKldkqCtbU1uFxuo9uEtMgTCoWoqKiApaUlU8nrSuesPm2JaFMoFCgsLIRQKKyT0GBnZ9dpq06toXZvGofDgZeXV6u3q2v7DwoEAgDtbzLNRuRyOTIyMpCTkwN7e3t4enq265Y/3T9aP96MbYNXEokEFy5cQHR0NC5fvgx/f3+EhIRgxowZsLOza/Lvv7CwEA8ePGASqQjqgwi+DiI6Ohpz5szBwYMHERQUhLCwMMTGxoLH4zVo7VFSUgKpVMr8f3FxMfr27Yvvv/+eSfeYN28ehEIhDh8+zBynr6/PmtD6hIQELFy4EHp6eoiMjES/fv3UvaQOpbq6GjweDyUlJfD29oaDgwO0tLSYi7xQKER5eTksLS2ZSl5n7B9TJc2NaKu9tVhUVAR9ff06+bVdmaqqKqSkpKC0tBQeHh4tMsyt7ZVHV51or7yu1JclFouRmpqK0tJSuLu7w8nJqdXvv368mYWFBdNawKabPIVCgX/++QdRUVE4e/YsbG1tMWvWLISGhsLb21tjRb4mQwRfBxEUFISBAwciIiICwPMvKCcnJyxbtgwbNmx46fPDwsKwadMm8Pl8pi9u3rx5EIlEOHPmjCqX3iZqamqwfft27N69G4sXL8Ynn3yi0Q73DVFQUICkpCTo6OhAV1cXlZWVnX5IoKNpKKKtdkN7YWEh9PT0mKqTpmwttidFRUXg8XjQ1taGj49PozeG9a1paP9Ba2vrLiXyGqK4uBg8Hg8URYHL5Ta7ZaOt8WYdBUVRePz4MY4fP44TJ05AKpVi+vTpCA0N7bLDFzt27MCpU6eQnJwMQ0NDDB48GLt27QKXy230OUeOHMH8+fPrPKavr4/q6mpVL7dJiODrAKRSKYyMjHDixAlMmjSJeXzu3LkQiUQ4e/bsS1+jd+/eCA4OxqFDh5jH5s2bhzNnzqBbt26wsLDAq6++im3btsHKykoVb6NNPHnyBAsXLkRxcTEiIiIwdOhQdS9J5dTU1DCVvLKyMnTr1g1SqRTOzs7w9PTskhfPtkAPxmRnZ8PIyAg1NTXQ0dFhRF57xXBpMrUjxmxsbODl5QUDAwPmsyoQCFBeXt4lhoRai1KpRG5uLtLT02FmZgYul9vgcJoq4s1UAUVRyMnJYYYvsrKyMHHiRISEhGDMmDFd/oZ07NixmDlzJgYOHAi5XI6PP/4YT548QWJiYqNDiUeOHMGKFSvA4/GYx7S0tGBnZ9dRy24QIvg6gPz8fDg6OuLmzZsIDg5mHl+3bh3i4uJw+/btJp9/584dBAUF4fbt23V6/qKiomBkZAQ3Nzekp6fj448/hrGxMRISEljV/0GjUCiwf/9+bNy4ETNmzMC2bds6jdFpc6HtPoRCIUQiEczNzZlKnr6+PsrKypCUlASlUtnmgYSuQv2sVYqioK2tDYVCAS6XC3t7eyL0Wkh1dTWSk5NRVFQEAwMDVFdXw8zMDPb29qTq3EykUikyMjKQl5eHHj16MIknqo43ay9KS0tx+vRpREdH49atWxg5ciRCQkIwefLkJlMzujqFhYWwtbVFXFwchg0b1uAxR44cwcqVKyESiTp2cS+B3Lp1An744Qf07t37hQGPmTNnMv/du3dv9OnTBx4eHrh27RpGjRrV0ct8KTo6Oli1ahUmTZqEd999FwEBAQgLC8P48ePVvbQ2Qbve0yLPzMwMdnZ26N279wt2H2ZmZggMDMSzZ8/w8OFDppmeTb07bIAeEqDPK5212qtXL2ZqkY5o4/P5rI5oYxP0QAvd62hoaAi5XA4DAwO4u7uzcneArdAT0D169EBiYiLi4+Ohq6sLhUIBGxsb+Pn5dWjWcnOorq7GH3/8gejoaFy6dAm9e/fGrFmzEBUVxfQYE5qmrKwMAGBpadnkcZWVlXBxcYFSqUT//v2xfft29OzZsyOW2CikwtcBtGVLVywWw8HBAZ9//jlWrFjx0j/LxsYG27Ztw3vvvdceS1cZFEXh6NGjWLVqFV599VXs3r1b7eXuliCVSplKXmlpKUxNTZnG6+b25EgkEiQlJaGiogJcLvel026aTu2cZYFAAKlUCltbW8a4u6EvTrZGtLEJOvWG7nWkB1o4HA66d+9eZ4vS0tIS3t7eXa7PtjXQN3p8Ph/l5eUwNjZGdXU1IwRfJgg6CoVCgRs3bjDDFxYWFpg5cyZmz54NX1/fLn3NaSlKpRITJ06ESCTC9evXGz0uISEBqamp6NOnD8rKyrBnzx7Ex8fj6dOn6NGjRweuuC5E8HUQQUFBCAwMRHh4OIDnHxxnZ2csXbq0yaGNI0eOYPHixcjLy3vp3Xdubi6cnZ1x5swZTJw4sV3XryoEAgGWL1+Oq1evYufOnQgJCWHtBUgqlTLVEVrk0XFRrW28pigKQqEQPB4PJiYm8PX17XJftmKxmNmulUgkzJBAS9JZ2BDRxiZq948VFBTU6XVszLy3pqYGaWlpEAgEcHNzg4uLCxHP9XhZvFltOyErKyu1iWeKovD06VNERUUhNjYWVVVVmDZtGkJDQzFkyBBWVR07E++//z7++OMPXL9+vUXCTSaTwdfXF7NmzcLWrVtVuMKmIYKvg4iOjsbcuXPx7bffIjAwEGFhYYiJiUFycjLs7OwwZ84cODo6YseOHXWeN3ToUDg6OiIqKqrO45WVldiyZQumTJkCDoeD9PR0rFu3DhUVFXj8+HGnSw44c+YMlixZgp49e2L//v1wcXFR95IA/J+FglAoRElJCUxMTBiR154XcplMhtTUVAgEApWkTLANehKUThKp7T/W2iEBdUS0sQmKolBRUQE+nw+hUAilUsmIPHNz82bfSIlEIiQnJ0Mul4PL5XZ58UxPg/P5fBQWFjLxZvb29o1+vmqLZxcXF7i6uqp8+IX+/MfGxiI6OhqpqamYMGECQkNDMW7cONKX2UaWLl2Ks2fPIj4+Hm5ubi1+/rRp06Crq4vjx4+rYHXNgwi+DiQiIoIxXvb398f+/fsRFBQE4LnRsqurK44cOcIcz+Px4OPjgz///BOvvfZandeSSCSYNGkSHj58CJFIBAcHB7z++uvYunVrp9oarY1IJMKHH36IqKgobNq0CYsXL1ZLhUEmkzHGvcXFxTA2NmY83VQtIOiUCS0tLfj5+WnUUEtD/oOqMJlWdUQb26ArpAKBADU1NYxXXlv6x2jxkJaWBjMzM3h7e3epHsnG4s3s7e1bZPlTXl4OHo+HqqoqeHl5qWTAiG4LioqKws2bNzF06FCEhoZiypQpMDc3b9c/qytCURSWLVuG06dP49q1a61Kj1IoFOjZsyfGjRuHvXv3qmCVzYMIPgLr+Pvvv7Fo0SJYWVkhMjISfn5+Kv8z6we/GxsbM5W8jk5nUCqVyMzMRFZWFhwdHeHp6dlprTHqD7SYm5szvY6qrji0Z0Qb26gdw6fKhAapVIr09HTk5+d3iR5JVcSb0W0bKSkp0NfXB5fLbbMQq6mpwZ9//omoqChcvHgRXC4XISEhmDVrFnr06MHatpjOyJIlS/Drr7/i7Nmzdbz3zMzMmAJA/R26zz//HIMGDYKnpydEIhF2796NM2fO4P79+x3yfdYYRPARWElVVRU+++wzREZGYvXq1Vi7dm27CwRa5NGVPDqCy9bWlhXVDLFYjKSkJFRVVcHHx6fBRBY2Uj9JgB5osbOz6/BWg7ZEtLENWjwLBAKUlZV1aAxfeXk5kpOTUV1dDS6XC1tbW40RFQ3Fm9nb27e70XTtqDs7Ozt4enq2qPdXqVQiISEBUVFROH36NExMTJjhi169emnM3wfbaOy8Hj58mEm9qr9Dt2rVKpw6dQoCgQAWFhYYMGAAtm3bpva0KSL4CKzm/v37WLBgAWQyGQ4cOICBAwe26fXkcjmKiorq5KzSlTw2iLz60CHuKSkpsLS0BJfLZZUzP01DFdKO2gZvDs2NaGMbcrmcEc8lJSUwMzNjzmtHC1eKosDn85GamgpjY2NwuVxWGQi3BHXGm0kkEqSmpqKoqAiurq5NDsdQFIWkpCRER0cjNjYW5eXlmDJlCkJDQzF06FCNrrYS2h8i+AisRyaT4csvv8T27dsxf/58fPbZZy0SZwqFok7OqqGhISPyOssXllQqBY/HQ1FRETw9PVmxbVP/vNLimcPhdPg2eHNpKKKNbTR0XulJUDaIZ5lMhoyMDOTm5qJHjx7w8PDoFC0HDcWb0edVHTdRpaWl4PF4yMnJQWVlJebOnQttbW1GWNPDF8nJyRg3bhwzfMGGzwChc0IEH6HTwOPxsHDhQuTk5CA8PLxJc2n6S1MoFNaZrOtMIq8hiouLkZSUxAgWExOTDv3zG/J0q51f2xlQKBTIzMxEdnY2HB0d4eHhoXbj69q5wAUFBejWrRsrY7hqU1lZieTkZIjFYpUNJLQVtsebURSFkydPYuXKlejRowfGjh2Le/fu4Z9//sHgwYMRGhqKadOmaVT/KUF9EMFH6FQolUp88803+Oijj/DWW29hx44djMGpWCxGSkoKdHR0UFRUxHxp0iKPbV9GrYXOlH327BmcnZ3h7u6u0q0dWowIhUIUFBRAV1eXOa+Nebp1BsRiMZKTk1FZWQlvb29wOJwOfS/0JChto6Ktrd3pcoFrDyQYGBjAx8dH7VVT2sC7M8SbSaVSXL58GT///DMuXLgApVKJgIAAHDx4EP369WPVWgmdHyL4CJ2SnJwcvP/++7h79y4mT56MzMxMxMfHY8iQIdizZw9zB6/JF8yKigrGbNjX17ddY7Hoygg9YaulpcWIPLZ9abYFiqKYiDZjY2OVR7TRYoS2+1AoFIyNSlsmQdWNXC5HZmYmnj17BgcHB3h6enZ41VQikTAir7q6GjY2NrC3t2ddvJlSqcSdO3cQFRWFU6dOwdDQEDNmzEBoaCi6d++ODz/8EHFxcdi0aROWLl3aaYeMCOyDCD5Cp6OmpgaXL19GTEwMTpw4gZqaGvTo0QM7d+7Em2++yaqLu6qhKAo5OTlIS0tr8xQqXXGiJ0EpimJ6HTuzGGkOqo5oq50mQosROk1Ekz6vYrEYPB4P5eXl8PT0VPlwTP14MysrK2b4gk0DDRRFISUlBdHR0YiJiUFJSQkmT56M2bNnY/jw4S+s9fLly1i5ciV0dXVx//79TtEjSWA/RPAROg33799HeHg4zpw5AzMzM0yfPh3Tp0+Hq6srVq1ahXPnzuGLL77AvHnzNFqcNER1dTV4PB5KS0vh5eXV7CB0Op2BFnlyubxOxUmTxEhzaM+INtruQyAQoKKigvHKs7GxYZUYaW8oikJRURF4PB50dXXh4+PTrgbAL4s3Ywv0dveJEycQHR2NJ0+eYOzYsQgNDcWECRNeOtgkl8tx9+5dBAcHd9CKCZoOEXwaTmRkJJPu0bdvX4SHhyMwMLDBY48cOYL58+fXeUxfXx/V1dXM/1MUhc8++wzfffcdRCIRhgwZgm+++aZV7uMt5eLFi7h8+TKmT5+OwMDAFwTNhQsXsHjxYri7uyM8PBweHh4qXxPbKCgoQHJyMoyMjODr69vo9iS9rSgUClFTU6OxFafW0JaINqlUyogRkUjUoXYfbEOhUCA7OxuZmZngcDjw9PRstQ9jQ/Fm9vb24HA4rJtaraysxG+//Ybo6GjExcUhKCgIISEhmD59OiwtLbvczeiOHTtw6tQpJCcnw9DQEIMHD8auXbvqmBg3RGxsLDZu3IisrCx4eXlh165dGDduXAetWjMhgk+DiY6Oxpw5c3Dw4EEEBQUhLCwMsbGx4PF4DZr4HjlyBCtWrACPx2Me09LSqhPVtmvXLuzYsQM//fQT3NzcsHHjRjx+/BiJiYms8IerqKjAhg0bcOTIEXz88cdYtmxZl9sOkcvlSEtLQ15eHtzc3ODq6gptbW2IxWKmJ6+qqkpl6QyaQnMj2up7EKrTaJqN1PZA9PDwQI8ePZp1U9Fe8WYdgUwmw19//YWoqCicP38ezs7OCAkJQUhICNzc3Fi11o5m7NixmDlzJgYOHAi5XI6PP/4YT548QWJiYqM3pDdv3sSwYcOwY8cOTJgwAb/++it27dqFBw8eoFevXh38DjQHIvg0mKCgIAwcOBAREREAnt8lOzk5YdmyZdiwYcMLxx85cgQrV66ESCRq8PUoioKDgwPWrFmDtWvXAgDKyspgZ2eHI0eOYObMmSp7Ly3lxo0bWLhwIYyMjBAZGYk+ffqoe0kdTllZGZ48eQKZTAY9PT1IJBKmx8nGxqbLCeHW0lBEG+3pRtvT0Ckt6oji6ywUFxcjOTkZ2tra4HK5zHR9ferHm9GTy2zrI1Uqlbh//z6ioqJw8uRJ6OrqYsaMGZg9ezb69evX5SvljVFYWAhbW1vExcVh2LBhDR4zY8YMiMVinDt3jnls0KBB8Pf3x8GDBztqqRoHueJrKFKpFPfv38dHH33EPKatrY3Ro0cjISGh0edVVlbCxcUFSqUS/fv3x/bt29GzZ08AQGZmJgQCAUaPHs0cb2ZmhqCgICQkJLBK8A0ZMgQPHz7E1q1b8eqrr2Lp0qXYsGEDK6qQqqampobpHZNIJDA0NIREIgGHwwGXy+1yW4ttxcLCAoMGDUJ2djYePHgAfX19yGQyxp4mMDCww/0QOyNWVlYIDg7Gs2fP8OjRI1hbW8Pb2xsGBgaorq5mKnl0vJm3t3e7x5u1FYqikJ6ejujoaERHR6OgoABvv/02jh07hpEjR5KbqGZQVlYGAI0KfgBISEjA6tWr6zw2ZswYnDlzRpVL03jIp1NDKSoqgkKhqLMdCwB2dnZITk5u8DlcLhc//vgj+vTpg7KyMuzZsweDBw/G06dP0aNHDwgEAuY16r8m/TM2YWBggC+++AIzZszAggULcPbsWURGRmLw4MHqXlq7U793zNzcHPb29vD390e3bt0gkUiQlJSEmzdvgsvlws7OjlXVErZSe1tRKBQyW98URcHV1ZUViSedCW1tbbi6uoLD4YDH4+H69euM4LOwsICTkxPr+h0pikJhYSFOnjyJ6OhoPHr0CK+//jq2bt2KiRMnsjKSka0olUqsXLkSQ4YMaXJrViAQdJrvmc4EEXwEhuDg4DoTYYMHD4avry++/fZbbN26VY0raxt9+vRBQkICwsLCMGnSJISGhmLLli1qN4htKzKZjOkdKykpYXrHevXq9UIl09DQEP369YNAIACPxwOfz4ePjw/rGt7ZAm3cKxQKIZPJYGtri169ejFN93REW35+Pmsj2thIQzGHcrkc+vr6cHFxgbW1tbqXyEBvKUZHR+Ovv/5CQEAA5syZg/Pnz8Pa2poI/VbwwQcf4MmTJ7h+/bq6l9IlIYKvE6BUKlu8rUE34guFwjqPC4VCcDicZr2Gnp4e+vXrh7S0NABgnicUCmFvb1/nNf39/Vu0vo5GV1cXa9euxdtvv41FixYhICAA+/fvx9ixY9W9tBZBDwgIhUIUFRXB2NgYHA4Hvr6+LxVvWlpasLe3h7W1NVJSUpCQkNDkMEJXo6qqitkKr6qqgo2NTaPbijY2NrC0tERmZibu3r3Lmog2NkKbePP5fBQUFDDxZp6enujevTuUSiVyc3Px+PHjFk9FtzdyuRzXrl1DVFQUfv/9dzg4OCAkJAQRERHw8PAgIq8NLF26FOfOnUN8fDx69OjR5LEcDqdN312EhiFDGyymqKiI8VVrDUFBQQgMDER4eDiA58LR2dmZ6Wd7GQqFAj179sS4ceOwd+9eZmhj7dq1WLNmDYDnvmW2trasG9poCoqi8OOPP2Lt2rUYM2YMdu3a1Sa/NVVTPxfY0NCQGRBoy3ZSaWkpEhMToaOjA19fX5iZmbXjqjsHtfsdaxv3tmSoRd0RbWyE9nek+/KaE28mlUqRmpoKgUAAV1dXuLq6dsj0uFKpxKNHj5jhC4qiMH36dISGhmLgwIHkZqiNUBSFZcuW4fTp07h27Vqzvs9mzJiBqqoq/P7778xjgwcPRp8+fcjQRhsggo/F/PDDD1i0aBEEAkGDNiovIzo6GnPnzsW3336LwMBAhIWFISYmBsnJybCzs8OcOXPg6OiIHTt2AAA+//xzDBo0CJ6enhCJRNi9ezfOnDmD+/fvw8/PD8BzW5adO3fWsWX577//WGPL0hLy8/OxdOlSxMfH48svv8SMGTNY80WtVCpRXFzM5NfSucDtHfquVCqRmZmJrKws9OjRAx4eHhrfeC6TyZh+x9LSUpibmzNeeW1JKenIiDa2Uj/ejDbxbkm8WVlZGZKTkyGVSsHlcmFjY9Puv5cURSEzMxMxMTGIiYlBXl4e3nrrLYSGhmL06NGkUtuOLFmyBL/++ivOnj1bx3vPzMyMqeTW/y66efMmhg8fjp07d2L8+PGIiorC9u3biS1LGyGCj8WMGTMGenp6OHfuHBQKRZ273fr/3xgRERGM8bK/vz/279+PoKAgAMCIESPg6uqKI0eOAABWrVqFU6dOQSAQwMLCAgMGDMC2bdvQr18/5vVo4+VDhw5BJBLhlVdewYEDB+Dt7d2+b74DOXnyJD744AP4+/tj3759cHJyUss6lEolSktLIRAIUFBQAF1dXcaSwsTERKViVCwWIzExEdXV1W1OmGAjCoWC6XcsKiqCiYkJUyVtzxsVVUe0sRFVxJvR5tdpaWkwNTUFl8tts4CmKArFxcU4deoUYmJicO/ePYwaNQqhoaGYNGlSu95IEf6Pxq5bhw8fxrx58wC8+F0EPDde/vTTTxnj5S+//JIYL7cRIvhYyp07dzB9+nRs3rwZc+fOZX5pbt68iYCAAFZFCGkCpaWlWLNmDU6cOIEtW7Zg0aJFHbKVQ1EURCIRMwVKG103tfWlyrXk5+cjJSUFlpaW4HK5na5qWxu6Skp75RkYGDDnVtXVt/aMaGMj9ePNzMzMGAHdntem2gLa2dkZbm5uLa5AV1VV4cKFC4iJicHly5fh7++PkJAQzJgxg0yrE7oURPCxlEOHDiE8PBwHDhzA0KFDUVRUhLi4OEybNg3+/v74+++/u2TPlaq5cuUK3n33XXA4HERGRr40/qc1UBSF8vJyRuQplco6+bXq/gKqqalBSkoKioqK4Onp2amsR+gBAbpKqqOjU2crvKMFdGsj2thIQwK6o+LNKioqkJycDIlEAm9v75cKNblcjn/++QfR0dE4e/YsbG1tMWvWLISGhsLb27vTfJ4JhPaECD6WQU/kTpkyBQKBADdu3AAAbNiwAWKxGAcOHMCUKVMQExPzwnMpiiIXsnZALBZj48aNOHjwINatW4dVq1a1uaeHoigmv1YgEEAulzP5tS3pb+pIioqKkJycjG7dusHPz4+1W14NCWg7OzvY29t3eJW0IZob0cZG2BRvVrtPUldXF/r6+ggICGB+rlQq8fjxYxw/fhwnT56EVCrF9OnTMXv2bAQFBXWac04gqAoi+FgELdhycnLg7e2NX375BVOmTMH777+P9PR0vPXWW/jhhx8QHh6OIUOGAHh+kUtPT2/1JC+hce7cuYMFCxZAS0sLBw4cQP/+/Vv8GpWVlcwUKN3EbmdnBysrq07R26VQKJCRkYFnz56xriettoCWSqWtGhDoSBqKaGMrtc8t2+LN5HI5jh8/juXLl2PKlCn44IMPcOXKFcTExCArKwsTJ05EaGgo0wNNIBCeQwQfC9m8eTPi4+OxatUqpKSkYNeuXYiLi0NSUhLOnz+PFStWoE+fPpBKpfj555+xaNEifPvtt1i0aJG6l65xSKVS7Ny5Ezt37sS7776LTz/99KVZqfX93KytrWFnZwcbGxvWiKWWUlFRgcTERMhkMvj6+sLKykot65BIJIwQoc8th8NhfCfZjlKpxLNnz5CRkQFbW1t4e3uzph+3oXgz2reRbQK6pKQE+/btw8GDB1FZWYmePXtizZo1mDJlCjHBJhAagQg+llFaWopPPvkEPB4Ptra20NbWxttvv42pU6fiiy++wNOnT/HTTz9BT08Pn3zyCc6fP4/evXvj559/VvfSNZrExEQsXLgQQqEQ4eHhGDFiRJ2fSyQSCIVCCIVCVFRUtMrPje1QFIWcnBykpaV1qFihp0AFAgHKyspgaWnJTIF21nMrkUiQkpKCkpISeHl5wdHRUS2Vs/oWNRYWFsy5ZVt1rLq6Gn/88Qeio6Nx6dIl9O7dG7NmzYKJiQm2bdsGR0dHREREYMCAAepeKoHASojgYxkFBQXo2bMniouLMX/+fISGhuLVV18F8Nzd/7vvvsOkSZOwY8cObNmyBRs2bMDy5cvrBFE317KF0DIUCgUiIyPxySefYOrUqViyZAl+++03nD17Fr6+vli6dClrvyzbk+rqaiQnJ0MkEsHb2xv29vbtLlbkcjkjREpKSlQ2Bapu6Ii2bt26dVhEW/14s+7duzPDF/r6+ir/81uCQqHAjRs3EBUVhTNnzsDS0hKzZs3C7Nmz4ePjw3zuxGIxdu7cia+++gpz5szBvn37WPdeCAR1QwQfyygqKsLQoUOho6OD69evw9zcHABw4MABnD9/Ht9//z0OHjyIXbt2Yfv27Vi9ejUkEgnS0tKQnZ2NwMBAxqS5NZFshKYpLi7Gd999h927d6OkpASurq6YM2cOQkNDXxoXpGkUFBQgOTkZ3bt3bxej4YaECC3yOvN068tQKBTIzMxEdna2yiLaGos3s7e3Z51BNEVRePr0KY4fP44TJ06gqqoK06ZNQ2hoKIYMGdLkNS0tLQ3Hjh3Dpk2b1N5rSCCwDSL4WEpRURGsra2hVCohkUiwbds2mJiY4NatW8jJycHbb7+NTZs24dmzZ5g5cybKyspgZmaGxMREbNy4kYk+o5HJZCgpKYGdnZ2a3lHnpaysDGfPnkV0dDQuX76M/v37Y/r06dDS0sK2bdswfPhw7Nmzp0vmPMrlcqSlpSEvLw9ubm5wdXVt0U2GUqlESUkJY6Oir6/P2KiwTYiomvaOaGss3sze3h6mpqasEkQURSE3NxexsbGIiYlBWloaJkyYgJCQEIwbN06jqrrNJT4+Hrt378b9+/fB5/Nx+vRpTJo0qdHjr127hpEjR77wOJ/P75LXJsKLkPIPy5DL5QDANMVra2tDS0sLN2/exKeffor//vsPy5cvxyeffMJs++bn5yMhIQE3b97Ed999h++++w6nT5+u87opKSlwdHTEf//9p/L3EBkZCVdXVxgYGCAoKAh37txp9NjvvvsOQ4cOhYWFBSwsLDB69OgXjp83bx60tLTq/DN27FhVvw2GDz/8EF9//TWGDRsGHo+HW7duYfXq1Vi1ahWSkpLQrVs3BAQE4OjRo+hq90+6urrw8fHBgAEDIBQKcevWLYhEoiafQ1ebkpKSEB8fj8TEROjp6SEgIACDBw+Gh4dHlxN7ANC9e3f0798f3t7eSElJwYMHDyAWi1v8OlVVVcjIyEBCQgLu3bsHqVQKPz8/DBs2DD4+PqywqqERiUQ4cuQIxo0bh169euHvv//GihUrkJ+fj5iYGEyaNKlLij3g+Q1A3759ERkZ2aLn8Xg88Pl85p/WxHISNBNS4esEPHv2DK6urgCe3/UFBgaiW7du2LRpE7766itmku7QoUPo06cPFi1ahMrKShw/frzO6zx58kTlOYTR0dGYM2cODh48iKCgIISFhSE2NpYZQqkPvU0zePBgGBgYYNeuXTh9+jSePn0KR0dHAM8Fn1AoxOHDh5nn6evrd5ithVQqfemXzu+//473338fXC4X+/fvh5ubW4esjU0olUpkZ2cjIyMDDg4O8PT0ZLYma1ebhEIhFAoFq8ym2UZLI9oaijezt7dn5WR4TU0NLl26hOjoaPzxxx/w9fXFrFmzMGvWrE5l8t2RaGlpNbvCR+dDEwj1IYKvkyASiZCUlITg4GAAz/t+/Pz8MH/+fKxatQqrVq3CL7/8guXLl6OiogIAsG/fPtTU1OCHH37A4MGD4e/vr/J1BgUFYeDAgYiIiADwXAQ4OTlh2bJl2LBhw0ufr1AoYGFhgYiICMyZMwfAc8EnEolw5swZVS69zZSVlWH9+vX45ZdfsHHjRixZsoR1X7YdQVVVFZKSklBZWQk3NzfIZDIIBALU1NQwZtNWVlakv7QZNBXR1lHxZu2BQqFAQkICoqOjcfr0aZiYmGDmzJmYPXs2evXqRUTeS2iJ4HNxcUFNTQ169eqFzZs3M56tBAK54nYC5HI5zM3N64i9mpoa2NnZoaioCPr6+jhw4ABOnz6NCxcuIDw8nNkSu3fvHpYuXcokdtRGqVS26zqlUinu37+P0aNHM49pa2tj9OjRSEhIaNZrVFVVQSaT1Zk6Bp5fzGxtbcHlcvH++++juLi4XdfeHpiZmeHgwYM4f/48fvjhB7z66qt4+vSpupfV4WhrazOCjsfjITc3F05OThg+fDh69+4NGxsbIvaaiampKQIDA+Hm5oYnT57g4cOHyMvLw+PHj3Ht2jVkZmbC3NwcQ4YMwcCBA+Hk5MQasUdRFBITE/HZZ5+hd+/emDlzJnR0dHDq1ClkZGRg165d6N27NxF77YS9vT0OHjyIkydP4uTJk3BycsKIESPw4MEDdS+NwBJIha8T8/nnn+Phw4f45ZdfGIFXVVWFEydOYMKECTA2NsbIkSNhYGCAq1evMs+TyWTMVlt7Wrjk5+fD0dERN2/eZMQpAKxbtw5xcXG4ffv2S19jyZIluHTpEp4+fQoDAwMAQFRUFIyMjODm5ob09HR8/PHHMDY2RkJCAmsraBKJBFu2bMH+/fuxcuVKfPjhhxptEyGVSlFQUAA+n4+ysjLGz83CwgKZmZkQCoXw8PCAk5MTEXsthI43y8vLY4YvLCws4OXlxcrhCz6fj9jYWERHRyM5ORnjx49HSEgIxo8fz/xOE1pGcyp8DTF8+HA4OzsTn1YCAKBzupYSAADTp09HVFQURowYge3bt8PBwQE9e/ZktkJ37tyJe/fuMVWmnJwcxMbG4smTJ9DX18e+ffuYagAbLFx27tyJqKgoXLt2rc4Xw8yZM5n/7t27N/r06QMPDw9cu3YNo0aNUsdSX4qhoSF27tyJGTNmYMGCBTh9+jQOHDiAoKAgdS+t3ZDL5SgsLGS2FE1NTcHhcNCnT5864rZnz56wt7dHUlIS+Hw+/Pz8SBpCM2go3qxfv34AgOTkZDx9+pQ1EW3l5eXMJPs///yDIUOGYMmSJZg2bRor1tdVCQwMxPXr19W9DAJLILfanRgfHx8kJiZi0KBBWLZsGb755hvEx8cDAB48eIAdO3Zg06ZN8PT0xK1bt/C///0PO3fuhLa2Nh4+fIigoCCkpKQAeL4NRxd709PTUVVV1eL10PFWQqGwzuNCofCltgB79uzBzp078eeff6JPnz5NHuvu7g5ra2ukpaW1eI0dTb9+/XD79m3MnTsXEyZMwNq1a1FZWanuZbUapVKJgoIC/Pfff4iLi0NWVhazpRgYGAhnZ+cGK5mWlpYYNGgQbGxscPfuXfB4PGYinfB/VFdXIysrC7du3cLt27dRVVUFb29vDB8+HH5+frC0tGTOpYODAx4+fIgnT55AKpV2+FqlUinOnTuHOXPmwN3dHZGRkXjttdeQlpaGv//+G++++y4Re2rm0aNHsLe3V/cyCCyBbOl2YuRyORMtlZGRgfLycvj5+UGpVGL69OnIycnBw4cPAQCjR4+GkZERNmzYgMGDB0Mmk2Ht2rUwNjaGWCzGjh07YGhoiJKSEnz00Uf4999/cenSJZiZmbVoTUFBQQgMDER4eDiA5wLB2dkZS5cubXRo48svv8QXX3yBS5cuYdCgQS/9M3Jzc+Hs7IwzZ85g4sSJLVqfOklJScGiRYuQlZWF/fv347XXXlP3kpqFUqlEaWkp45VHm/ZyOBwYGxu3+PUqKyuRlJSE6urqFwYRuiJ0vBmfz4dIJIKFhQXs7e2bFR3X0RFtSqUSt2/fRnR0NE6dOgVDQ0PMmDEDoaGh8Pf3Z9X2cmensrKSuant168f9u7di5EjR8LS0hLOzs746KOPkJeXh6NHjwIAwsLC4Obmhp49e6K6uhrff/89wsPD8eeff7J2J4TQsZAt3U6Mrq4ulEoltLS04O7uzjz+zTff4Ny5c0yz7o8//oiCggJs3LgRgwcPBgDo6enByMgIO3bsgJ+fH8LCwgAAf/zxB+7evYu33367xWIPAFavXo25c+ciICAAgYGBCAsLg1gsxvz58wEAc+bMgaOjI3bs2AEA2LVrFzZt2oRff/0Vrq6uEAgEAABjY2MYGxujsrISW7ZswZQpU8DhcJCeno5169bB09MTY8aMafW5Uwfe3t74+++/8d1332HOnDmYMGECdu7cyXgusgm6b4y2UQEADoeD/v37t7lvzNjYGAEBAcjLy8OTJ09gZWUFLper0T2O9amfKmJsbAwOh4PevXu36DwYGhqib9++TERbXl5eu0e0URSFlJQUREdHIyYmBiUlJZgyZQpiYmIwfPhw1vbRdnbu3btXx0h59erVAIC5c+fiyJEj4PP5ePbsGfNzqVSKNWvWIC8vD0ZGRujTpw+uXLnSoBkzoWtCKnwaSGZmJq5cuYJFixYBeG7PEh0djQsXLjD+TGVlZVi9ejViY2Nx7949eHt74/bt29i1axckEgn++OMPAM89s1r6RRwREYHdu3dDIBDA398f+/fvZ3rXRowYAVdXVxw5cgQA4Orqiuzs7Bde47PPPsPmzZshkUgwadIkPHz4ECKRCA4ODnj99dexdevWTp0akpubiyVLluDWrVvYs2cPpkyZworqSO1kBrlcznjlWVpaqmR9NTU14PF4KC4uhqenp0b7sDUUb0Zn2LaH0XR7RrRRFAWhUIgTJ04gOjoaT548wRtvvIGQkBBMmDABRkZGbV4vgUDoWIjg0zAoinrhC/PTTz/FmTNn8OTJE+axCxcuYNGiRVi4cCG2bNkCkUiEvXv34pdffsGKFSsQHByMwMDARl+T0HYoikJMTAyWLVuGgQMHIiwsjDGb7kiqqqoYkSeRSBivPGtr6w4b5CkqKkJSUhL09fXh5+fXqq1iNlI/3oyiKNjZ2ak03qwtEW2VlZX47bffEB0djWvXriE4OBizZs3C9OnTVSb6CQRCx0AEn4ZSW6TFx8dj2rRp+OKLLzBu3DjExcVh7969kMlkePToEQDgxIkTWLFiBQwNDTF27Fhcv34d2traOHPmDJydndvVvoVQl+LiYqxevRpnzpzBtm3bMH/+fJULrZqaGkaEVFRUwMrKChwOBzY2Ni/tG1MVCoUC6enpyMnJaVa6BJupLaKrq6vrVEo7QkRTFAWBQICUlBQYGxvDx8en0SqiTCbDX3/9haioKJw7dw4uLi4ICQlBaGgoXF1dicgjEDQEIvg0GIqicOXKFbz22ms4cOAA9u/fj379+uH8+fOQSCSIj49HcHAw/vvvP2zbtg0ZGRm4ffs2tLS0oFQqMXDgQEyZMgWffvop85o7duzAsGHDiHu7Crh48SLee+89ODs7IyIiAl5eXu36+jKZDEKhEEKhkIlfopMZWrv1pwoqKiqQmJgIuVwOX1/fF0y42YpUKmVEHlvizeiItuvXr+PJkyfYunUrTExMoFQqcf/+fURFReHkyZPQ1dXFjBkzMHv2bPTr10/tFk0EAqH9IUMbGsyJEycQFhYGd3d3LFmyBEuWLMGxY8dw//59TJ48GcHBwRCLxTh37hz+++8/7N+/n/liqqiogIGBAZNoceXKFaSnp+PYsWMoKipCv379SB9POzN27Fg8ffoUH3/8MQYPHoz169djxYoVbRJjCoUChYWF4PP5KC4uhomJCTgcDnr27MlaE1wTExMEBgYiJycHjx49gq2tLby9vVmTIFEb2ouQz+ejpKQEZmZmsLe3h7+/PyvWq6enBx8fH1RUVODgwYPo1asXhg4div/++w+FhYWYNGkSjh07hpEjR6qtsksgEDoG8huuwUycOBHnzp3DgAEDsGDBAggEAvz7779wdHTEzp07AQCXL1/G+fPnMXbsWLz++uvMc+/duwe5XM745xUWFmLZsmWwt7fHO++8AyMjI7LNqwKMjY2xf/9+zJo1izFsjoyMbFEOslKpRHFxMWOjYmhoCA6HAy6X22lEupaWFpydnWFra4vk5GTcvHkT3t7esLe3V/sWY0Pn197eHr6+vjA0NFTr2upDURQKCwtx7949dO/eHTweD7///jv8/f1x7tw5+Pj4qHuJBAKhgyB1ew1GX18fP/30E37++Wekp6ejuroac+bMwY8//gjguSHyr7/+ipKSEmzevJl53rNnz3Ds2DFUV1dj6dKlAJ6ndNCC4ZVXXsGJEyeI2FMhwcHBePjwId58802MHj0aGzduhEQiafR4iqJQUlKCxMRExMXFITk5GQYGBggMDERwcDDc3d07jdirjYGBAfr27QtfX1+kpqbiwYMHrTIFbysURUEkEiEpKQnx8fFISkqqc37d3NxYJfbEYjGio6MxZcoUeHt74+TJk5g7dy4EAgFyc3PRs2dPBAQEYPfu3ZDJZOpeLoFA6ABID18XoqGK3MOHD1FYWMhU92QyGX788Uds27YNX331FaZPn47r169j1apVGDFiBD7//HMcPHgQAoEAu3btUsfb6HI8fvwYCxcuRElJCSIjI/HKK68AeF5pSkhIgJWVFYRCISiKYgyRzczM1F4Ja29kMhnS0tKQn58Pd3d3uLi4qLzXrKF4MzojmG3nVy6X49q1a4iKisLvv/8OBwcHZvjCw8PjhfXGx8djyZIlMDU1xY0bN1j3fggEQvtCBF8Xor69SkN2K3Fxcfjkk0/g5uaGn3/+GRRFYdq0aRCLxdi0aROCg4MbfW5TjxPahkKhwL59+7Bp0ya89tprMDMzw+XLlyESiRATE4M+ffrAwsKiSzTb05U2APD19WW8JduL6upqRuSJxWK12NQ0F6VSiUePHiEqKgonTpwA8Dxje/bs2QgICHjpemUyGf79918EBAR0xHIJHQj91U6uxwQadl29CCql/i9+/f9XKBS4d+8eHj9+jN27dwN4bqKck5ODiRMnvlTsSaVScnFREbm5uZDJZHB2dsZvv/2G48eP46233kJWVhZGjhwJKysr1okRVWFubo6goCBwOBzcv38fSUlJbd6WlMlkyMvLw71793D9+nUUFxfD2dkZw4cPR58+fWBra8ua80tRFDIyMrBz504MGDAAb7zxBkQiEQ4fPozc3Fzs378fgYGBzVqvnp6eRom9+Ph4vPnmm3BwcICWlhbOnDnz0udcu3YN/fv3h76+Pjw9PRlT+M4KRVHMNZpcjwm1YccVjMAKdHR0sGbNGiQkJIDD4aC4uBh///03nJ2dMXXqVABgotzqIxAIsHDhQly5cqWjlw0AiIyMhKurKwwMDBAUFIQ7d+40eXxsbCx8fHxgYGCA3r1748KFC3V+TlEUNm3aBHt7exgaGmL06NFITU1V5Vt4AbFYzGzhenl5IS4uDh999BFKSkpw8OBBHD9+HEuWLEFBQUGHrosNaGtrw83NDcHBwaiqqsLNmzeZbe3molAoIBQK8e+//yIuLg65ubmwsbHB0KFDMWDAADg4OLBmcpWiKBQVFeHQoUMYPXo0+vfvj7t372Ljxo3g8/n45Zdf8MYbb7BmvepCLBajb9++iIyMbNbxmZmZGD9+PEaOHIlHjx5h5cqVWLhwIS5duqTilaoOWuj9999/WLt2LcLCwpCYmKjuZRFYANnSJTAolco6VQG5XI6ZM2fC3Nwc33//fZPPyc7OhpubGy5fvvxCULeqt3mjo6MxZ84cHDx4EEFBQQgLC0NsbCx4PB5sbW1fOP7mzZsYNmwYduzYgQkTJuDXX3/Frl278ODBA/Tq1QvA84zfHTt24KeffoKbmxs2btyIx48fIzExscPsTCorK/H2229j8uTJmDp1KmxsbOr8XCAQYNmyZfjrr7+wa9cuzJo1q0ve0dMmwzweD2ZmZvD19W3074gebqEnbNs73qy9qaqqwoULFxAdHY0rV67A398fISEhmDFjBuzs7Lrk33dz0dLSwunTpzFp0qRGj1m/fj3Onz9fJ4Vo5syZEIlEuHjxYgesUjXs378fmzZtwuDBg1FeXo7s7Gx8/fXXmDp1Kmm76cIQwUdokhMnTmD+/PkYPXo0YmJiGvWEW7ZsGe7evYtbt26hpqYGcXFxSE1NxQcffKDyNQYFBWHgwIGIiIgA8FyEOjk5YdmyZdiwYcMLx8+YMYPxH6QZNGgQ/P39cfDgQVAUBQcHB6xZswZr164F8Dx72M7ODkeOHMHMmTNV/p5awunTp/HBBx+gZ8+eCA8Ph7Ozs7qXpBakUilSU1MhFArh4eEBZ2dnaGlpMfFmfD6fqQKqOt6sLcjlcvzzzz+IiorCb7/9BltbW8yaNQuhoaHw9vZm3XrZSnME37Bhw9C/f3+EhYUxjx0+fBgrV65EWVmZ6hfZTtA7L1paWsjOzsaIESOwYcMGvPfeeygpKcFHH32Ey5cv459//lFLfCOBHZAtXUKTTJ06FSkpKejbt2+jNizZ2dlISUnB5MmTAQCHDh3C2rVrsWzZMty+fbvOsQqFol3XJ5VKcf/+fYwePZp5TFtbG6NHj0ZCQkKDz0lISKhzPACMGTOGOT4zMxMCgaDOMWZmZggKCmr0NdXJ22+/jcTERLi4uGDgwIH45ptv2v08dwa6deuGnj17wt/fH7m5ubh16xaSkpKQkJCAe/fuQSaTwc/PD0OHDoWPjw+rJpmVSiX+/fdfbNiwAT4+Ppg/fz5MTU1x8eJF8Hg8fP755+ByuaxZr6YgEAhgZ2dX5zE7OzuUl5c3aYPENrS1tZnPRmFhIUpLSzF27FgAgKWlJVauXAlDQ0NG2CqVSnUtlaBGiOAjNIlcLoe9vT02b97caBN4bm4uSktL0b9/fxw9ehSHDh3CgAEDMGzYMMa4OT09HQAaFI1tufgUFRVBoVA0eNEWCAQNPqexizx9PP3vlrymuqG33c+ePYsDBw7gtddeYyZZuxJSqRSVlZXQ1dVFZWUlcnNzYWhoiFdeeQW9evVi1aQtRVHIzs7G7t27ERgYiNGjR6OwsBCHDh1CXl4eIiMjERwczJr1EthD/Y25zMxMhIWFoaCgAHl5eXBzc2OuuQDg5eWFadOm4ZdffgEA8pnqopC/dUKTNNUELpfLAQA3btxAeno6ioqKsHnzZhw+fBiVlZXo3bs3XFxcIBQKMW7cOKxduxYSiQRKpRKXL1/Grl27UFpaSi4+7cirr76Kx48f45VXXsHQoUOxY8cOSKVSdS9LpcjlcvD5fDx48ADx8fEQCoVwcHDA8OHDERwcDLlcjtu3b6OwsFDdS2V6CH/44QeMGTMGffr0wY0bN7B+/Xrw+XwcP34cEyZMYFW2sSbD4XAgFArrPCYUCmFqasoqI+36FXstLS3k5uaivLwcAPDPP/9gz5490NbWhoeHB8RiMbKyspjjdXV18frrr6O0tBQPHz4E8KJoJGg+5JuW0Gp0dXUhlUrxww8/QKlUIj4+Hp9//jkcHBzw77//YuXKlUhPT8eoUaPg4eGBGTNmwNDQEFVVVbh27RouX74Md3d3REVFtXoN1tbW0NHRafCiTVcX69PYRZ4+nv53S16TTRgZGWHPnj2Ij4/Hb7/9hldeeQX37t1T97LaFaVSicLCQjx+/BhxcXHIysqChYUFhgwZgoEDB8LJyQndunWDsbExAgIC4ObmhidPnuC///5DTU1Nh6+3uroap0+fxsyZM+Hh4YGffvoJkydPRnZ2Ni5duoS5c+fC1NS0w9fV1QkODsbVq1frPHb58mXGgoot1N4Zkcvl2L59O5ydnRETEwMAGD58OAQCAbS0tNCrVy9YWFjg1q1bTBY6AFhZWcHPzw///PNPh6+fwA6I4CO0iadPnyI1NRXW1taYOXMmZs+ejXPnzmHq1Km4cuUK1q1bB1NTU/z+++8YOHAggOd5sV988QXWrVsHIyMjxMbGorS0tFV/frdu3TBgwIA6F22lUomrV682etF+2UXezc0NHA6nzjHl5eW4ffs2674ImiIgIAD37t3DzJkzMXbsWKxfvx5isVjdy2o19ePN6sfHNRZvpqWlhR49emDw4MEAnk9p5+bmqrzCoVAomDQLd3d3bNy4EX369MGjR49w9+5drF69mvGLI7QPlZWVePToER49egTg+Vbno0eP8OzZMwDARx99hDlz5jDHL168GBkZGVi3bh2Sk5Nx4MABxMTEYNWqVepYfqOfyRs3bmDNmjUAnm/HKhQKODs7IzIyEtnZ2TAzM4OzszPi4+MBAJMnT8ajR4/qiDt6mt3b2xsAMWTuinRt0yZCm+nXrx/u3bsHa2trZjpUIBAgLi4OxcXFGDVqFL744gvo6OhAoVDUaS4+efIkfH198d5778HCwqLVa1i9ejXmzp2LgIAABAYGIiwsDGKxGPPnzwcAzJkzB46OjtixYwcAYMWKFRg+fDi++uorjB8/HlFRUbh37x4OHToE4PmFcOXKldi2bRu8vLwYWxYHB4cmJ/7YiJ6eHj799FNMnToVCxcuRGBgIMLDw/Hqq6+qe2nNho434/P5kMvlsLOzQ9++fWFubt6iLy19fX306dMHhYWFSE5OBp/Ph6+vL4yNjdttrRRF4enTpzh+/DhOnDiBqqoqTJs2DefOncPgwYNJ+4KKuXfvHkaOHMn8/+rVqwEAc+fOxZEjR8Dn8xnxBzy/uTt//jxWrVqFffv2oUePHvj+++8xZswYla+VtkdJSEiAXC7H0KFDG/08FxQUYN++fRg6dCgmTZoEpVKJMWPGQCQSYfPmzVi/fj169eqF3NxcAMA777yDW7duYcuWLeByufD09ER8fDxjW0ToolAEQitRKpWUQqGo81h5eTmlpaVFaWlpUR999BGVnZ1d5+f08ceOHaP69etH7dixo87rtZbw8HDK2dmZ6tatGxUYGEjdunWL+dnw4cOpuXPn1jk+JiaG8vb2prp160b17NmTOn/+/AvvbePGjZSdnR2lr69PjRo1iuLxeK1eHxtQKBRUREQEZWJiQr3zzjtUbm4uJRaLWflPcXEx9fTpU+rq1avUb7/9RiUkJFCZmZlURUVFu7x+eXk59fDhQ+q3336j/v33X6q8vLzVr1VZWUklJydTW7dupXr37k0ZGhpS06ZNo86cOUPV1NSo+6+dwGKKioooX19f6sMPP6QoiqIuXrxIPXnypMFjV65cSfXr14969uwZdfbsWapfv35UYWEhFRgYSH377bdU//79qR9//JG5jmZmZlIBAQFUnz59KA8PD8rY2Jj69ttv23SdJXRuiA8fod2g/n8awOTJk+Hu7o6ffvqpzs9pk+b8/HyEhISgR48e2Lp1K9zc3F4wfSaojmfPnuH999/H/fv3sXfvXtZULWUyGYRCIQQCAUQiESwsLGBvbw9bW1uVJUiUl5cjMTERCoUCvr6+sLS0bPZzRSIRzpw5g6ioKCQkJGDYsGEIDQ3FlClTYGZmppL1EjoXRUVF+OuvvzB9+nQolUpQFMXscigUCujo6GD27NmIi4uDWCyGSCTC8ePHMWPGDOY1qP9fCRQKhQgJCYGbmxtWrlyJuXPnIj4+Hj/++CMSExPx7bffIiwsDMuXL4dMJoOenh7Kyspw7949CIVCTJkyBfr6+mo8GwR1QwQfQSVUV1fDwMAANTU1L1xkVq1ahbt372Lt2rWsERtdDYqicPz4cSxfvhxDhgzB3r17YW9v3+HrUCgUKCoqgkAgQGFhIUxMTMDhcMDhcDrsy0mpVCInJwfp6emws7ODl5cXunXr1uCxNTU1uHTpEqKionDx4kX4+voiJCQEs2bNgqOjI+mLItRh+/bt+Oqrr3Dnzh14eHgwj9M3uDdv3sT777+PjIwMvPfee9izZ0+Tr3fy5El8/vnn6N+/PwwNDfH+++/DxcUFe/bswbZt2zB16lTExMQ0mqZRv62G0LUgJRVCu0LbB9Bf1vS/T548CQA4f/484uLiMHr0aIwfPx4AsQdQB1paWggJCUFSUhKMjY0xYMAAHDlypEP+LiiKQnFxMZ4+fYr4+HikpqbC2NgYwcHBCAoKgouLS4dWIrS1teHi4oLg4GBIpVLs3r0b33zzDeMPqVAocP36dSxduhQeHh6MOfK9e/fw4MEDfPjhh+jRowf5EiUw0J+dIUOGwNvbm0n1CQsLwxtvvIF169YhJycHgwcPRnx8PIKCgiCVShs1e6Z/LydOnIiZM2fip59+wr1792BkZARTU1OsWLECvXr1Yszi638W6fXo6OiQz2kXhlT4CCqFoig8efIEffv2xdChQyGTyeDi4oJNmzbB19eXbOWyhPPnz2Px4sXw9PREeHg43N3d2/X1qVrxZrWNrdkWb0ZXPtevXw8HBwcMHDgQf/31F8rLyzF16lSEhoZi6NCh5DNLeAH6q7T2Z7moqAjr1q1Dbm4u3nnnHRw6dAjDhg3D8ePH4enpiW+++QYeHh748MMPce/ePXz55ZcYOHBgk9dFpVIJX19fpKamIiUlBZ6enh3y/gidH3LVIqgULS0t9O7dG8XFxbC1tcWtW7cgk8ng4+MDgDi+s4Xx48fj6dOn8PX1xaBBgxAWFsYYa7eFqqoqZGRk4ObNm0y8Wa9evVgZb0ZRFPh8PgoLC+Hg4IDExEQcPXoUr7zyCrKzs3Ho0CEMHz6cfGa7ODk5OQD+r2pG9+bRWbYA8ODBAyiVSlhbW2PAgAFIT0/H119/jUOHDuGLL77AN998g8rKShw+fBgAMGHCBIhEIty6dQtA47se9Jbst99+iwsXLsDT07POse3xO0vQXMiVi6By5HI5LCwsEBsbi5MnT+LKlSsYMmQIK5IPCP+HqakpDhw4gIsXL+Lo0aMYOXIkHj9+3OLXkUqlePbsGe7cuYObN2+irKwMHh4eGD58OHr16gUrKytWiaby8nIcPXoUb775Jnx9fXHp0iUsX74cRUVFiI+Px6NHjzBkyBDmy5jQddm+fTuzbUp/humeuMTERERERCA2NhaBgYFMjFn//v1hbGwMV1dXxhJl8ODBGDRoEH7//XcAz42THRwccP/+fZSXl0NHR6fByEnagHnEiBFMVm7tGyZVDTcRNAP2XHUJGouuri7T2/f222+jsLAQM2bMgI2NjZpXRmiIV155BY8ePcKYMWMwcuRIbNmyBdXV1U0+p7F4s2HDhqFfv37gcDgN5iirC6lUinPnzuGdd96Bu7s7Dhw4gNdffx1paWn4+++/sWjRIlhYWGDw4MF48OABZs6ciVGjRmHXrl3qXjpBjSxevBjJycl1HpNIJFi2bBn8/f0RFxeH2NhYKJVKnD9/HgDg6+uLwYMHIyMjg3mOiYkJBg8ejJKSEsTFxQEAxowZg7t372LdunV46623MHXq1CbXQrqxCC2F9PAROhS5XE7uQjsR//77LxYsWIDKykpERkbWSRqpqalBQUEBRCIRCgoKYGRkxEzYsimHlEapVOL27duIiorC6dOnYWhoiJkzZyI0NBR9+/Z96dZyWloaysrKMGDAgA5aMaGjaGyqValU1tmqBZ7bB92/fx+DBg0CANy6dQtvvvkmjh49ijfeeAN5eXn45JNPcOrUKWRlZcHS0hJHjhzBrl27cODAAcYYOiUlBR988AE8PDxw8OBBFBcX488//8ShQ4fg5eWFDz74AH379u2YE0DoEpAKH6FDIWKvc9G3b1/cunUL//vf/zBx4kSsXLkSZ8+exdy5c+Hq6opvvvmmWfFm6oKiKCQnJ2PLli3o3bs3pkyZAqVSiZiYGGRlZWH37t3w9/dvVh+hp6enxoq9yMhIuLq6wsDAAEFBQbhz506jxx45coQRQfQ/BgYGHbja9qf+3z+9I1HfwoSiKERGRjIxfQCQnp4OU1NT5mbI0dERixYtgqWlJY4ePQrg+e9Rjx49GLcCAHB2dkbfvn0RFRUFiqJgZWWFWbNm4e+//8ahQ4eI2CO0O0TwEQiEJtHV1cX48eMxZ84cHD16FKGhocjLy8OPP/6IrVu3wsvLCyYmJupeJgP1/zNDw8PDMWzYMAQHB4PH42HXrl3Iz8/HDz/8gFdffZVVW8zqJDo6GqtXr8Znn32GBw8eoG/fvhgzZgwKCgoafY6pqSn4fD7zT3Z2dgeuuG001BuXmZmJ7777jvl/+rNx48YNbN++HfHx8aipqYGWlhZef/11dO/endmyzcjIgIODQ53INm9vb/Tt2xfR0dEAAC6Xi8DAQNy8eZNpjzAwMMCsWbNw8uTJBgVnQ+skENoCEXwEQjtTUlKC0NBQmJqawtzcnNkSber4ZcuWgcvlwtDQEM7Ozli+fDnKysrqHFe/qqKlpYWoqCiVvY+cnBx8+eWX8Pf3R0BAAEpKShAdHY2IiAgkJibixIkTKC0tVdmf31IqKipw7NgxTJo0CVwuF+fPn8eiRYuQn5+P06dPY/r06TAyMlL3MlnH3r17sWjRIsyfPx9+fn44ePAgjIyM8OOPPzb6HC0tLWb7nsPhwM7OrgNX3DYaGhiKjY3Fe++9x/z/kydP8Morr2DixIm4c+cOZsyYgeXLlyM7Oxt+fn4YNGgQvvnmGwDAsGHDUFRUhH///Zd5vo2NDZRKJe7cuYPs7GwYGRmBy+WirKwMt2/fZo4bMGAARo0a9cJ6dHR0WDXYRNAMyCeKQGhnQkND8fTpU1y+fBnnzp1DfHw83n333UaPz8/PR35+Pvbs2YMnT57gyJEjuHjxIhYsWPDCsYcPH65TWVFlUsm4ceNw5coVrFq1CkKhENHR0XjrrbewZMkSJCYmorq6GgMGDGCc/dWBTCbDxYsXMX/+fLi7u+Prr7/GiBEjkJKSgri4OCxevBhWVlassX5hG1KpFPfv32cmT4Hngmj06NFISEho9HmVlZVwcXGBk5MT3nrrLTx9+rQjltsiKIp64XNJURQOHDiAjRs31nnc0NAQvXr1QkpKCgDghx9+gLW1Nfh8Ps6cOYMLFy4gKSkJW7duBQDMmjULV65cgUQiwfDhw+Hi4oLjx48z54H+/TA3N2esV8aNG4d79+5h+PDhL6yJQOgQVBvVSyB0LRITEykA1N27d5nH/vjjD0pLS4vKy8tr9uvExMRQ3bp1o2QyGfMYAOr06dPtudwmqa6ubvLnSqWSio2NpWxtbamxY8dSPB6PEovFKv+noqKC+vvvv6nFixdTNjY2lIODA7Vq1Srq3r17lEKh6KCzoxnk5eVRAKibN2/WefzDDz+kAgMDG3zOzZs3qZ9++ol6+PAhde3aNWrChAmUqakplZOT0xFLbjPW1taUlpYWde7cOeaxQ4cOUT4+PtSjR4+o/Px8Kjg4mEpMTKQqKyup8PBwKiAggDIxMaGWL19OyWQyKjMzk7KwsKB++OEHiqIo6saNG9Qrr7xCubm5UW+99Rbl5eVFbdy4kVq+fDk1duzYOn++Uqns0PdLINCQCh+B0I4kJCTA3NwcAQEBzGOjR4+GtrZ2na2cl1FWVgZTU9MXhlw++OADWFtbIzAwED/++KNKqwMvizfT0tLC1KlTkZSUBA6Hg4CAAHz33Xcq6T2iKAppaWn44osv4O/vj7feegsSiQTHjh1DdnY29u7diwEDBpBtsA4gODgYc+bMgb+/P4YPH45Tp07BxsYG3377rbqXVofS0lIsXrwYly5dYh4rLCzEO++8Ay6Xi++++w73798HAAQGBoLH48HIyAjW1ta4c+cO3nnnHTg4OODHH3/EtGnT8N9//2Hfvn3Q1dWFo6Mjxo8fj59++gnAc1+96OhorF27FlZWVoiIiMDnn3+Ox48fw87Oro6tEak2E9QFGZkkENoRgUAAW1vbOo/p6urC0tKSiRR7GUVFRdi6desL28Cff/45Xn31VRgZGeHPP//EkiVLUFlZieXLl7fb+luDpaUlDh8+jJCQELz77ruIjY1FREQEvL292/S6FEWhsLAQJ0+eRHR0NOMNuHXrVkycOBHdu3dvp3fQdbG2toaOjg6EQmGdx4VCITgcTrNeQ09PD/369UNaWpoqlthqdHV1kZ6ejjVr1qBnz55M3nF5eTmWLFmCf//9F4cPH4a3tzesra1hZGSEtLQ0eHl54dVXXwWfz8f9+/frRJfR7RcBAQGYOHEiZsyYAYFAAA6HAwcHByxZsoQ5Ni4uDnl5eViwYAEMDAwatX4hEDoKcjtMIDSDDRs2NDg0Ufuf+oasraG8vBzjx4+Hn58fNm/eXOdnGzduxJAhQ9CvXz+sX78e69atw+7du9v8Z7YXr732Gp48eYKAgAAMGTIEu3fvhkwma/HriMViREVFYcqUKfD29sapU6cwZ84c5OXl4bfffsOsWbOI2GsnunXrhgEDBuDq1avMY0qlElevXq3judgUCoUCjx8/hr29vaqW2SpMTExw5MgRCAQCREZGQiKRwNraGunp6TA2NsaKFSuQmJiIX375BQYGBvD09ERiYiKA5ybIWVlZKC8vZ+LKsrKysGfPHty+fRsKhQKjRo3CL7/8AisrK+bPvH//Pt59910MGzYMEyZMwGuvvYYJEyYAIJU9gvohFT4CoRmsWbMG8+bNa/IYd3d3cDicF+ws5HI5SkpKXloxqaiowNixY2FiYoLTp09DT0+vyeODgoKwdetW1NTUvHT7taPo3r07wsLCMGvWLCxYsACnTp3CgQMH0K9fvyafJ5PJcO3aNURHR+P333+Hg4MDQkNDERkZCXd3d/JlqUJWr16NuXPnIiAgAIGBgQgLC4NYLMb8+fMBAHPmzIGjoyN27NgB4HmledCgQfD09IRIJMLu3buRnZ2NhQsXqvNtNIijoyNWrFiB6OhocLlczJs3D35+fjh//jzmz5+POXPmYPv27QgMDKzTirBmzRr89ddfeOONNzBu3DiUl5cjPj4evXv3xvTp06GjowNLS0uEhITU+fN8fHygr6+P8ePHIyYmptlVUgKhIyCCj0BoBjY2Ns2KggsODoZIJML9+/cZk96//voLSqUSQUFBjT6vvLwcY8aMgb6+Pn777bdmGdk+evQIFhYWrBF7tQkKCsKDBw+wY8cOvPbaa3jvvffwySef1LFFUSqVePjwIaKjo3HixAkAwIwZM3D16lUEBASQfrwOYsaMGSgsLMSmTZsgEAjg7++PixcvMlYrz549q/N3UVpaikWLFkEgEMDCwgIDBgzAzZs34efnp6630CQLFixARkYGtmzZgqlTpyIgIACxsbEAgHnz5iEqKgpXr15FdnZ2nYr0zz//jBs3buCvv/5C9+7dceHCBQwcOPCF16+9Vdu9e3eEh4d3zBsjEFoIiVYjENqZN954A0KhEAcPHoRMJsP8+fMREBCAX3/9FQCQl5eHUaNG4ejRowgMDER5eTlef/11VFVV4fTp03W2K21sbKCjo4Pff/8dQqEQgwYNgoGBAS5fvoy1a9di7dq12LJli7rearN4+vQpFi5ciIKCAoSHh8PZ2RkxMTGIjo5Gfn4+Jk2ahJCQELz22mskiYWgEvLy8uDn54cPP/wQAMDn87F+/Xo4Ozvj4sWL+PXXX/HLL79g1qxZOHbsWJMRkAqFgph2Ezol5OpKILQzx44dw9KlSzFq1Choa2tjypQp2L9/P/NzmUwGHo+HqqoqAMCDBw+YCd7aDeLA8wQAV1dX6OnpITIyEqtWrQJFUfD09GQMc9lOz549cf36dURERGDSpElQKBQYM2YMNm7ciEmTJsHY2FjdSyRoMBRFwdHREWvWrMHff/8NqVQKR0dHWFtbA3jee1pVVYVffvmFeYwWe3T1jt7u1dbWJmKP0GkhFT4CgdBhXLlyBTY2NujTpw/pyyN0CLRo4/P52LVrF7755htoa2ujrKwM3bp1Y46rrKwkNx8EjYYIPgKBQCB0CdLS0jB8+HAYGBggPj4ejo6OdX6uUCigra1NbkYIGgkRfAQCgUDoMhQUFLzglUkgdAWI4CMQCARCl4MMXxC6GkTwEQgEAoFAIGg4xOiKQCAQCAQCQcMhgo9AIBAIBAJBwyGCj0AgEJpJZGQkXF1dYWBggKCgINy5c6fJ42NjY+Hj4wMDAwP07t0bFy5c6KCVEggEQl2I4CMQCIRmEB0djdWrV+Ozzz7DgwcP0LdvX4wZM+aF7GSamzdvMpnCDx8+xKRJkzBp0iQ8efKkg1dOIBAIZGiDQCAQmkVQUBAGDhyIiIgIAM+zgJ2cnLBs2TJs2LDhheNnzJgBsViMc+fOMY8NGjQI/v7+OHjwYIetm0AgEABS4SMQCISXIpVKcf/+fYwePZp5TFtbG6NHj0ZCQkKDz0lISKhzPACMGTOm0eMJBAJBlRDBRyBoECUlJQgNDYWpqSnMzc2xYMECVFZWNvmcESNGQEtLq84/ixcvrnPMs2fPMH78eBgZGcHW1hYffvgh5HK5Kt8KqygqKoJCoYCdnV2dx+3s7CAQCBp8jkAgaNHxBAKBoEp01b0AAoHQfoSGhoLP5+Py5cuQyWSYP38+3n33Xfz6669NPm/RokX4/PPPmf83MjJi/luhUGD8+PHgcDi4efMm+Hw+5syZAz09PWzfvl1l74VAIBAI7QcRfASChpCUlISLFy/i7t27CAgIAACEh4dj3Lhx2LNnDxwcHBp9rpGRETgcToM/+/PPP5GYmIgrV67Azs4O/v7+2Lp1K9avX4/NmzfXCaDXVKytraGjowOhUFjncaFQ2Oh543A4LTqeQCAQVAnZ0iUQNISEhASYm5szYg8ARo8eDW1tbdy+fbvJ5x47dgzW1tbo1asXPvroI1RVVdV53d69e9fZnhwzZgzKy8vx9OnT9n8jLKRbt24YMGAArl69yjymVCpx9epVBAcHN/ic4ODgOscDwOXLlxs9nkAgEFQJqfARCBqCQCB4IRReV1cXlpaWTfaNhYSEwMXFBQ4ODvjvv/+wfv168Hg8nDp1inndhnrR6J91FVavXo25c+ciICAAgYGBCAsLg1gsxvz58wEAc+bMgaOjI3bs2AEAWLFiBYYPH46vvvoK48ePR1RUFO7du4dDhw6p820QCIQuChF8BALL2bBhA3bt2tXkMUlJSa1+/XfffZf57969e8Pe3h6jRo1Ceno6PDw8Wv26msaMGTNQWFiITZs2QSAQwN/fHxcvXmTE77Nnz6Ct/X+bJoMHD8avv/6KTz/9FB9//DG8vLxw5swZ9OrVS11vgUAgdGGI4CMQWM6aNWswb968Jo9xd3cHh8N5wQRYLpejpKSkRX1jQUFBAIC0tDR4eHiAw+G8kChB96Z1tX60pUuXYunSpQ3+7Nq1ay88Nm3aNEybNk3FqyIQCISXQwQfgcBybGxsYGNj89LjgoODIRKJcP/+fQwYMAAA8Ndff0GpVDIirjk8evQIAGBvb8+87hdffIGCggJmy/jy5cswNTWFn59fC98NgUAgENQBSdogEDSIN954A0KhEAcPHmRsWQICAhhblry8PIwaNQpHjx5FYGAg0tPT8euvv2LcuHGwsrLCf//9h1WrVqFHjx6Ii4sD8NyWxd/fHw4ODvjyyy8hEAjwzjvvYOHChcSWhUAgEDoJZEqXQNAgjh07Bh8fH4waNQrjxo3DK6+8UmdIQCaTgcfjMVO43bp1w5UrV/D666/Dx8cHa9aswZQpU/D7778zz9HR0cG5c+ego6OD4OBgzJ49G3PmzKnj20cgEAgEdkMqfAQCgUAgEAgaDqnwEQgEAoFAIGg4RPARCAQCgUAgaDhE8BEIBAKBQCBoOETwEQgEAoFAIGg4RPARCAQCgUAgaDhE8BEIBAKBQCBoOETwEQgEAoFAIGg4RPARCAQCgUAgaDhE8BEIBAKBQCBoOETwEQgEAoFAIGg4RPARCAQCgUAgaDhE8BEIBAKBQCBoOETwEQgEAoFAIGg4RPARCAQCgUAgaDhE8BEIBAKBQCBoOETwEQgEAoFAIGg4RPARCAQCgUAgaDhE8BEIBAKBQCBoOETwEQgEAoFAIGg4RPARCAQCgUAgaDhE8BEIBAKBQCBoOETwEQgEAoFAIGg4RPARCAQCgUAgaDhE8BEIBAKBQCBoOETwEQgEAoFAIGg4RPARCAQCgUAgaDhE8BEIBAKBQCBoOETwEQgEAoFAIGg4RPARCAQCgUAgaDhE8BEIBAKBQCBoOETwEQgEAoFAIGg4RPARCAQCgUAgaDhE8BEIBAKBQCBoOETwEQgEAoFAIGg4RPARCAQCgUAgaDhE8BEIBAKBQCBoOETwEQgEAoFAIGg4RPARCAQCgUAgaDhE8BEIBAKBQCBoOETwEQgEAoFAIGg4/w/6+XG1YzORrQAAAABJRU5ErkJggg==\n"
                },
                "metadata": {}
              }
            ]
          }
        },
        "a181557db5634b0cae0d0b8cc4869e53": {
          "model_module": "@jupyter-widgets/base",
          "model_name": "LayoutModel",
          "model_module_version": "1.2.0",
          "state": {
            "_model_module": "@jupyter-widgets/base",
            "_model_module_version": "1.2.0",
            "_model_name": "LayoutModel",
            "_view_count": null,
            "_view_module": "@jupyter-widgets/base",
            "_view_module_version": "1.2.0",
            "_view_name": "LayoutView",
            "align_content": null,
            "align_items": null,
            "align_self": null,
            "border": null,
            "bottom": null,
            "display": null,
            "flex": null,
            "flex_flow": null,
            "grid_area": null,
            "grid_auto_columns": null,
            "grid_auto_flow": null,
            "grid_auto_rows": null,
            "grid_column": null,
            "grid_gap": null,
            "grid_row": null,
            "grid_template_areas": null,
            "grid_template_columns": null,
            "grid_template_rows": null,
            "height": null,
            "justify_content": null,
            "justify_items": null,
            "left": null,
            "margin": null,
            "max_height": null,
            "max_width": null,
            "min_height": null,
            "min_width": null,
            "object_fit": null,
            "object_position": null,
            "order": null,
            "overflow": null,
            "overflow_x": null,
            "overflow_y": null,
            "padding": null,
            "right": null,
            "top": null,
            "visibility": null,
            "width": null
          }
        },
        "c34f77cb3f684294a949af4d09374086": {
          "model_module": "@jupyter-widgets/controls",
          "model_name": "CheckboxModel",
          "model_module_version": "1.5.0",
          "state": {
            "_dom_classes": [],
            "_model_module": "@jupyter-widgets/controls",
            "_model_module_version": "1.5.0",
            "_model_name": "CheckboxModel",
            "_view_count": null,
            "_view_module": "@jupyter-widgets/controls",
            "_view_module_version": "1.5.0",
            "_view_name": "CheckboxView",
            "description": "Show Plot",
            "description_tooltip": null,
            "disabled": false,
            "indent": true,
            "layout": "IPY_MODEL_035626715246403eb1232688969ef551",
            "style": "IPY_MODEL_8649684267ca426c883611f4ad74045e",
            "value": false
          }
        },
        "035626715246403eb1232688969ef551": {
          "model_module": "@jupyter-widgets/base",
          "model_name": "LayoutModel",
          "model_module_version": "1.2.0",
          "state": {
            "_model_module": "@jupyter-widgets/base",
            "_model_module_version": "1.2.0",
            "_model_name": "LayoutModel",
            "_view_count": null,
            "_view_module": "@jupyter-widgets/base",
            "_view_module_version": "1.2.0",
            "_view_name": "LayoutView",
            "align_content": null,
            "align_items": null,
            "align_self": null,
            "border": null,
            "bottom": null,
            "display": null,
            "flex": null,
            "flex_flow": null,
            "grid_area": null,
            "grid_auto_columns": null,
            "grid_auto_flow": null,
            "grid_auto_rows": null,
            "grid_column": null,
            "grid_gap": null,
            "grid_row": null,
            "grid_template_areas": null,
            "grid_template_columns": null,
            "grid_template_rows": null,
            "height": null,
            "justify_content": null,
            "justify_items": null,
            "left": null,
            "margin": null,
            "max_height": null,
            "max_width": null,
            "min_height": null,
            "min_width": null,
            "object_fit": null,
            "object_position": null,
            "order": null,
            "overflow": null,
            "overflow_x": null,
            "overflow_y": null,
            "padding": null,
            "right": null,
            "top": null,
            "visibility": null,
            "width": null
          }
        },
        "8649684267ca426c883611f4ad74045e": {
          "model_module": "@jupyter-widgets/controls",
          "model_name": "DescriptionStyleModel",
          "model_module_version": "1.5.0",
          "state": {
            "_model_module": "@jupyter-widgets/controls",
            "_model_module_version": "1.5.0",
            "_model_name": "DescriptionStyleModel",
            "_view_count": null,
            "_view_module": "@jupyter-widgets/base",
            "_view_module_version": "1.2.0",
            "_view_name": "StyleView",
            "description_width": ""
          }
        },
        "9181ac98780a443fb6d98f276052ddfb": {
          "model_module": "@jupyter-widgets/controls",
          "model_name": "CheckboxModel",
          "model_module_version": "1.5.0",
          "state": {
            "_dom_classes": [],
            "_model_module": "@jupyter-widgets/controls",
            "_model_module_version": "1.5.0",
            "_model_name": "CheckboxModel",
            "_view_count": null,
            "_view_module": "@jupyter-widgets/controls",
            "_view_module_version": "1.5.0",
            "_view_name": "CheckboxView",
            "description": "Show Plot",
            "description_tooltip": null,
            "disabled": false,
            "indent": true,
            "layout": "IPY_MODEL_a07f84da8d5b40d39652685a7c464b8b",
            "style": "IPY_MODEL_6e05cfc1479741adaf1713a0db6f059e",
            "value": false
          }
        },
        "a07f84da8d5b40d39652685a7c464b8b": {
          "model_module": "@jupyter-widgets/base",
          "model_name": "LayoutModel",
          "model_module_version": "1.2.0",
          "state": {
            "_model_module": "@jupyter-widgets/base",
            "_model_module_version": "1.2.0",
            "_model_name": "LayoutModel",
            "_view_count": null,
            "_view_module": "@jupyter-widgets/base",
            "_view_module_version": "1.2.0",
            "_view_name": "LayoutView",
            "align_content": null,
            "align_items": null,
            "align_self": null,
            "border": null,
            "bottom": null,
            "display": null,
            "flex": null,
            "flex_flow": null,
            "grid_area": null,
            "grid_auto_columns": null,
            "grid_auto_flow": null,
            "grid_auto_rows": null,
            "grid_column": null,
            "grid_gap": null,
            "grid_row": null,
            "grid_template_areas": null,
            "grid_template_columns": null,
            "grid_template_rows": null,
            "height": null,
            "justify_content": null,
            "justify_items": null,
            "left": null,
            "margin": null,
            "max_height": null,
            "max_width": null,
            "min_height": null,
            "min_width": null,
            "object_fit": null,
            "object_position": null,
            "order": null,
            "overflow": null,
            "overflow_x": null,
            "overflow_y": null,
            "padding": null,
            "right": null,
            "top": null,
            "visibility": null,
            "width": null
          }
        },
        "6e05cfc1479741adaf1713a0db6f059e": {
          "model_module": "@jupyter-widgets/controls",
          "model_name": "DescriptionStyleModel",
          "model_module_version": "1.5.0",
          "state": {
            "_model_module": "@jupyter-widgets/controls",
            "_model_module_version": "1.5.0",
            "_model_name": "DescriptionStyleModel",
            "_view_count": null,
            "_view_module": "@jupyter-widgets/base",
            "_view_module_version": "1.2.0",
            "_view_name": "StyleView",
            "description_width": ""
          }
        },
        "0d78ff8ed3ab419a82ecdc51bfb394a6": {
          "model_module": "@jupyter-widgets/controls",
          "model_name": "CheckboxModel",
          "model_module_version": "1.5.0",
          "state": {
            "_dom_classes": [],
            "_model_module": "@jupyter-widgets/controls",
            "_model_module_version": "1.5.0",
            "_model_name": "CheckboxModel",
            "_view_count": null,
            "_view_module": "@jupyter-widgets/controls",
            "_view_module_version": "1.5.0",
            "_view_name": "CheckboxView",
            "description": "Show Plot",
            "description_tooltip": null,
            "disabled": false,
            "indent": true,
            "layout": "IPY_MODEL_e0591a6934c94ccc9a0c8ecca03af470",
            "style": "IPY_MODEL_1f5ea77ff69848a486109b8f8e9a4401",
            "value": false
          }
        },
        "e0591a6934c94ccc9a0c8ecca03af470": {
          "model_module": "@jupyter-widgets/base",
          "model_name": "LayoutModel",
          "model_module_version": "1.2.0",
          "state": {
            "_model_module": "@jupyter-widgets/base",
            "_model_module_version": "1.2.0",
            "_model_name": "LayoutModel",
            "_view_count": null,
            "_view_module": "@jupyter-widgets/base",
            "_view_module_version": "1.2.0",
            "_view_name": "LayoutView",
            "align_content": null,
            "align_items": null,
            "align_self": null,
            "border": null,
            "bottom": null,
            "display": null,
            "flex": null,
            "flex_flow": null,
            "grid_area": null,
            "grid_auto_columns": null,
            "grid_auto_flow": null,
            "grid_auto_rows": null,
            "grid_column": null,
            "grid_gap": null,
            "grid_row": null,
            "grid_template_areas": null,
            "grid_template_columns": null,
            "grid_template_rows": null,
            "height": null,
            "justify_content": null,
            "justify_items": null,
            "left": null,
            "margin": null,
            "max_height": null,
            "max_width": null,
            "min_height": null,
            "min_width": null,
            "object_fit": null,
            "object_position": null,
            "order": null,
            "overflow": null,
            "overflow_x": null,
            "overflow_y": null,
            "padding": null,
            "right": null,
            "top": null,
            "visibility": null,
            "width": null
          }
        },
        "1f5ea77ff69848a486109b8f8e9a4401": {
          "model_module": "@jupyter-widgets/controls",
          "model_name": "DescriptionStyleModel",
          "model_module_version": "1.5.0",
          "state": {
            "_model_module": "@jupyter-widgets/controls",
            "_model_module_version": "1.5.0",
            "_model_name": "DescriptionStyleModel",
            "_view_count": null,
            "_view_module": "@jupyter-widgets/base",
            "_view_module_version": "1.2.0",
            "_view_name": "StyleView",
            "description_width": ""
          }
        },
        "d92987fe3dfe494dbe2e2857315517cc": {
          "model_module": "@jupyter-widgets/controls",
          "model_name": "CheckboxModel",
          "model_module_version": "1.5.0",
          "state": {
            "_dom_classes": [],
            "_model_module": "@jupyter-widgets/controls",
            "_model_module_version": "1.5.0",
            "_model_name": "CheckboxModel",
            "_view_count": null,
            "_view_module": "@jupyter-widgets/controls",
            "_view_module_version": "1.5.0",
            "_view_name": "CheckboxView",
            "description": "Show Plot",
            "description_tooltip": null,
            "disabled": false,
            "indent": true,
            "layout": "IPY_MODEL_fac6c8e2ab8147f8bd0c83ef31613198",
            "style": "IPY_MODEL_41d6b39a7c2445528efb67ec18b70ff8",
            "value": false
          }
        },
        "fac6c8e2ab8147f8bd0c83ef31613198": {
          "model_module": "@jupyter-widgets/base",
          "model_name": "LayoutModel",
          "model_module_version": "1.2.0",
          "state": {
            "_model_module": "@jupyter-widgets/base",
            "_model_module_version": "1.2.0",
            "_model_name": "LayoutModel",
            "_view_count": null,
            "_view_module": "@jupyter-widgets/base",
            "_view_module_version": "1.2.0",
            "_view_name": "LayoutView",
            "align_content": null,
            "align_items": null,
            "align_self": null,
            "border": null,
            "bottom": null,
            "display": null,
            "flex": null,
            "flex_flow": null,
            "grid_area": null,
            "grid_auto_columns": null,
            "grid_auto_flow": null,
            "grid_auto_rows": null,
            "grid_column": null,
            "grid_gap": null,
            "grid_row": null,
            "grid_template_areas": null,
            "grid_template_columns": null,
            "grid_template_rows": null,
            "height": null,
            "justify_content": null,
            "justify_items": null,
            "left": null,
            "margin": null,
            "max_height": null,
            "max_width": null,
            "min_height": null,
            "min_width": null,
            "object_fit": null,
            "object_position": null,
            "order": null,
            "overflow": null,
            "overflow_x": null,
            "overflow_y": null,
            "padding": null,
            "right": null,
            "top": null,
            "visibility": null,
            "width": null
          }
        },
        "41d6b39a7c2445528efb67ec18b70ff8": {
          "model_module": "@jupyter-widgets/controls",
          "model_name": "DescriptionStyleModel",
          "model_module_version": "1.5.0",
          "state": {
            "_model_module": "@jupyter-widgets/controls",
            "_model_module_version": "1.5.0",
            "_model_name": "DescriptionStyleModel",
            "_view_count": null,
            "_view_module": "@jupyter-widgets/base",
            "_view_module_version": "1.2.0",
            "_view_name": "StyleView",
            "description_width": ""
          }
        },
        "5c8599553e9749ff80e85de49fc08de6": {
          "model_module": "@jupyter-widgets/controls",
          "model_name": "CheckboxModel",
          "model_module_version": "1.5.0",
          "state": {
            "_dom_classes": [],
            "_model_module": "@jupyter-widgets/controls",
            "_model_module_version": "1.5.0",
            "_model_name": "CheckboxModel",
            "_view_count": null,
            "_view_module": "@jupyter-widgets/controls",
            "_view_module_version": "1.5.0",
            "_view_name": "CheckboxView",
            "description": "Show Plot",
            "description_tooltip": null,
            "disabled": false,
            "indent": true,
            "layout": "IPY_MODEL_d39dba9a775d464f87e159b910e07493",
            "style": "IPY_MODEL_9e54d736c2894804915c0a3771b8a9ab",
            "value": true
          }
        },
        "d39dba9a775d464f87e159b910e07493": {
          "model_module": "@jupyter-widgets/base",
          "model_name": "LayoutModel",
          "model_module_version": "1.2.0",
          "state": {
            "_model_module": "@jupyter-widgets/base",
            "_model_module_version": "1.2.0",
            "_model_name": "LayoutModel",
            "_view_count": null,
            "_view_module": "@jupyter-widgets/base",
            "_view_module_version": "1.2.0",
            "_view_name": "LayoutView",
            "align_content": null,
            "align_items": null,
            "align_self": null,
            "border": null,
            "bottom": null,
            "display": null,
            "flex": null,
            "flex_flow": null,
            "grid_area": null,
            "grid_auto_columns": null,
            "grid_auto_flow": null,
            "grid_auto_rows": null,
            "grid_column": null,
            "grid_gap": null,
            "grid_row": null,
            "grid_template_areas": null,
            "grid_template_columns": null,
            "grid_template_rows": null,
            "height": null,
            "justify_content": null,
            "justify_items": null,
            "left": null,
            "margin": null,
            "max_height": null,
            "max_width": null,
            "min_height": null,
            "min_width": null,
            "object_fit": null,
            "object_position": null,
            "order": null,
            "overflow": null,
            "overflow_x": null,
            "overflow_y": null,
            "padding": null,
            "right": null,
            "top": null,
            "visibility": null,
            "width": null
          }
        },
        "9e54d736c2894804915c0a3771b8a9ab": {
          "model_module": "@jupyter-widgets/controls",
          "model_name": "DescriptionStyleModel",
          "model_module_version": "1.5.0",
          "state": {
            "_model_module": "@jupyter-widgets/controls",
            "_model_module_version": "1.5.0",
            "_model_name": "DescriptionStyleModel",
            "_view_count": null,
            "_view_module": "@jupyter-widgets/base",
            "_view_module_version": "1.2.0",
            "_view_name": "StyleView",
            "description_width": ""
          }
        },
        "5cf1244893374fcdb123df33c0ae8610": {
          "model_module": "@jupyter-widgets/controls",
          "model_name": "CheckboxModel",
          "model_module_version": "1.5.0",
          "state": {
            "_dom_classes": [],
            "_model_module": "@jupyter-widgets/controls",
            "_model_module_version": "1.5.0",
            "_model_name": "CheckboxModel",
            "_view_count": null,
            "_view_module": "@jupyter-widgets/controls",
            "_view_module_version": "1.5.0",
            "_view_name": "CheckboxView",
            "description": "Show Plot",
            "description_tooltip": null,
            "disabled": false,
            "indent": true,
            "layout": "IPY_MODEL_d118f3dfed054dbb8ccdd112e6e4ea82",
            "style": "IPY_MODEL_35701b07e2be4dd1991946a31a4d1a7f",
            "value": true
          }
        },
        "d118f3dfed054dbb8ccdd112e6e4ea82": {
          "model_module": "@jupyter-widgets/base",
          "model_name": "LayoutModel",
          "model_module_version": "1.2.0",
          "state": {
            "_model_module": "@jupyter-widgets/base",
            "_model_module_version": "1.2.0",
            "_model_name": "LayoutModel",
            "_view_count": null,
            "_view_module": "@jupyter-widgets/base",
            "_view_module_version": "1.2.0",
            "_view_name": "LayoutView",
            "align_content": null,
            "align_items": null,
            "align_self": null,
            "border": null,
            "bottom": null,
            "display": null,
            "flex": null,
            "flex_flow": null,
            "grid_area": null,
            "grid_auto_columns": null,
            "grid_auto_flow": null,
            "grid_auto_rows": null,
            "grid_column": null,
            "grid_gap": null,
            "grid_row": null,
            "grid_template_areas": null,
            "grid_template_columns": null,
            "grid_template_rows": null,
            "height": null,
            "justify_content": null,
            "justify_items": null,
            "left": null,
            "margin": null,
            "max_height": null,
            "max_width": null,
            "min_height": null,
            "min_width": null,
            "object_fit": null,
            "object_position": null,
            "order": null,
            "overflow": null,
            "overflow_x": null,
            "overflow_y": null,
            "padding": null,
            "right": null,
            "top": null,
            "visibility": null,
            "width": null
          }
        },
        "35701b07e2be4dd1991946a31a4d1a7f": {
          "model_module": "@jupyter-widgets/controls",
          "model_name": "DescriptionStyleModel",
          "model_module_version": "1.5.0",
          "state": {
            "_model_module": "@jupyter-widgets/controls",
            "_model_module_version": "1.5.0",
            "_model_name": "DescriptionStyleModel",
            "_view_count": null,
            "_view_module": "@jupyter-widgets/base",
            "_view_module_version": "1.2.0",
            "_view_name": "StyleView",
            "description_width": ""
          }
        },
        "7961943c105b463b804e714f6060e4d2": {
          "model_module": "@jupyter-widgets/controls",
          "model_name": "HBoxModel",
          "model_module_version": "1.5.0",
          "state": {
            "_dom_classes": [],
            "_model_module": "@jupyter-widgets/controls",
            "_model_module_version": "1.5.0",
            "_model_name": "HBoxModel",
            "_view_count": null,
            "_view_module": "@jupyter-widgets/controls",
            "_view_module_version": "1.5.0",
            "_view_name": "HBoxView",
            "box_style": "",
            "children": [
              "IPY_MODEL_36cb64c3d937483c93163a49f21930b9",
              "IPY_MODEL_62c642aab67942d3856c2ec003e8a99b",
              "IPY_MODEL_14aa94fb975446fbbf66a786a6987c72",
              "IPY_MODEL_a42e50e92a78412697af70b49d8914bf"
            ],
            "layout": "IPY_MODEL_fca2f383139b45d58a04ac5d18f915cc"
          }
        },
        "36cb64c3d937483c93163a49f21930b9": {
          "model_module": "@jupyter-widgets/controls",
          "model_name": "VBoxModel",
          "model_module_version": "1.5.0",
          "state": {
            "_dom_classes": [],
            "_model_module": "@jupyter-widgets/controls",
            "_model_module_version": "1.5.0",
            "_model_name": "VBoxModel",
            "_view_count": null,
            "_view_module": "@jupyter-widgets/controls",
            "_view_module_version": "1.5.0",
            "_view_name": "VBoxView",
            "box_style": "",
            "children": [
              "IPY_MODEL_6da70a6f9cb749dda8b08645c325bdf6"
            ],
            "layout": "IPY_MODEL_55439a92a9364372b14ed05b9b7730f0"
          }
        },
        "62c642aab67942d3856c2ec003e8a99b": {
          "model_module": "@jupyter-widgets/controls",
          "model_name": "VBoxModel",
          "model_module_version": "1.5.0",
          "state": {
            "_dom_classes": [],
            "_model_module": "@jupyter-widgets/controls",
            "_model_module_version": "1.5.0",
            "_model_name": "VBoxModel",
            "_view_count": null,
            "_view_module": "@jupyter-widgets/controls",
            "_view_module_version": "1.5.0",
            "_view_name": "VBoxView",
            "box_style": "",
            "children": [
              "IPY_MODEL_65391aa63a1a488fb781ef0435ca9029",
              "IPY_MODEL_4ad41f29c0544b17ac813d10838116f5"
            ],
            "layout": "IPY_MODEL_5b1844cc11d84daeba4daa7ed653f627"
          }
        },
        "14aa94fb975446fbbf66a786a6987c72": {
          "model_module": "@jupyter-widgets/controls",
          "model_name": "VBoxModel",
          "model_module_version": "1.5.0",
          "state": {
            "_dom_classes": [],
            "_model_module": "@jupyter-widgets/controls",
            "_model_module_version": "1.5.0",
            "_model_name": "VBoxModel",
            "_view_count": null,
            "_view_module": "@jupyter-widgets/controls",
            "_view_module_version": "1.5.0",
            "_view_name": "VBoxView",
            "box_style": "",
            "children": [
              "IPY_MODEL_cec919e52a35482d987669d33c75a52a",
              "IPY_MODEL_e42cbc4873b5480381a17c9dbffe0c89"
            ],
            "layout": "IPY_MODEL_413245e058084e5d9f7cfe9ded57d19f"
          }
        },
        "a42e50e92a78412697af70b49d8914bf": {
          "model_module": "@jupyter-widgets/controls",
          "model_name": "VBoxModel",
          "model_module_version": "1.5.0",
          "state": {
            "_dom_classes": [],
            "_model_module": "@jupyter-widgets/controls",
            "_model_module_version": "1.5.0",
            "_model_name": "VBoxModel",
            "_view_count": null,
            "_view_module": "@jupyter-widgets/controls",
            "_view_module_version": "1.5.0",
            "_view_name": "VBoxView",
            "box_style": "",
            "children": [
              "IPY_MODEL_ddea0a671d0e49f19b3a06ea91f8f0eb"
            ],
            "layout": "IPY_MODEL_82e7ba39026649f3a5a233385ad615f6"
          }
        },
        "fca2f383139b45d58a04ac5d18f915cc": {
          "model_module": "@jupyter-widgets/base",
          "model_name": "LayoutModel",
          "model_module_version": "1.2.0",
          "state": {
            "_model_module": "@jupyter-widgets/base",
            "_model_module_version": "1.2.0",
            "_model_name": "LayoutModel",
            "_view_count": null,
            "_view_module": "@jupyter-widgets/base",
            "_view_module_version": "1.2.0",
            "_view_name": "LayoutView",
            "align_content": null,
            "align_items": null,
            "align_self": null,
            "border": null,
            "bottom": null,
            "display": null,
            "flex": null,
            "flex_flow": null,
            "grid_area": null,
            "grid_auto_columns": null,
            "grid_auto_flow": null,
            "grid_auto_rows": null,
            "grid_column": null,
            "grid_gap": null,
            "grid_row": null,
            "grid_template_areas": null,
            "grid_template_columns": null,
            "grid_template_rows": null,
            "height": null,
            "justify_content": null,
            "justify_items": null,
            "left": null,
            "margin": null,
            "max_height": null,
            "max_width": null,
            "min_height": null,
            "min_width": null,
            "object_fit": null,
            "object_position": null,
            "order": null,
            "overflow": null,
            "overflow_x": null,
            "overflow_y": null,
            "padding": null,
            "right": null,
            "top": null,
            "visibility": null,
            "width": null
          }
        },
        "6da70a6f9cb749dda8b08645c325bdf6": {
          "model_module": "@jupyter-widgets/controls",
          "model_name": "FloatSliderModel",
          "model_module_version": "1.5.0",
          "state": {
            "_dom_classes": [],
            "_model_module": "@jupyter-widgets/controls",
            "_model_module_version": "1.5.0",
            "_model_name": "FloatSliderModel",
            "_view_count": null,
            "_view_module": "@jupyter-widgets/controls",
            "_view_module_version": "1.5.0",
            "_view_name": "FloatSliderView",
            "continuous_update": true,
            "description": "Eta (Const):",
            "description_tooltip": null,
            "disabled": false,
            "layout": "IPY_MODEL_b57490e517de4b4da84c1609cf1dc6f5",
            "max": 0.4,
            "min": 0,
            "orientation": "horizontal",
            "readout": true,
            "readout_format": ".2f",
            "step": 0.01,
            "style": "IPY_MODEL_5fea2c4c701046ac8e2051867b77726b",
            "value": 0.2
          }
        },
        "55439a92a9364372b14ed05b9b7730f0": {
          "model_module": "@jupyter-widgets/base",
          "model_name": "LayoutModel",
          "model_module_version": "1.2.0",
          "state": {
            "_model_module": "@jupyter-widgets/base",
            "_model_module_version": "1.2.0",
            "_model_name": "LayoutModel",
            "_view_count": null,
            "_view_module": "@jupyter-widgets/base",
            "_view_module_version": "1.2.0",
            "_view_name": "LayoutView",
            "align_content": null,
            "align_items": null,
            "align_self": null,
            "border": null,
            "bottom": null,
            "display": null,
            "flex": null,
            "flex_flow": null,
            "grid_area": null,
            "grid_auto_columns": null,
            "grid_auto_flow": null,
            "grid_auto_rows": null,
            "grid_column": null,
            "grid_gap": null,
            "grid_row": null,
            "grid_template_areas": null,
            "grid_template_columns": null,
            "grid_template_rows": null,
            "height": null,
            "justify_content": null,
            "justify_items": null,
            "left": null,
            "margin": null,
            "max_height": null,
            "max_width": null,
            "min_height": null,
            "min_width": null,
            "object_fit": null,
            "object_position": null,
            "order": null,
            "overflow": null,
            "overflow_x": null,
            "overflow_y": null,
            "padding": null,
            "right": null,
            "top": null,
            "visibility": null,
            "width": null
          }
        },
        "65391aa63a1a488fb781ef0435ca9029": {
          "model_module": "@jupyter-widgets/controls",
          "model_name": "FloatSliderModel",
          "model_module_version": "1.5.0",
          "state": {
            "_dom_classes": [],
            "_model_module": "@jupyter-widgets/controls",
            "_model_module_version": "1.5.0",
            "_model_name": "FloatSliderModel",
            "_view_count": null,
            "_view_module": "@jupyter-widgets/controls",
            "_view_module_version": "1.5.0",
            "_view_name": "FloatSliderView",
            "continuous_update": true,
            "description": "Eta (Inv):",
            "description_tooltip": null,
            "disabled": false,
            "layout": "IPY_MODEL_6bb78205343f4155bd5498aeea8c858d",
            "max": 0.4,
            "min": 0,
            "orientation": "horizontal",
            "readout": true,
            "readout_format": ".2f",
            "step": 0.001,
            "style": "IPY_MODEL_f1046c833a874800b1dce60579f879b8",
            "value": 0.1
          }
        },
        "4ad41f29c0544b17ac813d10838116f5": {
          "model_module": "@jupyter-widgets/controls",
          "model_name": "FloatSliderModel",
          "model_module_version": "1.5.0",
          "state": {
            "_dom_classes": [],
            "_model_module": "@jupyter-widgets/controls",
            "_model_module_version": "1.5.0",
            "_model_name": "FloatSliderModel",
            "_view_count": null,
            "_view_module": "@jupyter-widgets/controls",
            "_view_module_version": "1.5.0",
            "_view_name": "FloatSliderView",
            "continuous_update": true,
            "description": "Lambda (Inv):",
            "description_tooltip": null,
            "disabled": false,
            "layout": "IPY_MODEL_baaaa56ad2a14bceb3ce99a0a6c116e4",
            "max": 1,
            "min": 0,
            "orientation": "horizontal",
            "readout": true,
            "readout_format": ".2f",
            "step": 0.001,
            "style": "IPY_MODEL_e52fd6b667664a319373340f3a9acec3",
            "value": 0.742
          }
        },
        "5b1844cc11d84daeba4daa7ed653f627": {
          "model_module": "@jupyter-widgets/base",
          "model_name": "LayoutModel",
          "model_module_version": "1.2.0",
          "state": {
            "_model_module": "@jupyter-widgets/base",
            "_model_module_version": "1.2.0",
            "_model_name": "LayoutModel",
            "_view_count": null,
            "_view_module": "@jupyter-widgets/base",
            "_view_module_version": "1.2.0",
            "_view_name": "LayoutView",
            "align_content": null,
            "align_items": null,
            "align_self": null,
            "border": null,
            "bottom": null,
            "display": null,
            "flex": null,
            "flex_flow": null,
            "grid_area": null,
            "grid_auto_columns": null,
            "grid_auto_flow": null,
            "grid_auto_rows": null,
            "grid_column": null,
            "grid_gap": null,
            "grid_row": null,
            "grid_template_areas": null,
            "grid_template_columns": null,
            "grid_template_rows": null,
            "height": null,
            "justify_content": null,
            "justify_items": null,
            "left": null,
            "margin": null,
            "max_height": null,
            "max_width": null,
            "min_height": null,
            "min_width": null,
            "object_fit": null,
            "object_position": null,
            "order": null,
            "overflow": null,
            "overflow_x": null,
            "overflow_y": null,
            "padding": null,
            "right": null,
            "top": null,
            "visibility": null,
            "width": null
          }
        },
        "cec919e52a35482d987669d33c75a52a": {
          "model_module": "@jupyter-widgets/controls",
          "model_name": "FloatSliderModel",
          "model_module_version": "1.5.0",
          "state": {
            "_dom_classes": [],
            "_model_module": "@jupyter-widgets/controls",
            "_model_module_version": "1.5.0",
            "_model_name": "FloatSliderModel",
            "_view_count": null,
            "_view_module": "@jupyter-widgets/controls",
            "_view_module_version": "1.5.0",
            "_view_name": "FloatSliderView",
            "continuous_update": true,
            "description": "Eta (Exp):",
            "description_tooltip": null,
            "disabled": false,
            "layout": "IPY_MODEL_64d3ba634deb4966a4ebc127d3aeac47",
            "max": 0.4,
            "min": 0,
            "orientation": "horizontal",
            "readout": true,
            "readout_format": ".2f",
            "step": 0.001,
            "style": "IPY_MODEL_788384ce1c604c09a84d4c04cc04cf93",
            "value": 0.25
          }
        },
        "e42cbc4873b5480381a17c9dbffe0c89": {
          "model_module": "@jupyter-widgets/controls",
          "model_name": "FloatSliderModel",
          "model_module_version": "1.5.0",
          "state": {
            "_dom_classes": [],
            "_model_module": "@jupyter-widgets/controls",
            "_model_module_version": "1.5.0",
            "_model_name": "FloatSliderModel",
            "_view_count": null,
            "_view_module": "@jupyter-widgets/controls",
            "_view_module_version": "1.5.0",
            "_view_name": "FloatSliderView",
            "continuous_update": true,
            "description": "Lambda (Exp):",
            "description_tooltip": null,
            "disabled": false,
            "layout": "IPY_MODEL_15aa63d4d5324f1998ec0a23e0366547",
            "max": 1,
            "min": 0,
            "orientation": "horizontal",
            "readout": true,
            "readout_format": ".2f",
            "step": 0.001,
            "style": "IPY_MODEL_431d0c6e6ea6494685e6a69342022856",
            "value": 0.01
          }
        },
        "413245e058084e5d9f7cfe9ded57d19f": {
          "model_module": "@jupyter-widgets/base",
          "model_name": "LayoutModel",
          "model_module_version": "1.2.0",
          "state": {
            "_model_module": "@jupyter-widgets/base",
            "_model_module_version": "1.2.0",
            "_model_name": "LayoutModel",
            "_view_count": null,
            "_view_module": "@jupyter-widgets/base",
            "_view_module_version": "1.2.0",
            "_view_name": "LayoutView",
            "align_content": null,
            "align_items": null,
            "align_self": null,
            "border": null,
            "bottom": null,
            "display": null,
            "flex": null,
            "flex_flow": null,
            "grid_area": null,
            "grid_auto_columns": null,
            "grid_auto_flow": null,
            "grid_auto_rows": null,
            "grid_column": null,
            "grid_gap": null,
            "grid_row": null,
            "grid_template_areas": null,
            "grid_template_columns": null,
            "grid_template_rows": null,
            "height": null,
            "justify_content": null,
            "justify_items": null,
            "left": null,
            "margin": null,
            "max_height": null,
            "max_width": null,
            "min_height": null,
            "min_width": null,
            "object_fit": null,
            "object_position": null,
            "order": null,
            "overflow": null,
            "overflow_x": null,
            "overflow_y": null,
            "padding": null,
            "right": null,
            "top": null,
            "visibility": null,
            "width": null
          }
        },
        "ddea0a671d0e49f19b3a06ea91f8f0eb": {
          "model_module": "@jupyter-widgets/controls",
          "model_name": "FloatSliderModel",
          "model_module_version": "1.5.0",
          "state": {
            "_dom_classes": [],
            "_model_module": "@jupyter-widgets/controls",
            "_model_module_version": "1.5.0",
            "_model_name": "FloatSliderModel",
            "_view_count": null,
            "_view_module": "@jupyter-widgets/controls",
            "_view_module_version": "1.5.0",
            "_view_name": "FloatSliderView",
            "continuous_update": true,
            "description": "Eta (Norm):",
            "description_tooltip": null,
            "disabled": false,
            "layout": "IPY_MODEL_795ad0768b1843269bbc11535291fc69",
            "max": 1,
            "min": 0,
            "orientation": "horizontal",
            "readout": true,
            "readout_format": ".2f",
            "step": 0.001,
            "style": "IPY_MODEL_62ca4aa05d644936a7de9478c6ca8510",
            "value": 0.3
          }
        },
        "82e7ba39026649f3a5a233385ad615f6": {
          "model_module": "@jupyter-widgets/base",
          "model_name": "LayoutModel",
          "model_module_version": "1.2.0",
          "state": {
            "_model_module": "@jupyter-widgets/base",
            "_model_module_version": "1.2.0",
            "_model_name": "LayoutModel",
            "_view_count": null,
            "_view_module": "@jupyter-widgets/base",
            "_view_module_version": "1.2.0",
            "_view_name": "LayoutView",
            "align_content": null,
            "align_items": null,
            "align_self": null,
            "border": null,
            "bottom": null,
            "display": null,
            "flex": null,
            "flex_flow": null,
            "grid_area": null,
            "grid_auto_columns": null,
            "grid_auto_flow": null,
            "grid_auto_rows": null,
            "grid_column": null,
            "grid_gap": null,
            "grid_row": null,
            "grid_template_areas": null,
            "grid_template_columns": null,
            "grid_template_rows": null,
            "height": null,
            "justify_content": null,
            "justify_items": null,
            "left": null,
            "margin": null,
            "max_height": null,
            "max_width": null,
            "min_height": null,
            "min_width": null,
            "object_fit": null,
            "object_position": null,
            "order": null,
            "overflow": null,
            "overflow_x": null,
            "overflow_y": null,
            "padding": null,
            "right": null,
            "top": null,
            "visibility": null,
            "width": null
          }
        },
        "b57490e517de4b4da84c1609cf1dc6f5": {
          "model_module": "@jupyter-widgets/base",
          "model_name": "LayoutModel",
          "model_module_version": "1.2.0",
          "state": {
            "_model_module": "@jupyter-widgets/base",
            "_model_module_version": "1.2.0",
            "_model_name": "LayoutModel",
            "_view_count": null,
            "_view_module": "@jupyter-widgets/base",
            "_view_module_version": "1.2.0",
            "_view_name": "LayoutView",
            "align_content": null,
            "align_items": null,
            "align_self": null,
            "border": null,
            "bottom": null,
            "display": null,
            "flex": null,
            "flex_flow": null,
            "grid_area": null,
            "grid_auto_columns": null,
            "grid_auto_flow": null,
            "grid_auto_rows": null,
            "grid_column": null,
            "grid_gap": null,
            "grid_row": null,
            "grid_template_areas": null,
            "grid_template_columns": null,
            "grid_template_rows": null,
            "height": null,
            "justify_content": null,
            "justify_items": null,
            "left": null,
            "margin": null,
            "max_height": null,
            "max_width": null,
            "min_height": null,
            "min_width": null,
            "object_fit": null,
            "object_position": null,
            "order": null,
            "overflow": null,
            "overflow_x": null,
            "overflow_y": null,
            "padding": null,
            "right": null,
            "top": null,
            "visibility": null,
            "width": null
          }
        },
        "5fea2c4c701046ac8e2051867b77726b": {
          "model_module": "@jupyter-widgets/controls",
          "model_name": "SliderStyleModel",
          "model_module_version": "1.5.0",
          "state": {
            "_model_module": "@jupyter-widgets/controls",
            "_model_module_version": "1.5.0",
            "_model_name": "SliderStyleModel",
            "_view_count": null,
            "_view_module": "@jupyter-widgets/base",
            "_view_module_version": "1.2.0",
            "_view_name": "StyleView",
            "description_width": "",
            "handle_color": null
          }
        },
        "6bb78205343f4155bd5498aeea8c858d": {
          "model_module": "@jupyter-widgets/base",
          "model_name": "LayoutModel",
          "model_module_version": "1.2.0",
          "state": {
            "_model_module": "@jupyter-widgets/base",
            "_model_module_version": "1.2.0",
            "_model_name": "LayoutModel",
            "_view_count": null,
            "_view_module": "@jupyter-widgets/base",
            "_view_module_version": "1.2.0",
            "_view_name": "LayoutView",
            "align_content": null,
            "align_items": null,
            "align_self": null,
            "border": null,
            "bottom": null,
            "display": null,
            "flex": null,
            "flex_flow": null,
            "grid_area": null,
            "grid_auto_columns": null,
            "grid_auto_flow": null,
            "grid_auto_rows": null,
            "grid_column": null,
            "grid_gap": null,
            "grid_row": null,
            "grid_template_areas": null,
            "grid_template_columns": null,
            "grid_template_rows": null,
            "height": null,
            "justify_content": null,
            "justify_items": null,
            "left": null,
            "margin": null,
            "max_height": null,
            "max_width": null,
            "min_height": null,
            "min_width": null,
            "object_fit": null,
            "object_position": null,
            "order": null,
            "overflow": null,
            "overflow_x": null,
            "overflow_y": null,
            "padding": null,
            "right": null,
            "top": null,
            "visibility": null,
            "width": null
          }
        },
        "f1046c833a874800b1dce60579f879b8": {
          "model_module": "@jupyter-widgets/controls",
          "model_name": "SliderStyleModel",
          "model_module_version": "1.5.0",
          "state": {
            "_model_module": "@jupyter-widgets/controls",
            "_model_module_version": "1.5.0",
            "_model_name": "SliderStyleModel",
            "_view_count": null,
            "_view_module": "@jupyter-widgets/base",
            "_view_module_version": "1.2.0",
            "_view_name": "StyleView",
            "description_width": "",
            "handle_color": null
          }
        },
        "baaaa56ad2a14bceb3ce99a0a6c116e4": {
          "model_module": "@jupyter-widgets/base",
          "model_name": "LayoutModel",
          "model_module_version": "1.2.0",
          "state": {
            "_model_module": "@jupyter-widgets/base",
            "_model_module_version": "1.2.0",
            "_model_name": "LayoutModel",
            "_view_count": null,
            "_view_module": "@jupyter-widgets/base",
            "_view_module_version": "1.2.0",
            "_view_name": "LayoutView",
            "align_content": null,
            "align_items": null,
            "align_self": null,
            "border": null,
            "bottom": null,
            "display": null,
            "flex": null,
            "flex_flow": null,
            "grid_area": null,
            "grid_auto_columns": null,
            "grid_auto_flow": null,
            "grid_auto_rows": null,
            "grid_column": null,
            "grid_gap": null,
            "grid_row": null,
            "grid_template_areas": null,
            "grid_template_columns": null,
            "grid_template_rows": null,
            "height": null,
            "justify_content": null,
            "justify_items": null,
            "left": null,
            "margin": null,
            "max_height": null,
            "max_width": null,
            "min_height": null,
            "min_width": null,
            "object_fit": null,
            "object_position": null,
            "order": null,
            "overflow": null,
            "overflow_x": null,
            "overflow_y": null,
            "padding": null,
            "right": null,
            "top": null,
            "visibility": null,
            "width": null
          }
        },
        "e52fd6b667664a319373340f3a9acec3": {
          "model_module": "@jupyter-widgets/controls",
          "model_name": "SliderStyleModel",
          "model_module_version": "1.5.0",
          "state": {
            "_model_module": "@jupyter-widgets/controls",
            "_model_module_version": "1.5.0",
            "_model_name": "SliderStyleModel",
            "_view_count": null,
            "_view_module": "@jupyter-widgets/base",
            "_view_module_version": "1.2.0",
            "_view_name": "StyleView",
            "description_width": "",
            "handle_color": null
          }
        },
        "64d3ba634deb4966a4ebc127d3aeac47": {
          "model_module": "@jupyter-widgets/base",
          "model_name": "LayoutModel",
          "model_module_version": "1.2.0",
          "state": {
            "_model_module": "@jupyter-widgets/base",
            "_model_module_version": "1.2.0",
            "_model_name": "LayoutModel",
            "_view_count": null,
            "_view_module": "@jupyter-widgets/base",
            "_view_module_version": "1.2.0",
            "_view_name": "LayoutView",
            "align_content": null,
            "align_items": null,
            "align_self": null,
            "border": null,
            "bottom": null,
            "display": null,
            "flex": null,
            "flex_flow": null,
            "grid_area": null,
            "grid_auto_columns": null,
            "grid_auto_flow": null,
            "grid_auto_rows": null,
            "grid_column": null,
            "grid_gap": null,
            "grid_row": null,
            "grid_template_areas": null,
            "grid_template_columns": null,
            "grid_template_rows": null,
            "height": null,
            "justify_content": null,
            "justify_items": null,
            "left": null,
            "margin": null,
            "max_height": null,
            "max_width": null,
            "min_height": null,
            "min_width": null,
            "object_fit": null,
            "object_position": null,
            "order": null,
            "overflow": null,
            "overflow_x": null,
            "overflow_y": null,
            "padding": null,
            "right": null,
            "top": null,
            "visibility": null,
            "width": null
          }
        },
        "788384ce1c604c09a84d4c04cc04cf93": {
          "model_module": "@jupyter-widgets/controls",
          "model_name": "SliderStyleModel",
          "model_module_version": "1.5.0",
          "state": {
            "_model_module": "@jupyter-widgets/controls",
            "_model_module_version": "1.5.0",
            "_model_name": "SliderStyleModel",
            "_view_count": null,
            "_view_module": "@jupyter-widgets/base",
            "_view_module_version": "1.2.0",
            "_view_name": "StyleView",
            "description_width": "",
            "handle_color": null
          }
        },
        "15aa63d4d5324f1998ec0a23e0366547": {
          "model_module": "@jupyter-widgets/base",
          "model_name": "LayoutModel",
          "model_module_version": "1.2.0",
          "state": {
            "_model_module": "@jupyter-widgets/base",
            "_model_module_version": "1.2.0",
            "_model_name": "LayoutModel",
            "_view_count": null,
            "_view_module": "@jupyter-widgets/base",
            "_view_module_version": "1.2.0",
            "_view_name": "LayoutView",
            "align_content": null,
            "align_items": null,
            "align_self": null,
            "border": null,
            "bottom": null,
            "display": null,
            "flex": null,
            "flex_flow": null,
            "grid_area": null,
            "grid_auto_columns": null,
            "grid_auto_flow": null,
            "grid_auto_rows": null,
            "grid_column": null,
            "grid_gap": null,
            "grid_row": null,
            "grid_template_areas": null,
            "grid_template_columns": null,
            "grid_template_rows": null,
            "height": null,
            "justify_content": null,
            "justify_items": null,
            "left": null,
            "margin": null,
            "max_height": null,
            "max_width": null,
            "min_height": null,
            "min_width": null,
            "object_fit": null,
            "object_position": null,
            "order": null,
            "overflow": null,
            "overflow_x": null,
            "overflow_y": null,
            "padding": null,
            "right": null,
            "top": null,
            "visibility": null,
            "width": null
          }
        },
        "431d0c6e6ea6494685e6a69342022856": {
          "model_module": "@jupyter-widgets/controls",
          "model_name": "SliderStyleModel",
          "model_module_version": "1.5.0",
          "state": {
            "_model_module": "@jupyter-widgets/controls",
            "_model_module_version": "1.5.0",
            "_model_name": "SliderStyleModel",
            "_view_count": null,
            "_view_module": "@jupyter-widgets/base",
            "_view_module_version": "1.2.0",
            "_view_name": "StyleView",
            "description_width": "",
            "handle_color": null
          }
        },
        "795ad0768b1843269bbc11535291fc69": {
          "model_module": "@jupyter-widgets/base",
          "model_name": "LayoutModel",
          "model_module_version": "1.2.0",
          "state": {
            "_model_module": "@jupyter-widgets/base",
            "_model_module_version": "1.2.0",
            "_model_name": "LayoutModel",
            "_view_count": null,
            "_view_module": "@jupyter-widgets/base",
            "_view_module_version": "1.2.0",
            "_view_name": "LayoutView",
            "align_content": null,
            "align_items": null,
            "align_self": null,
            "border": null,
            "bottom": null,
            "display": null,
            "flex": null,
            "flex_flow": null,
            "grid_area": null,
            "grid_auto_columns": null,
            "grid_auto_flow": null,
            "grid_auto_rows": null,
            "grid_column": null,
            "grid_gap": null,
            "grid_row": null,
            "grid_template_areas": null,
            "grid_template_columns": null,
            "grid_template_rows": null,
            "height": null,
            "justify_content": null,
            "justify_items": null,
            "left": null,
            "margin": null,
            "max_height": null,
            "max_width": null,
            "min_height": null,
            "min_width": null,
            "object_fit": null,
            "object_position": null,
            "order": null,
            "overflow": null,
            "overflow_x": null,
            "overflow_y": null,
            "padding": null,
            "right": null,
            "top": null,
            "visibility": null,
            "width": null
          }
        },
        "62ca4aa05d644936a7de9478c6ca8510": {
          "model_module": "@jupyter-widgets/controls",
          "model_name": "SliderStyleModel",
          "model_module_version": "1.5.0",
          "state": {
            "_model_module": "@jupyter-widgets/controls",
            "_model_module_version": "1.5.0",
            "_model_name": "SliderStyleModel",
            "_view_count": null,
            "_view_module": "@jupyter-widgets/base",
            "_view_module_version": "1.2.0",
            "_view_name": "StyleView",
            "description_width": "",
            "handle_color": null
          }
        },
        "d5c89afb836e430195c6464281ac2b0b": {
          "model_module": "@jupyter-widgets/controls",
          "model_name": "CheckboxModel",
          "model_module_version": "1.5.0",
          "state": {
            "_dom_classes": [],
            "_model_module": "@jupyter-widgets/controls",
            "_model_module_version": "1.5.0",
            "_model_name": "CheckboxModel",
            "_view_count": null,
            "_view_module": "@jupyter-widgets/controls",
            "_view_module_version": "1.5.0",
            "_view_name": "CheckboxView",
            "description": "Show Plot",
            "description_tooltip": null,
            "disabled": false,
            "indent": true,
            "layout": "IPY_MODEL_8b85940761df4302a343f4121f6e7595",
            "style": "IPY_MODEL_1e9f4d2a10f54f11b51e13b5daab84bb",
            "value": true
          }
        },
        "8b85940761df4302a343f4121f6e7595": {
          "model_module": "@jupyter-widgets/base",
          "model_name": "LayoutModel",
          "model_module_version": "1.2.0",
          "state": {
            "_model_module": "@jupyter-widgets/base",
            "_model_module_version": "1.2.0",
            "_model_name": "LayoutModel",
            "_view_count": null,
            "_view_module": "@jupyter-widgets/base",
            "_view_module_version": "1.2.0",
            "_view_name": "LayoutView",
            "align_content": null,
            "align_items": null,
            "align_self": null,
            "border": null,
            "bottom": null,
            "display": null,
            "flex": null,
            "flex_flow": null,
            "grid_area": null,
            "grid_auto_columns": null,
            "grid_auto_flow": null,
            "grid_auto_rows": null,
            "grid_column": null,
            "grid_gap": null,
            "grid_row": null,
            "grid_template_areas": null,
            "grid_template_columns": null,
            "grid_template_rows": null,
            "height": null,
            "justify_content": null,
            "justify_items": null,
            "left": null,
            "margin": null,
            "max_height": null,
            "max_width": null,
            "min_height": null,
            "min_width": null,
            "object_fit": null,
            "object_position": null,
            "order": null,
            "overflow": null,
            "overflow_x": null,
            "overflow_y": null,
            "padding": null,
            "right": null,
            "top": null,
            "visibility": null,
            "width": null
          }
        },
        "1e9f4d2a10f54f11b51e13b5daab84bb": {
          "model_module": "@jupyter-widgets/controls",
          "model_name": "DescriptionStyleModel",
          "model_module_version": "1.5.0",
          "state": {
            "_model_module": "@jupyter-widgets/controls",
            "_model_module_version": "1.5.0",
            "_model_name": "DescriptionStyleModel",
            "_view_count": null,
            "_view_module": "@jupyter-widgets/base",
            "_view_module_version": "1.2.0",
            "_view_name": "StyleView",
            "description_width": ""
          }
        },
        "89ac40528c9a4dfba0f7dfc890808a2d": {
          "model_module": "@jupyter-widgets/output",
          "model_name": "OutputModel",
          "model_module_version": "1.0.0",
          "state": {
            "_dom_classes": [],
            "_model_module": "@jupyter-widgets/output",
            "_model_module_version": "1.0.0",
            "_model_name": "OutputModel",
            "_view_count": null,
            "_view_module": "@jupyter-widgets/output",
            "_view_module_version": "1.0.0",
            "_view_name": "OutputView",
            "layout": "IPY_MODEL_3ca6fef7997a4aed86584df3a3419169",
            "msg_id": "",
            "outputs": [
              {
                "output_type": "display_data",
                "data": {
                  "text/plain": "<Figure size 1000x500 with 1 Axes>",
                  "image/png": "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\n"
                },
                "metadata": {}
              }
            ]
          }
        },
        "3ca6fef7997a4aed86584df3a3419169": {
          "model_module": "@jupyter-widgets/base",
          "model_name": "LayoutModel",
          "model_module_version": "1.2.0",
          "state": {
            "_model_module": "@jupyter-widgets/base",
            "_model_module_version": "1.2.0",
            "_model_name": "LayoutModel",
            "_view_count": null,
            "_view_module": "@jupyter-widgets/base",
            "_view_module_version": "1.2.0",
            "_view_name": "LayoutView",
            "align_content": null,
            "align_items": null,
            "align_self": null,
            "border": null,
            "bottom": null,
            "display": null,
            "flex": null,
            "flex_flow": null,
            "grid_area": null,
            "grid_auto_columns": null,
            "grid_auto_flow": null,
            "grid_auto_rows": null,
            "grid_column": null,
            "grid_gap": null,
            "grid_row": null,
            "grid_template_areas": null,
            "grid_template_columns": null,
            "grid_template_rows": null,
            "height": null,
            "justify_content": null,
            "justify_items": null,
            "left": null,
            "margin": null,
            "max_height": null,
            "max_width": null,
            "min_height": null,
            "min_width": null,
            "object_fit": null,
            "object_position": null,
            "order": null,
            "overflow": null,
            "overflow_x": null,
            "overflow_y": null,
            "padding": null,
            "right": null,
            "top": null,
            "visibility": null,
            "width": null
          }
        }
      }
    }
  },
  "nbformat": 4,
  "nbformat_minor": 0
}